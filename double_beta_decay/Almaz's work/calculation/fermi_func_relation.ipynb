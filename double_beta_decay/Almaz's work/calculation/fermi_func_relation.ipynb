{
 "cells": [
  {
   "cell_type": "code",
   "execution_count": 1,
   "metadata": {},
   "outputs": [
    {
     "name": "stdout",
     "output_type": "stream",
     "text": [
      "Populating the interactive namespace from numpy and matplotlib\n"
     ]
    }
   ],
   "source": [
    "import math\n",
    "import numpy as np\n",
    "import pandas as pd\n",
    "import scipy as sc\n",
    "import matplotlib.pyplot as plt\n",
    "%pylab inline"
   ]
  },
  {
   "cell_type": "code",
   "execution_count": 2,
   "metadata": {},
   "outputs": [],
   "source": [
    "Z_76As=33"
   ]
  },
  {
   "cell_type": "markdown",
   "metadata": {},
   "source": [
    "Привиденная энергия вылетающего электрона: $\\epsilon_e = \\frac{E_{\\nu}-Q_k}{m_e} + 1$"
   ]
  },
  {
   "cell_type": "code",
   "execution_count": 3,
   "metadata": {},
   "outputs": [],
   "source": [
    "def e_e_func(E_nu, E_k, Q_EC):\n",
    "    #Считаем привиденную энергию вылетающего электрона. Если энергия налетающего нейтрино E_nu\n",
    "    #меньше порога, возвращаем 0 для обнуления итогового сечения\n",
    "    #E_nu in MeV\n",
    "    q=Q_k_func(E_k, Q_EC) #порог реакции\n",
    "    if E_nu>q: return 1+(E_nu-q)/0.511\n",
    "    else: return 0 "
   ]
  },
  {
   "cell_type": "markdown",
   "metadata": {},
   "source": [
    "Привиденный импульс электрона: $\\pi_e=\\sqrt{\\epsilon_e^2 -1}$"
   ]
  },
  {
   "cell_type": "code",
   "execution_count": 4,
   "metadata": {},
   "outputs": [],
   "source": [
    "def Pi_e_func(e_e):\n",
    "    #Привиденный импульс электрона, вычисляется через привиденную энергию; ** означает степень  \n",
    "    if e_e>1: return math.sqrt(e_e**2 - 1)\n",
    "    else: return 0"
   ]
  },
  {
   "cell_type": "markdown",
   "metadata": {},
   "source": [
    "Ферми функция по Бакалу: $F(Z, {\\epsilon}_e)= \\frac{y}{1-e^{-y}}$, где $ {y} = \\frac{2{\\pi}Z\\alpha \\epsilon_e}{\\pi_e} $"
   ]
  },
  {
   "cell_type": "code",
   "execution_count": 5,
   "metadata": {},
   "outputs": [],
   "source": [
    "def Columb_func_Bahcall(Pi_e, Z, e_e):\n",
    "    #ферми функция по Бакалу\n",
    "    if Pi_e>0:\n",
    "        y_k=(2*math.pi*Z*e_e)/(Pi_e*137)\n",
    "        return y_k/(1-math.exp(-y_k))\n",
    "    else: return 0"
   ]
  },
  {
   "cell_type": "markdown",
   "metadata": {},
   "source": [
    "Ферми функция из таблиц Суслова"
   ]
  },
  {
   "cell_type": "code",
   "execution_count": 6,
   "metadata": {},
   "outputs": [],
   "source": [
    "Fermi_func_data = pd.read_csv('../../fermi_func_tables/Interp.csv')\n",
    "#Fermi_func.info()\n",
    "\n",
    "def Fermi_func(e_e):\n",
    "    #input привиденная энергия электрона\n",
    "    return np.interp(x = e_e*0.511, xp = Fermi_func_data['E_meV'], \n",
    "                     fp = Fermi_func_data['F_value'])"
   ]
  },
  {
   "cell_type": "code",
   "execution_count": 7,
   "metadata": {},
   "outputs": [],
   "source": [
    "e_e = np.linspace(0,10)\n",
    "pi_e = [Pi_e_func(elem) for elem in e_e]\n",
    "Bahcall = [Columb_func_Bahcall(pi_value, Z_76As, e_value) for (pi_value, e_value) in \n",
    "          zip(pi_e, e_e)]\n",
    "Suslov = Fermi_func(e_e-0.5)"
   ]
  },
  {
   "cell_type": "code",
   "execution_count": 8,
   "metadata": {},
   "outputs": [
    {
     "data": {
      "image/png": "[encoded data removed]",
      "text/plain": [
       "<matplotlib.figure.Figure at 0x7f70f550d3c8>"
      ]
     },
     "metadata": {},
     "output_type": "display_data"
    }
   ],
   "source": [
    "plt.figure(figsize=(12,5))\n",
    "plt.scatter(e_e, Suslov, marker='x', label='Suslov fermi function')\n",
    "plt.scatter(e_e, Bahcall, marker='o', label='Bahcall fermi function')\n",
    "plt.legend()\n",
    "plt.xlabel('$E_e$, outgoing electron energy in $mc^2$ units')\n",
    "plt.ylabel('Fermi function value')\n",
    "plt.grid()\n",
    "plt.show()"
   ]
  },
  {
   "cell_type": "code",
   "execution_count": 9,
   "metadata": {},
   "outputs": [
    {
     "name": "stdout",
     "output_type": "stream",
     "text": [
      "(0.0, 0.0)\n",
      "(0.20408163265306123, 0.0)\n",
      "(0.40816326530612246, 0.0)\n",
      "(0.61224489795918369, 0.0)\n",
      "(0.81632653061224492, 0.0)\n",
      "(1.0204081632653061, 0.0)\n",
      "(1.2244897959183674, 2.9417214285714284)\n",
      "(1.4285714285714286, 2.8259500000000002)\n",
      "(1.6326530612244898, 2.7460014285714287)\n",
      "(1.8367346938775511, 2.6874642857142854)\n",
      "(2.0408163265306123, 2.6420571428571429)\n",
      "(2.2448979591836737, 2.6056742857142856)\n",
      "(2.4489795918367347, 2.5751399999999998)\n",
      "(2.6530612244897958, 2.5479528571428571)\n",
      "(2.8571428571428572, 2.5251449999999998)\n",
      "(3.0612244897959187, 2.5054185714285713)\n",
      "(3.2653061224489797, 2.4869085714285712)\n",
      "(3.4693877551020407, 2.4703964285714286)\n",
      "(3.6734693877551021, 2.4549699999999999)\n",
      "(3.8775510204081636, 2.4406292857142855)\n",
      "(4.0816326530612246, 2.4273742857142859)\n",
      "(4.2857142857142856, 2.4152050000000003)\n",
      "(4.4897959183673475, 2.4039275)\n",
      "(4.6938775510204085, 2.3929775000000002)\n",
      "(4.8979591836734695, 2.3822642857142853)\n",
      "(5.1020408163265305, 2.371835714285714)\n",
      "(5.3061224489795915, 2.3619664285714288)\n",
      "(5.5102040816326534, 2.3525807142857142)\n",
      "(5.7142857142857144, 2.3435174999999999)\n",
      "(5.9183673469387754, 2.3346532142857144)\n",
      "(6.1224489795918373, 2.3261542857142858)\n",
      "(6.3265306122448983, 2.3178114285714289)\n",
      "(6.5306122448979593, 2.3094685714285714)\n",
      "(6.7346938775510203, 2.3011257142857144)\n",
      "(6.9387755102040813, 2.2932339285714285)\n",
      "(7.1428571428571432, 2.2854125000000001)\n",
      "(7.3469387755102042, 2.2780849999999999)\n",
      "(7.5510204081632653, 2.2707850000000001)\n",
      "(7.7551020408163271, 2.2634850000000002)\n",
      "(7.9591836734693882, 2.2562432142857141)\n",
      "(8.1632653061224492, 2.2494646428571428)\n",
      "(8.3673469387755102, 2.242746714285714)\n",
      "(8.5714285714285712, 2.236281)\n",
      "(8.7755102040816322, 2.2298152857142859)\n",
      "(8.979591836734695, 2.2233495714285718)\n",
      "(9.183673469387756, 2.2168838571428573)\n",
      "(9.387755102040817, 2.2105014285714284)\n",
      "(9.591836734693878, 2.2042442857142857)\n",
      "(9.795918367346939, 2.1979871428571429)\n",
      "(10.0, 2.1917299999999997)\n"
     ]
    }
   ],
   "source": [
    "for elem in zip(e_e, Suslov): print(elem)"
   ]
  },
  {
   "cell_type": "code",
   "execution_count": null,
   "metadata": {},
   "outputs": [],
   "source": []
  },
  {
   "cell_type": "code",
   "execution_count": null,
   "metadata": {},
   "outputs": [],
   "source": []
  },
  {
   "cell_type": "code",
   "execution_count": null,
   "metadata": {},
   "outputs": [],
   "source": []
  },
  {
   "cell_type": "code",
   "execution_count": 10,
   "metadata": {},
   "outputs": [
    {
     "name": "stderr",
     "output_type": "stream",
     "text": [
      "/usr/local/lib/python3.5/dist-packages/ipykernel_launcher.py:1: RuntimeWarning: invalid value encountered in true_divide\n",
      "  \"\"\"Entry point for launching an IPython kernel.\n"
     ]
    }
   ],
   "source": [
    "relation = Suslov / Bahcall"
   ]
  },
  {
   "cell_type": "code",
   "execution_count": 11,
   "metadata": {},
   "outputs": [
    {
     "data": {
      "image/png": "[encoded data removed]",
      "text/plain": [
       "<matplotlib.figure.Figure at 0x7f70f3456208>"
      ]
     },
     "metadata": {},
     "output_type": "display_data"
    }
   ],
   "source": [
    "plt.scatter(e_e, relation)\n",
    "plt.xlabel('$E_e$, outgoing electron energy')\n",
    "plt.ylabel('Suslov / Bahcall')\n",
    "plt.grid()\n",
    "plt.show()"
   ]
  },
  {
   "cell_type": "markdown",
   "metadata": {},
   "source": [
    "### B(GT) data processing"
   ]
  },
  {
   "cell_type": "code",
   "execution_count": 12,
   "metadata": {},
   "outputs": [
    {
     "name": "stdout",
     "output_type": "stream",
     "text": [
      "<class 'pandas.core.frame.DataFrame'>\n",
      "RangeIndex: 76 entries, 0 to 75\n",
      "Data columns (total 11 columns):\n",
      "Unnamed: 0             0 non-null float64\n",
      "Ex                     76 non-null float64\n",
      "Jpi                    76 non-null object\n",
      "diff cross-sec         73 non-null object\n",
      "GT                     0 non-null float64\n",
      "B(GT)                  73 non-null object\n",
      "Unnamed: 6             0 non-null float64\n",
      "B(GT)_full             73 non-null float64\n",
      "Unnamed: 8             0 non-null float64\n",
      "B(GT)_true             73 non-null float64\n",
      "diff cross-sec true    73 non-null float64\n",
      "dtypes: float64(8), object(3)\n",
      "memory usage: 6.6+ KB\n"
     ]
    }
   ],
   "source": [
    "BGT=pd.read_csv('../B(GT) peaks processing/data_from_B(GT)_table.csv') #таблица со значениями B(GT)\n",
    "BGT.info()"
   ]
  },
  {
   "cell_type": "code",
   "execution_count": 13,
   "metadata": {},
   "outputs": [
    {
     "data": {
      "text/html": [
       "<div>\n",
       "<style>\n",
       "    .dataframe thead tr:only-child th {\n",
       "        text-align: right;\n",
       "    }\n",
       "\n",
       "    .dataframe thead th {\n",
       "        text-align: left;\n",
       "    }\n",
       "\n",
       "    .dataframe tbody tr th {\n",
       "        vertical-align: top;\n",
       "    }\n",
       "</style>\n",
       "<table border=\"1\" class=\"dataframe\">\n",
       "  <thead>\n",
       "    <tr style=\"text-align: right;\">\n",
       "      <th></th>\n",
       "      <th>Unnamed: 0</th>\n",
       "      <th>Ex</th>\n",
       "      <th>Jpi</th>\n",
       "      <th>diff cross-sec</th>\n",
       "      <th>GT</th>\n",
       "      <th>B(GT)</th>\n",
       "      <th>Unnamed: 6</th>\n",
       "      <th>B(GT)_full</th>\n",
       "      <th>Unnamed: 8</th>\n",
       "      <th>B(GT)_true</th>\n",
       "      <th>diff cross-sec true</th>\n",
       "    </tr>\n",
       "  </thead>\n",
       "  <tbody>\n",
       "    <tr>\n",
       "      <th>0</th>\n",
       "      <td>NaN</td>\n",
       "      <td>0.0</td>\n",
       "      <td>2−</td>\n",
       "      <td>NaN</td>\n",
       "      <td>NaN</td>\n",
       "      <td>NaN</td>\n",
       "      <td>NaN</td>\n",
       "      <td>NaN</td>\n",
       "      <td>NaN</td>\n",
       "      <td>NaN</td>\n",
       "      <td>NaN</td>\n",
       "    </tr>\n",
       "    <tr>\n",
       "      <th>1</th>\n",
       "      <td>NaN</td>\n",
       "      <td>86.0</td>\n",
       "      <td>1</td>\n",
       "      <td>1.173(19)</td>\n",
       "      <td>NaN</td>\n",
       "      <td>1.20(13)</td>\n",
       "      <td>NaN</td>\n",
       "      <td>1.2013</td>\n",
       "      <td>NaN</td>\n",
       "      <td>1.20</td>\n",
       "      <td>1.173</td>\n",
       "    </tr>\n",
       "    <tr>\n",
       "      <th>2</th>\n",
       "      <td>NaN</td>\n",
       "      <td>120.0</td>\n",
       "      <td>1</td>\n",
       "      <td>0.318(7)</td>\n",
       "      <td>NaN</td>\n",
       "      <td>0.33(3)</td>\n",
       "      <td>NaN</td>\n",
       "      <td>0.3330</td>\n",
       "      <td>NaN</td>\n",
       "      <td>0.33</td>\n",
       "      <td>0.318</td>\n",
       "    </tr>\n",
       "    <tr>\n",
       "      <th>3</th>\n",
       "      <td>NaN</td>\n",
       "      <td>265.0</td>\n",
       "      <td>1</td>\n",
       "      <td>0.113(3)</td>\n",
       "      <td>NaN</td>\n",
       "      <td>0.10(2)</td>\n",
       "      <td>NaN</td>\n",
       "      <td>0.1020</td>\n",
       "      <td>NaN</td>\n",
       "      <td>0.10</td>\n",
       "      <td>0.113</td>\n",
       "    </tr>\n",
       "    <tr>\n",
       "      <th>4</th>\n",
       "      <td>NaN</td>\n",
       "      <td>363.0</td>\n",
       "      <td>2−</td>\n",
       "      <td>NaN</td>\n",
       "      <td>NaN</td>\n",
       "      <td>NaN</td>\n",
       "      <td>NaN</td>\n",
       "      <td>NaN</td>\n",
       "      <td>NaN</td>\n",
       "      <td>NaN</td>\n",
       "      <td>NaN</td>\n",
       "    </tr>\n",
       "  </tbody>\n",
       "</table>\n",
       "</div>"
      ],
      "text/plain": [
       "   Unnamed: 0     Ex Jpi diff cross-sec  GT      B(GT)  Unnamed: 6  \\\n",
       "0         NaN    0.0  2−            NaN NaN        NaN         NaN   \n",
       "1         NaN   86.0   1     1.173(19)  NaN   1.20(13)         NaN   \n",
       "2         NaN  120.0   1       0.318(7) NaN    0.33(3)         NaN   \n",
       "3         NaN  265.0   1       0.113(3) NaN    0.10(2)         NaN   \n",
       "4         NaN  363.0  2−            NaN NaN        NaN         NaN   \n",
       "\n",
       "   B(GT)_full  Unnamed: 8  B(GT)_true  diff cross-sec true  \n",
       "0         NaN         NaN         NaN                  NaN  \n",
       "1      1.2013         NaN        1.20                1.173  \n",
       "2      0.3330         NaN        0.33                0.318  \n",
       "3      0.1020         NaN        0.10                0.113  \n",
       "4         NaN         NaN         NaN                  NaN  "
      ]
     },
     "execution_count": 13,
     "metadata": {},
     "output_type": "execute_result"
    }
   ],
   "source": [
    "BGT.head()"
   ]
  },
  {
   "cell_type": "code",
   "execution_count": 14,
   "metadata": {},
   "outputs": [],
   "source": [
    "BGT.dropna(subset=['B(GT)'], how='any', inplace=True)"
   ]
  },
  {
   "cell_type": "code",
   "execution_count": 15,
   "metadata": {},
   "outputs": [],
   "source": [
    "BGT = BGT[BGT['Jpi']=='1']"
   ]
  },
  {
   "cell_type": "code",
   "execution_count": 16,
   "metadata": {},
   "outputs": [],
   "source": [
    "#BGT_list = [float( x.split('(')[0] ) for x in BGT['B(GT)'].values]\n",
    "#cross_sec = [float( x.split('(')[0] ) for x in BGT['diff cross-sec'].values]\n",
    "\n",
    "#BGT_list = np.array(BGT_list)/10\n",
    "#cross_sec = np.array(cross_sec)\n",
    "BGT_list = BGT['B(GT)_true'].values/10\n",
    "cross_sec = BGT['diff cross-sec true'].values"
   ]
  },
  {
   "cell_type": "code",
   "execution_count": 17,
   "metadata": {},
   "outputs": [
    {
     "name": "stdout",
     "output_type": "stream",
     "text": [
      "-0.000369212945112 10.9862271548\n"
     ]
    }
   ],
   "source": [
    "line_fit_coef = np.polyfit(BGT['Ex'].values, cross_sec/BGT_list, deg = 1)\n",
    "print(line_fit_coef[0], line_fit_coef[1])"
   ]
  },
  {
   "cell_type": "code",
   "execution_count": 18,
   "metadata": {},
   "outputs": [
    {
     "data": {
      "text/plain": [
       "<matplotlib.text.Text at 0x7f70f3374eb8>"
      ]
     },
     "execution_count": 18,
     "metadata": {},
     "output_type": "execute_result"
    },
    {
     "data": {
      "image/png": "[encoded data removed]",
      "text/plain": [
       "<matplotlib.figure.Figure at 0x7f70f3347a20>"
      ]
     },
     "metadata": {},
     "output_type": "display_data"
    }
   ],
   "source": [
    "x = np.arange(0, 5100, 100)\n",
    "y = line_fit_coef[0]*x + line_fit_coef[1\n",
    "                                      ]\n",
    "plt.scatter(BGT['Ex'].values, cross_sec/BGT_list)\n",
    "plt.plot(x, y, c='green',ls='-.')\n",
    "#plt.ylabel('$\\frac{d\\sigma / d\\Omega}{B(GT)}$', rotation=0, labelpad=20)\n",
    "plt.ylabel(r'$ \\frac{d\\sigma / d\\Omega}{B(GT)}$', fontsize=20, rotation=0, labelpad=30)\n",
    "plt.xlabel('$E_x$, KeV')"
   ]
  },
  {
   "cell_type": "code",
   "execution_count": 19,
   "metadata": {},
   "outputs": [
    {
     "name": "stdout",
     "output_type": "stream",
     "text": [
      "(86.0, 9.7750000000000004, 1.173, 0.12)\n",
      "(120.0, 9.6363636363636367, 0.318, 0.033000000000000002)\n",
      "(265.0, 11.300000000000001, 0.113, 0.01)\n",
      "(513.79999999999995, 10.211267605633804, 0.72499999999999998, 0.070999999999999994)\n",
      "(864.0, 11.359999999999998, 0.28399999999999997, 0.025000000000000001)\n",
      "(936.0, 11.611111111111111, 0.20899999999999999, 0.017999999999999999)\n",
      "(1063.0, 9.0441176470588225, 1.23, 0.13600000000000001)\n",
      "(1098.0, 10.466666666666667, 0.157, 0.014999999999999999)\n",
      "(1157.0, 8.8392857142857135, 0.495, 0.056000000000000008)\n",
      "(1235.0, 10.642857142857141, 0.29799999999999999, 0.028000000000000004)\n",
      "(1353.0, 9.9193548387096779, 0.61499999999999999, 0.062)\n",
      "(1475.0, 12.380952380952383, 0.26000000000000001, 0.020999999999999998)\n",
      "(1693.0, 9.204081632653061, 0.45100000000000001, 0.049000000000000002)\n",
      "(1718.0, 9.615384615384615, 0.125, 0.013000000000000001)\n",
      "(1792.0, 12.23076923076923, 0.159, 0.013000000000000001)\n",
      "(1852.0, 9.8787878787878789, 0.32600000000000001, 0.033000000000000002)\n",
      "(1902.0, 8.4222222222222225, 0.379, 0.044999999999999998)\n",
      "(1987.0, 9.4000000000000004, 0.094, 0.01)\n",
      "(2041.0, 8.8333333333333321, 0.052999999999999999, 0.0060000000000000001)\n",
      "(2154.0, 10.416666666666666, 0.125, 0.012)\n",
      "(2338.0, 9.6842105263157894, 0.184, 0.019)\n",
      "(2449.0, 12.333333333333334, 0.111, 0.0089999999999999993)\n",
      "(2537.0, 9.1951219512195141, 0.377, 0.040999999999999995)\n",
      "(2604.0, 10.515151515151516, 0.34700000000000003, 0.033000000000000002)\n",
      "(2657.0, 12.0, 0.096000000000000002, 0.0080000000000000002)\n",
      "(2688.0, 9.3846153846153832, 0.122, 0.013000000000000001)\n",
      "(2716.0, 14.000000000000002, 0.126, 0.0089999999999999993)\n",
      "(2763.0, 12.375, 0.099000000000000005, 0.0080000000000000002)\n",
      "(2791.0, 9.5, 0.13300000000000001, 0.014000000000000002)\n",
      "(2819.0, 17.25, 0.069000000000000006, 0.0040000000000000001)\n",
      "(2882.0, 9.6500000000000004, 0.193, 0.02)\n",
      "(2918.0, 9.7272727272727284, 0.107, 0.010999999999999999)\n",
      "(2940.0, 9.5675675675675667, 0.35399999999999998, 0.036999999999999998)\n",
      "(3024.0, 9.1538461538461533, 0.23800000000000002, 0.026000000000000002)\n",
      "(3257.0, 10.777777777777777, 0.096999999999999989, 0.0089999999999999993)\n",
      "(3482.0, 9.7272727272727284, 0.107, 0.010999999999999999)\n",
      "(3504.0, 8.8571428571428559, 0.062, 0.007000000000000001)\n",
      "(3540.0, 9.1999999999999993, 0.23000000000000001, 0.025000000000000001)\n",
      "(3589.0, 8.7708333333333339, 0.42100000000000004, 0.048000000000000001)\n",
      "(3634.0, 9.6363636363636367, 0.106, 0.010999999999999999)\n",
      "(3695.0, 9.4583333333333321, 0.22699999999999998, 0.024)\n",
      "(3798.0, 8.6190476190476204, 0.18100000000000002, 0.020999999999999998)\n",
      "(3848.0, 8.3207547169811313, 0.441, 0.053000000000000005)\n",
      "(3932.0, 8.4545454545454568, 0.18600000000000003, 0.021999999999999999)\n",
      "(4034.0, 9.1538461538461533, 0.11900000000000001, 0.013000000000000001)\n",
      "(4071.0, 8.8518518518518512, 0.23899999999999999, 0.027000000000000003)\n",
      "(4109.0, 13.0, 0.052000000000000005, 0.0040000000000000001)\n",
      "(4179.0, 8.5833333333333339, 0.10300000000000001, 0.012)\n",
      "(4218.0, 8.2857142857142847, 0.11599999999999999, 0.014000000000000002)\n",
      "(4268.0, 8.6470588235294112, 0.29399999999999998, 0.034000000000000002)\n",
      "(4306.0, 8.9047619047619051, 0.187, 0.020999999999999998)\n",
      "(4466.0, 9.4000000000000004, 0.094, 0.01)\n",
      "(4499.0, 8.7894736842105257, 0.16699999999999998, 0.019)\n",
      "(4536.0, 9.1666666666666661, 0.055, 0.0060000000000000001)\n",
      "(4668.0, 11.5, 0.045999999999999999, 0.0040000000000000001)\n",
      "(4699.0, 8.0526315789473681, 0.153, 0.019)\n",
      "(4738.0, 8.5624999999999982, 0.13699999999999998, 0.016)\n",
      "(4801.0, 8.7000000000000011, 0.26100000000000001, 0.029999999999999999)\n",
      "(4841.0, 8.3571428571428559, 0.23399999999999999, 0.028000000000000004)\n",
      "(4941.0, 8.4166666666666661, 0.10099999999999999, 0.012)\n",
      "(4978.0, 9.4375, 0.151, 0.016)\n"
     ]
    }
   ],
   "source": [
    "for elem in zip(BGT['Ex'].values, cross_sec/BGT_list, cross_sec, BGT_list): \n",
    "    print(elem)"
   ]
  },
  {
   "cell_type": "code",
   "execution_count": null,
   "metadata": {},
   "outputs": [],
   "source": []
  },
  {
   "cell_type": "code",
   "execution_count": 20,
   "metadata": {},
   "outputs": [
    {
     "data": {
      "text/plain": [
       "15.440000000000001"
      ]
     },
     "execution_count": 20,
     "metadata": {},
     "output_type": "execute_result"
    }
   ],
   "source": [
    "sum(BGT_list*10)"
   ]
  },
  {
   "cell_type": "code",
   "execution_count": 21,
   "metadata": {},
   "outputs": [
    {
     "data": {
      "text/plain": [
       "15.5693"
      ]
     },
     "execution_count": 21,
     "metadata": {},
     "output_type": "execute_result"
    }
   ],
   "source": [
    "sum(BGT['B(GT)_full'].values)"
   ]
  },
  {
   "cell_type": "code",
   "execution_count": 22,
   "metadata": {},
   "outputs": [
    {
     "data": {
      "text/plain": [
       "14.712"
      ]
     },
     "execution_count": 22,
     "metadata": {},
     "output_type": "execute_result"
    }
   ],
   "source": [
    "sum(cross_sec)"
   ]
  },
  {
   "cell_type": "markdown",
   "metadata": {},
   "source": [
    "### Fermi-function from Numerical Tables for Beta-Decay and Electron Capture"
   ]
  },
  {
   "cell_type": "code",
   "execution_count": 23,
   "metadata": {},
   "outputs": [
    {
     "name": "stdout",
     "output_type": "stream",
     "text": [
      "<class 'pandas.core.frame.DataFrame'>\n",
      "RangeIndex: 49 entries, 0 to 48\n",
      "Data columns (total 14 columns):\n",
      "P              49 non-null float64\n",
      "F0L0           49 non-null float64\n",
      "L0             48 non-null object\n",
      "1z             48 non-null float64\n",
      "13             48 non-null float64\n",
      "ELECTRON\n",
      "14    48 non-null float64\n",
      "Z= 33\n",
      "Izt      48 non-null float64\n",
      "A= 77          48 non-null float64\n",
      "A,             48 non-null float64\n",
      "A2             48 non-null float64\n",
      "VI2            48 non-null float64\n",
      "912            48 non-null float64\n",
      "12             48 non-null float64\n",
      "Unnamed: 13    48 non-null float64\n",
      "dtypes: float64(13), object(1)\n",
      "memory usage: 5.4+ KB\n"
     ]
    }
   ],
   "source": [
    "Fermi_func_new_data = pd.read_excel('../../fermi_func_tables/from_1968/13.xlsx')\n",
    "Fermi_func_new_data.info()"
   ]
  },
  {
   "cell_type": "code",
   "execution_count": 24,
   "metadata": {},
   "outputs": [
    {
     "name": "stderr",
     "output_type": "stream",
     "text": [
      "/usr/local/lib/python3.5/dist-packages/matplotlib/axes/_axes.py:545: UserWarning: No labelled objects found. Use label='...' kwarg on individual plots.\n",
      "  warnings.warn(\"No labelled objects found. \"\n"
     ]
    },
    {
     "data": {
      "image/png": "[encoded data removed]",
      "text/plain": [
       "<matplotlib.figure.Figure at 0x7f70f342e5c0>"
      ]
     },
     "metadata": {},
     "output_type": "display_data"
    }
   ],
   "source": [
    "\n",
    "plt.figure(figsize=(12,5))\n",
    "plt.scatter(Fermi_func_new_data['P'].values, Fermi_func_new_data['F0L0'].values,\n",
    "            marker='x')\n",
    "plt.legend()\n",
    "plt.xlabel('$E_e$, outgoing electron energy in $mc^2$ units')\n",
    "plt.ylabel('Fermi function value')\n",
    "plt.grid()\n",
    "plt.show()"
   ]
  },
  {
   "cell_type": "code",
   "execution_count": null,
   "metadata": {},
   "outputs": [],
   "source": []
  }
 ],
 "metadata": {
  "kernelspec": {
   "display_name": "Python 3",
   "language": "python",
   "name": "python3"
  },
  "language_info": {
   "codemirror_mode": {
    "name": "ipython",
    "version": 3
   },
   "file_extension": ".py",
   "mimetype": "text/x-python",
   "name": "python",
   "nbconvert_exporter": "python",
   "pygments_lexer": "ipython3",
   "version": "3.5.2"
  }
 },
 "nbformat": 4,
 "nbformat_minor": 2
}

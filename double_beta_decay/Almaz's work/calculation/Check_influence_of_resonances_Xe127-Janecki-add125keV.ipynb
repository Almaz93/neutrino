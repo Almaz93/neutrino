{
 "cells": [
  {
   "cell_type": "code",
   "execution_count": 2,
   "metadata": {},
   "outputs": [
    {
     "name": "stdout",
     "output_type": "stream",
     "text": [
      "Populating the interactive namespace from numpy and matplotlib\n"
     ]
    },
    {
     "name": "stderr",
     "output_type": "stream",
     "text": [
      "/home/almaz/miniconda3/envs/science/lib/python3.9/site-packages/IPython/core/magics/pylab.py:159: UserWarning: pylab import has clobbered these variables: ['trapz']\n",
      "`%matplotlib` prevents importing * from pylab and numpy\n",
      "  warn(\"pylab import has clobbered these variables: %s\"  % clobbered +\n"
     ]
    }
   ],
   "source": [
    "import math\n",
    "import numpy as np\n",
    "import pandas as pd\n",
    "import scipy as sc\n",
    "\n",
    "import matplotlib.pyplot as plt\n",
    "from scipy.integrate import quad, trapz, simps, cumtrapz\n",
    "\n",
    "from scipy.interpolate import interp1d\n",
    "\n",
    "from matplotlib import gridspec\n",
    "%pylab inline"
   ]
  },
  {
   "cell_type": "markdown",
   "metadata": {},
   "source": [
    "### Расчет"
   ]
  },
  {
   "cell_type": "markdown",
   "metadata": {},
   "source": [
    "Некоторые константы"
   ]
  },
  {
   "cell_type": "code",
   "execution_count": 3,
   "metadata": {},
   "outputs": [],
   "source": [
    "Q_EC_127Xe=0.662 #in MeV\n",
    "Z_127Xe=54\n",
    "\n",
    "g_a_g_v=1.297 #ratio of vector and axial coupling constants\n",
    "\n",
    "BS05_OP_pep_ampl=1.42e8\n",
    "pep_en=1.442 #MeV\n",
    "\n",
    "Be384_en = 0.384 #Mev \n",
    "Be862_en = 0.862 #Mev\n",
    "\n",
    "S_n = 7.246 #энергия отрыва нейтрона\n",
    "\n",
    "total_GT = 53.54\n",
    "#total_GT = 63"
   ]
  },
  {
   "cell_type": "markdown",
   "metadata": {},
   "source": [
    "Функция для расчета порога реакции"
   ]
  },
  {
   "cell_type": "code",
   "execution_count": 4,
   "metadata": {},
   "outputs": [],
   "source": [
    "def Q_k_func(E_k, Q_EC):\n",
    "    #Считаем порог реакции, E_k - энергия возбужденного состояния в BGT\n",
    "    #E_k in KeV\n",
    "    return Q_EC+E_k/1000"
   ]
  },
  {
   "cell_type": "markdown",
   "metadata": {},
   "source": [
    "Привиденная энергия вылетающего электрона: $\\epsilon_e = \\frac{E_{\\nu}-Q_k}{m_e} + 1$"
   ]
  },
  {
   "cell_type": "code",
   "execution_count": 5,
   "metadata": {},
   "outputs": [],
   "source": [
    "def e_e_func(E_nu, E_k, Q_EC):\n",
    "    #Считаем привиденную энергию вылетающего электрона. Если энергия налетающего нейтрино E_nu\n",
    "    #меньше порога, возвращаем 0 для обнуления итогового сечения\n",
    "    #E_nu in MeV\n",
    "    q=Q_k_func(E_k, Q_EC) #порог реакции\n",
    "    if E_nu>q: return 1+(E_nu-q)/0.511\n",
    "    else: return 0 "
   ]
  },
  {
   "cell_type": "markdown",
   "metadata": {},
   "source": [
    "Привиденный импульс электрона: $\\pi_e=\\sqrt{\\epsilon_e^2 -1}$"
   ]
  },
  {
   "cell_type": "code",
   "execution_count": 6,
   "metadata": {},
   "outputs": [],
   "source": [
    "def Pi_e_func(e_e):\n",
    "    #Привиденный импульс электрона, вычисляется через привиденную энергию; ** означает степень  \n",
    "    if e_e>1: return math.sqrt(e_e**2 - 1)\n",
    "    else: return 0"
   ]
  },
  {
   "cell_type": "code",
   "execution_count": 7,
   "metadata": {},
   "outputs": [],
   "source": [
    "def integrate_func(a, b, x, y):\n",
    "    return np.sum( np.interp(x=np.arange(a, b, 0.001), xp=x, fp=y ) * 0.001 )"
   ]
  },
  {
   "cell_type": "code",
   "execution_count": 8,
   "metadata": {},
   "outputs": [],
   "source": [
    "Janecki_Z54 = pd.read_excel('../../fermi_func_tables/from_1968/Janecki Z54.xls')\n",
    "\n",
    "def Janecki_func2(e_e, Janecki_data=Janecki_Z54):\n",
    "    #input привиденная энергия электрона \n",
    "    e_e3 = np.sqrt( np.square( Janecki_data['p0'].values ) + 1 )\n",
    "    return np.interp(x = e_e, xp = e_e3, \n",
    "                     fp = Janecki_data['Value'])\n",
    "\n",
    "def Janecki_func(e_e, Janecki_data=Janecki_Z54):\n",
    "    #input привиденная энергия электрона \n",
    "    e_e3 = np.sqrt( np.square( Janecki_data['p0'].values ) + 1 )\n",
    "    f = interp1d(x=e_e3, y= Janecki_data['Value'], kind='linear', fill_value='extrapolate')\n",
    "    return f(e_e)"
   ]
  },
  {
   "cell_type": "code",
   "execution_count": null,
   "metadata": {},
   "outputs": [],
   "source": []
  },
  {
   "cell_type": "code",
   "execution_count": null,
   "metadata": {},
   "outputs": [],
   "source": []
  },
  {
   "cell_type": "markdown",
   "metadata": {},
   "source": [
    "### BS05_OP flux"
   ]
  },
  {
   "cell_type": "code",
   "execution_count": 9,
   "metadata": {},
   "outputs": [],
   "source": [
    "BS05OP_Be = 4.84e9\n",
    "BS05OP_pp = 5.99e10\n",
    "BS05OP_pep = 1.42e8\n",
    "BS05OP_hep = 7.93e3\n",
    "BS05OP_B = 5.69e6\n",
    "BS05OP_N = 3.07e8\n",
    "BS05OP_0 = 2.33e8\n",
    "BS05OP_F = 5.84e6"
   ]
  },
  {
   "cell_type": "code",
   "execution_count": 10,
   "metadata": {},
   "outputs": [],
   "source": [
    "#B16-GS98 - high metallicity\n",
    "B16_GS98_Be = 4.93e9\n",
    "B16_GS98_pp = 5.98e10\n",
    "B16_GS98_pep = 1.44e8\n",
    "B16_GS98_hep = 7.98e3\n",
    "B16_GS98_B = 5.46e6 \n",
    "B16_GS98_N = 2.78e8\n",
    "B16_GS98_0 = 2.05e8\n",
    "B16_GS98_F = 5.29e6"
   ]
  },
  {
   "cell_type": "code",
   "execution_count": 11,
   "metadata": {},
   "outputs": [],
   "source": [
    "#B16-AGSS09met - low metallicity\n",
    "B16_AGSS09met_Be = 4.50e9\n",
    "B16_AGSS09met_pp = 6.03e10\n",
    "B16_AGSS09met_pep = 1.46e8\n",
    "B16_AGSS09met_hep = 8.25e3\n",
    "B16_AGSS09met_B = 4.50e6 \n",
    "B16_AGSS09met_N = 2.04e8\n",
    "B16_AGSS09met_0 = 1.44e8\n",
    "B16_AGSS09met_F = 3.26e6"
   ]
  },
  {
   "cell_type": "code",
   "execution_count": null,
   "metadata": {},
   "outputs": [],
   "source": []
  },
  {
   "cell_type": "code",
   "execution_count": 12,
   "metadata": {},
   "outputs": [],
   "source": [
    "step_all_fluxes = 0.001 #MeV\n",
    "Energy_all_fluxes = np.arange(0,20,step_all_fluxes)"
   ]
  },
  {
   "cell_type": "code",
   "execution_count": 13,
   "metadata": {},
   "outputs": [],
   "source": [
    "def return_flux(pp_ampl, hep_ampl, B_ampl, N_ampl, O_ampl, F_ampl, \n",
    "                energy_list = Energy_all_fluxes):\n",
    "    pp = pd.read_excel('../Solar_neutrino_flux/pp.xls')\n",
    "    b8 = pd.read_excel('../Solar_neutrino_flux/b8.xls')\n",
    "    hep = pd.read_excel('../Solar_neutrino_flux/hep.xls')\n",
    "    n13 = pd.read_excel('../Solar_neutrino_flux/n13.xls')\n",
    "    o15 = pd.read_excel('../Solar_neutrino_flux/o15.xls')\n",
    "    f17 = pd.read_excel('../Solar_neutrino_flux/f17.xls')\n",
    "\n",
    "    flux = {\n",
    "        'pp':np.interp(x=Energy_all_fluxes, xp=pp['Energy'].values, \n",
    "                       fp=pp['Probability'].values * pp_ampl ),\n",
    "        'b8':np.interp(x=Energy_all_fluxes, xp=b8['Energy'].values, \n",
    "                       fp=b8['Probability'].values * B_ampl ),\n",
    "        'hep':np.interp(x=Energy_all_fluxes, xp=hep['Energy'].values, \n",
    "                       fp=hep['Probability'].values * hep_ampl ),\n",
    "        'n13':np.interp(x=Energy_all_fluxes, xp=n13['Energy'].values, \n",
    "                       fp=n13['Probability'].values * N_ampl ),\n",
    "        'o15':np.interp(x=Energy_all_fluxes, xp=o15['Energy'].values, \n",
    "                       fp=o15['Probability'].values * O_ampl ),\n",
    "        'f17':np.interp(x=Energy_all_fluxes, xp=f17['Energy'].values, \n",
    "                       fp=f17['Probability'].values * F_ampl ),\n",
    "    }\n",
    "    return flux"
   ]
  },
  {
   "cell_type": "code",
   "execution_count": 14,
   "metadata": {},
   "outputs": [],
   "source": [
    "BS05OP_flux = return_flux(pp_ampl=BS05OP_pp, \n",
    "                          hep_ampl=BS05OP_hep,\n",
    "                          B_ampl=BS05OP_B,\n",
    "                          N_ampl=BS05OP_N,\n",
    "                          O_ampl=BS05OP_0,\n",
    "                          F_ampl=BS05OP_F)"
   ]
  },
  {
   "cell_type": "code",
   "execution_count": 15,
   "metadata": {},
   "outputs": [],
   "source": [
    "highZ_flux = return_flux(pp_ampl=B16_GS98_pp, \n",
    "                          hep_ampl=B16_GS98_hep,\n",
    "                          B_ampl=B16_GS98_B,\n",
    "                          N_ampl=B16_GS98_N,\n",
    "                          O_ampl=B16_GS98_0,\n",
    "                          F_ampl=B16_GS98_F)\n",
    "\n",
    "lowZ_flux = return_flux(pp_ampl=B16_AGSS09met_pp, \n",
    "                          hep_ampl=B16_AGSS09met_hep,\n",
    "                          B_ampl=B16_AGSS09met_B,\n",
    "                          N_ampl=B16_AGSS09met_N,\n",
    "                          O_ampl=B16_AGSS09met_0,\n",
    "                          F_ampl=B16_AGSS09met_F)"
   ]
  },
  {
   "cell_type": "markdown",
   "metadata": {},
   "source": [
    "### Cross-section and total rate"
   ]
  },
  {
   "cell_type": "markdown",
   "metadata": {},
   "source": [
    "Сечение по Иджири $\\sigma_k={(10^{-44}\\ cm^2)}\\times 1.597\\cdot \\epsilon_e \\pi_e m_e^2 F(Z,E_e) [B(F)_k + (\\frac{g_a}{g_v})^2 B(GT)_k] $ "
   ]
  },
  {
   "cell_type": "code",
   "execution_count": 16,
   "metadata": {},
   "outputs": [],
   "source": [
    "g_a_g_v_square = math.pow(g_a_g_v,2)\n",
    "m_e_square = math.pow(0.511,2)"
   ]
  },
  {
   "cell_type": "code",
   "execution_count": 17,
   "metadata": {},
   "outputs": [],
   "source": [
    "#расчет сечения до энергии возбуждения 5 МэВ\n",
    "def sigma_k_less5(E_nu, E_k, BGT_k, Z, Q_EC, fermi_func):\n",
    "    #E_k in kev\n",
    "    #сечение k-го возб. состояния по Иджири\n",
    "    e_e=e_e_func(E_nu, E_k, Q_EC) #энергия вылетающего электрона\n",
    "    Pi_e=Pi_e_func(e_e) #его импульс\n",
    "    F_col=fermi_func(e_e) #значение ферм-функции при такой энергии\n",
    "    return 1.597*m_e_square*e_e*Pi_e*F_col*g_a_g_v_square*BGT_k"
   ]
  },
  {
   "cell_type": "code",
   "execution_count": 18,
   "metadata": {},
   "outputs": [],
   "source": [
    "#функция расчета свертки сечения с потоком\n",
    "def rate_calc(sigma, fluxes_dict, energies_array, step, func_pep_ampl = BS05OP_pep, \n",
    "              func_Be_ampl = BS05OP_Be, name = 'test1'):\n",
    "    \n",
    "    #const = 1.597*math.pow(10,-44)\n",
    "    const = math.pow(10,-44)\n",
    "\n",
    "    sigma_total = np.array(sigma) * const\n",
    "    \n",
    "    rate_total = 0\n",
    "    \n",
    "    output_dict = {'name':name}\n",
    "    \n",
    "    for elem in list(fluxes_dict.keys()):\n",
    "        rate = sum(fluxes_dict[elem]*sigma_total*step) * math.pow(10,36)\n",
    "        #print(elem, ' ', rate)\n",
    "        output_dict[elem] = rate\n",
    "        rate_total+=rate\n",
    "        \n",
    "    sigma_pep = np.interp(pep_en, xp=energies_array, fp=sigma_total)\n",
    "    rate_pep = func_pep_ampl*sigma_pep*math.pow(10,36)\n",
    "    #print('pep', ' ', rate_pep)\n",
    "    output_dict['pep'] = rate_pep\n",
    "    rate_total+=rate_pep\n",
    "    \n",
    "    sigma_Be384 = np.interp(Be384_en, xp=energies_array, fp=sigma_total)\n",
    "    rate_Be384 = 0.103*func_Be_ampl*sigma_Be384*math.pow(10,36) #отношение из книжки бакала \n",
    "    \n",
    "    sigma_Be862 = np.interp(Be862_en, xp=energies_array, fp=sigma_total)\n",
    "    rate_Be862 = 0.897*func_Be_ampl*sigma_Be862*math.pow(10,36)\n",
    "    rate_Be = rate_Be384 + rate_Be862\n",
    "    \n",
    "    #print('Be', ' ', rate_Be)\n",
    "    output_dict['Be'] = rate_Be\n",
    "    rate_total+=rate_Be\n",
    "    \n",
    "    #print('rate_total',' ', rate_total)\n",
    "    output_dict['Total'] = rate_total\n",
    "    return output_dict"
   ]
  },
  {
   "cell_type": "code",
   "execution_count": 19,
   "metadata": {},
   "outputs": [],
   "source": [
    "#функция расчета полного сечения, а не dsigma/dE, \n",
    "def integrated_cross_sec_calc(sigma, energies_array, step, func_pep_ampl = 1, \n",
    "              func_Be_ampl = 1, name = 'test1'):\n",
    "    \n",
    "    fluxes_dict = return_flux(pp_ampl=1, \n",
    "                          hep_ampl=1,\n",
    "                          B_ampl=1,\n",
    "                          N_ampl=1,\n",
    "                          O_ampl=1,\n",
    "                          F_ampl=1)\n",
    "    \n",
    "    #const = 1.597*math.pow(10,-44)\n",
    "    const = math.pow(10,-44)\n",
    "\n",
    "    sigma_total = np.array(sigma) * const\n",
    "    \n",
    "    rate_total = 0\n",
    "    \n",
    "    output_dict = {'name':name}\n",
    "    \n",
    "    for elem in list(fluxes_dict.keys()):\n",
    "        rate = sum(fluxes_dict[elem]*sigma_total*step)\n",
    "        #print(elem, ' ', rate)\n",
    "        output_dict[elem] = rate\n",
    "        rate_total+=rate\n",
    "        \n",
    "    sigma_pep = np.interp(pep_en, xp=energies_array, fp=sigma_total)\n",
    "    rate_pep = func_pep_ampl*sigma_pep\n",
    "    #print('pep', ' ', rate_pep)\n",
    "    output_dict['pep'] = rate_pep\n",
    "    rate_total+=rate_pep\n",
    "    \n",
    "    sigma_Be384 = np.interp(Be384_en, xp=energies_array, fp=sigma_total)\n",
    "    rate_Be384 = 0.103*func_Be_ampl*sigma_Be384 #отношение из книжки бакала \n",
    "    \n",
    "    sigma_Be862 = np.interp(Be862_en, xp=energies_array, fp=sigma_total)\n",
    "    rate_Be862 = 0.897*func_Be_ampl*sigma_Be862\n",
    "    rate_Be = rate_Be384 + rate_Be862\n",
    "    \n",
    "    #print('Be', ' ', rate_Be)\n",
    "    output_dict['Be'] = rate_Be\n",
    "    rate_total+=rate_Be\n",
    "    \n",
    "    #print('rate_total',' ', rate_total)\n",
    "    output_dict['Total'] = rate_total\n",
    "    return output_dict"
   ]
  },
  {
   "cell_type": "code",
   "execution_count": null,
   "metadata": {},
   "outputs": [],
   "source": []
  },
  {
   "cell_type": "code",
   "execution_count": 20,
   "metadata": {},
   "outputs": [],
   "source": [
    "#функция для отрезки резонансов выше энергии отрыва\n",
    "def border_func(x_data, y_data, border):\n",
    "    a=np.where(x_data<border)\n",
    "    #print(len(a[0]), len(x_data)-len(a[0]), len(x_data), a[0])\n",
    "    return np.hstack(( y_data[a], np.zeros(len(x_data)-len(a[0])) ))\n",
    "\n",
    "\n",
    "def border_func2(x_data, y_data, border_l, border_r):\n",
    "    a=np.where(x_data<border_r)\n",
    "    b=np.where(x_data>border_l)\n",
    "    temp_y = np.hstack(( y_data[a], np.zeros(len(x_data)-len(a[0])) ))\n",
    "    #print(len(a[0]), len(x_data)-len(a[0]), len(x_data), a[0])\n",
    "    return np.hstack((np.zeros((b[0][0])), temp_y[b]))"
   ]
  },
  {
   "cell_type": "markdown",
   "metadata": {},
   "source": [
    "Сечение для непрерывной части\n",
    "\n",
    "$\\sigma = {(10^{-44}\\ cm^2)} \\times \\int^{z-Q}_{0} {1.597 \\cdot (\\frac{g_a}{g_v})^2 \\cdot \\sqrt{(z-Q-x+0.511)^2-0.511^2} \\cdot (z-Q-x+0.511) \\cdot S_{GTR}(x) \\cdot F(z-Q-x+0.511)} dx $ \n"
   ]
  },
  {
   "cell_type": "code",
   "execution_count": 21,
   "metadata": {},
   "outputs": [],
   "source": [
    "#введем новую переменную p = z - Q\n",
    "def sigma_k_GTR(x, p, x_data, y_data, fermi_func):\n",
    "    e_energy = p - x + 0.511\n",
    "    return 1.597*g_a_g_v_square*np.sqrt(e_energy**2-m_e_square)*e_energy\\\n",
    "    *np.interp(x,xp=x_data,fp=y_data)*fermi_func(e_energy/0.511) "
   ]
  },
  {
   "cell_type": "code",
   "execution_count": 22,
   "metadata": {},
   "outputs": [],
   "source": [
    "#разбиваем интервал интегрирования на субинтервалы\n",
    "def intervals(a,b,n):\n",
    "    c=np.linspace(a,b,num=n)\n",
    "    return [[c[i], c[i+1]] for i in range(len(c)-1)]"
   ]
  },
  {
   "cell_type": "code",
   "execution_count": 23,
   "metadata": {},
   "outputs": [],
   "source": [
    "#считаем сечение\n",
    "def cross_sec(a,b, sigma_func, shape_x, shape_y, fermi_func, int_num=50):\n",
    "    borders_list = intervals(a,b, int_num)\n",
    "    #return sum([quad(sigma_func, i[0],i[1], args=(b,shape_x, shape_y))[0] for i in borders_list])\n",
    "    return sum([sc.integrate.fixed_quad(sigma_func, i[0],i[1], args=(b,shape_x, shape_y, fermi_func))[0] for i in borders_list])\n",
    "    #return sum([sc.integrate.romberg(sigma_func, i[0],i[1], args=(b,shape_x, shape_y)) for i in borders_list])"
   ]
  },
  {
   "cell_type": "code",
   "execution_count": 24,
   "metadata": {},
   "outputs": [],
   "source": [
    "p_list = np.arange(0,20, 0.01) #p = z - Q"
   ]
  },
  {
   "cell_type": "code",
   "execution_count": null,
   "metadata": {},
   "outputs": [],
   "source": []
  },
  {
   "cell_type": "markdown",
   "metadata": {},
   "source": [
    "### расчет c декомпозицией"
   ]
  },
  {
   "cell_type": "code",
   "execution_count": 25,
   "metadata": {},
   "outputs": [
    {
     "data": {
      "text/html": [
       "<div>\n",
       "<style scoped>\n",
       "    .dataframe tbody tr th:only-of-type {\n",
       "        vertical-align: middle;\n",
       "    }\n",
       "\n",
       "    .dataframe tbody tr th {\n",
       "        vertical-align: top;\n",
       "    }\n",
       "\n",
       "    .dataframe thead th {\n",
       "        text-align: right;\n",
       "    }\n",
       "</style>\n",
       "<table border=\"1\" class=\"dataframe\">\n",
       "  <thead>\n",
       "    <tr style=\"text-align: right;\">\n",
       "      <th></th>\n",
       "      <th>Ex, MeV</th>\n",
       "      <th>best_fit</th>\n",
       "      <th>bgt</th>\n",
       "      <th>gtr</th>\n",
       "      <th>pr1</th>\n",
       "      <th>pr2</th>\n",
       "    </tr>\n",
       "  </thead>\n",
       "  <tbody>\n",
       "    <tr>\n",
       "      <th>0</th>\n",
       "      <td>0.00</td>\n",
       "      <td>0.00000</td>\n",
       "      <td>0.014032</td>\n",
       "      <td>0.00000</td>\n",
       "      <td>0.00000</td>\n",
       "      <td>0.00000</td>\n",
       "    </tr>\n",
       "    <tr>\n",
       "      <th>1</th>\n",
       "      <td>0.05</td>\n",
       "      <td>0.00018</td>\n",
       "      <td>0.041647</td>\n",
       "      <td>0.00007</td>\n",
       "      <td>0.00004</td>\n",
       "      <td>0.00007</td>\n",
       "    </tr>\n",
       "    <tr>\n",
       "      <th>2</th>\n",
       "      <td>0.10</td>\n",
       "      <td>0.00071</td>\n",
       "      <td>0.041647</td>\n",
       "      <td>0.00027</td>\n",
       "      <td>0.00014</td>\n",
       "      <td>0.00030</td>\n",
       "    </tr>\n",
       "    <tr>\n",
       "      <th>3</th>\n",
       "      <td>0.15</td>\n",
       "      <td>0.00162</td>\n",
       "      <td>0.089973</td>\n",
       "      <td>0.00061</td>\n",
       "      <td>0.00032</td>\n",
       "      <td>0.00069</td>\n",
       "    </tr>\n",
       "    <tr>\n",
       "      <th>4</th>\n",
       "      <td>0.20</td>\n",
       "      <td>0.00288</td>\n",
       "      <td>0.089973</td>\n",
       "      <td>0.00108</td>\n",
       "      <td>0.00057</td>\n",
       "      <td>0.00123</td>\n",
       "    </tr>\n",
       "    <tr>\n",
       "      <th>5</th>\n",
       "      <td>0.25</td>\n",
       "      <td>0.00451</td>\n",
       "      <td>0.083343</td>\n",
       "      <td>0.00170</td>\n",
       "      <td>0.00089</td>\n",
       "      <td>0.00192</td>\n",
       "    </tr>\n",
       "    <tr>\n",
       "      <th>6</th>\n",
       "      <td>0.30</td>\n",
       "      <td>0.00647</td>\n",
       "      <td>0.058906</td>\n",
       "      <td>0.00246</td>\n",
       "      <td>0.00127</td>\n",
       "      <td>0.00274</td>\n",
       "    </tr>\n",
       "    <tr>\n",
       "      <th>7</th>\n",
       "      <td>0.35</td>\n",
       "      <td>0.00877</td>\n",
       "      <td>0.054557</td>\n",
       "      <td>0.00337</td>\n",
       "      <td>0.00171</td>\n",
       "      <td>0.00369</td>\n",
       "    </tr>\n",
       "    <tr>\n",
       "      <th>8</th>\n",
       "      <td>0.40</td>\n",
       "      <td>0.01135</td>\n",
       "      <td>0.041694</td>\n",
       "      <td>0.00442</td>\n",
       "      <td>0.00220</td>\n",
       "      <td>0.00473</td>\n",
       "    </tr>\n",
       "    <tr>\n",
       "      <th>9</th>\n",
       "      <td>0.45</td>\n",
       "      <td>0.01421</td>\n",
       "      <td>0.035951</td>\n",
       "      <td>0.00563</td>\n",
       "      <td>0.00273</td>\n",
       "      <td>0.00585</td>\n",
       "    </tr>\n",
       "    <tr>\n",
       "      <th>10</th>\n",
       "      <td>0.50</td>\n",
       "      <td>0.01731</td>\n",
       "      <td>0.028589</td>\n",
       "      <td>0.00698</td>\n",
       "      <td>0.00331</td>\n",
       "      <td>0.00702</td>\n",
       "    </tr>\n",
       "    <tr>\n",
       "      <th>11</th>\n",
       "      <td>0.55</td>\n",
       "      <td>0.02063</td>\n",
       "      <td>0.058906</td>\n",
       "      <td>0.00849</td>\n",
       "      <td>0.00392</td>\n",
       "      <td>0.00822</td>\n",
       "    </tr>\n",
       "    <tr>\n",
       "      <th>12</th>\n",
       "      <td>0.60</td>\n",
       "      <td>0.02413</td>\n",
       "      <td>0.058906</td>\n",
       "      <td>0.01014</td>\n",
       "      <td>0.00455</td>\n",
       "      <td>0.00944</td>\n",
       "    </tr>\n",
       "    <tr>\n",
       "      <th>13</th>\n",
       "      <td>0.65</td>\n",
       "      <td>0.02780</td>\n",
       "      <td>0.053448</td>\n",
       "      <td>0.01196</td>\n",
       "      <td>0.00519</td>\n",
       "      <td>0.01065</td>\n",
       "    </tr>\n",
       "    <tr>\n",
       "      <th>14</th>\n",
       "      <td>0.70</td>\n",
       "      <td>0.03163</td>\n",
       "      <td>0.041647</td>\n",
       "      <td>0.01393</td>\n",
       "      <td>0.00584</td>\n",
       "      <td>0.01186</td>\n",
       "    </tr>\n",
       "    <tr>\n",
       "      <th>15</th>\n",
       "      <td>0.75</td>\n",
       "      <td>0.03559</td>\n",
       "      <td>0.041647</td>\n",
       "      <td>0.01605</td>\n",
       "      <td>0.00649</td>\n",
       "      <td>0.01305</td>\n",
       "    </tr>\n",
       "    <tr>\n",
       "      <th>16</th>\n",
       "      <td>0.80</td>\n",
       "      <td>0.03968</td>\n",
       "      <td>0.043731</td>\n",
       "      <td>0.01833</td>\n",
       "      <td>0.00713</td>\n",
       "      <td>0.01422</td>\n",
       "    </tr>\n",
       "    <tr>\n",
       "      <th>17</th>\n",
       "      <td>0.85</td>\n",
       "      <td>0.04390</td>\n",
       "      <td>0.036829</td>\n",
       "      <td>0.02077</td>\n",
       "      <td>0.00776</td>\n",
       "      <td>0.01537</td>\n",
       "    </tr>\n",
       "    <tr>\n",
       "      <th>18</th>\n",
       "      <td>0.90</td>\n",
       "      <td>0.04825</td>\n",
       "      <td>0.028113</td>\n",
       "      <td>0.02337</td>\n",
       "      <td>0.00837</td>\n",
       "      <td>0.01651</td>\n",
       "    </tr>\n",
       "    <tr>\n",
       "      <th>19</th>\n",
       "      <td>0.95</td>\n",
       "      <td>0.05273</td>\n",
       "      <td>0.086521</td>\n",
       "      <td>0.02613</td>\n",
       "      <td>0.00896</td>\n",
       "      <td>0.01764</td>\n",
       "    </tr>\n",
       "  </tbody>\n",
       "</table>\n",
       "</div>"
      ],
      "text/plain": [
       "    Ex, MeV  best_fit       bgt      gtr      pr1      pr2\n",
       "0      0.00   0.00000  0.014032  0.00000  0.00000  0.00000\n",
       "1      0.05   0.00018  0.041647  0.00007  0.00004  0.00007\n",
       "2      0.10   0.00071  0.041647  0.00027  0.00014  0.00030\n",
       "3      0.15   0.00162  0.089973  0.00061  0.00032  0.00069\n",
       "4      0.20   0.00288  0.089973  0.00108  0.00057  0.00123\n",
       "5      0.25   0.00451  0.083343  0.00170  0.00089  0.00192\n",
       "6      0.30   0.00647  0.058906  0.00246  0.00127  0.00274\n",
       "7      0.35   0.00877  0.054557  0.00337  0.00171  0.00369\n",
       "8      0.40   0.01135  0.041694  0.00442  0.00220  0.00473\n",
       "9      0.45   0.01421  0.035951  0.00563  0.00273  0.00585\n",
       "10     0.50   0.01731  0.028589  0.00698  0.00331  0.00702\n",
       "11     0.55   0.02063  0.058906  0.00849  0.00392  0.00822\n",
       "12     0.60   0.02413  0.058906  0.01014  0.00455  0.00944\n",
       "13     0.65   0.02780  0.053448  0.01196  0.00519  0.01065\n",
       "14     0.70   0.03163  0.041647  0.01393  0.00584  0.01186\n",
       "15     0.75   0.03559  0.041647  0.01605  0.00649  0.01305\n",
       "16     0.80   0.03968  0.043731  0.01833  0.00713  0.01422\n",
       "17     0.85   0.04390  0.036829  0.02077  0.00776  0.01537\n",
       "18     0.90   0.04825  0.028113  0.02337  0.00837  0.01651\n",
       "19     0.95   0.05273  0.086521  0.02613  0.00896  0.01764"
      ]
     },
     "execution_count": 25,
     "metadata": {},
     "output_type": "execute_result"
    }
   ],
   "source": [
    "decomp = pd.read_excel('127Xe_bgt_decomp.xls')\n",
    "decomp.head(20)"
   ]
  },
  {
   "cell_type": "code",
   "execution_count": 26,
   "metadata": {},
   "outputs": [
    {
     "data": {
      "text/plain": [
       "(55.58062392490359, 55.568871, 52.711257, 2.4391040000000004, 0.41851)"
      ]
     },
     "execution_count": 26,
     "metadata": {},
     "output_type": "execute_result"
    }
   ],
   "source": [
    "trapz(decomp['bgt'].values, decomp['Ex, MeV'].values),\\\n",
    "trapz(decomp['best_fit'].values, decomp['Ex, MeV'].values),\\\n",
    "trapz(decomp['gtr'].values, decomp['Ex, MeV'].values), \\\n",
    "trapz(decomp['pr1'].values, decomp['Ex, MeV'].values), \\\n",
    "trapz(decomp['pr2'].values, decomp['Ex, MeV'].values),"
   ]
  },
  {
   "cell_type": "code",
   "execution_count": null,
   "metadata": {},
   "outputs": [],
   "source": []
  },
  {
   "cell_type": "code",
   "execution_count": 27,
   "metadata": {},
   "outputs": [],
   "source": [
    "#добавим в best fit кусок с уровнем 125кэВ\n",
    "decomp['best_fit125'] = decomp['bgt'][(decomp['Ex, MeV'] < 0.4)].append(decomp['best_fit'][decomp['Ex, MeV'] >= 0.4])"
   ]
  },
  {
   "cell_type": "code",
   "execution_count": 28,
   "metadata": {},
   "outputs": [
    {
     "data": {
      "text/plain": [
       "(55.58062392490359,\n",
       " 55.568871,\n",
       " 55.59096711646587,\n",
       " 52.711257,\n",
       " 2.4391040000000004,\n",
       " 0.41851)"
      ]
     },
     "execution_count": 28,
     "metadata": {},
     "output_type": "execute_result"
    }
   ],
   "source": [
    "trapz(decomp['bgt'].values, decomp['Ex, MeV'].values),\\\n",
    "trapz(decomp['best_fit'].values, decomp['Ex, MeV'].values),\\\n",
    "trapz(decomp['best_fit125'].values, decomp['Ex, MeV'].values),\\\n",
    "trapz(decomp['gtr'].values, decomp['Ex, MeV'].values), \\\n",
    "trapz(decomp['pr1'].values, decomp['Ex, MeV'].values), \\\n",
    "trapz(decomp['pr2'].values, decomp['Ex, MeV'].values), "
   ]
  },
  {
   "cell_type": "code",
   "execution_count": 29,
   "metadata": {},
   "outputs": [
    {
     "data": {
      "text/html": [
       "<div>\n",
       "<style scoped>\n",
       "    .dataframe tbody tr th:only-of-type {\n",
       "        vertical-align: middle;\n",
       "    }\n",
       "\n",
       "    .dataframe tbody tr th {\n",
       "        vertical-align: top;\n",
       "    }\n",
       "\n",
       "    .dataframe thead th {\n",
       "        text-align: right;\n",
       "    }\n",
       "</style>\n",
       "<table border=\"1\" class=\"dataframe\">\n",
       "  <thead>\n",
       "    <tr style=\"text-align: right;\">\n",
       "      <th></th>\n",
       "      <th>Ex, MeV</th>\n",
       "      <th>best_fit</th>\n",
       "      <th>bgt</th>\n",
       "      <th>gtr</th>\n",
       "      <th>pr1</th>\n",
       "      <th>pr2</th>\n",
       "      <th>best_fit125</th>\n",
       "    </tr>\n",
       "  </thead>\n",
       "  <tbody>\n",
       "    <tr>\n",
       "      <th>0</th>\n",
       "      <td>0.00</td>\n",
       "      <td>0.00000</td>\n",
       "      <td>0.014032</td>\n",
       "      <td>0.00000</td>\n",
       "      <td>0.00000</td>\n",
       "      <td>0.00000</td>\n",
       "      <td>0.014032</td>\n",
       "    </tr>\n",
       "    <tr>\n",
       "      <th>1</th>\n",
       "      <td>0.05</td>\n",
       "      <td>0.00018</td>\n",
       "      <td>0.041647</td>\n",
       "      <td>0.00007</td>\n",
       "      <td>0.00004</td>\n",
       "      <td>0.00007</td>\n",
       "      <td>0.041647</td>\n",
       "    </tr>\n",
       "    <tr>\n",
       "      <th>2</th>\n",
       "      <td>0.10</td>\n",
       "      <td>0.00071</td>\n",
       "      <td>0.041647</td>\n",
       "      <td>0.00027</td>\n",
       "      <td>0.00014</td>\n",
       "      <td>0.00030</td>\n",
       "      <td>0.041647</td>\n",
       "    </tr>\n",
       "    <tr>\n",
       "      <th>3</th>\n",
       "      <td>0.15</td>\n",
       "      <td>0.00162</td>\n",
       "      <td>0.089973</td>\n",
       "      <td>0.00061</td>\n",
       "      <td>0.00032</td>\n",
       "      <td>0.00069</td>\n",
       "      <td>0.089973</td>\n",
       "    </tr>\n",
       "    <tr>\n",
       "      <th>4</th>\n",
       "      <td>0.20</td>\n",
       "      <td>0.00288</td>\n",
       "      <td>0.089973</td>\n",
       "      <td>0.00108</td>\n",
       "      <td>0.00057</td>\n",
       "      <td>0.00123</td>\n",
       "      <td>0.089973</td>\n",
       "    </tr>\n",
       "    <tr>\n",
       "      <th>5</th>\n",
       "      <td>0.25</td>\n",
       "      <td>0.00451</td>\n",
       "      <td>0.083343</td>\n",
       "      <td>0.00170</td>\n",
       "      <td>0.00089</td>\n",
       "      <td>0.00192</td>\n",
       "      <td>0.083343</td>\n",
       "    </tr>\n",
       "    <tr>\n",
       "      <th>6</th>\n",
       "      <td>0.30</td>\n",
       "      <td>0.00647</td>\n",
       "      <td>0.058906</td>\n",
       "      <td>0.00246</td>\n",
       "      <td>0.00127</td>\n",
       "      <td>0.00274</td>\n",
       "      <td>0.058906</td>\n",
       "    </tr>\n",
       "    <tr>\n",
       "      <th>7</th>\n",
       "      <td>0.35</td>\n",
       "      <td>0.00877</td>\n",
       "      <td>0.054557</td>\n",
       "      <td>0.00337</td>\n",
       "      <td>0.00171</td>\n",
       "      <td>0.00369</td>\n",
       "      <td>0.054557</td>\n",
       "    </tr>\n",
       "    <tr>\n",
       "      <th>8</th>\n",
       "      <td>0.40</td>\n",
       "      <td>0.01135</td>\n",
       "      <td>0.041694</td>\n",
       "      <td>0.00442</td>\n",
       "      <td>0.00220</td>\n",
       "      <td>0.00473</td>\n",
       "      <td>0.011350</td>\n",
       "    </tr>\n",
       "    <tr>\n",
       "      <th>9</th>\n",
       "      <td>0.45</td>\n",
       "      <td>0.01421</td>\n",
       "      <td>0.035951</td>\n",
       "      <td>0.00563</td>\n",
       "      <td>0.00273</td>\n",
       "      <td>0.00585</td>\n",
       "      <td>0.014210</td>\n",
       "    </tr>\n",
       "    <tr>\n",
       "      <th>10</th>\n",
       "      <td>0.50</td>\n",
       "      <td>0.01731</td>\n",
       "      <td>0.028589</td>\n",
       "      <td>0.00698</td>\n",
       "      <td>0.00331</td>\n",
       "      <td>0.00702</td>\n",
       "      <td>0.017310</td>\n",
       "    </tr>\n",
       "    <tr>\n",
       "      <th>11</th>\n",
       "      <td>0.55</td>\n",
       "      <td>0.02063</td>\n",
       "      <td>0.058906</td>\n",
       "      <td>0.00849</td>\n",
       "      <td>0.00392</td>\n",
       "      <td>0.00822</td>\n",
       "      <td>0.020630</td>\n",
       "    </tr>\n",
       "  </tbody>\n",
       "</table>\n",
       "</div>"
      ],
      "text/plain": [
       "    Ex, MeV  best_fit       bgt      gtr      pr1      pr2  best_fit125\n",
       "0      0.00   0.00000  0.014032  0.00000  0.00000  0.00000     0.014032\n",
       "1      0.05   0.00018  0.041647  0.00007  0.00004  0.00007     0.041647\n",
       "2      0.10   0.00071  0.041647  0.00027  0.00014  0.00030     0.041647\n",
       "3      0.15   0.00162  0.089973  0.00061  0.00032  0.00069     0.089973\n",
       "4      0.20   0.00288  0.089973  0.00108  0.00057  0.00123     0.089973\n",
       "5      0.25   0.00451  0.083343  0.00170  0.00089  0.00192     0.083343\n",
       "6      0.30   0.00647  0.058906  0.00246  0.00127  0.00274     0.058906\n",
       "7      0.35   0.00877  0.054557  0.00337  0.00171  0.00369     0.054557\n",
       "8      0.40   0.01135  0.041694  0.00442  0.00220  0.00473     0.011350\n",
       "9      0.45   0.01421  0.035951  0.00563  0.00273  0.00585     0.014210\n",
       "10     0.50   0.01731  0.028589  0.00698  0.00331  0.00702     0.017310\n",
       "11     0.55   0.02063  0.058906  0.00849  0.00392  0.00822     0.020630"
      ]
     },
     "execution_count": 29,
     "metadata": {},
     "output_type": "execute_result"
    }
   ],
   "source": [
    "decomp.head(12)"
   ]
  },
  {
   "cell_type": "code",
   "execution_count": null,
   "metadata": {},
   "outputs": [],
   "source": []
  },
  {
   "cell_type": "code",
   "execution_count": 30,
   "metadata": {},
   "outputs": [
    {
     "data": {
      "image/png": "[encoded data removed]",
      "text/plain": [
       "<Figure size 720x360 with 1 Axes>"
      ]
     },
     "metadata": {
      "needs_background": "light"
     },
     "output_type": "display_data"
    }
   ],
   "source": [
    "plt.figure(figsize=(10,5))\n",
    "plt.plot(decomp['Ex, MeV'].values, decomp['bgt'].values, label='bgt')\n",
    "plt.plot(decomp['Ex, MeV'].values, decomp['best_fit'].values, label='best fit')\n",
    "plt.plot(decomp['Ex, MeV'].values, decomp['gtr'].values, label='gtr')\n",
    "plt.xlabel('$E_{x}$, MeV', fontsize=14)\n",
    "plt.ylabel('S(E), 1/MeV', fontsize=14)\n",
    "plt.axvline(S_n)\n",
    "plt.xlim(0,20)\n",
    "plt.ylim(0,7)\n",
    "plt.legend()\n",
    "plt.show()"
   ]
  },
  {
   "cell_type": "code",
   "execution_count": 31,
   "metadata": {},
   "outputs": [],
   "source": [
    "y_total_border = border_func(decomp['Ex, MeV'].values, decomp['best_fit'].values, S_n)\n",
    "y_total125_border = border_func(decomp['Ex, MeV'].values, decomp['best_fit125'].values, S_n)\n",
    "y_bgt_border = border_func(decomp['Ex, MeV'].values, decomp['bgt'].values, S_n)\n",
    "y_gtr_border = border_func(decomp['Ex, MeV'].values, decomp['gtr'].values, S_n)\n",
    "y_pr1_border = border_func(decomp['Ex, MeV'].values, decomp['pr1'].values, S_n)\n",
    "y_pr2_border = border_func(decomp['Ex, MeV'].values, decomp['pr2'].values, S_n)"
   ]
  },
  {
   "cell_type": "code",
   "execution_count": null,
   "metadata": {},
   "outputs": [],
   "source": []
  },
  {
   "cell_type": "markdown",
   "metadata": {},
   "source": [
    "### y_total + 125 kev level"
   ]
  },
  {
   "cell_type": "code",
   "execution_count": 32,
   "metadata": {},
   "outputs": [],
   "source": [
    "sigma_y_tot125_no_border_temp = [cross_sec(0,p, sigma_k_GTR, decomp['Ex, MeV'].values, \n",
    "                                      decomp['best_fit125'].values, Janecki_func, 200) for p in p_list]\n",
    "sigma_y_tot125_no_border_full = np.interp(Energy_all_fluxes, xp=p_list+Q_EC_127Xe, \n",
    "                                     fp=sigma_y_tot125_no_border_temp)\n",
    "\n",
    "sigma_y_tot125_border_temp = [cross_sec(0,p, sigma_k_GTR, decomp['Ex, MeV'].values, \n",
    "                                   y_total125_border, Janecki_func, 200) for p in p_list]\n",
    "sigma_y_tot125_border_full = np.interp(Energy_all_fluxes, xp=p_list+Q_EC_127Xe, \n",
    "                                  fp=sigma_y_tot125_border_temp)"
   ]
  },
  {
   "cell_type": "code",
   "execution_count": 33,
   "metadata": {},
   "outputs": [
    {
     "data": {
      "text/plain": [
       "{'name': 'test1',\n",
       " 'pp': 0.0,\n",
       " 'b8': 27.888723896409623,\n",
       " 'hep': 0.1171220197919852,\n",
       " 'n13': 0.16766221195857162,\n",
       " 'o15': 0.5138729574266955,\n",
       " 'f17': 0.01301976135155233,\n",
       " 'pep': 0.7423962258433823,\n",
       " 'Be': 3.0308811932751625,\n",
       " 'Total': 32.47367826605697}"
      ]
     },
     "execution_count": 33,
     "metadata": {},
     "output_type": "execute_result"
    }
   ],
   "source": [
    "### BS05OP\n",
    "rate_calc(sigma_y_tot125_border_full, \\\n",
    "          BS05OP_flux, Energy_all_fluxes, step_all_fluxes,)"
   ]
  },
  {
   "cell_type": "code",
   "execution_count": 34,
   "metadata": {},
   "outputs": [
    {
     "data": {
      "text/plain": [
       "{'name': 'test1',\n",
       " 'pp': 0.0,\n",
       " 'b8': 33.23234245086451,\n",
       " 'hep': 0.2038885453796457,\n",
       " 'n13': 0.16766221195857162,\n",
       " 'o15': 0.5138729574266955,\n",
       " 'f17': 0.01301976135155233,\n",
       " 'pep': 0.7423962258433823,\n",
       " 'Be': 3.0308811932751625,\n",
       " 'Total': 37.90406334609952}"
      ]
     },
     "execution_count": 34,
     "metadata": {},
     "output_type": "execute_result"
    }
   ],
   "source": [
    "rate_calc(sigma_y_tot125_no_border_full, \\\n",
    "          BS05OP_flux, Energy_all_fluxes, step_all_fluxes,)"
   ]
  },
  {
   "cell_type": "code",
   "execution_count": 35,
   "metadata": {},
   "outputs": [
    {
     "data": {
      "text/plain": [
       "{'name': 'test1',\n",
       " 'pp': 0.0,\n",
       " 'b8': 5.343618554454883,\n",
       " 'hep': 0.08676652558766051,\n",
       " 'n13': 0.0,\n",
       " 'o15': 0.0,\n",
       " 'f17': 0.0,\n",
       " 'pep': 0.0,\n",
       " 'Be': 0.0,\n",
       " 'Total': 5.4303850800425435}"
      ]
     },
     "execution_count": 35,
     "metadata": {},
     "output_type": "execute_result"
    }
   ],
   "source": [
    "rate_calc(sigma_y_tot125_no_border_full - sigma_y_tot125_border_full, \\\n",
    "          BS05OP_flux, Energy_all_fluxes, step_all_fluxes,)"
   ]
  },
  {
   "cell_type": "code",
   "execution_count": 36,
   "metadata": {},
   "outputs": [
    {
     "data": {
      "text/plain": [
       "{'name': 'test1',\n",
       " 'pp': 0.0,\n",
       " 'b8': 4.9013574510385984e-42,\n",
       " 'hep': 1.4769485471877074e-41,\n",
       " 'n13': 5.461309835784091e-46,\n",
       " 'o15': 2.2054633365952598e-45,\n",
       " 'f17': 2.229411190334303e-45,\n",
       " 'pep': 5.228142435516776e-45,\n",
       " 'Be': 6.262151225775129e-46,\n",
       " 'Total': 1.9681678285984274e-41}"
      ]
     },
     "execution_count": 36,
     "metadata": {},
     "output_type": "execute_result"
    }
   ],
   "source": [
    "integrated_cross_sec_calc(sigma_y_tot125_border_full, Energy_all_fluxes, step_all_fluxes,)"
   ]
  },
  {
   "cell_type": "code",
   "execution_count": 37,
   "metadata": {},
   "outputs": [
    {
     "data": {
      "text/plain": [
       "{'name': 'test1',\n",
       " 'pp': 0.0,\n",
       " 'b8': 5.840481977304834e-42,\n",
       " 'hep': 2.5711039770447123e-41,\n",
       " 'n13': 5.461309835784091e-46,\n",
       " 'o15': 2.2054633365952598e-45,\n",
       " 'f17': 2.229411190334303e-45,\n",
       " 'pep': 5.228142435516776e-45,\n",
       " 'Be': 6.262151225775129e-46,\n",
       " 'Total': 3.156235711082056e-41}"
      ]
     },
     "execution_count": 37,
     "metadata": {},
     "output_type": "execute_result"
    }
   ],
   "source": [
    "integrated_cross_sec_calc(sigma_y_tot125_no_border_full, Energy_all_fluxes, step_all_fluxes,)"
   ]
  },
  {
   "cell_type": "code",
   "execution_count": 38,
   "metadata": {},
   "outputs": [
    {
     "data": {
      "text/plain": [
       "{'name': 'test1',\n",
       " 'pp': 0.0,\n",
       " 'b8': 22.056108529673697,\n",
       " 'hep': 0.12184825514298586,\n",
       " 'n13': 0.11141072064999546,\n",
       " 'o15': 0.31758672046971737,\n",
       " 'f17': 0.007267880480489828,\n",
       " 'pep': 0.7633087955854493,\n",
       " 'Be': 2.817968051598808,\n",
       " 'Total': 26.195498953601142}"
      ]
     },
     "execution_count": 38,
     "metadata": {},
     "output_type": "execute_result"
    }
   ],
   "source": [
    "#B16-AGSS09met lowZ model \n",
    "rate_calc(sigma_y_tot125_border_full, \\\n",
    "          lowZ_flux, Energy_all_fluxes, step_all_fluxes, B16_AGSS09met_pep, B16_AGSS09met_Be,)"
   ]
  },
  {
   "cell_type": "code",
   "execution_count": 39,
   "metadata": {},
   "outputs": [
    {
     "data": {
      "text/plain": [
       "{'name': 'test1',\n",
       " 'pp': 0.0,\n",
       " 'b8': 4.226060368198062,\n",
       " 'hep': 0.09026782296320293,\n",
       " 'n13': 0.0,\n",
       " 'o15': 0.0,\n",
       " 'f17': 0.0,\n",
       " 'pep': 0.0,\n",
       " 'Be': 0.0,\n",
       " 'Total': 4.316328191161265}"
      ]
     },
     "execution_count": 39,
     "metadata": {},
     "output_type": "execute_result"
    }
   ],
   "source": [
    "rate_calc(sigma_y_tot125_no_border_full - sigma_y_tot125_border_full, \\\n",
    "          lowZ_flux, Energy_all_fluxes, step_all_fluxes, B16_AGSS09met_pep, B16_AGSS09met_Be,)"
   ]
  },
  {
   "cell_type": "code",
   "execution_count": 40,
   "metadata": {},
   "outputs": [
    {
     "data": {
      "text/plain": [
       "{'name': 'test1',\n",
       " 'pp': 0.0,\n",
       " 'b8': 26.28216889787176,\n",
       " 'hep': 0.21211607810618877,\n",
       " 'n13': 0.11141072064999546,\n",
       " 'o15': 0.31758672046971737,\n",
       " 'f17': 0.007267880480489828,\n",
       " 'pep': 0.7633087955854493,\n",
       " 'Be': 2.817968051598808,\n",
       " 'Total': 30.511827144762407}"
      ]
     },
     "execution_count": 40,
     "metadata": {},
     "output_type": "execute_result"
    }
   ],
   "source": [
    "rate_calc(sigma_y_tot125_no_border_full, \\\n",
    "          lowZ_flux, Energy_all_fluxes, step_all_fluxes, B16_AGSS09met_pep, B16_AGSS09met_Be,)"
   ]
  },
  {
   "cell_type": "code",
   "execution_count": 41,
   "metadata": {},
   "outputs": [
    {
     "data": {
      "text/plain": [
       "4.139390423927445"
      ]
     },
     "execution_count": 41,
     "metadata": {},
     "output_type": "execute_result"
    }
   ],
   "source": [
    "a = rate_calc(sigma_y_tot125_border_full, \\\n",
    "          lowZ_flux, Energy_all_fluxes, step_all_fluxes, B16_AGSS09met_pep, B16_AGSS09met_Be,)\n",
    "a['Total'] - a['b8']"
   ]
  },
  {
   "cell_type": "code",
   "execution_count": null,
   "metadata": {},
   "outputs": [],
   "source": []
  },
  {
   "cell_type": "code",
   "execution_count": null,
   "metadata": {},
   "outputs": [],
   "source": []
  },
  {
   "cell_type": "code",
   "execution_count": 42,
   "metadata": {},
   "outputs": [
    {
     "data": {
      "text/plain": [
       "{'name': 'test1',\n",
       " 'pp': 0.0,\n",
       " 'b8': 26.76141168267075,\n",
       " 'hep': 0.11786049406557904,\n",
       " 'n13': 0.15182441343479774,\n",
       " 'o15': 0.45211998400202824,\n",
       " 'f17': 0.011793585196868463,\n",
       " 'pep': 0.7528525107144158,\n",
       " 'Be': 3.0872405543071384,\n",
       " 'Total': 31.33510322439158}"
      ]
     },
     "execution_count": 42,
     "metadata": {},
     "output_type": "execute_result"
    }
   ],
   "source": [
    "#B16_GS98 highZ model \n",
    "rate_calc(sigma_y_tot125_border_full, \\\n",
    "          highZ_flux, Energy_all_fluxes, step_all_fluxes, B16_GS98_pep, B16_GS98_Be,)"
   ]
  },
  {
   "cell_type": "code",
   "execution_count": 43,
   "metadata": {},
   "outputs": [
    {
     "data": {
      "text/plain": [
       "{'name': 'test1',\n",
       " 'pp': 0.0,\n",
       " 'b8': 5.12761991341365,\n",
       " 'hep': 0.08731360330258903,\n",
       " 'n13': 0.0,\n",
       " 'o15': 0.0,\n",
       " 'f17': 0.0,\n",
       " 'pep': 0.0,\n",
       " 'Be': 0.0,\n",
       " 'Total': 5.214933516716239}"
      ]
     },
     "execution_count": 43,
     "metadata": {},
     "output_type": "execute_result"
    }
   ],
   "source": [
    "rate_calc(sigma_y_tot125_no_border_full - sigma_y_tot125_border_full, \\\n",
    "          highZ_flux, Energy_all_fluxes, step_all_fluxes, B16_GS98_pep, B16_GS98_Be,)"
   ]
  },
  {
   "cell_type": "code",
   "execution_count": 44,
   "metadata": {},
   "outputs": [
    {
     "data": {
      "text/plain": [
       "{'name': 'test1',\n",
       " 'pp': 0.0,\n",
       " 'b8': 31.889031596084404,\n",
       " 'hep': 0.20517409736816802,\n",
       " 'n13': 0.15182441343479774,\n",
       " 'o15': 0.45211998400202824,\n",
       " 'f17': 0.011793585196868463,\n",
       " 'pep': 0.7528525107144158,\n",
       " 'Be': 3.0872405543071384,\n",
       " 'Total': 36.550036741107824}"
      ]
     },
     "execution_count": 44,
     "metadata": {},
     "output_type": "execute_result"
    }
   ],
   "source": [
    "rate_calc(sigma_y_tot125_no_border_full, \\\n",
    "          highZ_flux, Energy_all_fluxes, step_all_fluxes, B16_GS98_pep, B16_GS98_Be,)"
   ]
  },
  {
   "cell_type": "code",
   "execution_count": 45,
   "metadata": {},
   "outputs": [
    {
     "data": {
      "text/plain": [
       "4.57369154172083"
      ]
     },
     "execution_count": 45,
     "metadata": {},
     "output_type": "execute_result"
    }
   ],
   "source": [
    "a = rate_calc(sigma_y_tot125_border_full, \\\n",
    "          highZ_flux, Energy_all_fluxes, step_all_fluxes, B16_GS98_pep, B16_GS98_Be,)\n",
    "a['Total'] - a['b8']"
   ]
  },
  {
   "cell_type": "markdown",
   "metadata": {},
   "source": [
    "###### "
   ]
  },
  {
   "cell_type": "code",
   "execution_count": null,
   "metadata": {},
   "outputs": [],
   "source": []
  },
  {
   "cell_type": "markdown",
   "metadata": {},
   "source": [
    "### y_total  (no 125 kev level)"
   ]
  },
  {
   "cell_type": "code",
   "execution_count": 68,
   "metadata": {},
   "outputs": [],
   "source": [
    "sigma_y_tot_no_border_temp = [cross_sec(0,p, sigma_k_GTR, decomp['Ex, MeV'].values, \n",
    "                                      decomp['best_fit'].values, Janecki_func, 200) for p in p_list]\n",
    "sigma_y_tot_no_border_full = np.interp(Energy_all_fluxes, xp=p_list+Q_EC_127Xe, \n",
    "                                     fp=sigma_y_tot_no_border_temp)"
   ]
  },
  {
   "cell_type": "code",
   "execution_count": 69,
   "metadata": {},
   "outputs": [],
   "source": [
    "sigma_y_tot_border_temp = [cross_sec(0,p, sigma_k_GTR, decomp['Ex, MeV'].values, \n",
    "                                   y_total_border, Janecki_func, 200) for p in p_list]\n",
    "sigma_y_tot_border_full = np.interp(Energy_all_fluxes, xp=p_list+Q_EC_127Xe, \n",
    "                                  fp=sigma_y_tot_border_temp)"
   ]
  },
  {
   "cell_type": "code",
   "execution_count": 70,
   "metadata": {},
   "outputs": [
    {
     "data": {
      "text/plain": [
       "{'name': 'test1',\n",
       " 'pp': 0.0,\n",
       " 'b8': 27.245717294873057,\n",
       " 'hep': 0.1154529684271031,\n",
       " 'n13': 0.006784772157101503,\n",
       " 'o15': 0.07563806089194787,\n",
       " 'f17': 0.0019351769369792447,\n",
       " 'pep': 0.13684578452009735,\n",
       " 'Be': 0.04941047626216794,\n",
       " 'Total': 27.63178453406845}"
      ]
     },
     "execution_count": 70,
     "metadata": {},
     "output_type": "execute_result"
    }
   ],
   "source": [
    "### BS05OP\n",
    "rate_calc(sigma_y_tot_border_full, \\\n",
    "          BS05OP_flux, Energy_all_fluxes, step_all_fluxes,)"
   ]
  },
  {
   "cell_type": "code",
   "execution_count": 71,
   "metadata": {},
   "outputs": [
    {
     "data": {
      "text/plain": [
       "{'name': 'test1',\n",
       " 'pp': 0.0,\n",
       " 'b8': 32.58933584932794,\n",
       " 'hep': 0.2022194940147636,\n",
       " 'n13': 0.006784772157101503,\n",
       " 'o15': 0.07563806089194787,\n",
       " 'f17': 0.0019351769369792447,\n",
       " 'pep': 0.13684578452009735,\n",
       " 'Be': 0.04941047626216794,\n",
       " 'Total': 33.062169614111}"
      ]
     },
     "execution_count": 71,
     "metadata": {},
     "output_type": "execute_result"
    }
   ],
   "source": [
    "rate_calc(sigma_y_tot_no_border_full, \\\n",
    "          BS05OP_flux, Energy_all_fluxes, step_all_fluxes,)"
   ]
  },
  {
   "cell_type": "code",
   "execution_count": 72,
   "metadata": {},
   "outputs": [
    {
     "data": {
      "text/plain": [
       "{'name': 'test1',\n",
       " 'pp': 0.0,\n",
       " 'b8': 5.343618554454883,\n",
       " 'hep': 0.08676652558766051,\n",
       " 'n13': 0.0,\n",
       " 'o15': 0.0,\n",
       " 'f17': 0.0,\n",
       " 'pep': 0.0,\n",
       " 'Be': 0.0,\n",
       " 'Total': 5.4303850800425435}"
      ]
     },
     "execution_count": 72,
     "metadata": {},
     "output_type": "execute_result"
    }
   ],
   "source": [
    "rate_calc(sigma_y_tot_no_border_full - sigma_y_tot_border_full, \\\n",
    "          BS05OP_flux, Energy_all_fluxes, step_all_fluxes,)"
   ]
  },
  {
   "cell_type": "code",
   "execution_count": 73,
   "metadata": {},
   "outputs": [
    {
     "data": {
      "text/plain": [
       "{'name': 'test1',\n",
       " 'pp': 0.0,\n",
       " 'b8': 4.788351018431116e-42,\n",
       " 'hep': 1.4559012411992825e-41,\n",
       " 'n13': 2.2100235039418577e-47,\n",
       " 'o15': 3.2462687078089213e-46,\n",
       " 'f17': 3.31365913866309e-46,\n",
       " 'pep': 9.637027078880095e-46,\n",
       " 'Be': 1.0208776087224783e-47,\n",
       " 'Total': 1.9349015434927603e-41}"
      ]
     },
     "execution_count": 73,
     "metadata": {},
     "output_type": "execute_result"
    }
   ],
   "source": [
    "integrated_cross_sec_calc(sigma_y_tot_border_full, Energy_all_fluxes, step_all_fluxes,)"
   ]
  },
  {
   "cell_type": "code",
   "execution_count": 74,
   "metadata": {},
   "outputs": [
    {
     "data": {
      "text/plain": [
       "{'name': 'test1',\n",
       " 'pp': 0.0,\n",
       " 'b8': 5.727475544697352e-42,\n",
       " 'hep': 2.5500566710562876e-41,\n",
       " 'n13': 2.2100235039418577e-47,\n",
       " 'o15': 3.2462687078089213e-46,\n",
       " 'f17': 3.31365913866309e-46,\n",
       " 'pep': 9.637027078880095e-46,\n",
       " 'Be': 1.0208776087224783e-47,\n",
       " 'Total': 3.1229694259763887e-41}"
      ]
     },
     "execution_count": 74,
     "metadata": {},
     "output_type": "execute_result"
    }
   ],
   "source": [
    "integrated_cross_sec_calc(sigma_y_tot_no_border_full, Energy_all_fluxes, step_all_fluxes,)"
   ]
  },
  {
   "cell_type": "code",
   "execution_count": null,
   "metadata": {},
   "outputs": [],
   "source": []
  },
  {
   "cell_type": "code",
   "execution_count": null,
   "metadata": {},
   "outputs": [],
   "source": []
  },
  {
   "cell_type": "code",
   "execution_count": null,
   "metadata": {},
   "outputs": [],
   "source": []
  },
  {
   "cell_type": "code",
   "execution_count": null,
   "metadata": {},
   "outputs": [],
   "source": []
  },
  {
   "cell_type": "code",
   "execution_count": null,
   "metadata": {},
   "outputs": [],
   "source": []
  },
  {
   "cell_type": "markdown",
   "metadata": {},
   "source": [
    "### bgt"
   ]
  },
  {
   "cell_type": "code",
   "execution_count": 75,
   "metadata": {},
   "outputs": [],
   "source": [
    "sigma_y_bgt_no_border_temp = [cross_sec(0,p, sigma_k_GTR, decomp['Ex, MeV'].values, \n",
    "                                      decomp['bgt'].values, Janecki_func, 200) for p in p_list]\n",
    "sigma_y_bgt_no_border_full = np.interp(Energy_all_fluxes, xp=p_list+Q_EC_127Xe, \n",
    "                                     fp=sigma_y_bgt_no_border_temp)\n",
    "\n",
    "sigma_y_bgt_border_temp = [cross_sec(0,p, sigma_k_GTR, decomp['Ex, MeV'].values, \n",
    "                                   y_bgt_border, Janecki_func, 200) for p in p_list]\n",
    "sigma_y_bgt_border_full = np.interp(Energy_all_fluxes, xp=p_list+Q_EC_127Xe, \n",
    "                                  fp=sigma_y_bgt_border_temp)"
   ]
  },
  {
   "cell_type": "code",
   "execution_count": 76,
   "metadata": {},
   "outputs": [
    {
     "data": {
      "text/plain": [
       "{'name': 'test1',\n",
       " 'pp': 0.0,\n",
       " 'b8': 26.592299715228044,\n",
       " 'hep': 0.1124155167037955,\n",
       " 'n13': 0.17035659932476108,\n",
       " 'o15': 0.573593862944707,\n",
       " 'f17': 0.014542053315783832,\n",
       " 'pep': 0.8635185056252705,\n",
       " 'Be': 3.0308811932751625,\n",
       " 'Total': 31.357607446417525}"
      ]
     },
     "execution_count": 76,
     "metadata": {},
     "output_type": "execute_result"
    }
   ],
   "source": [
    "### BS05OP\n",
    "rate_calc(sigma_y_bgt_border_full, \\\n",
    "          BS05OP_flux, Energy_all_fluxes, step_all_fluxes,)"
   ]
  },
  {
   "cell_type": "code",
   "execution_count": 77,
   "metadata": {},
   "outputs": [
    {
     "data": {
      "text/plain": [
       "{'name': 'test1',\n",
       " 'pp': 0.0,\n",
       " 'b8': 32.00041947420242,\n",
       " 'hep': 0.19920906745483968,\n",
       " 'n13': 0.17035659932476108,\n",
       " 'o15': 0.573593862944707,\n",
       " 'f17': 0.014542053315783832,\n",
       " 'pep': 0.8635185056252705,\n",
       " 'Be': 3.0308811932751625,\n",
       " 'Total': 36.852520756142944}"
      ]
     },
     "execution_count": 77,
     "metadata": {},
     "output_type": "execute_result"
    }
   ],
   "source": [
    "rate_calc(sigma_y_bgt_no_border_full, \\\n",
    "          BS05OP_flux, Energy_all_fluxes, step_all_fluxes,)"
   ]
  },
  {
   "cell_type": "code",
   "execution_count": 78,
   "metadata": {},
   "outputs": [
    {
     "data": {
      "text/plain": [
       "{'name': 'test1',\n",
       " 'pp': 0.0,\n",
       " 'b8': 4.673514888440782e-42,\n",
       " 'hep': 1.417597940779262e-41,\n",
       " 'n13': 5.549074896572023e-46,\n",
       " 'o15': 2.461776235814193e-45,\n",
       " 'f17': 2.490077622565724e-45,\n",
       " 'pep': 6.08111623679768e-45,\n",
       " 'Be': 6.262151225775129e-46,\n",
       " 'Total': 1.8861708388940815e-41}"
      ]
     },
     "execution_count": 78,
     "metadata": {},
     "output_type": "execute_result"
    }
   ],
   "source": [
    "integrated_cross_sec_calc(sigma_y_bgt_border_full, Energy_all_fluxes, step_all_fluxes,)"
   ]
  },
  {
   "cell_type": "code",
   "execution_count": 79,
   "metadata": {},
   "outputs": [
    {
     "data": {
      "text/plain": [
       "{'name': 'test1',\n",
       " 'pp': 0.0,\n",
       " 'b8': 5.623975303023271e-42,\n",
       " 'hep': 2.512094167148041e-41,\n",
       " 'n13': 5.549074896572023e-46,\n",
       " 'o15': 2.461776235814193e-45,\n",
       " 'f17': 2.490077622565724e-45,\n",
       " 'pep': 6.08111623679768e-45,\n",
       " 'Be': 6.262151225775129e-46,\n",
       " 'Total': 3.0757131067211097e-41}"
      ]
     },
     "execution_count": 79,
     "metadata": {},
     "output_type": "execute_result"
    }
   ],
   "source": [
    "integrated_cross_sec_calc(sigma_y_bgt_no_border_full, Energy_all_fluxes, step_all_fluxes,)"
   ]
  },
  {
   "cell_type": "code",
   "execution_count": null,
   "metadata": {},
   "outputs": [],
   "source": []
  },
  {
   "cell_type": "code",
   "execution_count": null,
   "metadata": {},
   "outputs": [],
   "source": []
  },
  {
   "cell_type": "markdown",
   "metadata": {},
   "source": [
    "### gtr"
   ]
  },
  {
   "cell_type": "code",
   "execution_count": 45,
   "metadata": {},
   "outputs": [],
   "source": [
    "sigma_gtr_no_border_temp = [cross_sec(0,p, sigma_k_GTR, decomp['Ex, MeV'].values, \n",
    "                                      decomp['gtr'].values, Janecki_func, 200) for p in p_list]\n",
    "sigma_gtr_no_border_full = np.interp(Energy_all_fluxes, xp=p_list+Q_EC_127Xe, \n",
    "                                     fp=sigma_gtr_no_border_temp)\n",
    "\n",
    "sigma_gtr_border_temp = [cross_sec(0,p, sigma_k_GTR, decomp['Ex, MeV'].values, \n",
    "                                   y_gtr_border, Janecki_func, 200) for p in p_list]\n",
    "sigma_gtr_border_full = np.interp(Energy_all_fluxes, xp=p_list+Q_EC_127Xe, \n",
    "                                  fp=sigma_gtr_border_temp)"
   ]
  },
  {
   "cell_type": "code",
   "execution_count": 46,
   "metadata": {},
   "outputs": [
    {
     "data": {
      "text/plain": [
       "{'name': 'test1',\n",
       " 'pp': 0.0,\n",
       " 'b8': 8.324377504983962,\n",
       " 'hep': 0.030418555996721882,\n",
       " 'n13': 0.1650723578575178,\n",
       " 'o15': 0.48266776780982157,\n",
       " 'f17': 0.012220545133568775,\n",
       " 'pep': 0.6861319652973017,\n",
       " 'Be': 3.0122263913311262,\n",
       " 'Total': 12.71311508841002}"
      ]
     },
     "execution_count": 46,
     "metadata": {},
     "output_type": "execute_result"
    }
   ],
   "source": [
    "### BS05OP\n",
    "rate_calc((sigma_y_tot125_border_full-sigma_gtr_border_full), \\\n",
    "          BS05OP_flux, Energy_all_fluxes, step_all_fluxes,)"
   ]
  },
  {
   "cell_type": "code",
   "execution_count": 47,
   "metadata": {},
   "outputs": [
    {
     "data": {
      "text/plain": [
       "{'name': 'test1',\n",
       " 'pp': 0.0,\n",
       " 'b8': 9.817648122874598,\n",
       " 'hep': 0.04749196026438662,\n",
       " 'n13': 0.1650723578575178,\n",
       " 'o15': 0.48266776780982157,\n",
       " 'f17': 0.012220545133568775,\n",
       " 'pep': 0.6861319652973017,\n",
       " 'Be': 3.0122263913311262,\n",
       " 'Total': 14.22345911056832}"
      ]
     },
     "execution_count": 47,
     "metadata": {},
     "output_type": "execute_result"
    }
   ],
   "source": [
    "rate_calc((sigma_y_tot125_no_border_full-sigma_gtr_no_border_full), \\\n",
    "          BS05OP_flux, Energy_all_fluxes, step_all_fluxes,)"
   ]
  },
  {
   "cell_type": "markdown",
   "metadata": {},
   "source": [
    "### pr1"
   ]
  },
  {
   "cell_type": "code",
   "execution_count": 48,
   "metadata": {},
   "outputs": [],
   "source": [
    "sigma_pr1_no_border_temp = [cross_sec(0,p, sigma_k_GTR, decomp['Ex, MeV'].values, \n",
    "                                      decomp['pr1'].values, Janecki_func, 200) for p in p_list]\n",
    "sigma_pr1_no_border_full = np.interp(Energy_all_fluxes, xp=p_list+Q_EC_127Xe, \n",
    "                                     fp=sigma_pr1_no_border_temp)\n",
    "\n",
    "sigma_pr1_border_temp = [cross_sec(0,p, sigma_k_GTR, decomp['Ex, MeV'].values, \n",
    "                                   y_pr1_border, Janecki_func, 200) for p in p_list]\n",
    "sigma_pr1_border_full = np.interp(Energy_all_fluxes, xp=p_list+Q_EC_127Xe, \n",
    "                                  fp=sigma_pr1_border_temp)"
   ]
  },
  {
   "cell_type": "code",
   "execution_count": 49,
   "metadata": {},
   "outputs": [
    {
     "data": {
      "text/plain": [
       "{'name': 'test1',\n",
       " 'pp': 0.0,\n",
       " 'b8': 6.011040206737986,\n",
       " 'hep': 0.019751822547552002,\n",
       " 'n13': 0.1637388079950327,\n",
       " 'o15': 0.468319562684866,\n",
       " 'f17': 0.011853639222634361,\n",
       " 'pep': 0.6601138565721862,\n",
       " 'Be': 3.002390306599957,\n",
       " 'Total': 10.337208202360216}"
      ]
     },
     "execution_count": 49,
     "metadata": {},
     "output_type": "execute_result"
    }
   ],
   "source": [
    "### BS05OP\n",
    "rate_calc((sigma_y_tot125_border_full-sigma_gtr_border_full-sigma_pr1_border_full), \\\n",
    "          BS05OP_flux, Energy_all_fluxes, step_all_fluxes,)"
   ]
  },
  {
   "cell_type": "code",
   "execution_count": 50,
   "metadata": {},
   "outputs": [
    {
     "data": {
      "text/plain": [
       "{'name': 'test1',\n",
       " 'pp': 0.0,\n",
       " 'b8': 6.018435303102099,\n",
       " 'hep': 0.019836857326148625,\n",
       " 'n13': 0.1637388079950327,\n",
       " 'o15': 0.468319562684866,\n",
       " 'f17': 0.011853639222634361,\n",
       " 'pep': 0.6601138565721862,\n",
       " 'Be': 3.002390306599957,\n",
       " 'Total': 10.344688333502924}"
      ]
     },
     "execution_count": 50,
     "metadata": {},
     "output_type": "execute_result"
    }
   ],
   "source": [
    "rate_calc((sigma_y_tot125_no_border_full-sigma_gtr_no_border_full-sigma_pr1_no_border_full), \\\n",
    "          BS05OP_flux, Energy_all_fluxes, step_all_fluxes,)"
   ]
  },
  {
   "cell_type": "markdown",
   "metadata": {},
   "source": [
    "### pr2"
   ]
  },
  {
   "cell_type": "code",
   "execution_count": 51,
   "metadata": {},
   "outputs": [],
   "source": [
    "sigma_pr2_no_border_temp = [cross_sec(0,p, sigma_k_GTR, decomp['Ex, MeV'].values, \n",
    "                                      decomp['pr2'].values, Janecki_func, 200) for p in p_list]\n",
    "sigma_pr2_no_border_full = np.interp(Energy_all_fluxes, xp=p_list+Q_EC_127Xe, \n",
    "                                     fp=sigma_pr2_no_border_temp)\n",
    "\n",
    "sigma_pr2_border_temp = [cross_sec(0,p, sigma_k_GTR, decomp['Ex, MeV'].values, \n",
    "                                   y_pr2_border, Janecki_func, 200) for p in p_list]\n",
    "sigma_pr2_border_full = np.interp(Energy_all_fluxes, xp=p_list+Q_EC_127Xe, \n",
    "                                  fp=sigma_pr2_border_temp)"
   ]
  },
  {
   "cell_type": "code",
   "execution_count": null,
   "metadata": {},
   "outputs": [],
   "source": []
  },
  {
   "cell_type": "code",
   "execution_count": null,
   "metadata": {},
   "outputs": [],
   "source": []
  },
  {
   "cell_type": "code",
   "execution_count": null,
   "metadata": {},
   "outputs": [],
   "source": []
  },
  {
   "cell_type": "code",
   "execution_count": null,
   "metadata": {},
   "outputs": [],
   "source": []
  },
  {
   "cell_type": "code",
   "execution_count": null,
   "metadata": {},
   "outputs": [],
   "source": []
  },
  {
   "cell_type": "code",
   "execution_count": null,
   "metadata": {},
   "outputs": [],
   "source": []
  },
  {
   "cell_type": "code",
   "execution_count": null,
   "metadata": {},
   "outputs": [],
   "source": []
  },
  {
   "cell_type": "markdown",
   "metadata": {},
   "source": [
    "## Матричные элементы от ЮС"
   ]
  },
  {
   "cell_type": "code",
   "execution_count": 46,
   "metadata": {},
   "outputs": [
    {
     "data": {
      "text/plain": [
       "82.97"
      ]
     },
     "execution_count": 46,
     "metadata": {},
     "output_type": "execute_result"
    }
   ],
   "source": [
    "En = np.array([0.2, 0.54, 1.58, 1.97, 2.76, 3.08, 3.45, 6.0, 8.34, 14.8, 20.59, 20.94, \\\n",
    "               21.09, 21.22, 29.70])\n",
    "\n",
    "Mn = 2*np.array([0.0025, 0.0025, 0.01, 0.01, 0.02, 0.10, 0.01, 0.2, 1.2, 30.8, 0.5, 0.8, \\\n",
    "               0.5, 1.03, 6.3])\n",
    "\n",
    "np.sum(Mn)"
   ]
  },
  {
   "cell_type": "code",
   "execution_count": 47,
   "metadata": {},
   "outputs": [],
   "source": [
    "def breit_vigner3(x, M, w,  G1):\n",
    "    G = G1\n",
    "    y = M * (G**1) * (1-np.exp(-(x/G)**2) ) / ((x - w)**2 + (G**2)/1)\n",
    "    return np.round(y, decimals=5) #округляем чтобы убрать неустойчивость расчета изза хвостов\n",
    "\n",
    "Ex = np.arange(0,40,0.01)\n",
    "w = En\n",
    "M_square = Mn\n",
    "alpha = 0.018\n",
    "\n",
    "\n",
    "norm_factors = []\n",
    "for w_i,M_i in zip(w, M_square):\n",
    "    y_values = breit_vigner3(Ex, 1, w_i, alpha*w_i**2)\n",
    "    norm_factors.append(trapz(y_values, Ex))"
   ]
  },
  {
   "cell_type": "code",
   "execution_count": 48,
   "metadata": {},
   "outputs": [],
   "source": [
    "plots = np.zeros((w.shape[0], Ex.shape[0]))\n",
    "for idx, w_i, M_i, norm_i in zip(range(w.shape[0]), w, M_square, norm_factors):\n",
    "    amplitude = M_i / norm_i\n",
    "    y_values = breit_vigner3(Ex, amplitude, w_i, alpha*w_i**2)\n",
    "    plots[idx] = y_values\n",
    "    \n",
    "summ_full = np.sum(plots, axis=0)\n",
    "summ = np.sum(plots[0:11], axis=0)"
   ]
  },
  {
   "cell_type": "code",
   "execution_count": 49,
   "metadata": {},
   "outputs": [
    {
     "data": {
      "text/plain": [
       "(13, 4000)"
      ]
     },
     "execution_count": 49,
     "metadata": {},
     "output_type": "execute_result"
    }
   ],
   "source": [
    "plots[2:].shape"
   ]
  },
  {
   "cell_type": "code",
   "execution_count": 50,
   "metadata": {},
   "outputs": [
    {
     "data": {
      "image/png": "[encoded data removed]",
      "text/plain": [
       "<Figure size 720x360 with 1 Axes>"
      ]
     },
     "metadata": {
      "needs_background": "light"
     },
     "output_type": "display_data"
    }
   ],
   "source": [
    "plt.figure(figsize=(10,5))\n",
    "plt.ylim(0,8)\n",
    "for elem in plots:\n",
    "    plt.plot(Ex, elem, ls=':')\n",
    "plt.plot(Ex, summ_full)\n",
    "plt.show()"
   ]
  },
  {
   "cell_type": "code",
   "execution_count": 51,
   "metadata": {},
   "outputs": [
    {
     "data": {
      "image/png": "[encoded data removed]",
      "text/plain": [
       "<Figure size 720x360 with 1 Axes>"
      ]
     },
     "metadata": {
      "needs_background": "light"
     },
     "output_type": "display_data"
    }
   ],
   "source": [
    "plt.figure(figsize=(10,5))\n",
    "#plt.plot(decomp_gauss['Ex, MeV'].values, decomp_gauss['bgt'].values, label='bgt')\n",
    "#plt.plot(decomp_gauss['Ex, MeV'].values, decomp_gauss['best_fit'].values, label='best fit gauss')\n",
    "plt.plot(decomp['Ex, MeV'].values, decomp['best_fit'].values, label='best fit B-W')\n",
    "plt.plot(Ex, summ_full, label='matrix elements')\n",
    "plt.plot(Ex, summ, label='matrix elements no first 2 M2')\n",
    "plt.xlabel('$E_{x}$, MeV', fontsize=14)\n",
    "plt.ylabel('S(E), 1/MeV', fontsize=14)\n",
    "plt.axvline(S_n)\n",
    "plt.xlim(0,20)\n",
    "plt.ylim(0,7)\n",
    "plt.legend()\n",
    "plt.show()"
   ]
  },
  {
   "cell_type": "code",
   "execution_count": 52,
   "metadata": {},
   "outputs": [
    {
     "data": {
      "image/png": "[encoded data removed]",
      "text/plain": [
       "<Figure size 648x360 with 1 Axes>"
      ]
     },
     "metadata": {
      "needs_background": "light"
     },
     "output_type": "display_data"
    }
   ],
   "source": [
    "summ_border = border_func(Ex, summ, S_n)\n",
    "summ_noGTR = summ - plots[9]\n",
    "summ_noGTR_border = border_func(Ex, summ_noGTR, S_n)\n",
    "summ_noGTR_PR1 = summ_noGTR - plots[8]\n",
    "summ_noGTR_PR1_border = border_func(Ex, summ_noGTR_PR1, S_n)\n",
    "summ_noGTR_PR1_2 = summ_noGTR_PR1 - plots[7] #- plots[6]  - plots[5]   - plots[4]  - plots[3]\n",
    "\n",
    "plt.figure(figsize=(9,5))\n",
    "plt.plot(Ex, summ, label='total')\n",
    "plt.plot(Ex, summ_noGTR, label='no GTR')\n",
    "plt.plot(Ex, summ_noGTR_PR1, label='no GTR, PR1')\n",
    "plt.plot(Ex, summ_noGTR_PR1_2, label='no GTR, PR1 PR2')\n",
    "plt.legend()\n",
    "plt.show()"
   ]
  },
  {
   "cell_type": "code",
   "execution_count": 53,
   "metadata": {},
   "outputs": [
    {
     "data": {
      "text/plain": [
       "0.005694299999999997"
      ]
     },
     "execution_count": 53,
     "metadata": {},
     "output_type": "execute_result"
    }
   ],
   "source": [
    "trapz(border_func(Ex, summ, 0.3), Ex)"
   ]
  },
  {
   "cell_type": "code",
   "execution_count": null,
   "metadata": {},
   "outputs": [],
   "source": []
  },
  {
   "cell_type": "markdown",
   "metadata": {},
   "source": [
    "### total"
   ]
  },
  {
   "cell_type": "code",
   "execution_count": 54,
   "metadata": {},
   "outputs": [],
   "source": [
    "#sigma_pr2_no_border_temp = [cross_sec(0,p, sigma_k_GTR, decomp['Ex, MeV'].values, \n",
    "#                                      decomp['pr2'].values, Janecki_func, 200) for p in p_list]\n",
    "\n",
    "\n",
    "sigma_matr_no_border_temp = [cross_sec(0,p, sigma_k_GTR, Ex, summ, Janecki_func, 200) for p in p_list]\n",
    "\n",
    "sigma_matr_no_border_full = np.interp(Energy_all_fluxes, xp=p_list+Q_EC_127Xe, fp=sigma_matr_no_border_temp)\n",
    "#sigma_more5_1 = np.interp(Energy_all_fluxes, xp=p_list+Q_EC_76As, fp=sigma_more5_temp1)\n",
    "\n",
    "sigma_matr_border_temp = [cross_sec(0,p, sigma_k_GTR, Ex, summ_border, Janecki_func, 200) for p in p_list]\n",
    "\n",
    "sigma_matr_border_full = np.interp(Energy_all_fluxes, xp=p_list+Q_EC_127Xe, fp=sigma_matr_border_temp)\n",
    "#sigma_more5_1 = np.interp(Energy_all_fluxes, xp=p_list+Q_EC_76As, fp=sigma_more5_temp1)"
   ]
  },
  {
   "cell_type": "code",
   "execution_count": 54,
   "metadata": {},
   "outputs": [
    {
     "data": {
      "text/plain": [
       "{'name': 'test1',\n",
       " 'pp': 0.0,\n",
       " 'b8': 28.685060214641812,\n",
       " 'hep': 0.12407782064003034,\n",
       " 'n13': 0.04120525755238649,\n",
       " 'o15': 0.1928540099012273,\n",
       " 'f17': 0.004901370812128785,\n",
       " 'pep': 0.3142943043896193,\n",
       " 'Be': 0.561994887710779,\n",
       " 'Total': 29.924387865647983}"
      ]
     },
     "execution_count": 54,
     "metadata": {},
     "output_type": "execute_result"
    }
   ],
   "source": [
    "### BS05OP\n",
    "rate_calc(sigma_matr_border_full, BS05OP_flux, Energy_all_fluxes, step_all_fluxes,)"
   ]
  },
  {
   "cell_type": "code",
   "execution_count": null,
   "metadata": {},
   "outputs": [],
   "source": []
  },
  {
   "cell_type": "code",
   "execution_count": 55,
   "metadata": {},
   "outputs": [
    {
     "data": {
      "text/plain": [
       "{'name': 'test1',\n",
       " 'pp': 0.0,\n",
       " 'b8': 28.685060214641812,\n",
       " 'hep': 0.12407782064003034,\n",
       " 'n13': 0.04120525755238649,\n",
       " 'o15': 0.1928540099012273,\n",
       " 'f17': 0.004901370812128785,\n",
       " 'pep': 0.3142943043896193,\n",
       " 'Be': 0.561994887710779,\n",
       " 'Total': 29.924387865647983}"
      ]
     },
     "execution_count": 55,
     "metadata": {},
     "output_type": "execute_result"
    }
   ],
   "source": [
    "### BS05OP\n",
    "rate_calc(sigma_matr_border_full, BS05OP_flux, Energy_all_fluxes, step_all_fluxes,)"
   ]
  },
  {
   "cell_type": "code",
   "execution_count": 56,
   "metadata": {},
   "outputs": [
    {
     "data": {
      "text/plain": [
       "{'name': 'test1',\n",
       " 'pp': 0.0,\n",
       " 'b8': 33.880053762365996,\n",
       " 'hep': 0.21001491100310912,\n",
       " 'n13': 0.04120525755238649,\n",
       " 'o15': 0.1928540099012273,\n",
       " 'f17': 0.004901370812128785,\n",
       " 'pep': 0.3142943043896193,\n",
       " 'Be': 0.561994887710779,\n",
       " 'Total': 35.20531850373524}"
      ]
     },
     "execution_count": 56,
     "metadata": {},
     "output_type": "execute_result"
    }
   ],
   "source": [
    "rate_calc(sigma_matr_no_border_full, BS05OP_flux, Energy_all_fluxes, step_all_fluxes,)"
   ]
  },
  {
   "cell_type": "markdown",
   "metadata": {},
   "source": [
    "### no GTR"
   ]
  },
  {
   "cell_type": "code",
   "execution_count": 57,
   "metadata": {},
   "outputs": [],
   "source": [
    "sigma_matr_noGTR_no_border_temp = [cross_sec(0,p, sigma_k_GTR, Ex, summ_noGTR, Janecki_func, 200) for p in p_list]\n",
    "\n",
    "sigma_matr_noGTR_no_border_full = np.interp(Energy_all_fluxes, xp=p_list+Q_EC_127Xe, \n",
    "                                      fp=sigma_matr_noGTR_no_border_temp)\n",
    "#sigma_more5_1 = np.interp(Energy_all_fluxes, xp=p_list+Q_EC_76As, fp=sigma_more5_temp1)\n",
    "\n",
    "sigma_matr_noGTR_border_temp = [cross_sec(0,p, sigma_k_GTR, Ex, summ_noGTR_border, Janecki_func, 200) for p in p_list]\n",
    "\n",
    "sigma_matr_noGTR_border_full = np.interp(Energy_all_fluxes, xp=p_list+Q_EC_127Xe, \n",
    "                                         fp=sigma_matr_noGTR_border_temp)\n",
    "#sigma_more5_1 = np.interp(Energy_all_fluxes, xp=p_list+Q_EC_76As, fp=sigma_more5_temp1)"
   ]
  },
  {
   "cell_type": "code",
   "execution_count": 58,
   "metadata": {},
   "outputs": [
    {
     "data": {
      "text/plain": [
       "{'name': 'test1',\n",
       " 'pp': 0.0,\n",
       " 'b8': 9.188706309922436,\n",
       " 'hep': 0.037064691729744303,\n",
       " 'n13': 0.038773610531723554,\n",
       " 'o15': 0.16318480362086266,\n",
       " 'f17': 0.004141451751670184,\n",
       " 'pep': 0.2607653843185996,\n",
       " 'Be': 0.5449876158301359,\n",
       " 'Total': 10.237623867705173}"
      ]
     },
     "execution_count": 58,
     "metadata": {},
     "output_type": "execute_result"
    }
   ],
   "source": [
    "### BS05OP\n",
    "rate_calc(sigma_matr_noGTR_border_full, BS05OP_flux, Energy_all_fluxes, step_all_fluxes,)"
   ]
  },
  {
   "cell_type": "code",
   "execution_count": 59,
   "metadata": {},
   "outputs": [
    {
     "data": {
      "text/plain": [
       "{'name': 'test1',\n",
       " 'pp': 0.0,\n",
       " 'b8': 10.45288619756975,\n",
       " 'hep': 0.05192325702636202,\n",
       " 'n13': 0.038773610531723554,\n",
       " 'o15': 0.16318480362086266,\n",
       " 'f17': 0.004141451751670184,\n",
       " 'pep': 0.2607653843185996,\n",
       " 'Be': 0.5449876158301359,\n",
       " 'Total': 11.516662320649104}"
      ]
     },
     "execution_count": 59,
     "metadata": {},
     "output_type": "execute_result"
    }
   ],
   "source": [
    "rate_calc(sigma_matr_noGTR_no_border_full, BS05OP_flux, Energy_all_fluxes, step_all_fluxes,)"
   ]
  },
  {
   "cell_type": "markdown",
   "metadata": {},
   "source": [
    "### no GTR no PR1"
   ]
  },
  {
   "cell_type": "code",
   "execution_count": 60,
   "metadata": {},
   "outputs": [],
   "source": [
    "sigma_matr_noGTR_noPR1_no_border_temp = [cross_sec(0,p, sigma_k_GTR, Ex, summ_noGTR_PR1, Janecki_func, 200) for p in p_list]\n",
    "\n",
    "sigma_matr_noGTR_noPR1_no_border_full = np.interp(Energy_all_fluxes, xp=p_list+Q_EC_127Xe, \n",
    "                                      fp=sigma_matr_noGTR_noPR1_no_border_temp)\n",
    "#sigma_more5_1 = np.interp(Energy_all_fluxes, xp=p_list+Q_EC_76As, fp=sigma_more5_temp1)\n",
    "\n",
    "sigma_matr_noGTR_noPR1_border_temp = [cross_sec(0,p, sigma_k_GTR, Ex, summ_noGTR_PR1_border, Janecki_func, 200) for p in p_list]\n",
    "\n",
    "sigma_matr_noGTR_noPR1_border_full = np.interp(Energy_all_fluxes, xp=p_list+Q_EC_127Xe, \n",
    "                                   fp=sigma_matr_noGTR_noPR1_border_temp)\n",
    "#sigma_more5_1 = np.interp(Energy_all_fluxes, xp=p_list+Q_EC_76As, fp=sigma_more5_temp1)"
   ]
  },
  {
   "cell_type": "code",
   "execution_count": 61,
   "metadata": {},
   "outputs": [
    {
     "data": {
      "text/plain": [
       "{'name': 'test1',\n",
       " 'pp': 0.0,\n",
       " 'b8': 6.149350796785331,\n",
       " 'hep': 0.023092377194753527,\n",
       " 'n13': 0.037881473995092924,\n",
       " 'o15': 0.1526610643302199,\n",
       " 'f17': 0.0038720586385826636,\n",
       " 'pep': 0.2417103054332303,\n",
       " 'Be': 0.5387481458499238,\n",
       " 'Total': 7.147316222227134}"
      ]
     },
     "execution_count": 61,
     "metadata": {},
     "output_type": "execute_result"
    }
   ],
   "source": [
    "### BS05OP\n",
    "rate_calc(sigma_matr_noGTR_noPR1_border_full, BS05OP_flux, Energy_all_fluxes, step_all_fluxes,)"
   ]
  },
  {
   "cell_type": "code",
   "execution_count": 62,
   "metadata": {},
   "outputs": [
    {
     "data": {
      "text/plain": [
       "{'name': 'test1',\n",
       " 'pp': 0.0,\n",
       " 'b8': 6.226628058627832,\n",
       " 'hep': 0.024081089613076416,\n",
       " 'n13': 0.037881473995092924,\n",
       " 'o15': 0.1526610643302199,\n",
       " 'f17': 0.0038720586385826636,\n",
       " 'pep': 0.2417103054332303,\n",
       " 'Be': 0.5387481458499238,\n",
       " 'Total': 7.225582196487958}"
      ]
     },
     "execution_count": 62,
     "metadata": {},
     "output_type": "execute_result"
    }
   ],
   "source": [
    "rate_calc(sigma_matr_noGTR_noPR1_no_border_full, BS05OP_flux, Energy_all_fluxes, step_all_fluxes,)"
   ]
  },
  {
   "cell_type": "markdown",
   "metadata": {},
   "source": [
    "### no GTR no PR1 no PR2"
   ]
  },
  {
   "cell_type": "code",
   "execution_count": 63,
   "metadata": {},
   "outputs": [],
   "source": [
    "sigma_matr_noGTR_noPR1_2_no_border_temp = [cross_sec(0,p, sigma_k_GTR, Ex, summ_noGTR_PR1_2, Janecki_func, 200) for p in p_list]\n",
    "\n",
    "sigma_matr_noGTR_noPR1_2_no_border_full = np.interp(Energy_all_fluxes, xp=p_list+Q_EC_127Xe, \n",
    "                                      fp=sigma_matr_noGTR_noPR1_2_no_border_temp)\n",
    "#sigma_more5_1 = np.interp(Energy_all_fluxes, xp=p_list+Q_EC_76As, fp=sigma_more5_temp1)\n"
   ]
  },
  {
   "cell_type": "code",
   "execution_count": 64,
   "metadata": {},
   "outputs": [
    {
     "name": "stderr",
     "output_type": "stream",
     "text": [
      "<ipython-input-64-b3b0313e7e1f>:29: RuntimeWarning: invalid value encountered in true_divide\n",
      "  ax1.plot(Energy_all_fluxes, sigma_matr_noGTR_no_border_full / sigma_matr_no_border_full, c = 'red', ls = '-', )\n",
      "<ipython-input-64-b3b0313e7e1f>:30: RuntimeWarning: invalid value encountered in true_divide\n",
      "  ax1.plot(Energy_all_fluxes, sigma_matr_noGTR_noPR1_no_border_full / sigma_matr_no_border_full, c = 'blue', ls = '-', )\n",
      "<ipython-input-64-b3b0313e7e1f>:31: RuntimeWarning: invalid value encountered in true_divide\n",
      "  ax1.plot(Energy_all_fluxes, sigma_matr_noGTR_noPR1_2_no_border_full / sigma_matr_no_border_full, c = 'blue', ls = '-', )\n"
     ]
    },
    {
     "data": {
      "image/png": "[encoded data removed]",
      "text/plain": [
       "<Figure size 360x576 with 2 Axes>"
      ]
     },
     "metadata": {
      "needs_background": "light"
     },
     "output_type": "display_data"
    }
   ],
   "source": [
    "fig = plt.figure(figsize=(5,8))\n",
    "# set height ratios for sublots\n",
    "gs = gridspec.GridSpec(2, 1, height_ratios=[1, 1]) \n",
    "\n",
    "# the fisrt subplot\n",
    "ax0 = plt.subplot(gs[0])\n",
    "ax0.plot(Energy_all_fluxes, sigma_matr_no_border_full, c = 'k', ls = '--', label='1')\n",
    "\n",
    "ax0.plot(Energy_all_fluxes, sigma_y_tot125_no_border_full, c = 'red', ls = '-', label='1')\n",
    "ax0.plot(Energy_all_fluxes, sigma_matr_noGTR_no_border_full, c = 'blue', ls = '-', label='2')\n",
    "ax0.plot(Energy_all_fluxes, sigma_matr_noGTR_noPR1_no_border_full, c='blue', ls='-', label='3')\n",
    "ax0.plot(Energy_all_fluxes, sigma_matr_noGTR_noPR1_2_no_border_full, c='blue', ls='-', label='3')\n",
    "#ax0.set_ylabel(\"$F(E,Z)$\", fontsize=20)\n",
    "ax0.set_ylabel('$\\sigma(E_{\\\\nu}),$ $10^{-44}$ cm$^2$', fontsize=14, loc='top')\n",
    "ax0.set_ylim(10**(-1), 10**(5))\n",
    "#ax0.set_xlabel(\"E, keV\")\n",
    "#ax0.set_ylim(0,20)\n",
    "ax0.set_yscale('log')\n",
    "\n",
    "\n",
    "ax0.tick_params(axis='both', which='major', labelsize=14)\n",
    "ax0.tick_params(axis='both', which='minor', labelsize=14)\n",
    "\n",
    "#the second subplot\n",
    "# shared axis X\n",
    "ax1 = plt.subplot(gs[1], sharex = ax0)\n",
    "#ax1.plot(Energy_all_fluxes, sigma_matr_no_border_full / sigma_matr_no_border_full, c = 'k', ls = '-',)\n",
    "ax1.hlines(1, 0, 20, color = 'k', ls = '-',)\n",
    "ax1.plot(Energy_all_fluxes, sigma_matr_noGTR_no_border_full / sigma_matr_no_border_full, c = 'red', ls = '-', )\n",
    "ax1.plot(Energy_all_fluxes, sigma_matr_noGTR_noPR1_no_border_full / sigma_matr_no_border_full, c = 'blue', ls = '-', )\n",
    "ax1.plot(Energy_all_fluxes, sigma_matr_noGTR_noPR1_2_no_border_full / sigma_matr_no_border_full, c = 'blue', ls = '-', )\n",
    "ax1.set_xlabel('$E_{\\\\nu}$, MeV', fontsize=14, loc='right')\n",
    "ax1.set_ylabel(\"$\\sigma_i$ / $\\sigma_{tot}$\", fontsize=14, loc='top')\n",
    "\n",
    "ax0.yaxis.set_label_coords(-0.11,1)\n",
    "ax1.yaxis.set_label_coords(-0.11,1)\n",
    "\n",
    "#ax1.set_xlim(10,10000)\n",
    "ax1.set_ylim(0,1)\n",
    "ax1.set_yticks(np.arange(0,1.1,0.2))\n",
    "plt.setp(ax0.get_xticklabels(), visible=False)\n",
    "# remove last tick label for the second subplot\n",
    "yticks = ax1.yaxis.get_major_ticks()\n",
    "yticks[0].label1.set_visible(False)\n",
    "#ax1.set_xscale('log')\n",
    "\n",
    "# put lened on first subploсt\n",
    "#ax0.legend((line0, line1), ('red line', 'blue line'), loc='lower left')\n",
    "#ax0.legend(fontsize=18)\n",
    "#ax1.legend(loc='lower right', fontsize=18, ncol=4)\n",
    "ax1.tick_params(axis='both', which='major', labelsize=14)\n",
    "ax1.tick_params(axis='both', which='minor', labelsize=14)\n",
    "\n",
    "ax0.text( 1, 10**4, '$a)$', fontsize=24,)\n",
    "ax1.text( 1, 0.1, '$b)$', fontsize=24,)\n",
    "#ax1.text(-30, -1, 'b)', fontsize=16)\n",
    "\n",
    "ax0.set_xlim(0,20)\n",
    "ax1.set_xlim(0,20)\n",
    "ax1.set_xticks(np.arange(0,22,2))\n",
    "\n",
    "# remove vertical gap between subplots\n",
    "plt.subplots_adjust(hspace=.1)\n",
    "#plt.tight_layout()\n",
    "plt.savefig(\"fig3_prelim.jpg\", format='jpg', bbox_inches='tight', transparent=False, dpi=210)\n",
    "\n",
    "plt.show()"
   ]
  },
  {
   "cell_type": "code",
   "execution_count": 67,
   "metadata": {},
   "outputs": [
    {
     "data": {
      "image/png": "[encoded data removed]",
      "text/plain": [
       "<Figure size 504x360 with 1 Axes>"
      ]
     },
     "metadata": {
      "needs_background": "light"
     },
     "output_type": "display_data"
    }
   ],
   "source": [
    "fig, ax0 = plt.subplots(figsize=(7,5))\n",
    "ax0.plot(Energy_all_fluxes, sigma_matr_no_border_full, c = 'k', ls = '-', label='1')\n",
    "\n",
    "ax0.plot(Energy_all_fluxes, sigma_y_tot125_no_border_full, c = 'red', ls = '--', label='2')\n",
    "ax0.plot(Energy_all_fluxes, sigma_matr_noGTR_no_border_full, c = 'blue', ls = ':', label='3')\n",
    "ax0.plot(Energy_all_fluxes, sigma_matr_noGTR_noPR1_no_border_full, c='green', ls='-.', label='4')\n",
    "ax0.plot(Energy_all_fluxes, sigma_matr_noGTR_noPR1_2_no_border_full, c='purple', ls=(0, (4, 2, 1, 2, 1, 2)), label='5')\n",
    "#ax0.set_ylabel(\"$F(E,Z)$\", fontsize=20)\n",
    "ax0.set_ylabel('$\\sigma(E_{\\\\nu})$ ($10^{-44}$ cm$^2$)', fontsize=14, loc='center')\n",
    "ax0.set_ylim(10**(-1), 10**(5))\n",
    "#ax0.set_xlabel(\"E, keV\")\n",
    "#ax0.set_ylim(0,20)\n",
    "ax0.set_yscale('log')\n",
    "\n",
    "\n",
    "ax0.tick_params(direction='in', axis='both', which='major', labelsize=14, top=True, right=True)\n",
    "ax0.tick_params(direction='in', axis='both', which='minor', labelsize=14, top=True, right=True)\n",
    "\n",
    "ax0.set_xlabel('$E_{\\\\nu}$ (MeV)', fontsize=14, loc='center')\n",
    "\n",
    "#ax1.set_xlim(10,10000)\n",
    "\n",
    "ax0.legend(loc='lower right', frameon=False, fontsize=14)\n",
    "\n",
    "\n",
    "\n",
    "ax0.set_xlim(0,20)\n",
    "ax0.set_xticks(np.arange(0,22,2))\n",
    "\n",
    "#plt.tight_layout()\n",
    "plt.savefig(\"fig3_v2.eps\", format='eps', bbox_inches='tight', transparent=False, dpi=300)\n",
    "#plt.savefig(\"fig3_v2.jpg\", format='jpg', bbox_inches='tight', transparent=False, dpi=300)\n",
    "\n",
    "plt.show()"
   ]
  },
  {
   "cell_type": "code",
   "execution_count": null,
   "metadata": {},
   "outputs": [],
   "source": []
  },
  {
   "cell_type": "code",
   "execution_count": 58,
   "metadata": {},
   "outputs": [
    {
     "name": "stderr",
     "output_type": "stream",
     "text": [
      "<ipython-input-58-50198dfae520>:2: RuntimeWarning: invalid value encountered in true_divide\n",
      "  ax0.plot(Energy_all_fluxes, sigma_y_tot125_no_border_full / sigma_matr_no_border_full, c = 'k', ls = '-', label='1')\n"
     ]
    },
    {
     "data": {
      "image/png": "[encoded data removed]",
      "text/plain": [
       "<Figure size 504x360 with 1 Axes>"
      ]
     },
     "metadata": {
      "needs_background": "light"
     },
     "output_type": "display_data"
    }
   ],
   "source": [
    "fig, ax0 = plt.subplots(figsize=(7,5))\n",
    "ax0.plot(Energy_all_fluxes, sigma_y_tot125_no_border_full / sigma_matr_no_border_full, c = 'k', ls = '-', label='1')\n",
    "#ax0.set_ylabel(\"$F(E,Z)$\", fontsize=20)\n",
    "ax0.set_ylabel('$\\sigma(S(E)_{exp})$ / $\\sigma(S(E)_{TFFS})$', fontsize=14, loc='center')\n",
    "#ax0.set_ylim(10**(-1), 10**(5))\n",
    "#ax0.set_xlabel(\"E, keV\")\n",
    "#ax0.set_ylim(0,20)\n",
    "\n",
    "ax0.set_yscale('log')\n",
    "\n",
    "ax0.tick_params(direction='in', axis='both', which='major', labelsize=14, top=True, right=True)\n",
    "ax0.tick_params(direction='in', axis='both', which='minor', labelsize=14, top=True, right=True)\n",
    "\n",
    "ax0.set_xlabel('$E_{\\\\nu}$ (MeV)', fontsize=14, loc='center')\n",
    "\n",
    "#ax1.set_xlim(10,10000)\n",
    "\n",
    "ax0.legend(loc='lower right', frameon=False, fontsize=14)\n",
    "\n",
    "\n",
    "\n",
    "ax0.set_xlim(0,20)\n",
    "ax0.set_xticks(np.arange(0,22,2))\n",
    "\n",
    "#plt.tight_layout()\n",
    "#plt.savefig(\"fig3_v2.eps\", format='eps', bbox_inches='tight', transparent=False, dpi=300)\n",
    "#plt.savefig(\"fig3_v2.jpg\", format='jpg', bbox_inches='tight', transparent=False, dpi=300)\n",
    "\n",
    "plt.show()"
   ]
  },
  {
   "cell_type": "code",
   "execution_count": null,
   "metadata": {
    "collapsed": true
   },
   "outputs": [],
   "source": []
  }
 ],
 "metadata": {
  "kernelspec": {
   "display_name": "Python [conda env:science]",
   "language": "python",
   "name": "conda-env-science-py"
  },
  "language_info": {
   "codemirror_mode": {
    "name": "ipython",
    "version": 3
   },
   "file_extension": ".py",
   "mimetype": "text/x-python",
   "name": "python",
   "nbconvert_exporter": "python",
   "pygments_lexer": "ipython3",
   "version": "3.9.2"
  }
 },
 "nbformat": 4,
 "nbformat_minor": 2
}

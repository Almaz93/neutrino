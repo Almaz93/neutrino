{
 "cells": [
  {
   "cell_type": "code",
   "execution_count": 1,
   "metadata": {},
   "outputs": [
    {
     "name": "stdout",
     "output_type": "stream",
     "text": [
      "Populating the interactive namespace from numpy and matplotlib\n"
     ]
    }
   ],
   "source": [
    "import math\n",
    "import numpy as np\n",
    "import pandas as pd\n",
    "import scipy as sc\n",
    "import matplotlib.pyplot as plt\n",
    "from scipy.integrate import quad, trapz\n",
    "\n",
    "%pylab inline"
   ]
  },
  {
   "cell_type": "markdown",
   "metadata": {},
   "source": [
    "### Расчет"
   ]
  },
  {
   "cell_type": "markdown",
   "metadata": {},
   "source": [
    "Некоторые константы"
   ]
  },
  {
   "cell_type": "code",
   "execution_count": 2,
   "metadata": {},
   "outputs": [],
   "source": [
    "Q_EC_76As=0.9233 #in MeV\n",
    "Z_76As=33\n",
    "\n",
    "g_a_g_v=1.297 #ratio of vector and axial coupling constants"
   ]
  },
  {
   "cell_type": "markdown",
   "metadata": {},
   "source": [
    "Функция для расчета порога реакции"
   ]
  },
  {
   "cell_type": "code",
   "execution_count": 3,
   "metadata": {},
   "outputs": [],
   "source": [
    "def Q_k_func(E_k, Q_EC):\n",
    "    #Считаем порог реакции, E_k - энергия возбужденного состояния в BGT\n",
    "    #E_k in KeV\n",
    "    return Q_EC+E_k/1000"
   ]
  },
  {
   "cell_type": "markdown",
   "metadata": {},
   "source": [
    "Привиденная энергия вылетающего электрона: $\\epsilon_e = \\frac{E_{\\nu}-Q_k}{m_e} + 1$"
   ]
  },
  {
   "cell_type": "code",
   "execution_count": 4,
   "metadata": {},
   "outputs": [],
   "source": [
    "def e_e_func(E_nu, E_k, Q_EC):\n",
    "    #Считаем привиденную энергию вылетающего электрона. Если энергия налетающего нейтрино E_nu\n",
    "    #меньше порога, возвращаем 0 для обнуления итогового сечения\n",
    "    #E_nu in MeV\n",
    "    q=Q_k_func(E_k, Q_EC) #порог реакции\n",
    "    if E_nu>q: return 1+(E_nu-q)/0.511\n",
    "    else: return 0 "
   ]
  },
  {
   "cell_type": "markdown",
   "metadata": {},
   "source": [
    "Привиденный импульс электрона: $\\pi_e=\\sqrt{\\epsilon_e^2 -1}$"
   ]
  },
  {
   "cell_type": "code",
   "execution_count": 5,
   "metadata": {},
   "outputs": [],
   "source": [
    "def Pi_e_func(e_e):\n",
    "    #Привиденный импульс электрона, вычисляется через привиденную энергию; ** означает степень  \n",
    "    if e_e>1: return math.sqrt(e_e**2 - 1)\n",
    "    else: return 0"
   ]
  },
  {
   "cell_type": "code",
   "execution_count": 6,
   "metadata": {},
   "outputs": [],
   "source": [
    "def integrate_func(a, b, x, y):\n",
    "    return np.sum( np.interp(x=np.arange(a, b, 0.001), xp=x, fp=y ) * 0.001 )"
   ]
  },
  {
   "cell_type": "markdown",
   "metadata": {},
   "source": [
    "### Fermi-function from Numerical Tables for Beta-Decay and Electron Capture"
   ]
  },
  {
   "cell_type": "markdown",
   "metadata": {},
   "source": [
    "Ферми функия из оцифрованных немецких таблиц. Считываем данные"
   ]
  },
  {
   "cell_type": "code",
   "execution_count": 7,
   "metadata": {},
   "outputs": [
    {
     "name": "stdout",
     "output_type": "stream",
     "text": [
      "<class 'pandas.core.frame.DataFrame'>\n",
      "RangeIndex: 49 entries, 0 to 48\n",
      "Data columns (total 14 columns):\n",
      "P              49 non-null float64\n",
      "F0L0           49 non-null float64\n",
      "L0             48 non-null object\n",
      "1z             48 non-null float64\n",
      "13             48 non-null float64\n",
      "ELECTRON\n",
      "14    48 non-null float64\n",
      "Z= 33\n",
      "Izt      48 non-null float64\n",
      "A= 77          48 non-null float64\n",
      "A,             48 non-null float64\n",
      "A2             48 non-null float64\n",
      "VI2            48 non-null float64\n",
      "912            48 non-null float64\n",
      "12             48 non-null float64\n",
      "Unnamed: 13    48 non-null float64\n",
      "dtypes: float64(13), object(1)\n",
      "memory usage: 5.4+ KB\n"
     ]
    }
   ],
   "source": [
    "Fermi_func_new_data = pd.read_excel('../../fermi_func_tables/from_1968/13.xlsx')\n",
    "Fermi_func_new_data.info()"
   ]
  },
  {
   "cell_type": "markdown",
   "metadata": {},
   "source": [
    "Функция для расчета интерполированного значения. В таблице дана зависимость от импульса вылетающего электрона. Переводим ее в зав-ть от энергии электрона"
   ]
  },
  {
   "cell_type": "code",
   "execution_count": 8,
   "metadata": {},
   "outputs": [],
   "source": [
    "e_e3 = np.sqrt( np.square( Fermi_func_new_data['P'].values ) + 1 ) #энергия вылетающего электрона\n",
    "def num_tables_func(x):\n",
    "    #x in units of mc^2\n",
    "    return np.interp(x=x, xp=e_e3, fp=Fermi_func_new_data['F0L0'].values )"
   ]
  },
  {
   "cell_type": "markdown",
   "metadata": {},
   "source": [
    "### B(GT) data"
   ]
  },
  {
   "cell_type": "markdown",
   "metadata": {},
   "source": [
    "E_x до 5 МэВ!!!"
   ]
  },
  {
   "cell_type": "code",
   "execution_count": 9,
   "metadata": {},
   "outputs": [
    {
     "name": "stdout",
     "output_type": "stream",
     "text": [
      "<class 'pandas.core.frame.DataFrame'>\n",
      "RangeIndex: 73 entries, 0 to 72\n",
      "Data columns (total 5 columns):\n",
      "Unnamed: 0        73 non-null int64\n",
      "Ex                73 non-null float64\n",
      "Jpi               73 non-null object\n",
      "diff cross-sec    73 non-null float64\n",
      "B(GT)             73 non-null float64\n",
      "dtypes: float64(3), int64(1), object(1)\n",
      "memory usage: 2.9+ KB\n"
     ]
    }
   ],
   "source": [
    "BGT=pd.read_csv('../B(GT) peaks processing//clear_B(GT).csv') #таблица со значениями B(GT)\n",
    "BGT.info()"
   ]
  },
  {
   "cell_type": "code",
   "execution_count": 10,
   "metadata": {},
   "outputs": [],
   "source": [
    "BGT['B(GT)'] = BGT['B(GT)']/10 #делим на 10 т.к. в таблице все значения домножены на 10"
   ]
  },
  {
   "cell_type": "code",
   "execution_count": 11,
   "metadata": {},
   "outputs": [],
   "source": [
    "BGT = BGT[ BGT['Jpi'] == '1' ] #отбираем уравни с Jpi == 1"
   ]
  },
  {
   "cell_type": "markdown",
   "metadata": {},
   "source": [
    "### BS05_OP flux"
   ]
  },
  {
   "cell_type": "code",
   "execution_count": 12,
   "metadata": {},
   "outputs": [
    {
     "name": "stdout",
     "output_type": "stream",
     "text": [
      "<class 'pandas.core.frame.DataFrame'>\n",
      "RangeIndex: 2000 entries, 0 to 1999\n",
      "Data columns (total 7 columns):\n",
      "energy    2000 non-null float64\n",
      "pp        2000 non-null float64\n",
      "hep       2000 non-null float64\n",
      "N         2000 non-null float64\n",
      "F         2000 non-null float64\n",
      "O         2000 non-null float64\n",
      "B         2000 non-null float64\n",
      "dtypes: float64(7)\n",
      "memory usage: 109.5 KB\n"
     ]
    }
   ],
   "source": [
    "BS05_OP=pd.read_csv('../Vyborov_results/Fluxes/AllFluxes_BS05(OP).csv', sep=';')\n",
    "BS05_OP.info()"
   ]
  },
  {
   "cell_type": "markdown",
   "metadata": {},
   "source": [
    "создаем словарь, где ключ - название канала нейтрино (напр O или F), значение - двумерный массив, характеризующий интеполированные значения энергии и амплитуды для даннаго канала нейтрино "
   ]
  },
  {
   "cell_type": "code",
   "execution_count": 13,
   "metadata": {},
   "outputs": [],
   "source": [
    "all_fluxes_step = 0.01\n",
    "Energy_all_fluxes = np.arange(0,20,0.01) #массив характеризующий шаги интегрирования"
   ]
  },
  {
   "cell_type": "code",
   "execution_count": 14,
   "metadata": {},
   "outputs": [],
   "source": [
    "BS05_OP_dict = {}\n",
    "for elem in list(BS05_OP.columns)[1:]:\n",
    "    BS05_OP_dict.update({ elem : \n",
    "                        np.interp(x=Energy_all_fluxes, xp=BS05_OP['energy'], \n",
    "                                  fp=BS05_OP[elem] ) })"
   ]
  },
  {
   "cell_type": "markdown",
   "metadata": {},
   "source": [
    "### Cross-section and total rate"
   ]
  },
  {
   "cell_type": "markdown",
   "metadata": {},
   "source": [
    "### Расчет сечения с учетом только дискретных уровней "
   ]
  },
  {
   "cell_type": "markdown",
   "metadata": {},
   "source": [
    "Сечение по Иджири $\\sigma_k={(1.597\\times10^{-44}\\ cm^2)}\\epsilon_e \\pi_e m_e^2 F(Z,E_e) [B(F)_k + (\\frac{g_a}{g_v})^2 B(GT)_k] $ "
   ]
  },
  {
   "cell_type": "code",
   "execution_count": 15,
   "metadata": {},
   "outputs": [],
   "source": [
    "g_a_g_v_square = math.pow(g_a_g_v,2)\n",
    "m_e_square = math.pow(0.511,2)"
   ]
  },
  {
   "cell_type": "code",
   "execution_count": 16,
   "metadata": {},
   "outputs": [],
   "source": [
    "#расчет сечения до энергии возбуждения 5 МэВ\n",
    "def sigma_k_less5(E_nu, E_k, BGT_k, Z, Q_EC):\n",
    "    #E_k in kev\n",
    "    #сечение k-го возб. состояния по Иджири\n",
    "    e_e=e_e_func(E_nu, E_k, Q_EC) #энергия вылетающего электрона\n",
    "    Pi_e=Pi_e_func(e_e) #его импульс\n",
    "    F_col=num_tables_func(e_e) #значение ферм-функции при такой энергии\n",
    "    return m_e_square*e_e*Pi_e*F_col*g_a_g_v_square*BGT_k"
   ]
  },
  {
   "cell_type": "code",
   "execution_count": 17,
   "metadata": {},
   "outputs": [],
   "source": [
    "#функция расчета свертки сечения с потоком\n",
    "def rate_calc(sigma):\n",
    "    \n",
    "    const = 1.597*math.pow(10,-44)\n",
    "\n",
    "    sigma_total = np.array(sigma) * const\n",
    "    \n",
    "    for elem in list(BS05_OP_dict.keys()):\n",
    "        rate = sum(BS05_OP_dict[elem]*sigma_total*all_fluxes_step) * math.pow(10,36)\n",
    "        print(elem, ' ', rate)\n",
    "        \n",
    "#ВНИМАНИЕ: в расчетах pep не учитывается"
   ]
  },
  {
   "cell_type": "markdown",
   "metadata": {},
   "source": [
    "    Считаем свертку потока с сечением. \n",
    "    BS05_OP_dict[elem] - массив со значениями амплитуды потока нейтрино для канала elem.\n",
    "    sigma - массив со значениями суммарного сечения.\n",
    "    all_fluxes_step - шаг интегрирования.\n",
    "    math.pow(10,36) - для получения итогового значения в SNU. "
   ]
  },
  {
   "cell_type": "code",
   "execution_count": 18,
   "metadata": {},
   "outputs": [],
   "source": [
    "sigma_less5=[sum([sigma_k_less5(E_nu, E_k, BGT_k, Z_76As, Q_EC_76As) \n",
    "                  for (BGT_k, E_k) in zip(BGT['B(GT)'].values, BGT['Ex'].values)]) \n",
    "             for E_nu in Energy_all_fluxes]"
   ]
  },
  {
   "cell_type": "code",
   "execution_count": 19,
   "metadata": {},
   "outputs": [
    {
     "data": {
      "text/plain": [
       "<matplotlib.text.Text at 0x7feacba26c18>"
      ]
     },
     "execution_count": 19,
     "metadata": {},
     "output_type": "execute_result"
    },
    {
     "data": {
      "image/png": "[encoded data removed]",
      "text/plain": [
       "<matplotlib.figure.Figure at 0x7feacda91320>"
      ]
     },
     "metadata": {},
     "output_type": "display_data"
    }
   ],
   "source": [
    "plt.figure(figsize=(9,6))\n",
    "plt.plot(Energy_all_fluxes, sigma_less5, c='r')\n",
    "plt.xlabel('$E_{nu}$ (MeV)')\n",
    "plt.ylabel('$\\sigma$ $(cm^2)$')\n",
    "plt.yscale('log')\n",
    "plt.title('Сечение с учетом только дискретных состояний')"
   ]
  },
  {
   "cell_type": "code",
   "execution_count": 20,
   "metadata": {},
   "outputs": [
    {
     "name": "stdout",
     "output_type": "stream",
     "text": [
      "hep   0.0451063572066\n",
      "N   0.101981181764\n",
      "O   0.827549244942\n",
      "B   13.5423079221\n",
      "F   0.0210597366245\n",
      "pp   0.0\n"
     ]
    }
   ],
   "source": [
    "rate_calc(sigma_less5)"
   ]
  },
  {
   "cell_type": "code",
   "execution_count": null,
   "metadata": {},
   "outputs": [],
   "source": []
  },
  {
   "cell_type": "markdown",
   "metadata": {},
   "source": [
    "### Расчет сечения с учетом только GTR\n",
    "GTR в виде гауссовского пика"
   ]
  },
  {
   "cell_type": "code",
   "execution_count": 21,
   "metadata": {},
   "outputs": [],
   "source": [
    "def gauss(x, mu, sigma, k):\n",
    "    return k*np.exp(-np.power(x - mu, 2.) / (2 * np.power(sigma, 2.)))"
   ]
  },
  {
   "cell_type": "markdown",
   "metadata": {},
   "source": [
    "Параметры взяты из декомпозиции"
   ]
  },
  {
   "cell_type": "code",
   "execution_count": 22,
   "metadata": {},
   "outputs": [],
   "source": [
    "mu = 11.05338743\n",
    "sigma = 2.04836474\n",
    "k = 1.40655398"
   ]
  },
  {
   "cell_type": "code",
   "execution_count": 23,
   "metadata": {},
   "outputs": [
    {
     "data": {
      "text/plain": [
       "7.2219356201544649"
      ]
     },
     "execution_count": 23,
     "metadata": {},
     "output_type": "execute_result"
    }
   ],
   "source": [
    "x_norm = np.arange(0, 28, 0.5)\n",
    "y_norm = gauss(x_norm, mu, sigma, k)\n",
    "trapz(y_norm, x_norm)"
   ]
  },
  {
   "cell_type": "markdown",
   "metadata": {},
   "source": [
    "B(GT) = 0.86 x 3(N-Z) = 0.86 x 36 = 30.96. Отнормируем гаусс"
   ]
  },
  {
   "cell_type": "code",
   "execution_count": 24,
   "metadata": {},
   "outputs": [
    {
     "data": {
      "text/plain": [
       "30.960000000000008"
      ]
     },
     "execution_count": 24,
     "metadata": {},
     "output_type": "execute_result"
    }
   ],
   "source": [
    "y_norm = y_norm/trapz(y_norm, x_norm)*30.96\n",
    "trapz(y_norm, x_norm)"
   ]
  },
  {
   "cell_type": "markdown",
   "metadata": {},
   "source": [
    "Сечение для непрерывной части\n",
    "\n",
    "$\\sigma = {(1.597\\times10^{-44}\\ cm^2)} \\int^{z-Q}_{0} {(\\frac{g_a}{g_v})^2 \\cdot \\sqrt{(z-Q-x+0.511)^2-0.511^2} \\cdot (z-Q-x+0.511) \\cdot S(x) \\cdot F(z-Q-x+0.511)} dx $ \n"
   ]
  },
  {
   "cell_type": "code",
   "execution_count": 25,
   "metadata": {},
   "outputs": [],
   "source": [
    "#введем новую переменную p = z - Q\n",
    "def sigma_k_more5(x, p, x_data, y_data):\n",
    "    e_energy = p - x + 0.511\n",
    "    return g_a_g_v_square*np.sqrt(e_energy**2-m_e_square)*e_energy*np.interp(x,xp=x_data,fp=y_data)*num_tables_func(e_energy/0.511) \n"
   ]
  },
  {
   "cell_type": "code",
   "execution_count": 26,
   "metadata": {},
   "outputs": [],
   "source": [
    "p_list = np.arange(0,20, 0.1) #p = z - Q\n",
    "\n",
    "#sigma_more5_temp = [ quad(sigma_k_more5, 0, p, args=(p), limit=200)[0] for p in p_list]\n",
    "sigma_more5_temp = [ sc.integrate.fixed_quad(sigma_k_more5, 0, p, args=(p, x_norm, y_norm), n=20)[0] for p in p_list]\n",
    "#sigma_more5_temp = [ sc.integrate.romberg(sigma_k_more5, 0, p, args=(p,)) for p in p_list]\n",
    "#sigma_more5_temp = [sigma_more5_ab(p) for p in p_list]"
   ]
  },
  {
   "cell_type": "code",
   "execution_count": 27,
   "metadata": {},
   "outputs": [],
   "source": [
    "sigma_more5 = np.interp(Energy_all_fluxes, xp=p_list+Q_EC_76As, fp=sigma_more5_temp)"
   ]
  },
  {
   "cell_type": "code",
   "execution_count": 28,
   "metadata": {},
   "outputs": [
    {
     "data": {
      "image/png": "[encoded data removed]",
      "text/plain": [
       "<matplotlib.figure.Figure at 0x7feacb7c62b0>"
      ]
     },
     "metadata": {},
     "output_type": "display_data"
    }
   ],
   "source": [
    "plt.figure(figsize=(9,6))\n",
    "plt.plot(Energy_all_fluxes, sigma_more5, ls=':', c='r', label='сечение с учетом только GTR')\n",
    "plt.plot(Energy_all_fluxes, sigma_less5, ls='-.', c='g', label='сечение с учетом только дискретных уровней')\n",
    "plt.plot(Energy_all_fluxes, sigma_less5+sigma_more5, ls='--', c='b', label='суммарное сечение')\n",
    "plt.xlabel('$E_{nu}$ (MeV)')\n",
    "plt.ylabel('$\\sigma$ $(cm^2)$')\n",
    "plt.yscale('log')\n",
    "plt.legend()\n",
    "plt.grid()\n",
    "#plt.title('Сечение с учетом только дискретных состояний')"
   ]
  },
  {
   "cell_type": "code",
   "execution_count": 29,
   "metadata": {},
   "outputs": [
    {
     "name": "stdout",
     "output_type": "stream",
     "text": [
      "hep   0.106790138718\n",
      "N   0.101981768304\n",
      "O   0.82755868403\n",
      "B   17.2718273122\n",
      "F   0.0210599786554\n",
      "pp   0.0\n"
     ]
    }
   ],
   "source": [
    "rate_calc(sigma_less5+sigma_more5)"
   ]
  },
  {
   "cell_type": "markdown",
   "metadata": {},
   "source": [
    "Немного технической работы для перепроверки на маткаде"
   ]
  },
  {
   "cell_type": "code",
   "execution_count": 30,
   "metadata": {},
   "outputs": [],
   "source": [
    "GTR_df = pd.DataFrame({'x':x_norm, 'y':y_norm})\n",
    "GTR_df.to_csv('gtr_influence/GTR.csv', sep=';')"
   ]
  },
  {
   "cell_type": "code",
   "execution_count": 31,
   "metadata": {},
   "outputs": [],
   "source": [
    "sigma_more5_df = pd.DataFrame({'Energy':Energy_all_fluxes, 'cross sec':sigma_more5})\n",
    "sigma_more5_df.to_csv('gtr_influence/sigma_more5.csv', sep=';')"
   ]
  },
  {
   "cell_type": "code",
   "execution_count": 32,
   "metadata": {},
   "outputs": [],
   "source": [
    "Energy_all_fluxes_short = np.arange(0, 20, 0.5)\n",
    "sigma_more5_short_df = pd.DataFrame({'Energy':Energy_all_fluxes_short,\n",
    "                                     'cross sec':np.interp(Energy_all_fluxes_short, xp=Energy_all_fluxes, fp=sigma_more5)})\n",
    "\n",
    "sigma_more5_short_df.to_csv('gtr_influence/sigma_more5_short.csv', sep=';')"
   ]
  },
  {
   "cell_type": "code",
   "execution_count": 33,
   "metadata": {},
   "outputs": [
    {
     "data": {
      "text/plain": [
       "[<matplotlib.lines.Line2D at 0x7feacba195f8>]"
      ]
     },
     "execution_count": 33,
     "metadata": {},
     "output_type": "execute_result"
    },
    {
     "data": {
      "image/png": "[encoded data removed]",
      "text/plain": [
       "<matplotlib.figure.Figure at 0x7feacb853f28>"
      ]
     },
     "metadata": {},
     "output_type": "display_data"
    }
   ],
   "source": [
    "#fermi_func_df = pd.DataFrame({'Energy in m_e units':Energy_all_fluxes, \n",
    "#                              'f_value':num_tables_func(Energy_all_fluxes)})\n",
    "#fermi_func_df.to_csv('gtr_influence/fermi_func.csv', sep=',')\n",
    "fermi_func_df = pd.DataFrame({'Energy in m_e units':e_e3, 'f_value':Fermi_func_new_data['F0L0'].values})\n",
    "fermi_func_df.to_csv('gtr_influence/fermi_func.csv', sep=';')\n",
    "\n",
    "#a=num_tables_func(Energy_all_fluxes)\n",
    "plt.plot(fermi_func_df['Energy in m_e units'], fermi_func_df['f_value'])"
   ]
  },
  {
   "cell_type": "code",
   "execution_count": null,
   "metadata": {},
   "outputs": [],
   "source": []
  },
  {
   "cell_type": "markdown",
   "metadata": {},
   "source": [
    "### Расчет сечения с учетом только IAS\n",
    "IAS в виде гауссовского пика, параметры взяты из декомпозиции"
   ]
  },
  {
   "cell_type": "code",
   "execution_count": 34,
   "metadata": {},
   "outputs": [
    {
     "data": {
      "text/plain": [
       "0.97211298996327966"
      ]
     },
     "execution_count": 34,
     "metadata": {},
     "output_type": "execute_result"
    },
    {
     "data": {
      "image/png": "[encoded data removed]",
      "text/plain": [
       "<matplotlib.figure.Figure at 0x7feacb8fd9e8>"
      ]
     },
     "metadata": {},
     "output_type": "display_data"
    }
   ],
   "source": [
    "m_IAS = 8.31025152e+00\n",
    "s_IAS = -1.41850172e-02\n",
    "k_IAS = 2.73399015e+01\n",
    "\n",
    "x_IAS = np.arange(8, 9, 0.001)\n",
    "y_IAS = gauss(x_IAS, m_IAS, s_IAS, k_IAS)\n",
    "\n",
    "plt.plot(x_IAS, y_IAS)\n",
    "trapz(y_IAS, x_IAS)"
   ]
  },
  {
   "cell_type": "markdown",
   "metadata": {},
   "source": [
    "IAS\n",
    "0.86 x (N-Z) = 0.86 x 12 = 10.32. Нормируем "
   ]
  },
  {
   "cell_type": "code",
   "execution_count": 35,
   "metadata": {},
   "outputs": [
    {
     "data": {
      "text/plain": [
       "10.319999999999999"
      ]
     },
     "execution_count": 35,
     "metadata": {},
     "output_type": "execute_result"
    }
   ],
   "source": [
    "y_IAS = y_IAS/trapz(y_IAS, x_IAS)*10.32\n",
    "trapz(y_IAS, x_IAS)"
   ]
  },
  {
   "cell_type": "code",
   "execution_count": 36,
   "metadata": {},
   "outputs": [],
   "source": [
    "def sigma_k_IAS(x, p, x_data, y_data):\n",
    "    e_energy = p - x + 0.511\n",
    "    return np.sqrt(e_energy**2-m_e_square)*e_energy*np.interp(x,xp=x_data,fp=y_data)*num_tables_func(e_energy/0.511) \n"
   ]
  },
  {
   "cell_type": "code",
   "execution_count": 40,
   "metadata": {},
   "outputs": [
    {
     "name": "stderr",
     "output_type": "stream",
     "text": [
      "/usr/local/lib/python3.5/dist-packages/scipy/integrate/quadpack.py:364: IntegrationWarning: The occurrence of roundoff error is detected, which prevents \n",
      "  the requested tolerance from being achieved.  The error may be \n",
      "  underestimated.\n",
      "  warnings.warn(msg, IntegrationWarning)\n"
     ]
    }
   ],
   "source": [
    "p_list = np.arange(8.5,20, 0.1) #p = z - Q\n",
    "\n",
    "sigma_IAS_temp = [ quad(sigma_k_IAS, 8.2, 8.4, args=(p, x_IAS, y_IAS), limit=200)[0] for p in p_list]\n",
    "#sigma_IAS_temp = [ sc.integrate.fixed_quad(sigma_k_IAS, 8, p, args=(p, x_IAS, y_IAS), n=20)[0] for p in p_list]\n",
    "#sigma_IAS_temp = [ sc.integrate.romberg(sigma_k_IAS, 8, p, args=(p, x_IAS, y_IAS)) for p in p_list]\n",
    "\n",
    "#добавляем нулевой элемент в начало\n",
    "sigma_IAS_temp = np.append([0,], sigma_IAS_temp)\n",
    "p_list = np.append([8.4,], p_list)\n",
    "\n",
    "sigma_IAS = np.interp(Energy_all_fluxes, xp=p_list+Q_EC_76As, fp=sigma_IAS_temp)"
   ]
  },
  {
   "cell_type": "code",
   "execution_count": 41,
   "metadata": {},
   "outputs": [
    {
     "data": {
      "text/plain": [
       "<matplotlib.legend.Legend at 0x7feacb620ac8>"
      ]
     },
     "execution_count": 41,
     "metadata": {},
     "output_type": "execute_result"
    },
    {
     "data": {
      "image/png": "[encoded data removed]",
      "text/plain": [
       "<matplotlib.figure.Figure at 0x7feacb500d68>"
      ]
     },
     "metadata": {},
     "output_type": "display_data"
    }
   ],
   "source": [
    "plt.figure(figsize=(9,6))\n",
    "plt.plot(Energy_all_fluxes, sigma_IAS, c='r', ls=':', label='учет только IAS')\n",
    "plt.plot(Energy_all_fluxes, sigma_less5, c='g', ls='--', label='учет только дискретных уровней')\n",
    "plt.plot(Energy_all_fluxes, sigma_more5, c='b', ls='-.', label='учет только GTR')\n",
    "plt.plot(Energy_all_fluxes, sigma_less5+sigma_more5+sigma_IAS, c='violet', label='суммарное сечение')\n",
    "plt.xlabel('$E_{nu}$ (MeV)')\n",
    "plt.ylabel('$\\sigma$ $(cm^2)$')\n",
    "plt.yscale('log')\n",
    "plt.grid()\n",
    "plt.legend()\n",
    "#plt.title('Сечение с учетом только дискретных состояний')"
   ]
  },
  {
   "cell_type": "code",
   "execution_count": 42,
   "metadata": {},
   "outputs": [
    {
     "name": "stdout",
     "output_type": "stream",
     "text": [
      "hep   0.136542376673\n",
      "N   0.101981768304\n",
      "O   0.82755868403\n",
      "B   19.455026206\n",
      "F   0.0210599786554\n",
      "pp   0.0\n"
     ]
    }
   ],
   "source": [
    "rate_calc(sigma_less5+sigma_more5+sigma_IAS)"
   ]
  },
  {
   "cell_type": "code",
   "execution_count": null,
   "metadata": {},
   "outputs": [],
   "source": []
  },
  {
   "cell_type": "code",
   "execution_count": null,
   "metadata": {},
   "outputs": [],
   "source": []
  },
  {
   "cell_type": "code",
   "execution_count": null,
   "metadata": {},
   "outputs": [],
   "source": []
  }
 ],
 "metadata": {
  "kernelspec": {
   "display_name": "Python 3",
   "language": "python",
   "name": "python3"
  },
  "language_info": {
   "codemirror_mode": {
    "name": "ipython",
    "version": 3
   },
   "file_extension": ".py",
   "mimetype": "text/x-python",
   "name": "python",
   "nbconvert_exporter": "python",
   "pygments_lexer": "ipython3",
   "version": "3.5.2"
  }
 },
 "nbformat": 4,
 "nbformat_minor": 2
}

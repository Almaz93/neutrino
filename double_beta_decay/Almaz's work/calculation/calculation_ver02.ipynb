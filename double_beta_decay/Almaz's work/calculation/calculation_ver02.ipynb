{
 "cells": [
  {
   "cell_type": "code",
   "execution_count": 1,
   "metadata": {},
   "outputs": [
    {
     "name": "stdout",
     "output_type": "stream",
     "text": [
      "Populating the interactive namespace from numpy and matplotlib\n"
     ]
    }
   ],
   "source": [
    "import math\n",
    "import numpy as np\n",
    "import pandas as pd\n",
    "import scipy as sc\n",
    "import matplotlib.pyplot as plt\n",
    "%pylab inline"
   ]
  },
  {
   "cell_type": "markdown",
   "metadata": {},
   "source": [
    "Определяем константы для 76As и 37Ar"
   ]
  },
  {
   "cell_type": "code",
   "execution_count": 2,
   "metadata": {},
   "outputs": [],
   "source": [
    "Q_EC_76As=0.9233 #in MeV\n",
    "Z_76As=33\n",
    "log_ft_76As=5.0\n",
    "\n",
    "Q_EC_37Ar=0.81387 #in MeV\n",
    "Z_37Ar=18\n",
    "log_ft_37Ar=5.1\n",
    "\n",
    "g_a_g_v=1.297 #ratio of vector and axial coupling constants"
   ]
  },
  {
   "cell_type": "code",
   "execution_count": 3,
   "metadata": {},
   "outputs": [],
   "source": [
    "def Q_k_func(E_k, Q_EC):\n",
    "    #Считаем порог реакции, E_k - энергия возбужденного состояния\n",
    "    #E_k in KeV\n",
    "    return Q_EC+E_k/1000"
   ]
  },
  {
   "cell_type": "markdown",
   "metadata": {},
   "source": [
    "Привиденная энергия вылетающего электрона: $\\epsilon_e = \\frac{E_{\\nu}-Q_k}{m_e} + 1$"
   ]
  },
  {
   "cell_type": "code",
   "execution_count": 4,
   "metadata": {},
   "outputs": [],
   "source": [
    "def e_e_func(E_nu, E_k, Q_EC):\n",
    "    #Считаем привиденную энергию вылетающего электрона. Если энергия налетающего нейтрино E_nu\n",
    "    #меньше порога, возвращаем 0 для обнуления итогового сечения\n",
    "    #E_nu in MeV\n",
    "    q=Q_k_func(E_k, Q_EC) #порог реакции\n",
    "    if E_nu>q: return 1+(E_nu-q)/0.511\n",
    "    else: return 0 "
   ]
  },
  {
   "cell_type": "markdown",
   "metadata": {},
   "source": [
    "Привиденный импульс электрона: $\\pi_e=\\sqrt{\\epsilon_e^2 -1}$"
   ]
  },
  {
   "cell_type": "code",
   "execution_count": 5,
   "metadata": {},
   "outputs": [],
   "source": [
    "def Pi_e_func(e_e):\n",
    "    #Привиденный импульс электрона, вычисляется через привиденную энергию; ** означает степень  \n",
    "    if e_e>1: return math.sqrt(e_e**2 - 1)\n",
    "    else: return 0"
   ]
  },
  {
   "cell_type": "markdown",
   "metadata": {},
   "source": [
    "Ферми функция по Инжечику: $F(Z, {\\epsilon}_e)= \\frac{y}{1-e^{-y}}$, где $ {y} = \\frac{2{\\pi}Z\\alpha}{\\pi_e} $"
   ]
  },
  {
   "cell_type": "code",
   "execution_count": 6,
   "metadata": {},
   "outputs": [],
   "source": [
    "def Columb_func(Pi_e, Z):\n",
    "    #ферми функция по Инжечику\n",
    "    if Pi_e>0:\n",
    "        y_k=(2*math.pi*Z)/(Pi_e*137)\n",
    "        return y_k/(1-math.exp(-y_k))\n",
    "    else: return 0"
   ]
  },
  {
   "cell_type": "markdown",
   "metadata": {},
   "source": [
    "Ферми функция по Бакалу: $F(Z, {\\epsilon}_e)= \\frac{y}{1-e^{-y}}$, где $ {y} = \\frac{2{\\pi}Z\\alpha \\epsilon_e}{\\pi_e} $"
   ]
  },
  {
   "cell_type": "code",
   "execution_count": 7,
   "metadata": {},
   "outputs": [],
   "source": [
    "def Columb_func_Bahcall(Pi_e, Z, e_e):\n",
    "    #ферми функция по Бакалу\n",
    "    if Pi_e>0:\n",
    "        y_k=(2*math.pi*Z*e_e)/(Pi_e*137)\n",
    "        return y_k/(1-math.exp(-y_k))\n",
    "    else: return 0"
   ]
  },
  {
   "cell_type": "markdown",
   "metadata": {},
   "source": [
    "Ферми функция из таблиц Суслова"
   ]
  },
  {
   "cell_type": "code",
   "execution_count": 8,
   "metadata": {},
   "outputs": [],
   "source": [
    "Fermi_func_data = pd.read_csv('../../fermi_func_tables/Interp.csv')\n",
    "#Fermi_func.info()\n",
    "\n",
    "def Fermi_func(e_e):\n",
    "    #input привиденная энергия электрона\n",
    "    return np.interp(x = (e_e-0.511)*0.511, xp = Fermi_func_data['E_meV'], \n",
    "                     fp = Fermi_func_data['F_value'])"
   ]
  },
  {
   "cell_type": "markdown",
   "metadata": {},
   "source": [
    "Сечение по Инжечику $\\sigma_k=\\frac{0.2625}{10^{log ft}}\\frac{2J_k+1}{2J_i+1} \\epsilon_e \\pi_e F(Z, \\epsilon_e)10^{-40}$ $cm^2$ "
   ]
  },
  {
   "cell_type": "code",
   "execution_count": 9,
   "metadata": {},
   "outputs": [],
   "source": [
    "def sigma_k_Inzh_Suslov(J_k, J_i, E_nu, E_k, log_ft, Z, Q_EC):\n",
    "    #сечение k-го возб. состояния по Инжечику. J_k - угл. момент k-го возб. состояния\n",
    "    #промежуточного ядра, J_i - угл. мом. первичного ядра. E_k - энергия возб. k-го состояния\n",
    "    e_e=e_e_func(E_nu, E_k, Q_EC) #привиденная энергия\n",
    "    Pi_e=Pi_e_func(e_e)#привиденный импульс\n",
    "    F_col=Fermi_func(e_e)#ферми функция\n",
    "    return 0.2625*( (2*J_k+1)/(2*J_i+1) )*e_e*Pi_e*F_col/(math.pow(10, log_ft))*math.pow(10, -40)"
   ]
  },
  {
   "cell_type": "code",
   "execution_count": 10,
   "metadata": {},
   "outputs": [],
   "source": [
    "def sigma_k_Inzh_Bahcall(J_k, J_i, E_nu, E_k, log_ft, Z, Q_EC):\n",
    "    #сечение k-го возб. состояния по Инжечику с бакаловской ферми функцией\n",
    "    e_e=e_e_func(E_nu, E_k, Q_EC)\n",
    "    Pi_e=Pi_e_func(e_e)\n",
    "    F_col=Columb_func_Bahcall(Pi_e, Z, e_e)\n",
    "    #print(e_e,Pi_e,F_col)\n",
    "#    return 0.2625*(2*J_k+1)*e_e*Pi_e*F_col/(math.pow(10, log_ft))*math.pow(10, -40)\n",
    "    return 0.2625*( (2*J_k+1)/(2*J_i+1) )*e_e*Pi_e*F_col/(math.pow(10, log_ft))*10**(-40)"
   ]
  },
  {
   "cell_type": "code",
   "execution_count": 11,
   "metadata": {},
   "outputs": [],
   "source": [
    "def sigma_k_Inzh_Inzh(J_k, J_i, E_nu, E_k, log_ft, Z, Q_EC):\n",
    "    #сечение k-го возб. состояния по Инжечику. J_k - угл. момент k-го возб. состояния\n",
    "    #промежуточного ядра, J_i - угл. мом. первичного ядра. E_k - энергия возб. k-го состояния\n",
    "    e_e=e_e_func(E_nu, E_k, Q_EC) #привиденная энергия\n",
    "    Pi_e=Pi_e_func(e_e)#привиденный импульс\n",
    "    F_col=Columb_func(Pi_e, Z)#ферми функция\n",
    "    return 0.2625*( (2*J_k+1)/(2*J_i+1) )*e_e*Pi_e*F_col/(math.pow(10, log_ft))*math.pow(10, -40)"
   ]
  },
  {
   "cell_type": "markdown",
   "metadata": {},
   "source": [
    "Сечение по Иджири $\\sigma_k={(1.597\\times10^{-44}\\ cm^2)}\\epsilon_e \\pi_e m_e^2 F(Z,E_e) [B(F)_k + (\\frac{g_a}{g_v})^2 B(GT)_k] $ "
   ]
  },
  {
   "cell_type": "code",
   "execution_count": 12,
   "metadata": {},
   "outputs": [],
   "source": [
    "def sigma_k_Ejiri_Suslov(E_nu, E_k, BGT_k, Z, Q_EC):\n",
    "    #сечение k-го возб. состояния по Иджири\n",
    "    e_e=e_e_func(E_nu, E_k, Q_EC)\n",
    "    Pi_e=Pi_e_func(e_e)\n",
    "    F_col=Fermi_func(e_e)#ферми функция\n",
    "    #F_col=Columb_func_Bahcall(Pi_e, Z, e_e)\n",
    "    return e_e*Pi_e*F_col*math.pow(0.511,2)*math.pow(g_a_g_v,2)*BGT_k*1.597*math.pow(10,-44)"
   ]
  },
  {
   "cell_type": "code",
   "execution_count": 13,
   "metadata": {},
   "outputs": [],
   "source": [
    "def sigma_k_Ejiri_Bahcall(E_nu, E_k, BGT_k, Z, Q_EC):\n",
    "    #сечение k-го возб. состояния по Иджири\n",
    "    e_e=e_e_func(E_nu, E_k, Q_EC)\n",
    "    Pi_e=Pi_e_func(e_e)\n",
    "    #F_col=Fermi_func(e_e)#ферми функция\n",
    "    F_col=Columb_func_Bahcall(Pi_e, Z, e_e)\n",
    "    return e_e*Pi_e*F_col*math.pow(0.511,2)*math.pow(g_a_g_v,2)*BGT_k*1.597*math.pow(10,-44)"
   ]
  },
  {
   "cell_type": "markdown",
   "metadata": {},
   "source": [
    "## Подсчет для 76As\n",
    "\n",
    "Считываем данные по энергии возбуждения $E_x$ и $J_\\pi$"
   ]
  },
  {
   "cell_type": "code",
   "execution_count": 14,
   "metadata": {},
   "outputs": [
    {
     "name": "stdout",
     "output_type": "stream",
     "text": [
      "<class 'pandas.core.frame.DataFrame'>\n",
      "RangeIndex: 126 entries, 0 to 125\n",
      "Data columns (total 2 columns):\n",
      "Elevel_(keV)    126 non-null float64\n",
      "Jπ_korrect      126 non-null int64\n",
      "dtypes: float64(1), int64(1)\n",
      "memory usage: 2.0 KB\n"
     ]
    }
   ],
   "source": [
    "J_k_As_max = pd.read_csv('j_data_76As_maximal_values.csv')  #для состояний с неизвестным J \n",
    "#считалось что J=1\n",
    "J_k_As_max.info()"
   ]
  },
  {
   "cell_type": "code",
   "execution_count": 15,
   "metadata": {},
   "outputs": [
    {
     "name": "stdout",
     "output_type": "stream",
     "text": [
      "<class 'pandas.core.frame.DataFrame'>\n",
      "RangeIndex: 65 entries, 0 to 64\n",
      "Data columns (total 4 columns):\n",
      "E_x_keV                              65 non-null float64\n",
      "J_pi                                 65 non-null int64\n",
      "B(GT)                                65 non-null object\n",
      "all levels with B(GT)<0.1 removed    0 non-null float64\n",
      "dtypes: float64(2), int64(1), object(1)\n",
      "memory usage: 2.1+ KB\n"
     ]
    }
   ],
   "source": [
    "J_k_As_Ejiri = pd.read_csv('j_data_76As_Ejiri.csv') \n",
    "J_k_As_Ejiri.info()"
   ]
  },
  {
   "cell_type": "code",
   "execution_count": 16,
   "metadata": {},
   "outputs": [
    {
     "name": "stdout",
     "output_type": "stream",
     "text": [
      "<class 'pandas.core.frame.DataFrame'>\n",
      "RangeIndex: 73 entries, 0 to 72\n",
      "Data columns (total 5 columns):\n",
      "Unnamed: 0        73 non-null int64\n",
      "Ex                73 non-null float64\n",
      "Jpi               73 non-null object\n",
      "diff cross-sec    73 non-null float64\n",
      "B(GT)             73 non-null float64\n",
      "dtypes: float64(3), int64(1), object(1)\n",
      "memory usage: 2.9+ KB\n"
     ]
    }
   ],
   "source": [
    "BGT=pd.read_csv('../B(GT) peaks processing/clear_B(GT).csv') #таблица со значениями B(GT)\n",
    "BGT.info()"
   ]
  },
  {
   "cell_type": "code",
   "execution_count": 17,
   "metadata": {},
   "outputs": [],
   "source": [
    "BGT['B(GT)'] = BGT['B(GT)']/10"
   ]
  },
  {
   "cell_type": "code",
   "execution_count": 18,
   "metadata": {},
   "outputs": [
    {
     "name": "stdout",
     "output_type": "stream",
     "text": [
      "<class 'pandas.core.frame.DataFrame'>\n",
      "RangeIndex: 2000 entries, 0 to 1999\n",
      "Data columns (total 2 columns):\n",
      "energy          2000 non-null float64\n",
      "sum_spectrum    2000 non-null float64\n",
      "dtypes: float64(2)\n",
      "memory usage: 31.3 KB\n"
     ]
    }
   ],
   "source": [
    "fluxes=pd.read_csv('../Vyborov_results/Fluxes/SumFluxes.csv', sep=';')\n",
    "fluxes.info()"
   ]
  },
  {
   "cell_type": "code",
   "execution_count": 19,
   "metadata": {},
   "outputs": [],
   "source": [
    "#E_nu_list=fluxes['energy'].values\n",
    "E_nu_list=np.arange(0,10,0.01)\n",
    "sum_spectrum=fluxes['sum_spectrum'].values\n",
    "step_size=0.01 #MeV"
   ]
  },
  {
   "cell_type": "code",
   "execution_count": 20,
   "metadata": {},
   "outputs": [],
   "source": [
    "#Зависимости сечения от энергии нейтрино для:\n",
    "#метод Иджири, Ферми функция Суслова, все возб. состояния\n",
    "Ej_76As_Suslov=[sum([sigma_k_Ejiri_Suslov(E_nu, E_k, BGT_k, Z_76As, Q_EC_76As) \n",
    "                            for (BGT_k, E_k) in zip(BGT['B(GT)'].values, BGT['Ex'].values)])\n",
    "                 for E_nu in E_nu_list]\n",
    "Ej_76As_Bahcall=[sum([sigma_k_Ejiri_Bahcall(E_nu, E_k, BGT_k, Z_76As, Q_EC_76As) \n",
    "                            for (BGT_k, E_k) in zip(BGT['B(GT)'].values, BGT['Ex'].values)])\n",
    "                 for E_nu in E_nu_list]\n",
    "\n",
    "#метод Инжечика, Ферми функция Суслова, все возб. состояния, для состояний с неизвестным J считалось что J=1\n",
    "Inzh_76As_Suslov=[sum([sigma_k_Inzh_Suslov(J_k, 0, E_nu, E_k, log_ft_76As, Z_76As, Q_EC_76As) for (J_k, E_k)\n",
    "                      in zip(J_k_As_max['Jπ_korrect'].values, J_k_As_max['Elevel_(keV)'].values)])\n",
    "                 for E_nu in E_nu_list]\n",
    "#метод Инжечика, Ферми функция Бакала, все возб. состояния, для состояний с неизвестным J считалось что J=1\n",
    "Inzh_76As_Bahcall=[sum([sigma_k_Inzh_Bahcall(J_k, 0, E_nu, E_k, log_ft_76As, Z_76As, Q_EC_76As) for (J_k, E_k)\n",
    "                      in zip(J_k_As_max['Jπ_korrect'].values, J_k_As_max['Elevel_(keV)'].values)])\n",
    "                 for E_nu in E_nu_list]\n",
    "#метод Инжечика, Ферми функция Инжечика, все возб. состояния, для состояний с неизвестным J считалось что J=1\n",
    "Inzh_76As_Inzh=[sum([sigma_k_Inzh_Inzh(J_k, 0, E_nu, E_k, log_ft_76As, Z_76As, Q_EC_76As) for (J_k, E_k)\n",
    "                      in zip(J_k_As_max['Jπ_korrect'].values, J_k_As_max['Elevel_(keV)'].values)])\n",
    "                 for E_nu in E_nu_list]"
   ]
  },
  {
   "cell_type": "code",
   "execution_count": 21,
   "metadata": {},
   "outputs": [],
   "source": [
    "#метод Инжечика, Ферми функция Суслова, J_pi из статьи Иджири\n",
    "Inzh_76As_Suslov_Ejiri=[sum([sigma_k_Inzh_Suslov(J_k, 0, E_nu, E_k, log_ft_76As, Z_76As, Q_EC_76As) for (J_k, E_k)\n",
    "                      in zip(J_k_As_Ejiri['J_pi'].values, J_k_As_Ejiri['E_x_keV'].values)])\n",
    "                 for E_nu in E_nu_list]"
   ]
  },
  {
   "cell_type": "code",
   "execution_count": 22,
   "metadata": {},
   "outputs": [
    {
     "data": {
      "image/png": "[encoded data removed]",
      "text/plain": [
       "<matplotlib.figure.Figure at 0x7f0af41030f0>"
      ]
     },
     "metadata": {},
     "output_type": "display_data"
    }
   ],
   "source": [
    "plt.figure(figsize=(12,5))\n",
    "#plt.plot(E_nu_list, Inzh_76As_Suslov, c='red', ls=':', label='76As Inzh, Suslov Fermi func')\n",
    "#plt.plot(E_nu_list, Inzh_76As_Bahcall, c='blue',ls='-', label='76As Inzh, Bahcall Fermi func')\n",
    "#plt.plot(E_nu_list, Inzh_76As_Inzh, c='violet',ls='--', label='76As Inzh, Inzh Fermi func')\n",
    "#plt.plot(E_nu_list, Inzh_76As_Suslov_Ejiri, c='orange', ls='--', label='76As Inzh, Suslov Fermi func, J_pi form Ejiri')\n",
    "\n",
    "plt.plot(E_nu_list, Ej_76As_Suslov, c='green',ls='-.', label='76As Ejiri, Suslov Fermi func')\n",
    "plt.plot(E_nu_list, Ej_76As_Bahcall, c='black',ls=':',marker='x', markevery=40, label='76As Ejiri, Bahcall Fermi func')\n",
    "plt.grid()\n",
    "plt.legend()\n",
    "plt.xlabel('$E_{nu}$ (MeV)')\n",
    "plt.ylabel('$\\sigma$ $(cm^2)$')\n",
    "plt.yscale('log')\n",
    "#plt.xscale('log')"
   ]
  },
  {
   "cell_type": "markdown",
   "metadata": {},
   "source": [
    "### R calculation"
   ]
  },
  {
   "cell_type": "code",
   "execution_count": 23,
   "metadata": {},
   "outputs": [
    {
     "name": "stdout",
     "output_type": "stream",
     "text": [
      "<class 'pandas.core.frame.DataFrame'>\n",
      "RangeIndex: 2000 entries, 0 to 1999\n",
      "Data columns (total 2 columns):\n",
      "energy          2000 non-null float64\n",
      "sum_spectrum    2000 non-null float64\n",
      "dtypes: float64(2)\n",
      "memory usage: 31.3 KB\n"
     ]
    }
   ],
   "source": [
    "fluxes=pd.read_csv('../Vyborov_results/Fluxes/SumFluxes.csv', sep=';')\n",
    "fluxes.info()"
   ]
  },
  {
   "cell_type": "code",
   "execution_count": 24,
   "metadata": {},
   "outputs": [],
   "source": [
    "E_nu_list=fluxes['energy'].values\n",
    "sum_spectrum=fluxes['sum_spectrum'].values\n",
    "step_size=0.01 #MeV"
   ]
  },
  {
   "cell_type": "code",
   "execution_count": 25,
   "metadata": {},
   "outputs": [],
   "source": [
    "Ej_76As_Bahcall=[sum([sigma_k_Ejiri_Bahcall(E_nu, E_k, BGT_k, Z_76As, Q_EC_76As) \n",
    "                            for (BGT_k, E_k) in zip(BGT['B(GT)'].values, BGT['Ex'].values)])\n",
    "                 for E_nu in E_nu_list]"
   ]
  },
  {
   "cell_type": "code",
   "execution_count": 26,
   "metadata": {},
   "outputs": [
    {
     "data": {
      "image/png": "[encoded data removed]",
      "text/plain": [
       "<matplotlib.figure.Figure at 0x7f0ac46c4240>"
      ]
     },
     "metadata": {},
     "output_type": "display_data"
    }
   ],
   "source": [
    "plt.figure(figsize=(12,5))\n",
    "plt.plot(E_nu_list, Ej_76As_Bahcall, c='green', label='76As Ejiri, Bahcall Fermi func')\n",
    "plt.grid()\n",
    "plt.legend()\n",
    "plt.xlabel('$E_{nu}$ (MeV)')\n",
    "plt.ylabel('$\\sigma$ $(cm^2)$')\n",
    "plt.yscale('log')"
   ]
  },
  {
   "cell_type": "code",
   "execution_count": 27,
   "metadata": {},
   "outputs": [],
   "source": [
    "def oscillation(E_nu):\n",
    "    return 0.336+0.117*np.exp((-E_nu-0.1)/4.82)+0.119*np.exp((-E_nu-0.1)/4.88)"
   ]
  },
  {
   "cell_type": "code",
   "execution_count": 28,
   "metadata": {},
   "outputs": [
    {
     "name": "stdout",
     "output_type": "stream",
     "text": [
      "10.5317819131\n"
     ]
    }
   ],
   "source": [
    "#Without pep\n",
    "Ejiri_no_pep = sum(sum_spectrum*Ej_76As_Bahcall*step_size)  * math.pow(10,36)\n",
    "print(Ejiri_no_pep)"
   ]
  },
  {
   "cell_type": "code",
   "execution_count": 29,
   "metadata": {},
   "outputs": [
    {
     "name": "stdout",
     "output_type": "stream",
     "text": [
      "1.17475110534\n"
     ]
    }
   ],
   "source": [
    "#pep\n",
    "pep_ampl=1.453e8\n",
    "pep_en=1.442 #MeV\n",
    "\n",
    "Ejiri_pep=(pep_ampl*math.pow(10,36))*sum([\n",
    "    sigma_k_Ejiri_Bahcall(pep_en, E_k, BGT_k, Z_76As, Q_EC_76As) for (BGT_k, E_k) \n",
    "    in zip(BGT['B(GT)'].values, BGT['Ex'].values)])\n",
    "print(Ejiri_pep)"
   ]
  },
  {
   "cell_type": "code",
   "execution_count": 30,
   "metadata": {},
   "outputs": [
    {
     "name": "stdout",
     "output_type": "stream",
     "text": [
      "Total R= 11.7065330184\n"
     ]
    }
   ],
   "source": [
    "print('Total R=', Ejiri_no_pep+Ejiri_pep)"
   ]
  },
  {
   "cell_type": "code",
   "execution_count": 31,
   "metadata": {},
   "outputs": [],
   "source": [
    "atom_num = 7.9*math.pow(10,27)\n",
    "time = 3600*24*365"
   ]
  },
  {
   "cell_type": "code",
   "execution_count": 32,
   "metadata": {},
   "outputs": [
    {
     "data": {
      "text/plain": [
       "2.9165000796233205"
      ]
     },
     "execution_count": 32,
     "metadata": {},
     "output_type": "execute_result"
    }
   ],
   "source": [
    "(Ejiri_no_pep+Ejiri_pep) / math.pow(10,36) * atom_num * time"
   ]
  },
  {
   "cell_type": "code",
   "execution_count": null,
   "metadata": {},
   "outputs": [],
   "source": []
  }
 ],
 "metadata": {
  "kernelspec": {
   "display_name": "Python 3",
   "language": "python",
   "name": "python3"
  },
  "language_info": {
   "codemirror_mode": {
    "name": "ipython",
    "version": 3
   },
   "file_extension": ".py",
   "mimetype": "text/x-python",
   "name": "python",
   "nbconvert_exporter": "python",
   "pygments_lexer": "ipython3",
   "version": "3.5.2"
  }
 },
 "nbformat": 4,
 "nbformat_minor": 2
}

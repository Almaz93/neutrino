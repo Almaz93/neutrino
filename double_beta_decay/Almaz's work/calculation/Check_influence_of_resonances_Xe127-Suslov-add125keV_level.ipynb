{
 "cells": [
  {
   "cell_type": "code",
   "execution_count": 20,
   "metadata": {},
   "outputs": [
    {
     "name": "stdout",
     "output_type": "stream",
     "text": [
      "Populating the interactive namespace from numpy and matplotlib\n"
     ]
    }
   ],
   "source": [
    "import math\n",
    "import numpy as np\n",
    "import pandas as pd\n",
    "import scipy as sc\n",
    "\n",
    "import matplotlib.pyplot as plt\n",
    "from scipy.integrate import quad, trapz, simps, cumtrapz\n",
    "\n",
    "from scipy.interpolate import interp1d\n",
    "\n",
    "%pylab inline"
   ]
  },
  {
   "cell_type": "markdown",
   "metadata": {},
   "source": [
    "### Расчет"
   ]
  },
  {
   "cell_type": "markdown",
   "metadata": {},
   "source": [
    "Некоторые константы"
   ]
  },
  {
   "cell_type": "code",
   "execution_count": 21,
   "metadata": {},
   "outputs": [],
   "source": [
    "Q_EC_127Xe=0.662 #in MeV\n",
    "Z_127Xe=54\n",
    "\n",
    "g_a_g_v=1.297 #ratio of vector and axial coupling constants\n",
    "\n",
    "BS05_OP_pep_ampl=1.42e8\n",
    "pep_en=1.442 #MeV\n",
    "\n",
    "Be384_en = 0.384 #Mev \n",
    "Be862_en = 0.862 #Mev\n",
    "\n",
    "S_n = 7.246 #энергия отрыва нейтрона\n",
    "\n",
    "total_GT = 53.54\n",
    "#total_GT = 63"
   ]
  },
  {
   "cell_type": "markdown",
   "metadata": {},
   "source": [
    "Функция для расчета порога реакции"
   ]
  },
  {
   "cell_type": "code",
   "execution_count": 22,
   "metadata": {},
   "outputs": [],
   "source": [
    "def Q_k_func(E_k, Q_EC):\n",
    "    #Считаем порог реакции, E_k - энергия возбужденного состояния в BGT\n",
    "    #E_k in KeV\n",
    "    return Q_EC+E_k/1000"
   ]
  },
  {
   "cell_type": "markdown",
   "metadata": {},
   "source": [
    "Привиденная энергия вылетающего электрона: $\\epsilon_e = \\frac{E_{\\nu}-Q_k}{m_e} + 1$"
   ]
  },
  {
   "cell_type": "code",
   "execution_count": 23,
   "metadata": {},
   "outputs": [],
   "source": [
    "def e_e_func(E_nu, E_k, Q_EC):\n",
    "    #Считаем привиденную энергию вылетающего электрона. Если энергия налетающего нейтрино E_nu\n",
    "    #меньше порога, возвращаем 0 для обнуления итогового сечения\n",
    "    #E_nu in MeV\n",
    "    q=Q_k_func(E_k, Q_EC) #порог реакции\n",
    "    if E_nu>q: return 1+(E_nu-q)/0.511\n",
    "    else: return 0 "
   ]
  },
  {
   "cell_type": "markdown",
   "metadata": {},
   "source": [
    "Привиденный импульс электрона: $\\pi_e=\\sqrt{\\epsilon_e^2 -1}$"
   ]
  },
  {
   "cell_type": "code",
   "execution_count": 24,
   "metadata": {},
   "outputs": [],
   "source": [
    "def Pi_e_func(e_e):\n",
    "    #Привиденный импульс электрона, вычисляется через привиденную энергию; ** означает степень  \n",
    "    if e_e>1: return math.sqrt(e_e**2 - 1)\n",
    "    else: return 0"
   ]
  },
  {
   "cell_type": "code",
   "execution_count": 25,
   "metadata": {},
   "outputs": [],
   "source": [
    "def integrate_func(a, b, x, y):\n",
    "    return np.sum( np.interp(x=np.arange(a, b, 0.001), xp=x, fp=y ) * 0.001 )"
   ]
  },
  {
   "cell_type": "markdown",
   "metadata": {},
   "source": [
    "### Fermi-function from Suslov"
   ]
  },
  {
   "cell_type": "code",
   "execution_count": 26,
   "metadata": {},
   "outputs": [],
   "source": [
    "Et_53=[5,6,7,8,9,10,12,14,16,18,20,22,24,26,28,30,35,40,45,50,55,60,65,70,75,80,85,90,95,100,\n",
    "110,120,130,140,150,160,170,180,190,200,210,220,230,240,250,260,270,280,290,300,310,320,330,\n",
    "340,350,360,370,380,390,400,450,500,550,600,650,700,750,800,850,900,950,1000,1100,1200,1300,\n",
    "1400,1500,1600,1700,1800,1900,2000,2200,2400,2600,2800,3000,3200,3400,3600,3800,4000,4500,\n",
    "5000,5500,6000,7000,8000,9000,10000]\n",
    "\n",
    "Ft_53=[43.66,39.89,36.97,34.61,32.67,31.02,28.37,26.31,24.66,23.29,22.18,21.14,20.27,19.51,\n",
    "18.83,18.22,16.94,15.91,15.06,14.35,13.75,13.22,12.76,12.35,11.99,11.66,11.37,11.10,10.85,\n",
    "10.62,10.22,9.879,9.577,9.310,9.074,8.862,8.671,8.498,8.340,8.196,8.063,7.940,7.827,7.721,\n",
    "7.622,7.530,7.443,7.362,7.385,7.212,7.144,7.079,7.017,6.958,6.902,6.848,6.797,6.748,6.701,\n",
    "6.656,6.456,6.289,6.147,6.024,5.916,5.820,5.734,5.656,5.584,5.518,5.457,5.400,5.296,5.203,\n",
    "5.119,5.043,4.973,4.908,4.848,4.791,4.733,4.687,4.594,4.508,4.428,4.354,4.284,4.218,4.156,\n",
    "4.096,4.040,3.985,3.858,3.741,3.633,3.532,3.346,3.191,3.054,2.926]\n",
    "\n",
    "#def Suslov_func(e_e):\n",
    "#def num_tables_func(x):\n",
    "#    #input энергия электрона в МэВ\n",
    "#    return np.interp(x, xp = np.array(Et_53)/511 + 1, \n",
    "#                     fp = np.array(Ft_53))\n",
    "\n",
    "def num_tables_func(x):\n",
    "    #input энергия электрона в МэВ\n",
    "    f = interp1d(x=np.array(Et_53)/511 + 1, y=np.array(Ft_53), kind='linear', \n",
    "                 fill_value='extrapolate')\n",
    "    return f(x)"
   ]
  },
  {
   "cell_type": "code",
   "execution_count": null,
   "metadata": {},
   "outputs": [],
   "source": []
  },
  {
   "cell_type": "markdown",
   "metadata": {},
   "source": [
    "### BS05_OP flux"
   ]
  },
  {
   "cell_type": "code",
   "execution_count": 27,
   "metadata": {},
   "outputs": [],
   "source": [
    "BS05OP_Be = 4.84e9\n",
    "BS05OP_pp = 5.99e10\n",
    "BS05OP_pep = 1.42e8\n",
    "BS05OP_hep = 7.93e3\n",
    "BS05OP_B = 5.69e6\n",
    "BS05OP_N = 3.07e8\n",
    "BS05OP_0 = 2.33e8\n",
    "BS05OP_F = 5.84e6"
   ]
  },
  {
   "cell_type": "code",
   "execution_count": 28,
   "metadata": {},
   "outputs": [],
   "source": [
    "BP98_Be = 4.80e9\n",
    "BP98_pp = 5.94e10\n",
    "BP98_pep = 1.39e8\n",
    "BP98_hep = 2.10e3\n",
    "BP98_B = 5.15e6 \n",
    "BP98_N = 6.05e8\n",
    "BP98_0 = 5.32e8\n",
    "BP98_F = 6.33e6"
   ]
  },
  {
   "cell_type": "code",
   "execution_count": 29,
   "metadata": {},
   "outputs": [],
   "source": [
    "BP98_OPAL92_Be = 4.94e9\n",
    "BP98_OPAL92_pp = 5.92e10\n",
    "BP98_OPAL92_pep = 1.39e8\n",
    "BP98_OPAL92_hep = 2.08e3\n",
    "BP98_OPAL92_B = 5.44e6 \n",
    "BP98_OPAL92_N = 6.25e8\n",
    "BP98_OPAL92_0 = 5.52e8\n",
    "BP98_OPAL92_F = 6.59e6"
   ]
  },
  {
   "cell_type": "code",
   "execution_count": 30,
   "metadata": {},
   "outputs": [],
   "source": [
    "#B16-GS98 - high metallicity\n",
    "B16_GS98_Be = 4.93e9\n",
    "B16_GS98_pp = 5.98e10\n",
    "B16_GS98_pep = 1.44e8\n",
    "B16_GS98_hep = 7.98e3\n",
    "B16_GS98_B = 5.46e6 \n",
    "B16_GS98_N = 2.78e8\n",
    "B16_GS98_0 = 2.05e8\n",
    "B16_GS98_F = 5.29e6"
   ]
  },
  {
   "cell_type": "code",
   "execution_count": 31,
   "metadata": {},
   "outputs": [],
   "source": [
    "#B16-AGSS09met - low metallicity\n",
    "B16_AGSS09met_Be = 4.50e9\n",
    "B16_AGSS09met_pp = 6.03e10\n",
    "B16_AGSS09met_pep = 1.46e8\n",
    "B16_AGSS09met_hep = 8.25e3\n",
    "B16_AGSS09met_B = 4.50e6 \n",
    "B16_AGSS09met_N = 2.04e8\n",
    "B16_AGSS09met_0 = 1.44e8\n",
    "B16_AGSS09met_F = 3.26e6"
   ]
  },
  {
   "cell_type": "code",
   "execution_count": 32,
   "metadata": {},
   "outputs": [],
   "source": [
    "step_all_fluxes = 0.001 #MeV\n",
    "Energy_all_fluxes = np.arange(0,20,step_all_fluxes)"
   ]
  },
  {
   "cell_type": "code",
   "execution_count": 33,
   "metadata": {},
   "outputs": [],
   "source": [
    "def return_flux(pp_ampl, hep_ampl, B_ampl, N_ampl, O_ampl, F_ampl, \n",
    "                energy_list = Energy_all_fluxes):\n",
    "    pp = pd.read_excel('../Solar_neutrino_flux/pp.xls')\n",
    "    b8 = pd.read_excel('../Solar_neutrino_flux/b8.xls')\n",
    "    hep = pd.read_excel('../Solar_neutrino_flux/hep.xls')\n",
    "    n13 = pd.read_excel('../Solar_neutrino_flux/n13.xls')\n",
    "    o15 = pd.read_excel('../Solar_neutrino_flux/o15.xls')\n",
    "    f17 = pd.read_excel('../Solar_neutrino_flux/f17.xls')\n",
    "\n",
    "    flux = {\n",
    "        'pp':np.interp(x=Energy_all_fluxes, xp=pp['Energy'].values, \n",
    "                       fp=pp['Probability'].values * pp_ampl ),\n",
    "        'b8':np.interp(x=Energy_all_fluxes, xp=b8['Energy'].values, \n",
    "                       fp=b8['Probability'].values * B_ampl ),\n",
    "        'hep':np.interp(x=Energy_all_fluxes, xp=hep['Energy'].values, \n",
    "                       fp=hep['Probability'].values * hep_ampl ),\n",
    "        'n13':np.interp(x=Energy_all_fluxes, xp=n13['Energy'].values, \n",
    "                       fp=n13['Probability'].values * N_ampl ),\n",
    "        'o15':np.interp(x=Energy_all_fluxes, xp=o15['Energy'].values, \n",
    "                       fp=o15['Probability'].values * O_ampl ),\n",
    "        'f17':np.interp(x=Energy_all_fluxes, xp=f17['Energy'].values, \n",
    "                       fp=f17['Probability'].values * F_ampl ),\n",
    "    }\n",
    "    return flux"
   ]
  },
  {
   "cell_type": "code",
   "execution_count": 34,
   "metadata": {},
   "outputs": [],
   "source": [
    "BS05OP_flux = return_flux(pp_ampl=BS05OP_pp, \n",
    "                          hep_ampl=BS05OP_hep,\n",
    "                          B_ampl=BS05OP_B,\n",
    "                          N_ampl=BS05OP_N,\n",
    "                          O_ampl=BS05OP_0,\n",
    "                          F_ampl=BS05OP_F)\n",
    "\n",
    "BP98_flux = return_flux(pp_ampl=BP98_pp, \n",
    "                          hep_ampl=BP98_hep,\n",
    "                          B_ampl=BP98_B,\n",
    "                          N_ampl=BP98_N,\n",
    "                          O_ampl=BP98_0,\n",
    "                          F_ampl=BP98_F)\n",
    "\n",
    "BP98_OPAL92_flux = return_flux(pp_ampl=BP98_OPAL92_pp, \n",
    "                          hep_ampl=BP98_OPAL92_hep,\n",
    "                          B_ampl=BP98_OPAL92_B,\n",
    "                          N_ampl=BP98_OPAL92_N,\n",
    "                          O_ampl=BP98_OPAL92_0,\n",
    "                          F_ampl=BP98_OPAL92_F)\n",
    "\n",
    "B16_GS98_flux = return_flux(pp_ampl=B16_GS98_pp, \n",
    "                          hep_ampl=B16_GS98_hep,\n",
    "                          B_ampl=B16_GS98_B,\n",
    "                          N_ampl=B16_GS98_N,\n",
    "                          O_ampl=B16_GS98_0,\n",
    "                          F_ampl=B16_GS98_F)\n",
    "\n",
    "B16_AGSS09met_flux = return_flux(pp_ampl=B16_AGSS09met_pp, \n",
    "                          hep_ampl=B16_AGSS09met_hep,\n",
    "                          B_ampl=B16_AGSS09met_B,\n",
    "                          N_ampl=B16_AGSS09met_N,\n",
    "                          O_ampl=B16_AGSS09met_0,\n",
    "                          F_ampl=B16_AGSS09met_F)"
   ]
  },
  {
   "cell_type": "code",
   "execution_count": null,
   "metadata": {},
   "outputs": [],
   "source": []
  },
  {
   "cell_type": "markdown",
   "metadata": {},
   "source": [
    "### Cross-section and total rate"
   ]
  },
  {
   "cell_type": "markdown",
   "metadata": {},
   "source": [
    "Сечение по Иджири $\\sigma_k={(10^{-44}\\ cm^2)}\\times 1.597\\cdot \\epsilon_e \\pi_e m_e^2 F(Z,E_e) [B(F)_k + (\\frac{g_a}{g_v})^2 B(GT)_k] $ "
   ]
  },
  {
   "cell_type": "code",
   "execution_count": 35,
   "metadata": {},
   "outputs": [],
   "source": [
    "g_a_g_v_square = math.pow(g_a_g_v,2)\n",
    "m_e_square = math.pow(0.511,2)"
   ]
  },
  {
   "cell_type": "code",
   "execution_count": 36,
   "metadata": {},
   "outputs": [],
   "source": [
    "#расчет сечения до энергии возбуждения 5 МэВ\n",
    "def sigma_k_less5(E_nu, E_k, BGT_k, Z, Q_EC):\n",
    "    #E_k in kev\n",
    "    #сечение k-го возб. состояния по Иджири\n",
    "    e_e=e_e_func(E_nu, E_k, Q_EC) #энергия вылетающего электрона\n",
    "    Pi_e=Pi_e_func(e_e) #его импульс\n",
    "    F_col=num_tables_func(e_e) #значение ферм-функции при такой энергии\n",
    "    return 1.597*m_e_square*e_e*Pi_e*F_col*g_a_g_v_square*BGT_k"
   ]
  },
  {
   "cell_type": "code",
   "execution_count": 37,
   "metadata": {},
   "outputs": [],
   "source": [
    "#функция расчета свертки сечения с потоком\n",
    "def rate_calc(sigma, fluxes_dict, energies_array, step, func_pep_ampl = BS05OP_pep, \n",
    "              func_Be_ampl = BS05OP_Be, name = 'test1'):\n",
    "    \n",
    "    #const = 1.597*math.pow(10,-44)\n",
    "    const = math.pow(10,-44)\n",
    "\n",
    "    sigma_total = np.array(sigma) * const\n",
    "    \n",
    "    rate_total = 0\n",
    "    \n",
    "    output_dict = {'name':name}\n",
    "    \n",
    "    for elem in list(fluxes_dict.keys()):\n",
    "        rate = sum(fluxes_dict[elem]*sigma_total*step) * math.pow(10,36)\n",
    "        #print(elem, ' ', rate)\n",
    "        output_dict[elem] = rate\n",
    "        rate_total+=rate\n",
    "        \n",
    "    sigma_pep = np.interp(pep_en, xp=energies_array, fp=sigma_total)\n",
    "    rate_pep = func_pep_ampl*sigma_pep*math.pow(10,36)\n",
    "    #print('pep', ' ', rate_pep)\n",
    "    output_dict['pep'] = rate_pep\n",
    "    rate_total+=rate_pep\n",
    "    \n",
    "    sigma_Be384 = np.interp(Be384_en, xp=energies_array, fp=sigma_total)\n",
    "    rate_Be384 = 0.103*func_Be_ampl*sigma_Be384*math.pow(10,36) #отношение из книжки бакала \n",
    "    \n",
    "    sigma_Be862 = np.interp(Be862_en, xp=energies_array, fp=sigma_total)\n",
    "    rate_Be862 = 0.897*func_Be_ampl*sigma_Be862*math.pow(10,36)\n",
    "    rate_Be = rate_Be384 + rate_Be862\n",
    "    \n",
    "    #print('Be', ' ', rate_Be)\n",
    "    output_dict['Be'] = rate_Be\n",
    "    rate_total+=rate_Be\n",
    "    \n",
    "    #print('rate_total',' ', rate_total)\n",
    "    output_dict['Total'] = rate_total\n",
    "    return output_dict"
   ]
  },
  {
   "cell_type": "code",
   "execution_count": 38,
   "metadata": {},
   "outputs": [],
   "source": [
    "#функция расчета полного сечения, а не dsigma/dE, \n",
    "def integrated_cross_sec_calc(sigma, energies_array, step, func_pep_ampl = 1, \n",
    "              func_Be_ampl = 1, name = 'test1'):\n",
    "    \n",
    "    fluxes_dict = return_flux(pp_ampl=1, \n",
    "                          hep_ampl=1,\n",
    "                          B_ampl=1,\n",
    "                          N_ampl=1,\n",
    "                          O_ampl=1,\n",
    "                          F_ampl=1)\n",
    "    \n",
    "    #const = 1.597*math.pow(10,-44)\n",
    "    const = math.pow(10,-44)\n",
    "\n",
    "    sigma_total = np.array(sigma) * const\n",
    "    \n",
    "    rate_total = 0\n",
    "    \n",
    "    output_dict = {'name':name}\n",
    "    \n",
    "    for elem in list(fluxes_dict.keys()):\n",
    "        rate = sum(fluxes_dict[elem]*sigma_total*step)\n",
    "        #print(elem, ' ', rate)\n",
    "        output_dict[elem] = rate\n",
    "        rate_total+=rate\n",
    "        \n",
    "    sigma_pep = np.interp(pep_en, xp=energies_array, fp=sigma_total)\n",
    "    rate_pep = func_pep_ampl*sigma_pep\n",
    "    #print('pep', ' ', rate_pep)\n",
    "    output_dict['pep'] = rate_pep\n",
    "    rate_total+=rate_pep\n",
    "    \n",
    "    sigma_Be384 = np.interp(Be384_en, xp=energies_array, fp=sigma_total)\n",
    "    rate_Be384 = 0.103*func_Be_ampl*sigma_Be384 #отношение из книжки бакала \n",
    "    \n",
    "    sigma_Be862 = np.interp(Be862_en, xp=energies_array, fp=sigma_total)\n",
    "    rate_Be862 = 0.897*func_Be_ampl*sigma_Be862\n",
    "    rate_Be = rate_Be384 + rate_Be862\n",
    "    \n",
    "    #print('Be', ' ', rate_Be)\n",
    "    output_dict['Be'] = rate_Be\n",
    "    rate_total+=rate_Be\n",
    "    \n",
    "    #print('rate_total',' ', rate_total)\n",
    "    output_dict['Total'] = rate_total\n",
    "    return output_dict"
   ]
  },
  {
   "cell_type": "code",
   "execution_count": null,
   "metadata": {},
   "outputs": [],
   "source": []
  },
  {
   "cell_type": "code",
   "execution_count": 39,
   "metadata": {},
   "outputs": [],
   "source": [
    "#функция для отрезки резонансов выше энергии отрыва\n",
    "def border_func(x_data, y_data, border):\n",
    "    a=np.where(x_data<border)\n",
    "    #print(len(a[0]), len(x_data)-len(a[0]), len(x_data), a[0])\n",
    "    return np.hstack(( y_data[a], np.zeros(len(x_data)-len(a[0])) ))\n",
    "\n",
    "\n",
    "def border_func2(x_data, y_data, border_l, border_r):\n",
    "    a=np.where(x_data<border_r)\n",
    "    b=np.where(x_data>border_l)\n",
    "    temp_y = np.hstack(( y_data[a], np.zeros(len(x_data)-len(a[0])) ))\n",
    "    #print(len(a[0]), len(x_data)-len(a[0]), len(x_data), a[0])\n",
    "    return np.hstack((np.zeros((b[0][0])), temp_y[b]))"
   ]
  },
  {
   "cell_type": "markdown",
   "metadata": {},
   "source": [
    "Сечение для непрерывной части\n",
    "\n",
    "$\\sigma = {(10^{-44}\\ cm^2)} \\times \\int^{z-Q}_{0} {1.597 \\cdot (\\frac{g_a}{g_v})^2 \\cdot \\sqrt{(z-Q-x+0.511)^2-0.511^2} \\cdot (z-Q-x+0.511) \\cdot S_{GTR}(x) \\cdot F(z-Q-x+0.511)} dx $ \n"
   ]
  },
  {
   "cell_type": "code",
   "execution_count": 40,
   "metadata": {},
   "outputs": [],
   "source": [
    "#введем новую переменную p = z - Q\n",
    "def sigma_k_GTR(x, p, x_data, y_data):\n",
    "    e_energy = p - x + 0.511\n",
    "    return 1.597*g_a_g_v_square*np.sqrt(e_energy**2-m_e_square)*e_energy\\\n",
    "    *np.interp(x,xp=x_data,fp=y_data)*num_tables_func(e_energy/0.511) \n"
   ]
  },
  {
   "cell_type": "code",
   "execution_count": 41,
   "metadata": {},
   "outputs": [],
   "source": [
    "#разбиваем интервал интегрирования на субинтервалы\n",
    "def intervals(a,b,n):\n",
    "    c=np.linspace(a,b,num=n)\n",
    "    return [[c[i], c[i+1]] for i in range(len(c)-1)]"
   ]
  },
  {
   "cell_type": "code",
   "execution_count": 42,
   "metadata": {},
   "outputs": [],
   "source": [
    "#считаем сечение\n",
    "def cross_sec(a,b, sigma_func, shape_x, shape_y, int_num=50):\n",
    "    borders_list = intervals(a,b, int_num)\n",
    "    #return sum([quad(sigma_func, i[0],i[1], args=(b,shape_x, shape_y))[0] for i in borders_list])\n",
    "    return sum([sc.integrate.fixed_quad(sigma_func, i[0],i[1], args=(b,shape_x, shape_y))[0] for i in borders_list])\n",
    "    #return sum([sc.integrate.romberg(sigma_func, i[0],i[1], args=(b,shape_x, shape_y)) for i in borders_list])"
   ]
  },
  {
   "cell_type": "code",
   "execution_count": 43,
   "metadata": {},
   "outputs": [],
   "source": [
    "p_list = np.arange(0,20, 0.01) #p = z - Q"
   ]
  },
  {
   "cell_type": "code",
   "execution_count": null,
   "metadata": {},
   "outputs": [],
   "source": []
  },
  {
   "cell_type": "markdown",
   "metadata": {},
   "source": [
    "### расчет c декомпозицией"
   ]
  },
  {
   "cell_type": "code",
   "execution_count": 94,
   "metadata": {},
   "outputs": [
    {
     "data": {
      "text/html": [
       "<div>\n",
       "<style scoped>\n",
       "    .dataframe tbody tr th:only-of-type {\n",
       "        vertical-align: middle;\n",
       "    }\n",
       "\n",
       "    .dataframe tbody tr th {\n",
       "        vertical-align: top;\n",
       "    }\n",
       "\n",
       "    .dataframe thead th {\n",
       "        text-align: right;\n",
       "    }\n",
       "</style>\n",
       "<table border=\"1\" class=\"dataframe\">\n",
       "  <thead>\n",
       "    <tr style=\"text-align: right;\">\n",
       "      <th></th>\n",
       "      <th>Ex, MeV</th>\n",
       "      <th>best_fit</th>\n",
       "      <th>bgt</th>\n",
       "      <th>gtr</th>\n",
       "      <th>pr1</th>\n",
       "      <th>pr2</th>\n",
       "    </tr>\n",
       "  </thead>\n",
       "  <tbody>\n",
       "    <tr>\n",
       "      <th>0</th>\n",
       "      <td>0.00</td>\n",
       "      <td>0.00000</td>\n",
       "      <td>0.014032</td>\n",
       "      <td>0.00000</td>\n",
       "      <td>0.00000</td>\n",
       "      <td>0.00000</td>\n",
       "    </tr>\n",
       "    <tr>\n",
       "      <th>1</th>\n",
       "      <td>0.05</td>\n",
       "      <td>0.00018</td>\n",
       "      <td>0.041647</td>\n",
       "      <td>0.00007</td>\n",
       "      <td>0.00004</td>\n",
       "      <td>0.00007</td>\n",
       "    </tr>\n",
       "    <tr>\n",
       "      <th>2</th>\n",
       "      <td>0.10</td>\n",
       "      <td>0.00071</td>\n",
       "      <td>0.041647</td>\n",
       "      <td>0.00027</td>\n",
       "      <td>0.00014</td>\n",
       "      <td>0.00030</td>\n",
       "    </tr>\n",
       "    <tr>\n",
       "      <th>3</th>\n",
       "      <td>0.15</td>\n",
       "      <td>0.00162</td>\n",
       "      <td>0.089973</td>\n",
       "      <td>0.00061</td>\n",
       "      <td>0.00032</td>\n",
       "      <td>0.00069</td>\n",
       "    </tr>\n",
       "    <tr>\n",
       "      <th>4</th>\n",
       "      <td>0.20</td>\n",
       "      <td>0.00288</td>\n",
       "      <td>0.089973</td>\n",
       "      <td>0.00108</td>\n",
       "      <td>0.00057</td>\n",
       "      <td>0.00123</td>\n",
       "    </tr>\n",
       "    <tr>\n",
       "      <th>5</th>\n",
       "      <td>0.25</td>\n",
       "      <td>0.00451</td>\n",
       "      <td>0.083343</td>\n",
       "      <td>0.00170</td>\n",
       "      <td>0.00089</td>\n",
       "      <td>0.00192</td>\n",
       "    </tr>\n",
       "    <tr>\n",
       "      <th>6</th>\n",
       "      <td>0.30</td>\n",
       "      <td>0.00647</td>\n",
       "      <td>0.058906</td>\n",
       "      <td>0.00246</td>\n",
       "      <td>0.00127</td>\n",
       "      <td>0.00274</td>\n",
       "    </tr>\n",
       "    <tr>\n",
       "      <th>7</th>\n",
       "      <td>0.35</td>\n",
       "      <td>0.00877</td>\n",
       "      <td>0.054557</td>\n",
       "      <td>0.00337</td>\n",
       "      <td>0.00171</td>\n",
       "      <td>0.00369</td>\n",
       "    </tr>\n",
       "    <tr>\n",
       "      <th>8</th>\n",
       "      <td>0.40</td>\n",
       "      <td>0.01135</td>\n",
       "      <td>0.041694</td>\n",
       "      <td>0.00442</td>\n",
       "      <td>0.00220</td>\n",
       "      <td>0.00473</td>\n",
       "    </tr>\n",
       "    <tr>\n",
       "      <th>9</th>\n",
       "      <td>0.45</td>\n",
       "      <td>0.01421</td>\n",
       "      <td>0.035951</td>\n",
       "      <td>0.00563</td>\n",
       "      <td>0.00273</td>\n",
       "      <td>0.00585</td>\n",
       "    </tr>\n",
       "    <tr>\n",
       "      <th>10</th>\n",
       "      <td>0.50</td>\n",
       "      <td>0.01731</td>\n",
       "      <td>0.028589</td>\n",
       "      <td>0.00698</td>\n",
       "      <td>0.00331</td>\n",
       "      <td>0.00702</td>\n",
       "    </tr>\n",
       "    <tr>\n",
       "      <th>11</th>\n",
       "      <td>0.55</td>\n",
       "      <td>0.02063</td>\n",
       "      <td>0.058906</td>\n",
       "      <td>0.00849</td>\n",
       "      <td>0.00392</td>\n",
       "      <td>0.00822</td>\n",
       "    </tr>\n",
       "    <tr>\n",
       "      <th>12</th>\n",
       "      <td>0.60</td>\n",
       "      <td>0.02413</td>\n",
       "      <td>0.058906</td>\n",
       "      <td>0.01014</td>\n",
       "      <td>0.00455</td>\n",
       "      <td>0.00944</td>\n",
       "    </tr>\n",
       "    <tr>\n",
       "      <th>13</th>\n",
       "      <td>0.65</td>\n",
       "      <td>0.02780</td>\n",
       "      <td>0.053448</td>\n",
       "      <td>0.01196</td>\n",
       "      <td>0.00519</td>\n",
       "      <td>0.01065</td>\n",
       "    </tr>\n",
       "    <tr>\n",
       "      <th>14</th>\n",
       "      <td>0.70</td>\n",
       "      <td>0.03163</td>\n",
       "      <td>0.041647</td>\n",
       "      <td>0.01393</td>\n",
       "      <td>0.00584</td>\n",
       "      <td>0.01186</td>\n",
       "    </tr>\n",
       "    <tr>\n",
       "      <th>15</th>\n",
       "      <td>0.75</td>\n",
       "      <td>0.03559</td>\n",
       "      <td>0.041647</td>\n",
       "      <td>0.01605</td>\n",
       "      <td>0.00649</td>\n",
       "      <td>0.01305</td>\n",
       "    </tr>\n",
       "    <tr>\n",
       "      <th>16</th>\n",
       "      <td>0.80</td>\n",
       "      <td>0.03968</td>\n",
       "      <td>0.043731</td>\n",
       "      <td>0.01833</td>\n",
       "      <td>0.00713</td>\n",
       "      <td>0.01422</td>\n",
       "    </tr>\n",
       "    <tr>\n",
       "      <th>17</th>\n",
       "      <td>0.85</td>\n",
       "      <td>0.04390</td>\n",
       "      <td>0.036829</td>\n",
       "      <td>0.02077</td>\n",
       "      <td>0.00776</td>\n",
       "      <td>0.01537</td>\n",
       "    </tr>\n",
       "    <tr>\n",
       "      <th>18</th>\n",
       "      <td>0.90</td>\n",
       "      <td>0.04825</td>\n",
       "      <td>0.028113</td>\n",
       "      <td>0.02337</td>\n",
       "      <td>0.00837</td>\n",
       "      <td>0.01651</td>\n",
       "    </tr>\n",
       "    <tr>\n",
       "      <th>19</th>\n",
       "      <td>0.95</td>\n",
       "      <td>0.05273</td>\n",
       "      <td>0.086521</td>\n",
       "      <td>0.02613</td>\n",
       "      <td>0.00896</td>\n",
       "      <td>0.01764</td>\n",
       "    </tr>\n",
       "  </tbody>\n",
       "</table>\n",
       "</div>"
      ],
      "text/plain": [
       "    Ex, MeV  best_fit       bgt      gtr      pr1      pr2\n",
       "0      0.00   0.00000  0.014032  0.00000  0.00000  0.00000\n",
       "1      0.05   0.00018  0.041647  0.00007  0.00004  0.00007\n",
       "2      0.10   0.00071  0.041647  0.00027  0.00014  0.00030\n",
       "3      0.15   0.00162  0.089973  0.00061  0.00032  0.00069\n",
       "4      0.20   0.00288  0.089973  0.00108  0.00057  0.00123\n",
       "5      0.25   0.00451  0.083343  0.00170  0.00089  0.00192\n",
       "6      0.30   0.00647  0.058906  0.00246  0.00127  0.00274\n",
       "7      0.35   0.00877  0.054557  0.00337  0.00171  0.00369\n",
       "8      0.40   0.01135  0.041694  0.00442  0.00220  0.00473\n",
       "9      0.45   0.01421  0.035951  0.00563  0.00273  0.00585\n",
       "10     0.50   0.01731  0.028589  0.00698  0.00331  0.00702\n",
       "11     0.55   0.02063  0.058906  0.00849  0.00392  0.00822\n",
       "12     0.60   0.02413  0.058906  0.01014  0.00455  0.00944\n",
       "13     0.65   0.02780  0.053448  0.01196  0.00519  0.01065\n",
       "14     0.70   0.03163  0.041647  0.01393  0.00584  0.01186\n",
       "15     0.75   0.03559  0.041647  0.01605  0.00649  0.01305\n",
       "16     0.80   0.03968  0.043731  0.01833  0.00713  0.01422\n",
       "17     0.85   0.04390  0.036829  0.02077  0.00776  0.01537\n",
       "18     0.90   0.04825  0.028113  0.02337  0.00837  0.01651\n",
       "19     0.95   0.05273  0.086521  0.02613  0.00896  0.01764"
      ]
     },
     "execution_count": 94,
     "metadata": {},
     "output_type": "execute_result"
    }
   ],
   "source": [
    "decomp = pd.read_excel('127Xe_bgt_decomp.xls')\n",
    "decomp.head(20)"
   ]
  },
  {
   "cell_type": "code",
   "execution_count": 95,
   "metadata": {},
   "outputs": [
    {
     "data": {
      "text/plain": [
       "(55.58062392490359, 55.568871, 52.711257, 2.4391040000000004, 0.41851)"
      ]
     },
     "execution_count": 95,
     "metadata": {},
     "output_type": "execute_result"
    }
   ],
   "source": [
    "trapz(decomp['bgt'].values, decomp['Ex, MeV'].values),\\\n",
    "trapz(decomp['best_fit'].values, decomp['Ex, MeV'].values),\\\n",
    "trapz(decomp['gtr'].values, decomp['Ex, MeV'].values), \\\n",
    "trapz(decomp['pr1'].values, decomp['Ex, MeV'].values), \\\n",
    "trapz(decomp['pr2'].values, decomp['Ex, MeV'].values), \\"
   ]
  },
  {
   "cell_type": "code",
   "execution_count": null,
   "metadata": {},
   "outputs": [],
   "source": []
  },
  {
   "cell_type": "code",
   "execution_count": 96,
   "metadata": {},
   "outputs": [],
   "source": [
    "#добавим в best fit кусок с уровнем 125кэВ\n",
    "decomp['best_fit125'] = decomp['bgt'][(decomp['Ex, MeV'] < 0.4)].append(decomp['best_fit'][decomp['Ex, MeV'] >= 0.4])"
   ]
  },
  {
   "cell_type": "code",
   "execution_count": 97,
   "metadata": {},
   "outputs": [
    {
     "data": {
      "text/plain": [
       "(55.58062392490359,\n",
       " 55.568871,\n",
       " 55.59096711646587,\n",
       " 52.711257,\n",
       " 2.4391040000000004,\n",
       " 0.41851)"
      ]
     },
     "execution_count": 97,
     "metadata": {},
     "output_type": "execute_result"
    }
   ],
   "source": [
    "trapz(decomp['bgt'].values, decomp['Ex, MeV'].values),\\\n",
    "trapz(decomp['best_fit'].values, decomp['Ex, MeV'].values),\\\n",
    "trapz(decomp['best_fit125'].values, decomp['Ex, MeV'].values),\\\n",
    "trapz(decomp['gtr'].values, decomp['Ex, MeV'].values), \\\n",
    "trapz(decomp['pr1'].values, decomp['Ex, MeV'].values), \\\n",
    "trapz(decomp['pr2'].values, decomp['Ex, MeV'].values), \\"
   ]
  },
  {
   "cell_type": "code",
   "execution_count": 98,
   "metadata": {},
   "outputs": [
    {
     "data": {
      "text/html": [
       "<div>\n",
       "<style scoped>\n",
       "    .dataframe tbody tr th:only-of-type {\n",
       "        vertical-align: middle;\n",
       "    }\n",
       "\n",
       "    .dataframe tbody tr th {\n",
       "        vertical-align: top;\n",
       "    }\n",
       "\n",
       "    .dataframe thead th {\n",
       "        text-align: right;\n",
       "    }\n",
       "</style>\n",
       "<table border=\"1\" class=\"dataframe\">\n",
       "  <thead>\n",
       "    <tr style=\"text-align: right;\">\n",
       "      <th></th>\n",
       "      <th>Ex, MeV</th>\n",
       "      <th>best_fit</th>\n",
       "      <th>bgt</th>\n",
       "      <th>gtr</th>\n",
       "      <th>pr1</th>\n",
       "      <th>pr2</th>\n",
       "      <th>best_fit125</th>\n",
       "    </tr>\n",
       "  </thead>\n",
       "  <tbody>\n",
       "    <tr>\n",
       "      <th>0</th>\n",
       "      <td>0.00</td>\n",
       "      <td>0.00000</td>\n",
       "      <td>0.014032</td>\n",
       "      <td>0.00000</td>\n",
       "      <td>0.00000</td>\n",
       "      <td>0.00000</td>\n",
       "      <td>0.014032</td>\n",
       "    </tr>\n",
       "    <tr>\n",
       "      <th>1</th>\n",
       "      <td>0.05</td>\n",
       "      <td>0.00018</td>\n",
       "      <td>0.041647</td>\n",
       "      <td>0.00007</td>\n",
       "      <td>0.00004</td>\n",
       "      <td>0.00007</td>\n",
       "      <td>0.041647</td>\n",
       "    </tr>\n",
       "    <tr>\n",
       "      <th>2</th>\n",
       "      <td>0.10</td>\n",
       "      <td>0.00071</td>\n",
       "      <td>0.041647</td>\n",
       "      <td>0.00027</td>\n",
       "      <td>0.00014</td>\n",
       "      <td>0.00030</td>\n",
       "      <td>0.041647</td>\n",
       "    </tr>\n",
       "    <tr>\n",
       "      <th>3</th>\n",
       "      <td>0.15</td>\n",
       "      <td>0.00162</td>\n",
       "      <td>0.089973</td>\n",
       "      <td>0.00061</td>\n",
       "      <td>0.00032</td>\n",
       "      <td>0.00069</td>\n",
       "      <td>0.089973</td>\n",
       "    </tr>\n",
       "    <tr>\n",
       "      <th>4</th>\n",
       "      <td>0.20</td>\n",
       "      <td>0.00288</td>\n",
       "      <td>0.089973</td>\n",
       "      <td>0.00108</td>\n",
       "      <td>0.00057</td>\n",
       "      <td>0.00123</td>\n",
       "      <td>0.089973</td>\n",
       "    </tr>\n",
       "    <tr>\n",
       "      <th>5</th>\n",
       "      <td>0.25</td>\n",
       "      <td>0.00451</td>\n",
       "      <td>0.083343</td>\n",
       "      <td>0.00170</td>\n",
       "      <td>0.00089</td>\n",
       "      <td>0.00192</td>\n",
       "      <td>0.083343</td>\n",
       "    </tr>\n",
       "    <tr>\n",
       "      <th>6</th>\n",
       "      <td>0.30</td>\n",
       "      <td>0.00647</td>\n",
       "      <td>0.058906</td>\n",
       "      <td>0.00246</td>\n",
       "      <td>0.00127</td>\n",
       "      <td>0.00274</td>\n",
       "      <td>0.058906</td>\n",
       "    </tr>\n",
       "    <tr>\n",
       "      <th>7</th>\n",
       "      <td>0.35</td>\n",
       "      <td>0.00877</td>\n",
       "      <td>0.054557</td>\n",
       "      <td>0.00337</td>\n",
       "      <td>0.00171</td>\n",
       "      <td>0.00369</td>\n",
       "      <td>0.054557</td>\n",
       "    </tr>\n",
       "    <tr>\n",
       "      <th>8</th>\n",
       "      <td>0.40</td>\n",
       "      <td>0.01135</td>\n",
       "      <td>0.041694</td>\n",
       "      <td>0.00442</td>\n",
       "      <td>0.00220</td>\n",
       "      <td>0.00473</td>\n",
       "      <td>0.011350</td>\n",
       "    </tr>\n",
       "    <tr>\n",
       "      <th>9</th>\n",
       "      <td>0.45</td>\n",
       "      <td>0.01421</td>\n",
       "      <td>0.035951</td>\n",
       "      <td>0.00563</td>\n",
       "      <td>0.00273</td>\n",
       "      <td>0.00585</td>\n",
       "      <td>0.014210</td>\n",
       "    </tr>\n",
       "    <tr>\n",
       "      <th>10</th>\n",
       "      <td>0.50</td>\n",
       "      <td>0.01731</td>\n",
       "      <td>0.028589</td>\n",
       "      <td>0.00698</td>\n",
       "      <td>0.00331</td>\n",
       "      <td>0.00702</td>\n",
       "      <td>0.017310</td>\n",
       "    </tr>\n",
       "    <tr>\n",
       "      <th>11</th>\n",
       "      <td>0.55</td>\n",
       "      <td>0.02063</td>\n",
       "      <td>0.058906</td>\n",
       "      <td>0.00849</td>\n",
       "      <td>0.00392</td>\n",
       "      <td>0.00822</td>\n",
       "      <td>0.020630</td>\n",
       "    </tr>\n",
       "  </tbody>\n",
       "</table>\n",
       "</div>"
      ],
      "text/plain": [
       "    Ex, MeV  best_fit       bgt      gtr      pr1      pr2  best_fit125\n",
       "0      0.00   0.00000  0.014032  0.00000  0.00000  0.00000     0.014032\n",
       "1      0.05   0.00018  0.041647  0.00007  0.00004  0.00007     0.041647\n",
       "2      0.10   0.00071  0.041647  0.00027  0.00014  0.00030     0.041647\n",
       "3      0.15   0.00162  0.089973  0.00061  0.00032  0.00069     0.089973\n",
       "4      0.20   0.00288  0.089973  0.00108  0.00057  0.00123     0.089973\n",
       "5      0.25   0.00451  0.083343  0.00170  0.00089  0.00192     0.083343\n",
       "6      0.30   0.00647  0.058906  0.00246  0.00127  0.00274     0.058906\n",
       "7      0.35   0.00877  0.054557  0.00337  0.00171  0.00369     0.054557\n",
       "8      0.40   0.01135  0.041694  0.00442  0.00220  0.00473     0.011350\n",
       "9      0.45   0.01421  0.035951  0.00563  0.00273  0.00585     0.014210\n",
       "10     0.50   0.01731  0.028589  0.00698  0.00331  0.00702     0.017310\n",
       "11     0.55   0.02063  0.058906  0.00849  0.00392  0.00822     0.020630"
      ]
     },
     "execution_count": 98,
     "metadata": {},
     "output_type": "execute_result"
    }
   ],
   "source": [
    "decomp.head(12)"
   ]
  },
  {
   "cell_type": "code",
   "execution_count": null,
   "metadata": {},
   "outputs": [],
   "source": []
  },
  {
   "cell_type": "code",
   "execution_count": 99,
   "metadata": {},
   "outputs": [
    {
     "data": {
      "image/png": "[encoded data removed]",
      "text/plain": [
       "<Figure size 720x360 with 1 Axes>"
      ]
     },
     "metadata": {
      "needs_background": "light"
     },
     "output_type": "display_data"
    }
   ],
   "source": [
    "plt.figure(figsize=(10,5))\n",
    "plt.plot(decomp['Ex, MeV'].values, decomp['bgt'].values, label='bgt')\n",
    "plt.plot(decomp['Ex, MeV'].values, decomp['best_fit'].values, label='best fit')\n",
    "plt.plot(decomp['Ex, MeV'].values, decomp['gtr'].values, label='gtr')\n",
    "plt.xlabel('$E_{x}$, MeV', fontsize=14)\n",
    "plt.ylabel('S(E), 1/MeV', fontsize=14)\n",
    "plt.axvline(S_n)\n",
    "plt.xlim(0,20)\n",
    "plt.ylim(0,7)\n",
    "plt.legend()\n",
    "plt.show()"
   ]
  },
  {
   "cell_type": "code",
   "execution_count": 100,
   "metadata": {},
   "outputs": [],
   "source": [
    "y_total_border = border_func(decomp['Ex, MeV'].values, decomp['best_fit'].values, S_n)\n",
    "y_total125_border = border_func(decomp['Ex, MeV'].values, decomp['best_fit125'].values, S_n)\n",
    "y_bgt_border = border_func(decomp['Ex, MeV'].values, decomp['bgt'].values, S_n)\n",
    "y_gtr_border = border_func(decomp['Ex, MeV'].values, decomp['gtr'].values, S_n)\n",
    "y_pr1_border = border_func(decomp['Ex, MeV'].values, decomp['pr1'].values, S_n)\n",
    "y_pr2_border = border_func(decomp['Ex, MeV'].values, decomp['pr2'].values, S_n)"
   ]
  },
  {
   "cell_type": "code",
   "execution_count": null,
   "metadata": {},
   "outputs": [],
   "source": []
  },
  {
   "cell_type": "markdown",
   "metadata": {},
   "source": [
    "### y_total"
   ]
  },
  {
   "cell_type": "code",
   "execution_count": 101,
   "metadata": {},
   "outputs": [],
   "source": [
    "sigma_y_tot_no_border_temp = [cross_sec(0,p, sigma_k_GTR, decomp['Ex, MeV'].values, \n",
    "                                      decomp['best_fit'].values, 200) for p in p_list]\n",
    "sigma_y_tot_no_border_full = np.interp(Energy_all_fluxes, xp=p_list+Q_EC_127Xe, \n",
    "                                     fp=sigma_y_tot_no_border_temp)\n",
    "\n",
    "sigma_y_tot_border_temp = [cross_sec(0,p, sigma_k_GTR, decomp['Ex, MeV'].values, \n",
    "                                   y_total_border, 200) for p in p_list]\n",
    "sigma_y_tot_border_full = np.interp(Energy_all_fluxes, xp=p_list+Q_EC_127Xe, \n",
    "                                  fp=sigma_y_tot_border_temp)"
   ]
  },
  {
   "cell_type": "code",
   "execution_count": 102,
   "metadata": {},
   "outputs": [
    {
     "data": {
      "text/plain": [
       "{'name': 'test1',\n",
       " 'pp': 0.0,\n",
       " 'b8': 23.200612768659727,\n",
       " 'hep': 0.09472761074793284,\n",
       " 'n13': 0.005958197278087533,\n",
       " 'o15': 0.06707665093187354,\n",
       " 'f17': 0.0017162357708973093,\n",
       " 'pep': 0.12143175058214362,\n",
       " 'Be': 0.04284642882190375,\n",
       " 'Total': 23.534369642792562}"
      ]
     },
     "execution_count": 102,
     "metadata": {},
     "output_type": "execute_result"
    }
   ],
   "source": [
    "### BS05OP\n",
    "rate_calc(sigma_y_tot_border_full, \\\n",
    "          BS05OP_flux, Energy_all_fluxes, step_all_fluxes,)"
   ]
  },
  {
   "cell_type": "code",
   "execution_count": 103,
   "metadata": {},
   "outputs": [
    {
     "data": {
      "text/plain": [
       "{'name': 'test1',\n",
       " 'pp': 0.0,\n",
       " 'b8': 27.8964624435134,\n",
       " 'hep': 0.16910412232226354,\n",
       " 'n13': 0.005958197278087533,\n",
       " 'o15': 0.06707665093187354,\n",
       " 'f17': 0.0017162357708973093,\n",
       " 'pep': 0.12143175058214362,\n",
       " 'Be': 0.04284642882190375,\n",
       " 'Total': 28.304595829220567}"
      ]
     },
     "execution_count": 103,
     "metadata": {},
     "output_type": "execute_result"
    }
   ],
   "source": [
    "rate_calc(sigma_y_tot_no_border_full, \\\n",
    "          BS05OP_flux, Energy_all_fluxes, step_all_fluxes,)"
   ]
  },
  {
   "cell_type": "code",
   "execution_count": 104,
   "metadata": {},
   "outputs": [
    {
     "data": {
      "text/plain": [
       "{'name': 'test1',\n",
       " 'pp': 0.0,\n",
       " 'b8': 4.0774363389560156e-42,\n",
       " 'hep': 1.1945474243118895e-41,\n",
       " 'n13': 1.940780872341216e-47,\n",
       " 'o15': 2.878826220252082e-46,\n",
       " 'f17': 2.938759881673474e-46,\n",
       " 'pep': 8.551531731136874e-46,\n",
       " 'Be': 8.852567938409866e-48,\n",
       " 'Total': 1.602437575423488e-41}"
      ]
     },
     "execution_count": 104,
     "metadata": {},
     "output_type": "execute_result"
    }
   ],
   "source": [
    "integrated_cross_sec_calc(sigma_y_tot_border_full, Energy_all_fluxes, step_all_fluxes,)"
   ]
  },
  {
   "cell_type": "code",
   "execution_count": 105,
   "metadata": {},
   "outputs": [
    {
     "data": {
      "text/plain": [
       "{'name': 'test1',\n",
       " 'pp': 0.0,\n",
       " 'b8': 4.902717476891634e-42,\n",
       " 'hep': 2.132460558918834e-41,\n",
       " 'n13': 1.940780872341216e-47,\n",
       " 'o15': 2.878826220252082e-46,\n",
       " 'f17': 2.938759881673474e-46,\n",
       " 'pep': 8.551531731136874e-46,\n",
       " 'Be': 8.852567938409866e-48,\n",
       " 'Total': 2.6228788238239946e-41}"
      ]
     },
     "execution_count": 105,
     "metadata": {},
     "output_type": "execute_result"
    }
   ],
   "source": [
    "integrated_cross_sec_calc(sigma_y_tot_no_border_full, Energy_all_fluxes, step_all_fluxes,)"
   ]
  },
  {
   "cell_type": "code",
   "execution_count": null,
   "metadata": {},
   "outputs": [],
   "source": []
  },
  {
   "cell_type": "markdown",
   "metadata": {},
   "source": [
    "### y_total + 125 kev level"
   ]
  },
  {
   "cell_type": "code",
   "execution_count": 154,
   "metadata": {},
   "outputs": [],
   "source": [
    "sigma_y_tot125_no_border_temp = [cross_sec(0,p, sigma_k_GTR, decomp['Ex, MeV'].values, \n",
    "                                      decomp['best_fit125'].values, 200) for p in p_list]\n",
    "sigma_y_tot125_no_border_full = np.interp(Energy_all_fluxes, xp=p_list+Q_EC_127Xe, \n",
    "                                     fp=sigma_y_tot125_no_border_temp)\n",
    "\n",
    "sigma_y_tot125_border_temp = [cross_sec(0,p, sigma_k_GTR, decomp['Ex, MeV'].values, \n",
    "                                   y_total125_border, 200) for p in p_list]\n",
    "sigma_y_tot125_border_full = np.interp(Energy_all_fluxes, xp=p_list+Q_EC_127Xe, \n",
    "                                  fp=sigma_y_tot125_border_temp)"
   ]
  },
  {
   "cell_type": "code",
   "execution_count": 155,
   "metadata": {},
   "outputs": [
    {
     "data": {
      "text/plain": [
       "{'name': 'test1',\n",
       " 'pp': 0.0,\n",
       " 'b8': 23.72966783487402,\n",
       " 'hep': 0.09602765591711396,\n",
       " 'n13': 0.1483242686033799,\n",
       " 'o15': 0.4577592320864679,\n",
       " 'f17': 0.01159833580077341,\n",
       " 'pep': 0.6625349084380411,\n",
       " 'Be': 2.656200827733728,\n",
       " 'Total': 27.762113063453523}"
      ]
     },
     "execution_count": 155,
     "metadata": {},
     "output_type": "execute_result"
    }
   ],
   "source": [
    "### BS05OP\n",
    "rate_calc(sigma_y_tot125_border_full, \\\n",
    "          BS05OP_flux, Energy_all_fluxes, step_all_fluxes,)"
   ]
  },
  {
   "cell_type": "code",
   "execution_count": 156,
   "metadata": {},
   "outputs": [
    {
     "data": {
      "text/plain": [
       "{'name': 'test1',\n",
       " 'pp': 0.0,\n",
       " 'b8': 28.42551750972769,\n",
       " 'hep': 0.17040416749144469,\n",
       " 'n13': 0.1483242686033799,\n",
       " 'o15': 0.4577592320864679,\n",
       " 'f17': 0.01159833580077341,\n",
       " 'pep': 0.6625349084380411,\n",
       " 'Be': 2.656200827733728,\n",
       " 'Total': 32.532339249881524}"
      ]
     },
     "execution_count": 156,
     "metadata": {},
     "output_type": "execute_result"
    }
   ],
   "source": [
    "rate_calc(sigma_y_tot125_no_border_full, \\\n",
    "          BS05OP_flux, Energy_all_fluxes, step_all_fluxes,)"
   ]
  },
  {
   "cell_type": "code",
   "execution_count": 157,
   "metadata": {},
   "outputs": [
    {
     "data": {
      "text/plain": [
       "{'name': 'test1',\n",
       " 'pp': 0.0,\n",
       " 'b8': 4.170416139696665e-42,\n",
       " 'hep': 1.2109414365335934e-41,\n",
       " 'n13': 4.831409400761559e-46,\n",
       " 'o15': 1.964631897366815e-45,\n",
       " 'f17': 1.9860164042420226e-45,\n",
       " 'pep': 4.665738791817191e-45,\n",
       " 'Be': 5.488018239119273e-46,\n",
       " 'Total': 1.6289478834890012e-41}"
      ]
     },
     "execution_count": 157,
     "metadata": {},
     "output_type": "execute_result"
    }
   ],
   "source": [
    "integrated_cross_sec_calc(sigma_y_tot125_border_full, Energy_all_fluxes, step_all_fluxes,)"
   ]
  },
  {
   "cell_type": "code",
   "execution_count": 158,
   "metadata": {},
   "outputs": [
    {
     "data": {
      "text/plain": [
       "{'name': 'test1',\n",
       " 'pp': 0.0,\n",
       " 'b8': 4.995697277632283e-42,\n",
       " 'hep': 2.148854571140538e-41,\n",
       " 'n13': 4.831409400761559e-46,\n",
       " 'o15': 1.964631897366815e-45,\n",
       " 'f17': 1.9860164042420226e-45,\n",
       " 'pep': 4.665738791817191e-45,\n",
       " 'Be': 5.488018239119273e-46,\n",
       " 'Total': 2.649389131889507e-41}"
      ]
     },
     "execution_count": 158,
     "metadata": {},
     "output_type": "execute_result"
    }
   ],
   "source": [
    "integrated_cross_sec_calc(sigma_y_tot125_no_border_full, Energy_all_fluxes, step_all_fluxes,)"
   ]
  },
  {
   "cell_type": "code",
   "execution_count": null,
   "metadata": {},
   "outputs": [],
   "source": []
  },
  {
   "cell_type": "markdown",
   "metadata": {},
   "source": [
    "### bgt"
   ]
  },
  {
   "cell_type": "code",
   "execution_count": 69,
   "metadata": {},
   "outputs": [],
   "source": [
    "sigma_y_bgt_no_border_temp = [cross_sec(0,p, sigma_k_GTR, decomp['Ex, MeV'].values, \n",
    "                                      decomp['bgt'].values, 200) for p in p_list]\n",
    "sigma_y_bgt_no_border_full = np.interp(Energy_all_fluxes, xp=p_list+Q_EC_127Xe, \n",
    "                                     fp=sigma_y_bgt_no_border_temp)\n",
    "\n",
    "sigma_y_bgt_border_temp = [cross_sec(0,p, sigma_k_GTR, decomp['Ex, MeV'].values, \n",
    "                                   y_bgt_border, 200) for p in p_list]\n",
    "sigma_y_bgt_border_full = np.interp(Energy_all_fluxes, xp=p_list+Q_EC_127Xe, \n",
    "                                  fp=sigma_y_bgt_border_temp)"
   ]
  },
  {
   "cell_type": "code",
   "execution_count": 70,
   "metadata": {},
   "outputs": [
    {
     "data": {
      "text/plain": [
       "{'name': 'test1',\n",
       " 'pp': 0.0,\n",
       " 'b8': 22.635605452920096,\n",
       " 'hep': 0.09220990915825145,\n",
       " 'n13': 0.15065796746606105,\n",
       " 'o15': 0.5107931227319378,\n",
       " 'f17': 0.012950287773290733,\n",
       " 'pep': 0.7703982567818012,\n",
       " 'Be': 2.656200827733728,\n",
       " 'Total': 26.82881582456516}"
      ]
     },
     "execution_count": 70,
     "metadata": {},
     "output_type": "execute_result"
    }
   ],
   "source": [
    "### BS05OP\n",
    "rate_calc(sigma_y_bgt_border_full, \\\n",
    "          BS05OP_flux, Energy_all_fluxes, step_all_fluxes,)"
   ]
  },
  {
   "cell_type": "code",
   "execution_count": 71,
   "metadata": {},
   "outputs": [
    {
     "data": {
      "text/plain": [
       "{'name': 'test1',\n",
       " 'pp': 0.0,\n",
       " 'b8': 27.38779229862022,\n",
       " 'hep': 0.1665946987937388,\n",
       " 'n13': 0.15065796746606105,\n",
       " 'o15': 0.5107931227319378,\n",
       " 'f17': 0.012950287773290733,\n",
       " 'pep': 0.7703982567818012,\n",
       " 'Be': 2.656200827733728,\n",
       " 'Total': 31.65538745990077}"
      ]
     },
     "execution_count": 71,
     "metadata": {},
     "output_type": "execute_result"
    }
   ],
   "source": [
    "rate_calc(sigma_y_bgt_no_border_full, \\\n",
    "          BS05OP_flux, Energy_all_fluxes, step_all_fluxes,)"
   ]
  },
  {
   "cell_type": "code",
   "execution_count": null,
   "metadata": {},
   "outputs": [],
   "source": []
  },
  {
   "cell_type": "markdown",
   "metadata": {},
   "source": [
    "### gtr"
   ]
  },
  {
   "cell_type": "code",
   "execution_count": 159,
   "metadata": {},
   "outputs": [],
   "source": [
    "sigma_gtr_no_border_temp = [cross_sec(0,p, sigma_k_GTR, decomp['Ex, MeV'].values, \n",
    "                                      decomp['gtr'].values, 200) for p in p_list]\n",
    "sigma_gtr_no_border_full = np.interp(Energy_all_fluxes, xp=p_list+Q_EC_127Xe, \n",
    "                                     fp=sigma_gtr_no_border_temp)\n",
    "\n",
    "sigma_gtr_border_temp = [cross_sec(0,p, sigma_k_GTR, decomp['Ex, MeV'].values, \n",
    "                                   y_gtr_border, 200) for p in p_list]\n",
    "sigma_gtr_border_full = np.interp(Energy_all_fluxes, xp=p_list+Q_EC_127Xe, \n",
    "                                  fp=sigma_gtr_border_temp)"
   ]
  },
  {
   "cell_type": "code",
   "execution_count": 165,
   "metadata": {},
   "outputs": [
    {
     "data": {
      "text/plain": [
       "{'name': 'test1',\n",
       " 'pp': 0.0,\n",
       " 'b8': 7.0285644487508625,\n",
       " 'hep': 0.02468987443810932,\n",
       " 'n13': 0.14605030348766654,\n",
       " 'o15': 0.43009784982512794,\n",
       " 'f17': 0.01088984177394611,\n",
       " 'pep': 0.6126365697390199,\n",
       " 'Be': 2.6400218621403524,\n",
       " 'Total': 10.892950750155086}"
      ]
     },
     "execution_count": 165,
     "metadata": {},
     "output_type": "execute_result"
    }
   ],
   "source": [
    "### BS05OP\n",
    "rate_calc((sigma_y_tot125_border_full-sigma_gtr_border_full), \\\n",
    "          BS05OP_flux, Energy_all_fluxes, step_all_fluxes,)"
   ]
  },
  {
   "cell_type": "code",
   "execution_count": 166,
   "metadata": {},
   "outputs": [
    {
     "data": {
      "text/plain": [
       "{'name': 'test1',\n",
       " 'pp': 0.0,\n",
       " 'b8': 8.339255218814271,\n",
       " 'hep': 0.03919900858379653,\n",
       " 'n13': 0.14605030348766654,\n",
       " 'o15': 0.43009784982512794,\n",
       " 'f17': 0.01088984177394611,\n",
       " 'pep': 0.6126365697390199,\n",
       " 'Be': 2.6400218621403524,\n",
       " 'Total': 12.21815065436418}"
      ]
     },
     "execution_count": 166,
     "metadata": {},
     "output_type": "execute_result"
    }
   ],
   "source": [
    "rate_calc((sigma_y_tot125_no_border_full-sigma_gtr_no_border_full), \\\n",
    "          BS05OP_flux, Energy_all_fluxes, step_all_fluxes,)"
   ]
  },
  {
   "cell_type": "markdown",
   "metadata": {},
   "source": [
    "### pr1"
   ]
  },
  {
   "cell_type": "code",
   "execution_count": 162,
   "metadata": {},
   "outputs": [],
   "source": [
    "sigma_pr1_no_border_temp = [cross_sec(0,p, sigma_k_GTR, decomp['Ex, MeV'].values, \n",
    "                                      decomp['pr1'].values, 200) for p in p_list]\n",
    "sigma_pr1_no_border_full = np.interp(Energy_all_fluxes, xp=p_list+Q_EC_127Xe, \n",
    "                                     fp=sigma_pr1_no_border_temp)\n",
    "\n",
    "sigma_pr1_border_temp = [cross_sec(0,p, sigma_k_GTR, decomp['Ex, MeV'].values, \n",
    "                                   y_pr1_border, 200) for p in p_list]\n",
    "sigma_pr1_border_full = np.interp(Energy_all_fluxes, xp=p_list+Q_EC_127Xe, \n",
    "                                  fp=sigma_pr1_border_temp)"
   ]
  },
  {
   "cell_type": "code",
   "execution_count": 167,
   "metadata": {},
   "outputs": [
    {
     "data": {
      "text/plain": [
       "{'name': 'test1',\n",
       " 'pp': 0.0,\n",
       " 'b8': 5.0538961265333215,\n",
       " 'hep': 0.015899463847467196,\n",
       " 'n13': 0.1448790829223284,\n",
       " 'o15': 0.4173711339850529,\n",
       " 'f17': 0.010564380423671565,\n",
       " 'pep': 0.5895434507444224,\n",
       " 'Be': 2.6314910311146433,\n",
       " 'Total': 8.863644669570906}"
      ]
     },
     "execution_count": 167,
     "metadata": {},
     "output_type": "execute_result"
    }
   ],
   "source": [
    "### BS05OP\n",
    "rate_calc((sigma_y_tot125_border_full-sigma_gtr_border_full-sigma_pr1_border_full), \\\n",
    "          BS05OP_flux, Energy_all_fluxes, step_all_fluxes,)"
   ]
  },
  {
   "cell_type": "code",
   "execution_count": 168,
   "metadata": {},
   "outputs": [
    {
     "data": {
      "text/plain": [
       "{'name': 'test1',\n",
       " 'pp': 0.0,\n",
       " 'b8': 5.060381057768212,\n",
       " 'hep': 0.01597177214535691,\n",
       " 'n13': 0.1448790829223284,\n",
       " 'o15': 0.4173711339850529,\n",
       " 'f17': 0.010564380423671565,\n",
       " 'pep': 0.5895434507444224,\n",
       " 'Be': 2.6314910311146433,\n",
       " 'Total': 8.870201909103686}"
      ]
     },
     "execution_count": 168,
     "metadata": {},
     "output_type": "execute_result"
    }
   ],
   "source": [
    "rate_calc((sigma_y_tot125_no_border_full-sigma_gtr_no_border_full-sigma_pr1_no_border_full), \\\n",
    "          BS05OP_flux, Energy_all_fluxes, step_all_fluxes,)"
   ]
  },
  {
   "cell_type": "markdown",
   "metadata": {},
   "source": [
    "### pr2"
   ]
  },
  {
   "cell_type": "code",
   "execution_count": 100,
   "metadata": {},
   "outputs": [],
   "source": [
    "sigma_pr2_no_border_temp = [cross_sec(0,p, sigma_k_GTR, decomp['Ex, MeV'].values, \n",
    "                                      decomp['pr2'].values, 200) for p in p_list]\n",
    "sigma_pr2_no_border_full = np.interp(Energy_all_fluxes, xp=p_list+Q_EC_127Xe, \n",
    "                                     fp=sigma_pr2_no_border_temp)\n",
    "\n",
    "sigma_pr2_border_temp = [cross_sec(0,p, sigma_k_GTR, decomp['Ex, MeV'].values, \n",
    "                                   y_pr2_border, 200) for p in p_list]\n",
    "sigma_pr2_border_full = np.interp(Energy_all_fluxes, xp=p_list+Q_EC_127Xe, \n",
    "                                  fp=sigma_pr2_border_temp)"
   ]
  },
  {
   "cell_type": "code",
   "execution_count": null,
   "metadata": {},
   "outputs": [],
   "source": []
  },
  {
   "cell_type": "code",
   "execution_count": 101,
   "metadata": {},
   "outputs": [],
   "source": [
    "output_table = pd.DataFrame(data=[], columns=['name','Be', 'f17', 'b8', 'n13', 'pep', 'o15', 'hep', \n",
    "                                              'pp',  'Total'])"
   ]
  },
  {
   "cell_type": "code",
   "execution_count": 102,
   "metadata": {},
   "outputs": [],
   "source": [
    "no1 = rate_calc(sigma_y_bgt_no_border_full, BS05OP_flux, Energy_all_fluxes, \n",
    "                step_all_fluxes, name='R-total (график bgt)')\n",
    "\n",
    "no2 = rate_calc(sigma_y_tot_no_border_full, BS05OP_flux, Energy_all_fluxes, \n",
    "                step_all_fluxes, name='R-total (best_fit)')\n",
    "no3 = rate_calc(sigma_matr_no_border_full, BS05OP_flux, Energy_all_fluxes, step_all_fluxes,\n",
    "               name='R-total (theory)')\n",
    "\n",
    "no4 = rate_calc((sigma_y_tot_no_border_full-sigma_gtr_no_border_full), BS05OP_flux, \n",
    "                Energy_all_fluxes, step_all_fluxes,name='R-total (best_fit) - GTR')\n",
    "no5 = rate_calc(sigma_matr_noGTR_no_border_full, BS05OP_flux, Energy_all_fluxes, \n",
    "                step_all_fluxes, name='R-total (theory) - GTR')\n",
    "\n",
    "no6 = rate_calc((sigma_y_tot_no_border_full-sigma_gtr_no_border_full-sigma_pr1_no_border_full), \\\n",
    "          BS05OP_flux, Energy_all_fluxes, step_all_fluxes, name='R-total (best_fit) - GTR - PR1')\n",
    "no7 = rate_calc(sigma_matr_noGTR_noPR1_no_border_full, BS05OP_flux, Energy_all_fluxes, \n",
    "                step_all_fluxes, name='R-total (theory) - GTR - PR1')"
   ]
  },
  {
   "cell_type": "code",
   "execution_count": 103,
   "metadata": {},
   "outputs": [
    {
     "data": {
      "text/html": [
       "<div>\n",
       "<style>\n",
       "    .dataframe thead tr:only-child th {\n",
       "        text-align: right;\n",
       "    }\n",
       "\n",
       "    .dataframe thead th {\n",
       "        text-align: left;\n",
       "    }\n",
       "\n",
       "    .dataframe tbody tr th {\n",
       "        vertical-align: top;\n",
       "    }\n",
       "</style>\n",
       "<table border=\"1\" class=\"dataframe\">\n",
       "  <thead>\n",
       "    <tr style=\"text-align: right;\">\n",
       "      <th></th>\n",
       "      <th>name</th>\n",
       "      <th>Be</th>\n",
       "      <th>f17</th>\n",
       "      <th>b8</th>\n",
       "      <th>n13</th>\n",
       "      <th>pep</th>\n",
       "      <th>o15</th>\n",
       "      <th>hep</th>\n",
       "      <th>pp</th>\n",
       "      <th>Total</th>\n",
       "    </tr>\n",
       "  </thead>\n",
       "  <tbody>\n",
       "    <tr>\n",
       "      <th>0</th>\n",
       "      <td>R-total (график bgt)</td>\n",
       "      <td>2.656</td>\n",
       "      <td>0.013</td>\n",
       "      <td>27.388</td>\n",
       "      <td>0.151</td>\n",
       "      <td>0.770</td>\n",
       "      <td>0.511</td>\n",
       "      <td>0.167</td>\n",
       "      <td>0.0</td>\n",
       "      <td>31.655</td>\n",
       "    </tr>\n",
       "    <tr>\n",
       "      <th>1</th>\n",
       "      <td>R-total (best_fit)</td>\n",
       "      <td>0.043</td>\n",
       "      <td>0.002</td>\n",
       "      <td>27.896</td>\n",
       "      <td>0.006</td>\n",
       "      <td>0.121</td>\n",
       "      <td>0.067</td>\n",
       "      <td>0.169</td>\n",
       "      <td>0.0</td>\n",
       "      <td>28.305</td>\n",
       "    </tr>\n",
       "    <tr>\n",
       "      <th>2</th>\n",
       "      <td>R-total (theory)</td>\n",
       "      <td>0.440</td>\n",
       "      <td>0.004</td>\n",
       "      <td>30.054</td>\n",
       "      <td>0.036</td>\n",
       "      <td>0.282</td>\n",
       "      <td>0.173</td>\n",
       "      <td>0.183</td>\n",
       "      <td>0.0</td>\n",
       "      <td>31.173</td>\n",
       "    </tr>\n",
       "    <tr>\n",
       "      <th>3</th>\n",
       "      <td>R-total (best_fit) - GTR</td>\n",
       "      <td>0.027</td>\n",
       "      <td>0.001</td>\n",
       "      <td>7.810</td>\n",
       "      <td>0.004</td>\n",
       "      <td>0.072</td>\n",
       "      <td>0.039</td>\n",
       "      <td>0.038</td>\n",
       "      <td>0.0</td>\n",
       "      <td>7.990</td>\n",
       "    </tr>\n",
       "    <tr>\n",
       "      <th>4</th>\n",
       "      <td>R-total (theory) - GTR</td>\n",
       "      <td>0.426</td>\n",
       "      <td>0.004</td>\n",
       "      <td>9.950</td>\n",
       "      <td>0.034</td>\n",
       "      <td>0.234</td>\n",
       "      <td>0.146</td>\n",
       "      <td>0.050</td>\n",
       "      <td>0.0</td>\n",
       "      <td>10.844</td>\n",
       "    </tr>\n",
       "    <tr>\n",
       "      <th>5</th>\n",
       "      <td>R-total (best_fit) - GTR - PR1</td>\n",
       "      <td>0.018</td>\n",
       "      <td>0.001</td>\n",
       "      <td>4.531</td>\n",
       "      <td>0.003</td>\n",
       "      <td>0.048</td>\n",
       "      <td>0.027</td>\n",
       "      <td>0.015</td>\n",
       "      <td>0.0</td>\n",
       "      <td>4.642</td>\n",
       "    </tr>\n",
       "    <tr>\n",
       "      <th>6</th>\n",
       "      <td>R-total (theory) - GTR - PR1</td>\n",
       "      <td>0.420</td>\n",
       "      <td>0.003</td>\n",
       "      <td>6.312</td>\n",
       "      <td>0.034</td>\n",
       "      <td>0.217</td>\n",
       "      <td>0.137</td>\n",
       "      <td>0.027</td>\n",
       "      <td>0.0</td>\n",
       "      <td>7.151</td>\n",
       "    </tr>\n",
       "  </tbody>\n",
       "</table>\n",
       "</div>"
      ],
      "text/plain": [
       "                             name     Be    f17      b8    n13    pep    o15  \\\n",
       "0            R-total (график bgt)  2.656  0.013  27.388  0.151  0.770  0.511   \n",
       "1              R-total (best_fit)  0.043  0.002  27.896  0.006  0.121  0.067   \n",
       "2                R-total (theory)  0.440  0.004  30.054  0.036  0.282  0.173   \n",
       "3        R-total (best_fit) - GTR  0.027  0.001   7.810  0.004  0.072  0.039   \n",
       "4          R-total (theory) - GTR  0.426  0.004   9.950  0.034  0.234  0.146   \n",
       "5  R-total (best_fit) - GTR - PR1  0.018  0.001   4.531  0.003  0.048  0.027   \n",
       "6    R-total (theory) - GTR - PR1  0.420  0.003   6.312  0.034  0.217  0.137   \n",
       "\n",
       "     hep   pp   Total  \n",
       "0  0.167  0.0  31.655  \n",
       "1  0.169  0.0  28.305  \n",
       "2  0.183  0.0  31.173  \n",
       "3  0.038  0.0   7.990  \n",
       "4  0.050  0.0  10.844  \n",
       "5  0.015  0.0   4.642  \n",
       "6  0.027  0.0   7.151  "
      ]
     },
     "execution_count": 103,
     "metadata": {},
     "output_type": "execute_result"
    }
   ],
   "source": [
    "output_table = pd.DataFrame(data=[], columns=['name','Be', 'f17', 'b8', 'n13', 'pep', 'o15', 'hep', \n",
    "                                              'pp',  'Total'])\n",
    "\n",
    "for elem in [no1, no2, no3, no4, no5, no6, no7] : \n",
    "    output_table = output_table.append(elem, ignore_index=True)\n",
    "    \n",
    "for elem in ['Be', 'f17', 'b8', 'n13', 'pep', 'o15', 'hep', 'pp',  'Total']:\n",
    "    output_table[elem] = output_table[elem].round(3)\n",
    "output_table"
   ]
  },
  {
   "cell_type": "code",
   "execution_count": 104,
   "metadata": {},
   "outputs": [],
   "source": [
    "output_table.to_excel('no_border_comparison_Suslov.xls')"
   ]
  },
  {
   "cell_type": "code",
   "execution_count": null,
   "metadata": {},
   "outputs": [],
   "source": []
  },
  {
   "cell_type": "code",
   "execution_count": 105,
   "metadata": {},
   "outputs": [],
   "source": [
    "no11 = rate_calc(sigma_y_bgt_border_full, BS05OP_flux, Energy_all_fluxes, \n",
    "                step_all_fluxes, name='R-total (график bgt)')\n",
    "\n",
    "no22 = rate_calc(sigma_y_tot_border_full, BS05OP_flux, Energy_all_fluxes, \n",
    "                step_all_fluxes, name='R-total (best_fit)')\n",
    "no33 = rate_calc(sigma_matr_border_full, BS05OP_flux, Energy_all_fluxes, step_all_fluxes,\n",
    "               name='R-total (theory)')\n",
    "\n",
    "no44 = rate_calc((sigma_y_tot_border_full-sigma_gtr_border_full), BS05OP_flux, \n",
    "                Energy_all_fluxes, step_all_fluxes,name='R-total (best_fit) - GTR')\n",
    "no55 = rate_calc(sigma_matr_noGTR_border_full, BS05OP_flux, Energy_all_fluxes, \n",
    "                step_all_fluxes, name='R-total (theory) - GTR')\n",
    "\n",
    "no66 = rate_calc((sigma_y_tot_border_full-sigma_gtr_border_full-sigma_pr1_border_full), \\\n",
    "          BS05OP_flux, Energy_all_fluxes, step_all_fluxes, name='R-total (best_fit) - GTR - PR1')\n",
    "no77 = rate_calc(sigma_matr_noGTR_noPR1_border_full, BS05OP_flux, Energy_all_fluxes, \n",
    "                step_all_fluxes, name='R-total (theory) - GTR - PR1')"
   ]
  },
  {
   "cell_type": "code",
   "execution_count": 106,
   "metadata": {},
   "outputs": [
    {
     "data": {
      "text/html": [
       "<div>\n",
       "<style>\n",
       "    .dataframe thead tr:only-child th {\n",
       "        text-align: right;\n",
       "    }\n",
       "\n",
       "    .dataframe thead th {\n",
       "        text-align: left;\n",
       "    }\n",
       "\n",
       "    .dataframe tbody tr th {\n",
       "        vertical-align: top;\n",
       "    }\n",
       "</style>\n",
       "<table border=\"1\" class=\"dataframe\">\n",
       "  <thead>\n",
       "    <tr style=\"text-align: right;\">\n",
       "      <th></th>\n",
       "      <th>name</th>\n",
       "      <th>Be</th>\n",
       "      <th>f17</th>\n",
       "      <th>b8</th>\n",
       "      <th>n13</th>\n",
       "      <th>pep</th>\n",
       "      <th>o15</th>\n",
       "      <th>hep</th>\n",
       "      <th>pp</th>\n",
       "      <th>Total</th>\n",
       "    </tr>\n",
       "  </thead>\n",
       "  <tbody>\n",
       "    <tr>\n",
       "      <th>0</th>\n",
       "      <td>R-total (график bgt)</td>\n",
       "      <td>2.656</td>\n",
       "      <td>0.013</td>\n",
       "      <td>22.636</td>\n",
       "      <td>0.151</td>\n",
       "      <td>0.770</td>\n",
       "      <td>0.511</td>\n",
       "      <td>0.092</td>\n",
       "      <td>0.0</td>\n",
       "      <td>26.829</td>\n",
       "    </tr>\n",
       "    <tr>\n",
       "      <th>1</th>\n",
       "      <td>R-total (best_fit)</td>\n",
       "      <td>0.043</td>\n",
       "      <td>0.002</td>\n",
       "      <td>23.201</td>\n",
       "      <td>0.006</td>\n",
       "      <td>0.121</td>\n",
       "      <td>0.067</td>\n",
       "      <td>0.095</td>\n",
       "      <td>0.0</td>\n",
       "      <td>23.534</td>\n",
       "    </tr>\n",
       "    <tr>\n",
       "      <th>2</th>\n",
       "      <td>R-total (theory)</td>\n",
       "      <td>0.440</td>\n",
       "      <td>0.004</td>\n",
       "      <td>25.269</td>\n",
       "      <td>0.036</td>\n",
       "      <td>0.282</td>\n",
       "      <td>0.173</td>\n",
       "      <td>0.106</td>\n",
       "      <td>0.0</td>\n",
       "      <td>26.311</td>\n",
       "    </tr>\n",
       "    <tr>\n",
       "      <th>3</th>\n",
       "      <td>R-total (best_fit) - GTR</td>\n",
       "      <td>0.027</td>\n",
       "      <td>0.001</td>\n",
       "      <td>6.500</td>\n",
       "      <td>0.004</td>\n",
       "      <td>0.072</td>\n",
       "      <td>0.039</td>\n",
       "      <td>0.023</td>\n",
       "      <td>0.0</td>\n",
       "      <td>6.665</td>\n",
       "    </tr>\n",
       "    <tr>\n",
       "      <th>4</th>\n",
       "      <td>R-total (theory) - GTR</td>\n",
       "      <td>0.426</td>\n",
       "      <td>0.004</td>\n",
       "      <td>8.621</td>\n",
       "      <td>0.034</td>\n",
       "      <td>0.234</td>\n",
       "      <td>0.146</td>\n",
       "      <td>0.034</td>\n",
       "      <td>0.0</td>\n",
       "      <td>9.499</td>\n",
       "    </tr>\n",
       "    <tr>\n",
       "      <th>5</th>\n",
       "      <td>R-total (best_fit) - GTR - PR1</td>\n",
       "      <td>0.018</td>\n",
       "      <td>0.001</td>\n",
       "      <td>4.525</td>\n",
       "      <td>0.003</td>\n",
       "      <td>0.048</td>\n",
       "      <td>0.027</td>\n",
       "      <td>0.015</td>\n",
       "      <td>0.0</td>\n",
       "      <td>4.636</td>\n",
       "    </tr>\n",
       "    <tr>\n",
       "      <th>6</th>\n",
       "      <td>R-total (theory) - GTR - PR1</td>\n",
       "      <td>0.420</td>\n",
       "      <td>0.003</td>\n",
       "      <td>6.026</td>\n",
       "      <td>0.034</td>\n",
       "      <td>0.217</td>\n",
       "      <td>0.137</td>\n",
       "      <td>0.022</td>\n",
       "      <td>0.0</td>\n",
       "      <td>6.860</td>\n",
       "    </tr>\n",
       "  </tbody>\n",
       "</table>\n",
       "</div>"
      ],
      "text/plain": [
       "                             name     Be    f17      b8    n13    pep    o15  \\\n",
       "0            R-total (график bgt)  2.656  0.013  22.636  0.151  0.770  0.511   \n",
       "1              R-total (best_fit)  0.043  0.002  23.201  0.006  0.121  0.067   \n",
       "2                R-total (theory)  0.440  0.004  25.269  0.036  0.282  0.173   \n",
       "3        R-total (best_fit) - GTR  0.027  0.001   6.500  0.004  0.072  0.039   \n",
       "4          R-total (theory) - GTR  0.426  0.004   8.621  0.034  0.234  0.146   \n",
       "5  R-total (best_fit) - GTR - PR1  0.018  0.001   4.525  0.003  0.048  0.027   \n",
       "6    R-total (theory) - GTR - PR1  0.420  0.003   6.026  0.034  0.217  0.137   \n",
       "\n",
       "     hep   pp   Total  \n",
       "0  0.092  0.0  26.829  \n",
       "1  0.095  0.0  23.534  \n",
       "2  0.106  0.0  26.311  \n",
       "3  0.023  0.0   6.665  \n",
       "4  0.034  0.0   9.499  \n",
       "5  0.015  0.0   4.636  \n",
       "6  0.022  0.0   6.860  "
      ]
     },
     "execution_count": 106,
     "metadata": {},
     "output_type": "execute_result"
    }
   ],
   "source": [
    "output_table0 = pd.DataFrame(data=[], columns=['name','Be', 'f17', 'b8', 'n13', 'pep', 'o15', 'hep', \n",
    "                                              'pp',  'Total'])\n",
    "\n",
    "for elem in [no11, no22, no33, no44, no55, no66, no77] : \n",
    "    output_table0 = output_table0.append(elem, ignore_index=True)\n",
    "    \n",
    "for elem in ['Be', 'f17', 'b8', 'n13', 'pep', 'o15', 'hep', 'pp',  'Total']:\n",
    "    output_table0[elem] = output_table0[elem].round(3)\n",
    "output_table0"
   ]
  },
  {
   "cell_type": "code",
   "execution_count": 107,
   "metadata": {},
   "outputs": [],
   "source": [
    "output_table0.to_excel('border_comparison_Suslov.xls')"
   ]
  },
  {
   "cell_type": "code",
   "execution_count": null,
   "metadata": {},
   "outputs": [],
   "source": []
  },
  {
   "cell_type": "markdown",
   "metadata": {},
   "source": [
    "## декомпозиция гауссом"
   ]
  },
  {
   "cell_type": "code",
   "execution_count": null,
   "metadata": {},
   "outputs": [],
   "source": []
  },
  {
   "cell_type": "code",
   "execution_count": 113,
   "metadata": {},
   "outputs": [
    {
     "data": {
      "text/html": [
       "<div>\n",
       "<style scoped>\n",
       "    .dataframe tbody tr th:only-of-type {\n",
       "        vertical-align: middle;\n",
       "    }\n",
       "\n",
       "    .dataframe tbody tr th {\n",
       "        vertical-align: top;\n",
       "    }\n",
       "\n",
       "    .dataframe thead th {\n",
       "        text-align: right;\n",
       "    }\n",
       "</style>\n",
       "<table border=\"1\" class=\"dataframe\">\n",
       "  <thead>\n",
       "    <tr style=\"text-align: right;\">\n",
       "      <th></th>\n",
       "      <th>Ex, MeV</th>\n",
       "      <th>bgt</th>\n",
       "      <th>best_fit</th>\n",
       "      <th>gtr</th>\n",
       "      <th>pr1</th>\n",
       "      <th>pr2</th>\n",
       "    </tr>\n",
       "  </thead>\n",
       "  <tbody>\n",
       "    <tr>\n",
       "      <th>0</th>\n",
       "      <td>0.00</td>\n",
       "      <td>0.014032</td>\n",
       "      <td>0.001011</td>\n",
       "      <td>8.778301e-08</td>\n",
       "      <td>0.000162</td>\n",
       "      <td>0.000849</td>\n",
       "    </tr>\n",
       "    <tr>\n",
       "      <th>1</th>\n",
       "      <td>0.05</td>\n",
       "      <td>0.041647</td>\n",
       "      <td>0.001196</td>\n",
       "      <td>9.899487e-08</td>\n",
       "      <td>0.000181</td>\n",
       "      <td>0.001015</td>\n",
       "    </tr>\n",
       "    <tr>\n",
       "      <th>2</th>\n",
       "      <td>0.10</td>\n",
       "      <td>0.041647</td>\n",
       "      <td>0.001412</td>\n",
       "      <td>1.115941e-07</td>\n",
       "      <td>0.000202</td>\n",
       "      <td>0.001210</td>\n",
       "    </tr>\n",
       "    <tr>\n",
       "      <th>3</th>\n",
       "      <td>0.15</td>\n",
       "      <td>0.089973</td>\n",
       "      <td>0.001664</td>\n",
       "      <td>1.257465e-07</td>\n",
       "      <td>0.000224</td>\n",
       "      <td>0.001439</td>\n",
       "    </tr>\n",
       "    <tr>\n",
       "      <th>4</th>\n",
       "      <td>0.20</td>\n",
       "      <td>0.089973</td>\n",
       "      <td>0.001957</td>\n",
       "      <td>1.416371e-07</td>\n",
       "      <td>0.000250</td>\n",
       "      <td>0.001708</td>\n",
       "    </tr>\n",
       "    <tr>\n",
       "      <th>5</th>\n",
       "      <td>0.25</td>\n",
       "      <td>0.083343</td>\n",
       "      <td>0.002299</td>\n",
       "      <td>1.594719e-07</td>\n",
       "      <td>0.000278</td>\n",
       "      <td>0.002021</td>\n",
       "    </tr>\n",
       "    <tr>\n",
       "      <th>6</th>\n",
       "      <td>0.30</td>\n",
       "      <td>0.058906</td>\n",
       "      <td>0.002694</td>\n",
       "      <td>1.794808e-07</td>\n",
       "      <td>0.000308</td>\n",
       "      <td>0.002386</td>\n",
       "    </tr>\n",
       "    <tr>\n",
       "      <th>7</th>\n",
       "      <td>0.35</td>\n",
       "      <td>0.054557</td>\n",
       "      <td>0.003152</td>\n",
       "      <td>2.019193e-07</td>\n",
       "      <td>0.000343</td>\n",
       "      <td>0.002809</td>\n",
       "    </tr>\n",
       "    <tr>\n",
       "      <th>8</th>\n",
       "      <td>0.40</td>\n",
       "      <td>0.041694</td>\n",
       "      <td>0.003680</td>\n",
       "      <td>2.270722e-07</td>\n",
       "      <td>0.000380</td>\n",
       "      <td>0.003300</td>\n",
       "    </tr>\n",
       "    <tr>\n",
       "      <th>9</th>\n",
       "      <td>0.45</td>\n",
       "      <td>0.035951</td>\n",
       "      <td>0.004288</td>\n",
       "      <td>2.552563e-07</td>\n",
       "      <td>0.000422</td>\n",
       "      <td>0.003866</td>\n",
       "    </tr>\n",
       "    <tr>\n",
       "      <th>10</th>\n",
       "      <td>0.50</td>\n",
       "      <td>0.028589</td>\n",
       "      <td>0.004987</td>\n",
       "      <td>2.868238e-07</td>\n",
       "      <td>0.000468</td>\n",
       "      <td>0.004519</td>\n",
       "    </tr>\n",
       "    <tr>\n",
       "      <th>11</th>\n",
       "      <td>0.55</td>\n",
       "      <td>0.058906</td>\n",
       "      <td>0.005786</td>\n",
       "      <td>3.221663e-07</td>\n",
       "      <td>0.000518</td>\n",
       "      <td>0.005268</td>\n",
       "    </tr>\n",
       "    <tr>\n",
       "      <th>12</th>\n",
       "      <td>0.60</td>\n",
       "      <td>0.058906</td>\n",
       "      <td>0.006700</td>\n",
       "      <td>3.617191e-07</td>\n",
       "      <td>0.000573</td>\n",
       "      <td>0.006126</td>\n",
       "    </tr>\n",
       "    <tr>\n",
       "      <th>13</th>\n",
       "      <td>0.65</td>\n",
       "      <td>0.053448</td>\n",
       "      <td>0.007742</td>\n",
       "      <td>4.059654e-07</td>\n",
       "      <td>0.000635</td>\n",
       "      <td>0.007107</td>\n",
       "    </tr>\n",
       "    <tr>\n",
       "      <th>14</th>\n",
       "      <td>0.70</td>\n",
       "      <td>0.041647</td>\n",
       "      <td>0.008925</td>\n",
       "      <td>4.554418e-07</td>\n",
       "      <td>0.000702</td>\n",
       "      <td>0.008223</td>\n",
       "    </tr>\n",
       "    <tr>\n",
       "      <th>15</th>\n",
       "      <td>0.75</td>\n",
       "      <td>0.041647</td>\n",
       "      <td>0.010267</td>\n",
       "      <td>5.107438e-07</td>\n",
       "      <td>0.000775</td>\n",
       "      <td>0.009492</td>\n",
       "    </tr>\n",
       "    <tr>\n",
       "      <th>16</th>\n",
       "      <td>0.80</td>\n",
       "      <td>0.043731</td>\n",
       "      <td>0.011785</td>\n",
       "      <td>5.725316e-07</td>\n",
       "      <td>0.000856</td>\n",
       "      <td>0.010928</td>\n",
       "    </tr>\n",
       "    <tr>\n",
       "      <th>17</th>\n",
       "      <td>0.85</td>\n",
       "      <td>0.036829</td>\n",
       "      <td>0.013496</td>\n",
       "      <td>6.415377e-07</td>\n",
       "      <td>0.000945</td>\n",
       "      <td>0.012551</td>\n",
       "    </tr>\n",
       "    <tr>\n",
       "      <th>18</th>\n",
       "      <td>0.90</td>\n",
       "      <td>0.028113</td>\n",
       "      <td>0.015421</td>\n",
       "      <td>7.185735e-07</td>\n",
       "      <td>0.001042</td>\n",
       "      <td>0.014378</td>\n",
       "    </tr>\n",
       "    <tr>\n",
       "      <th>19</th>\n",
       "      <td>0.95</td>\n",
       "      <td>0.086521</td>\n",
       "      <td>0.017580</td>\n",
       "      <td>8.045379e-07</td>\n",
       "      <td>0.001149</td>\n",
       "      <td>0.016431</td>\n",
       "    </tr>\n",
       "  </tbody>\n",
       "</table>\n",
       "</div>"
      ],
      "text/plain": [
       "    Ex, MeV       bgt  best_fit           gtr       pr1       pr2\n",
       "0      0.00  0.014032  0.001011  8.778301e-08  0.000162  0.000849\n",
       "1      0.05  0.041647  0.001196  9.899487e-08  0.000181  0.001015\n",
       "2      0.10  0.041647  0.001412  1.115941e-07  0.000202  0.001210\n",
       "3      0.15  0.089973  0.001664  1.257465e-07  0.000224  0.001439\n",
       "4      0.20  0.089973  0.001957  1.416371e-07  0.000250  0.001708\n",
       "5      0.25  0.083343  0.002299  1.594719e-07  0.000278  0.002021\n",
       "6      0.30  0.058906  0.002694  1.794808e-07  0.000308  0.002386\n",
       "7      0.35  0.054557  0.003152  2.019193e-07  0.000343  0.002809\n",
       "8      0.40  0.041694  0.003680  2.270722e-07  0.000380  0.003300\n",
       "9      0.45  0.035951  0.004288  2.552563e-07  0.000422  0.003866\n",
       "10     0.50  0.028589  0.004987  2.868238e-07  0.000468  0.004519\n",
       "11     0.55  0.058906  0.005786  3.221663e-07  0.000518  0.005268\n",
       "12     0.60  0.058906  0.006700  3.617191e-07  0.000573  0.006126\n",
       "13     0.65  0.053448  0.007742  4.059654e-07  0.000635  0.007107\n",
       "14     0.70  0.041647  0.008925  4.554418e-07  0.000702  0.008223\n",
       "15     0.75  0.041647  0.010267  5.107438e-07  0.000775  0.009492\n",
       "16     0.80  0.043731  0.011785  5.725316e-07  0.000856  0.010928\n",
       "17     0.85  0.036829  0.013496  6.415377e-07  0.000945  0.012551\n",
       "18     0.90  0.028113  0.015421  7.185735e-07  0.001042  0.014378\n",
       "19     0.95  0.086521  0.017580  8.045379e-07  0.001149  0.016431"
      ]
     },
     "execution_count": 113,
     "metadata": {},
     "output_type": "execute_result"
    }
   ],
   "source": [
    "decomp_gauss = pd.read_excel('127Xe_decomp_decomp_gauss.xls')\n",
    "decomp_gauss.head(20)"
   ]
  },
  {
   "cell_type": "code",
   "execution_count": 114,
   "metadata": {},
   "outputs": [
    {
     "data": {
      "text/plain": [
       "(55.58062392490359,\n",
       " 51.97414344291188,\n",
       " 39.76101140057214,\n",
       " 10.856831308556293,\n",
       " 1.3563007337834554)"
      ]
     },
     "execution_count": 114,
     "metadata": {},
     "output_type": "execute_result"
    }
   ],
   "source": [
    "trapz(decomp_gauss['bgt'].values, decomp_gauss['Ex, MeV'].values),\\\n",
    "trapz(decomp_gauss['best_fit'].values, decomp_gauss['Ex, MeV'].values),\\\n",
    "trapz(decomp_gauss['gtr'].values, decomp_gauss['Ex, MeV'].values), \\\n",
    "trapz(decomp_gauss['pr1'].values, decomp_gauss['Ex, MeV'].values), \\\n",
    "trapz(decomp_gauss['pr2'].values, decomp_gauss['Ex, MeV'].values), \\"
   ]
  },
  {
   "cell_type": "code",
   "execution_count": null,
   "metadata": {},
   "outputs": [],
   "source": []
  },
  {
   "cell_type": "code",
   "execution_count": 115,
   "metadata": {},
   "outputs": [],
   "source": [
    "#добавим в best fit кусок с уровнем 125кэВ\n",
    "decomp_gauss['best_fit125'] = decomp_gauss['bgt'][(decomp_gauss['Ex, MeV'] < 0.4)].append(decomp_gauss['best_fit'][decomp_gauss['Ex, MeV'] >= 0.4])"
   ]
  },
  {
   "cell_type": "code",
   "execution_count": 116,
   "metadata": {},
   "outputs": [
    {
     "data": {
      "text/plain": [
       "(55.58062392490359,\n",
       " 51.97414344291188,\n",
       " 39.76101140057214,\n",
       " 10.856831308556293,\n",
       " 1.3563007337834554)"
      ]
     },
     "execution_count": 116,
     "metadata": {},
     "output_type": "execute_result"
    }
   ],
   "source": [
    "trapz(decomp_gauss['bgt'].values, decomp_gauss['Ex, MeV'].values),\\\n",
    "trapz(decomp_gauss['best_fit'].values, decomp_gauss['Ex, MeV'].values),\\\n",
    "trapz(decomp_gauss['gtr'].values, decomp_gauss['Ex, MeV'].values), \\\n",
    "trapz(decomp_gauss['pr1'].values, decomp_gauss['Ex, MeV'].values), \\\n",
    "trapz(decomp_gauss['pr2'].values, decomp_gauss['Ex, MeV'].values), \\"
   ]
  },
  {
   "cell_type": "code",
   "execution_count": 117,
   "metadata": {},
   "outputs": [
    {
     "data": {
      "text/html": [
       "<div>\n",
       "<style scoped>\n",
       "    .dataframe tbody tr th:only-of-type {\n",
       "        vertical-align: middle;\n",
       "    }\n",
       "\n",
       "    .dataframe tbody tr th {\n",
       "        vertical-align: top;\n",
       "    }\n",
       "\n",
       "    .dataframe thead th {\n",
       "        text-align: right;\n",
       "    }\n",
       "</style>\n",
       "<table border=\"1\" class=\"dataframe\">\n",
       "  <thead>\n",
       "    <tr style=\"text-align: right;\">\n",
       "      <th></th>\n",
       "      <th>Ex, MeV</th>\n",
       "      <th>bgt</th>\n",
       "      <th>best_fit</th>\n",
       "      <th>gtr</th>\n",
       "      <th>pr1</th>\n",
       "      <th>pr2</th>\n",
       "      <th>best_fit125</th>\n",
       "    </tr>\n",
       "  </thead>\n",
       "  <tbody>\n",
       "    <tr>\n",
       "      <th>0</th>\n",
       "      <td>0.00</td>\n",
       "      <td>0.014032</td>\n",
       "      <td>0.001011</td>\n",
       "      <td>8.778301e-08</td>\n",
       "      <td>0.000162</td>\n",
       "      <td>0.000849</td>\n",
       "      <td>0.014032</td>\n",
       "    </tr>\n",
       "    <tr>\n",
       "      <th>1</th>\n",
       "      <td>0.05</td>\n",
       "      <td>0.041647</td>\n",
       "      <td>0.001196</td>\n",
       "      <td>9.899487e-08</td>\n",
       "      <td>0.000181</td>\n",
       "      <td>0.001015</td>\n",
       "      <td>0.041647</td>\n",
       "    </tr>\n",
       "    <tr>\n",
       "      <th>2</th>\n",
       "      <td>0.10</td>\n",
       "      <td>0.041647</td>\n",
       "      <td>0.001412</td>\n",
       "      <td>1.115941e-07</td>\n",
       "      <td>0.000202</td>\n",
       "      <td>0.001210</td>\n",
       "      <td>0.041647</td>\n",
       "    </tr>\n",
       "    <tr>\n",
       "      <th>3</th>\n",
       "      <td>0.15</td>\n",
       "      <td>0.089973</td>\n",
       "      <td>0.001664</td>\n",
       "      <td>1.257465e-07</td>\n",
       "      <td>0.000224</td>\n",
       "      <td>0.001439</td>\n",
       "      <td>0.089973</td>\n",
       "    </tr>\n",
       "    <tr>\n",
       "      <th>4</th>\n",
       "      <td>0.20</td>\n",
       "      <td>0.089973</td>\n",
       "      <td>0.001957</td>\n",
       "      <td>1.416371e-07</td>\n",
       "      <td>0.000250</td>\n",
       "      <td>0.001708</td>\n",
       "      <td>0.089973</td>\n",
       "    </tr>\n",
       "    <tr>\n",
       "      <th>5</th>\n",
       "      <td>0.25</td>\n",
       "      <td>0.083343</td>\n",
       "      <td>0.002299</td>\n",
       "      <td>1.594719e-07</td>\n",
       "      <td>0.000278</td>\n",
       "      <td>0.002021</td>\n",
       "      <td>0.083343</td>\n",
       "    </tr>\n",
       "    <tr>\n",
       "      <th>6</th>\n",
       "      <td>0.30</td>\n",
       "      <td>0.058906</td>\n",
       "      <td>0.002694</td>\n",
       "      <td>1.794808e-07</td>\n",
       "      <td>0.000308</td>\n",
       "      <td>0.002386</td>\n",
       "      <td>0.058906</td>\n",
       "    </tr>\n",
       "    <tr>\n",
       "      <th>7</th>\n",
       "      <td>0.35</td>\n",
       "      <td>0.054557</td>\n",
       "      <td>0.003152</td>\n",
       "      <td>2.019193e-07</td>\n",
       "      <td>0.000343</td>\n",
       "      <td>0.002809</td>\n",
       "      <td>0.054557</td>\n",
       "    </tr>\n",
       "    <tr>\n",
       "      <th>8</th>\n",
       "      <td>0.40</td>\n",
       "      <td>0.041694</td>\n",
       "      <td>0.003680</td>\n",
       "      <td>2.270722e-07</td>\n",
       "      <td>0.000380</td>\n",
       "      <td>0.003300</td>\n",
       "      <td>0.003680</td>\n",
       "    </tr>\n",
       "    <tr>\n",
       "      <th>9</th>\n",
       "      <td>0.45</td>\n",
       "      <td>0.035951</td>\n",
       "      <td>0.004288</td>\n",
       "      <td>2.552563e-07</td>\n",
       "      <td>0.000422</td>\n",
       "      <td>0.003866</td>\n",
       "      <td>0.004288</td>\n",
       "    </tr>\n",
       "    <tr>\n",
       "      <th>10</th>\n",
       "      <td>0.50</td>\n",
       "      <td>0.028589</td>\n",
       "      <td>0.004987</td>\n",
       "      <td>2.868238e-07</td>\n",
       "      <td>0.000468</td>\n",
       "      <td>0.004519</td>\n",
       "      <td>0.004987</td>\n",
       "    </tr>\n",
       "    <tr>\n",
       "      <th>11</th>\n",
       "      <td>0.55</td>\n",
       "      <td>0.058906</td>\n",
       "      <td>0.005786</td>\n",
       "      <td>3.221663e-07</td>\n",
       "      <td>0.000518</td>\n",
       "      <td>0.005268</td>\n",
       "      <td>0.005786</td>\n",
       "    </tr>\n",
       "  </tbody>\n",
       "</table>\n",
       "</div>"
      ],
      "text/plain": [
       "    Ex, MeV       bgt  best_fit           gtr       pr1       pr2  best_fit125\n",
       "0      0.00  0.014032  0.001011  8.778301e-08  0.000162  0.000849     0.014032\n",
       "1      0.05  0.041647  0.001196  9.899487e-08  0.000181  0.001015     0.041647\n",
       "2      0.10  0.041647  0.001412  1.115941e-07  0.000202  0.001210     0.041647\n",
       "3      0.15  0.089973  0.001664  1.257465e-07  0.000224  0.001439     0.089973\n",
       "4      0.20  0.089973  0.001957  1.416371e-07  0.000250  0.001708     0.089973\n",
       "5      0.25  0.083343  0.002299  1.594719e-07  0.000278  0.002021     0.083343\n",
       "6      0.30  0.058906  0.002694  1.794808e-07  0.000308  0.002386     0.058906\n",
       "7      0.35  0.054557  0.003152  2.019193e-07  0.000343  0.002809     0.054557\n",
       "8      0.40  0.041694  0.003680  2.270722e-07  0.000380  0.003300     0.003680\n",
       "9      0.45  0.035951  0.004288  2.552563e-07  0.000422  0.003866     0.004288\n",
       "10     0.50  0.028589  0.004987  2.868238e-07  0.000468  0.004519     0.004987\n",
       "11     0.55  0.058906  0.005786  3.221663e-07  0.000518  0.005268     0.005786"
      ]
     },
     "execution_count": 117,
     "metadata": {},
     "output_type": "execute_result"
    }
   ],
   "source": [
    "decomp_gauss.head(12)"
   ]
  },
  {
   "cell_type": "code",
   "execution_count": null,
   "metadata": {},
   "outputs": [],
   "source": []
  },
  {
   "cell_type": "code",
   "execution_count": 118,
   "metadata": {},
   "outputs": [
    {
     "data": {
      "image/png": "[encoded data removed]",
      "text/plain": [
       "<Figure size 720x360 with 1 Axes>"
      ]
     },
     "metadata": {
      "needs_background": "light"
     },
     "output_type": "display_data"
    }
   ],
   "source": [
    "plt.figure(figsize=(10,5))\n",
    "plt.plot(decomp_gauss['Ex, MeV'].values, decomp_gauss['bgt'].values, label='bgt')\n",
    "plt.plot(decomp_gauss['Ex, MeV'].values, decomp_gauss['best_fit'].values, label='best fit')\n",
    "plt.plot(decomp_gauss['Ex, MeV'].values, decomp_gauss['gtr'].values, label='gtr')\n",
    "plt.xlabel('$E_{x}$, MeV', fontsize=14)\n",
    "plt.ylabel('S(E), 1/MeV', fontsize=14)\n",
    "plt.axvline(S_n)\n",
    "plt.xlim(0,20)\n",
    "plt.ylim(0,7)\n",
    "plt.legend()\n",
    "plt.show()"
   ]
  },
  {
   "cell_type": "code",
   "execution_count": 137,
   "metadata": {},
   "outputs": [],
   "source": [
    "y_gauss_total125_border = border_func(decomp_gauss['Ex, MeV'].values, decomp_gauss['best_fit125'].values, S_n)\n",
    "y_gauss_bgt_border = border_func(decomp_gauss['Ex, MeV'].values, decomp_gauss['bgt'].values, S_n)\n",
    "y_gauss_gtr_border = border_func(decomp_gauss['Ex, MeV'].values, decomp_gauss['gtr'].values, S_n)\n",
    "y_gauss_pr1_border = border_func(decomp_gauss['Ex, MeV'].values, decomp_gauss['pr1'].values, S_n)\n",
    "y_gauss_pr2_border = border_func(decomp_gauss['Ex, MeV'].values, decomp_gauss['pr2'].values, S_n)"
   ]
  },
  {
   "cell_type": "code",
   "execution_count": 152,
   "metadata": {},
   "outputs": [
    {
     "data": {
      "text/plain": [
       "0.013512805026800115"
      ]
     },
     "execution_count": 152,
     "metadata": {},
     "output_type": "execute_result"
    }
   ],
   "source": [
    "trapz(border_func(decomp['Ex, MeV'].values, decomp['bgt'].values, 0.25), decomp['Ex, MeV'].values)"
   ]
  },
  {
   "cell_type": "code",
   "execution_count": null,
   "metadata": {},
   "outputs": [],
   "source": []
  },
  {
   "cell_type": "code",
   "execution_count": null,
   "metadata": {},
   "outputs": [],
   "source": []
  },
  {
   "cell_type": "markdown",
   "metadata": {},
   "source": [
    "### y_total + 125 kev level"
   ]
  },
  {
   "cell_type": "code",
   "execution_count": 120,
   "metadata": {},
   "outputs": [],
   "source": [
    "sigma_y_gauss_tot125_no_border_temp = [cross_sec(0,p, sigma_k_GTR, decomp_gauss['Ex, MeV'].values, \n",
    "                                      decomp_gauss['best_fit125'].values, 200) for p in p_list]\n",
    "sigma_y_gauss_tot125_no_border_full = np.interp(Energy_all_fluxes, xp=p_list+Q_EC_127Xe, \n",
    "                                     fp=sigma_y_gauss_tot125_no_border_temp)\n",
    "\n",
    "sigma_y_gauss_tot125_border_temp = [cross_sec(0,p, sigma_k_GTR, decomp_gauss['Ex, MeV'].values, \n",
    "                                   y_gauss_total125_border, 200) for p in p_list]\n",
    "sigma_y_gauss_tot125_border_full = np.interp(Energy_all_fluxes, xp=p_list+Q_EC_127Xe, \n",
    "                                  fp=sigma_y_gauss_tot125_border_temp)"
   ]
  },
  {
   "cell_type": "code",
   "execution_count": 126,
   "metadata": {},
   "outputs": [
    {
     "data": {
      "text/plain": [
       "{'name': 'test1',\n",
       " 'pp': 0.0,\n",
       " 'b8': 21.820941748088696,\n",
       " 'hep': 0.08993265442548563,\n",
       " 'n13': 0.1475632977512618,\n",
       " 'o15': 0.4230395825253052,\n",
       " 'f17': 0.010706861857407525,\n",
       " 'pep': 0.5952016340965224,\n",
       " 'Be': 2.656200827733728,\n",
       " 'Total': 25.743586606478406}"
      ]
     },
     "execution_count": 126,
     "metadata": {},
     "output_type": "execute_result"
    }
   ],
   "source": [
    "### BS05OP\n",
    "rate_calc(sigma_y_gauss_tot125_border_full, \\\n",
    "          BS05OP_flux, Energy_all_fluxes, step_all_fluxes,)"
   ]
  },
  {
   "cell_type": "code",
   "execution_count": 125,
   "metadata": {},
   "outputs": [
    {
     "data": {
      "text/plain": [
       "{'name': 'test1',\n",
       " 'pp': 0.0,\n",
       " 'b8': 26.53973677409313,\n",
       " 'hep': 0.16391250876802108,\n",
       " 'n13': 0.1475632977512618,\n",
       " 'o15': 0.4230395825253052,\n",
       " 'f17': 0.010706861857407525,\n",
       " 'pep': 0.5952016340965224,\n",
       " 'Be': 2.656200827733728,\n",
       " 'Total': 30.536361486825374}"
      ]
     },
     "execution_count": 125,
     "metadata": {},
     "output_type": "execute_result"
    }
   ],
   "source": [
    "rate_calc(sigma_y_gauss_tot125_no_border_full, \\\n",
    "          BS05OP_flux, Energy_all_fluxes, step_all_fluxes,)"
   ]
  },
  {
   "cell_type": "code",
   "execution_count": null,
   "metadata": {},
   "outputs": [],
   "source": []
  },
  {
   "cell_type": "markdown",
   "metadata": {},
   "source": [
    "### gtr"
   ]
  },
  {
   "cell_type": "code",
   "execution_count": 128,
   "metadata": {},
   "outputs": [],
   "source": [
    "sigma_gtr_gauss_no_border_temp = [cross_sec(0,p, sigma_k_GTR, decomp['Ex, MeV'].values, \n",
    "                                      decomp_gauss['gtr'].values, 200) for p in p_list]\n",
    "sigma_gtr_gauss_no_border_full = np.interp(Energy_all_fluxes, xp=p_list+Q_EC_127Xe, \n",
    "                                     fp=sigma_gtr_gauss_no_border_temp)\n",
    "\n",
    "sigma_gtr_gauss_border_temp = [cross_sec(0,p, sigma_k_GTR, decomp_gauss['Ex, MeV'].values, \n",
    "                                   y_gauss_gtr_border, 200) for p in p_list]\n",
    "sigma_gtr_gauss_border_full = np.interp(Energy_all_fluxes, xp=p_list+Q_EC_127Xe, \n",
    "                                  fp=sigma_gtr_gauss_border_temp)"
   ]
  },
  {
   "cell_type": "code",
   "execution_count": 130,
   "metadata": {},
   "outputs": [
    {
     "data": {
      "text/plain": [
       "{'name': 'test1',\n",
       " 'pp': 0.0,\n",
       " 'b8': 21.729641811432288,\n",
       " 'hep': 0.08938420879504899,\n",
       " 'n13': 0.14756295329593191,\n",
       " 'o15': 0.42303788639943846,\n",
       " 'f17': 0.01070681866231283,\n",
       " 'pep': 0.595198857839591,\n",
       " 'Be': 2.656195215879289,\n",
       " 'Total': 25.651727752303902}"
      ]
     },
     "execution_count": 130,
     "metadata": {},
     "output_type": "execute_result"
    }
   ],
   "source": [
    "### BS05OP\n",
    "rate_calc((sigma_y_gauss_tot125_border_full-sigma_gtr_gauss_border_full), \\\n",
    "          BS05OP_flux, Energy_all_fluxes, step_all_fluxes,)"
   ]
  },
  {
   "cell_type": "code",
   "execution_count": 141,
   "metadata": {},
   "outputs": [
    {
     "data": {
      "text/plain": [
       "{'name': 'test1',\n",
       " 'pp': 0.0,\n",
       " 'b8': 0.6778309368276875,\n",
       " 'hep': 0.023850886517692852,\n",
       " 'n13': 3.4445532987882225e-07,\n",
       " 'o15': 1.6961258666989063e-06,\n",
       " 'f17': 4.3195094693448994e-08,\n",
       " 'pep': 2.776256931345703e-06,\n",
       " 'Be': 5.611854439454822e-06,\n",
       " 'Total': 0.7016922952330424}"
      ]
     },
     "execution_count": 141,
     "metadata": {},
     "output_type": "execute_result"
    }
   ],
   "source": [
    "### BS05OP\n",
    "rate_calc((sigma_gtr_gauss_no_border_full), \\\n",
    "          BS05OP_flux, Energy_all_fluxes, step_all_fluxes,)"
   ]
  },
  {
   "cell_type": "code",
   "execution_count": 133,
   "metadata": {},
   "outputs": [
    {
     "data": {
      "text/plain": [
       "{'name': 'test1',\n",
       " 'pp': 0.0,\n",
       " 'b8': 25.861905837265436,\n",
       " 'hep': 0.14006162225032825,\n",
       " 'n13': 0.14756295329593191,\n",
       " 'o15': 0.42303788639943846,\n",
       " 'f17': 0.01070681866231283,\n",
       " 'pep': 0.595198857839591,\n",
       " 'Be': 2.656195215879289,\n",
       " 'Total': 29.83466919159233}"
      ]
     },
     "execution_count": 133,
     "metadata": {},
     "output_type": "execute_result"
    }
   ],
   "source": [
    "rate_calc((sigma_y_gauss_tot125_no_border_full-sigma_gtr_gauss_no_border_full), \\\n",
    "          BS05OP_flux, Energy_all_fluxes, step_all_fluxes,)"
   ]
  },
  {
   "cell_type": "code",
   "execution_count": null,
   "metadata": {},
   "outputs": [],
   "source": []
  },
  {
   "cell_type": "markdown",
   "metadata": {},
   "source": [
    "### pr1"
   ]
  },
  {
   "cell_type": "code",
   "execution_count": 134,
   "metadata": {},
   "outputs": [],
   "source": [
    "sigma_pr1_gauss_no_border_temp = [cross_sec(0,p, sigma_k_GTR, decomp_gauss['Ex, MeV'].values, \n",
    "                                      decomp_gauss['pr1'].values, 200) for p in p_list]\n",
    "sigma_pr1_gauss_no_border_full = np.interp(Energy_all_fluxes, xp=p_list+Q_EC_127Xe, \n",
    "                                     fp=sigma_pr1_gauss_no_border_temp)\n",
    "\n",
    "sigma_pr1_gauss_border_temp = [cross_sec(0,p, sigma_k_GTR, decomp_gauss['Ex, MeV'].values, \n",
    "                                   y_gauss_pr1_border, 200) for p in p_list]\n",
    "sigma_pr1_gauss_border_full = np.interp(Energy_all_fluxes, xp=p_list+Q_EC_127Xe, \n",
    "                                  fp=sigma_pr1_gauss_border_temp)"
   ]
  },
  {
   "cell_type": "code",
   "execution_count": 135,
   "metadata": {},
   "outputs": [
    {
     "data": {
      "text/plain": [
       "{'name': 'test1',\n",
       " 'pp': 0.0,\n",
       " 'b8': 13.27013755711537,\n",
       " 'hep': 0.04527173672937096,\n",
       " 'n13': 0.14695114816037957,\n",
       " 'o15': 0.4201797327823188,\n",
       " 'f17': 0.010634078876169321,\n",
       " 'pep': 0.5905524828086653,\n",
       " 'Be': 2.6460588826433926,\n",
       " 'Total': 17.129785619115665}"
      ]
     },
     "execution_count": 135,
     "metadata": {},
     "output_type": "execute_result"
    }
   ],
   "source": [
    "### BS05OP\n",
    "rate_calc((sigma_y_gauss_tot125_border_full-sigma_gtr_gauss_border_full-sigma_pr1_gauss_border_full), \\\n",
    "          BS05OP_flux, Energy_all_fluxes, step_all_fluxes,)"
   ]
  },
  {
   "cell_type": "code",
   "execution_count": 136,
   "metadata": {},
   "outputs": [
    {
     "data": {
      "text/plain": [
       "{'name': 'test1',\n",
       " 'pp': 0.0,\n",
       " 'b8': 13.270409572257444,\n",
       " 'hep': 0.045273918371060526,\n",
       " 'n13': 0.14695114816037957,\n",
       " 'o15': 0.4201797327823188,\n",
       " 'f17': 0.010634078876169321,\n",
       " 'pep': 0.5905524828086653,\n",
       " 'Be': 2.6460588826433926,\n",
       " 'Total': 17.13005981589943}"
      ]
     },
     "execution_count": 136,
     "metadata": {},
     "output_type": "execute_result"
    }
   ],
   "source": [
    "rate_calc((sigma_y_gauss_tot125_no_border_full-sigma_gtr_gauss_no_border_full-sigma_pr1_gauss_no_border_full), \\\n",
    "          BS05OP_flux, Energy_all_fluxes, step_all_fluxes,)"
   ]
  },
  {
   "cell_type": "markdown",
   "metadata": {},
   "source": [
    "### pr2"
   ]
  },
  {
   "cell_type": "code",
   "execution_count": 138,
   "metadata": {},
   "outputs": [],
   "source": [
    "sigma_pr2_gauss_no_border_temp = [cross_sec(0,p, sigma_k_GTR, decomp_gauss['Ex, MeV'].values, \n",
    "                                      decomp_gauss['pr2'].values, 200) for p in p_list]\n",
    "sigma_pr2_gauss_no_border_full = np.interp(Energy_all_fluxes, xp=p_list+Q_EC_127Xe, \n",
    "                                     fp=sigma_pr2_gauss_no_border_temp)\n",
    "\n",
    "sigma_pr2_gauss_border_temp = [cross_sec(0,p, sigma_k_GTR, decomp_gauss['Ex, MeV'].values, \n",
    "                                   y_gauss_pr2_border, 200) for p in p_list]\n",
    "sigma_pr2_gauss_border_full = np.interp(Energy_all_fluxes, xp=p_list+Q_EC_127Xe, \n",
    "                                  fp=sigma_pr2_gauss_border_temp)"
   ]
  },
  {
   "cell_type": "code",
   "execution_count": 139,
   "metadata": {},
   "outputs": [
    {
     "data": {
      "text/plain": [
       "{'name': 'test1',\n",
       " 'pp': 0.0,\n",
       " 'b8': 0.54089037701563,\n",
       " 'hep': 0.0013295158834745106,\n",
       " 'n13': 0.14292814864253597,\n",
       " 'o15': 0.39616935233065487,\n",
       " 'f17': 0.010021357222918947,\n",
       " 'pep': 0.550306779437098,\n",
       " 'Be': 2.585258603747128,\n",
       " 'Total': 4.22690413427944}"
      ]
     },
     "execution_count": 139,
     "metadata": {},
     "output_type": "execute_result"
    }
   ],
   "source": [
    "### BS05OP\n",
    "rate_calc((sigma_y_gauss_tot125_border_full-sigma_gtr_gauss_border_full-sigma_pr1_gauss_border_full-sigma_pr2_gauss_border_full), \\\n",
    "          BS05OP_flux, Energy_all_fluxes, step_all_fluxes,)"
   ]
  },
  {
   "cell_type": "code",
   "execution_count": 140,
   "metadata": {},
   "outputs": [
    {
     "data": {
      "text/plain": [
       "{'name': 'test1',\n",
       " 'pp': 0.0,\n",
       " 'b8': 0.54089037701563,\n",
       " 'hep': 0.0013295158834745106,\n",
       " 'n13': 0.14292814864253597,\n",
       " 'o15': 0.39616935233065487,\n",
       " 'f17': 0.010021357222918947,\n",
       " 'pep': 0.550306779437098,\n",
       " 'Be': 2.585258603747128,\n",
       " 'Total': 4.22690413427944}"
      ]
     },
     "execution_count": 140,
     "metadata": {},
     "output_type": "execute_result"
    }
   ],
   "source": [
    "rate_calc((sigma_y_gauss_tot125_no_border_full-sigma_gtr_gauss_no_border_full-sigma_pr1_gauss_no_border_full-sigma_pr2_gauss_no_border_full), \\\n",
    "          BS05OP_flux, Energy_all_fluxes, step_all_fluxes,)"
   ]
  },
  {
   "cell_type": "code",
   "execution_count": null,
   "metadata": {},
   "outputs": [],
   "source": []
  },
  {
   "cell_type": "markdown",
   "metadata": {},
   "source": [
    "### данные из графика BGT"
   ]
  },
  {
   "cell_type": "code",
   "execution_count": 45,
   "metadata": {},
   "outputs": [],
   "source": [
    "bgt_full = pd.read_csv('../B(GT) peaks processing/recognition/Xe127/1999_bgt_full.csv', \n",
    "                      sep=';', decimal=',', names=['x', 'y'])\n",
    "bgt_0_5 = pd.read_csv('../B(GT) peaks processing/recognition/Xe127/1999_bgt_0_5l.csv', \n",
    "                      sep=';', decimal=',', names=['x', 'y'])"
   ]
  },
  {
   "cell_type": "code",
   "execution_count": 46,
   "metadata": {},
   "outputs": [
    {
     "data": {
      "image/png": "[encoded data removed]",
      "text/plain": [
       "<Figure size 648x432 with 1 Axes>"
      ]
     },
     "metadata": {
      "needs_background": "light"
     },
     "output_type": "display_data"
    }
   ],
   "source": [
    "bgt = bgt_0_5.append(bgt_full[bgt_full['x']>5])\n",
    "\n",
    "plt.figure(figsize=(9,6))\n",
    "plt.plot(bgt['x'].values, bgt['y'].values)\n",
    "plt.xlim(0,20)\n",
    "plt.ylim(0,0.7)\n",
    "plt.show()"
   ]
  },
  {
   "cell_type": "code",
   "execution_count": 47,
   "metadata": {},
   "outputs": [
    {
     "data": {
      "text/plain": [
       "5.463277472256921"
      ]
     },
     "execution_count": 47,
     "metadata": {},
     "output_type": "execute_result"
    }
   ],
   "source": [
    "trapz(bgt['y'].values, bgt['x'].values)"
   ]
  },
  {
   "cell_type": "code",
   "execution_count": 48,
   "metadata": {},
   "outputs": [
    {
     "data": {
      "text/plain": [
       "(0.0, 7.0)"
      ]
     },
     "execution_count": 48,
     "metadata": {},
     "output_type": "execute_result"
    },
    {
     "data": {
      "image/png": "[encoded data removed]",
      "text/plain": [
       "<Figure size 432x288 with 1 Axes>"
      ]
     },
     "metadata": {
      "needs_background": "light"
     },
     "output_type": "display_data"
    }
   ],
   "source": [
    "y_bgt = bgt['y'].values / trapz(bgt['y'].values, bgt['x'].values) \\\n",
    "* total_GT\n",
    "y_bgt_border = border_func(bgt['x'].values, y_bgt, S_n)\n",
    "\n",
    "\n",
    "plt.plot(best_fit['Ex, MeV'].values, y)\n",
    "plt.plot(bgt['x'].values, y_bgt, )\n",
    "plt.xlabel('$E_{x}$, MeV', fontsize=14)\n",
    "plt.ylabel('S(E), 1/MeV', fontsize=14)\n",
    "plt.xlim(0,20)\n",
    "plt.ylim(0,7)\n",
    "#plt.savefig('S_E_func_76Ge.png', format='png', dpi=400)\n"
   ]
  },
  {
   "cell_type": "code",
   "execution_count": 49,
   "metadata": {},
   "outputs": [
    {
     "ename": "KeyboardInterrupt",
     "evalue": "",
     "output_type": "error",
     "traceback": [
      "\u001b[0;31m---------------------------------------------------------------------------\u001b[0m",
      "\u001b[0;31mKeyboardInterrupt\u001b[0m                         Traceback (most recent call last)",
      "\u001b[0;32m<ipython-input-49-70f28982da9b>\u001b[0m in \u001b[0;36m<module>\u001b[0;34m\u001b[0m\n\u001b[0;32m----> 1\u001b[0;31m \u001b[0msigma_bgt_border_temp\u001b[0m \u001b[0;34m=\u001b[0m \u001b[0;34m[\u001b[0m\u001b[0mcross_sec\u001b[0m\u001b[0;34m(\u001b[0m\u001b[0;36m0\u001b[0m\u001b[0;34m,\u001b[0m\u001b[0mp\u001b[0m\u001b[0;34m,\u001b[0m \u001b[0msigma_k_GTR\u001b[0m\u001b[0;34m,\u001b[0m \u001b[0mbgt\u001b[0m\u001b[0;34m[\u001b[0m\u001b[0;34m'x'\u001b[0m\u001b[0;34m]\u001b[0m\u001b[0;34m.\u001b[0m\u001b[0mvalues\u001b[0m\u001b[0;34m,\u001b[0m \u001b[0my_bgt_border\u001b[0m\u001b[0;34m,\u001b[0m \u001b[0;36m200\u001b[0m\u001b[0;34m)\u001b[0m \u001b[0;32mfor\u001b[0m \u001b[0mp\u001b[0m \u001b[0;32min\u001b[0m \u001b[0mp_list\u001b[0m\u001b[0;34m]\u001b[0m\u001b[0;34m\u001b[0m\u001b[0;34m\u001b[0m\u001b[0m\n\u001b[0m\u001b[1;32m      2\u001b[0m \u001b[0;34m\u001b[0m\u001b[0m\n\u001b[1;32m      3\u001b[0m \u001b[0msigma_bgt_border_full\u001b[0m \u001b[0;34m=\u001b[0m \u001b[0mnp\u001b[0m\u001b[0;34m.\u001b[0m\u001b[0minterp\u001b[0m\u001b[0;34m(\u001b[0m\u001b[0mEnergy_all_fluxes\u001b[0m\u001b[0;34m,\u001b[0m \u001b[0mxp\u001b[0m\u001b[0;34m=\u001b[0m\u001b[0mp_list\u001b[0m\u001b[0;34m+\u001b[0m\u001b[0mQ_EC_127Xe\u001b[0m\u001b[0;34m,\u001b[0m \u001b[0mfp\u001b[0m\u001b[0;34m=\u001b[0m\u001b[0msigma_bgt_border_temp\u001b[0m\u001b[0;34m)\u001b[0m\u001b[0;34m\u001b[0m\u001b[0;34m\u001b[0m\u001b[0m\n\u001b[1;32m      4\u001b[0m \u001b[0;31m#sigma_more5_1 = np.interp(Energy_all_fluxes, xp=p_list+Q_EC_76As, fp=sigma_more5_temp1)\u001b[0m\u001b[0;34m\u001b[0m\u001b[0;34m\u001b[0m\u001b[0;34m\u001b[0m\u001b[0m\n",
      "\u001b[0;32m<ipython-input-49-70f28982da9b>\u001b[0m in \u001b[0;36m<listcomp>\u001b[0;34m(.0)\u001b[0m\n\u001b[0;32m----> 1\u001b[0;31m \u001b[0msigma_bgt_border_temp\u001b[0m \u001b[0;34m=\u001b[0m \u001b[0;34m[\u001b[0m\u001b[0mcross_sec\u001b[0m\u001b[0;34m(\u001b[0m\u001b[0;36m0\u001b[0m\u001b[0;34m,\u001b[0m\u001b[0mp\u001b[0m\u001b[0;34m,\u001b[0m \u001b[0msigma_k_GTR\u001b[0m\u001b[0;34m,\u001b[0m \u001b[0mbgt\u001b[0m\u001b[0;34m[\u001b[0m\u001b[0;34m'x'\u001b[0m\u001b[0;34m]\u001b[0m\u001b[0;34m.\u001b[0m\u001b[0mvalues\u001b[0m\u001b[0;34m,\u001b[0m \u001b[0my_bgt_border\u001b[0m\u001b[0;34m,\u001b[0m \u001b[0;36m200\u001b[0m\u001b[0;34m)\u001b[0m \u001b[0;32mfor\u001b[0m \u001b[0mp\u001b[0m \u001b[0;32min\u001b[0m \u001b[0mp_list\u001b[0m\u001b[0;34m]\u001b[0m\u001b[0;34m\u001b[0m\u001b[0;34m\u001b[0m\u001b[0m\n\u001b[0m\u001b[1;32m      2\u001b[0m \u001b[0;34m\u001b[0m\u001b[0m\n\u001b[1;32m      3\u001b[0m \u001b[0msigma_bgt_border_full\u001b[0m \u001b[0;34m=\u001b[0m \u001b[0mnp\u001b[0m\u001b[0;34m.\u001b[0m\u001b[0minterp\u001b[0m\u001b[0;34m(\u001b[0m\u001b[0mEnergy_all_fluxes\u001b[0m\u001b[0;34m,\u001b[0m \u001b[0mxp\u001b[0m\u001b[0;34m=\u001b[0m\u001b[0mp_list\u001b[0m\u001b[0;34m+\u001b[0m\u001b[0mQ_EC_127Xe\u001b[0m\u001b[0;34m,\u001b[0m \u001b[0mfp\u001b[0m\u001b[0;34m=\u001b[0m\u001b[0msigma_bgt_border_temp\u001b[0m\u001b[0;34m)\u001b[0m\u001b[0;34m\u001b[0m\u001b[0;34m\u001b[0m\u001b[0m\n\u001b[1;32m      4\u001b[0m \u001b[0;31m#sigma_more5_1 = np.interp(Energy_all_fluxes, xp=p_list+Q_EC_76As, fp=sigma_more5_temp1)\u001b[0m\u001b[0;34m\u001b[0m\u001b[0;34m\u001b[0m\u001b[0;34m\u001b[0m\u001b[0m\n",
      "\u001b[0;32m<ipython-input-40-006fe77624e2>\u001b[0m in \u001b[0;36mcross_sec\u001b[0;34m(a, b, sigma_func, shape_x, shape_y, int_num)\u001b[0m\n\u001b[1;32m      3\u001b[0m     \u001b[0mborders_list\u001b[0m \u001b[0;34m=\u001b[0m \u001b[0mintervals\u001b[0m\u001b[0;34m(\u001b[0m\u001b[0ma\u001b[0m\u001b[0;34m,\u001b[0m\u001b[0mb\u001b[0m\u001b[0;34m,\u001b[0m \u001b[0mint_num\u001b[0m\u001b[0;34m)\u001b[0m\u001b[0;34m\u001b[0m\u001b[0;34m\u001b[0m\u001b[0m\n\u001b[1;32m      4\u001b[0m     \u001b[0;31m#return sum([quad(sigma_func, i[0],i[1], args=(b,shape_x, shape_y))[0] for i in borders_list])\u001b[0m\u001b[0;34m\u001b[0m\u001b[0;34m\u001b[0m\u001b[0;34m\u001b[0m\u001b[0m\n\u001b[0;32m----> 5\u001b[0;31m     \u001b[0;32mreturn\u001b[0m \u001b[0msum\u001b[0m\u001b[0;34m(\u001b[0m\u001b[0;34m[\u001b[0m\u001b[0msc\u001b[0m\u001b[0;34m.\u001b[0m\u001b[0mintegrate\u001b[0m\u001b[0;34m.\u001b[0m\u001b[0mfixed_quad\u001b[0m\u001b[0;34m(\u001b[0m\u001b[0msigma_func\u001b[0m\u001b[0;34m,\u001b[0m \u001b[0mi\u001b[0m\u001b[0;34m[\u001b[0m\u001b[0;36m0\u001b[0m\u001b[0;34m]\u001b[0m\u001b[0;34m,\u001b[0m\u001b[0mi\u001b[0m\u001b[0;34m[\u001b[0m\u001b[0;36m1\u001b[0m\u001b[0;34m]\u001b[0m\u001b[0;34m,\u001b[0m \u001b[0margs\u001b[0m\u001b[0;34m=\u001b[0m\u001b[0;34m(\u001b[0m\u001b[0mb\u001b[0m\u001b[0;34m,\u001b[0m\u001b[0mshape_x\u001b[0m\u001b[0;34m,\u001b[0m \u001b[0mshape_y\u001b[0m\u001b[0;34m)\u001b[0m\u001b[0;34m)\u001b[0m\u001b[0;34m[\u001b[0m\u001b[0;36m0\u001b[0m\u001b[0;34m]\u001b[0m \u001b[0;32mfor\u001b[0m \u001b[0mi\u001b[0m \u001b[0;32min\u001b[0m \u001b[0mborders_list\u001b[0m\u001b[0;34m]\u001b[0m\u001b[0;34m)\u001b[0m\u001b[0;34m\u001b[0m\u001b[0;34m\u001b[0m\u001b[0m\n\u001b[0m\u001b[1;32m      6\u001b[0m     \u001b[0;31m#return sum([sc.integrate.romberg(sigma_func, i[0],i[1], args=(b,shape_x, shape_y)) for i in borders_list])\u001b[0m\u001b[0;34m\u001b[0m\u001b[0;34m\u001b[0m\u001b[0;34m\u001b[0m\u001b[0m\n",
      "\u001b[0;32m<ipython-input-40-006fe77624e2>\u001b[0m in \u001b[0;36m<listcomp>\u001b[0;34m(.0)\u001b[0m\n\u001b[1;32m      3\u001b[0m     \u001b[0mborders_list\u001b[0m \u001b[0;34m=\u001b[0m \u001b[0mintervals\u001b[0m\u001b[0;34m(\u001b[0m\u001b[0ma\u001b[0m\u001b[0;34m,\u001b[0m\u001b[0mb\u001b[0m\u001b[0;34m,\u001b[0m \u001b[0mint_num\u001b[0m\u001b[0;34m)\u001b[0m\u001b[0;34m\u001b[0m\u001b[0;34m\u001b[0m\u001b[0m\n\u001b[1;32m      4\u001b[0m     \u001b[0;31m#return sum([quad(sigma_func, i[0],i[1], args=(b,shape_x, shape_y))[0] for i in borders_list])\u001b[0m\u001b[0;34m\u001b[0m\u001b[0;34m\u001b[0m\u001b[0;34m\u001b[0m\u001b[0m\n\u001b[0;32m----> 5\u001b[0;31m     \u001b[0;32mreturn\u001b[0m \u001b[0msum\u001b[0m\u001b[0;34m(\u001b[0m\u001b[0;34m[\u001b[0m\u001b[0msc\u001b[0m\u001b[0;34m.\u001b[0m\u001b[0mintegrate\u001b[0m\u001b[0;34m.\u001b[0m\u001b[0mfixed_quad\u001b[0m\u001b[0;34m(\u001b[0m\u001b[0msigma_func\u001b[0m\u001b[0;34m,\u001b[0m \u001b[0mi\u001b[0m\u001b[0;34m[\u001b[0m\u001b[0;36m0\u001b[0m\u001b[0;34m]\u001b[0m\u001b[0;34m,\u001b[0m\u001b[0mi\u001b[0m\u001b[0;34m[\u001b[0m\u001b[0;36m1\u001b[0m\u001b[0;34m]\u001b[0m\u001b[0;34m,\u001b[0m \u001b[0margs\u001b[0m\u001b[0;34m=\u001b[0m\u001b[0;34m(\u001b[0m\u001b[0mb\u001b[0m\u001b[0;34m,\u001b[0m\u001b[0mshape_x\u001b[0m\u001b[0;34m,\u001b[0m \u001b[0mshape_y\u001b[0m\u001b[0;34m)\u001b[0m\u001b[0;34m)\u001b[0m\u001b[0;34m[\u001b[0m\u001b[0;36m0\u001b[0m\u001b[0;34m]\u001b[0m \u001b[0;32mfor\u001b[0m \u001b[0mi\u001b[0m \u001b[0;32min\u001b[0m \u001b[0mborders_list\u001b[0m\u001b[0;34m]\u001b[0m\u001b[0;34m)\u001b[0m\u001b[0;34m\u001b[0m\u001b[0;34m\u001b[0m\u001b[0m\n\u001b[0m\u001b[1;32m      6\u001b[0m     \u001b[0;31m#return sum([sc.integrate.romberg(sigma_func, i[0],i[1], args=(b,shape_x, shape_y)) for i in borders_list])\u001b[0m\u001b[0;34m\u001b[0m\u001b[0;34m\u001b[0m\u001b[0;34m\u001b[0m\u001b[0m\n",
      "\u001b[0;32m~/miniconda3/envs/science/lib/python3.7/site-packages/scipy/integrate/_quadrature.py\u001b[0m in \u001b[0;36mfixed_quad\u001b[0;34m(func, a, b, args, n)\u001b[0m\n\u001b[1;32m    117\u001b[0m                          \"finite limits.\")\n\u001b[1;32m    118\u001b[0m     \u001b[0my\u001b[0m \u001b[0;34m=\u001b[0m \u001b[0;34m(\u001b[0m\u001b[0mb\u001b[0m\u001b[0;34m-\u001b[0m\u001b[0ma\u001b[0m\u001b[0;34m)\u001b[0m\u001b[0;34m*\u001b[0m\u001b[0;34m(\u001b[0m\u001b[0mx\u001b[0m\u001b[0;34m+\u001b[0m\u001b[0;36m1\u001b[0m\u001b[0;34m)\u001b[0m\u001b[0;34m/\u001b[0m\u001b[0;36m2.0\u001b[0m \u001b[0;34m+\u001b[0m \u001b[0ma\u001b[0m\u001b[0;34m\u001b[0m\u001b[0;34m\u001b[0m\u001b[0m\n\u001b[0;32m--> 119\u001b[0;31m     \u001b[0;32mreturn\u001b[0m \u001b[0;34m(\u001b[0m\u001b[0mb\u001b[0m\u001b[0;34m-\u001b[0m\u001b[0ma\u001b[0m\u001b[0;34m)\u001b[0m\u001b[0;34m/\u001b[0m\u001b[0;36m2.0\u001b[0m \u001b[0;34m*\u001b[0m \u001b[0mnp\u001b[0m\u001b[0;34m.\u001b[0m\u001b[0msum\u001b[0m\u001b[0;34m(\u001b[0m\u001b[0mw\u001b[0m\u001b[0;34m*\u001b[0m\u001b[0mfunc\u001b[0m\u001b[0;34m(\u001b[0m\u001b[0my\u001b[0m\u001b[0;34m,\u001b[0m \u001b[0;34m*\u001b[0m\u001b[0margs\u001b[0m\u001b[0;34m)\u001b[0m\u001b[0;34m,\u001b[0m \u001b[0maxis\u001b[0m\u001b[0;34m=\u001b[0m\u001b[0;34m-\u001b[0m\u001b[0;36m1\u001b[0m\u001b[0;34m)\u001b[0m\u001b[0;34m,\u001b[0m \u001b[0;32mNone\u001b[0m\u001b[0;34m\u001b[0m\u001b[0;34m\u001b[0m\u001b[0m\n\u001b[0m\u001b[1;32m    120\u001b[0m \u001b[0;34m\u001b[0m\u001b[0m\n\u001b[1;32m    121\u001b[0m \u001b[0;34m\u001b[0m\u001b[0m\n",
      "\u001b[0;32m<ipython-input-38-b84728c06867>\u001b[0m in \u001b[0;36msigma_k_GTR\u001b[0;34m(x, p, x_data, y_data)\u001b[0m\n\u001b[1;32m      3\u001b[0m     \u001b[0me_energy\u001b[0m \u001b[0;34m=\u001b[0m \u001b[0mp\u001b[0m \u001b[0;34m-\u001b[0m \u001b[0mx\u001b[0m \u001b[0;34m+\u001b[0m \u001b[0;36m0.511\u001b[0m\u001b[0;34m\u001b[0m\u001b[0;34m\u001b[0m\u001b[0m\n\u001b[1;32m      4\u001b[0m     \u001b[0;32mreturn\u001b[0m \u001b[0;36m1.597\u001b[0m\u001b[0;34m*\u001b[0m\u001b[0mg_a_g_v_square\u001b[0m\u001b[0;34m*\u001b[0m\u001b[0mnp\u001b[0m\u001b[0;34m.\u001b[0m\u001b[0msqrt\u001b[0m\u001b[0;34m(\u001b[0m\u001b[0me_energy\u001b[0m\u001b[0;34m**\u001b[0m\u001b[0;36m2\u001b[0m\u001b[0;34m-\u001b[0m\u001b[0mm_e_square\u001b[0m\u001b[0;34m)\u001b[0m\u001b[0;34m*\u001b[0m\u001b[0me_energy\u001b[0m\u001b[0;31m\\\u001b[0m\u001b[0;34m\u001b[0m\u001b[0;34m\u001b[0m\u001b[0m\n\u001b[0;32m----> 5\u001b[0;31m     \u001b[0;34m*\u001b[0m\u001b[0mnp\u001b[0m\u001b[0;34m.\u001b[0m\u001b[0minterp\u001b[0m\u001b[0;34m(\u001b[0m\u001b[0mx\u001b[0m\u001b[0;34m,\u001b[0m\u001b[0mxp\u001b[0m\u001b[0;34m=\u001b[0m\u001b[0mx_data\u001b[0m\u001b[0;34m,\u001b[0m\u001b[0mfp\u001b[0m\u001b[0;34m=\u001b[0m\u001b[0my_data\u001b[0m\u001b[0;34m)\u001b[0m\u001b[0;34m*\u001b[0m\u001b[0mnum_tables_func\u001b[0m\u001b[0;34m(\u001b[0m\u001b[0me_energy\u001b[0m\u001b[0;34m/\u001b[0m\u001b[0;36m0.511\u001b[0m\u001b[0;34m)\u001b[0m\u001b[0;34m\u001b[0m\u001b[0;34m\u001b[0m\u001b[0m\n\u001b[0m",
      "\u001b[0;32m<ipython-input-7-55f12cbf6597>\u001b[0m in \u001b[0;36mnum_tables_func\u001b[0;34m(x)\u001b[0m\n\u001b[1;32m     23\u001b[0m     f = interp1d(x=np.array(Et_53)/511 + 1, y=np.array(Ft_53), kind='linear', \n\u001b[1;32m     24\u001b[0m                  fill_value='extrapolate')\n\u001b[0;32m---> 25\u001b[0;31m     \u001b[0;32mreturn\u001b[0m \u001b[0mf\u001b[0m\u001b[0;34m(\u001b[0m\u001b[0mx\u001b[0m\u001b[0;34m)\u001b[0m\u001b[0;34m\u001b[0m\u001b[0;34m\u001b[0m\u001b[0m\n\u001b[0m",
      "\u001b[0;32m~/miniconda3/envs/science/lib/python3.7/site-packages/scipy/interpolate/polyint.py\u001b[0m in \u001b[0;36m__call__\u001b[0;34m(self, x)\u001b[0m\n\u001b[1;32m     72\u001b[0m         \"\"\"\n\u001b[1;32m     73\u001b[0m         \u001b[0mx\u001b[0m\u001b[0;34m,\u001b[0m \u001b[0mx_shape\u001b[0m \u001b[0;34m=\u001b[0m \u001b[0mself\u001b[0m\u001b[0;34m.\u001b[0m\u001b[0m_prepare_x\u001b[0m\u001b[0;34m(\u001b[0m\u001b[0mx\u001b[0m\u001b[0;34m)\u001b[0m\u001b[0;34m\u001b[0m\u001b[0;34m\u001b[0m\u001b[0m\n\u001b[0;32m---> 74\u001b[0;31m         \u001b[0my\u001b[0m \u001b[0;34m=\u001b[0m \u001b[0mself\u001b[0m\u001b[0;34m.\u001b[0m\u001b[0m_evaluate\u001b[0m\u001b[0;34m(\u001b[0m\u001b[0mx\u001b[0m\u001b[0;34m)\u001b[0m\u001b[0;34m\u001b[0m\u001b[0;34m\u001b[0m\u001b[0m\n\u001b[0m\u001b[1;32m     75\u001b[0m         \u001b[0;32mreturn\u001b[0m \u001b[0mself\u001b[0m\u001b[0;34m.\u001b[0m\u001b[0m_finish_y\u001b[0m\u001b[0;34m(\u001b[0m\u001b[0my\u001b[0m\u001b[0;34m,\u001b[0m \u001b[0mx_shape\u001b[0m\u001b[0;34m)\u001b[0m\u001b[0;34m\u001b[0m\u001b[0;34m\u001b[0m\u001b[0m\n\u001b[1;32m     76\u001b[0m \u001b[0;34m\u001b[0m\u001b[0m\n",
      "\u001b[0;32m~/miniconda3/envs/science/lib/python3.7/site-packages/scipy/interpolate/interpolate.py\u001b[0m in \u001b[0;36m_evaluate\u001b[0;34m(self, x_new)\u001b[0m\n\u001b[1;32m    655\u001b[0m         \u001b[0;31m#    The behavior is set by the bounds_error variable.\u001b[0m\u001b[0;34m\u001b[0m\u001b[0;34m\u001b[0m\u001b[0;34m\u001b[0m\u001b[0m\n\u001b[1;32m    656\u001b[0m         \u001b[0mx_new\u001b[0m \u001b[0;34m=\u001b[0m \u001b[0masarray\u001b[0m\u001b[0;34m(\u001b[0m\u001b[0mx_new\u001b[0m\u001b[0;34m)\u001b[0m\u001b[0;34m\u001b[0m\u001b[0;34m\u001b[0m\u001b[0m\n\u001b[0;32m--> 657\u001b[0;31m         \u001b[0my_new\u001b[0m \u001b[0;34m=\u001b[0m \u001b[0mself\u001b[0m\u001b[0;34m.\u001b[0m\u001b[0m_call\u001b[0m\u001b[0;34m(\u001b[0m\u001b[0mself\u001b[0m\u001b[0;34m,\u001b[0m \u001b[0mx_new\u001b[0m\u001b[0;34m)\u001b[0m\u001b[0;34m\u001b[0m\u001b[0;34m\u001b[0m\u001b[0m\n\u001b[0m\u001b[1;32m    658\u001b[0m         \u001b[0;32mif\u001b[0m \u001b[0;32mnot\u001b[0m \u001b[0mself\u001b[0m\u001b[0;34m.\u001b[0m\u001b[0m_extrapolate\u001b[0m\u001b[0;34m:\u001b[0m\u001b[0;34m\u001b[0m\u001b[0;34m\u001b[0m\u001b[0m\n\u001b[1;32m    659\u001b[0m             \u001b[0mbelow_bounds\u001b[0m\u001b[0;34m,\u001b[0m \u001b[0mabove_bounds\u001b[0m \u001b[0;34m=\u001b[0m \u001b[0mself\u001b[0m\u001b[0;34m.\u001b[0m\u001b[0m_check_bounds\u001b[0m\u001b[0;34m(\u001b[0m\u001b[0mx_new\u001b[0m\u001b[0;34m)\u001b[0m\u001b[0;34m\u001b[0m\u001b[0;34m\u001b[0m\u001b[0m\n",
      "\u001b[0;32m~/miniconda3/envs/science/lib/python3.7/site-packages/scipy/interpolate/interpolate.py\u001b[0m in \u001b[0;36m_call_linear\u001b[0;34m(self, x_new)\u001b[0m\n\u001b[1;32m    603\u001b[0m         \u001b[0;31m# Note that the following two expressions rely on the specifics of the\u001b[0m\u001b[0;34m\u001b[0m\u001b[0;34m\u001b[0m\u001b[0;34m\u001b[0m\u001b[0m\n\u001b[1;32m    604\u001b[0m         \u001b[0;31m# broadcasting semantics.\u001b[0m\u001b[0;34m\u001b[0m\u001b[0;34m\u001b[0m\u001b[0;34m\u001b[0m\u001b[0m\n\u001b[0;32m--> 605\u001b[0;31m         \u001b[0mslope\u001b[0m \u001b[0;34m=\u001b[0m \u001b[0;34m(\u001b[0m\u001b[0my_hi\u001b[0m \u001b[0;34m-\u001b[0m \u001b[0my_lo\u001b[0m\u001b[0;34m)\u001b[0m \u001b[0;34m/\u001b[0m \u001b[0;34m(\u001b[0m\u001b[0mx_hi\u001b[0m \u001b[0;34m-\u001b[0m \u001b[0mx_lo\u001b[0m\u001b[0;34m)\u001b[0m\u001b[0;34m[\u001b[0m\u001b[0;34m:\u001b[0m\u001b[0;34m,\u001b[0m \u001b[0;32mNone\u001b[0m\u001b[0;34m]\u001b[0m\u001b[0;34m\u001b[0m\u001b[0;34m\u001b[0m\u001b[0m\n\u001b[0m\u001b[1;32m    606\u001b[0m \u001b[0;34m\u001b[0m\u001b[0m\n\u001b[1;32m    607\u001b[0m         \u001b[0;31m# 5. Calculate the actual value for each entry in x_new.\u001b[0m\u001b[0;34m\u001b[0m\u001b[0;34m\u001b[0m\u001b[0;34m\u001b[0m\u001b[0m\n",
      "\u001b[0;31mKeyboardInterrupt\u001b[0m: "
     ]
    }
   ],
   "source": [
    "sigma_bgt_border_temp = [cross_sec(0,p, sigma_k_GTR, bgt['x'].values, y_bgt_border, 200) for p in p_list]\n",
    "\n",
    "sigma_bgt_border_full = np.interp(Energy_all_fluxes, xp=p_list+Q_EC_127Xe, fp=sigma_bgt_border_temp)\n",
    "#sigma_more5_1 = np.interp(Energy_all_fluxes, xp=p_list+Q_EC_76As, fp=sigma_more5_temp1)"
   ]
  },
  {
   "cell_type": "code",
   "execution_count": null,
   "metadata": {},
   "outputs": [],
   "source": [
    "sigma_bgt_no_border_temp = [cross_sec(0,p, sigma_k_GTR, bgt['x'].values, y_bgt, 200) for p in p_list]\n",
    "\n",
    "sigma_bgt_no_border_full = np.interp(Energy_all_fluxes, xp=p_list+Q_EC_127Xe, fp=sigma_bgt_no_border_temp)\n",
    "#sigma_more5_1 = np.interp(Energy_all_fluxes, xp=p_list+Q_EC_76As, fp=sigma_more5_temp1)"
   ]
  },
  {
   "cell_type": "markdown",
   "metadata": {},
   "source": [
    "### BS05OP"
   ]
  },
  {
   "cell_type": "code",
   "execution_count": 37,
   "metadata": {},
   "outputs": [
    {
     "data": {
      "text/plain": [
       "{'name': 'test1',\n",
       " 'pp': 0.0,\n",
       " 'b8': 21.881159738608968,\n",
       " 'hep': 0.08911073889639085,\n",
       " 'n13': 0.14566121565968568,\n",
       " 'o15': 0.49081213657970474,\n",
       " 'f17': 0.012443535260837814,\n",
       " 'pep': 0.7389055569223173,\n",
       " 'Be': 2.5621711037070085,\n",
       " 'Total': 25.920264025634918}"
      ]
     },
     "execution_count": 37,
     "metadata": {},
     "output_type": "execute_result"
    }
   ],
   "source": [
    "rate_calc(sigma_bgt_border_full, BS05OP_flux, Energy_all_fluxes, step_all_fluxes,)"
   ]
  },
  {
   "cell_type": "code",
   "execution_count": 38,
   "metadata": {},
   "outputs": [
    {
     "data": {
      "text/plain": [
       "{'name': 'test1',\n",
       " 'pp': 0.0,\n",
       " 'b8': 26.4607341508704,\n",
       " 'hep': 0.16080692460071908,\n",
       " 'n13': 0.14566121565968568,\n",
       " 'o15': 0.49081213657970474,\n",
       " 'f17': 0.012443535260837814,\n",
       " 'pep': 0.7389055569223173,\n",
       " 'Be': 2.5621711037070085,\n",
       " 'Total': 30.57153462360068}"
      ]
     },
     "execution_count": 38,
     "metadata": {},
     "output_type": "execute_result"
    }
   ],
   "source": [
    "rate_calc(sigma_bgt_no_border_full, BS05OP_flux, Energy_all_fluxes, step_all_fluxes,)"
   ]
  },
  {
   "cell_type": "code",
   "execution_count": null,
   "metadata": {},
   "outputs": [],
   "source": []
  },
  {
   "cell_type": "markdown",
   "metadata": {},
   "source": [
    "## Матричные элементы от ЮС"
   ]
  },
  {
   "cell_type": "code",
   "execution_count": 142,
   "metadata": {},
   "outputs": [
    {
     "data": {
      "text/plain": [
       "82.97"
      ]
     },
     "execution_count": 142,
     "metadata": {},
     "output_type": "execute_result"
    }
   ],
   "source": [
    "En = np.array([0.2, 0.54, 1.58, 1.97, 2.76, 3.08, 3.45, 6.0, 8.34, 14.8, 20.59, 20.94, \\\n",
    "               21.09, 21.22, 29.70])\n",
    "\n",
    "Mn = 2*np.array([0.0025, 0.0025, 0.01, 0.01, 0.02, 0.10, 0.01, 0.2, 1.2, 30.8, 0.5, 0.8, \\\n",
    "               0.5, 1.03, 6.3])\n",
    "\n",
    "np.sum(Mn)"
   ]
  },
  {
   "cell_type": "code",
   "execution_count": 143,
   "metadata": {},
   "outputs": [],
   "source": [
    "def breit_vigner3(x, M, w,  G1):\n",
    "    G = G1\n",
    "    y = M * (G**1) * (1-np.exp(-(x/G)**2) ) / ((x - w)**2 + (G**2)/1)\n",
    "    return np.round(y, decimals=5) #округляем чтобы убрать неустойчивость расчета изза хвостов\n",
    "\n",
    "Ex = np.arange(0,40,0.01)\n",
    "w = En\n",
    "M_square = Mn\n",
    "alpha = 0.018\n",
    "\n",
    "\n",
    "norm_factors = []\n",
    "for w_i,M_i in zip(w, M_square):\n",
    "    y_values = breit_vigner3(Ex, 1, w_i, alpha*w_i**2)\n",
    "    norm_factors.append(trapz(y_values, Ex))"
   ]
  },
  {
   "cell_type": "code",
   "execution_count": 144,
   "metadata": {},
   "outputs": [],
   "source": [
    "plots = np.zeros((w.shape[0], Ex.shape[0]))\n",
    "for idx, w_i, M_i, norm_i in zip(range(w.shape[0]), w, M_square, norm_factors):\n",
    "    amplitude = M_i / norm_i\n",
    "    y_values = breit_vigner3(Ex, amplitude, w_i, alpha*w_i**2)\n",
    "    plots[idx] = y_values\n",
    "    \n",
    "summ = np.sum(plots, axis=0)"
   ]
  },
  {
   "cell_type": "code",
   "execution_count": 145,
   "metadata": {},
   "outputs": [
    {
     "data": {
      "image/png": "[encoded data removed]",
      "text/plain": [
       "<Figure size 720x360 with 1 Axes>"
      ]
     },
     "metadata": {
      "needs_background": "light"
     },
     "output_type": "display_data"
    }
   ],
   "source": [
    "plt.figure(figsize=(10,5))\n",
    "plt.ylim(0,8)\n",
    "for elem in plots:\n",
    "    plt.plot(Ex, elem, ls=':')\n",
    "plt.plot(Ex, summ)\n",
    "plt.show()"
   ]
  },
  {
   "cell_type": "code",
   "execution_count": 147,
   "metadata": {},
   "outputs": [
    {
     "data": {
      "image/png": "[encoded data removed]",
      "text/plain": [
       "<Figure size 720x360 with 1 Axes>"
      ]
     },
     "metadata": {
      "needs_background": "light"
     },
     "output_type": "display_data"
    }
   ],
   "source": [
    "plt.figure(figsize=(10,5))\n",
    "plt.plot(decomp_gauss['Ex, MeV'].values, decomp_gauss['bgt'].values, label='bgt')\n",
    "plt.plot(decomp_gauss['Ex, MeV'].values, decomp_gauss['best_fit'].values, label='best fit gauss')\n",
    "plt.plot(decomp['Ex, MeV'].values, decomp['best_fit'].values, label='best fit B-W')\n",
    "plt.plot(Ex, summ, label='matrix elements')\n",
    "plt.xlabel('$E_{x}$, MeV', fontsize=14)\n",
    "plt.ylabel('S(E), 1/MeV', fontsize=14)\n",
    "plt.axvline(S_n)\n",
    "plt.xlim(0,20)\n",
    "plt.ylim(0,7)\n",
    "plt.legend()\n",
    "plt.show()"
   ]
  },
  {
   "cell_type": "code",
   "execution_count": 148,
   "metadata": {},
   "outputs": [
    {
     "data": {
      "image/png": "[encoded data removed]",
      "text/plain": [
       "<Figure size 432x288 with 1 Axes>"
      ]
     },
     "metadata": {
      "needs_background": "light"
     },
     "output_type": "display_data"
    }
   ],
   "source": [
    "summ_border = border_func(Ex, summ, S_n)\n",
    "summ_noGTR = summ - plots[9]\n",
    "summ_noGTR_border = border_func(Ex, summ_noGTR, S_n)\n",
    "summ_noGTR_PR1 = summ_noGTR - plots[8]\n",
    "summ_noGTR_PR1_border = border_func(Ex, summ_noGTR_PR1, S_n)\n",
    "\n",
    "plt.plot(Ex, summ, label='total')\n",
    "plt.plot(Ex, summ_noGTR, label='no GTR')\n",
    "plt.plot(Ex, summ_noGTR_PR1, label='no GTR, PR1')\n",
    "plt.legend()\n",
    "plt.show()"
   ]
  },
  {
   "cell_type": "code",
   "execution_count": 153,
   "metadata": {},
   "outputs": [
    {
     "data": {
      "text/plain": [
       "0.005703099999999997"
      ]
     },
     "execution_count": 153,
     "metadata": {},
     "output_type": "execute_result"
    }
   ],
   "source": [
    "trapz(border_func(Ex, summ, 0.3), Ex)"
   ]
  },
  {
   "cell_type": "code",
   "execution_count": null,
   "metadata": {},
   "outputs": [],
   "source": []
  },
  {
   "cell_type": "markdown",
   "metadata": {},
   "source": [
    "### total"
   ]
  },
  {
   "cell_type": "code",
   "execution_count": 149,
   "metadata": {},
   "outputs": [],
   "source": [
    "sigma_matr_no_border_temp = [cross_sec(0,p, sigma_k_GTR, Ex, summ, 200) for p in p_list]\n",
    "\n",
    "sigma_matr_no_border_full = np.interp(Energy_all_fluxes, xp=p_list+Q_EC_127Xe, fp=sigma_matr_no_border_temp)\n",
    "#sigma_more5_1 = np.interp(Energy_all_fluxes, xp=p_list+Q_EC_76As, fp=sigma_more5_temp1)\n",
    "\n",
    "sigma_matr_border_temp = [cross_sec(0,p, sigma_k_GTR, Ex, summ_border, 200) for p in p_list]\n",
    "\n",
    "sigma_matr_border_full = np.interp(Energy_all_fluxes, xp=p_list+Q_EC_127Xe, fp=sigma_matr_border_temp)\n",
    "#sigma_more5_1 = np.interp(Energy_all_fluxes, xp=p_list+Q_EC_76As, fp=sigma_more5_temp1)"
   ]
  },
  {
   "cell_type": "code",
   "execution_count": 150,
   "metadata": {},
   "outputs": [
    {
     "data": {
      "text/plain": [
       "{'name': 'test1',\n",
       " 'pp': 0.0,\n",
       " 'b8': 25.269256933783097,\n",
       " 'hep': 0.10558417433000096,\n",
       " 'n13': 0.036476846753811076,\n",
       " 'o15': 0.17261012478378232,\n",
       " 'f17': 0.0043872536988636265,\n",
       " 'pep': 0.2818157948549314,\n",
       " 'Be': 0.4404635920791998,\n",
       " 'Total': 26.31059472028369}"
      ]
     },
     "execution_count": 150,
     "metadata": {},
     "output_type": "execute_result"
    }
   ],
   "source": [
    "### BS05OP\n",
    "rate_calc(sigma_matr_border_full, BS05OP_flux, Energy_all_fluxes, step_all_fluxes,)"
   ]
  },
  {
   "cell_type": "code",
   "execution_count": null,
   "metadata": {},
   "outputs": [],
   "source": []
  },
  {
   "cell_type": "code",
   "execution_count": 75,
   "metadata": {},
   "outputs": [
    {
     "data": {
      "text/plain": [
       "{'Be': 0.4404635920791998,\n",
       " 'Total': 26.31059472028369,\n",
       " 'b8': 25.269256933783097,\n",
       " 'f17': 0.0043872536988636265,\n",
       " 'hep': 0.10558417433000096,\n",
       " 'n13': 0.036476846753811076,\n",
       " 'name': 'test1',\n",
       " 'o15': 0.17261012478378232,\n",
       " 'pep': 0.2818157948549314,\n",
       " 'pp': 0.0}"
      ]
     },
     "execution_count": 75,
     "metadata": {},
     "output_type": "execute_result"
    }
   ],
   "source": [
    "### BS05OP\n",
    "rate_calc(sigma_matr_border_full, BS05OP_flux, Energy_all_fluxes, step_all_fluxes,)"
   ]
  },
  {
   "cell_type": "code",
   "execution_count": 76,
   "metadata": {},
   "outputs": [
    {
     "data": {
      "text/plain": [
       "{'Be': 0.4404635920791998,\n",
       " 'Total': 31.172728530592085,\n",
       " 'b8': 30.0539409974404,\n",
       " 'f17': 0.0043872536988636265,\n",
       " 'hep': 0.1830339209810961,\n",
       " 'n13': 0.036476846753811076,\n",
       " 'name': 'test1',\n",
       " 'o15': 0.17261012478378232,\n",
       " 'pep': 0.2818157948549314,\n",
       " 'pp': 0.0}"
      ]
     },
     "execution_count": 76,
     "metadata": {},
     "output_type": "execute_result"
    }
   ],
   "source": [
    "rate_calc(sigma_matr_no_border_full, BS05OP_flux, Energy_all_fluxes, step_all_fluxes,)"
   ]
  },
  {
   "cell_type": "markdown",
   "metadata": {},
   "source": [
    "### no GTR"
   ]
  },
  {
   "cell_type": "code",
   "execution_count": 77,
   "metadata": {},
   "outputs": [],
   "source": [
    "sigma_matr_noGTR_no_border_temp = [cross_sec(0,p, sigma_k_GTR, Ex, summ_noGTR, 200) for p in p_list]\n",
    "\n",
    "sigma_matr_noGTR_no_border_full = np.interp(Energy_all_fluxes, xp=p_list+Q_EC_127Xe, \n",
    "                                      fp=sigma_matr_noGTR_no_border_temp)\n",
    "#sigma_more5_1 = np.interp(Energy_all_fluxes, xp=p_list+Q_EC_76As, fp=sigma_more5_temp1)\n",
    "\n",
    "sigma_matr_noGTR_border_temp = [cross_sec(0,p, sigma_k_GTR, Ex, summ_noGTR_border, 200) for p in p_list]\n",
    "\n",
    "sigma_matr_noGTR_border_full = np.interp(Energy_all_fluxes, xp=p_list+Q_EC_127Xe, \n",
    "                                         fp=sigma_matr_noGTR_border_temp)\n",
    "#sigma_more5_1 = np.interp(Energy_all_fluxes, xp=p_list+Q_EC_76As, fp=sigma_more5_temp1)"
   ]
  },
  {
   "cell_type": "code",
   "execution_count": 78,
   "metadata": {},
   "outputs": [
    {
     "data": {
      "text/plain": [
       "{'Be': 0.4257266826133219,\n",
       " 'Total': 9.499447286660633,\n",
       " 'b8': 8.621046596243314,\n",
       " 'f17': 0.0037136122247794535,\n",
       " 'hep': 0.03396286166007162,\n",
       " 'n13': 0.03434208027500156,\n",
       " 'name': 'test1',\n",
       " 'o15': 0.14631093150831417,\n",
       " 'pep': 0.23434452213583135,\n",
       " 'pp': 0.0}"
      ]
     },
     "execution_count": 78,
     "metadata": {},
     "output_type": "execute_result"
    }
   ],
   "source": [
    "### BS05OP\n",
    "rate_calc(sigma_matr_noGTR_border_full, BS05OP_flux, Energy_all_fluxes, step_all_fluxes,)"
   ]
  },
  {
   "cell_type": "code",
   "execution_count": 79,
   "metadata": {},
   "outputs": [
    {
     "data": {
      "text/plain": [
       "{'Be': 0.4257266826133219,\n",
       " 'Total': 10.84430625564878,\n",
       " 'b8': 9.949506627468185,\n",
       " 'f17': 0.0037136122247794535,\n",
       " 'hep': 0.050361799423347335,\n",
       " 'n13': 0.03434208027500156,\n",
       " 'name': 'test1',\n",
       " 'o15': 0.14631093150831417,\n",
       " 'pep': 0.23434452213583135,\n",
       " 'pp': 0.0}"
      ]
     },
     "execution_count": 79,
     "metadata": {},
     "output_type": "execute_result"
    }
   ],
   "source": [
    "rate_calc(sigma_matr_noGTR_no_border_full, BS05OP_flux, Energy_all_fluxes, step_all_fluxes,)"
   ]
  },
  {
   "cell_type": "markdown",
   "metadata": {},
   "source": [
    "### no GTR no PR1"
   ]
  },
  {
   "cell_type": "code",
   "execution_count": 80,
   "metadata": {},
   "outputs": [],
   "source": [
    "sigma_matr_noGTR_noPR1_no_border_temp = [cross_sec(0,p, sigma_k_GTR, Ex, summ_noGTR_PR1, 200) for p in p_list]\n",
    "\n",
    "sigma_matr_noGTR_noPR1_no_border_full = np.interp(Energy_all_fluxes, xp=p_list+Q_EC_127Xe, \n",
    "                                      fp=sigma_matr_noGTR_noPR1_no_border_temp)\n",
    "#sigma_more5_1 = np.interp(Energy_all_fluxes, xp=p_list+Q_EC_76As, fp=sigma_more5_temp1)\n",
    "\n",
    "sigma_matr_noGTR_noPR1_border_temp = [cross_sec(0,p, sigma_k_GTR, Ex, summ_noGTR_PR1_border, 200) for p in p_list]\n",
    "\n",
    "sigma_matr_noGTR_noPR1_border_full = np.interp(Energy_all_fluxes, xp=p_list+Q_EC_127Xe, \n",
    "                                   fp=sigma_matr_noGTR_noPR1_border_temp)\n",
    "#sigma_more5_1 = np.interp(Energy_all_fluxes, xp=p_list+Q_EC_76As, fp=sigma_more5_temp1)"
   ]
  },
  {
   "cell_type": "code",
   "execution_count": 81,
   "metadata": {},
   "outputs": [
    {
     "data": {
      "text/plain": [
       "{'Be': 0.42032049545480515,\n",
       " 'Total': 6.859867254663135,\n",
       " 'b8': 6.025643399824545,\n",
       " 'f17': 0.0034747519103373883,\n",
       " 'hep': 0.022448072879492867,\n",
       " 'n13': 0.033558830512194306,\n",
       " 'name': 'test1',\n",
       " 'o15': 0.1369804957336968,\n",
       " 'pep': 0.21744120834806374,\n",
       " 'pp': 0.0}"
      ]
     },
     "execution_count": 81,
     "metadata": {},
     "output_type": "execute_result"
    }
   ],
   "source": [
    "### BS05OP\n",
    "rate_calc(sigma_matr_noGTR_noPR1_border_full, BS05OP_flux, Energy_all_fluxes, step_all_fluxes,)"
   ]
  },
  {
   "cell_type": "code",
   "execution_count": 82,
   "metadata": {},
   "outputs": [
    {
     "data": {
      "text/plain": [
       "{'Be': 0.42032049545480515,\n",
       " 'Total': 7.151162915514286,\n",
       " 'b8': 6.312333768981634,\n",
       " 'f17': 0.0034747519103373883,\n",
       " 'hep': 0.0270533645735537,\n",
       " 'n13': 0.033558830512194306,\n",
       " 'name': 'test1',\n",
       " 'o15': 0.1369804957336968,\n",
       " 'pep': 0.21744120834806374,\n",
       " 'pp': 0.0}"
      ]
     },
     "execution_count": 82,
     "metadata": {},
     "output_type": "execute_result"
    }
   ],
   "source": [
    "rate_calc(sigma_matr_noGTR_noPR1_no_border_full, BS05OP_flux, Energy_all_fluxes, step_all_fluxes,)"
   ]
  },
  {
   "cell_type": "code",
   "execution_count": null,
   "metadata": {},
   "outputs": [],
   "source": []
  },
  {
   "cell_type": "code",
   "execution_count": null,
   "metadata": {},
   "outputs": [],
   "source": []
  },
  {
   "cell_type": "code",
   "execution_count": null,
   "metadata": {},
   "outputs": [],
   "source": []
  },
  {
   "cell_type": "code",
   "execution_count": null,
   "metadata": {},
   "outputs": [],
   "source": []
  },
  {
   "cell_type": "code",
   "execution_count": null,
   "metadata": {},
   "outputs": [],
   "source": []
  },
  {
   "cell_type": "markdown",
   "metadata": {},
   "source": [
    "## check models with different $\\alpha$ and $\\beta$"
   ]
  },
  {
   "cell_type": "code",
   "execution_count": 116,
   "metadata": {},
   "outputs": [
    {
     "data": {
      "text/html": [
       "<div>\n",
       "<style>\n",
       "    .dataframe thead tr:only-child th {\n",
       "        text-align: right;\n",
       "    }\n",
       "\n",
       "    .dataframe thead th {\n",
       "        text-align: left;\n",
       "    }\n",
       "\n",
       "    .dataframe tbody tr th {\n",
       "        vertical-align: top;\n",
       "    }\n",
       "</style>\n",
       "<table border=\"1\" class=\"dataframe\">\n",
       "  <thead>\n",
       "    <tr style=\"text-align: right;\">\n",
       "      <th></th>\n",
       "      <th>Ex, MeV</th>\n",
       "      <th>GTR (alpha E^2)</th>\n",
       "      <th>PR1 (alpha E^2)</th>\n",
       "      <th>PR2 (alpha E^2)</th>\n",
       "      <th>alpha E^2</th>\n",
       "      <th>alpha E^2+beta E^3</th>\n",
       "      <th>alpha E^2-beta E^3</th>\n",
       "      <th>bgt</th>\n",
       "    </tr>\n",
       "  </thead>\n",
       "  <tbody>\n",
       "    <tr>\n",
       "      <th>0</th>\n",
       "      <td>0.00</td>\n",
       "      <td>0.00000</td>\n",
       "      <td>0.00000</td>\n",
       "      <td>0.00000</td>\n",
       "      <td>0.00000</td>\n",
       "      <td>0.00000</td>\n",
       "      <td>0.00000</td>\n",
       "      <td>0.014032</td>\n",
       "    </tr>\n",
       "    <tr>\n",
       "      <th>1</th>\n",
       "      <td>0.05</td>\n",
       "      <td>0.00007</td>\n",
       "      <td>0.00003</td>\n",
       "      <td>0.00016</td>\n",
       "      <td>0.00026</td>\n",
       "      <td>0.00028</td>\n",
       "      <td>0.00026</td>\n",
       "      <td>0.041647</td>\n",
       "    </tr>\n",
       "    <tr>\n",
       "      <th>2</th>\n",
       "      <td>0.10</td>\n",
       "      <td>0.00027</td>\n",
       "      <td>0.00013</td>\n",
       "      <td>0.00056</td>\n",
       "      <td>0.00096</td>\n",
       "      <td>0.00102</td>\n",
       "      <td>0.00097</td>\n",
       "      <td>0.041647</td>\n",
       "    </tr>\n",
       "    <tr>\n",
       "      <th>3</th>\n",
       "      <td>0.15</td>\n",
       "      <td>0.00060</td>\n",
       "      <td>0.00030</td>\n",
       "      <td>0.00105</td>\n",
       "      <td>0.00195</td>\n",
       "      <td>0.00198</td>\n",
       "      <td>0.00200</td>\n",
       "      <td>0.089973</td>\n",
       "    </tr>\n",
       "    <tr>\n",
       "      <th>4</th>\n",
       "      <td>0.20</td>\n",
       "      <td>0.00108</td>\n",
       "      <td>0.00053</td>\n",
       "      <td>0.00148</td>\n",
       "      <td>0.00309</td>\n",
       "      <td>0.00300</td>\n",
       "      <td>0.00319</td>\n",
       "      <td>0.089973</td>\n",
       "    </tr>\n",
       "  </tbody>\n",
       "</table>\n",
       "</div>"
      ],
      "text/plain": [
       "   Ex, MeV  GTR (alpha E^2)  PR1 (alpha E^2)  PR2 (alpha E^2)  alpha E^2  \\\n",
       "0     0.00          0.00000          0.00000          0.00000    0.00000   \n",
       "1     0.05          0.00007          0.00003          0.00016    0.00026   \n",
       "2     0.10          0.00027          0.00013          0.00056    0.00096   \n",
       "3     0.15          0.00060          0.00030          0.00105    0.00195   \n",
       "4     0.20          0.00108          0.00053          0.00148    0.00309   \n",
       "\n",
       "   alpha E^2+beta E^3  alpha E^2-beta E^3       bgt  \n",
       "0             0.00000             0.00000  0.014032  \n",
       "1             0.00028             0.00026  0.041647  \n",
       "2             0.00102             0.00097  0.041647  \n",
       "3             0.00198             0.00200  0.089973  \n",
       "4             0.00300             0.00319  0.089973  "
      ]
     },
     "execution_count": 116,
     "metadata": {},
     "output_type": "execute_result"
    }
   ],
   "source": [
    "decomp2 = pd.read_excel('127Xe_decomp_find_coeff.xls')\n",
    "decomp2.head()"
   ]
  },
  {
   "cell_type": "code",
   "execution_count": 109,
   "metadata": {},
   "outputs": [
    {
     "data": {
      "text/plain": [
       "(55.58062392490359, 55.610859999999995, 55.47721875, 55.54809675)"
      ]
     },
     "execution_count": 109,
     "metadata": {},
     "output_type": "execute_result"
    }
   ],
   "source": [
    "trapz(decomp2['bgt'].values, decomp2['Ex, MeV'].values),\\\n",
    "trapz(decomp2['alpha E^2'].values, decomp2['Ex, MeV'].values),\\\n",
    "trapz(decomp2['alpha E^2+beta E^3'].values, decomp2['Ex, MeV'].values), \\\n",
    "trapz(decomp2['alpha E^2-beta E^3'].values, decomp2['Ex, MeV'].values), \\"
   ]
  },
  {
   "cell_type": "code",
   "execution_count": 110,
   "metadata": {},
   "outputs": [],
   "source": [
    "y_bgt_border = border_func(decomp2['Ex, MeV'].values, decomp2['bgt'].values, S_n)\n",
    "y_alph_border = border_func(decomp2['Ex, MeV'].values, decomp2['alpha E^2'].values, S_n)\n",
    "y_alph_plus_b_border = border_func(decomp2['Ex, MeV'].values, decomp2['alpha E^2+beta E^3'].values, S_n)\n",
    "y_alph_min_b_border = border_func(decomp2['Ex, MeV'].values, decomp2['alpha E^2-beta E^3'].values, S_n)"
   ]
  },
  {
   "cell_type": "code",
   "execution_count": 117,
   "metadata": {},
   "outputs": [],
   "source": [
    "y_GTR_border = border_func(decomp2['Ex, MeV'].values, decomp2['GTR (alpha E^2)'].values, S_n)\n",
    "y_PR1_border = border_func(decomp2['Ex, MeV'].values, decomp2['PR1 (alpha E^2)'].values, S_n)\n",
    "y_PR2_border = border_func(decomp2['Ex, MeV'].values, decomp2['PR2 (alpha E^2)'].values, S_n)"
   ]
  },
  {
   "cell_type": "code",
   "execution_count": 111,
   "metadata": {},
   "outputs": [],
   "source": [
    "sigma_bgt_border_temp = [cross_sec(0,p, sigma_k_GTR, decomp2['Ex, MeV'].values, \n",
    "                                   y_bgt_border, 200) for p in p_list]\n",
    "sigma_bgt_border_full = np.interp(Energy_all_fluxes, xp=p_list+Q_EC_127Xe, \n",
    "                                  fp=sigma_bgt_border_temp)\n",
    "\n",
    "sigma_alph_border_temp = [cross_sec(0,p, sigma_k_GTR, decomp2['Ex, MeV'].values, \n",
    "                                   y_alph_border, 200) for p in p_list]\n",
    "sigma_alph_border_full = np.interp(Energy_all_fluxes, xp=p_list+Q_EC_127Xe, \n",
    "                                  fp=sigma_alph_border_temp)"
   ]
  },
  {
   "cell_type": "code",
   "execution_count": 112,
   "metadata": {},
   "outputs": [],
   "source": [
    "sigma_alph_plus_b_border_temp = [cross_sec(0,p, sigma_k_GTR, decomp2['Ex, MeV'].values, \n",
    "                                   y_alph_plus_b_border, 200) for p in p_list]\n",
    "sigma_alph_plus_b_border_full = np.interp(Energy_all_fluxes, xp=p_list+Q_EC_127Xe, \n",
    "                                  fp=sigma_alph_plus_b_border_temp)\n",
    "\n",
    "sigma_alph_min_b_border_temp = [cross_sec(0,p, sigma_k_GTR, decomp2['Ex, MeV'].values, \n",
    "                                   y_alph_min_b_border, 200) for p in p_list]\n",
    "sigma_alph_min_b_border_full = np.interp(Energy_all_fluxes, xp=p_list+Q_EC_127Xe, \n",
    "                                  fp=sigma_alph_min_b_border_temp)"
   ]
  },
  {
   "cell_type": "code",
   "execution_count": 113,
   "metadata": {},
   "outputs": [],
   "source": [
    "no11 = rate_calc(sigma_bgt_border_full, BS05OP_flux, Energy_all_fluxes, \n",
    "                step_all_fluxes, name='R-total (график bgt)')\n",
    "\n",
    "no22 = rate_calc(sigma_alph_border_full, BS05OP_flux, Energy_all_fluxes, \n",
    "                step_all_fluxes, name='R-total (alpha E^2)')\n",
    "no33 = rate_calc(sigma_alph_plus_b_border_full, BS05OP_flux, Energy_all_fluxes, step_all_fluxes,\n",
    "               name='R-total (alpha E^2+beta E^3)')\n",
    "no44 = rate_calc((sigma_alph_min_b_border_full), BS05OP_flux, \n",
    "                Energy_all_fluxes, step_all_fluxes,name='R-total (alpha E^2-beta E^3)')\n"
   ]
  },
  {
   "cell_type": "code",
   "execution_count": 114,
   "metadata": {},
   "outputs": [
    {
     "data": {
      "text/html": [
       "<div>\n",
       "<style>\n",
       "    .dataframe thead tr:only-child th {\n",
       "        text-align: right;\n",
       "    }\n",
       "\n",
       "    .dataframe thead th {\n",
       "        text-align: left;\n",
       "    }\n",
       "\n",
       "    .dataframe tbody tr th {\n",
       "        vertical-align: top;\n",
       "    }\n",
       "</style>\n",
       "<table border=\"1\" class=\"dataframe\">\n",
       "  <thead>\n",
       "    <tr style=\"text-align: right;\">\n",
       "      <th></th>\n",
       "      <th>name</th>\n",
       "      <th>Be</th>\n",
       "      <th>f17</th>\n",
       "      <th>b8</th>\n",
       "      <th>n13</th>\n",
       "      <th>pep</th>\n",
       "      <th>o15</th>\n",
       "      <th>hep</th>\n",
       "      <th>pp</th>\n",
       "      <th>Total</th>\n",
       "    </tr>\n",
       "  </thead>\n",
       "  <tbody>\n",
       "    <tr>\n",
       "      <th>0</th>\n",
       "      <td>R-total (график bgt)</td>\n",
       "      <td>2.656</td>\n",
       "      <td>0.013</td>\n",
       "      <td>22.636</td>\n",
       "      <td>0.151</td>\n",
       "      <td>0.770</td>\n",
       "      <td>0.511</td>\n",
       "      <td>0.092</td>\n",
       "      <td>0.0</td>\n",
       "      <td>26.829</td>\n",
       "    </tr>\n",
       "    <tr>\n",
       "      <th>1</th>\n",
       "      <td>R-total (alpha E^2)</td>\n",
       "      <td>0.052</td>\n",
       "      <td>0.001</td>\n",
       "      <td>22.879</td>\n",
       "      <td>0.006</td>\n",
       "      <td>0.094</td>\n",
       "      <td>0.053</td>\n",
       "      <td>0.095</td>\n",
       "      <td>0.0</td>\n",
       "      <td>23.180</td>\n",
       "    </tr>\n",
       "    <tr>\n",
       "      <th>2</th>\n",
       "      <td>R-total (alpha E^2+beta E^3)</td>\n",
       "      <td>0.053</td>\n",
       "      <td>0.001</td>\n",
       "      <td>22.482</td>\n",
       "      <td>0.006</td>\n",
       "      <td>0.091</td>\n",
       "      <td>0.051</td>\n",
       "      <td>0.093</td>\n",
       "      <td>0.0</td>\n",
       "      <td>22.777</td>\n",
       "    </tr>\n",
       "    <tr>\n",
       "      <th>3</th>\n",
       "      <td>R-total (alpha E^2-beta E^3)</td>\n",
       "      <td>0.053</td>\n",
       "      <td>0.001</td>\n",
       "      <td>23.199</td>\n",
       "      <td>0.006</td>\n",
       "      <td>0.097</td>\n",
       "      <td>0.054</td>\n",
       "      <td>0.096</td>\n",
       "      <td>0.0</td>\n",
       "      <td>23.506</td>\n",
       "    </tr>\n",
       "  </tbody>\n",
       "</table>\n",
       "</div>"
      ],
      "text/plain": [
       "                           name     Be    f17      b8    n13    pep    o15  \\\n",
       "0          R-total (график bgt)  2.656  0.013  22.636  0.151  0.770  0.511   \n",
       "1           R-total (alpha E^2)  0.052  0.001  22.879  0.006  0.094  0.053   \n",
       "2  R-total (alpha E^2+beta E^3)  0.053  0.001  22.482  0.006  0.091  0.051   \n",
       "3  R-total (alpha E^2-beta E^3)  0.053  0.001  23.199  0.006  0.097  0.054   \n",
       "\n",
       "     hep   pp   Total  \n",
       "0  0.092  0.0  26.829  \n",
       "1  0.095  0.0  23.180  \n",
       "2  0.093  0.0  22.777  \n",
       "3  0.096  0.0  23.506  "
      ]
     },
     "execution_count": 114,
     "metadata": {},
     "output_type": "execute_result"
    }
   ],
   "source": [
    "output_table0 = pd.DataFrame(data=[], columns=['name','Be', 'f17', 'b8', 'n13', 'pep', 'o15', 'hep', \n",
    "                                              'pp',  'Total'])\n",
    "\n",
    "for elem in [no11, no22, no33, no44] : \n",
    "    output_table0 = output_table0.append(elem, ignore_index=True)\n",
    "    \n",
    "for elem in ['Be', 'f17', 'b8', 'n13', 'pep', 'o15', 'hep', 'pp',  'Total']:\n",
    "    output_table0[elem] = output_table0[elem].round(3)\n",
    "output_table0"
   ]
  },
  {
   "cell_type": "code",
   "execution_count": 115,
   "metadata": {},
   "outputs": [],
   "source": [
    "output_table0.to_excel('127Xe_result_find_coeff_Suslov.xls')"
   ]
  },
  {
   "cell_type": "code",
   "execution_count": null,
   "metadata": {},
   "outputs": [],
   "source": []
  },
  {
   "cell_type": "code",
   "execution_count": 118,
   "metadata": {},
   "outputs": [],
   "source": [
    "sigma_GTR_border_temp = [cross_sec(0,p, sigma_k_GTR, decomp2['Ex, MeV'].values, \n",
    "                                   y_GTR_border, 200) for p in p_list]\n",
    "sigma_GTR_border_full = np.interp(Energy_all_fluxes, xp=p_list+Q_EC_127Xe, \n",
    "                                  fp=sigma_GTR_border_temp)\n",
    "\n",
    "sigma_PR1_border_temp = [cross_sec(0,p, sigma_k_GTR, decomp2['Ex, MeV'].values, \n",
    "                                   y_PR1_border, 200) for p in p_list]\n",
    "sigma_PR1_border_full = np.interp(Energy_all_fluxes, xp=p_list+Q_EC_127Xe, \n",
    "                                  fp=sigma_PR1_border_temp)\n",
    "\n",
    "sigma_PR2_border_temp = [cross_sec(0,p, sigma_k_GTR, decomp2['Ex, MeV'].values, \n",
    "                                   y_PR2_border, 200) for p in p_list]\n",
    "sigma_PR2_border_full = np.interp(Energy_all_fluxes, xp=p_list+Q_EC_127Xe, \n",
    "                                  fp=sigma_PR2_border_temp)"
   ]
  },
  {
   "cell_type": "code",
   "execution_count": 119,
   "metadata": {},
   "outputs": [],
   "source": [
    "no55 = rate_calc(sigma_bgt_border_full-sigma_GTR_border_full, BS05OP_flux, Energy_all_fluxes, \n",
    "                step_all_fluxes, name='R-total (график bgt) - GTR')\n",
    "\n",
    "no66 = rate_calc(sigma_bgt_border_full-sigma_GTR_border_full-sigma_PR1_border_full, \n",
    "                 BS05OP_flux, Energy_all_fluxes, \n",
    "                step_all_fluxes, name='R-total (график bgt) - GTR - PR1')\n",
    "no77 = rate_calc(sigma_bgt_border_full-sigma_GTR_border_full-sigma_PR1_border_full-sigma_PR2_border_full, \n",
    "                 BS05OP_flux, Energy_all_fluxes, \n",
    "                step_all_fluxes, name='R-total (график bgt) - GTR - PR1 - PR2')\n",
    "#no44 = rate_calc((sigma_alph_min_b_border_full), BS05OP_flux, \n",
    "#                Energy_all_fluxes, step_all_fluxes,name='R-total (alpha E^2-beta E^3)')"
   ]
  },
  {
   "cell_type": "code",
   "execution_count": 120,
   "metadata": {},
   "outputs": [
    {
     "data": {
      "text/html": [
       "<div>\n",
       "<style>\n",
       "    .dataframe thead tr:only-child th {\n",
       "        text-align: right;\n",
       "    }\n",
       "\n",
       "    .dataframe thead th {\n",
       "        text-align: left;\n",
       "    }\n",
       "\n",
       "    .dataframe tbody tr th {\n",
       "        vertical-align: top;\n",
       "    }\n",
       "</style>\n",
       "<table border=\"1\" class=\"dataframe\">\n",
       "  <thead>\n",
       "    <tr style=\"text-align: right;\">\n",
       "      <th></th>\n",
       "      <th>name</th>\n",
       "      <th>Be</th>\n",
       "      <th>f17</th>\n",
       "      <th>b8</th>\n",
       "      <th>n13</th>\n",
       "      <th>pep</th>\n",
       "      <th>o15</th>\n",
       "      <th>hep</th>\n",
       "      <th>pp</th>\n",
       "      <th>Total</th>\n",
       "    </tr>\n",
       "  </thead>\n",
       "  <tbody>\n",
       "    <tr>\n",
       "      <th>0</th>\n",
       "      <td>R-total (график bgt) - GTR</td>\n",
       "      <td>2.640</td>\n",
       "      <td>0.012</td>\n",
       "      <td>6.146</td>\n",
       "      <td>0.148</td>\n",
       "      <td>0.721</td>\n",
       "      <td>0.483</td>\n",
       "      <td>0.022</td>\n",
       "      <td>0.0</td>\n",
       "      <td>10.172</td>\n",
       "    </tr>\n",
       "    <tr>\n",
       "      <th>1</th>\n",
       "      <td>R-total (график bgt) - GTR - PR1</td>\n",
       "      <td>2.632</td>\n",
       "      <td>0.012</td>\n",
       "      <td>3.018</td>\n",
       "      <td>0.147</td>\n",
       "      <td>0.697</td>\n",
       "      <td>0.470</td>\n",
       "      <td>0.008</td>\n",
       "      <td>0.0</td>\n",
       "      <td>6.985</td>\n",
       "    </tr>\n",
       "    <tr>\n",
       "      <th>2</th>\n",
       "      <td>R-total (график bgt) - GTR - PR1 - PR2</td>\n",
       "      <td>2.604</td>\n",
       "      <td>0.012</td>\n",
       "      <td>-0.244</td>\n",
       "      <td>0.145</td>\n",
       "      <td>0.676</td>\n",
       "      <td>0.458</td>\n",
       "      <td>-0.003</td>\n",
       "      <td>0.0</td>\n",
       "      <td>3.648</td>\n",
       "    </tr>\n",
       "  </tbody>\n",
       "</table>\n",
       "</div>"
      ],
      "text/plain": [
       "                                     name     Be    f17     b8    n13    pep  \\\n",
       "0              R-total (график bgt) - GTR  2.640  0.012  6.146  0.148  0.721   \n",
       "1        R-total (график bgt) - GTR - PR1  2.632  0.012  3.018  0.147  0.697   \n",
       "2  R-total (график bgt) - GTR - PR1 - PR2  2.604  0.012 -0.244  0.145  0.676   \n",
       "\n",
       "     o15    hep   pp   Total  \n",
       "0  0.483  0.022  0.0  10.172  \n",
       "1  0.470  0.008  0.0   6.985  \n",
       "2  0.458 -0.003  0.0   3.648  "
      ]
     },
     "execution_count": 120,
     "metadata": {},
     "output_type": "execute_result"
    }
   ],
   "source": [
    "output_table1 = pd.DataFrame(data=[], columns=['name','Be', 'f17', 'b8', 'n13', 'pep', 'o15', 'hep', \n",
    "                                              'pp',  'Total'])\n",
    "\n",
    "for elem in [no55, no66, no77] : \n",
    "    output_table1 = output_table1.append(elem, ignore_index=True)\n",
    "    \n",
    "for elem in ['Be', 'f17', 'b8', 'n13', 'pep', 'o15', 'hep', 'pp',  'Total']:\n",
    "    output_table1[elem] = output_table1[elem].round(3)\n",
    "output_table1"
   ]
  },
  {
   "cell_type": "code",
   "execution_count": 122,
   "metadata": {},
   "outputs": [],
   "source": [
    "output_table1.to_excel('127Xe_result_find_coeff_Suslov-GTR-PR.xls')"
   ]
  },
  {
   "cell_type": "code",
   "execution_count": null,
   "metadata": {},
   "outputs": [],
   "source": []
  }
 ],
 "metadata": {
  "kernelspec": {
   "display_name": "Python [conda env:science]",
   "language": "python",
   "name": "conda-env-science-py"
  },
  "language_info": {
   "codemirror_mode": {
    "name": "ipython",
    "version": 3
   },
   "file_extension": ".py",
   "mimetype": "text/x-python",
   "name": "python",
   "nbconvert_exporter": "python",
   "pygments_lexer": "ipython3",
   "version": "3.9.2"
  }
 },
 "nbformat": 4,
 "nbformat_minor": 2
}

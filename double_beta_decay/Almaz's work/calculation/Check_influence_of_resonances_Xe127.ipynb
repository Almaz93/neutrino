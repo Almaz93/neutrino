{
 "cells": [
  {
   "cell_type": "code",
   "execution_count": 1,
   "metadata": {},
   "outputs": [
    {
     "ename": "ImportError",
     "evalue": "No module named 'labellines'",
     "output_type": "error",
     "traceback": [
      "\u001b[0;31m---------------------------------------------------------------------------\u001b[0m",
      "\u001b[0;31mImportError\u001b[0m                               Traceback (most recent call last)",
      "\u001b[0;32m<ipython-input-1-c19a9045032c>\u001b[0m in \u001b[0;36m<module>\u001b[0;34m()\u001b[0m\n\u001b[1;32m      9\u001b[0m \u001b[0;32mfrom\u001b[0m \u001b[0mscipy\u001b[0m\u001b[0;34m.\u001b[0m\u001b[0minterpolate\u001b[0m \u001b[0;32mimport\u001b[0m \u001b[0minterp1d\u001b[0m\u001b[0;34m\u001b[0m\u001b[0m\n\u001b[1;32m     10\u001b[0m \u001b[0;34m\u001b[0m\u001b[0m\n\u001b[0;32m---> 11\u001b[0;31m \u001b[0;32mfrom\u001b[0m \u001b[0mlabellines\u001b[0m \u001b[0;32mimport\u001b[0m \u001b[0mlabelLine\u001b[0m\u001b[0;34m,\u001b[0m \u001b[0mlabelLines\u001b[0m\u001b[0;34m\u001b[0m\u001b[0m\n\u001b[0m\u001b[1;32m     12\u001b[0m \u001b[0mget_ipython\u001b[0m\u001b[0;34m(\u001b[0m\u001b[0;34m)\u001b[0m\u001b[0;34m.\u001b[0m\u001b[0mrun_line_magic\u001b[0m\u001b[0;34m(\u001b[0m\u001b[0;34m'pylab'\u001b[0m\u001b[0;34m,\u001b[0m \u001b[0;34m'inline'\u001b[0m\u001b[0;34m)\u001b[0m\u001b[0;34m\u001b[0m\u001b[0m\n",
      "\u001b[0;31mImportError\u001b[0m: No module named 'labellines'"
     ]
    }
   ],
   "source": [
    "import math\n",
    "import numpy as np\n",
    "import pandas as pd\n",
    "import scipy as sc\n",
    "\n",
    "import matplotlib.pyplot as plt\n",
    "from scipy.integrate import quad, trapz, simps, cumtrapz\n",
    "\n",
    "from scipy.interpolate import interp1d\n",
    "\n",
    "from labellines import labelLine, labelLines\n",
    "%pylab inline"
   ]
  },
  {
   "cell_type": "markdown",
   "metadata": {},
   "source": [
    "### Расчет"
   ]
  },
  {
   "cell_type": "markdown",
   "metadata": {},
   "source": [
    "Некоторые константы"
   ]
  },
  {
   "cell_type": "code",
   "execution_count": 39,
   "metadata": {
    "collapsed": true
   },
   "outputs": [],
   "source": [
    "Q_EC_127Xe=0.662 #in MeV\n",
    "Z_127Xe=54\n",
    "\n",
    "g_a_g_v=1.297 #ratio of vector and axial coupling constants\n",
    "\n",
    "BS05_OP_pep_ampl=1.42e8\n",
    "pep_en=1.442 #MeV\n",
    "\n",
    "Be384_en = 0.384 #Mev \n",
    "Be862_en = 0.862 #Mev\n",
    "\n",
    "S_n = 7.246 #энергия отрыва нейтрона\n",
    "\n",
    "total_GT = 53.54\n",
    "#total_GT = 63"
   ]
  },
  {
   "cell_type": "markdown",
   "metadata": {},
   "source": [
    "Функция для расчета порога реакции"
   ]
  },
  {
   "cell_type": "code",
   "execution_count": 40,
   "metadata": {
    "collapsed": true
   },
   "outputs": [],
   "source": [
    "def Q_k_func(E_k, Q_EC):\n",
    "    #Считаем порог реакции, E_k - энергия возбужденного состояния в BGT\n",
    "    #E_k in KeV\n",
    "    return Q_EC+E_k/1000"
   ]
  },
  {
   "cell_type": "markdown",
   "metadata": {},
   "source": [
    "Привиденная энергия вылетающего электрона: $\\epsilon_e = \\frac{E_{\\nu}-Q_k}{m_e} + 1$"
   ]
  },
  {
   "cell_type": "code",
   "execution_count": 41,
   "metadata": {
    "collapsed": true
   },
   "outputs": [],
   "source": [
    "def e_e_func(E_nu, E_k, Q_EC):\n",
    "    #Считаем привиденную энергию вылетающего электрона. Если энергия налетающего нейтрино E_nu\n",
    "    #меньше порога, возвращаем 0 для обнуления итогового сечения\n",
    "    #E_nu in MeV\n",
    "    q=Q_k_func(E_k, Q_EC) #порог реакции\n",
    "    if E_nu>q: return 1+(E_nu-q)/0.511\n",
    "    else: return 0 "
   ]
  },
  {
   "cell_type": "markdown",
   "metadata": {},
   "source": [
    "Привиденный импульс электрона: $\\pi_e=\\sqrt{\\epsilon_e^2 -1}$"
   ]
  },
  {
   "cell_type": "code",
   "execution_count": 42,
   "metadata": {
    "collapsed": true
   },
   "outputs": [],
   "source": [
    "def Pi_e_func(e_e):\n",
    "    #Привиденный импульс электрона, вычисляется через привиденную энергию; ** означает степень  \n",
    "    if e_e>1: return math.sqrt(e_e**2 - 1)\n",
    "    else: return 0"
   ]
  },
  {
   "cell_type": "code",
   "execution_count": 43,
   "metadata": {
    "collapsed": true
   },
   "outputs": [],
   "source": [
    "def integrate_func(a, b, x, y):\n",
    "    return np.sum( np.interp(x=np.arange(a, b, 0.001), xp=x, fp=y ) * 0.001 )"
   ]
  },
  {
   "cell_type": "markdown",
   "metadata": {},
   "source": [
    "### Fermi-function from Numerical Tables for Beta-Decay and Electron Capture"
   ]
  },
  {
   "cell_type": "markdown",
   "metadata": {},
   "source": [
    "Ферми функия из оцифрованных немецких таблиц. Считываем данные"
   ]
  },
  {
   "cell_type": "code",
   "execution_count": 44,
   "metadata": {
    "scrolled": true
   },
   "outputs": [
    {
     "name": "stdout",
     "output_type": "stream",
     "text": [
      "<class 'pandas.core.frame.DataFrame'>\n",
      "RangeIndex: 48 entries, 0 to 47\n",
      "Data columns (total 2 columns):\n",
      "p       48 non-null float64\n",
      "F0L0    48 non-null float64\n",
      "dtypes: float64(2)\n",
      "memory usage: 848.0 bytes\n"
     ]
    }
   ],
   "source": [
    "Fermi_func_new_data = pd.read_excel('../../fermi_func_tables/from_1968/Z_54.ocr.xls', \n",
    "                                    parse_cols=\"A,B\", decimal='.')\n",
    "Fermi_func_new_data.info()"
   ]
  },
  {
   "cell_type": "code",
   "execution_count": 45,
   "metadata": {},
   "outputs": [
    {
     "data": {
      "text/html": [
       "<div>\n",
       "<style>\n",
       "    .dataframe thead tr:only-child th {\n",
       "        text-align: right;\n",
       "    }\n",
       "\n",
       "    .dataframe thead th {\n",
       "        text-align: left;\n",
       "    }\n",
       "\n",
       "    .dataframe tbody tr th {\n",
       "        vertical-align: top;\n",
       "    }\n",
       "</style>\n",
       "<table border=\"1\" class=\"dataframe\">\n",
       "  <thead>\n",
       "    <tr style=\"text-align: right;\">\n",
       "      <th></th>\n",
       "      <th>p</th>\n",
       "      <th>F0L0</th>\n",
       "    </tr>\n",
       "  </thead>\n",
       "  <tbody>\n",
       "    <tr>\n",
       "      <th>0</th>\n",
       "      <td>0.1</td>\n",
       "      <td>68.550</td>\n",
       "    </tr>\n",
       "    <tr>\n",
       "      <th>1</th>\n",
       "      <td>0.2</td>\n",
       "      <td>34.627</td>\n",
       "    </tr>\n",
       "    <tr>\n",
       "      <th>2</th>\n",
       "      <td>0.3</td>\n",
       "      <td>23.465</td>\n",
       "    </tr>\n",
       "    <tr>\n",
       "      <th>3</th>\n",
       "      <td>0.4</td>\n",
       "      <td>17.995</td>\n",
       "    </tr>\n",
       "    <tr>\n",
       "      <th>4</th>\n",
       "      <td>0.5</td>\n",
       "      <td>14.807</td>\n",
       "    </tr>\n",
       "  </tbody>\n",
       "</table>\n",
       "</div>"
      ],
      "text/plain": [
       "     p    F0L0\n",
       "0  0.1  68.550\n",
       "1  0.2  34.627\n",
       "2  0.3  23.465\n",
       "3  0.4  17.995\n",
       "4  0.5  14.807"
      ]
     },
     "execution_count": 45,
     "metadata": {},
     "output_type": "execute_result"
    }
   ],
   "source": [
    "Fermi_func_new_data.head()"
   ]
  },
  {
   "cell_type": "markdown",
   "metadata": {},
   "source": [
    "Функция для расчета интерполированного значения. В таблице дана зависимость от импульса вылетающего электрона. Переводим ее в зав-ть от энергии электрона"
   ]
  },
  {
   "cell_type": "code",
   "execution_count": 46,
   "metadata": {
    "collapsed": true
   },
   "outputs": [],
   "source": [
    "e_e3 = np.sqrt( np.square( Fermi_func_new_data['p'].values ) + 1 ) #энергия вылетающего электрона\n",
    "def num_tables_func(x):\n",
    "    #x in units of mc^2\n",
    "    return np.interp(x=x, xp=e_e3, fp=Fermi_func_new_data['F0L0'].values )"
   ]
  },
  {
   "cell_type": "markdown",
   "metadata": {},
   "source": [
    "### BS05_OP flux"
   ]
  },
  {
   "cell_type": "code",
   "execution_count": 47,
   "metadata": {
    "collapsed": true
   },
   "outputs": [],
   "source": [
    "BS05OP_Be = 4.84e9\n",
    "BS05OP_pp = 5.99e10\n",
    "BS05OP_pep = 1.42e8\n",
    "BS05OP_hep = 7.93e3\n",
    "BS05OP_B = 5.69e6\n",
    "BS05OP_N = 3.07e8\n",
    "BS05OP_0 = 2.33e8\n",
    "BS05OP_F = 5.84e6"
   ]
  },
  {
   "cell_type": "code",
   "execution_count": 48,
   "metadata": {
    "collapsed": true
   },
   "outputs": [],
   "source": [
    "BP98_Be = 4.80e9\n",
    "BP98_pp = 5.94e10\n",
    "BP98_pep = 1.39e8\n",
    "BP98_hep = 2.10e3\n",
    "BP98_B = 5.15e6 \n",
    "BP98_N = 6.05e8\n",
    "BP98_0 = 5.32e8\n",
    "BP98_F = 6.33e6"
   ]
  },
  {
   "cell_type": "code",
   "execution_count": 49,
   "metadata": {
    "collapsed": true
   },
   "outputs": [],
   "source": [
    "BP98_OPAL92_Be = 4.94e9\n",
    "BP98_OPAL92_pp = 5.92e10\n",
    "BP98_OPAL92_pep = 1.39e8\n",
    "BP98_OPAL92_hep = 2.08e3\n",
    "BP98_OPAL92_B = 5.44e6 \n",
    "BP98_OPAL92_N = 6.25e8\n",
    "BP98_OPAL92_0 = 5.52e8\n",
    "BP98_OPAL92_F = 6.59e6"
   ]
  },
  {
   "cell_type": "code",
   "execution_count": 50,
   "metadata": {
    "collapsed": true
   },
   "outputs": [],
   "source": [
    "#B16-GS98 - high metallicity\n",
    "B16_GS98_Be = 4.93e9\n",
    "B16_GS98_pp = 5.98e10\n",
    "B16_GS98_pep = 1.44e8\n",
    "B16_GS98_hep = 7.98e3\n",
    "B16_GS98_B = 5.46e6 \n",
    "B16_GS98_N = 2.78e8\n",
    "B16_GS98_0 = 2.05e8\n",
    "B16_GS98_F = 5.29e6"
   ]
  },
  {
   "cell_type": "code",
   "execution_count": 51,
   "metadata": {
    "collapsed": true
   },
   "outputs": [],
   "source": [
    "#B16-AGSS09met - low metallicity\n",
    "B16_AGSS09met_Be = 4.50e9\n",
    "B16_AGSS09met_pp = 6.03e10\n",
    "B16_AGSS09met_pep = 1.46e8\n",
    "B16_AGSS09met_hep = 8.25e3\n",
    "B16_AGSS09met_B = 4.50e6 \n",
    "B16_AGSS09met_N = 2.04e8\n",
    "B16_AGSS09met_0 = 1.44e8\n",
    "B16_AGSS09met_F = 3.26e6"
   ]
  },
  {
   "cell_type": "code",
   "execution_count": 52,
   "metadata": {
    "collapsed": true
   },
   "outputs": [],
   "source": [
    "#fluxes_df = pd.DataFrame()"
   ]
  },
  {
   "cell_type": "code",
   "execution_count": 53,
   "metadata": {
    "collapsed": true
   },
   "outputs": [],
   "source": [
    "step_all_fluxes = 0.001 #MeV\n",
    "Energy_all_fluxes = np.arange(0,20,step_all_fluxes)"
   ]
  },
  {
   "cell_type": "code",
   "execution_count": 54,
   "metadata": {
    "collapsed": true
   },
   "outputs": [],
   "source": [
    "def return_flux(pp_ampl, hep_ampl, B_ampl, N_ampl, O_ampl, F_ampl, \n",
    "                energy_list = Energy_all_fluxes):\n",
    "    pp = pd.read_excel('../Solar_neutrino_flux/pp.xls')\n",
    "    b8 = pd.read_excel('../Solar_neutrino_flux/b8.xls')\n",
    "    hep = pd.read_excel('../Solar_neutrino_flux/hep.xls')\n",
    "    n13 = pd.read_excel('../Solar_neutrino_flux/n13.xls')\n",
    "    o15 = pd.read_excel('../Solar_neutrino_flux/o15.xls')\n",
    "    f17 = pd.read_excel('../Solar_neutrino_flux/f17.xls')\n",
    "\n",
    "    flux = {\n",
    "        'pp':np.interp(x=Energy_all_fluxes, xp=pp['Energy'].values, \n",
    "                       fp=pp['Probability'].values * pp_ampl ),\n",
    "        'b8':np.interp(x=Energy_all_fluxes, xp=b8['Energy'].values, \n",
    "                       fp=b8['Probability'].values * B_ampl ),\n",
    "        'hep':np.interp(x=Energy_all_fluxes, xp=hep['Energy'].values, \n",
    "                       fp=hep['Probability'].values * hep_ampl ),\n",
    "        'n13':np.interp(x=Energy_all_fluxes, xp=n13['Energy'].values, \n",
    "                       fp=n13['Probability'].values * N_ampl ),\n",
    "        'o15':np.interp(x=Energy_all_fluxes, xp=o15['Energy'].values, \n",
    "                       fp=o15['Probability'].values * O_ampl ),\n",
    "        'f17':np.interp(x=Energy_all_fluxes, xp=f17['Energy'].values, \n",
    "                       fp=f17['Probability'].values * F_ampl ),\n",
    "    }\n",
    "    return flux"
   ]
  },
  {
   "cell_type": "code",
   "execution_count": 55,
   "metadata": {
    "collapsed": true
   },
   "outputs": [],
   "source": [
    "BS05OP_flux = return_flux(pp_ampl=BS05OP_pp, \n",
    "                          hep_ampl=BS05OP_hep,\n",
    "                          B_ampl=BS05OP_B,\n",
    "                          N_ampl=BS05OP_N,\n",
    "                          O_ampl=BS05OP_0,\n",
    "                          F_ampl=BS05OP_F)\n",
    "\n",
    "BP98_flux = return_flux(pp_ampl=BP98_pp, \n",
    "                          hep_ampl=BP98_hep,\n",
    "                          B_ampl=BP98_B,\n",
    "                          N_ampl=BP98_N,\n",
    "                          O_ampl=BP98_0,\n",
    "                          F_ampl=BP98_F)\n",
    "\n",
    "BP98_OPAL92_flux = return_flux(pp_ampl=BP98_OPAL92_pp, \n",
    "                          hep_ampl=BP98_OPAL92_hep,\n",
    "                          B_ampl=BP98_OPAL92_B,\n",
    "                          N_ampl=BP98_OPAL92_N,\n",
    "                          O_ampl=BP98_OPAL92_0,\n",
    "                          F_ampl=BP98_OPAL92_F)\n",
    "\n",
    "B16_GS98_flux = return_flux(pp_ampl=B16_GS98_pp, \n",
    "                          hep_ampl=B16_GS98_hep,\n",
    "                          B_ampl=B16_GS98_B,\n",
    "                          N_ampl=B16_GS98_N,\n",
    "                          O_ampl=B16_GS98_0,\n",
    "                          F_ampl=B16_GS98_F)\n",
    "\n",
    "B16_AGSS09met_flux = return_flux(pp_ampl=B16_AGSS09met_pp, \n",
    "                          hep_ampl=B16_AGSS09met_hep,\n",
    "                          B_ampl=B16_AGSS09met_B,\n",
    "                          N_ampl=B16_AGSS09met_N,\n",
    "                          O_ampl=B16_AGSS09met_0,\n",
    "                          F_ampl=B16_AGSS09met_F)"
   ]
  },
  {
   "cell_type": "code",
   "execution_count": 56,
   "metadata": {},
   "outputs": [],
   "source": [
    "#!pip install matplotlib-label-lines"
   ]
  },
  {
   "cell_type": "code",
   "execution_count": 57,
   "metadata": {},
   "outputs": [
    {
     "data": {
      "image/png": "[encoded data removed]",
      "text/plain": [
       "<matplotlib.figure.Figure at 0x23314ad8898>"
      ]
     },
     "metadata": {},
     "output_type": "display_data"
    }
   ],
   "source": [
    "fig, ax = plt.subplots(figsize=(10,6))\n",
    "\n",
    "ax.tick_params(axis=\"y\", labelsize=13)\n",
    "ax.tick_params(axis=\"x\", labelsize=13)\n",
    "\n",
    "ax.plot(Energy_all_fluxes, BS05OP_flux['pp'], label='pp')\n",
    "ax.plot(Energy_all_fluxes, BS05OP_flux['b8'], label='8B')\n",
    "ax.plot(Energy_all_fluxes, BS05OP_flux['hep'], label='hep')\n",
    "ax.plot(Energy_all_fluxes, BS05OP_flux['n13'], label='13N')\n",
    "ax.plot(Energy_all_fluxes, BS05OP_flux['o15'], label='15O')\n",
    "ax.plot(Energy_all_fluxes, BS05OP_flux['f17'], label='17F')\n",
    "\n",
    "ax.axvline(Q_EC_127Xe+0.125, c='k', ls='--')\n",
    "#ax.text(Q_EC_127Xe+0.05, 10**11, 'Q=232.6 KeV', rotation=90, fontsize=12)\n",
    "\n",
    "ax.vlines(pep_en, 0, BS05OP_pep, label='pep')\n",
    "ax.vlines(Be384_en, 0, BS05OP_Be*0.103, label='7Be 384 KeV')\n",
    "ax.vlines(Be862_en, 0, BS05OP_Be*(1-0.103), label='7Be 862 KeV')\n",
    "\n",
    "ax.set_xlabel('Neutrino energy (MeV)', fontsize=14)\n",
    "ax.set_ylabel(' Flux ($cm^{-2}\\cdot s^{-1}\\cdot MeV^{-1}$) [for lines $cm^{-2}\\cdot s^{-1}$]', fontsize=14)\n",
    "\n",
    "ax.set_yscale('log')\n",
    "ax.set_xscale('log')\n",
    "my_yticks = [ 10**(1), 10**(2), 10**(3), 10**(4), 10**(5), 10**(6), 10**(7), 10**(8),\n",
    "            10**(9), 10**(10), 10**(11), 10**(12)]\n",
    "#ax.set_yticks(my_yticks)\n",
    "\n",
    "#ax.set_xticks(np.arange(0,21,1))\n",
    "\n",
    "formatter = matplotlib.ticker.ScalarFormatter()\n",
    "formatter.set_scientific(True)\n",
    "\n",
    "ax.get_yaxis().set_major_formatter(formatter)\n",
    "\n",
    "def myticks(x,pos):\n",
    "    if x == 0: return \"$0$\"\n",
    "    exponent = int(np.log10(x))\n",
    "    return r\"$10^{{ {:2d} }}$\".format(exponent)\n",
    "\n",
    "ax.get_yaxis().set_major_formatter(matplotlib.ticker.FuncFormatter(myticks))\n",
    "\n",
    "#labelLines(plt.gca().get_lines(), zorder=2.5)\n",
    "\n",
    "#my_yticks_str = [str(elem) for elem in my_yticks]\n",
    "#ax.set_yticklabels(my_yticks_str)\n",
    "#ax.set_xticks(np.arange(0,21,1))\n",
    "\n",
    "ax.set_ylim(10**(1), 10**(12))\n",
    "ax.set_xlim(10**(-1), 20)\n",
    "#ax.legend(fontsize=13, loc='upper right')\n",
    "fig.tight_layout()\n",
    "fig.savefig('solar_flux_for_127I.png', format='png', dpi=500)"
   ]
  },
  {
   "cell_type": "code",
   "execution_count": null,
   "metadata": {
    "collapsed": true
   },
   "outputs": [],
   "source": []
  },
  {
   "cell_type": "code",
   "execution_count": null,
   "metadata": {
    "collapsed": true
   },
   "outputs": [],
   "source": []
  },
  {
   "cell_type": "code",
   "execution_count": null,
   "metadata": {
    "collapsed": true
   },
   "outputs": [],
   "source": []
  },
  {
   "cell_type": "markdown",
   "metadata": {},
   "source": [
    "### Cross-section and total rate"
   ]
  },
  {
   "cell_type": "markdown",
   "metadata": {},
   "source": [
    "Сечение по Иджири $\\sigma_k={(10^{-44}\\ cm^2)}\\times 1.597\\cdot \\epsilon_e \\pi_e m_e^2 F(Z,E_e) [B(F)_k + (\\frac{g_a}{g_v})^2 B(GT)_k] $ "
   ]
  },
  {
   "cell_type": "code",
   "execution_count": 58,
   "metadata": {
    "collapsed": true
   },
   "outputs": [],
   "source": [
    "g_a_g_v_square = math.pow(g_a_g_v,2)\n",
    "m_e_square = math.pow(0.511,2)"
   ]
  },
  {
   "cell_type": "code",
   "execution_count": 59,
   "metadata": {
    "collapsed": true
   },
   "outputs": [],
   "source": [
    "#расчет сечения до энергии возбуждения 5 МэВ\n",
    "def sigma_k_less5(E_nu, E_k, BGT_k, Z, Q_EC):\n",
    "    #E_k in kev\n",
    "    #сечение k-го возб. состояния по Иджири\n",
    "    e_e=e_e_func(E_nu, E_k, Q_EC) #энергия вылетающего электрона\n",
    "    Pi_e=Pi_e_func(e_e) #его импульс\n",
    "    F_col=num_tables_func(e_e) #значение ферм-функции при такой энергии\n",
    "    return 1.597*m_e_square*e_e*Pi_e*F_col*g_a_g_v_square*BGT_k"
   ]
  },
  {
   "cell_type": "code",
   "execution_count": 60,
   "metadata": {
    "collapsed": true
   },
   "outputs": [],
   "source": [
    "#функция расчета свертки сечения с потоком\n",
    "def rate_calc(sigma, fluxes_dict, energies_array, step, func_pep_ampl = BS05OP_pep, \n",
    "              func_Be_ampl = BS05OP_Be, name = 'test1'):\n",
    "    \n",
    "    #const = 1.597*math.pow(10,-44)\n",
    "    const = math.pow(10,-44)\n",
    "\n",
    "    sigma_total = np.array(sigma) * const\n",
    "    \n",
    "    rate_total = 0\n",
    "    \n",
    "    output_dict = {'name':name}\n",
    "    \n",
    "    for elem in list(fluxes_dict.keys()):\n",
    "        rate = sum(fluxes_dict[elem]*sigma_total*step) * math.pow(10,36)\n",
    "        #print(elem, ' ', rate)\n",
    "        output_dict[elem] = rate\n",
    "        rate_total+=rate\n",
    "        \n",
    "    sigma_pep = np.interp(pep_en, xp=energies_array, fp=sigma_total)\n",
    "    rate_pep = func_pep_ampl*sigma_pep*math.pow(10,36)\n",
    "    #print('pep', ' ', rate_pep)\n",
    "    output_dict['pep'] = rate_pep\n",
    "    rate_total+=rate_pep\n",
    "    \n",
    "    sigma_Be384 = np.interp(Be384_en, xp=energies_array, fp=sigma_total)\n",
    "    rate_Be384 = 0.103*func_Be_ampl*sigma_Be384*math.pow(10,36) #отношение из книжки бакала \n",
    "    \n",
    "    sigma_Be862 = np.interp(Be862_en, xp=energies_array, fp=sigma_total)\n",
    "    rate_Be862 = 0.897*func_Be_ampl*sigma_Be862*math.pow(10,36)\n",
    "    rate_Be = rate_Be384 + rate_Be862\n",
    "    \n",
    "    #print('Be', ' ', rate_Be)\n",
    "    output_dict['Be'] = rate_Be\n",
    "    rate_total+=rate_Be\n",
    "    \n",
    "    #print('rate_total',' ', rate_total)\n",
    "    output_dict['Total'] = rate_total\n",
    "    return output_dict"
   ]
  },
  {
   "cell_type": "code",
   "execution_count": null,
   "metadata": {
    "collapsed": true
   },
   "outputs": [],
   "source": []
  },
  {
   "cell_type": "markdown",
   "metadata": {},
   "source": [
    "### Расчет сечения с учетом графика из статьи 1999 года\n"
   ]
  },
  {
   "cell_type": "code",
   "execution_count": 61,
   "metadata": {},
   "outputs": [
    {
     "data": {
      "text/html": [
       "<div>\n",
       "<style>\n",
       "    .dataframe thead tr:only-child th {\n",
       "        text-align: right;\n",
       "    }\n",
       "\n",
       "    .dataframe thead th {\n",
       "        text-align: left;\n",
       "    }\n",
       "\n",
       "    .dataframe tbody tr th {\n",
       "        vertical-align: top;\n",
       "    }\n",
       "</style>\n",
       "<table border=\"1\" class=\"dataframe\">\n",
       "  <thead>\n",
       "    <tr style=\"text-align: right;\">\n",
       "      <th></th>\n",
       "      <th>Ex, MeV</th>\n",
       "      <th>y</th>\n",
       "    </tr>\n",
       "  </thead>\n",
       "  <tbody>\n",
       "    <tr>\n",
       "      <th>0</th>\n",
       "      <td>0.350987</td>\n",
       "      <td>0.000603</td>\n",
       "    </tr>\n",
       "    <tr>\n",
       "      <th>1</th>\n",
       "      <td>0.434621</td>\n",
       "      <td>0.000786</td>\n",
       "    </tr>\n",
       "    <tr>\n",
       "      <th>2</th>\n",
       "      <td>0.482412</td>\n",
       "      <td>0.000911</td>\n",
       "    </tr>\n",
       "    <tr>\n",
       "      <th>3</th>\n",
       "      <td>0.589942</td>\n",
       "      <td>0.001261</td>\n",
       "    </tr>\n",
       "    <tr>\n",
       "      <th>4</th>\n",
       "      <td>0.733315</td>\n",
       "      <td>0.001911</td>\n",
       "    </tr>\n",
       "  </tbody>\n",
       "</table>\n",
       "</div>"
      ],
      "text/plain": [
       "    Ex, MeV         y\n",
       "0  0.350987  0.000603\n",
       "1  0.434621  0.000786\n",
       "2  0.482412  0.000911\n",
       "3  0.589942  0.001261\n",
       "4  0.733315  0.001911"
      ]
     },
     "execution_count": 61,
     "metadata": {},
     "output_type": "execute_result"
    }
   ],
   "source": [
    "best_fit = pd.read_excel('127Xe_gauss.xls')\n",
    "best_fit.head()\n",
    "#best_fit = pd.read_csv('2pigmy_best_fit-SDR-IAS-QFC.csv')"
   ]
  },
  {
   "cell_type": "code",
   "execution_count": 62,
   "metadata": {},
   "outputs": [
    {
     "data": {
      "image/png": "[encoded data removed]",
      "text/plain": [
       "<matplotlib.figure.Figure at 0x23315bf1be0>"
      ]
     },
     "metadata": {},
     "output_type": "display_data"
    }
   ],
   "source": [
    "plt.figure(figsize=(9,6))\n",
    "plt.plot(best_fit['Ex, MeV'].values, best_fit['y'].values)\n",
    "plt.xlabel('$E_x$, MeV')\n",
    "plt.ylabel('Counts')\n",
    "plt.ylim(0,1.5)\n",
    "plt.xticks(np.arange(0,26,1))\n",
    "plt.show()"
   ]
  },
  {
   "cell_type": "code",
   "execution_count": 63,
   "metadata": {
    "collapsed": true
   },
   "outputs": [],
   "source": [
    "#функция для отрезки резонансов выше энергии отрыва\n",
    "def border_func(x_data, y_data, border):\n",
    "    a=np.where(x_data<border)\n",
    "    #print(len(a[0]), len(x_data)-len(a[0]), len(x_data), a[0])\n",
    "    return np.hstack(( y_data[a], np.zeros(len(x_data)-len(a[0])) ))\n",
    "\n",
    "\n",
    "def border_func2(x_data, y_data, border_l, border_r):\n",
    "    a=np.where(x_data<border_r)\n",
    "    b=np.where(x_data>border_l)\n",
    "    temp_y = np.hstack(( y_data[a], np.zeros(len(x_data)-len(a[0])) ))\n",
    "    #print(len(a[0]), len(x_data)-len(a[0]), len(x_data), a[0])\n",
    "    return np.hstack((np.zeros((b[0][0])), temp_y[b]))"
   ]
  },
  {
   "cell_type": "code",
   "execution_count": 64,
   "metadata": {},
   "outputs": [
    {
     "data": {
      "text/plain": [
       "6.057219427825755"
      ]
     },
     "execution_count": 64,
     "metadata": {},
     "output_type": "execute_result"
    }
   ],
   "source": [
    "trapz(best_fit['y'].values, best_fit['Ex, MeV'].values)"
   ]
  },
  {
   "cell_type": "code",
   "execution_count": 65,
   "metadata": {},
   "outputs": [
    {
     "data": {
      "text/plain": [
       "(0, 20)"
      ]
     },
     "execution_count": 65,
     "metadata": {},
     "output_type": "execute_result"
    },
    {
     "data": {
      "image/png": "[encoded data removed]",
      "text/plain": [
       "<matplotlib.figure.Figure at 0x23314af66a0>"
      ]
     },
     "metadata": {},
     "output_type": "display_data"
    }
   ],
   "source": [
    "y = best_fit['y'].values / trapz(best_fit['y'].values, best_fit['Ex, MeV'].values) \\\n",
    "* total_GT\n",
    "\n",
    "#y_best_fit_border = border_func(best_fit['x'].values, y_best_fit, S_n)\n",
    "y_border = border_func(best_fit['Ex, MeV'].values, y, S_n)\n",
    "\n",
    "\n",
    "plt.plot(best_fit['Ex, MeV'].values, y)\n",
    "plt.plot(best_fit['Ex, MeV'].values, y_border, ls='--')\n",
    "plt.xlabel('$E_{x}$, MeV', fontsize=14)\n",
    "plt.ylabel('S(E), 1/MeV', fontsize=14)\n",
    "plt.xlim(0,20)\n",
    "#plt.savefig('S_E_func_76Ge.png', format='png', dpi=400)"
   ]
  },
  {
   "cell_type": "code",
   "execution_count": 66,
   "metadata": {},
   "outputs": [
    {
     "data": {
      "text/plain": [
       "53.54"
      ]
     },
     "execution_count": 66,
     "metadata": {},
     "output_type": "execute_result"
    }
   ],
   "source": [
    "total_GT"
   ]
  },
  {
   "cell_type": "markdown",
   "metadata": {},
   "source": [
    "Сечение для непрерывной части\n",
    "\n",
    "$\\sigma = {(10^{-44}\\ cm^2)} \\times \\int^{z-Q}_{0} {1.597 \\cdot (\\frac{g_a}{g_v})^2 \\cdot \\sqrt{(z-Q-x+0.511)^2-0.511^2} \\cdot (z-Q-x+0.511) \\cdot S_{GTR}(x) \\cdot F(z-Q-x+0.511)} dx $ \n"
   ]
  },
  {
   "cell_type": "code",
   "execution_count": 67,
   "metadata": {
    "collapsed": true
   },
   "outputs": [],
   "source": [
    "#введем новую переменную p = z - Q\n",
    "def sigma_k_GTR(x, p, x_data, y_data):\n",
    "    e_energy = p - x + 0.511\n",
    "    return 1.597*g_a_g_v_square*np.sqrt(e_energy**2-m_e_square)*e_energy\\\n",
    "    *np.interp(x,xp=x_data,fp=y_data)*num_tables_func(e_energy/0.511) \n"
   ]
  },
  {
   "cell_type": "code",
   "execution_count": 68,
   "metadata": {
    "collapsed": true
   },
   "outputs": [],
   "source": [
    "#разбиваем интервал интегрирования на субинтервалы\n",
    "def intervals(a,b,n):\n",
    "    c=np.linspace(a,b,num=n)\n",
    "    return [[c[i], c[i+1]] for i in range(len(c)-1)]"
   ]
  },
  {
   "cell_type": "code",
   "execution_count": 69,
   "metadata": {
    "collapsed": true
   },
   "outputs": [],
   "source": [
    "#считаем сечение\n",
    "def cross_sec(a,b, sigma_func, shape_x, shape_y, int_num=50):\n",
    "    borders_list = intervals(a,b, int_num)\n",
    "    #return sum([quad(sigma_func, i[0],i[1], args=(b,shape_x, shape_y))[0] for i in borders_list])\n",
    "    return sum([sc.integrate.fixed_quad(sigma_func, i[0],i[1], args=(b,shape_x, shape_y))[0] for i in borders_list])\n",
    "    #return sum([sc.integrate.romberg(sigma_func, i[0],i[1], args=(b,shape_x, shape_y)) for i in borders_list])"
   ]
  },
  {
   "cell_type": "markdown",
   "metadata": {},
   "source": [
    "сечение без Sn"
   ]
  },
  {
   "cell_type": "code",
   "execution_count": 70,
   "metadata": {
    "collapsed": true
   },
   "outputs": [],
   "source": [
    "p_list = np.arange(0,20, 0.1) #p = z - Q\n",
    "\n",
    "sigma_no_border_temp = [cross_sec(0,p, sigma_k_GTR, best_fit['Ex, MeV'].values, y, 200) for p in p_list]\n",
    "\n",
    "sigma_no_border_full = np.interp(Energy_all_fluxes, xp=p_list+Q_EC_127Xe, fp=sigma_no_border_temp)\n",
    "#sigma_more5_1 = np.interp(Energy_all_fluxes, xp=p_list+Q_EC_76As, fp=sigma_more5_temp1)"
   ]
  },
  {
   "cell_type": "markdown",
   "metadata": {},
   "source": [
    "сечение с Sn"
   ]
  },
  {
   "cell_type": "code",
   "execution_count": 71,
   "metadata": {
    "collapsed": true
   },
   "outputs": [],
   "source": [
    "sigma_border_temp = [cross_sec(0,p, sigma_k_GTR, best_fit['Ex, MeV'].values, y_border, 200) for p in p_list]\n",
    "\n",
    "sigma_border_full = np.interp(Energy_all_fluxes, xp=p_list+Q_EC_127Xe, fp=sigma_border_temp)\n",
    "#sigma_more5_1 = np.interp(Energy_all_fluxes, xp=p_list+Q_EC_76As, fp=sigma_more5_temp1)"
   ]
  },
  {
   "cell_type": "code",
   "execution_count": 72,
   "metadata": {},
   "outputs": [
    {
     "data": {
      "image/png": "[encoded data removed]",
      "text/plain": [
       "<matplotlib.figure.Figure at 0x23314b02cc0>"
      ]
     },
     "metadata": {},
     "output_type": "display_data"
    }
   ],
   "source": [
    "plt.figure(figsize=(10,6))\n",
    "#plt.plot(Energy_all_fluxes, sigma_best_fit_full, ls=':', c='r', label='cross-section with only best_fit_full')\n",
    "#plt.plot(Energy_all_fluxes, sigma_best_fit_Sn, ls=':', c='orange', label='cross-section with only best_fit_Sn')\n",
    "plt.plot(Energy_all_fluxes, sigma_no_border_full, ls=':', c='black', \n",
    "         label='no Sn')\n",
    "plt.plot(Energy_all_fluxes, sigma_border_full, ls='-', c='k', \n",
    "         label='with Sn')\n",
    "plt.xlabel('$E_{nu}$ (MeV)', fontsize=14)\n",
    "plt.ylabel('$\\mathbf{\\sigma} \\quad ( 10^{-44} \\quad cm^2)$', fontsize=14)\n",
    "\n",
    "plt.yscale('log')\n",
    "plt.legend(fontsize=13)\n",
    "#plt.grid(True, which=\"both\",ls=\"-\", color='0.8')\n",
    "plt.ylim(10**(-1), 10**(6))\n",
    "plt.xticks(np.arange(0,21))\n",
    "plt.tick_params(labelsize=13)\n",
    "#plt.title('Сечение с учетом только дискретных состояний')\n",
    "\n",
    "#plt.savefig('cross_section_best_fit_5_Sn_norm19.png', format='png', dpi=500)"
   ]
  },
  {
   "cell_type": "markdown",
   "metadata": {},
   "source": [
    "SNU с Sn"
   ]
  },
  {
   "cell_type": "code",
   "execution_count": 73,
   "metadata": {},
   "outputs": [
    {
     "data": {
      "text/plain": [
       "{'Be': 0.3082293572815671,\n",
       " 'Total': 42.11957637706907,\n",
       " 'b8': 41.435691794689895,\n",
       " 'f17': 0.0017768671739810291,\n",
       " 'hep': 0.17715348581421464,\n",
       " 'n13': 0.016793521200135397,\n",
       " 'name': 'test1',\n",
       " 'o15': 0.06981219979904106,\n",
       " 'pep': 0.1101191511102414,\n",
       " 'pp': 0.0}"
      ]
     },
     "execution_count": 73,
     "metadata": {},
     "output_type": "execute_result"
    }
   ],
   "source": [
    "rate_calc(sigma_border_full, BS05OP_flux, Energy_all_fluxes, step_all_fluxes,)"
   ]
  },
  {
   "cell_type": "markdown",
   "metadata": {},
   "source": [
    "SNU без Sn"
   ]
  },
  {
   "cell_type": "code",
   "execution_count": 74,
   "metadata": {},
   "outputs": [
    {
     "data": {
      "text/plain": [
       "{'Be': 0.3082293572815671,\n",
       " 'Total': 49.773405726857405,\n",
       " 'b8': 48.979480264850515,\n",
       " 'f17': 0.0017768671739810291,\n",
       " 'hep': 0.2871943654419273,\n",
       " 'n13': 0.016793521200135397,\n",
       " 'name': 'test1',\n",
       " 'o15': 0.06981219979904106,\n",
       " 'pep': 0.1101191511102414,\n",
       " 'pp': 0.0}"
      ]
     },
     "execution_count": 74,
     "metadata": {},
     "output_type": "execute_result"
    }
   ],
   "source": [
    "rate_calc(sigma_no_border_full, BS05OP_flux, Energy_all_fluxes, step_all_fluxes,)"
   ]
  },
  {
   "cell_type": "code",
   "execution_count": null,
   "metadata": {
    "collapsed": true
   },
   "outputs": [],
   "source": []
  },
  {
   "cell_type": "markdown",
   "metadata": {},
   "source": [
    "### данные из графика BGT"
   ]
  },
  {
   "cell_type": "code",
   "execution_count": 75,
   "metadata": {
    "collapsed": true
   },
   "outputs": [],
   "source": [
    "bgt_full = pd.read_csv('../B(GT) peaks processing/recognition/Xe127/1999_bgt_full.csv', \n",
    "                      sep=';', decimal=',', names=['x', 'y'])\n",
    "bgt_0_5 = pd.read_csv('../B(GT) peaks processing/recognition/Xe127/1999_bgt_0_5l.csv', \n",
    "                      sep=';', decimal=',', names=['x', 'y'])"
   ]
  },
  {
   "cell_type": "code",
   "execution_count": 76,
   "metadata": {},
   "outputs": [
    {
     "data": {
      "image/png": "[encoded data removed]",
      "text/plain": [
       "<matplotlib.figure.Figure at 0x23314a59908>"
      ]
     },
     "metadata": {},
     "output_type": "display_data"
    }
   ],
   "source": [
    "bgt = bgt_0_5.append(bgt_full[bgt_full['x']>5])\n",
    "\n",
    "plt.figure(figsize=(9,6))\n",
    "plt.plot(bgt['x'].values, bgt['y'].values)\n",
    "plt.xlim(0,20)\n",
    "plt.ylim(0,0.7)\n",
    "plt.show()"
   ]
  },
  {
   "cell_type": "code",
   "execution_count": 77,
   "metadata": {},
   "outputs": [
    {
     "data": {
      "text/plain": [
       "5.463277472256921"
      ]
     },
     "execution_count": 77,
     "metadata": {},
     "output_type": "execute_result"
    }
   ],
   "source": [
    "trapz(bgt['y'].values, bgt['x'].values)"
   ]
  },
  {
   "cell_type": "code",
   "execution_count": 78,
   "metadata": {},
   "outputs": [
    {
     "data": {
      "text/plain": [
       "(0, 7)"
      ]
     },
     "execution_count": 78,
     "metadata": {},
     "output_type": "execute_result"
    },
    {
     "data": {
      "image/png": "[encoded data removed]",
      "text/plain": [
       "<matplotlib.figure.Figure at 0x23319433dd8>"
      ]
     },
     "metadata": {},
     "output_type": "display_data"
    }
   ],
   "source": [
    "y_bgt = bgt['y'].values / trapz(bgt['y'].values, bgt['x'].values) \\\n",
    "* total_GT\n",
    "y_bgt_border = border_func(bgt['x'].values, y_bgt, S_n)\n",
    "\n",
    "\n",
    "plt.plot(best_fit['Ex, MeV'].values, y)\n",
    "plt.plot(bgt['x'].values, y_bgt, )\n",
    "plt.xlabel('$E_{x}$, MeV', fontsize=14)\n",
    "plt.ylabel('S(E), 1/MeV', fontsize=14)\n",
    "plt.xlim(0,20)\n",
    "plt.ylim(0,7)\n",
    "#plt.savefig('S_E_func_76Ge.png', format='png', dpi=400)\n"
   ]
  },
  {
   "cell_type": "code",
   "execution_count": 79,
   "metadata": {
    "collapsed": true
   },
   "outputs": [],
   "source": [
    "sigma_bgt_no_border_temp = [cross_sec(0,p, sigma_k_GTR, bgt['x'].values, y_bgt, 200) for p in p_list]\n",
    "\n",
    "sigma_bgt_no_border_full = np.interp(Energy_all_fluxes, xp=p_list+Q_EC_127Xe, fp=sigma_bgt_no_border_temp)\n",
    "#sigma_more5_1 = np.interp(Energy_all_fluxes, xp=p_list+Q_EC_76As, fp=sigma_more5_temp1)"
   ]
  },
  {
   "cell_type": "code",
   "execution_count": 80,
   "metadata": {
    "collapsed": true
   },
   "outputs": [],
   "source": [
    "sigma_bgt_border_temp = [cross_sec(0,p, sigma_k_GTR, bgt['x'].values, y_bgt_border, 200) for p in p_list]\n",
    "\n",
    "sigma_bgt_border_full = np.interp(Energy_all_fluxes, xp=p_list+Q_EC_127Xe, fp=sigma_bgt_border_temp)\n",
    "#sigma_more5_1 = np.interp(Energy_all_fluxes, xp=p_list+Q_EC_76As, fp=sigma_more5_temp1)"
   ]
  },
  {
   "cell_type": "markdown",
   "metadata": {},
   "source": [
    "### BS05OP"
   ]
  },
  {
   "cell_type": "code",
   "execution_count": 81,
   "metadata": {},
   "outputs": [
    {
     "data": {
      "text/plain": [
       "{'Be': 2.9212454461204795,\n",
       " 'Total': 30.30333248680226,\n",
       " 'b8': 25.70856975850676,\n",
       " 'f17': 0.014034302708537179,\n",
       " 'hep': 0.10864040126664977,\n",
       " 'n13': 0.16693835671447224,\n",
       " 'name': 'test1',\n",
       " 'o15': 0.553607016385992,\n",
       " 'pep': 0.8302972050993707,\n",
       " 'pp': 0.0}"
      ]
     },
     "execution_count": 81,
     "metadata": {},
     "output_type": "execute_result"
    }
   ],
   "source": [
    "rate_calc(sigma_bgt_border_full, BS05OP_flux, Energy_all_fluxes, step_all_fluxes,)"
   ]
  },
  {
   "cell_type": "code",
   "execution_count": 82,
   "metadata": {},
   "outputs": [
    {
     "data": {
      "text/plain": [
       "{'Be': 2.9212454461204795,\n",
       " 'Total': 35.60079465787901,\n",
       " 'b8': 30.922363293771188,\n",
       " 'f17': 0.014034302708537179,\n",
       " 'hep': 0.1923090370789622,\n",
       " 'n13': 0.16693835671447224,\n",
       " 'name': 'test1',\n",
       " 'o15': 0.553607016385992,\n",
       " 'pep': 0.8302972050993707,\n",
       " 'pp': 0.0}"
      ]
     },
     "execution_count": 82,
     "metadata": {},
     "output_type": "execute_result"
    }
   ],
   "source": [
    "rate_calc(sigma_bgt_no_border_full, BS05OP_flux, Energy_all_fluxes, step_all_fluxes,)"
   ]
  },
  {
   "cell_type": "markdown",
   "metadata": {},
   "source": [
    "### BP98"
   ]
  },
  {
   "cell_type": "code",
   "execution_count": 83,
   "metadata": {},
   "outputs": [
    {
     "data": {
      "text/plain": [
       "{'Be': 2.8971029217723765,\n",
       " 'Total': 28.615593468275,\n",
       " 'b8': 23.268740642585207,\n",
       " 'f17': 0.015211838381000056,\n",
       " 'hep': 0.028769841445140543,\n",
       " 'n13': 0.3289827550887808,\n",
       " 'name': 'test1',\n",
       " 'o15': 1.264029754151707,\n",
       " 'pep': 0.8127557148507923,\n",
       " 'pp': 0.0}"
      ]
     },
     "execution_count": 83,
     "metadata": {},
     "output_type": "execute_result"
    }
   ],
   "source": [
    "rate_calc(sigma_bgt_border_full, BP98_flux, Energy_all_fluxes, step_all_fluxes, \n",
    "          func_pep_ampl=BP98_pep, func_Be_ampl=BP98_Be,)"
   ]
  },
  {
   "cell_type": "code",
   "execution_count": 84,
   "metadata": {},
   "outputs": [
    {
     "data": {
      "text/plain": [
       "{'Be': 2.8971029217723765,\n",
       " 'Total': 33.35673747687293,\n",
       " 'b8': 27.987727761497652,\n",
       " 'f17': 0.015211838381000056,\n",
       " 'hep': 0.0509267311306205,\n",
       " 'n13': 0.3289827550887808,\n",
       " 'name': 'test1',\n",
       " 'o15': 1.264029754151707,\n",
       " 'pep': 0.8127557148507923,\n",
       " 'pp': 0.0}"
      ]
     },
     "execution_count": 84,
     "metadata": {},
     "output_type": "execute_result"
    }
   ],
   "source": [
    "rate_calc(sigma_bgt_no_border_full, BP98_flux, Energy_all_fluxes, step_all_fluxes, \n",
    "          func_pep_ampl=BP98_pep, func_Be_ampl=BP98_Be,)"
   ]
  },
  {
   "cell_type": "markdown",
   "metadata": {},
   "source": [
    "### BP98 OPAL92"
   ]
  },
  {
   "cell_type": "code",
   "execution_count": 85,
   "metadata": {},
   "outputs": [
    {
     "data": {
      "text/plain": [
       "{'Be': 2.9816017569907376,\n",
       " 'Total': 30.06911709768898,\n",
       " 'b8': 24.57901924187641,\n",
       " 'f17': 0.015836653227613014,\n",
       " 'hep': 0.028495842955186822,\n",
       " 'n13': 0.3398582180669223,\n",
       " 'name': 'test1',\n",
       " 'o15': 1.31154966972132,\n",
       " 'pep': 0.8127557148507923,\n",
       " 'pp': 0.0}"
      ]
     },
     "execution_count": 85,
     "metadata": {},
     "output_type": "execute_result"
    }
   ],
   "source": [
    "rate_calc(sigma_bgt_border_full, BP98_OPAL92_flux, Energy_all_fluxes, step_all_fluxes, \n",
    "          func_pep_ampl=BP98_OPAL92_pep, func_Be_ampl=BP98_OPAL92_Be,)"
   ]
  },
  {
   "cell_type": "code",
   "execution_count": 86,
   "metadata": {},
   "outputs": [
    {
     "data": {
      "text/plain": [
       "{'Be': 2.9816017569907376,\n",
       " 'Total': 35.075779460034475,\n",
       " 'b8': 29.563735732533434,\n",
       " 'f17': 0.015836653227613014,\n",
       " 'hep': 0.05044171464366222,\n",
       " 'n13': 0.3398582180669223,\n",
       " 'name': 'test1',\n",
       " 'o15': 1.31154966972132,\n",
       " 'pep': 0.8127557148507923,\n",
       " 'pp': 0.0}"
      ]
     },
     "execution_count": 86,
     "metadata": {},
     "output_type": "execute_result"
    }
   ],
   "source": [
    "rate_calc(sigma_bgt_no_border_full, BP98_OPAL92_flux, Energy_all_fluxes, step_all_fluxes, \n",
    "          func_pep_ampl=BP98_OPAL92_pep, func_Be_ampl=BP98_OPAL92_Be,)"
   ]
  },
  {
   "cell_type": "markdown",
   "metadata": {},
   "source": [
    "### B16-GS98 (hight metallicity)"
   ]
  },
  {
   "cell_type": "code",
   "execution_count": 87,
   "metadata": {},
   "outputs": [
    {
     "data": {
      "text/plain": [
       "{'Be': 2.9755661259037116,\n",
       " 'Total': 29.2472269875131,\n",
       " 'b8': 24.669383283206844,\n",
       " 'f17': 0.01271257899454823,\n",
       " 'hep': 0.10932539749153407,\n",
       " 'n13': 0.15116893539616705,\n",
       " 'name': 'test1',\n",
       " 'o15': 0.48707913458853364,\n",
       " 'pep': 0.8419915319317562,\n",
       " 'pp': 0.0}"
      ]
     },
     "execution_count": 87,
     "metadata": {},
     "output_type": "execute_result"
    }
   ],
   "source": [
    "rate_calc(sigma_bgt_border_full, B16_GS98_flux, Energy_all_fluxes, step_all_fluxes, \n",
    "          func_pep_ampl=B16_GS98_pep, func_Be_ampl=B16_GS98_Be,)"
   ]
  },
  {
   "cell_type": "markdown",
   "metadata": {},
   "source": [
    "###  B16-AGSS09met (low metallicity)"
   ]
  },
  {
   "cell_type": "code",
   "execution_count": 88,
   "metadata": {},
   "outputs": [
    {
     "data": {
      "text/plain": [
       "{'Be': 2.7160339891616028,\n",
       " 'Total': 24.475560855779122,\n",
       " 'b8': 20.331909299346297,\n",
       " 'f17': 0.0078342169229163,\n",
       " 'hep': 0.11302437710590928,\n",
       " 'n13': 0.11092972237704345,\n",
       " 'name': 'test1',\n",
       " 'o15': 0.34214339210121386,\n",
       " 'pep': 0.8536858587641417,\n",
       " 'pp': 0.0}"
      ]
     },
     "execution_count": 88,
     "metadata": {},
     "output_type": "execute_result"
    }
   ],
   "source": [
    "rate_calc(sigma_bgt_border_full, B16_AGSS09met_flux, Energy_all_fluxes, step_all_fluxes, \n",
    "          func_pep_ampl=B16_AGSS09met_pep, func_Be_ampl=B16_AGSS09met_Be,)"
   ]
  },
  {
   "cell_type": "code",
   "execution_count": 93,
   "metadata": {},
   "outputs": [],
   "source": [
    "no11 = rate_calc(sigma_bgt_border_full, BS05OP_flux, Energy_all_fluxes, \n",
    "                step_all_fluxes, name='BS05OP with neutron separation')\n",
    "\n",
    "no22 = rate_calc(sigma_bgt_no_border_full, BS05OP_flux, Energy_all_fluxes, \n",
    "                step_all_fluxes, name='BS05OP without neutron separation')\n",
    "\n",
    "no33 = rate_calc(sigma_bgt_border_full, B16_GS98_flux, Energy_all_fluxes, \n",
    "                step_all_fluxes, name='B16-GS98 (hight metallicity) with neutron separation')\n",
    "\n",
    "no44 = rate_calc(sigma_bgt_border_full, B16_AGSS09met_flux, Energy_all_fluxes, \n",
    "                step_all_fluxes, name='B16-AGSS09met (low metallicity) with neutron separation')\n",
    "\n"
   ]
  },
  {
   "cell_type": "code",
   "execution_count": 95,
   "metadata": {},
   "outputs": [
    {
     "data": {
      "text/html": [
       "<div>\n",
       "<style>\n",
       "    .dataframe thead tr:only-child th {\n",
       "        text-align: right;\n",
       "    }\n",
       "\n",
       "    .dataframe thead th {\n",
       "        text-align: left;\n",
       "    }\n",
       "\n",
       "    .dataframe tbody tr th {\n",
       "        vertical-align: top;\n",
       "    }\n",
       "</style>\n",
       "<table border=\"1\" class=\"dataframe\">\n",
       "  <thead>\n",
       "    <tr style=\"text-align: right;\">\n",
       "      <th></th>\n",
       "      <th>name</th>\n",
       "      <th>Be</th>\n",
       "      <th>f17</th>\n",
       "      <th>b8</th>\n",
       "      <th>n13</th>\n",
       "      <th>pep</th>\n",
       "      <th>o15</th>\n",
       "      <th>hep</th>\n",
       "      <th>pp</th>\n",
       "      <th>Total</th>\n",
       "    </tr>\n",
       "  </thead>\n",
       "  <tbody>\n",
       "    <tr>\n",
       "      <th>0</th>\n",
       "      <td>BS05OP with neutron separation</td>\n",
       "      <td>2.921</td>\n",
       "      <td>0.014</td>\n",
       "      <td>25.709</td>\n",
       "      <td>0.167</td>\n",
       "      <td>0.83</td>\n",
       "      <td>0.554</td>\n",
       "      <td>0.109</td>\n",
       "      <td>0.0</td>\n",
       "      <td>30.303</td>\n",
       "    </tr>\n",
       "    <tr>\n",
       "      <th>1</th>\n",
       "      <td>BS05OP without neutron separation</td>\n",
       "      <td>2.921</td>\n",
       "      <td>0.014</td>\n",
       "      <td>30.922</td>\n",
       "      <td>0.167</td>\n",
       "      <td>0.83</td>\n",
       "      <td>0.554</td>\n",
       "      <td>0.192</td>\n",
       "      <td>0.0</td>\n",
       "      <td>35.601</td>\n",
       "    </tr>\n",
       "    <tr>\n",
       "      <th>2</th>\n",
       "      <td>B16-GS98 (hight metallicity) with neutron sepa...</td>\n",
       "      <td>2.921</td>\n",
       "      <td>0.013</td>\n",
       "      <td>24.669</td>\n",
       "      <td>0.151</td>\n",
       "      <td>0.83</td>\n",
       "      <td>0.487</td>\n",
       "      <td>0.109</td>\n",
       "      <td>0.0</td>\n",
       "      <td>29.181</td>\n",
       "    </tr>\n",
       "    <tr>\n",
       "      <th>3</th>\n",
       "      <td>B16-AGSS09met (low metallicity) with neutron s...</td>\n",
       "      <td>2.921</td>\n",
       "      <td>0.008</td>\n",
       "      <td>20.332</td>\n",
       "      <td>0.111</td>\n",
       "      <td>0.83</td>\n",
       "      <td>0.342</td>\n",
       "      <td>0.113</td>\n",
       "      <td>0.0</td>\n",
       "      <td>24.657</td>\n",
       "    </tr>\n",
       "  </tbody>\n",
       "</table>\n",
       "</div>"
      ],
      "text/plain": [
       "                                                name     Be    f17      b8  \\\n",
       "0                     BS05OP with neutron separation  2.921  0.014  25.709   \n",
       "1                  BS05OP without neutron separation  2.921  0.014  30.922   \n",
       "2  B16-GS98 (hight metallicity) with neutron sepa...  2.921  0.013  24.669   \n",
       "3  B16-AGSS09met (low metallicity) with neutron s...  2.921  0.008  20.332   \n",
       "\n",
       "     n13   pep    o15    hep   pp   Total  \n",
       "0  0.167  0.83  0.554  0.109  0.0  30.303  \n",
       "1  0.167  0.83  0.554  0.192  0.0  35.601  \n",
       "2  0.151  0.83  0.487  0.109  0.0  29.181  \n",
       "3  0.111  0.83  0.342  0.113  0.0  24.657  "
      ]
     },
     "execution_count": 95,
     "metadata": {},
     "output_type": "execute_result"
    }
   ],
   "source": [
    "output_table0 = pd.DataFrame(data=[], columns=['name','Be', 'f17', 'b8', 'n13', 'pep', 'o15', 'hep', \n",
    "                                              'pp',  'Total'])\n",
    "\n",
    "for elem in [no11, no22, no33, no44] : \n",
    "    output_table0 = output_table0.append(elem, ignore_index=True)\n",
    "    \n",
    "for elem in ['Be', 'f17', 'b8', 'n13', 'pep', 'o15', 'hep', 'pp',  'Total']:\n",
    "    output_table0[elem] = output_table0[elem].round(3)\n",
    "output_table0"
   ]
  },
  {
   "cell_type": "code",
   "execution_count": 96,
   "metadata": {
    "collapsed": true
   },
   "outputs": [],
   "source": [
    "output_table0.to_excel('models_comparison.xls')"
   ]
  },
  {
   "cell_type": "code",
   "execution_count": null,
   "metadata": {
    "collapsed": true
   },
   "outputs": [],
   "source": []
  },
  {
   "cell_type": "code",
   "execution_count": null,
   "metadata": {
    "collapsed": true
   },
   "outputs": [],
   "source": []
  },
  {
   "cell_type": "code",
   "execution_count": null,
   "metadata": {
    "collapsed": true
   },
   "outputs": [],
   "source": []
  },
  {
   "cell_type": "code",
   "execution_count": null,
   "metadata": {
    "collapsed": true
   },
   "outputs": [],
   "source": []
  },
  {
   "cell_type": "code",
   "execution_count": null,
   "metadata": {
    "collapsed": true
   },
   "outputs": [],
   "source": []
  },
  {
   "cell_type": "markdown",
   "metadata": {},
   "source": [
    "## Матричные элементы от ЮС"
   ]
  },
  {
   "cell_type": "code",
   "execution_count": 227,
   "metadata": {},
   "outputs": [
    {
     "data": {
      "text/plain": [
       "82.97"
      ]
     },
     "execution_count": 227,
     "metadata": {},
     "output_type": "execute_result"
    }
   ],
   "source": [
    "En = np.array([0.2, 0.54, 1.58, 1.97, 2.76, 3.08, 3.45, 6.0, 8.34, 14.8, 20.59, 20.94, \\\n",
    "               21.09, 21.22, 29.70])\n",
    "\n",
    "Mn = 2*np.array([0.0025, 0.0025, 0.01, 0.01, 0.02, 0.10, 0.01, 0.2, 1.2, 30.8, 0.5, 0.8, \\\n",
    "               0.5, 1.03, 6.3])\n",
    "\n",
    "np.sum(Mn)"
   ]
  },
  {
   "cell_type": "code",
   "execution_count": 228,
   "metadata": {},
   "outputs": [
    {
     "name": "stdout",
     "output_type": "stream",
     "text": [
      "0.005\n",
      "0.005\n",
      "0.02\n",
      "0.02\n",
      "0.04\n",
      "0.2\n",
      "0.02\n",
      "0.4\n",
      "2.4\n",
      "61.6\n",
      "1.0\n",
      "1.6\n",
      "1.0\n",
      "2.06\n",
      "12.6\n"
     ]
    }
   ],
   "source": [
    "for i in Mn: print(i)"
   ]
  },
  {
   "cell_type": "code",
   "execution_count": 229,
   "metadata": {
    "collapsed": true
   },
   "outputs": [],
   "source": [
    "def breit_vigner3(x, M, w,  G1):\n",
    "    G = G1\n",
    "    y = M * (G**1) * (1-np.exp(-(x/G)**2) ) / ((x - w)**2 + (G**2)/1)\n",
    "    return np.round(y, decimals=5) #округляем чтобы убрать неустойчивость расчета изза хвостов\n",
    "\n",
    "Ex = np.arange(0,40,0.01)\n",
    "w = En\n",
    "M_square = Mn\n",
    "alpha = 0.018\n",
    "\n",
    "\n",
    "norm_factors = []\n",
    "for w_i,M_i in zip(w, M_square):\n",
    "    y_values = breit_vigner3(Ex, 1, w_i, alpha*w_i**2)\n",
    "    norm_factors.append(trapz(y_values, Ex))"
   ]
  },
  {
   "cell_type": "code",
   "execution_count": 230,
   "metadata": {
    "collapsed": true
   },
   "outputs": [],
   "source": [
    "plots = np.zeros((w.shape[0], Ex.shape[0]))\n",
    "for idx, w_i, M_i, norm_i in zip(range(w.shape[0]), w, M_square, norm_factors):\n",
    "    amplitude = M_i / norm_i\n",
    "    y_values = breit_vigner3(Ex, amplitude, w_i, alpha*w_i**2)\n",
    "    plots[idx] = y_values\n",
    "    \n",
    "summ = np.sum(plots, axis=0)"
   ]
  },
  {
   "cell_type": "code",
   "execution_count": 231,
   "metadata": {},
   "outputs": [
    {
     "data": {
      "image/png": "[encoded data removed]",
      "text/plain": [
       "<Figure size 720x360 with 1 Axes>"
      ]
     },
     "metadata": {},
     "output_type": "display_data"
    }
   ],
   "source": [
    "plt.figure(figsize=(10,5))\n",
    "plt.ylim(0,8)\n",
    "for elem in plots:\n",
    "    plt.plot(Ex, elem, ls=':')\n",
    "plt.plot(Ex, summ)\n",
    "plt.show()"
   ]
  },
  {
   "cell_type": "code",
   "execution_count": 232,
   "metadata": {},
   "outputs": [
    {
     "data": {
      "image/png": "[encoded data removed]",
      "text/plain": [
       "<Figure size 720x360 with 1 Axes>"
      ]
     },
     "metadata": {},
     "output_type": "display_data"
    }
   ],
   "source": [
    "plt.figure(figsize=(10,5))\n",
    "plt.plot(best_fit['Ex, MeV'].values, y, label='best fit')\n",
    "plt.plot(bgt['x'].values, y_bgt, label='bgt values')\n",
    "plt.plot(Ex, summ, label='matrix elements')\n",
    "plt.xlabel('$E_{x}$, MeV', fontsize=14)\n",
    "plt.ylabel('S(E), 1/MeV', fontsize=14)\n",
    "plt.axvline(S_n)\n",
    "plt.xlim(0,20)\n",
    "plt.ylim(0,7)\n",
    "plt.legend()\n",
    "plt.show()"
   ]
  },
  {
   "cell_type": "code",
   "execution_count": null,
   "metadata": {
    "collapsed": true
   },
   "outputs": [],
   "source": []
  },
  {
   "cell_type": "code",
   "execution_count": 233,
   "metadata": {},
   "outputs": [
    {
     "data": {
      "image/png": "[encoded data removed]",
      "text/plain": [
       "<Figure size 432x288 with 1 Axes>"
      ]
     },
     "metadata": {},
     "output_type": "display_data"
    }
   ],
   "source": [
    "summ_border = border_func(Ex, summ, S_n)\n",
    "summ_noGTR = summ - plots[9]\n",
    "summ_noGTR_border = border_func(Ex, summ_noGTR, S_n)\n",
    "summ_noGTR_PR1 = summ_noGTR - plots[8]\n",
    "summ_noGTR_PR1_border = border_func(Ex, summ_noGTR_PR1, S_n)\n",
    "\n",
    "plt.plot(Ex, summ, label='total')\n",
    "plt.plot(Ex, summ_noGTR, label='no GTR')\n",
    "plt.plot(Ex, summ_noGTR_PR1, label='no GTR, PR1')\n",
    "plt.legend()\n",
    "plt.show()"
   ]
  },
  {
   "cell_type": "markdown",
   "metadata": {},
   "source": [
    "### total"
   ]
  },
  {
   "cell_type": "code",
   "execution_count": 234,
   "metadata": {
    "collapsed": true
   },
   "outputs": [],
   "source": [
    "sigma_matr_no_border_temp = [cross_sec(0,p, sigma_k_GTR, Ex, summ, 200) for p in p_list]\n",
    "\n",
    "sigma_matr_no_border_full = np.interp(Energy_all_fluxes, xp=p_list+Q_EC_127Xe, fp=sigma_matr_no_border_temp)\n",
    "#sigma_more5_1 = np.interp(Energy_all_fluxes, xp=p_list+Q_EC_76As, fp=sigma_more5_temp1)\n",
    "\n",
    "sigma_matr_border_temp = [cross_sec(0,p, sigma_k_GTR, Ex, summ_border, 200) for p in p_list]\n",
    "\n",
    "sigma_matr_border_full = np.interp(Energy_all_fluxes, xp=p_list+Q_EC_127Xe, fp=sigma_matr_border_temp)\n",
    "#sigma_more5_1 = np.interp(Energy_all_fluxes, xp=p_list+Q_EC_76As, fp=sigma_more5_temp1)"
   ]
  },
  {
   "cell_type": "code",
   "execution_count": 235,
   "metadata": {},
   "outputs": [
    {
     "data": {
      "text/plain": [
       "{'Be': 0.5520965032485099,\n",
       " 'Total': 30.88770833211092,\n",
       " 'b8': 29.648240259524307,\n",
       " 'f17': 0.004946369547638845,\n",
       " 'hep': 0.1285154951315364,\n",
       " 'n13': 0.04149181942967412,\n",
       " 'name': 'test1',\n",
       " 'o15': 0.19461062158959183,\n",
       " 'pep': 0.31780726363965894,\n",
       " 'pp': 0.0}"
      ]
     },
     "execution_count": 235,
     "metadata": {},
     "output_type": "execute_result"
    }
   ],
   "source": [
    "### BS05OP\n",
    "rate_calc(sigma_matr_border_full, BS05OP_flux, Energy_all_fluxes, step_all_fluxes,)"
   ]
  },
  {
   "cell_type": "code",
   "execution_count": 236,
   "metadata": {},
   "outputs": [
    {
     "data": {
      "text/plain": [
       "{'Be': 0.5520965032485099,\n",
       " 'Total': 36.424556428590456,\n",
       " 'b8': 35.09475511224902,\n",
       " 'f17': 0.004946369547638845,\n",
       " 'hep': 0.21884873888637188,\n",
       " 'n13': 0.04149181942967412,\n",
       " 'name': 'test1',\n",
       " 'o15': 0.19461062158959183,\n",
       " 'pep': 0.31780726363965894,\n",
       " 'pp': 0.0}"
      ]
     },
     "execution_count": 236,
     "metadata": {},
     "output_type": "execute_result"
    }
   ],
   "source": [
    "rate_calc(sigma_matr_no_border_full, BS05OP_flux, Energy_all_fluxes, step_all_fluxes,)"
   ]
  },
  {
   "cell_type": "markdown",
   "metadata": {},
   "source": [
    "### no GTR"
   ]
  },
  {
   "cell_type": "code",
   "execution_count": 237,
   "metadata": {
    "collapsed": true
   },
   "outputs": [],
   "source": [
    "sigma_matr_noGTR_no_border_temp = [cross_sec(0,p, sigma_k_GTR, Ex, summ_noGTR, 200) for p in p_list]\n",
    "\n",
    "sigma_matr_noGTR_no_border_full = np.interp(Energy_all_fluxes, xp=p_list+Q_EC_127Xe, \n",
    "                                      fp=sigma_matr_noGTR_no_border_temp)\n",
    "#sigma_more5_1 = np.interp(Energy_all_fluxes, xp=p_list+Q_EC_76As, fp=sigma_more5_temp1)\n",
    "\n",
    "sigma_matr_noGTR_border_temp = [cross_sec(0,p, sigma_k_GTR, Ex, summ_noGTR_border, 200) for p in p_list]\n",
    "\n",
    "sigma_matr_noGTR_border_full = np.interp(Energy_all_fluxes, xp=p_list+Q_EC_127Xe, \n",
    "                                         fp=sigma_matr_noGTR_border_temp)\n",
    "#sigma_more5_1 = np.interp(Energy_all_fluxes, xp=p_list+Q_EC_76As, fp=sigma_more5_temp1)"
   ]
  },
  {
   "cell_type": "code",
   "execution_count": 238,
   "metadata": {},
   "outputs": [
    {
     "data": {
      "text/plain": [
       "{'Be': 0.5351133343570651,\n",
       " 'Total': 11.197901984658339,\n",
       " 'b8': 10.150069699635702,\n",
       " 'f17': 0.0041747850289859815,\n",
       " 'hep': 0.0414999515201749,\n",
       " 'n13': 0.03892787526322647,\n",
       " 'name': 'test1',\n",
       " 'o15': 0.16448217687501793,\n",
       " 'pep': 0.26363416197816636,\n",
       " 'pp': 0.0}"
      ]
     },
     "execution_count": 238,
     "metadata": {},
     "output_type": "execute_result"
    }
   ],
   "source": [
    "### BS05OP\n",
    "rate_calc(sigma_matr_noGTR_border_full, BS05OP_flux, Energy_all_fluxes, step_all_fluxes,)"
   ]
  },
  {
   "cell_type": "code",
   "execution_count": 239,
   "metadata": {},
   "outputs": [
    {
     "data": {
      "text/plain": [
       "{'Be': 0.5351133343570651,\n",
       " 'Total': 12.730907444697582,\n",
       " 'b8': 11.66383194950737,\n",
       " 'f17': 0.0041747850289859815,\n",
       " 'hep': 0.06074316168775053,\n",
       " 'n13': 0.03892787526322647,\n",
       " 'name': 'test1',\n",
       " 'o15': 0.16448217687501793,\n",
       " 'pep': 0.26363416197816636,\n",
       " 'pp': 0.0}"
      ]
     },
     "execution_count": 239,
     "metadata": {},
     "output_type": "execute_result"
    }
   ],
   "source": [
    "rate_calc(sigma_matr_noGTR_no_border_full, BS05OP_flux, Energy_all_fluxes, step_all_fluxes,)"
   ]
  },
  {
   "cell_type": "markdown",
   "metadata": {},
   "source": [
    "### no GTR no PR1"
   ]
  },
  {
   "cell_type": "code",
   "execution_count": 240,
   "metadata": {
    "collapsed": true
   },
   "outputs": [],
   "source": [
    "sigma_matr_noGTR_noPR1_no_border_temp = [cross_sec(0,p, sigma_k_GTR, Ex, summ_noGTR_PR1, 200) for p in p_list]\n",
    "\n",
    "sigma_matr_noGTR_noPR1_no_border_full = np.interp(Energy_all_fluxes, xp=p_list+Q_EC_127Xe, \n",
    "                                      fp=sigma_matr_noGTR_noPR1_no_border_temp)\n",
    "#sigma_more5_1 = np.interp(Energy_all_fluxes, xp=p_list+Q_EC_76As, fp=sigma_more5_temp1)\n",
    "\n",
    "sigma_matr_noGTR_noPR1_border_temp = [cross_sec(0,p, sigma_k_GTR, Ex, summ_noGTR_PR1_border, 200) for p in p_list]\n",
    "\n",
    "sigma_matr_noGTR_noPR1_border_full = np.interp(Energy_all_fluxes, xp=p_list+Q_EC_127Xe, \n",
    "                                   fp=sigma_matr_noGTR_noPR1_border_temp)\n",
    "#sigma_more5_1 = np.interp(Energy_all_fluxes, xp=p_list+Q_EC_76As, fp=sigma_more5_temp1)"
   ]
  },
  {
   "cell_type": "code",
   "execution_count": 241,
   "metadata": {},
   "outputs": [
    {
     "data": {
      "text/plain": [
       "{'Be': 0.5288827487276476,\n",
       " 'Total': 8.106908095937218,\n",
       " 'b8': 7.110437407263947,\n",
       " 'f17': 0.003901488427010761,\n",
       " 'hep': 0.02752729631417256,\n",
       " 'n13': 0.03798761847188926,\n",
       " 'name': 'test1',\n",
       " 'o15': 0.15380456598006217,\n",
       " 'pep': 0.24436697075248917,\n",
       " 'pp': 0.0}"
      ]
     },
     "execution_count": 241,
     "metadata": {},
     "output_type": "execute_result"
    }
   ],
   "source": [
    "### BS05OP\n",
    "rate_calc(sigma_matr_noGTR_noPR1_border_full, BS05OP_flux, Energy_all_fluxes, step_all_fluxes,)"
   ]
  },
  {
   "cell_type": "code",
   "execution_count": 242,
   "metadata": {},
   "outputs": [
    {
     "data": {
      "text/plain": [
       "{'Be': 0.5288827487276476,\n",
       " 'Total': 8.438681087834082,\n",
       " 'b8': 7.436838380762764,\n",
       " 'f17': 0.003901488427010761,\n",
       " 'hep': 0.03289931471221812,\n",
       " 'n13': 0.03798761847188926,\n",
       " 'name': 'test1',\n",
       " 'o15': 0.15380456598006217,\n",
       " 'pep': 0.24436697075248917,\n",
       " 'pp': 0.0}"
      ]
     },
     "execution_count": 242,
     "metadata": {},
     "output_type": "execute_result"
    }
   ],
   "source": [
    "rate_calc(sigma_matr_noGTR_noPR1_no_border_full, BS05OP_flux, Energy_all_fluxes, step_all_fluxes,)"
   ]
  },
  {
   "cell_type": "code",
   "execution_count": null,
   "metadata": {
    "collapsed": true
   },
   "outputs": [],
   "source": []
  },
  {
   "cell_type": "code",
   "execution_count": null,
   "metadata": {
    "collapsed": true
   },
   "outputs": [],
   "source": []
  },
  {
   "cell_type": "markdown",
   "metadata": {},
   "source": [
    "### to Lutostansky"
   ]
  },
  {
   "cell_type": "code",
   "execution_count": 243,
   "metadata": {},
   "outputs": [
    {
     "data": {
      "image/png": "[encoded data removed]",
      "text/plain": [
       "<Figure size 432x288 with 1 Axes>"
      ]
     },
     "metadata": {},
     "output_type": "display_data"
    }
   ],
   "source": [
    "Ex2 = np.arange(0,20,0.1)\n",
    "\n",
    "exp_power_func = np.interp(Ex2, best_fit['Ex, MeV'].values, y)\n",
    "bgt_digit = np.interp(Ex2, bgt['x'].values, y_bgt)\n",
    "\n",
    "plt.plot(Ex2, exp_power_func)\n",
    "plt.plot(Ex2, bgt_digit)\n",
    "plt.show()"
   ]
  },
  {
   "cell_type": "code",
   "execution_count": 244,
   "metadata": {
    "collapsed": true
   },
   "outputs": [],
   "source": [
    "output = pd.DataFrame(data={'Ex, MeV':Ex2,})\n",
    "output['Experimetal_spec'] = exp_power_func\n",
    "output['BGT_graph'] = bgt_digit\n",
    "#output.to_excel('127Xe_data.xls', index=False)"
   ]
  },
  {
   "cell_type": "code",
   "execution_count": 245,
   "metadata": {},
   "outputs": [
    {
     "data": {
      "text/html": [
       "<div>\n",
       "<style>\n",
       "    .dataframe thead tr:only-child th {\n",
       "        text-align: right;\n",
       "    }\n",
       "\n",
       "    .dataframe thead th {\n",
       "        text-align: left;\n",
       "    }\n",
       "\n",
       "    .dataframe tbody tr th {\n",
       "        vertical-align: top;\n",
       "    }\n",
       "</style>\n",
       "<table border=\"1\" class=\"dataframe\">\n",
       "  <thead>\n",
       "    <tr style=\"text-align: right;\">\n",
       "      <th></th>\n",
       "      <th>Ex, MeV</th>\n",
       "      <th>Experimetal_spec</th>\n",
       "      <th>BGT_graph</th>\n",
       "    </tr>\n",
       "  </thead>\n",
       "  <tbody>\n",
       "    <tr>\n",
       "      <th>0</th>\n",
       "      <td>0.0</td>\n",
       "      <td>0.005331</td>\n",
       "      <td>0.013527</td>\n",
       "    </tr>\n",
       "    <tr>\n",
       "      <th>1</th>\n",
       "      <td>0.1</td>\n",
       "      <td>0.005331</td>\n",
       "      <td>0.040147</td>\n",
       "    </tr>\n",
       "    <tr>\n",
       "      <th>2</th>\n",
       "      <td>0.2</td>\n",
       "      <td>0.005331</td>\n",
       "      <td>0.086733</td>\n",
       "    </tr>\n",
       "    <tr>\n",
       "      <th>3</th>\n",
       "      <td>0.3</td>\n",
       "      <td>0.005331</td>\n",
       "      <td>0.056785</td>\n",
       "    </tr>\n",
       "    <tr>\n",
       "      <th>4</th>\n",
       "      <td>0.4</td>\n",
       "      <td>0.006276</td>\n",
       "      <td>0.040192</td>\n",
       "    </tr>\n",
       "  </tbody>\n",
       "</table>\n",
       "</div>"
      ],
      "text/plain": [
       "   Ex, MeV  Experimetal_spec  BGT_graph\n",
       "0      0.0          0.005331   0.013527\n",
       "1      0.1          0.005331   0.040147\n",
       "2      0.2          0.005331   0.086733\n",
       "3      0.3          0.005331   0.056785\n",
       "4      0.4          0.006276   0.040192"
      ]
     },
     "execution_count": 245,
     "metadata": {},
     "output_type": "execute_result"
    }
   ],
   "source": [
    "output.head()"
   ]
  },
  {
   "cell_type": "code",
   "execution_count": 246,
   "metadata": {
    "collapsed": true
   },
   "outputs": [],
   "source": [
    "output.to_excel('127Xe_data.xls', index=False)"
   ]
  },
  {
   "cell_type": "code",
   "execution_count": null,
   "metadata": {
    "collapsed": true
   },
   "outputs": [],
   "source": []
  },
  {
   "cell_type": "code",
   "execution_count": null,
   "metadata": {
    "collapsed": true
   },
   "outputs": [],
   "source": []
  },
  {
   "cell_type": "code",
   "execution_count": 247,
   "metadata": {
    "collapsed": true
   },
   "outputs": [],
   "source": [
    "Et_53=[5,6,7,8,9,10,12,14,16,18,20,22,24,26,28,30,35,40,45,50,55,60,65,70,75,80,85,90,95,100,\n",
    "110,120,130,140,150,160,170,180,190,200,210,220,230,240,250,260,270,280,290,300,310,320,330,\n",
    "340,350,360,370,380,390,400,450,500,550,600,650,700,750,800,850,900,950,1000,1100,1200,1300,\n",
    "1400,1500,1600,1700,1800,1900,2000,2200,2400,2600,2800,3000,3200,3400,3600,3800,4000,4500,\n",
    "5000,5500,6000,7000,8000,9000,10000]"
   ]
  },
  {
   "cell_type": "code",
   "execution_count": 248,
   "metadata": {
    "collapsed": true
   },
   "outputs": [],
   "source": [
    "#for i in range(100):\n",
    "#    Et_53[i]=0.511+Et_53[i]/1000\n",
    "Ft_53=[43.66,39.89,36.97,34.61,32.67,31.02,28.37,26.31,24.66,23.29,22.18,21.14,20.27,19.51,\n",
    "18.83,18.22,16.94,15.91,15.06,14.35,13.75,13.22,12.76,12.35,11.99,11.66,11.37,11.10,10.85,\n",
    "10.62,10.22,9.879,9.577,9.310,9.074,8.862,8.671,8.498,8.340,8.196,8.063,7.940,7.827,7.721,\n",
    "7.622,7.530,7.443,7.362,7.385,7.212,7.144,7.079,7.017,6.958,6.902,6.848,6.797,6.748,6.701,\n",
    "6.656,6.456,6.289,6.147,6.024,5.916,5.820,5.734,5.656,5.584,5.518,5.457,5.400,5.296,5.203,\n",
    "5.119,5.043,4.973,4.908,4.848,4.791,4.733,4.687,4.594,4.508,4.428,4.354,4.284,4.218,4.156,\n",
    "4.096,4.040,3.985,3.858,3.741,3.633,3.532,3.346,3.191,3.054,2.926]"
   ]
  },
  {
   "cell_type": "code",
   "execution_count": 249,
   "metadata": {
    "collapsed": true
   },
   "outputs": [],
   "source": [
    "#Ft_53mod=[0 for i in range(102)]\n",
    "#for i in range(100):\n",
    "#    Ft_53mod[i+1]=Ft_53[i]*(Et_53[i])*((Et_53[i])2-0.511**2)(0.5)\n",
    "#Ft_53mod[0]=(Ft_53mod[1]-Ft_53mod[2])*5+Ft_53mod[1]\n",
    "#Ft_53mod[101]=Ft_53mod[100]-(Ft_53mod[99]-Ft_53mod[100])*10"
   ]
  },
  {
   "cell_type": "code",
   "execution_count": 250,
   "metadata": {
    "collapsed": true
   },
   "outputs": [],
   "source": [
    "#Et_53mod=[0,5,6,7,8,9,10,12,14,16,18,20,22,24,26,28,30,35,40,45,50,55,60,65,70,75,80,85,90,95,\n",
    "#100,110,120,130,140,150,160,170,180,190,200,210,220,230,240,250,260,270,280,290,300,310,320,\n",
    "#330,340,350,360,370,380,390,400,450,500,550,600,650,700,750,800,850,900,950,1000,1100,1200,\n",
    "#1300,1400,1500,1600,1700,1800,1900,2000,2200,2400,2600,2800,3000,3200,3400,3600,3800,4000,\n",
    "#4500,5000,5500,6000,7000,8000,9000,10000,20000]"
   ]
  },
  {
   "cell_type": "code",
   "execution_count": 251,
   "metadata": {
    "collapsed": true
   },
   "outputs": [],
   "source": [
    "#for i in range(102):\n",
    "#    Et_53mod[i]=0.511+Et_53mod[i]/1000\n",
    "#def F_53(E):\n",
    "#    return numpy.interp(E, Et_53, Ft_53)\n",
    "#def F_53mod(E):\n",
    "#    return numpy.interp(E, Et_53mod, Ft_53mod)"
   ]
  },
  {
   "cell_type": "code",
   "execution_count": 252,
   "metadata": {
    "collapsed": true
   },
   "outputs": [],
   "source": [
    "def Suslov_func(e_e):\n",
    "    #input энергия электрона в кэв\n",
    "    f = interp1d(x=Et_53, y=Ft_53, kind='linear', fill_value='extrapolate')\n",
    "#    return np.interp(x = e_e, xp = Et_53, \n",
    "#                     fp = Ft_53)\n",
    "    return f(e_e)\n",
    "\n",
    "def Pi_e_func2(e_e):\n",
    "    #Привиденный импульс электрона, вычисляется через привиденную энергию; ** означает степень  \n",
    "    return np.sqrt(e_e**2 - 1)\n",
    "\n",
    "def Janecki_func(e_e):\n",
    "    #input энергия электрона в кэв\n",
    "    E = 1 + e_e/511 # полная энергия электрона в единицах mc^2\n",
    "    p = Pi_e_func2(E)\n",
    "    return np.interp(x = p, xp = Fermi_func_new_data['p'], \n",
    "                     fp = Fermi_func_new_data['F0L0'])"
   ]
  },
  {
   "cell_type": "code",
   "execution_count": 253,
   "metadata": {},
   "outputs": [
    {
     "data": {
      "image/png": "[encoded data removed]",
      "text/plain": [
       "<Figure size 864x360 with 1 Axes>"
      ]
     },
     "metadata": {},
     "output_type": "display_data"
    }
   ],
   "source": [
    "e_e = np.linspace(0,20, 2000) #MeV\n",
    "\n",
    "plt.figure(figsize=(12,5))\n",
    "plt.plot(e_e, Janecki_func(e_e*1000), label='Janecki fermi function')\n",
    "plt.plot(e_e, Suslov_func(e_e*1000), label='Suslov fermi function')\n",
    "plt.legend()\n",
    "plt.show()"
   ]
  },
  {
   "cell_type": "code",
   "execution_count": 254,
   "metadata": {},
   "outputs": [
    {
     "data": {
      "image/png": "[encoded data removed]",
      "text/plain": [
       "<Figure size 360x360 with 1 Axes>"
      ]
     },
     "metadata": {},
     "output_type": "display_data"
    }
   ],
   "source": [
    "plt.figure(figsize=(5,5))\n",
    "plt.plot(e_e, Janecki_func(e_e*1000)/ Suslov_func(e_e*1000), label='Janecki/Suslov')\n",
    "plt.legend()\n",
    "#plt.xlim(0,1)\n",
    "plt.ylim(1,1.5)\n",
    "plt.show()"
   ]
  },
  {
   "cell_type": "code",
   "execution_count": null,
   "metadata": {
    "collapsed": true
   },
   "outputs": [],
   "source": []
  },
  {
   "cell_type": "markdown",
   "metadata": {},
   "source": [
    "### расчет c декомпозицией"
   ]
  },
  {
   "cell_type": "code",
   "execution_count": 255,
   "metadata": {},
   "outputs": [
    {
     "data": {
      "text/html": [
       "<div>\n",
       "<style>\n",
       "    .dataframe thead tr:only-child th {\n",
       "        text-align: right;\n",
       "    }\n",
       "\n",
       "    .dataframe thead th {\n",
       "        text-align: left;\n",
       "    }\n",
       "\n",
       "    .dataframe tbody tr th {\n",
       "        vertical-align: top;\n",
       "    }\n",
       "</style>\n",
       "<table border=\"1\" class=\"dataframe\">\n",
       "  <thead>\n",
       "    <tr style=\"text-align: right;\">\n",
       "      <th></th>\n",
       "      <th>Ex, MeV</th>\n",
       "      <th>best_fit</th>\n",
       "      <th>bgt</th>\n",
       "      <th>gtr</th>\n",
       "      <th>pr1</th>\n",
       "      <th>pr2</th>\n",
       "    </tr>\n",
       "  </thead>\n",
       "  <tbody>\n",
       "    <tr>\n",
       "      <th>0</th>\n",
       "      <td>0.00</td>\n",
       "      <td>0.00000</td>\n",
       "      <td>0.013527</td>\n",
       "      <td>0.00000</td>\n",
       "      <td>0.00000</td>\n",
       "      <td>0.00000</td>\n",
       "    </tr>\n",
       "    <tr>\n",
       "      <th>1</th>\n",
       "      <td>0.05</td>\n",
       "      <td>0.00015</td>\n",
       "      <td>0.040147</td>\n",
       "      <td>0.00006</td>\n",
       "      <td>0.00003</td>\n",
       "      <td>0.00006</td>\n",
       "    </tr>\n",
       "    <tr>\n",
       "      <th>2</th>\n",
       "      <td>0.10</td>\n",
       "      <td>0.00065</td>\n",
       "      <td>0.040147</td>\n",
       "      <td>0.00026</td>\n",
       "      <td>0.00013</td>\n",
       "      <td>0.00026</td>\n",
       "    </tr>\n",
       "    <tr>\n",
       "      <th>3</th>\n",
       "      <td>0.15</td>\n",
       "      <td>0.00148</td>\n",
       "      <td>0.086733</td>\n",
       "      <td>0.00058</td>\n",
       "      <td>0.00030</td>\n",
       "      <td>0.00060</td>\n",
       "    </tr>\n",
       "    <tr>\n",
       "      <th>4</th>\n",
       "      <td>0.20</td>\n",
       "      <td>0.00264</td>\n",
       "      <td>0.086733</td>\n",
       "      <td>0.00104</td>\n",
       "      <td>0.00054</td>\n",
       "      <td>0.00106</td>\n",
       "    </tr>\n",
       "    <tr>\n",
       "      <th>5</th>\n",
       "      <td>0.25</td>\n",
       "      <td>0.00411</td>\n",
       "      <td>0.080341</td>\n",
       "      <td>0.00164</td>\n",
       "      <td>0.00084</td>\n",
       "      <td>0.00163</td>\n",
       "    </tr>\n",
       "    <tr>\n",
       "      <th>6</th>\n",
       "      <td>0.30</td>\n",
       "      <td>0.00589</td>\n",
       "      <td>0.056785</td>\n",
       "      <td>0.00237</td>\n",
       "      <td>0.00121</td>\n",
       "      <td>0.00231</td>\n",
       "    </tr>\n",
       "    <tr>\n",
       "      <th>7</th>\n",
       "      <td>0.35</td>\n",
       "      <td>0.00794</td>\n",
       "      <td>0.052593</td>\n",
       "      <td>0.00325</td>\n",
       "      <td>0.00163</td>\n",
       "      <td>0.00306</td>\n",
       "    </tr>\n",
       "    <tr>\n",
       "      <th>8</th>\n",
       "      <td>0.40</td>\n",
       "      <td>0.01022</td>\n",
       "      <td>0.040192</td>\n",
       "      <td>0.00426</td>\n",
       "      <td>0.00210</td>\n",
       "      <td>0.00386</td>\n",
       "    </tr>\n",
       "    <tr>\n",
       "      <th>9</th>\n",
       "      <td>0.45</td>\n",
       "      <td>0.01271</td>\n",
       "      <td>0.034657</td>\n",
       "      <td>0.00542</td>\n",
       "      <td>0.00261</td>\n",
       "      <td>0.00468</td>\n",
       "    </tr>\n",
       "    <tr>\n",
       "      <th>10</th>\n",
       "      <td>0.50</td>\n",
       "      <td>0.01540</td>\n",
       "      <td>0.027559</td>\n",
       "      <td>0.00672</td>\n",
       "      <td>0.00316</td>\n",
       "      <td>0.00552</td>\n",
       "    </tr>\n",
       "    <tr>\n",
       "      <th>11</th>\n",
       "      <td>0.55</td>\n",
       "      <td>0.01826</td>\n",
       "      <td>0.056785</td>\n",
       "      <td>0.00817</td>\n",
       "      <td>0.00374</td>\n",
       "      <td>0.00635</td>\n",
       "    </tr>\n",
       "    <tr>\n",
       "      <th>12</th>\n",
       "      <td>0.60</td>\n",
       "      <td>0.02127</td>\n",
       "      <td>0.056785</td>\n",
       "      <td>0.00977</td>\n",
       "      <td>0.00435</td>\n",
       "      <td>0.00715</td>\n",
       "    </tr>\n",
       "    <tr>\n",
       "      <th>13</th>\n",
       "      <td>0.65</td>\n",
       "      <td>0.02442</td>\n",
       "      <td>0.051523</td>\n",
       "      <td>0.01152</td>\n",
       "      <td>0.00497</td>\n",
       "      <td>0.00793</td>\n",
       "    </tr>\n",
       "    <tr>\n",
       "      <th>14</th>\n",
       "      <td>0.70</td>\n",
       "      <td>0.02768</td>\n",
       "      <td>0.040147</td>\n",
       "      <td>0.01341</td>\n",
       "      <td>0.00560</td>\n",
       "      <td>0.00867</td>\n",
       "    </tr>\n",
       "    <tr>\n",
       "      <th>15</th>\n",
       "      <td>0.75</td>\n",
       "      <td>0.03106</td>\n",
       "      <td>0.040147</td>\n",
       "      <td>0.01546</td>\n",
       "      <td>0.00622</td>\n",
       "      <td>0.00938</td>\n",
       "    </tr>\n",
       "    <tr>\n",
       "      <th>16</th>\n",
       "      <td>0.80</td>\n",
       "      <td>0.03457</td>\n",
       "      <td>0.042157</td>\n",
       "      <td>0.01766</td>\n",
       "      <td>0.00685</td>\n",
       "      <td>0.01006</td>\n",
       "    </tr>\n",
       "    <tr>\n",
       "      <th>17</th>\n",
       "      <td>0.85</td>\n",
       "      <td>0.03819</td>\n",
       "      <td>0.035503</td>\n",
       "      <td>0.02001</td>\n",
       "      <td>0.00746</td>\n",
       "      <td>0.01072</td>\n",
       "    </tr>\n",
       "    <tr>\n",
       "      <th>18</th>\n",
       "      <td>0.90</td>\n",
       "      <td>0.04194</td>\n",
       "      <td>0.027101</td>\n",
       "      <td>0.02251</td>\n",
       "      <td>0.00806</td>\n",
       "      <td>0.01137</td>\n",
       "    </tr>\n",
       "    <tr>\n",
       "      <th>19</th>\n",
       "      <td>0.95</td>\n",
       "      <td>0.04582</td>\n",
       "      <td>0.083405</td>\n",
       "      <td>0.02517</td>\n",
       "      <td>0.00864</td>\n",
       "      <td>0.01201</td>\n",
       "    </tr>\n",
       "  </tbody>\n",
       "</table>\n",
       "</div>"
      ],
      "text/plain": [
       "    Ex, MeV  best_fit       bgt      gtr      pr1      pr2\n",
       "0      0.00   0.00000  0.013527  0.00000  0.00000  0.00000\n",
       "1      0.05   0.00015  0.040147  0.00006  0.00003  0.00006\n",
       "2      0.10   0.00065  0.040147  0.00026  0.00013  0.00026\n",
       "3      0.15   0.00148  0.086733  0.00058  0.00030  0.00060\n",
       "4      0.20   0.00264  0.086733  0.00104  0.00054  0.00106\n",
       "5      0.25   0.00411  0.080341  0.00164  0.00084  0.00163\n",
       "6      0.30   0.00589  0.056785  0.00237  0.00121  0.00231\n",
       "7      0.35   0.00794  0.052593  0.00325  0.00163  0.00306\n",
       "8      0.40   0.01022  0.040192  0.00426  0.00210  0.00386\n",
       "9      0.45   0.01271  0.034657  0.00542  0.00261  0.00468\n",
       "10     0.50   0.01540  0.027559  0.00672  0.00316  0.00552\n",
       "11     0.55   0.01826  0.056785  0.00817  0.00374  0.00635\n",
       "12     0.60   0.02127  0.056785  0.00977  0.00435  0.00715\n",
       "13     0.65   0.02442  0.051523  0.01152  0.00497  0.00793\n",
       "14     0.70   0.02768  0.040147  0.01341  0.00560  0.00867\n",
       "15     0.75   0.03106  0.040147  0.01546  0.00622  0.00938\n",
       "16     0.80   0.03457  0.042157  0.01766  0.00685  0.01006\n",
       "17     0.85   0.03819  0.035503  0.02001  0.00746  0.01072\n",
       "18     0.90   0.04194  0.027101  0.02251  0.00806  0.01137\n",
       "19     0.95   0.04582  0.083405  0.02517  0.00864  0.01201"
      ]
     },
     "execution_count": 255,
     "metadata": {},
     "output_type": "execute_result"
    }
   ],
   "source": [
    "decomp = pd.read_excel('127Xe_bgt_decomp.xls')\n",
    "decomp.head(20)"
   ]
  },
  {
   "cell_type": "code",
   "execution_count": 256,
   "metadata": {},
   "outputs": [
    {
     "data": {
      "text/plain": [
       "(53.579161054003215,\n",
       " 53.4939765,\n",
       " 50.78956425,\n",
       " 2.343959000000001,\n",
       " 0.36045325000000006)"
      ]
     },
     "execution_count": 256,
     "metadata": {},
     "output_type": "execute_result"
    }
   ],
   "source": [
    "trapz(decomp['bgt'].values, decomp['Ex, MeV'].values),\\\n",
    "trapz(decomp['best_fit'].values, decomp['Ex, MeV'].values),\\\n",
    "trapz(decomp['gtr'].values, decomp['Ex, MeV'].values), \\\n",
    "trapz(decomp['pr1'].values, decomp['Ex, MeV'].values), \\\n",
    "trapz(decomp['pr2'].values, decomp['Ex, MeV'].values), \\"
   ]
  },
  {
   "cell_type": "code",
   "execution_count": 257,
   "metadata": {
    "collapsed": true
   },
   "outputs": [],
   "source": [
    "y_total_border = border_func(decomp['Ex, MeV'].values, decomp['best_fit'].values, S_n)\n",
    "y_bgt_border = border_func(decomp['Ex, MeV'].values, decomp['bgt'].values, S_n)\n",
    "y_gtr_border = border_func(decomp['Ex, MeV'].values, decomp['gtr'].values, S_n)\n",
    "y_pr1_border = border_func(decomp['Ex, MeV'].values, decomp['pr1'].values, S_n)\n",
    "y_pr2_border = border_func(decomp['Ex, MeV'].values, decomp['pr2'].values, S_n)"
   ]
  },
  {
   "cell_type": "markdown",
   "metadata": {},
   "source": [
    "### bgt"
   ]
  },
  {
   "cell_type": "code",
   "execution_count": 258,
   "metadata": {
    "collapsed": true
   },
   "outputs": [],
   "source": [
    "sigma_y_bgt_no_border_temp = [cross_sec(0,p, sigma_k_GTR, decomp['Ex, MeV'].values, \n",
    "                                      decomp['bgt'].values, 200) for p in p_list]\n",
    "sigma_y_bgt_no_border_full = np.interp(Energy_all_fluxes, xp=p_list+Q_EC_127Xe, \n",
    "                                     fp=sigma_y_bgt_no_border_temp)\n",
    "\n",
    "sigma_y_bgt_border_temp = [cross_sec(0,p, sigma_k_GTR, decomp['Ex, MeV'].values, \n",
    "                                   y_bgt_border, 200) for p in p_list]\n",
    "sigma_y_bgt_border_full = np.interp(Energy_all_fluxes, xp=p_list+Q_EC_127Xe, \n",
    "                                  fp=sigma_y_bgt_border_temp)"
   ]
  },
  {
   "cell_type": "code",
   "execution_count": 259,
   "metadata": {},
   "outputs": [
    {
     "data": {
      "text/plain": [
       "{'Be': 2.9196875534206286,\n",
       " 'Total': 30.235812026636975,\n",
       " 'b8': 25.637087221513045,\n",
       " 'f17': 0.0140826276158515,\n",
       " 'hep': 0.10837097517422577,\n",
       " 'n13': 0.1665663653022177,\n",
       " 'name': 'test1',\n",
       " 'o15': 0.5555008380643007,\n",
       " 'pep': 0.8345164455467041,\n",
       " 'pp': 0.0}"
      ]
     },
     "execution_count": 259,
     "metadata": {},
     "output_type": "execute_result"
    }
   ],
   "source": [
    "### BS05OP\n",
    "rate_calc(sigma_y_bgt_border_full, \\\n",
    "          BS05OP_flux, Energy_all_fluxes, step_all_fluxes,)"
   ]
  },
  {
   "cell_type": "code",
   "execution_count": 260,
   "metadata": {},
   "outputs": [
    {
     "data": {
      "text/plain": [
       "{'Be': 2.9196875534206286,\n",
       " 'Total': 35.53502000084436,\n",
       " 'b8': 30.85261522308463,\n",
       " 'f17': 0.0140826276158515,\n",
       " 'hep': 0.19205094781002624,\n",
       " 'n13': 0.1665663653022177,\n",
       " 'name': 'test1',\n",
       " 'o15': 0.5555008380643007,\n",
       " 'pep': 0.8345164455467041,\n",
       " 'pp': 0.0}"
      ]
     },
     "execution_count": 260,
     "metadata": {},
     "output_type": "execute_result"
    }
   ],
   "source": [
    "rate_calc(sigma_y_bgt_no_border_full, \\\n",
    "          BS05OP_flux, Energy_all_fluxes, step_all_fluxes,)"
   ]
  },
  {
   "cell_type": "code",
   "execution_count": null,
   "metadata": {
    "collapsed": true
   },
   "outputs": [],
   "source": []
  },
  {
   "cell_type": "markdown",
   "metadata": {},
   "source": [
    "### y_total"
   ]
  },
  {
   "cell_type": "code",
   "execution_count": 261,
   "metadata": {
    "collapsed": true
   },
   "outputs": [],
   "source": [
    "sigma_y_tot_no_border_temp = [cross_sec(0,p, sigma_k_GTR, decomp['Ex, MeV'].values, \n",
    "                                      decomp['best_fit'].values, 200) for p in p_list]\n",
    "sigma_y_tot_no_border_full = np.interp(Energy_all_fluxes, xp=p_list+Q_EC_127Xe, \n",
    "                                     fp=sigma_y_tot_no_border_temp)\n",
    "\n",
    "sigma_y_tot_border_temp = [cross_sec(0,p, sigma_k_GTR, decomp['Ex, MeV'].values, \n",
    "                                   y_total_border, 200) for p in p_list]\n",
    "sigma_y_tot_border_full = np.interp(Energy_all_fluxes, xp=p_list+Q_EC_127Xe, \n",
    "                                  fp=sigma_y_tot_border_temp)"
   ]
  },
  {
   "cell_type": "code",
   "execution_count": 262,
   "metadata": {},
   "outputs": [
    {
     "data": {
      "text/plain": [
       "{'Be': 0.04490984222639855,\n",
       " 'Total': 25.91453252732105,\n",
       " 'b8': 25.560990809416296,\n",
       " 'f17': 0.001745978926422203,\n",
       " 'hep': 0.10920887322423205,\n",
       " 'n13': 0.0064740380532171985,\n",
       " 'name': 'test1',\n",
       " 'o15': 0.06826300735140313,\n",
       " 'pep': 0.12293997812307816,\n",
       " 'pp': 0.0}"
      ]
     },
     "execution_count": 262,
     "metadata": {},
     "output_type": "execute_result"
    }
   ],
   "source": [
    "### BS05OP\n",
    "rate_calc(sigma_y_tot_border_full, \\\n",
    "          BS05OP_flux, Energy_all_fluxes, step_all_fluxes,)"
   ]
  },
  {
   "cell_type": "code",
   "execution_count": 263,
   "metadata": {},
   "outputs": [
    {
     "data": {
      "text/plain": [
       "{'Be': 0.04490984222639855,\n",
       " 'Total': 31.143000965742043,\n",
       " 'b8': 30.705926605617496,\n",
       " 'f17': 0.001745978926422203,\n",
       " 'hep': 0.1927415154440273,\n",
       " 'n13': 0.0064740380532171985,\n",
       " 'name': 'test1',\n",
       " 'o15': 0.06826300735140313,\n",
       " 'pep': 0.12293997812307816,\n",
       " 'pp': 0.0}"
      ]
     },
     "execution_count": 263,
     "metadata": {},
     "output_type": "execute_result"
    }
   ],
   "source": [
    "rate_calc(sigma_y_tot_no_border_full, \\\n",
    "          BS05OP_flux, Energy_all_fluxes, step_all_fluxes,)"
   ]
  },
  {
   "cell_type": "code",
   "execution_count": null,
   "metadata": {
    "collapsed": true
   },
   "outputs": [],
   "source": []
  },
  {
   "cell_type": "markdown",
   "metadata": {},
   "source": [
    "### gtr"
   ]
  },
  {
   "cell_type": "code",
   "execution_count": 264,
   "metadata": {
    "collapsed": true
   },
   "outputs": [],
   "source": [
    "sigma_gtr_no_border_temp = [cross_sec(0,p, sigma_k_GTR, decomp['Ex, MeV'].values, \n",
    "                                      decomp['gtr'].values, 200) for p in p_list]\n",
    "sigma_gtr_no_border_full = np.interp(Energy_all_fluxes, xp=p_list+Q_EC_127Xe, \n",
    "                                     fp=sigma_gtr_no_border_temp)\n",
    "\n",
    "sigma_gtr_border_temp = [cross_sec(0,p, sigma_k_GTR, decomp['Ex, MeV'].values, \n",
    "                                   y_gtr_border, 200) for p in p_list]\n",
    "sigma_gtr_border_full = np.interp(Energy_all_fluxes, xp=p_list+Q_EC_127Xe, \n",
    "                                  fp=sigma_gtr_border_temp)"
   ]
  },
  {
   "cell_type": "code",
   "execution_count": 265,
   "metadata": {},
   "outputs": [
    {
     "data": {
      "text/plain": [
       "{'Be': 0.027184334547858787,\n",
       " 'Total': 6.867132715509342,\n",
       " 'b8': 6.70361142170704,\n",
       " 'f17': 0.0009648341107599838,\n",
       " 'hep': 0.025637696867495337,\n",
       " 'n13': 0.0038529600704730366,\n",
       " 'name': 'test1',\n",
       " 'o15': 0.03775982275009498,\n",
       " 'pep': 0.06812164545562015,\n",
       " 'pp': 0.0}"
      ]
     },
     "execution_count": 265,
     "metadata": {},
     "output_type": "execute_result"
    }
   ],
   "source": [
    "### BS05OP\n",
    "rate_calc((sigma_y_tot_border_full-sigma_gtr_border_full), \\\n",
    "          BS05OP_flux, Energy_all_fluxes, step_all_fluxes,)"
   ]
  },
  {
   "cell_type": "code",
   "execution_count": 266,
   "metadata": {},
   "outputs": [
    {
     "data": {
      "text/plain": [
       "{'Be': 0.027184334547858787,\n",
       " 'Total': 8.314231722750822,\n",
       " 'b8': 8.134377281619232,\n",
       " 'f17': 0.0009648341107599838,\n",
       " 'hep': 0.04197084419678503,\n",
       " 'n13': 0.0038529600704730366,\n",
       " 'name': 'test1',\n",
       " 'o15': 0.03775982275009498,\n",
       " 'pep': 0.06812164545562015,\n",
       " 'pp': 0.0}"
      ]
     },
     "execution_count": 266,
     "metadata": {},
     "output_type": "execute_result"
    }
   ],
   "source": [
    "rate_calc((sigma_y_tot_no_border_full-sigma_gtr_no_border_full), \\\n",
    "          BS05OP_flux, Energy_all_fluxes, step_all_fluxes,)"
   ]
  },
  {
   "cell_type": "markdown",
   "metadata": {},
   "source": [
    "### pr1"
   ]
  },
  {
   "cell_type": "code",
   "execution_count": 267,
   "metadata": {
    "collapsed": true
   },
   "outputs": [],
   "source": [
    "sigma_pr1_no_border_temp = [cross_sec(0,p, sigma_k_GTR, decomp['Ex, MeV'].values, \n",
    "                                      decomp['pr1'].values, 200) for p in p_list]\n",
    "sigma_pr1_no_border_full = np.interp(Energy_all_fluxes, xp=p_list+Q_EC_127Xe, \n",
    "                                     fp=sigma_pr1_no_border_temp)\n",
    "\n",
    "sigma_pr1_border_temp = [cross_sec(0,p, sigma_k_GTR, decomp['Ex, MeV'].values, \n",
    "                                   y_pr1_border, 200) for p in p_list]\n",
    "sigma_pr1_border_full = np.interp(Energy_all_fluxes, xp=p_list+Q_EC_127Xe, \n",
    "                                  fp=sigma_pr1_border_temp)"
   ]
  },
  {
   "cell_type": "code",
   "execution_count": 268,
   "metadata": {},
   "outputs": [
    {
     "data": {
      "text/plain": [
       "{'Be': 0.018085566137692285,\n",
       " 'Total': 4.549623723489985,\n",
       " 'b8': 4.446219411279572,\n",
       " 'f17': 0.0006103240081606281,\n",
       " 'hep': 0.015224163480437574,\n",
       " 'n13': 0.002529500428818388,\n",
       " 'name': 'test1',\n",
       " 'o15': 0.02389550452839793,\n",
       " 'pep': 0.04305925362690493,\n",
       " 'pp': 0.0}"
      ]
     },
     "execution_count": 268,
     "metadata": {},
     "output_type": "execute_result"
    }
   ],
   "source": [
    "### BS05OP\n",
    "rate_calc((sigma_y_tot_border_full-sigma_gtr_border_full-sigma_pr1_border_full), \\\n",
    "          BS05OP_flux, Energy_all_fluxes, step_all_fluxes,)"
   ]
  },
  {
   "cell_type": "code",
   "execution_count": 269,
   "metadata": {},
   "outputs": [
    {
     "data": {
      "text/plain": [
       "{'Be': 0.018085566137692285,\n",
       " 'Total': 4.555549672568591,\n",
       " 'b8': 4.452078281383648,\n",
       " 'f17': 0.0006103240081606281,\n",
       " 'hep': 0.015291242454968811,\n",
       " 'n13': 0.002529500428818388,\n",
       " 'name': 'test1',\n",
       " 'o15': 0.02389550452839793,\n",
       " 'pep': 0.04305925362690493,\n",
       " 'pp': 0.0}"
      ]
     },
     "execution_count": 269,
     "metadata": {},
     "output_type": "execute_result"
    }
   ],
   "source": [
    "rate_calc((sigma_y_tot_no_border_full-sigma_gtr_no_border_full-sigma_pr1_no_border_full), \\\n",
    "          BS05OP_flux, Energy_all_fluxes, step_all_fluxes,)"
   ]
  },
  {
   "cell_type": "markdown",
   "metadata": {},
   "source": [
    "### pr2"
   ]
  },
  {
   "cell_type": "code",
   "execution_count": 270,
   "metadata": {
    "collapsed": true
   },
   "outputs": [],
   "source": [
    "sigma_pr2_no_border_temp = [cross_sec(0,p, sigma_k_GTR, decomp['Ex, MeV'].values, \n",
    "                                      decomp['pr2'].values, 200) for p in p_list]\n",
    "sigma_pr2_no_border_full = np.interp(Energy_all_fluxes, xp=p_list+Q_EC_127Xe, \n",
    "                                     fp=sigma_pr2_no_border_temp)\n",
    "\n",
    "sigma_pr2_border_temp = [cross_sec(0,p, sigma_k_GTR, decomp['Ex, MeV'].values, \n",
    "                                   y_pr2_border, 200) for p in p_list]\n",
    "sigma_pr2_border_full = np.interp(Energy_all_fluxes, xp=p_list+Q_EC_127Xe, \n",
    "                                  fp=sigma_pr2_border_temp)"
   ]
  },
  {
   "cell_type": "code",
   "execution_count": 271,
   "metadata": {},
   "outputs": [
    {
     "data": {
      "text/plain": [
       "{'Be': 1.4121126143407102e-17,\n",
       " 'Total': 1.243622462768312e-16,\n",
       " 'b8': 1.0751895139232591e-16,\n",
       " 'f17': -9.219602001786023e-20,\n",
       " 'hep': 1.5330554695578385e-18,\n",
       " 'n13': 3.727656074857514e-20,\n",
       " 'name': 'test1',\n",
       " 'o15': -3.682581940964483e-18,\n",
       " 'pep': 4.926614671774132e-18,\n",
       " 'pp': 0.0}"
      ]
     },
     "execution_count": 271,
     "metadata": {},
     "output_type": "execute_result"
    }
   ],
   "source": [
    "rate_calc((sigma_y_tot_border_full-sigma_gtr_border_full-sigma_pr1_border_full-sigma_pr2_border_full), \\\n",
    "          BS05OP_flux, Energy_all_fluxes, step_all_fluxes,)"
   ]
  },
  {
   "cell_type": "code",
   "execution_count": 272,
   "metadata": {},
   "outputs": [
    {
     "data": {
      "text/plain": [
       "dict_keys(['Be', 'f17', 'b8', 'n13', 'pep', 'o15', 'hep', 'name', 'Total', 'pp'])"
      ]
     },
     "execution_count": 272,
     "metadata": {},
     "output_type": "execute_result"
    }
   ],
   "source": [
    "rate_calc((sigma_y_tot_border_full-sigma_gtr_border_full-sigma_pr1_border_full-sigma_pr2_border_full), \\\n",
    "          BS05OP_flux, Energy_all_fluxes, step_all_fluxes,).keys()"
   ]
  },
  {
   "cell_type": "code",
   "execution_count": 273,
   "metadata": {
    "collapsed": true
   },
   "outputs": [],
   "source": [
    "output_table = pd.DataFrame(data=[], columns=['name','Be', 'f17', 'b8', 'n13', 'pep', 'o15', 'hep', \n",
    "                                              'pp',  'Total'])"
   ]
  },
  {
   "cell_type": "code",
   "execution_count": 288,
   "metadata": {
    "collapsed": true
   },
   "outputs": [],
   "source": [
    "no1 = rate_calc(sigma_y_bgt_no_border_full, BS05OP_flux, Energy_all_fluxes, \n",
    "                step_all_fluxes, name='R-total (график bgt)')\n",
    "\n",
    "no2 = rate_calc(sigma_y_tot_no_border_full, BS05OP_flux, Energy_all_fluxes, \n",
    "                step_all_fluxes, name='R-total (best_fit)')\n",
    "no3 = rate_calc(sigma_matr_no_border_full, BS05OP_flux, Energy_all_fluxes, step_all_fluxes,\n",
    "               name='R-total (theory)')\n",
    "\n",
    "no4 = rate_calc((sigma_y_tot_no_border_full-sigma_gtr_no_border_full), BS05OP_flux, \n",
    "                Energy_all_fluxes, step_all_fluxes,name='R-total (best_fit) - GTR')\n",
    "no5 = rate_calc(sigma_matr_noGTR_no_border_full, BS05OP_flux, Energy_all_fluxes, \n",
    "                step_all_fluxes, name='R-total (theory) - GTR')\n",
    "\n",
    "no6 = rate_calc((sigma_y_tot_no_border_full-sigma_gtr_no_border_full-sigma_pr1_no_border_full), \\\n",
    "          BS05OP_flux, Energy_all_fluxes, step_all_fluxes, name='R-total (best_fit) - GTR - PR1')\n",
    "no7 = rate_calc(sigma_matr_noGTR_noPR1_no_border_full, BS05OP_flux, Energy_all_fluxes, \n",
    "                step_all_fluxes, name='R-total (theory) - GTR - PR1')"
   ]
  },
  {
   "cell_type": "code",
   "execution_count": 292,
   "metadata": {},
   "outputs": [
    {
     "data": {
      "text/html": [
       "<div>\n",
       "<style>\n",
       "    .dataframe thead tr:only-child th {\n",
       "        text-align: right;\n",
       "    }\n",
       "\n",
       "    .dataframe thead th {\n",
       "        text-align: left;\n",
       "    }\n",
       "\n",
       "    .dataframe tbody tr th {\n",
       "        vertical-align: top;\n",
       "    }\n",
       "</style>\n",
       "<table border=\"1\" class=\"dataframe\">\n",
       "  <thead>\n",
       "    <tr style=\"text-align: right;\">\n",
       "      <th></th>\n",
       "      <th>name</th>\n",
       "      <th>Be</th>\n",
       "      <th>f17</th>\n",
       "      <th>b8</th>\n",
       "      <th>n13</th>\n",
       "      <th>pep</th>\n",
       "      <th>o15</th>\n",
       "      <th>hep</th>\n",
       "      <th>pp</th>\n",
       "      <th>Total</th>\n",
       "    </tr>\n",
       "  </thead>\n",
       "  <tbody>\n",
       "    <tr>\n",
       "      <th>0</th>\n",
       "      <td>R-total (график bgt)</td>\n",
       "      <td>2.920</td>\n",
       "      <td>0.014</td>\n",
       "      <td>30.853</td>\n",
       "      <td>0.167</td>\n",
       "      <td>0.835</td>\n",
       "      <td>0.556</td>\n",
       "      <td>0.192</td>\n",
       "      <td>0.0</td>\n",
       "      <td>35.535</td>\n",
       "    </tr>\n",
       "    <tr>\n",
       "      <th>1</th>\n",
       "      <td>R-total (best_fit)</td>\n",
       "      <td>0.045</td>\n",
       "      <td>0.002</td>\n",
       "      <td>30.706</td>\n",
       "      <td>0.006</td>\n",
       "      <td>0.123</td>\n",
       "      <td>0.068</td>\n",
       "      <td>0.193</td>\n",
       "      <td>0.0</td>\n",
       "      <td>31.143</td>\n",
       "    </tr>\n",
       "    <tr>\n",
       "      <th>2</th>\n",
       "      <td>R-total (theory)</td>\n",
       "      <td>0.552</td>\n",
       "      <td>0.005</td>\n",
       "      <td>35.095</td>\n",
       "      <td>0.041</td>\n",
       "      <td>0.318</td>\n",
       "      <td>0.195</td>\n",
       "      <td>0.219</td>\n",
       "      <td>0.0</td>\n",
       "      <td>36.425</td>\n",
       "    </tr>\n",
       "    <tr>\n",
       "      <th>3</th>\n",
       "      <td>R-total (best_fit) - GTR</td>\n",
       "      <td>0.027</td>\n",
       "      <td>0.001</td>\n",
       "      <td>8.134</td>\n",
       "      <td>0.004</td>\n",
       "      <td>0.068</td>\n",
       "      <td>0.038</td>\n",
       "      <td>0.042</td>\n",
       "      <td>0.0</td>\n",
       "      <td>8.314</td>\n",
       "    </tr>\n",
       "    <tr>\n",
       "      <th>4</th>\n",
       "      <td>R-total (theory) - GTR</td>\n",
       "      <td>0.535</td>\n",
       "      <td>0.004</td>\n",
       "      <td>11.664</td>\n",
       "      <td>0.039</td>\n",
       "      <td>0.264</td>\n",
       "      <td>0.164</td>\n",
       "      <td>0.061</td>\n",
       "      <td>0.0</td>\n",
       "      <td>12.731</td>\n",
       "    </tr>\n",
       "    <tr>\n",
       "      <th>5</th>\n",
       "      <td>R-total (best_fit) - GTR - PR1</td>\n",
       "      <td>0.018</td>\n",
       "      <td>0.001</td>\n",
       "      <td>4.452</td>\n",
       "      <td>0.003</td>\n",
       "      <td>0.043</td>\n",
       "      <td>0.024</td>\n",
       "      <td>0.015</td>\n",
       "      <td>0.0</td>\n",
       "      <td>4.556</td>\n",
       "    </tr>\n",
       "    <tr>\n",
       "      <th>6</th>\n",
       "      <td>R-total (theory) - GTR - PR1</td>\n",
       "      <td>0.529</td>\n",
       "      <td>0.004</td>\n",
       "      <td>7.437</td>\n",
       "      <td>0.038</td>\n",
       "      <td>0.244</td>\n",
       "      <td>0.154</td>\n",
       "      <td>0.033</td>\n",
       "      <td>0.0</td>\n",
       "      <td>8.439</td>\n",
       "    </tr>\n",
       "  </tbody>\n",
       "</table>\n",
       "</div>"
      ],
      "text/plain": [
       "                             name     Be    f17      b8    n13    pep    o15  \\\n",
       "0            R-total (график bgt)  2.920  0.014  30.853  0.167  0.835  0.556   \n",
       "1              R-total (best_fit)  0.045  0.002  30.706  0.006  0.123  0.068   \n",
       "2                R-total (theory)  0.552  0.005  35.095  0.041  0.318  0.195   \n",
       "3        R-total (best_fit) - GTR  0.027  0.001   8.134  0.004  0.068  0.038   \n",
       "4          R-total (theory) - GTR  0.535  0.004  11.664  0.039  0.264  0.164   \n",
       "5  R-total (best_fit) - GTR - PR1  0.018  0.001   4.452  0.003  0.043  0.024   \n",
       "6    R-total (theory) - GTR - PR1  0.529  0.004   7.437  0.038  0.244  0.154   \n",
       "\n",
       "     hep   pp   Total  \n",
       "0  0.192  0.0  35.535  \n",
       "1  0.193  0.0  31.143  \n",
       "2  0.219  0.0  36.425  \n",
       "3  0.042  0.0   8.314  \n",
       "4  0.061  0.0  12.731  \n",
       "5  0.015  0.0   4.556  \n",
       "6  0.033  0.0   8.439  "
      ]
     },
     "execution_count": 292,
     "metadata": {},
     "output_type": "execute_result"
    }
   ],
   "source": [
    "output_table = pd.DataFrame(data=[], columns=['name','Be', 'f17', 'b8', 'n13', 'pep', 'o15', 'hep', \n",
    "                                              'pp',  'Total'])\n",
    "\n",
    "for elem in [no1, no2, no3, no4, no5, no6, no7] : \n",
    "    output_table = output_table.append(elem, ignore_index=True)\n",
    "    \n",
    "for elem in ['Be', 'f17', 'b8', 'n13', 'pep', 'o15', 'hep', 'pp',  'Total']:\n",
    "    output_table[elem] = output_table[elem].round(3)\n",
    "output_table"
   ]
  },
  {
   "cell_type": "code",
   "execution_count": 293,
   "metadata": {
    "collapsed": true
   },
   "outputs": [],
   "source": [
    "output_table.to_excel('no_border_comparison.xls')"
   ]
  },
  {
   "cell_type": "code",
   "execution_count": null,
   "metadata": {
    "collapsed": true
   },
   "outputs": [],
   "source": []
  },
  {
   "cell_type": "code",
   "execution_count": 295,
   "metadata": {
    "collapsed": true
   },
   "outputs": [],
   "source": [
    "no11 = rate_calc(sigma_y_bgt_border_full, BS05OP_flux, Energy_all_fluxes, \n",
    "                step_all_fluxes, name='R-total (график bgt)')\n",
    "\n",
    "no22 = rate_calc(sigma_y_tot_border_full, BS05OP_flux, Energy_all_fluxes, \n",
    "                step_all_fluxes, name='R-total (best_fit)')\n",
    "no33 = rate_calc(sigma_matr_border_full, BS05OP_flux, Energy_all_fluxes, step_all_fluxes,\n",
    "               name='R-total (theory)')\n",
    "\n",
    "no44 = rate_calc((sigma_y_tot_border_full-sigma_gtr_border_full), BS05OP_flux, \n",
    "                Energy_all_fluxes, step_all_fluxes,name='R-total (best_fit) - GTR')\n",
    "no55 = rate_calc(sigma_matr_noGTR_border_full, BS05OP_flux, Energy_all_fluxes, \n",
    "                step_all_fluxes, name='R-total (theory) - GTR')\n",
    "\n",
    "no66 = rate_calc((sigma_y_tot_border_full-sigma_gtr_border_full-sigma_pr1_border_full), \\\n",
    "          BS05OP_flux, Energy_all_fluxes, step_all_fluxes, name='R-total (best_fit) - GTR - PR1')\n",
    "no77 = rate_calc(sigma_matr_noGTR_noPR1_border_full, BS05OP_flux, Energy_all_fluxes, \n",
    "                step_all_fluxes, name='R-total (theory) - GTR - PR1')"
   ]
  },
  {
   "cell_type": "code",
   "execution_count": 296,
   "metadata": {},
   "outputs": [
    {
     "data": {
      "text/html": [
       "<div>\n",
       "<style>\n",
       "    .dataframe thead tr:only-child th {\n",
       "        text-align: right;\n",
       "    }\n",
       "\n",
       "    .dataframe thead th {\n",
       "        text-align: left;\n",
       "    }\n",
       "\n",
       "    .dataframe tbody tr th {\n",
       "        vertical-align: top;\n",
       "    }\n",
       "</style>\n",
       "<table border=\"1\" class=\"dataframe\">\n",
       "  <thead>\n",
       "    <tr style=\"text-align: right;\">\n",
       "      <th></th>\n",
       "      <th>name</th>\n",
       "      <th>Be</th>\n",
       "      <th>f17</th>\n",
       "      <th>b8</th>\n",
       "      <th>n13</th>\n",
       "      <th>pep</th>\n",
       "      <th>o15</th>\n",
       "      <th>hep</th>\n",
       "      <th>pp</th>\n",
       "      <th>Total</th>\n",
       "    </tr>\n",
       "  </thead>\n",
       "  <tbody>\n",
       "    <tr>\n",
       "      <th>0</th>\n",
       "      <td>R-total (график bgt)</td>\n",
       "      <td>2.920</td>\n",
       "      <td>0.014</td>\n",
       "      <td>25.637</td>\n",
       "      <td>0.167</td>\n",
       "      <td>0.835</td>\n",
       "      <td>0.556</td>\n",
       "      <td>0.108</td>\n",
       "      <td>0.0</td>\n",
       "      <td>30.236</td>\n",
       "    </tr>\n",
       "    <tr>\n",
       "      <th>1</th>\n",
       "      <td>R-total (best_fit)</td>\n",
       "      <td>0.045</td>\n",
       "      <td>0.002</td>\n",
       "      <td>25.561</td>\n",
       "      <td>0.006</td>\n",
       "      <td>0.123</td>\n",
       "      <td>0.068</td>\n",
       "      <td>0.109</td>\n",
       "      <td>0.0</td>\n",
       "      <td>25.915</td>\n",
       "    </tr>\n",
       "    <tr>\n",
       "      <th>2</th>\n",
       "      <td>R-total (theory)</td>\n",
       "      <td>0.552</td>\n",
       "      <td>0.005</td>\n",
       "      <td>29.648</td>\n",
       "      <td>0.041</td>\n",
       "      <td>0.318</td>\n",
       "      <td>0.195</td>\n",
       "      <td>0.129</td>\n",
       "      <td>0.0</td>\n",
       "      <td>30.888</td>\n",
       "    </tr>\n",
       "    <tr>\n",
       "      <th>3</th>\n",
       "      <td>R-total (best_fit) - GTR</td>\n",
       "      <td>0.027</td>\n",
       "      <td>0.001</td>\n",
       "      <td>6.704</td>\n",
       "      <td>0.004</td>\n",
       "      <td>0.068</td>\n",
       "      <td>0.038</td>\n",
       "      <td>0.026</td>\n",
       "      <td>0.0</td>\n",
       "      <td>6.867</td>\n",
       "    </tr>\n",
       "    <tr>\n",
       "      <th>4</th>\n",
       "      <td>R-total (theory) - GTR</td>\n",
       "      <td>0.535</td>\n",
       "      <td>0.004</td>\n",
       "      <td>10.150</td>\n",
       "      <td>0.039</td>\n",
       "      <td>0.264</td>\n",
       "      <td>0.164</td>\n",
       "      <td>0.041</td>\n",
       "      <td>0.0</td>\n",
       "      <td>11.198</td>\n",
       "    </tr>\n",
       "    <tr>\n",
       "      <th>5</th>\n",
       "      <td>R-total (best_fit) - GTR - PR1</td>\n",
       "      <td>0.018</td>\n",
       "      <td>0.001</td>\n",
       "      <td>4.446</td>\n",
       "      <td>0.003</td>\n",
       "      <td>0.043</td>\n",
       "      <td>0.024</td>\n",
       "      <td>0.015</td>\n",
       "      <td>0.0</td>\n",
       "      <td>4.550</td>\n",
       "    </tr>\n",
       "    <tr>\n",
       "      <th>6</th>\n",
       "      <td>R-total (theory) - GTR - PR1</td>\n",
       "      <td>0.529</td>\n",
       "      <td>0.004</td>\n",
       "      <td>7.110</td>\n",
       "      <td>0.038</td>\n",
       "      <td>0.244</td>\n",
       "      <td>0.154</td>\n",
       "      <td>0.028</td>\n",
       "      <td>0.0</td>\n",
       "      <td>8.107</td>\n",
       "    </tr>\n",
       "  </tbody>\n",
       "</table>\n",
       "</div>"
      ],
      "text/plain": [
       "                             name     Be    f17      b8    n13    pep    o15  \\\n",
       "0            R-total (график bgt)  2.920  0.014  25.637  0.167  0.835  0.556   \n",
       "1              R-total (best_fit)  0.045  0.002  25.561  0.006  0.123  0.068   \n",
       "2                R-total (theory)  0.552  0.005  29.648  0.041  0.318  0.195   \n",
       "3        R-total (best_fit) - GTR  0.027  0.001   6.704  0.004  0.068  0.038   \n",
       "4          R-total (theory) - GTR  0.535  0.004  10.150  0.039  0.264  0.164   \n",
       "5  R-total (best_fit) - GTR - PR1  0.018  0.001   4.446  0.003  0.043  0.024   \n",
       "6    R-total (theory) - GTR - PR1  0.529  0.004   7.110  0.038  0.244  0.154   \n",
       "\n",
       "     hep   pp   Total  \n",
       "0  0.108  0.0  30.236  \n",
       "1  0.109  0.0  25.915  \n",
       "2  0.129  0.0  30.888  \n",
       "3  0.026  0.0   6.867  \n",
       "4  0.041  0.0  11.198  \n",
       "5  0.015  0.0   4.550  \n",
       "6  0.028  0.0   8.107  "
      ]
     },
     "execution_count": 296,
     "metadata": {},
     "output_type": "execute_result"
    }
   ],
   "source": [
    "output_table0 = pd.DataFrame(data=[], columns=['name','Be', 'f17', 'b8', 'n13', 'pep', 'o15', 'hep', \n",
    "                                              'pp',  'Total'])\n",
    "\n",
    "for elem in [no11, no22, no33, no44, no55, no66, no77] : \n",
    "    output_table0 = output_table0.append(elem, ignore_index=True)\n",
    "    \n",
    "for elem in ['Be', 'f17', 'b8', 'n13', 'pep', 'o15', 'hep', 'pp',  'Total']:\n",
    "    output_table0[elem] = output_table0[elem].round(3)\n",
    "output_table0"
   ]
  },
  {
   "cell_type": "code",
   "execution_count": 297,
   "metadata": {
    "collapsed": true
   },
   "outputs": [],
   "source": [
    "output_table0.to_excel('border_comparison.xls')"
   ]
  },
  {
   "cell_type": "code",
   "execution_count": null,
   "metadata": {
    "collapsed": true
   },
   "outputs": [],
   "source": []
  },
  {
   "cell_type": "code",
   "execution_count": null,
   "metadata": {
    "collapsed": true
   },
   "outputs": [],
   "source": []
  }
 ],
 "metadata": {
  "kernelspec": {
   "display_name": "Python 3",
   "language": "python",
   "name": "python3"
  },
  "language_info": {
   "codemirror_mode": {
    "name": "ipython",
    "version": 3
   },
   "file_extension": ".py",
   "mimetype": "text/x-python",
   "name": "python",
   "nbconvert_exporter": "python",
   "pygments_lexer": "ipython3",
   "version": "3.5.2"
  }
 },
 "nbformat": 4,
 "nbformat_minor": 2
}

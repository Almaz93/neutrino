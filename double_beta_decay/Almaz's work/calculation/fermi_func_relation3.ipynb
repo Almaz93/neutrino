{
 "cells": [
  {
   "cell_type": "code",
   "execution_count": 35,
   "metadata": {},
   "outputs": [
    {
     "name": "stdout",
     "output_type": "stream",
     "text": [
      "Populating the interactive namespace from numpy and matplotlib\n"
     ]
    }
   ],
   "source": [
    "import math\n",
    "import numpy as np\n",
    "import pandas as pd\n",
    "import scipy as sc\n",
    "from scipy.interpolate import interp1d\n",
    "import matplotlib.pyplot as plt\n",
    "%pylab inline\n"
   ]
  },
  {
   "cell_type": "code",
   "execution_count": 36,
   "metadata": {},
   "outputs": [],
   "source": [
    "Z_100Tc=43\n",
    "A_100Tc=100\n",
    "\n",
    "Z_127Xe=54\n",
    "A_127Xe=127\n",
    "\n",
    "Z_76Ge=32\n",
    "A_76Ge=76"
   ]
  },
  {
   "cell_type": "markdown",
   "metadata": {},
   "source": [
    "Привиденная энергия вылетающего электрона: $\\epsilon_e = \\frac{E_{\\nu}-Q_k}{m_e} + 1$"
   ]
  },
  {
   "cell_type": "code",
   "execution_count": 37,
   "metadata": {},
   "outputs": [],
   "source": [
    "def e_e_func(E_nu, E_k, Q_EC):\n",
    "    #Считаем привиденную энергию вылетающего электрона. Если энергия налетающего нейтрино E_nu\n",
    "    #меньше порога, возвращаем 0 для обнуления итогового сечения\n",
    "    #E_nu in MeV\n",
    "    q=Q_k_func(E_k, Q_EC) #порог реакции\n",
    "    if E_nu>q: return 1+(E_nu-q)/0.511\n",
    "    else: return 0 "
   ]
  },
  {
   "cell_type": "markdown",
   "metadata": {},
   "source": [
    "Привиденный импульс электрона: $\\pi_e=\\sqrt{\\epsilon_e^2 -1}$"
   ]
  },
  {
   "cell_type": "code",
   "execution_count": 38,
   "metadata": {},
   "outputs": [],
   "source": [
    "def Pi_e_func(e_e):\n",
    "    #Привиденный импульс электрона, вычисляется через привиденную энергию; ** означает степень  \n",
    "    return np.sqrt(e_e**2 - 1)"
   ]
  },
  {
   "cell_type": "markdown",
   "metadata": {},
   "source": [
    "Ферми функция через гамму: $F(Z_f, E) = 4(2pR_{A})^{2(\\gamma_1-1)}\\frac{|\\Gamma(\\gamma_1+iy)|^2}{[\\Gamma(2\\gamma_1+1)]^2}e^{{\\pi}y}$  \n",
    "$y = \\frac{{\\alpha}Z_fE}{p}$, $\\gamma_1 = \\sqrt{1-(Z_f\\alpha)^2}$, $R_A = 1.2A^{1/3}$ fm.  \n",
    "E, p в единицах mc^2 и mc #см. начало Behrens and Janecki"
   ]
  },
  {
   "cell_type": "code",
   "execution_count": 39,
   "metadata": {},
   "outputs": [],
   "source": [
    "def Fermi_via_Gamma(Z, A, e_e):\n",
    "    #input энергия электрона в кэв\n",
    "    alpha = 1/137\n",
    "    E = E = 1 + e_e/511 #полная энергия электрона в единицах mc^2\n",
    "    p = Pi_e_func(E)\n",
    "    y = alpha*Z*E/p\n",
    "    gamma1 = np.sqrt(1-(Z*alpha)**2)\n",
    "    R = 1.2*np.cbrt(A)\n",
    "    \n",
    "    part1 = 4*(2*p*R)**(2*gamma1-2)\n",
    "    part2 = np.square(np.abs(sc.special.gamma(gamma1+1j*y)))\n",
    "    part3 = np.square(sc.special.gamma(2*gamma1+1))\n",
    "    part4 = np.exp(np.pi*y)\n",
    "    return part1*(part2/part3)*part4"
   ]
  },
  {
   "cell_type": "code",
   "execution_count": null,
   "metadata": {},
   "outputs": [],
   "source": []
  },
  {
   "cell_type": "markdown",
   "metadata": {},
   "source": [
    "### Ферми функция из таблиц Суслова. "
   ]
  },
  {
   "cell_type": "code",
   "execution_count": 40,
   "metadata": {},
   "outputs": [
    {
     "data": {
      "text/html": [
       "<div>\n",
       "<style scoped>\n",
       "    .dataframe tbody tr th:only-of-type {\n",
       "        vertical-align: middle;\n",
       "    }\n",
       "\n",
       "    .dataframe tbody tr th {\n",
       "        vertical-align: top;\n",
       "    }\n",
       "\n",
       "    .dataframe thead th {\n",
       "        text-align: right;\n",
       "    }\n",
       "</style>\n",
       "<table border=\"1\" class=\"dataframe\">\n",
       "  <thead>\n",
       "    <tr style=\"text-align: right;\">\n",
       "      <th></th>\n",
       "      <th>E,mc2</th>\n",
       "      <th>9(20)</th>\n",
       "      <th>17(35)</th>\n",
       "      <th>29(64)</th>\n",
       "      <th>40(91)</th>\n",
       "      <th>49(114)</th>\n",
       "    </tr>\n",
       "  </thead>\n",
       "  <tbody>\n",
       "    <tr>\n",
       "      <th>0</th>\n",
       "      <td>1.010</td>\n",
       "      <td>3.512</td>\n",
       "      <td>6.637</td>\n",
       "      <td>13.340</td>\n",
       "      <td>22.990</td>\n",
       "      <td>35.630</td>\n",
       "    </tr>\n",
       "    <tr>\n",
       "      <th>1</th>\n",
       "      <td>1.025</td>\n",
       "      <td>2.463</td>\n",
       "      <td>4.311</td>\n",
       "      <td>8.488</td>\n",
       "      <td>14.690</td>\n",
       "      <td>22.690</td>\n",
       "    </tr>\n",
       "    <tr>\n",
       "      <th>2</th>\n",
       "      <td>1.050</td>\n",
       "      <td>1.996</td>\n",
       "      <td>3.230</td>\n",
       "      <td>6.129</td>\n",
       "      <td>10.520</td>\n",
       "      <td>16.230</td>\n",
       "    </tr>\n",
       "    <tr>\n",
       "      <th>3</th>\n",
       "      <td>1.100</td>\n",
       "      <td>1.702</td>\n",
       "      <td>2.550</td>\n",
       "      <td>4.559</td>\n",
       "      <td>7.667</td>\n",
       "      <td>11.760</td>\n",
       "    </tr>\n",
       "    <tr>\n",
       "      <th>4</th>\n",
       "      <td>1.150</td>\n",
       "      <td>1.585</td>\n",
       "      <td>2.279</td>\n",
       "      <td>3.922</td>\n",
       "      <td>6.478</td>\n",
       "      <td>9.841</td>\n",
       "    </tr>\n",
       "    <tr>\n",
       "      <th>5</th>\n",
       "      <td>1.250</td>\n",
       "      <td>1.474</td>\n",
       "      <td>2.030</td>\n",
       "      <td>3.337</td>\n",
       "      <td>5.362</td>\n",
       "      <td>8.030</td>\n",
       "    </tr>\n",
       "    <tr>\n",
       "      <th>6</th>\n",
       "      <td>1.350</td>\n",
       "      <td>1.422</td>\n",
       "      <td>1.911</td>\n",
       "      <td>3.053</td>\n",
       "      <td>4.811</td>\n",
       "      <td>7.127</td>\n",
       "    </tr>\n",
       "    <tr>\n",
       "      <th>7</th>\n",
       "      <td>1.600</td>\n",
       "      <td>1.360</td>\n",
       "      <td>1.775</td>\n",
       "      <td>2.726</td>\n",
       "      <td>4.170</td>\n",
       "      <td>6.046</td>\n",
       "    </tr>\n",
       "    <tr>\n",
       "      <th>8</th>\n",
       "      <td>1.850</td>\n",
       "      <td>1.333</td>\n",
       "      <td>1.713</td>\n",
       "      <td>2.576</td>\n",
       "      <td>3.872</td>\n",
       "      <td>5.537</td>\n",
       "    </tr>\n",
       "    <tr>\n",
       "      <th>9</th>\n",
       "      <td>2.500</td>\n",
       "      <td>1.303</td>\n",
       "      <td>1.643</td>\n",
       "      <td>2.401</td>\n",
       "      <td>3.512</td>\n",
       "      <td>4.904</td>\n",
       "    </tr>\n",
       "    <tr>\n",
       "      <th>10</th>\n",
       "      <td>3.150</td>\n",
       "      <td>1.290</td>\n",
       "      <td>1.612</td>\n",
       "      <td>2.320</td>\n",
       "      <td>3.337</td>\n",
       "      <td>4.587</td>\n",
       "    </tr>\n",
       "    <tr>\n",
       "      <th>11</th>\n",
       "      <td>5.250</td>\n",
       "      <td>1.273</td>\n",
       "      <td>1.569</td>\n",
       "      <td>2.194</td>\n",
       "      <td>3.052</td>\n",
       "      <td>4.057</td>\n",
       "    </tr>\n",
       "    <tr>\n",
       "      <th>12</th>\n",
       "      <td>7.350</td>\n",
       "      <td>1.264</td>\n",
       "      <td>1.545</td>\n",
       "      <td>2.122</td>\n",
       "      <td>2.885</td>\n",
       "      <td>3.748</td>\n",
       "    </tr>\n",
       "    <tr>\n",
       "      <th>13</th>\n",
       "      <td>11.300</td>\n",
       "      <td>1.252</td>\n",
       "      <td>1.513</td>\n",
       "      <td>2.024</td>\n",
       "      <td>2.660</td>\n",
       "      <td>3.343</td>\n",
       "    </tr>\n",
       "    <tr>\n",
       "      <th>14</th>\n",
       "      <td>15.250</td>\n",
       "      <td>1.241</td>\n",
       "      <td>1.483</td>\n",
       "      <td>1.938</td>\n",
       "      <td>2.483</td>\n",
       "      <td>3.036</td>\n",
       "    </tr>\n",
       "    <tr>\n",
       "      <th>15</th>\n",
       "      <td>19.200</td>\n",
       "      <td>1.230</td>\n",
       "      <td>1.454</td>\n",
       "      <td>1.862</td>\n",
       "      <td>2.328</td>\n",
       "      <td>2.779</td>\n",
       "    </tr>\n",
       "  </tbody>\n",
       "</table>\n",
       "</div>"
      ],
      "text/plain": [
       "     E,mc2  9(20)  17(35)  29(64)  40(91)  49(114)\n",
       "0    1.010  3.512   6.637  13.340  22.990   35.630\n",
       "1    1.025  2.463   4.311   8.488  14.690   22.690\n",
       "2    1.050  1.996   3.230   6.129  10.520   16.230\n",
       "3    1.100  1.702   2.550   4.559   7.667   11.760\n",
       "4    1.150  1.585   2.279   3.922   6.478    9.841\n",
       "5    1.250  1.474   2.030   3.337   5.362    8.030\n",
       "6    1.350  1.422   1.911   3.053   4.811    7.127\n",
       "7    1.600  1.360   1.775   2.726   4.170    6.046\n",
       "8    1.850  1.333   1.713   2.576   3.872    5.537\n",
       "9    2.500  1.303   1.643   2.401   3.512    4.904\n",
       "10   3.150  1.290   1.612   2.320   3.337    4.587\n",
       "11   5.250  1.273   1.569   2.194   3.052    4.057\n",
       "12   7.350  1.264   1.545   2.122   2.885    3.748\n",
       "13  11.300  1.252   1.513   2.024   2.660    3.343\n",
       "14  15.250  1.241   1.483   1.938   2.483    3.036\n",
       "15  19.200  1.230   1.454   1.862   2.328    2.779"
      ]
     },
     "execution_count": 40,
     "metadata": {},
     "output_type": "execute_result"
    }
   ],
   "source": [
    "Suslov = pd.read_excel('../../fermi_func_tables/Suslov1968.xls', skiprows=6)\n",
    "Suslov"
   ]
  },
  {
   "cell_type": "code",
   "execution_count": 41,
   "metadata": {},
   "outputs": [],
   "source": [
    "def Suslov_func(p_e, Suslov_data, col_name):\n",
    "    #input энергия электрона в кэв\n",
    "    W = np.sqrt(p_e**2 + 1)\n",
    "    return np.interp(x = W, xp = Suslov_data['E,mc2'], \n",
    "                     fp = Suslov_data[col_name])"
   ]
  },
  {
   "cell_type": "code",
   "execution_count": 42,
   "metadata": {},
   "outputs": [],
   "source": [
    "e_e = np.linspace(2,20, 10) #энергия электрона в кэВ"
   ]
  },
  {
   "cell_type": "markdown",
   "metadata": {},
   "source": [
    "### Buhring 1965"
   ]
  },
  {
   "cell_type": "code",
   "execution_count": 43,
   "metadata": {},
   "outputs": [
    {
     "data": {
      "text/html": [
       "<div>\n",
       "<style scoped>\n",
       "    .dataframe tbody tr th:only-of-type {\n",
       "        vertical-align: middle;\n",
       "    }\n",
       "\n",
       "    .dataframe tbody tr th {\n",
       "        vertical-align: top;\n",
       "    }\n",
       "\n",
       "    .dataframe thead th {\n",
       "        text-align: right;\n",
       "    }\n",
       "</style>\n",
       "<table border=\"1\" class=\"dataframe\">\n",
       "  <thead>\n",
       "    <tr style=\"text-align: right;\">\n",
       "      <th></th>\n",
       "      <th>p</th>\n",
       "      <th>Ar17(35)</th>\n",
       "      <th>Zn30(64)</th>\n",
       "      <th>Kr40(90)</th>\n",
       "      <th>Kr50(114)</th>\n",
       "    </tr>\n",
       "  </thead>\n",
       "  <tbody>\n",
       "    <tr>\n",
       "      <th>0</th>\n",
       "      <td>0.2</td>\n",
       "      <td>4461</td>\n",
       "      <td>9513</td>\n",
       "      <td>15585</td>\n",
       "      <td>25282</td>\n",
       "    </tr>\n",
       "    <tr>\n",
       "      <th>1</th>\n",
       "      <td>0.4</td>\n",
       "      <td>2617</td>\n",
       "      <td>5073</td>\n",
       "      <td>8156</td>\n",
       "      <td>13162</td>\n",
       "    </tr>\n",
       "    <tr>\n",
       "      <th>2</th>\n",
       "      <td>0.6</td>\n",
       "      <td>2118</td>\n",
       "      <td>3789</td>\n",
       "      <td>5905</td>\n",
       "      <td>9373</td>\n",
       "    </tr>\n",
       "    <tr>\n",
       "      <th>3</th>\n",
       "      <td>0.8</td>\n",
       "      <td>1905</td>\n",
       "      <td>3232</td>\n",
       "      <td>4909</td>\n",
       "      <td>7650</td>\n",
       "    </tr>\n",
       "    <tr>\n",
       "      <th>4</th>\n",
       "      <td>1.0</td>\n",
       "      <td>1791</td>\n",
       "      <td>2937</td>\n",
       "      <td>4374</td>\n",
       "      <td>6707</td>\n",
       "    </tr>\n",
       "    <tr>\n",
       "      <th>5</th>\n",
       "      <td>1.2</td>\n",
       "      <td>1724</td>\n",
       "      <td>2759</td>\n",
       "      <td>4049</td>\n",
       "      <td>6127</td>\n",
       "    </tr>\n",
       "    <tr>\n",
       "      <th>6</th>\n",
       "      <td>1.4</td>\n",
       "      <td>1680</td>\n",
       "      <td>2642</td>\n",
       "      <td>3833</td>\n",
       "      <td>5736</td>\n",
       "    </tr>\n",
       "    <tr>\n",
       "      <th>7</th>\n",
       "      <td>1.6</td>\n",
       "      <td>1649</td>\n",
       "      <td>2560</td>\n",
       "      <td>3680</td>\n",
       "      <td>5456</td>\n",
       "    </tr>\n",
       "    <tr>\n",
       "      <th>8</th>\n",
       "      <td>1.8</td>\n",
       "      <td>1627</td>\n",
       "      <td>2500</td>\n",
       "      <td>3566</td>\n",
       "      <td>5244</td>\n",
       "    </tr>\n",
       "    <tr>\n",
       "      <th>9</th>\n",
       "      <td>2.0</td>\n",
       "      <td>1610</td>\n",
       "      <td>2453</td>\n",
       "      <td>3477</td>\n",
       "      <td>5076</td>\n",
       "    </tr>\n",
       "  </tbody>\n",
       "</table>\n",
       "</div>"
      ],
      "text/plain": [
       "     p  Ar17(35)  Zn30(64)  Kr40(90)  Kr50(114)\n",
       "0  0.2      4461      9513     15585      25282\n",
       "1  0.4      2617      5073      8156      13162\n",
       "2  0.6      2118      3789      5905       9373\n",
       "3  0.8      1905      3232      4909       7650\n",
       "4  1.0      1791      2937      4374       6707\n",
       "5  1.2      1724      2759      4049       6127\n",
       "6  1.4      1680      2642      3833       5736\n",
       "7  1.6      1649      2560      3680       5456\n",
       "8  1.8      1627      2500      3566       5244\n",
       "9  2.0      1610      2453      3477       5076"
      ]
     },
     "execution_count": 43,
     "metadata": {},
     "output_type": "execute_result"
    }
   ],
   "source": [
    "Buhring = pd.read_excel('../../fermi_func_tables/Buhring1965.xls')\n",
    "Buhring"
   ]
  },
  {
   "cell_type": "code",
   "execution_count": 44,
   "metadata": {},
   "outputs": [
    {
     "data": {
      "text/plain": [
       "(array([ 0.14177447,  0.225     ,  0.32015621,  0.45825757,  0.56789083,\n",
       "         0.75      ,  0.90691786,  1.2489996 ,  1.55643824,  2.29128785,\n",
       "         2.98705541,  5.15388203,  7.28165503, 11.25566524, 15.21717779,\n",
       "        19.17394065]),\n",
       " array([ 1.01 ,  1.025,  1.05 ,  1.1  ,  1.15 ,  1.25 ,  1.35 ,  1.6  ,\n",
       "         1.85 ,  2.5  ,  3.15 ,  5.25 ,  7.35 , 11.3  , 15.25 , 19.2  ]),\n",
       " array([0.2, 0.4, 0.6, 0.8, 1. , 1.2, 1.4, 1.6, 1.8, 2. ]))"
      ]
     },
     "execution_count": 44,
     "metadata": {},
     "output_type": "execute_result"
    }
   ],
   "source": [
    "np.sqrt((Suslov['E,mc2'].values)**2 - 1), Suslov['E,mc2'].values, Buhring['p'].values"
   ]
  },
  {
   "cell_type": "code",
   "execution_count": 45,
   "metadata": {},
   "outputs": [
    {
     "data": {
      "image/png": "[encoded data removed]",
      "text/plain": [
       "<Figure size 864x504 with 1 Axes>"
      ]
     },
     "metadata": {
      "needs_background": "light"
     },
     "output_type": "display_data"
    }
   ],
   "source": [
    "plt.figure(figsize=(12,7))\n",
    "plt.scatter(Buhring['p'], Buhring['Ar17(35)'] / 1000, marker='v', c='k')\n",
    "plt.scatter(Buhring['p'], Suslov_func(Buhring['p'], Suslov, '17(35)'), marker='v', c='g')\n",
    "\n",
    "plt.scatter(Buhring['p'], Buhring['Zn30(64)'] / 1000, marker='*', c='k')\n",
    "plt.scatter(Buhring['p'], Suslov_func(Buhring['p'], Suslov, '29(64)'), marker='*', c='g')\n",
    "\n",
    "plt.scatter(Buhring['p'], Buhring['Kr50(114)'] / 1000, marker='+', c='k')\n",
    "plt.scatter(Buhring['p'], Suslov_func(Buhring['p'], Suslov, '49(114)'), marker='+', c='g')\n",
    "plt.show()"
   ]
  },
  {
   "cell_type": "code",
   "execution_count": null,
   "metadata": {},
   "outputs": [],
   "source": []
  },
  {
   "cell_type": "markdown",
   "metadata": {},
   "source": [
    "### Fermi-function from Numerical Tables for Beta-Decay and Electron Capture \n",
    "### Z и A даны для дочернего ядра"
   ]
  },
  {
   "cell_type": "code",
   "execution_count": 46,
   "metadata": {},
   "outputs": [
    {
     "data": {
      "text/html": [
       "<div>\n",
       "<style scoped>\n",
       "    .dataframe tbody tr th:only-of-type {\n",
       "        vertical-align: middle;\n",
       "    }\n",
       "\n",
       "    .dataframe tbody tr th {\n",
       "        vertical-align: top;\n",
       "    }\n",
       "\n",
       "    .dataframe thead th {\n",
       "        text-align: right;\n",
       "    }\n",
       "</style>\n",
       "<table border=\"1\" class=\"dataframe\">\n",
       "  <thead>\n",
       "    <tr style=\"text-align: right;\">\n",
       "      <th></th>\n",
       "      <th>p</th>\n",
       "      <th>Z=30</th>\n",
       "      <th>Z=50</th>\n",
       "    </tr>\n",
       "  </thead>\n",
       "  <tbody>\n",
       "    <tr>\n",
       "      <th>0</th>\n",
       "      <td>0.1</td>\n",
       "      <td>19.5240</td>\n",
       "      <td>55.613</td>\n",
       "    </tr>\n",
       "    <tr>\n",
       "      <th>1</th>\n",
       "      <td>0.2</td>\n",
       "      <td>9.8818</td>\n",
       "      <td>28.100</td>\n",
       "    </tr>\n",
       "    <tr>\n",
       "      <th>2</th>\n",
       "      <td>0.3</td>\n",
       "      <td>6.7573</td>\n",
       "      <td>19.053</td>\n",
       "    </tr>\n",
       "    <tr>\n",
       "      <th>3</th>\n",
       "      <td>0.4</td>\n",
       "      <td>5.2805</td>\n",
       "      <td>14.629</td>\n",
       "    </tr>\n",
       "    <tr>\n",
       "      <th>4</th>\n",
       "      <td>0.5</td>\n",
       "      <td>4.4542</td>\n",
       "      <td>12.060</td>\n",
       "    </tr>\n",
       "  </tbody>\n",
       "</table>\n",
       "</div>"
      ],
      "text/plain": [
       "     p     Z=30    Z=50\n",
       "0  0.1  19.5240  55.613\n",
       "1  0.2   9.8818  28.100\n",
       "2  0.3   6.7573  19.053\n",
       "3  0.4   5.2805  14.629\n",
       "4  0.5   4.4542  12.060"
      ]
     },
     "execution_count": 46,
     "metadata": {},
     "output_type": "execute_result"
    }
   ],
   "source": [
    "Janecki = pd.read_excel('../../fermi_func_tables/Janecki-Z=30,50.xls', )\n",
    "Janecki.head()"
   ]
  },
  {
   "cell_type": "code",
   "execution_count": 47,
   "metadata": {},
   "outputs": [
    {
     "data": {
      "text/plain": [
       "array([55.613 , 28.1   , 19.053 , 14.629 , 12.06  , 10.417 ,  9.2956,\n",
       "        8.4923,  7.8947,  7.4361,  6.7839,  6.3455,  6.031 ,  5.7939,\n",
       "        5.6078,  5.4569,  5.3312,  5.2242,  5.1314,  5.0498,  4.9769,\n",
       "        4.9113,  4.8515,  4.7967,  4.746 ,  4.6339,  4.5376,  4.453 ,\n",
       "        4.3773,  4.3087,  4.2458,  4.1877,  4.1336,  4.035 ,  3.9468,\n",
       "        3.8668,  3.7932,  3.7251,  3.6615,  3.5455,  3.4415,  3.3469,\n",
       "        3.1415,  2.9687,  2.8195,  2.6885,  2.5721,  2.4679])"
      ]
     },
     "execution_count": 47,
     "metadata": {},
     "output_type": "execute_result"
    }
   ],
   "source": [
    "Janecki['Z=50'].values"
   ]
  },
  {
   "cell_type": "code",
   "execution_count": 48,
   "metadata": {},
   "outputs": [],
   "source": [
    "def Janecki_func(p, Janecki_data, col_name):\n",
    "    return np.interp(x = p, xp = Janecki_data['p'], \n",
    "                     fp = Janecki_data[col_name])\n"
   ]
  },
  {
   "cell_type": "code",
   "execution_count": 49,
   "metadata": {},
   "outputs": [
    {
     "data": {
      "image/png": "[encoded data removed]",
      "text/plain": [
       "<Figure size 864x504 with 1 Axes>"
      ]
     },
     "metadata": {
      "needs_background": "light"
     },
     "output_type": "display_data"
    }
   ],
   "source": [
    "plt.figure(figsize=(12,7))\n",
    "#plt.scatter(Buhring['p'], Buhring['Ar17(35)'] / 1000, marker='v', c='k')\n",
    "#plt.scatter(Buhring['p'], Suslov_func(Buhring['p'], Suslov, '17(35)'), marker='+', c='g')\n",
    "\n",
    "plt.scatter(Buhring['p'], Buhring['Zn30(64)'] / 1000, marker='*', c='k', label='Buhring')\n",
    "plt.scatter(Buhring['p'], Suslov_func(Buhring['p'], Suslov, '29(64)'), marker='*', c='g', label='Suslov')\n",
    "plt.scatter(Buhring['p'], Janecki_func(Buhring['p'], Janecki, 'Z=30'), marker='*', c='r', label='Janecki')\n",
    "\n",
    "plt.scatter(Buhring['p'], Buhring['Kr50(114)'] / 1000, marker='+', c='k', label='Buhring')\n",
    "plt.scatter(Buhring['p'], Suslov_func(Buhring['p'], Suslov, '49(114)'), marker='+', c='g', label='Suslov')\n",
    "plt.scatter(Buhring['p'], Janecki_func(Buhring['p'], Janecki, 'Z=50'), marker='+', c='r', label='Janecki')\n",
    "\n",
    "plt.legend()\n",
    "plt.show()"
   ]
  },
  {
   "cell_type": "code",
   "execution_count": 50,
   "metadata": {},
   "outputs": [
    {
     "data": {
      "image/png": "[encoded data removed]",
      "text/plain": [
       "<Figure size 864x504 with 1 Axes>"
      ]
     },
     "metadata": {
      "needs_background": "light"
     },
     "output_type": "display_data"
    }
   ],
   "source": [
    "plt.figure(figsize=(12,7))\n",
    "plt.scatter(Buhring['p'], (Buhring['Zn30(64)'] / 1000) / Suslov_func(Buhring['p'], Suslov, '29(64)'), marker='*', c='k', label='Buhring / Suslov Z=30')\n",
    "#plt.scatter(Buhring['p'], Janecki_func(Buhring['p'], Janecki, 'Z=30') / Suslov_func(Buhring['p'], Suslov, '29(64)'), marker='*', c='r', label='Janecki  / Suslov Z=30')\n",
    "\n",
    "plt.scatter(Buhring['p'], (Buhring['Kr50(114)'] / 1000) / Suslov_func(Buhring['p'], Suslov, '49(114)'), marker='+', c='red', label='Buhring  / Suslov Z=50')\n",
    "#plt.scatter(Buhring['p'], Suslov_func(Buhring['p'], Suslov, '49(114)'), marker='+', c='g', label='Suslov')\n",
    "#plt.scatter(Buhring['p'], Janecki_func(Buhring['p'], Janecki, 'Z=50'), marker='+', c='r', label='Janecki')\n",
    "\n",
    "plt.legend(loc='lower right')\n",
    "plt.show()"
   ]
  },
  {
   "cell_type": "code",
   "execution_count": 51,
   "metadata": {},
   "outputs": [
    {
     "data": {
      "image/png": "[encoded data removed]",
      "text/plain": [
       "<Figure size 864x504 with 1 Axes>"
      ]
     },
     "metadata": {
      "needs_background": "light"
     },
     "output_type": "display_data"
    }
   ],
   "source": [
    "plt.figure(figsize=(12,7))\n",
    "#plt.scatter(Buhring['p'], (Buhring['Zn30(64)'] / 1000) / Suslov_func(Buhring['p'], Suslov, '29(64)'), marker='*', c='k', label='Buhring / Suslov Z=30')\n",
    "plt.scatter(Buhring['p'], Janecki_func(Buhring['p'], Janecki, 'Z=30') / Suslov_func(Buhring['p'], Suslov, '29(64)'), marker='*', c='k', label='Janecki  / Suslov Z=30')\n",
    "\n",
    "plt.scatter(Buhring['p'], Janecki_func(Buhring['p'], Janecki, 'Z=50') / Suslov_func(Buhring['p'], Suslov, '49(114)'), marker='+', c='r', label='Janecki / Suslov Z=50')\n",
    "\n",
    "plt.legend(loc='lower right')\n",
    "plt.show()"
   ]
  },
  {
   "cell_type": "code",
   "execution_count": null,
   "metadata": {},
   "outputs": [],
   "source": []
  }
 ],
 "metadata": {
  "kernelspec": {
   "display_name": "Python [conda env:science]",
   "language": "python",
   "name": "conda-env-science-py"
  },
  "language_info": {
   "codemirror_mode": {
    "name": "ipython",
    "version": 3
   },
   "file_extension": ".py",
   "mimetype": "text/x-python",
   "name": "python",
   "nbconvert_exporter": "python",
   "pygments_lexer": "ipython3",
   "version": "3.7.7"
  }
 },
 "nbformat": 4,
 "nbformat_minor": 2
}

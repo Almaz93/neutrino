{
 "cells": [
  {
   "cell_type": "markdown",
   "metadata": {},
   "source": [
    "Проверка подсчета свертки сечения с потоком с помощью разных методик интегрирования"
   ]
  },
  {
   "cell_type": "code",
   "execution_count": 1,
   "metadata": {},
   "outputs": [
    {
     "name": "stdout",
     "output_type": "stream",
     "text": [
      "Populating the interactive namespace from numpy and matplotlib\n"
     ]
    }
   ],
   "source": [
    "import math\n",
    "import numpy as np\n",
    "import pandas as pd\n",
    "import scipy as sc\n",
    "import matplotlib.pyplot as plt\n",
    "%pylab inline\n",
    "\n",
    "from scipy.integrate import quad, fixed_quad, romberg\n",
    "import scipy.integrate as sc_in"
   ]
  },
  {
   "cell_type": "code",
   "execution_count": 2,
   "metadata": {},
   "outputs": [],
   "source": [
    "Q_EC_76As=0.9233 #in MeV\n",
    "Z_76As=33\n",
    "log_ft_76As=5.0\n",
    "\n",
    "Q_EC_37Ar=0.81387 #in MeV\n",
    "Z_37Ar=18\n",
    "log_ft_37Ar=5.1\n",
    "\n",
    "g_a_g_v=1.297 #ratio of vector and axial coupling constants"
   ]
  },
  {
   "cell_type": "code",
   "execution_count": 3,
   "metadata": {},
   "outputs": [],
   "source": [
    "def Q_k_func(E_k, Q_EC):\n",
    "    #Считаем порог реакции, E_k - энергия возбужденного состояния\n",
    "    #E_k in KeV\n",
    "    return Q_EC+E_k/1000"
   ]
  },
  {
   "cell_type": "markdown",
   "metadata": {},
   "source": [
    "Привиденная энергия вылетающего электрона: $\\epsilon_e = \\frac{E_{\\nu}-Q_k}{m_e} + 1$"
   ]
  },
  {
   "cell_type": "code",
   "execution_count": 4,
   "metadata": {},
   "outputs": [],
   "source": [
    "def e_e_func(E_nu, E_k, Q_EC):\n",
    "    #Считаем привиденную энергию вылетающего электрона. Если энергия налетающего нейтрино E_nu\n",
    "    #меньше порога, возвращаем 0 для обнуления итогового сечения\n",
    "    #E_nu in MeV\n",
    "    q=Q_k_func(E_k, Q_EC) #порог реакции\n",
    "    if E_nu>q: return 1+(E_nu-q)/0.511\n",
    "    else: return 0 "
   ]
  },
  {
   "cell_type": "markdown",
   "metadata": {},
   "source": [
    "Привиденный импульс электрона: $\\pi_e=\\sqrt{\\epsilon_e^2 -1}$"
   ]
  },
  {
   "cell_type": "code",
   "execution_count": 5,
   "metadata": {},
   "outputs": [],
   "source": [
    "def Pi_e_func(e_e):\n",
    "    #Привиденный импульс электрона, вычисляется через привиденную энергию; ** означает степень  \n",
    "    return np.sqrt(np.square(e_e) - 1)"
   ]
  },
  {
   "cell_type": "code",
   "execution_count": 6,
   "metadata": {},
   "outputs": [
    {
     "data": {
      "text/plain": [
       "9"
      ]
     },
     "execution_count": 6,
     "metadata": {},
     "output_type": "execute_result"
    }
   ],
   "source": [
    "np.square(3)"
   ]
  },
  {
   "cell_type": "markdown",
   "metadata": {},
   "source": [
    "### Fermi-function from Numerical Tables for Beta-Decay and Electron Capture"
   ]
  },
  {
   "cell_type": "code",
   "execution_count": 7,
   "metadata": {},
   "outputs": [
    {
     "name": "stdout",
     "output_type": "stream",
     "text": [
      "<class 'pandas.core.frame.DataFrame'>\n",
      "RangeIndex: 49 entries, 0 to 48\n",
      "Data columns (total 14 columns):\n",
      "P              49 non-null float64\n",
      "F0L0           49 non-null float64\n",
      "L0             48 non-null object\n",
      "1z             48 non-null float64\n",
      "13             48 non-null float64\n",
      "ELECTRON\n",
      "14    48 non-null float64\n",
      "Z= 33\n",
      "Izt      48 non-null float64\n",
      "A= 77          48 non-null float64\n",
      "A,             48 non-null float64\n",
      "A2             48 non-null float64\n",
      "VI2            48 non-null float64\n",
      "912            48 non-null float64\n",
      "12             48 non-null float64\n",
      "Unnamed: 13    48 non-null float64\n",
      "dtypes: float64(13), object(1)\n",
      "memory usage: 5.4+ KB\n"
     ]
    }
   ],
   "source": [
    "Fermi_func_new_data = pd.read_excel('../../fermi_func_tables/from_1968/13.xlsx')\n",
    "Fermi_func_new_data.info()"
   ]
  },
  {
   "cell_type": "code",
   "execution_count": 8,
   "metadata": {},
   "outputs": [],
   "source": [
    "#e_e = np.linspace(0,10,100, endpoint=False)\n",
    "#Z - дочернего ядра, т.е 76As\n",
    "\n",
    "e_e3 = np.sqrt( np.square( Fermi_func_new_data['P'].values ) + 1 )\n",
    "def num_tables_func(x):\n",
    "    #x in units of mc^2\n",
    "    return np.interp(x=x, xp=e_e3, fp=Fermi_func_new_data['F0L0'].values )\n",
    "\n",
    "#Num_tab =  num_tables_func( e_e )"
   ]
  },
  {
   "cell_type": "markdown",
   "metadata": {},
   "source": [
    "### B(GT)"
   ]
  },
  {
   "cell_type": "code",
   "execution_count": 9,
   "metadata": {},
   "outputs": [
    {
     "name": "stdout",
     "output_type": "stream",
     "text": [
      "<class 'pandas.core.frame.DataFrame'>\n",
      "RangeIndex: 73 entries, 0 to 72\n",
      "Data columns (total 5 columns):\n",
      "Unnamed: 0        73 non-null int64\n",
      "Ex                73 non-null float64\n",
      "Jpi               73 non-null object\n",
      "diff cross-sec    73 non-null float64\n",
      "B(GT)             73 non-null float64\n",
      "dtypes: float64(3), int64(1), object(1)\n",
      "memory usage: 2.9+ KB\n"
     ]
    }
   ],
   "source": [
    "BGT=pd.read_csv('../B(GT) peaks processing/clear_B(GT).csv') #таблица со значениями B(GT)\n",
    "BGT.info()"
   ]
  },
  {
   "cell_type": "code",
   "execution_count": 10,
   "metadata": {},
   "outputs": [],
   "source": [
    "BGT['B(GT)'] = BGT['B(GT)']/10"
   ]
  },
  {
   "cell_type": "markdown",
   "metadata": {},
   "source": [
    "### BS05_OP flux"
   ]
  },
  {
   "cell_type": "code",
   "execution_count": 11,
   "metadata": {},
   "outputs": [
    {
     "name": "stdout",
     "output_type": "stream",
     "text": [
      "<class 'pandas.core.frame.DataFrame'>\n",
      "RangeIndex: 2000 entries, 0 to 1999\n",
      "Data columns (total 7 columns):\n",
      "energy    2000 non-null float64\n",
      "pp        2000 non-null float64\n",
      "hep       2000 non-null float64\n",
      "N         2000 non-null float64\n",
      "F         2000 non-null float64\n",
      "O         2000 non-null float64\n",
      "B         2000 non-null float64\n",
      "dtypes: float64(7)\n",
      "memory usage: 109.5 KB\n"
     ]
    }
   ],
   "source": [
    "BS05_OP=pd.read_csv('../Vyborov_results/Fluxes/AllFluxes_BS05(OP).csv', sep=';')\n",
    "BS05_OP.info()"
   ]
  },
  {
   "cell_type": "markdown",
   "metadata": {},
   "source": [
    "### Cross-section and total rate"
   ]
  },
  {
   "cell_type": "markdown",
   "metadata": {},
   "source": [
    "Сечение по Иджири $\\sigma_k={(1.597\\times10^{-44}\\ cm^2)}\\epsilon_e \\pi_e m_e^2 F(Z,E_e) [B(F)_k + (\\frac{g_a}{g_v})^2 B(GT)_k] $ "
   ]
  },
  {
   "cell_type": "code",
   "execution_count": 12,
   "metadata": {},
   "outputs": [],
   "source": [
    "#math.pow(0.511,2)*math.pow(g_a_g_v,2)*1.597*math.pow(10,-44)\n",
    "\n",
    "def sigma_k(E_nu, E_k, BGT_k, Z, Q_EC):\n",
    "    #сечение k-го возб. состояния по Иджири\n",
    "    Q = Q_k_func(E_k, Q_EC) #порог\n",
    "    if E_nu > Q:\n",
    "        e_e = (E_nu-Q)/0.511 + 1\n",
    "        Pi_e=Pi_e_func(e_e)\n",
    "        F_col=num_tables_func(e_e)#ферми функция\n",
    "        return e_e*Pi_e*F_col*BGT_k\n",
    "    else: return 0"
   ]
  },
  {
   "cell_type": "code",
   "execution_count": 13,
   "metadata": {},
   "outputs": [],
   "source": [
    "def flux(Energy, flux_name):\n",
    "    return np.interp(x=Energy, xp=BS05_OP['energy'], fp=BS05_OP[flux_name] )"
   ]
  },
  {
   "cell_type": "code",
   "execution_count": 14,
   "metadata": {},
   "outputs": [],
   "source": [
    "def integrand(E_nu, E_k, BGT_k, flux_name):\n",
    "    return sigma_k(E_nu, E_k, BGT_k, Z_76As, Q_EC_76As)*flux(E_nu, flux_name)"
   ]
  },
  {
   "cell_type": "code",
   "execution_count": 15,
   "metadata": {},
   "outputs": [],
   "source": [
    "const = math.pow(0.511,2)*math.pow(g_a_g_v,2)*1.597*math.pow(10,-44)"
   ]
  },
  {
   "cell_type": "code",
   "execution_count": 16,
   "metadata": {},
   "outputs": [],
   "source": [
    "def R_k_ab(E_k, BGT_k, flux_name, a, b):\n",
    "#    return romberg(integrand, 0, 20, args=(E_k, BGT_k, flux_name), divmax=10)\n",
    "    return quad(integrand, 0, 20, args=(E_k, BGT_k, flux_name))\n",
    "#    result = quad(integrand, 0, 20, args=(E_k, BGT_k, flux_name), full_output=True)\n",
    "#    return result\n",
    "#    return romberg(integrand, a, b, args=(E_k, BGT_k, flux_name))"
   ]
  },
  {
   "cell_type": "code",
   "execution_count": 17,
   "metadata": {},
   "outputs": [],
   "source": [
    "#R_k(BGT['Ex'].values[0], BGT['B(GT)'].values[0], 'B')"
   ]
  },
  {
   "cell_type": "code",
   "execution_count": 18,
   "metadata": {},
   "outputs": [],
   "source": [
    "def R_k(E_k, BGT_k, flux_name):\n",
    "    return sum([R_k_ab(E_k, BGT_k, flux_name, a, b) for (a,b) \n",
    "                in zip(np.arange(0,20,1), np.arange(1,21,1))])"
   ]
  },
  {
   "cell_type": "code",
   "execution_count": 19,
   "metadata": {},
   "outputs": [],
   "source": [
    "def R(flux_name):\n",
    "    return sum([R_k(Ex, B_GT, flux_name) for (Ex, B_GT) in \n",
    "                zip(BGT['Ex'].values, BGT['B(GT)'].values)]) * const * math.pow(10,36)"
   ]
  },
  {
   "cell_type": "code",
   "execution_count": 20,
   "metadata": {},
   "outputs": [],
   "source": [
    "import warnings\n",
    "warnings.filterwarnings('ignore')"
   ]
  },
  {
   "cell_type": "code",
   "execution_count": 21,
   "metadata": {},
   "outputs": [
    {
     "name": "stdout",
     "output_type": "stream",
     "text": [
      "pp 0.0\n",
      "hep 0.991303461369\n",
      "N 0.0\n",
      "F 0.397431118789\n",
      "O 15.6354139479\n",
      "B 298.668293272\n"
     ]
    }
   ],
   "source": [
    "for flux_name in list(BS05_OP.columns)[1:]:\n",
    "    print( flux_name, R(flux_name) )"
   ]
  },
  {
   "cell_type": "markdown",
   "metadata": {},
   "source": [
    "romberg result\n",
    "\n",
    "pp 0.0  \n",
    "hep 0.0494961956331  \n",
    "N 0.0  \n",
    "F 0.0219029058787  \n",
    "O 0.860019416531  \n",
    "B 14.9325529493  "
   ]
  },
  {
   "cell_type": "markdown",
   "metadata": {},
   "source": [
    "quad result\n",
    "\n",
    "pp 0.0  \n",
    "hep 0.0495011694405  \n",
    "N 0.102464290385  \n",
    "F 0.0219173456067  \n",
    "O 0.860628316532  \n",
    "B 14.9325574868  "
   ]
  },
  {
   "cell_type": "code",
   "execution_count": 22,
   "metadata": {},
   "outputs": [],
   "source": [
    "BS05_OP_convolution = {'B':14.9325450351,\n",
    "                       'pp':0.0,\n",
    "                       'O':0.860093202034,\n",
    "                       'F':0.0219055356605,\n",
    "                       'N':0.101981181764,\n",
    "                       'hep':0.0494961877882,\n",
    "                       'pep':1.43946621379\n",
    "                      }"
   ]
  },
  {
   "cell_type": "code",
   "execution_count": null,
   "metadata": {},
   "outputs": [],
   "source": []
  }
 ],
 "metadata": {
  "kernelspec": {
   "display_name": "Python 3",
   "language": "python",
   "name": "python3"
  },
  "language_info": {
   "codemirror_mode": {
    "name": "ipython",
    "version": 3
   },
   "file_extension": ".py",
   "mimetype": "text/x-python",
   "name": "python",
   "nbconvert_exporter": "python",
   "pygments_lexer": "ipython3",
   "version": "3.5.2"
  }
 },
 "nbformat": 4,
 "nbformat_minor": 2
}

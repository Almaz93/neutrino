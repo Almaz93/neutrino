{
 "cells": [
  {
   "cell_type": "code",
   "execution_count": 36,
   "metadata": {},
   "outputs": [
    {
     "name": "stdout",
     "output_type": "stream",
     "text": [
      "Populating the interactive namespace from numpy and matplotlib\n"
     ]
    }
   ],
   "source": [
    "import math\n",
    "import numpy as np\n",
    "import pandas as pd\n",
    "import scipy as sc\n",
    "import matplotlib.pyplot as plt\n",
    "%pylab inline"
   ]
  },
  {
   "cell_type": "code",
   "execution_count": 37,
   "metadata": {},
   "outputs": [],
   "source": [
    "Q_EC_76As=0.9233 #in MeV\n",
    "Z_76As=33\n",
    "log_ft_76As=5.0\n",
    "\n",
    "Q_EC_37Ar=0.81387 #in MeV\n",
    "Z_37Ar=18\n",
    "log_ft_37Ar=5.1\n",
    "\n",
    "g_a_g_v=1.297 #ratio of vector and axial coupling constants"
   ]
  },
  {
   "cell_type": "code",
   "execution_count": 38,
   "metadata": {},
   "outputs": [],
   "source": [
    "def Q_k_func(E_k, Q_EC):\n",
    "    #Считаем порог реакции, E_k - энергия возбужденного состояния\n",
    "    #E_k in KeV\n",
    "    return Q_EC+E_k/1000"
   ]
  },
  {
   "cell_type": "markdown",
   "metadata": {},
   "source": [
    "Привиденная энергия вылетающего электрона: $\\epsilon_e = \\frac{E_{\\nu}-Q_k}{m_e} + 1$"
   ]
  },
  {
   "cell_type": "code",
   "execution_count": 39,
   "metadata": {},
   "outputs": [],
   "source": [
    "def e_e_func(E_nu, E_k, Q_EC):\n",
    "    #Считаем привиденную энергию вылетающего электрона. Если энергия налетающего нейтрино E_nu\n",
    "    #меньше порога, возвращаем 0 для обнуления итогового сечения\n",
    "    #E_nu in MeV\n",
    "    q=Q_k_func(E_k, Q_EC) #порог реакции\n",
    "    if E_nu>q: return 1+(E_nu-q)/0.511\n",
    "    else: return 0 "
   ]
  },
  {
   "cell_type": "markdown",
   "metadata": {},
   "source": [
    "Привиденный импульс электрона: $\\pi_e=\\sqrt{\\epsilon_e^2 -1}$"
   ]
  },
  {
   "cell_type": "code",
   "execution_count": 40,
   "metadata": {},
   "outputs": [],
   "source": [
    "def Pi_e_func(e_e):\n",
    "    #Привиденный импульс электрона, вычисляется через привиденную энергию; ** означает степень  \n",
    "    if e_e>1: return math.sqrt(e_e**2 - 1)\n",
    "    else: return 0"
   ]
  },
  {
   "cell_type": "markdown",
   "metadata": {},
   "source": [
    "Ферми функция по Бакалу: $F(Z, {\\epsilon}_e)= \\frac{y}{1-e^{-y}}$, где $ {y} = \\frac{2{\\pi}Z\\alpha \\epsilon_e}{\\pi_e} $"
   ]
  },
  {
   "cell_type": "code",
   "execution_count": 41,
   "metadata": {},
   "outputs": [],
   "source": [
    "def Columb_func_Bahcall(Pi_e, Z, e_e):\n",
    "    #ферми функция по Бакалу\n",
    "    if Pi_e>0:\n",
    "        y_k=(2*math.pi*Z*e_e)/(Pi_e*137)\n",
    "        return y_k/(1-math.exp(-y_k))\n",
    "    else: return 0"
   ]
  },
  {
   "cell_type": "markdown",
   "metadata": {},
   "source": [
    "### Suslov"
   ]
  },
  {
   "cell_type": "code",
   "execution_count": 42,
   "metadata": {},
   "outputs": [
    {
     "name": "stdout",
     "output_type": "stream",
     "text": [
      "<class 'pandas.core.frame.DataFrame'>\n",
      "RangeIndex: 101 entries, 0 to 100\n",
      "Data columns (total 2 columns):\n",
      "E_kev    101 non-null int64\n",
      "Z=32     101 non-null float64\n",
      "dtypes: float64(1), int64(1)\n",
      "memory usage: 1.7 KB\n"
     ]
    }
   ],
   "source": [
    "Fermi_Sus = pd.read_excel('../../fermi_func_tables/Z=32+1.xlsx')\n",
    "Fermi_Sus.info()"
   ]
  },
  {
   "cell_type": "code",
   "execution_count": 43,
   "metadata": {},
   "outputs": [
    {
     "data": {
      "text/html": [
       "<div>\n",
       "<style>\n",
       "    .dataframe thead tr:only-child th {\n",
       "        text-align: right;\n",
       "    }\n",
       "\n",
       "    .dataframe thead th {\n",
       "        text-align: left;\n",
       "    }\n",
       "\n",
       "    .dataframe tbody tr th {\n",
       "        vertical-align: top;\n",
       "    }\n",
       "</style>\n",
       "<table border=\"1\" class=\"dataframe\">\n",
       "  <thead>\n",
       "    <tr style=\"text-align: right;\">\n",
       "      <th></th>\n",
       "      <th>E_kev</th>\n",
       "      <th>Z=32</th>\n",
       "      <th>E_meV</th>\n",
       "    </tr>\n",
       "  </thead>\n",
       "  <tbody>\n",
       "    <tr>\n",
       "      <th>0</th>\n",
       "      <td>0</td>\n",
       "      <td>0.000</td>\n",
       "      <td>0.000</td>\n",
       "    </tr>\n",
       "    <tr>\n",
       "      <th>1</th>\n",
       "      <td>5</td>\n",
       "      <td>1.567</td>\n",
       "      <td>0.005</td>\n",
       "    </tr>\n",
       "    <tr>\n",
       "      <th>2</th>\n",
       "      <td>6</td>\n",
       "      <td>1.432</td>\n",
       "      <td>0.006</td>\n",
       "    </tr>\n",
       "    <tr>\n",
       "      <th>3</th>\n",
       "      <td>7</td>\n",
       "      <td>1.327</td>\n",
       "      <td>0.007</td>\n",
       "    </tr>\n",
       "    <tr>\n",
       "      <th>4</th>\n",
       "      <td>8</td>\n",
       "      <td>1.243</td>\n",
       "      <td>0.008</td>\n",
       "    </tr>\n",
       "  </tbody>\n",
       "</table>\n",
       "</div>"
      ],
      "text/plain": [
       "   E_kev   Z=32  E_meV\n",
       "0      0  0.000  0.000\n",
       "1      5  1.567  0.005\n",
       "2      6  1.432  0.006\n",
       "3      7  1.327  0.007\n",
       "4      8  1.243  0.008"
      ]
     },
     "execution_count": 43,
     "metadata": {},
     "output_type": "execute_result"
    }
   ],
   "source": [
    "Fermi_Sus['E_meV'] = Fermi_Sus['E_kev']/1000\n",
    "Fermi_Sus.head()"
   ]
  },
  {
   "cell_type": "code",
   "execution_count": 44,
   "metadata": {},
   "outputs": [],
   "source": [
    "def Fermi_Sus_func(e_e):\n",
    "    #input привиденная энергия электрона\n",
    "    return np.interp(x = e_e*0.511, xp = Fermi_Sus['E_meV'], \n",
    "                     fp = Fermi_Sus['Z=32'])"
   ]
  },
  {
   "cell_type": "code",
   "execution_count": 45,
   "metadata": {},
   "outputs": [],
   "source": [
    "e_e = np.linspace(0,10,100, endpoint=False)\n",
    "Suslov = Fermi_Sus_func(e_e-1) #-1 т.к. на вход идет кин. энергия"
   ]
  },
  {
   "cell_type": "markdown",
   "metadata": {},
   "source": [
    "### Bahcall"
   ]
  },
  {
   "cell_type": "code",
   "execution_count": 46,
   "metadata": {},
   "outputs": [],
   "source": [
    "pi_e = [Pi_e_func(elem) for elem in e_e]\n",
    "\n",
    "Bahcall = [Columb_func_Bahcall(pi_value, Z_76As, e_value) for (pi_value, e_value) in \n",
    "          zip(pi_e, e_e)]"
   ]
  },
  {
   "cell_type": "markdown",
   "metadata": {},
   "source": [
    "### Fermi-function from Numerical Tables for Beta-Decay and Electron Capture"
   ]
  },
  {
   "cell_type": "code",
   "execution_count": 47,
   "metadata": {},
   "outputs": [
    {
     "name": "stdout",
     "output_type": "stream",
     "text": [
      "<class 'pandas.core.frame.DataFrame'>\n",
      "RangeIndex: 49 entries, 0 to 48\n",
      "Data columns (total 14 columns):\n",
      "P              49 non-null float64\n",
      "F0L0           49 non-null float64\n",
      "L0             48 non-null object\n",
      "1z             48 non-null float64\n",
      "13             48 non-null float64\n",
      "ELECTRON\n",
      "14    48 non-null float64\n",
      "Z= 33\n",
      "Izt      48 non-null float64\n",
      "A= 77          48 non-null float64\n",
      "A,             48 non-null float64\n",
      "A2             48 non-null float64\n",
      "VI2            48 non-null float64\n",
      "912            48 non-null float64\n",
      "12             48 non-null float64\n",
      "Unnamed: 13    48 non-null float64\n",
      "dtypes: float64(13), object(1)\n",
      "memory usage: 5.4+ KB\n"
     ]
    }
   ],
   "source": [
    "Fermi_func_new_data = pd.read_excel('../../fermi_func_tables/from_1968/13.xlsx')\n",
    "Fermi_func_new_data.info()"
   ]
  },
  {
   "cell_type": "code",
   "execution_count": 48,
   "metadata": {},
   "outputs": [],
   "source": [
    "e_e3 = np.sqrt( np.square( Fermi_func_new_data['P'].values ) + 1 )\n",
    "def num_tables_func(x):\n",
    "    #x in units of mc^2\n",
    "    return np.interp(x=x, xp=e_e3, fp=Fermi_func_new_data['F0L0'].values )\n",
    "\n",
    "Num_tab =  num_tables_func( e_e )"
   ]
  },
  {
   "cell_type": "code",
   "execution_count": 71,
   "metadata": {},
   "outputs": [
    {
     "data": {
      "image/png": "[encoded data removed]",
      "text/plain": [
       "<matplotlib.figure.Figure at 0x7f7df18c9390>"
      ]
     },
     "metadata": {},
     "output_type": "display_data"
    }
   ],
   "source": [
    "plt.figure(figsize=(12,5))\n",
    "#plt.plot(e_e, Suslov, c='red', ls=':', label='Suslov Fermi func')\n",
    "plt.plot(e_e, Num_tab, c='blue', ls='-', label='Num_tab Fermi func')\n",
    "#plt.plot(e_e, Bahcall, c='green', ls='-.', label='Bahcall Fermi func')\n",
    "plt.xlabel('$E_e$, outgoing electron energy in $mc^2$ units')\n",
    "plt.ylabel('Fermi function value')\n",
    "plt.legend()\n",
    "plt.grid()\n",
    "plt.show()"
   ]
  },
  {
   "cell_type": "markdown",
   "metadata": {},
   "source": [
    "### Cross-section and total rate"
   ]
  },
  {
   "cell_type": "markdown",
   "metadata": {},
   "source": [
    "Сечение по Иджири $\\sigma_k={(1.597\\times10^{-44}\\ cm^2)}\\epsilon_e \\pi_e m_e^2 F(Z,E_e) [B(F)_k + (\\frac{g_a}{g_v})^2 B(GT)_k] $ "
   ]
  },
  {
   "cell_type": "code",
   "execution_count": 50,
   "metadata": {},
   "outputs": [],
   "source": [
    "def sigma_k_Ejiri_num_tab(E_nu, E_k, BGT_k, Z, Q_EC):\n",
    "    #сечение k-го возб. состояния по Иджири\n",
    "    e_e=e_e_func(E_nu, E_k, Q_EC)\n",
    "    Pi_e=Pi_e_func(e_e)\n",
    "    F_col=num_tables_func(e_e)#ферми функция\n",
    "    #F_col=Columb_func_Bahcall(Pi_e, Z, e_e)\n",
    "    return e_e*Pi_e*F_col*math.pow(0.511,2)*math.pow(g_a_g_v,2)*BGT_k*1.597*math.pow(10,-44)"
   ]
  },
  {
   "cell_type": "code",
   "execution_count": 51,
   "metadata": {},
   "outputs": [
    {
     "name": "stdout",
     "output_type": "stream",
     "text": [
      "<class 'pandas.core.frame.DataFrame'>\n",
      "RangeIndex: 73 entries, 0 to 72\n",
      "Data columns (total 5 columns):\n",
      "Unnamed: 0        73 non-null int64\n",
      "Ex                73 non-null float64\n",
      "Jpi               73 non-null object\n",
      "diff cross-sec    73 non-null float64\n",
      "B(GT)             73 non-null float64\n",
      "dtypes: float64(3), int64(1), object(1)\n",
      "memory usage: 2.9+ KB\n"
     ]
    }
   ],
   "source": [
    "BGT=pd.read_csv('../B(GT) peaks processing/clear_B(GT).csv') #таблица со значениями B(GT)\n",
    "BGT.info()"
   ]
  },
  {
   "cell_type": "code",
   "execution_count": 52,
   "metadata": {},
   "outputs": [],
   "source": [
    "BGT['B(GT)'] = BGT['B(GT)']/10"
   ]
  },
  {
   "cell_type": "code",
   "execution_count": 53,
   "metadata": {},
   "outputs": [
    {
     "name": "stdout",
     "output_type": "stream",
     "text": [
      "<class 'pandas.core.frame.DataFrame'>\n",
      "RangeIndex: 2000 entries, 0 to 1999\n",
      "Data columns (total 2 columns):\n",
      "energy          2000 non-null float64\n",
      "sum_spectrum    2000 non-null float64\n",
      "dtypes: float64(2)\n",
      "memory usage: 31.3 KB\n"
     ]
    }
   ],
   "source": [
    "fluxes=pd.read_csv('../Vyborov_results/Fluxes/SumFluxes.csv', sep=';')\n",
    "fluxes.info()"
   ]
  },
  {
   "cell_type": "code",
   "execution_count": 54,
   "metadata": {},
   "outputs": [
    {
     "name": "stdout",
     "output_type": "stream",
     "text": [
      "<class 'pandas.core.frame.DataFrame'>\n",
      "RangeIndex: 2000 entries, 0 to 1999\n",
      "Data columns (total 7 columns):\n",
      "energy    2000 non-null float64\n",
      "pp        2000 non-null float64\n",
      "hep       2000 non-null float64\n",
      "N         2000 non-null float64\n",
      "F         2000 non-null float64\n",
      "O         2000 non-null float64\n",
      "B         2000 non-null float64\n",
      "dtypes: float64(7)\n",
      "memory usage: 109.5 KB\n"
     ]
    }
   ],
   "source": [
    "BS05_OP=pd.read_csv('../Vyborov_results/Fluxes/AllFluxes_BS05(OP).csv', sep=';')\n",
    "BS05_OP.info()"
   ]
  },
  {
   "cell_type": "code",
   "execution_count": 55,
   "metadata": {},
   "outputs": [],
   "source": [
    "Energy_all_fluxes = np.arange(0,20,0.01)\n",
    "\n",
    "#метод Иджири, Ферми функция немцев, все возб. состояния\n",
    "Ej_76As_num_tab_all_fluxes=[sum([sigma_k_Ejiri_num_tab(E_nu, E_k, BGT_k, Z_76As, Q_EC_76As) \n",
    "                            for (BGT_k, E_k) in zip(BGT['B(GT)'].values, BGT['Ex'].values)])\n",
    "                 for E_nu in Energy_all_fluxes]\n",
    "\n",
    "all_fluxes_step = 0.01"
   ]
  },
  {
   "cell_type": "code",
   "execution_count": 56,
   "metadata": {},
   "outputs": [
    {
     "data": {
      "text/plain": [
       "([<matplotlib.axis.XTick at 0x7f7df1b1b8d0>,\n",
       "  <matplotlib.axis.XTick at 0x7f7df1b1b898>,\n",
       "  <matplotlib.axis.XTick at 0x7f7df18db9e8>,\n",
       "  <matplotlib.axis.XTick at 0x7f7df189f860>,\n",
       "  <matplotlib.axis.XTick at 0x7f7df18a52b0>,\n",
       "  <matplotlib.axis.XTick at 0x7f7df18a5cc0>,\n",
       "  <matplotlib.axis.XTick at 0x7f7df18a7710>,\n",
       "  <matplotlib.axis.XTick at 0x7f7df18ab160>,\n",
       "  <matplotlib.axis.XTick at 0x7f7df18ab630>,\n",
       "  <matplotlib.axis.XTick at 0x7f7df18abf98>,\n",
       "  <matplotlib.axis.XTick at 0x7f7df18b19e8>,\n",
       "  <matplotlib.axis.XTick at 0x7f7df18b1c50>,\n",
       "  <matplotlib.axis.XTick at 0x7f7df189f2b0>],\n",
       " <a list of 13 Text xticklabel objects>)"
      ]
     },
     "execution_count": 56,
     "metadata": {},
     "output_type": "execute_result"
    },
    {
     "data": {
      "image/png": "[encoded data removed]",
      "text/plain": [
       "<matplotlib.figure.Figure at 0x7f7df18b9048>"
      ]
     },
     "metadata": {},
     "output_type": "display_data"
    }
   ],
   "source": [
    "plt.figure(figsize=(15,5))\n",
    "plt.plot(Energy_all_fluxes, Ej_76As_num_tab_all_fluxes, c='black', markevery=40, label='76As Ejiri, Bahcall Fermi func')\n",
    "plt.grid()\n",
    "plt.legend()\n",
    "plt.xlabel('$E_{nu}$ (MeV)')\n",
    "plt.ylabel('$\\sigma$ $(cm^2)$')\n",
    "plt.yscale('log')\n",
    "plt.xticks(list(plt.xticks()[0]) + [1,3])"
   ]
  },
  {
   "cell_type": "code",
   "execution_count": 57,
   "metadata": {},
   "outputs": [],
   "source": [
    "BS05_OP_dict = {}\n",
    "for elem in list(BS05_OP.columns)[1:]:\n",
    "    BS05_OP_dict.update({ elem : \n",
    "                        np.interp(x=Energy_all_fluxes, xp=BS05_OP['energy'], \n",
    "                                  fp=BS05_OP[elem] ) })"
   ]
  },
  {
   "cell_type": "code",
   "execution_count": 58,
   "metadata": {},
   "outputs": [
    {
     "name": "stdout",
     "output_type": "stream",
     "text": [
      "N   0.101981181764\n",
      "F   0.0219055356605\n",
      "pp   0.0\n",
      "O   0.860093202034\n",
      "B   14.9325450351\n",
      "hep   0.0494961877882\n",
      "Total flux no pep 15.9660211423\n"
     ]
    }
   ],
   "source": [
    "sum_fluxes_no_pep = 0\n",
    "for elem in list(BS05_OP_dict.keys()):\n",
    "    flux = sum(BS05_OP_dict[elem]*Ej_76As_num_tab_all_fluxes*all_fluxes_step) * math.pow(10,36)\n",
    "    print(elem, ' ', flux)\n",
    "    sum_fluxes_no_pep += flux\n",
    "print('Total flux no pep', sum_fluxes_no_pep)"
   ]
  },
  {
   "cell_type": "code",
   "execution_count": 59,
   "metadata": {},
   "outputs": [
    {
     "name": "stdout",
     "output_type": "stream",
     "text": [
      "pep flux 1.43946621379\n",
      "Total flux 17.4054873561\n"
     ]
    }
   ],
   "source": [
    "BS05_OP_pep_ampl=1.42e8\n",
    "pep_en=1.442 #MeV\n",
    "\n",
    "BS05_OP_pep=(BS05_OP_pep_ampl*math.pow(10,36))*sum([\n",
    "    sigma_k_Ejiri_num_tab(pep_en, E_k, BGT_k, Z_76As, Q_EC_76As) for (BGT_k, E_k) \n",
    "    in zip(BGT['B(GT)'].values, BGT['Ex'].values)])\n",
    "\n",
    "print('pep flux', BS05_OP_pep)\n",
    "print('Total flux', sum_fluxes_no_pep + BS05_OP_pep)"
   ]
  },
  {
   "cell_type": "code",
   "execution_count": null,
   "metadata": {},
   "outputs": [],
   "source": []
  },
  {
   "cell_type": "markdown",
   "metadata": {},
   "source": [
    "### BS05_AGS_OP"
   ]
  },
  {
   "cell_type": "code",
   "execution_count": 60,
   "metadata": {},
   "outputs": [
    {
     "name": "stdout",
     "output_type": "stream",
     "text": [
      "<class 'pandas.core.frame.DataFrame'>\n",
      "RangeIndex: 2000 entries, 0 to 1999\n",
      "Data columns (total 7 columns):\n",
      "energy    2000 non-null float64\n",
      "B         2000 non-null float64\n",
      "F         2000 non-null float64\n",
      "hep       2000 non-null float64\n",
      "N         2000 non-null float64\n",
      "O         2000 non-null float64\n",
      "pp        2000 non-null float64\n",
      "dtypes: float64(7)\n",
      "memory usage: 109.5 KB\n"
     ]
    }
   ],
   "source": [
    "BS05_AGS_OP=pd.read_csv('../Vyborov_results/Fluxes/AllFluxes.csv', sep=';')\n",
    "BS05_AGS_OP.info()"
   ]
  },
  {
   "cell_type": "code",
   "execution_count": 61,
   "metadata": {},
   "outputs": [
    {
     "data": {
      "text/html": [
       "<div>\n",
       "<style>\n",
       "    .dataframe thead tr:only-child th {\n",
       "        text-align: right;\n",
       "    }\n",
       "\n",
       "    .dataframe thead th {\n",
       "        text-align: left;\n",
       "    }\n",
       "\n",
       "    .dataframe tbody tr th {\n",
       "        vertical-align: top;\n",
       "    }\n",
       "</style>\n",
       "<table border=\"1\" class=\"dataframe\">\n",
       "  <thead>\n",
       "    <tr style=\"text-align: right;\">\n",
       "      <th></th>\n",
       "      <th>energy</th>\n",
       "      <th>B</th>\n",
       "      <th>F</th>\n",
       "      <th>hep</th>\n",
       "      <th>N</th>\n",
       "      <th>O</th>\n",
       "      <th>pp</th>\n",
       "    </tr>\n",
       "  </thead>\n",
       "  <tbody>\n",
       "    <tr>\n",
       "      <th>0</th>\n",
       "      <td>0.00</td>\n",
       "      <td>0.0000</td>\n",
       "      <td>0.000000</td>\n",
       "      <td>0.000000</td>\n",
       "      <td>0.0</td>\n",
       "      <td>0.000000</td>\n",
       "      <td>0.000000e+00</td>\n",
       "    </tr>\n",
       "    <tr>\n",
       "      <th>1</th>\n",
       "      <td>0.01</td>\n",
       "      <td>19.3844</td>\n",
       "      <td>1105.149209</td>\n",
       "      <td>0.000000</td>\n",
       "      <td>192872.7</td>\n",
       "      <td>49105.430836</td>\n",
       "      <td>8.260997e+08</td>\n",
       "    </tr>\n",
       "    <tr>\n",
       "      <th>2</th>\n",
       "      <td>0.02</td>\n",
       "      <td>38.7688</td>\n",
       "      <td>4317.593143</td>\n",
       "      <td>0.014539</td>\n",
       "      <td>720513.0</td>\n",
       "      <td>193547.428571</td>\n",
       "      <td>3.214779e+09</td>\n",
       "    </tr>\n",
       "    <tr>\n",
       "      <th>3</th>\n",
       "      <td>0.03</td>\n",
       "      <td>96.0204</td>\n",
       "      <td>9635.558857</td>\n",
       "      <td>0.033901</td>\n",
       "      <td>1573488.0</td>\n",
       "      <td>430651.285714</td>\n",
       "      <td>7.041704e+09</td>\n",
       "    </tr>\n",
       "    <tr>\n",
       "      <th>4</th>\n",
       "      <td>0.04</td>\n",
       "      <td>153.2720</td>\n",
       "      <td>16895.697714</td>\n",
       "      <td>0.056319</td>\n",
       "      <td>2769660.0</td>\n",
       "      <td>757634.142857</td>\n",
       "      <td>1.217081e+10</td>\n",
       "    </tr>\n",
       "  </tbody>\n",
       "</table>\n",
       "</div>"
      ],
      "text/plain": [
       "   energy         B             F       hep          N              O  \\\n",
       "0    0.00    0.0000      0.000000  0.000000        0.0       0.000000   \n",
       "1    0.01   19.3844   1105.149209  0.000000   192872.7   49105.430836   \n",
       "2    0.02   38.7688   4317.593143  0.014539   720513.0  193547.428571   \n",
       "3    0.03   96.0204   9635.558857  0.033901  1573488.0  430651.285714   \n",
       "4    0.04  153.2720  16895.697714  0.056319  2769660.0  757634.142857   \n",
       "\n",
       "             pp  \n",
       "0  0.000000e+00  \n",
       "1  8.260997e+08  \n",
       "2  3.214779e+09  \n",
       "3  7.041704e+09  \n",
       "4  1.217081e+10  "
      ]
     },
     "execution_count": 61,
     "metadata": {},
     "output_type": "execute_result"
    }
   ],
   "source": [
    "BS05_AGS_OP.head()"
   ]
  },
  {
   "cell_type": "code",
   "execution_count": 62,
   "metadata": {},
   "outputs": [],
   "source": [
    "BS05_AGS_OP_dict = {}\n",
    "for elem in list(BS05_AGS_OP.columns)[1:]:\n",
    "    BS05_AGS_OP_dict.update({ elem : \n",
    "                        np.interp(x=Energy_all_fluxes, xp=BS05_AGS_OP['energy'], \n",
    "                                  fp=BS05_AGS_OP[elem] ) })"
   ]
  },
  {
   "cell_type": "code",
   "execution_count": 63,
   "metadata": {},
   "outputs": [
    {
     "name": "stdout",
     "output_type": "stream",
     "text": [
      "N   0.0666697823455\n",
      "F   0.0122055844246\n",
      "pp   0.0\n",
      "O   0.533405440746\n",
      "B   11.830564678\n",
      "hep   0.0515184784368\n",
      "Total flux no pep 12.494363964\n"
     ]
    }
   ],
   "source": [
    "sum_fluxes_no_pep_AGS_OP = 0\n",
    "for elem in list(BS05_AGS_OP_dict.keys()):\n",
    "    flux = sum(BS05_AGS_OP_dict[elem]*Ej_76As_num_tab_all_fluxes*all_fluxes_step) * math.pow(10,36)\n",
    "    print(elem, ' ', flux)\n",
    "    sum_fluxes_no_pep_AGS_OP += flux\n",
    "print('Total flux no pep', sum_fluxes_no_pep_AGS_OP)"
   ]
  },
  {
   "cell_type": "code",
   "execution_count": 64,
   "metadata": {},
   "outputs": [
    {
     "name": "stdout",
     "output_type": "stream",
     "text": [
      "pep flux 1.46987747183\n"
     ]
    }
   ],
   "source": [
    "BS05_AGS_OP_pep_ampl=1.45e8\n",
    "pep_en=1.442 #MeV\n",
    "\n",
    "BS05_AGS_OP_pep=(BS05_AGS_OP_pep_ampl*math.pow(10,36))*sum([\n",
    "    sigma_k_Ejiri_num_tab(pep_en, E_k, BGT_k, Z_76As, Q_EC_76As) for (BGT_k, E_k) \n",
    "    in zip(BGT['B(GT)'].values, BGT['Ex'].values)])\n",
    "\n",
    "print('pep flux', BS05_AGS_OP_pep)"
   ]
  },
  {
   "cell_type": "code",
   "execution_count": 65,
   "metadata": {},
   "outputs": [],
   "source": [
    "BS05_OP_convolution = {'B':14.9325450351,\n",
    "                       'pp':0.0,\n",
    "                       'O':0.860093202034,\n",
    "                       'F':0.0219055356605,\n",
    "                       'N':0.101981181764,\n",
    "                       'hep':0.0494961877882,\n",
    "                       'pep':1.43946621379\n",
    "                      }"
   ]
  },
  {
   "cell_type": "code",
   "execution_count": 66,
   "metadata": {},
   "outputs": [],
   "source": [
    "BS05_AGS_OP_convolution = {'N':0.0666697823455,\n",
    "                           'O':0.533405440746,\n",
    "                           'F':0.0122055844246,\n",
    "                           'pp':0.0,\n",
    "                           'B':11.830564678,\n",
    "                           'hep':0.0515184784368,\n",
    "                           'pep':1.46987747183}"
   ]
  },
  {
   "cell_type": "code",
   "execution_count": 67,
   "metadata": {},
   "outputs": [],
   "source": [
    "Norms = {'BS05_AGS_OP': {'pp': 6.058e10, 'pep': 1.453e8, 'hep': 8.254e3,\n",
    "'Be1': 4.338e9, 'Be2': 4.338e9, 'B': 4.508e6, 'N': 2.007e8, 'O':1.445e8,\n",
    "'F': 3.254e6},\n",
    "\n",
    "'B16_AGSS09': {'pp': 6.03e10, 'pep': 1.46e8, 'hep': 8.25e3,\n",
    "'Be1': 4.50e9, 'Be2': 4.50e9, 'B': 4.50e6, 'N': 2.04e8, 'O':1.44e8,\n",
    "'F': 3.26e6}}"
   ]
  },
  {
   "cell_type": "code",
   "execution_count": 68,
   "metadata": {},
   "outputs": [
    {
     "name": "stdout",
     "output_type": "stream",
     "text": [
      "pp 0.0\n",
      "N 0.06776599700289986\n",
      "F 0.012228090111922555\n",
      "pep 1.4769587810542328\n",
      "O 0.5315597471794049\n",
      "B 11.80956988708962\n",
      "hep 0.051493511885582745\n"
     ]
    }
   ],
   "source": [
    "B16_AGSS09_convolution = {}\n",
    "for key in list(BS05_AGS_OP_convolution.keys()):\n",
    "    conv = BS05_AGS_OP_convolution[key] / Norms['BS05_AGS_OP'][key] * Norms['B16_AGSS09'][key]\n",
    "    B16_AGSS09_convolution.update({key:conv})\n",
    "\n",
    "for elem in B16_AGSS09_convolution: print(elem, B16_AGSS09_convolution[elem])"
   ]
  },
  {
   "cell_type": "code",
   "execution_count": 69,
   "metadata": {},
   "outputs": [
    {
     "data": {
      "text/plain": [
       "13.949576014323663"
      ]
     },
     "execution_count": 69,
     "metadata": {},
     "output_type": "execute_result"
    }
   ],
   "source": [
    "sum( list( B16_AGSS09_convolution.values() ) )"
   ]
  },
  {
   "cell_type": "code",
   "execution_count": 70,
   "metadata": {},
   "outputs": [
    {
     "data": {
      "text/plain": [
       "13.964241435782899"
      ]
     },
     "execution_count": 70,
     "metadata": {},
     "output_type": "execute_result"
    }
   ],
   "source": [
    "sum( list( BS05_AGS_OP_convolution.values() ) )"
   ]
  },
  {
   "cell_type": "code",
   "execution_count": null,
   "metadata": {},
   "outputs": [],
   "source": []
  }
 ],
 "metadata": {
  "kernelspec": {
   "display_name": "Python 3",
   "language": "python",
   "name": "python3"
  },
  "language_info": {
   "codemirror_mode": {
    "name": "ipython",
    "version": 3
   },
   "file_extension": ".py",
   "mimetype": "text/x-python",
   "name": "python",
   "nbconvert_exporter": "python",
   "pygments_lexer": "ipython3",
   "version": "3.5.2"
  }
 },
 "nbformat": 4,
 "nbformat_minor": 2
}

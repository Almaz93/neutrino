{
 "cells": [
  {
   "cell_type": "code",
   "execution_count": 1,
   "metadata": {},
   "outputs": [
    {
     "name": "stdout",
     "output_type": "stream",
     "text": [
      "Populating the interactive namespace from numpy and matplotlib\n"
     ]
    },
    {
     "name": "stderr",
     "output_type": "stream",
     "text": [
      "/home/almaz/miniconda3/envs/science/lib/python3.9/site-packages/IPython/core/magics/pylab.py:159: UserWarning: pylab import has clobbered these variables: ['trapz']\n",
      "`%matplotlib` prevents importing * from pylab and numpy\n",
      "  warn(\"pylab import has clobbered these variables: %s\"  % clobbered +\n"
     ]
    }
   ],
   "source": [
    "import math\n",
    "import numpy as np\n",
    "import pandas as pd\n",
    "import scipy as sc\n",
    "\n",
    "import matplotlib.pyplot as plt\n",
    "from scipy.integrate import quad, trapz, simps, cumtrapz\n",
    "\n",
    "from scipy.interpolate import interp1d\n",
    "\n",
    "%pylab inline"
   ]
  },
  {
   "cell_type": "markdown",
   "metadata": {},
   "source": [
    "### Расчет"
   ]
  },
  {
   "cell_type": "markdown",
   "metadata": {},
   "source": [
    "Некоторые константы"
   ]
  },
  {
   "cell_type": "code",
   "execution_count": 2,
   "metadata": {},
   "outputs": [],
   "source": [
    "Q_EC_127Xe=0.662 #in MeV\n",
    "Z_127Xe=54\n",
    "\n",
    "g_a_g_v=1.297 #ratio of vector and axial coupling constants\n",
    "\n",
    "BS05_OP_pep_ampl=1.42e8\n",
    "pep_en=1.442 #MeV\n",
    "\n",
    "Be384_en = 0.384 #Mev \n",
    "Be862_en = 0.862 #Mev\n",
    "\n",
    "S_n = 7.246 #энергия отрыва нейтрона\n",
    "\n",
    "total_GT = 53.54\n",
    "#total_GT = 63"
   ]
  },
  {
   "cell_type": "markdown",
   "metadata": {},
   "source": [
    "Функция для расчета порога реакции"
   ]
  },
  {
   "cell_type": "code",
   "execution_count": 3,
   "metadata": {},
   "outputs": [],
   "source": [
    "def Q_k_func(E_k, Q_EC):\n",
    "    #Считаем порог реакции, E_k - энергия возбужденного состояния в BGT\n",
    "    #E_k in KeV\n",
    "    return Q_EC+E_k/1000"
   ]
  },
  {
   "cell_type": "markdown",
   "metadata": {},
   "source": [
    "Привиденная энергия вылетающего электрона: $\\epsilon_e = \\frac{E_{\\nu}-Q_k}{m_e} + 1$"
   ]
  },
  {
   "cell_type": "code",
   "execution_count": 4,
   "metadata": {},
   "outputs": [],
   "source": [
    "def e_e_func(E_nu, E_k, Q_EC):\n",
    "    #Считаем привиденную энергию вылетающего электрона. Если энергия налетающего нейтрино E_nu\n",
    "    #меньше порога, возвращаем 0 для обнуления итогового сечения\n",
    "    #E_nu in MeV\n",
    "    q=Q_k_func(E_k, Q_EC) #порог реакции\n",
    "    if E_nu>q: return 1+(E_nu-q)/0.511\n",
    "    else: return 0 "
   ]
  },
  {
   "cell_type": "markdown",
   "metadata": {},
   "source": [
    "Привиденный импульс электрона: $\\pi_e=\\sqrt{\\epsilon_e^2 -1}$"
   ]
  },
  {
   "cell_type": "code",
   "execution_count": 5,
   "metadata": {},
   "outputs": [],
   "source": [
    "def Pi_e_func(e_e):\n",
    "    #Привиденный импульс электрона, вычисляется через привиденную энергию; ** означает степень  \n",
    "    if e_e>1: return math.sqrt(e_e**2 - 1)\n",
    "    else: return 0"
   ]
  },
  {
   "cell_type": "code",
   "execution_count": 6,
   "metadata": {},
   "outputs": [],
   "source": [
    "def integrate_func(a, b, x, y):\n",
    "    return np.sum( np.interp(x=np.arange(a, b, 0.001), xp=x, fp=y ) * 0.001 )"
   ]
  },
  {
   "cell_type": "markdown",
   "metadata": {},
   "source": [
    "### Fermi-functions"
   ]
  },
  {
   "cell_type": "code",
   "execution_count": 7,
   "metadata": {},
   "outputs": [],
   "source": [
    "Suslov_Z53 = pd.read_excel('../../fermi_func_tables/suslov/suslov_Z=53.xls')\n",
    "#Fermi_func.info()\n",
    "def Suslov_func2(x, Suslov_data=Suslov_Z53):\n",
    "    #input привиденная энергия электрона\n",
    "    return np.interp(x, xp = Suslov_data['E_kev']/511 + 1, fp = Suslov_data['Value'])\n",
    "\n",
    "def Suslov_func(x, Suslov_data=Suslov_Z53):\n",
    "    #input привиденная энергия электрона\n",
    "    f = interp1d(x=Suslov_data['E_kev']/511 + 1, y=Suslov_data['Value'], kind='linear', \n",
    "                 fill_value='extrapolate')\n",
    "    return f(x)"
   ]
  },
  {
   "cell_type": "code",
   "execution_count": 8,
   "metadata": {},
   "outputs": [],
   "source": [
    "Janecki_Z54 = pd.read_excel('../../fermi_func_tables/from_1968/Janecki Z54.xls')\n",
    "\n",
    "def Janecki_func2(e_e, Janecki_data=Janecki_Z54):\n",
    "    #input привиденная энергия электрона \n",
    "    e_e3 = np.sqrt( np.square( Janecki_data['p0'].values ) + 1 )\n",
    "    return np.interp(x = e_e, xp = e_e3, \n",
    "                     fp = Janecki_data['Value'])\n",
    "\n",
    "def Janecki_func(e_e, Janecki_data=Janecki_Z54):\n",
    "    #input привиденная энергия электрона \n",
    "    e_e3 = np.sqrt( np.square( Janecki_data['p0'].values ) + 1 )\n",
    "    f = interp1d(x=e_e3, y= Janecki_data['Value'], kind='linear', fill_value='extrapolate')\n",
    "    return f(e_e)"
   ]
  },
  {
   "cell_type": "markdown",
   "metadata": {},
   "source": [
    "Ферми функция через гамму: $F(Z_f, E) = 2(\\gamma_1+1)(2pR_{A})^{2(\\gamma_1-1)}\\frac{|\\Gamma(\\gamma_1+iy)|^2}{[\\Gamma(2\\gamma_1+1)]^2}e^{{\\pi}y}$  \n",
    "$y = \\frac{{\\alpha}Z_fE}{p}$, $\\gamma_1 = \\sqrt{1-(Z_f\\alpha)^2}$, $R_A = 1.2A^{1/3}$ fm.  \n",
    "E, p в единицах mc^2 и mc #см. начало Behrens and Janecki"
   ]
  },
  {
   "cell_type": "code",
   "execution_count": 9,
   "metadata": {},
   "outputs": [],
   "source": [
    "def Fermi_via_Gamma2(E, Z = Z_127Xe, A = 127):\n",
    "    #input привиденная энергия электрона \n",
    "    alpha = 1/137\n",
    "    \n",
    "    #исключаем деление на ноль\n",
    "    for_sqrt = E**2 - 1\n",
    "    mask = for_sqrt > 0\n",
    "    p = np.where(mask, np.sqrt(for_sqrt), 1)\n",
    "    \n",
    "    y = alpha*Z*E/p\n",
    "    gamma1 = np.sqrt(1-(Z*alpha)**2)\n",
    "    #R = 1.5*np.cbrt(A) \n",
    "    # 1 cm = 2.60416*10**10 h_/(m_e*c)    h_ = h/2pi\n",
    "    # 1.2fm = 3.125*10**(-3) h_/(m_e*c)\n",
    "    # 1.5fm = 3.90625*10**(-3) h_/(m_e*c)\n",
    "    R = 3.125*10**(-3)*np.cbrt(A)\n",
    "    \n",
    "    part1 = 4*(2*p*R)**(2*gamma1-2)\n",
    "    part2 = np.square(np.abs(sc.special.gamma(gamma1+1j*y)))\n",
    "    part3 = np.square(sc.special.gamma(2*gamma1+1))\n",
    "    part4 = np.exp(np.pi*y)\n",
    "    result = part1*(part2/part3)*part4\n",
    "    return mask * result"
   ]
  },
  {
   "cell_type": "code",
   "execution_count": 10,
   "metadata": {},
   "outputs": [
    {
     "data": {
      "image/png": "[encoded data removed]",
      "text/plain": [
       "<Figure size 432x288 with 1 Axes>"
      ]
     },
     "metadata": {
      "needs_background": "light"
     },
     "output_type": "display_data"
    }
   ],
   "source": [
    "x_val = np.arange(0.01, 10, 0.05) / 0.511 + 1\n",
    "plt.plot(x_val, Suslov_func(x_val), c='k', label = 'Suslov')\n",
    "plt.plot(x_val, Janecki_func(x_val), c='r', label = 'Janecki')\n",
    "plt.plot(x_val, [Fermi_via_Gamma2(E) for E in x_val], c='g', label = 'Fermi')\n",
    "plt.xticks(np.arange(1,22,1))\n",
    "plt.legend()\n",
    "plt.xlabel('E, mc2')\n",
    "plt.show()"
   ]
  },
  {
   "cell_type": "markdown",
   "metadata": {},
   "source": [
    "### BS05_OP flux"
   ]
  },
  {
   "cell_type": "code",
   "execution_count": 11,
   "metadata": {},
   "outputs": [],
   "source": [
    "BS05OP_Be = 4.84e9\n",
    "BS05OP_pp = 5.99e10\n",
    "BS05OP_pep = 1.42e8\n",
    "BS05OP_hep = 7.93e3\n",
    "BS05OP_B = 5.69e6\n",
    "BS05OP_N = 3.07e8\n",
    "BS05OP_0 = 2.33e8\n",
    "BS05OP_F = 5.84e6"
   ]
  },
  {
   "cell_type": "code",
   "execution_count": 12,
   "metadata": {},
   "outputs": [],
   "source": [
    "#B16-GS98 - high metallicity\n",
    "B16_GS98_Be = 4.93e9\n",
    "B16_GS98_pp = 5.98e10\n",
    "B16_GS98_pep = 1.44e8\n",
    "B16_GS98_hep = 7.98e3\n",
    "B16_GS98_B = 5.46e6 \n",
    "B16_GS98_N = 2.78e8\n",
    "B16_GS98_0 = 2.05e8\n",
    "B16_GS98_F = 5.29e6"
   ]
  },
  {
   "cell_type": "code",
   "execution_count": 13,
   "metadata": {},
   "outputs": [],
   "source": [
    "#B16-AGSS09met - low metallicity\n",
    "B16_AGSS09met_Be = 4.50e9\n",
    "B16_AGSS09met_pp = 6.03e10\n",
    "B16_AGSS09met_pep = 1.46e8\n",
    "B16_AGSS09met_hep = 8.25e3\n",
    "B16_AGSS09met_B = 4.50e6 \n",
    "B16_AGSS09met_N = 2.04e8\n",
    "B16_AGSS09met_0 = 1.44e8\n",
    "B16_AGSS09met_F = 3.26e6"
   ]
  },
  {
   "cell_type": "code",
   "execution_count": null,
   "metadata": {},
   "outputs": [],
   "source": []
  },
  {
   "cell_type": "code",
   "execution_count": 37,
   "metadata": {},
   "outputs": [],
   "source": [
    "step_all_fluxes = 0.001 #MeV\n",
    "Energy_all_fluxes = np.arange(0,20,step_all_fluxes)"
   ]
  },
  {
   "cell_type": "code",
   "execution_count": 38,
   "metadata": {},
   "outputs": [],
   "source": [
    "def return_flux(pp_ampl, hep_ampl, B_ampl, N_ampl, O_ampl, F_ampl, \n",
    "                energy_list = Energy_all_fluxes):\n",
    "    pp = pd.read_excel('../Solar_neutrino_flux/pp.xls')\n",
    "    b8 = pd.read_excel('../Solar_neutrino_flux/b8.xls')\n",
    "    hep = pd.read_excel('../Solar_neutrino_flux/hep.xls')\n",
    "    n13 = pd.read_excel('../Solar_neutrino_flux/n13.xls')\n",
    "    o15 = pd.read_excel('../Solar_neutrino_flux/o15.xls')\n",
    "    f17 = pd.read_excel('../Solar_neutrino_flux/f17.xls')\n",
    "\n",
    "    flux = {\n",
    "        'pp':np.interp(x=Energy_all_fluxes, xp=pp['Energy'].values, \n",
    "                       fp=pp['Probability'].values * pp_ampl ),\n",
    "        'b8':np.interp(x=Energy_all_fluxes, xp=b8['Energy'].values, \n",
    "                       fp=b8['Probability'].values * B_ampl ),\n",
    "        'hep':np.interp(x=Energy_all_fluxes, xp=hep['Energy'].values, \n",
    "                       fp=hep['Probability'].values * hep_ampl ),\n",
    "        'n13':np.interp(x=Energy_all_fluxes, xp=n13['Energy'].values, \n",
    "                       fp=n13['Probability'].values * N_ampl ),\n",
    "        'o15':np.interp(x=Energy_all_fluxes, xp=o15['Energy'].values, \n",
    "                       fp=o15['Probability'].values * O_ampl ),\n",
    "        'f17':np.interp(x=Energy_all_fluxes, xp=f17['Energy'].values, \n",
    "                       fp=f17['Probability'].values * F_ampl ),\n",
    "    }\n",
    "    return flux"
   ]
  },
  {
   "cell_type": "code",
   "execution_count": 39,
   "metadata": {},
   "outputs": [],
   "source": [
    "BS05OP_flux = return_flux(pp_ampl=BS05OP_pp, \n",
    "                          hep_ampl=BS05OP_hep,\n",
    "                          B_ampl=BS05OP_B,\n",
    "                          N_ampl=BS05OP_N,\n",
    "                          O_ampl=BS05OP_0,\n",
    "                          F_ampl=BS05OP_F)"
   ]
  },
  {
   "cell_type": "code",
   "execution_count": 40,
   "metadata": {},
   "outputs": [],
   "source": [
    "highZ_flux = return_flux(pp_ampl=B16_GS98_pp, \n",
    "                          hep_ampl=B16_GS98_hep,\n",
    "                          B_ampl=B16_GS98_B,\n",
    "                          N_ampl=B16_GS98_N,\n",
    "                          O_ampl=B16_GS98_0,\n",
    "                          F_ampl=B16_GS98_F)\n",
    "\n",
    "lowZ_flux = return_flux(pp_ampl=B16_AGSS09met_pp, \n",
    "                          hep_ampl=B16_AGSS09met_hep,\n",
    "                          B_ampl=B16_AGSS09met_B,\n",
    "                          N_ampl=B16_AGSS09met_N,\n",
    "                          O_ampl=B16_AGSS09met_0,\n",
    "                          F_ampl=B16_AGSS09met_F)"
   ]
  },
  {
   "cell_type": "markdown",
   "metadata": {},
   "source": [
    "### Cross-section and total rate"
   ]
  },
  {
   "cell_type": "markdown",
   "metadata": {},
   "source": [
    "Сечение по Иджири $\\sigma_k={(10^{-44}\\ cm^2)}\\times 1.597\\cdot \\epsilon_e \\pi_e m_e^2 F(Z, \\epsilon_e) [B(F)_k + (\\frac{g_a}{g_v})^2 B(GT)_k] $ "
   ]
  },
  {
   "cell_type": "code",
   "execution_count": 17,
   "metadata": {},
   "outputs": [],
   "source": [
    "g_a_g_v_square = math.pow(g_a_g_v,2)\n",
    "m_e_square = math.pow(0.511,2)"
   ]
  },
  {
   "cell_type": "code",
   "execution_count": 18,
   "metadata": {},
   "outputs": [],
   "source": [
    "#расчет сечения до энергии возбуждения 5 МэВ\n",
    "def sigma_k_less5(E_nu, E_k, BGT_k, Z, Q_EC, fermi_func):\n",
    "    #E_k in kev\n",
    "    #сечение k-го возб. состояния по Иджири\n",
    "    e_e=e_e_func(E_nu, E_k, Q_EC) #энергия вылетающего электрона\n",
    "    Pi_e=Pi_e_func(e_e) #его импульс\n",
    "    F_col=fermi_func(e_e) #значение ферм-функции при такой энергии\n",
    "    return 1.597*m_e_square*e_e*Pi_e*F_col*g_a_g_v_square*BGT_k"
   ]
  },
  {
   "cell_type": "code",
   "execution_count": 19,
   "metadata": {},
   "outputs": [],
   "source": [
    "#функция расчета свертки сечения с потоком\n",
    "def rate_calc(sigma, fluxes_dict, energies_array, step, func_pep_ampl = BS05OP_pep, \n",
    "              func_Be_ampl = BS05OP_Be, name = 'test1'):\n",
    "    \n",
    "    #const = 1.597*math.pow(10,-44)\n",
    "    const = math.pow(10,-44)\n",
    "\n",
    "    sigma_total = np.array(sigma) * const\n",
    "    \n",
    "    rate_total = 0\n",
    "    \n",
    "    output_dict = {'name':name}\n",
    "    \n",
    "    for elem in list(fluxes_dict.keys()):\n",
    "        rate = sum(fluxes_dict[elem]*sigma_total*step) * math.pow(10,36)\n",
    "        #print(elem, ' ', rate)\n",
    "        output_dict[elem] = rate\n",
    "        rate_total+=rate\n",
    "        \n",
    "    sigma_pep = np.interp(pep_en, xp=energies_array, fp=sigma_total)\n",
    "    rate_pep = func_pep_ampl*sigma_pep*math.pow(10,36)\n",
    "    #print('pep', ' ', rate_pep)\n",
    "    output_dict['pep'] = rate_pep\n",
    "    rate_total+=rate_pep\n",
    "    \n",
    "    sigma_Be384 = np.interp(Be384_en, xp=energies_array, fp=sigma_total)\n",
    "    rate_Be384 = 0.103*func_Be_ampl*sigma_Be384*math.pow(10,36) #отношение из книжки бакала \n",
    "    \n",
    "    sigma_Be862 = np.interp(Be862_en, xp=energies_array, fp=sigma_total)\n",
    "    rate_Be862 = 0.897*func_Be_ampl*sigma_Be862*math.pow(10,36)\n",
    "    rate_Be = rate_Be384 + rate_Be862\n",
    "    \n",
    "    #print('Be', ' ', rate_Be)\n",
    "    output_dict['Be'] = rate_Be\n",
    "    rate_total+=rate_Be\n",
    "    \n",
    "    #print('rate_total',' ', rate_total)\n",
    "    output_dict['Total'] = rate_total\n",
    "    return output_dict"
   ]
  },
  {
   "cell_type": "code",
   "execution_count": null,
   "metadata": {},
   "outputs": [],
   "source": []
  },
  {
   "cell_type": "code",
   "execution_count": 20,
   "metadata": {},
   "outputs": [],
   "source": [
    "#функция для отрезки резонансов выше энергии отрыва\n",
    "def border_func(x_data, y_data, border):\n",
    "    a=np.where(x_data<border)\n",
    "    #print(len(a[0]), len(x_data)-len(a[0]), len(x_data), a[0])\n",
    "    return np.hstack(( y_data[a], np.zeros(len(x_data)-len(a[0])) ))\n",
    "\n",
    "\n",
    "def border_func2(x_data, y_data, border_l, border_r):\n",
    "    a=np.where(x_data<border_r)\n",
    "    b=np.where(x_data>border_l)\n",
    "    temp_y = np.hstack(( y_data[a], np.zeros(len(x_data)-len(a[0])) ))\n",
    "    #print(len(a[0]), len(x_data)-len(a[0]), len(x_data), a[0])\n",
    "    return np.hstack((np.zeros((b[0][0])), temp_y[b]))"
   ]
  },
  {
   "cell_type": "code",
   "execution_count": 21,
   "metadata": {},
   "outputs": [],
   "source": [
    "#continious part\n",
    "#bgt_cont_x1 = np.arange(3, 3.5, 0.01)\n",
    "#bgt_cont_y1 = np.ones(bgt_cont_x1.shape)\n",
    "#bgt_cont_y1 = bgt_cont_y1 / trapz(bgt_cont_y1, bgt_cont_x1) * BGT_data['3-3.5'][0]\n",
    "\n",
    "#bgt_cont_x2 = np.arange(3.5, 4, 0.01)\n",
    "#bgt_cont_y2 = np.ones(bgt_cont_x2.shape)\n",
    "#bgt_cont_y2 = bgt_cont_y2 / trapz(bgt_cont_y2, bgt_cont_x2) * BGT_data['3.5-4'][0]\n",
    "\n",
    "#bgt_cont_x0 = np.arange(0, 3, 0.01)\n",
    "#bgt_cont_y0 = np.zeros(bgt_cont_x0.shape)\n",
    "\n",
    "#bgt_cont_x3 = np.arange(4, 20, 0.01)\n",
    "#bgt_cont_y3 = np.zeros(bgt_cont_x3.shape)\n",
    "\n",
    "#bgt_cont_x = np.concatenate((bgt_cont_x0, bgt_cont_x1, bgt_cont_x2, bgt_cont_x3))\n",
    "#bgt_cont_y = np.concatenate((bgt_cont_y0, bgt_cont_y1, bgt_cont_y2, bgt_cont_y3))\n",
    "\n",
    "#trapz(bgt_cont_y1, bgt_cont_x1), trapz(bgt_cont_y2, bgt_cont_x2), trapz(bgt_cont_y, bgt_cont_x), bgt_cont_x.shape, bgt_cont_y.shape"
   ]
  },
  {
   "cell_type": "markdown",
   "metadata": {},
   "source": [
    "Сечение для непрерывной части\n",
    "\n",
    "$\\sigma = {(10^{-44}\\ cm^2)} \\times \\int^{z-Q}_{0} {1.597 \\cdot (\\frac{g_a}{g_v})^2 \\cdot \\sqrt{(z-Q-x+0.511)^2-0.511^2} \\cdot (z-Q-x+0.511) \\cdot S_{GTR}(x) \\cdot F(z-Q-x+0.511)} dx $ \n"
   ]
  },
  {
   "cell_type": "code",
   "execution_count": 22,
   "metadata": {},
   "outputs": [],
   "source": [
    "#введем новую переменную p = z - Q\n",
    "def sigma_k_GTR(x, p, x_data, y_data, fermi_func):\n",
    "    e_energy = p - x + 0.511\n",
    "    return 1.597*g_a_g_v_square*np.sqrt(e_energy**2-m_e_square)*e_energy\\\n",
    "    *np.interp(x,xp=x_data,fp=y_data)*fermi_func(e_energy/0.511) \n"
   ]
  },
  {
   "cell_type": "code",
   "execution_count": 23,
   "metadata": {},
   "outputs": [],
   "source": [
    "#разбиваем интервал интегрирования на субинтервалы\n",
    "def intervals(a,b,n):\n",
    "    c=np.linspace(a,b,num=n)\n",
    "    return [[c[i], c[i+1]] for i in range(len(c)-1)]"
   ]
  },
  {
   "cell_type": "code",
   "execution_count": 24,
   "metadata": {},
   "outputs": [],
   "source": [
    "#считаем сечение\n",
    "def cross_sec(a,b, sigma_func, shape_x, shape_y, fermi_func, int_num=50):\n",
    "    borders_list = intervals(a,b, int_num)\n",
    "    #return sum([quad(sigma_func, i[0],i[1], args=(b,shape_x, shape_y))[0] for i in borders_list])\n",
    "    return sum([sc.integrate.fixed_quad(sigma_func, i[0],i[1], args=(b,shape_x, shape_y, fermi_func))[0] for i in borders_list])\n",
    "    #return sum([sc.integrate.romberg(sigma_func, i[0],i[1], args=(b,shape_x, shape_y)) for i in borders_list])"
   ]
  },
  {
   "cell_type": "markdown",
   "metadata": {},
   "source": [
    "сечение с Sn"
   ]
  },
  {
   "cell_type": "code",
   "execution_count": null,
   "metadata": {},
   "outputs": [],
   "source": []
  },
  {
   "cell_type": "markdown",
   "metadata": {},
   "source": [
    "### данные из графика BGT"
   ]
  },
  {
   "cell_type": "code",
   "execution_count": 25,
   "metadata": {},
   "outputs": [],
   "source": [
    "bgt_full = pd.read_csv('../B(GT) peaks processing/recognition/Xe127/1999_bgt_full.csv', \n",
    "                      sep=';', decimal=',', names=['x', 'y'])\n",
    "bgt_0_5 = pd.read_csv('../B(GT) peaks processing/recognition/Xe127/1999_bgt_0_5l.csv', \n",
    "                      sep=';', decimal=',', names=['x', 'y'])"
   ]
  },
  {
   "cell_type": "code",
   "execution_count": 26,
   "metadata": {},
   "outputs": [
    {
     "data": {
      "image/png": "[encoded data removed]",
      "text/plain": [
       "<Figure size 648x432 with 1 Axes>"
      ]
     },
     "metadata": {
      "needs_background": "light"
     },
     "output_type": "display_data"
    }
   ],
   "source": [
    "bgt = bgt_0_5.append(bgt_full[bgt_full['x']>5])\n",
    "\n",
    "plt.figure(figsize=(9,6))\n",
    "plt.plot(bgt['x'].values, bgt['y'].values)\n",
    "plt.xlim(0,20)\n",
    "plt.ylim(0,0.7)\n",
    "plt.show()"
   ]
  },
  {
   "cell_type": "code",
   "execution_count": 27,
   "metadata": {},
   "outputs": [
    {
     "data": {
      "text/plain": [
       "5.46327747225692"
      ]
     },
     "execution_count": 27,
     "metadata": {},
     "output_type": "execute_result"
    }
   ],
   "source": [
    "trapz(bgt['y'].values, bgt['x'].values)"
   ]
  },
  {
   "cell_type": "code",
   "execution_count": 28,
   "metadata": {},
   "outputs": [
    {
     "data": {
      "text/plain": [
       "(0.0, 7.0)"
      ]
     },
     "execution_count": 28,
     "metadata": {},
     "output_type": "execute_result"
    },
    {
     "data": {
      "image/png": "[encoded data removed]",
      "text/plain": [
       "<Figure size 432x288 with 1 Axes>"
      ]
     },
     "metadata": {
      "needs_background": "light"
     },
     "output_type": "display_data"
    }
   ],
   "source": [
    "y_bgt = bgt['y'].values / trapz(bgt['y'].values, bgt['x'].values) \\\n",
    "* total_GT\n",
    "y_bgt_border = border_func(bgt['x'].values, y_bgt, S_n)\n",
    "\n",
    "\n",
    "#plt.plot(best_fit['Ex, MeV'].values, y)\n",
    "plt.plot(bgt['x'].values, y_bgt, )\n",
    "plt.plot(bgt['x'].values, y_bgt_border, )\n",
    "plt.xlabel('$E_{x}$, MeV', fontsize=14)\n",
    "plt.ylabel('S(E), 1/MeV', fontsize=14)\n",
    "plt.xlim(0,20)\n",
    "plt.ylim(0,7)\n",
    "#plt.savefig('S_E_func_76Ge.png', format='png', dpi=400)\n"
   ]
  },
  {
   "cell_type": "code",
   "execution_count": 29,
   "metadata": {},
   "outputs": [],
   "source": [
    "p_list = np.arange(0,20, 0.01) #p = z - Q"
   ]
  },
  {
   "cell_type": "code",
   "execution_count": 30,
   "metadata": {},
   "outputs": [],
   "source": [
    "sigma_bgt_border_Janecki = [cross_sec(0,p, sigma_k_GTR, bgt['x'].values, y_bgt_border, Janecki_func, 200) for p in p_list]\n",
    "sigma_bgt_border_Janecki = np.interp(Energy_all_fluxes, xp=p_list+Q_EC_127Xe, fp=sigma_bgt_border_Janecki)\n",
    "#sigma_more5_1 = np.interp(Energy_all_fluxes, xp=p_list+Q_EC_76As, fp=sigma_more5_temp1)"
   ]
  },
  {
   "cell_type": "code",
   "execution_count": 31,
   "metadata": {},
   "outputs": [],
   "source": [
    "#sigma_bgt_border_Suslov = [cross_sec(0,p, sigma_k_GTR, bgt['x'].values, y_bgt_border, Suslov_func, 200) for p in p_list]\n",
    "#sigma_bgt_border_Suslov = np.interp(Energy_all_fluxes, xp=p_list+Q_EC_127Xe, fp=sigma_bgt_border_Suslov)\n",
    "#sigma_more5_1 = np.interp(Energy_all_fluxes, xp=p_list+Q_EC_76As, fp=sigma_more5_temp1)"
   ]
  },
  {
   "cell_type": "code",
   "execution_count": 32,
   "metadata": {},
   "outputs": [],
   "source": [
    "#sigma_bgt_border_Fermi = [cross_sec(0,p, sigma_k_GTR, bgt['x'].values, y_bgt_border, Fermi_via_Gamma2, 200) for p in p_list]\n",
    "#sigma_bgt_border_Fermi = np.interp(Energy_all_fluxes, xp=p_list+Q_EC_127Xe, fp=sigma_bgt_border_Fermi)\n",
    "#sigma_more5_1 = np.interp(Energy_all_fluxes, xp=p_list+Q_EC_76As, fp=sigma_more5_temp1)"
   ]
  },
  {
   "cell_type": "code",
   "execution_count": 33,
   "metadata": {},
   "outputs": [
    {
     "data": {
      "image/png": "[encoded data removed]",
      "text/plain": [
       "<Figure size 648x432 with 1 Axes>"
      ]
     },
     "metadata": {
      "needs_background": "light"
     },
     "output_type": "display_data"
    }
   ],
   "source": [
    "plt.figure(figsize=(9,6))\n",
    "plt.plot(Energy_all_fluxes, sigma_bgt_border_Janecki, c='r', label = 'Janecki')\n",
    "#plt.plot(Energy_all_fluxes, sigma_bgt_border_Suslov, c='k', label = 'Suslov')\n",
    "#plt.plot(Energy_all_fluxes, sigma_bgt_border_Fermi, c='g', label = 'Fermi')\n",
    "plt.legend()\n",
    "plt.xlabel('$E_{\\\\nu}$ (MeV)')\n",
    "plt.ylabel('$\\sigma$ $(cm^2)$')\n",
    "plt.yscale('log')"
   ]
  },
  {
   "cell_type": "code",
   "execution_count": 34,
   "metadata": {},
   "outputs": [],
   "source": [
    "#plt.figure(figsize=(9,6))\n",
    "#plt.plot(Energy_all_fluxes, sigma_less5_Janecki, c='r', label = 'Janecki')\n",
    "#Suslov_Jan = sigma_bgt_border_Suslov / sigma_bgt_border_Janecki\n",
    "#Fermi_Jan = sigma_bgt_border_Fermi / sigma_bgt_border_Janecki\n",
    "\n",
    "#plt.plot(Energy_all_fluxes, Suslov_Jan, c='k', label = 'Suslov / Janecki')\n",
    "#plt.plot(Energy_all_fluxes, Fermi_Jan, c='g', label = 'Fermi / Janecki')\n",
    "#plt.legend()\n",
    "#plt.xlabel('$E_{nu}$ (MeV)')\n",
    "#plt.ylabel('$\\sigma$ $(cm^2)$')\n",
    "#plt.yscale('log')"
   ]
  },
  {
   "cell_type": "code",
   "execution_count": 35,
   "metadata": {},
   "outputs": [
    {
     "ename": "NameError",
     "evalue": "name 'sigma_bgt_border_Suslov' is not defined",
     "output_type": "error",
     "traceback": [
      "\u001b[0;31m---------------------------------------------------------------------------\u001b[0m",
      "\u001b[0;31mNameError\u001b[0m                                 Traceback (most recent call last)",
      "\u001b[0;32m<ipython-input-35-da31bf342335>\u001b[0m in \u001b[0;36m<module>\u001b[0;34m\u001b[0m\n\u001b[1;32m      1\u001b[0m \u001b[0mplt\u001b[0m\u001b[0;34m.\u001b[0m\u001b[0mfigure\u001b[0m\u001b[0;34m(\u001b[0m\u001b[0mfigsize\u001b[0m\u001b[0;34m=\u001b[0m\u001b[0;34m(\u001b[0m\u001b[0;36m9\u001b[0m\u001b[0;34m,\u001b[0m\u001b[0;36m6\u001b[0m\u001b[0;34m)\u001b[0m\u001b[0;34m)\u001b[0m\u001b[0;34m\u001b[0m\u001b[0;34m\u001b[0m\u001b[0m\n\u001b[1;32m      2\u001b[0m \u001b[0;31m#plt.plot(Energy_all_fluxes, sigma_less5_Janecki, c='r', label = 'Janecki')\u001b[0m\u001b[0;34m\u001b[0m\u001b[0;34m\u001b[0m\u001b[0;34m\u001b[0m\u001b[0m\n\u001b[0;32m----> 3\u001b[0;31m \u001b[0mSuslov_Jan\u001b[0m \u001b[0;34m=\u001b[0m \u001b[0msigma_bgt_border_Suslov\u001b[0m \u001b[0;34m/\u001b[0m \u001b[0msigma_bgt_border_Janecki\u001b[0m\u001b[0;34m\u001b[0m\u001b[0;34m\u001b[0m\u001b[0m\n\u001b[0m\u001b[1;32m      4\u001b[0m \u001b[0mFermi_Jan\u001b[0m \u001b[0;34m=\u001b[0m \u001b[0msigma_bgt_border_Fermi\u001b[0m \u001b[0;34m/\u001b[0m \u001b[0msigma_bgt_border_Janecki\u001b[0m\u001b[0;34m\u001b[0m\u001b[0;34m\u001b[0m\u001b[0m\n\u001b[1;32m      5\u001b[0m \u001b[0;34m\u001b[0m\u001b[0m\n",
      "\u001b[0;31mNameError\u001b[0m: name 'sigma_bgt_border_Suslov' is not defined"
     ]
    },
    {
     "data": {
      "text/plain": [
       "<Figure size 648x432 with 0 Axes>"
      ]
     },
     "metadata": {},
     "output_type": "display_data"
    }
   ],
   "source": [
    "plt.figure(figsize=(9,6))\n",
    "#plt.plot(Energy_all_fluxes, sigma_less5_Janecki, c='r', label = 'Janecki')\n",
    "Suslov_Jan = sigma_bgt_border_Suslov / sigma_bgt_border_Janecki\n",
    "Fermi_Jan = sigma_bgt_border_Fermi / sigma_bgt_border_Janecki\n",
    "\n",
    "plt.plot(Energy_all_fluxes, Suslov_Jan, c='k', label = r'$\\frac{\\sigma_{Suslov}}{\\sigma_{Janecki}}$')\n",
    "plt.plot(Energy_all_fluxes, Fermi_Jan, c='g', label = r'$\\frac{\\sigma_{Fermi}}{\\sigma_{Janecki}}$')\n",
    "plt.legend(fontsize=24, ncol=2)\n",
    "plt.xlabel('$E_{\\\\nu}$ (MeV)', fontsize=16)\n",
    "plt.ylabel('Ratio', fontsize=16)\n",
    "plt.xticks(fontsize=16)\n",
    "plt.yticks(fontsize=16)\n",
    "plt.grid(True)\n",
    "#plt.xlim(10**(-0.9),10**1)\n",
    "#plt.ylabel('$\\sigma$ $(cm^2)$')\n",
    "plt.xscale('log')"
   ]
  },
  {
   "cell_type": "markdown",
   "metadata": {},
   "source": [
    "### BS05OP"
   ]
  },
  {
   "cell_type": "code",
   "execution_count": 41,
   "metadata": {},
   "outputs": [
    {
     "data": {
      "text/plain": [
       "{'name': 'test1',\n",
       " 'pp': 0.0,\n",
       " 'b8': 25.706047213209914,\n",
       " 'hep': 0.1086386204563669,\n",
       " 'n13': 0.16469931448697145,\n",
       " 'o15': 0.551150613748857,\n",
       " 'f17': 0.01397287919677304,\n",
       " 'pep': 0.8281994486359567,\n",
       " 'Be': 2.9232968031778883,\n",
       " 'Total': 30.296004892912727}"
      ]
     },
     "execution_count": 41,
     "metadata": {},
     "output_type": "execute_result"
    }
   ],
   "source": [
    "rate_calc(sigma_bgt_border_Janecki, BS05OP_flux, Energy_all_fluxes, step_all_fluxes,)"
   ]
  },
  {
   "cell_type": "code",
   "execution_count": 42,
   "metadata": {},
   "outputs": [],
   "source": [
    "#rate_calc(sigma_bgt_border_Suslov, BS05OP_flux, Energy_all_fluxes, step_all_fluxes,)"
   ]
  },
  {
   "cell_type": "code",
   "execution_count": 43,
   "metadata": {},
   "outputs": [],
   "source": [
    "#rate_calc(sigma_bgt_border_Fermi, BS05OP_flux, Energy_all_fluxes, step_all_fluxes,)"
   ]
  },
  {
   "cell_type": "code",
   "execution_count": null,
   "metadata": {},
   "outputs": [],
   "source": []
  },
  {
   "cell_type": "code",
   "execution_count": null,
   "metadata": {},
   "outputs": [],
   "source": []
  },
  {
   "cell_type": "code",
   "execution_count": null,
   "metadata": {},
   "outputs": [],
   "source": []
  },
  {
   "cell_type": "code",
   "execution_count": null,
   "metadata": {},
   "outputs": [],
   "source": []
  }
 ],
 "metadata": {
  "kernelspec": {
   "display_name": "Python [conda env:science]",
   "language": "python",
   "name": "conda-env-science-py"
  },
  "language_info": {
   "codemirror_mode": {
    "name": "ipython",
    "version": 3
   },
   "file_extension": ".py",
   "mimetype": "text/x-python",
   "name": "python",
   "nbconvert_exporter": "python",
   "pygments_lexer": "ipython3",
   "version": "3.9.2"
  }
 },
 "nbformat": 4,
 "nbformat_minor": 2
}

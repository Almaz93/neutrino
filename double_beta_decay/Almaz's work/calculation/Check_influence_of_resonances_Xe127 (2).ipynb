{
 "cells": [
  {
   "cell_type": "code",
   "execution_count": 1,
   "metadata": {},
   "outputs": [
    {
     "name": "stdout",
     "output_type": "stream",
     "text": [
      "Populating the interactive namespace from numpy and matplotlib\n"
     ]
    }
   ],
   "source": [
    "import math\n",
    "import numpy as np\n",
    "import pandas as pd\n",
    "import scipy as sc\n",
    "\n",
    "import matplotlib.pyplot as plt\n",
    "from scipy.integrate import quad, trapz, simps, cumtrapz\n",
    "\n",
    "from scipy.interpolate import interp1d\n",
    "\n",
    "#from labellines import labelLine, labelLines\n",
    "%pylab inline"
   ]
  },
  {
   "cell_type": "markdown",
   "metadata": {},
   "source": [
    "### Расчет"
   ]
  },
  {
   "cell_type": "markdown",
   "metadata": {},
   "source": [
    "Некоторые константы"
   ]
  },
  {
   "cell_type": "code",
   "execution_count": 2,
   "metadata": {},
   "outputs": [],
   "source": [
    "Q_EC_127Xe=0.662 #in MeV\n",
    "Z_127Xe=54\n",
    "\n",
    "g_a_g_v=1.297 #ratio of vector and axial coupling constants\n",
    "\n",
    "BS05_OP_pep_ampl=1.42e8\n",
    "pep_en=1.442 #MeV\n",
    "\n",
    "Be384_en = 0.384 #Mev \n",
    "Be862_en = 0.862 #Mev\n",
    "\n",
    "S_n = 7.246 #энергия отрыва нейтрона\n",
    "S_2n = 17.02\n",
    "total_GT = 53.54\n",
    "#total_GT = 63"
   ]
  },
  {
   "cell_type": "markdown",
   "metadata": {},
   "source": [
    "Функция для расчета порога реакции"
   ]
  },
  {
   "cell_type": "code",
   "execution_count": 3,
   "metadata": {},
   "outputs": [],
   "source": [
    "def Q_k_func(E_k, Q_EC):\n",
    "    #Считаем порог реакции, E_k - энергия возбужденного состояния в BGT\n",
    "    #E_k in KeV\n",
    "    return Q_EC+E_k/1000"
   ]
  },
  {
   "cell_type": "markdown",
   "metadata": {},
   "source": [
    "Привиденная энергия вылетающего электрона: $\\epsilon_e = \\frac{E_{\\nu}-Q_k}{m_e} + 1$"
   ]
  },
  {
   "cell_type": "code",
   "execution_count": 4,
   "metadata": {},
   "outputs": [],
   "source": [
    "def e_e_func(E_nu, E_k, Q_EC):\n",
    "    #Считаем привиденную энергию вылетающего электрона. Если энергия налетающего нейтрино E_nu\n",
    "    #меньше порога, возвращаем 0 для обнуления итогового сечения\n",
    "    #E_nu in MeV\n",
    "    q=Q_k_func(E_k, Q_EC) #порог реакции\n",
    "    if E_nu>q: return 1+(E_nu-q)/0.511\n",
    "    else: return 0 "
   ]
  },
  {
   "cell_type": "markdown",
   "metadata": {},
   "source": [
    "Привиденный импульс электрона: $\\pi_e=\\sqrt{\\epsilon_e^2 -1}$"
   ]
  },
  {
   "cell_type": "code",
   "execution_count": 5,
   "metadata": {},
   "outputs": [],
   "source": [
    "def Pi_e_func(e_e):\n",
    "    #Привиденный импульс электрона, вычисляется через привиденную энергию; ** означает степень  \n",
    "    if e_e>1: return math.sqrt(e_e**2 - 1)\n",
    "    else: return 0"
   ]
  },
  {
   "cell_type": "code",
   "execution_count": 6,
   "metadata": {},
   "outputs": [],
   "source": [
    "def integrate_func(a, b, x, y):\n",
    "    return np.sum( np.interp(x=np.arange(a, b, 0.001), xp=x, fp=y ) * 0.001 )"
   ]
  },
  {
   "cell_type": "markdown",
   "metadata": {},
   "source": [
    "### Fermi-function from Numerical Tables for Beta-Decay and Electron Capture"
   ]
  },
  {
   "cell_type": "markdown",
   "metadata": {},
   "source": [
    "Ферми функия из оцифрованных немецких таблиц. Считываем данные"
   ]
  },
  {
   "cell_type": "code",
   "execution_count": 7,
   "metadata": {
    "scrolled": true
   },
   "outputs": [
    {
     "name": "stdout",
     "output_type": "stream",
     "text": [
      "<class 'pandas.core.frame.DataFrame'>\n",
      "RangeIndex: 48 entries, 0 to 47\n",
      "Data columns (total 2 columns):\n",
      "p       48 non-null float64\n",
      "F0L0    48 non-null float64\n",
      "dtypes: float64(2)\n",
      "memory usage: 848.0 bytes\n"
     ]
    }
   ],
   "source": [
    "Fermi_func_new_data = pd.read_excel('../../fermi_func_tables/from_1968/Z_54.ocr.xls', \n",
    "                                    parse_cols=\"A,B\", decimal='.')\n",
    "Fermi_func_new_data.info()"
   ]
  },
  {
   "cell_type": "code",
   "execution_count": 8,
   "metadata": {},
   "outputs": [
    {
     "data": {
      "text/html": [
       "<div>\n",
       "<style>\n",
       "    .dataframe thead tr:only-child th {\n",
       "        text-align: right;\n",
       "    }\n",
       "\n",
       "    .dataframe thead th {\n",
       "        text-align: left;\n",
       "    }\n",
       "\n",
       "    .dataframe tbody tr th {\n",
       "        vertical-align: top;\n",
       "    }\n",
       "</style>\n",
       "<table border=\"1\" class=\"dataframe\">\n",
       "  <thead>\n",
       "    <tr style=\"text-align: right;\">\n",
       "      <th></th>\n",
       "      <th>p</th>\n",
       "      <th>F0L0</th>\n",
       "    </tr>\n",
       "  </thead>\n",
       "  <tbody>\n",
       "    <tr>\n",
       "      <th>0</th>\n",
       "      <td>0.1</td>\n",
       "      <td>68.550</td>\n",
       "    </tr>\n",
       "    <tr>\n",
       "      <th>1</th>\n",
       "      <td>0.2</td>\n",
       "      <td>34.627</td>\n",
       "    </tr>\n",
       "    <tr>\n",
       "      <th>2</th>\n",
       "      <td>0.3</td>\n",
       "      <td>23.465</td>\n",
       "    </tr>\n",
       "    <tr>\n",
       "      <th>3</th>\n",
       "      <td>0.4</td>\n",
       "      <td>17.995</td>\n",
       "    </tr>\n",
       "    <tr>\n",
       "      <th>4</th>\n",
       "      <td>0.5</td>\n",
       "      <td>14.807</td>\n",
       "    </tr>\n",
       "  </tbody>\n",
       "</table>\n",
       "</div>"
      ],
      "text/plain": [
       "     p    F0L0\n",
       "0  0.1  68.550\n",
       "1  0.2  34.627\n",
       "2  0.3  23.465\n",
       "3  0.4  17.995\n",
       "4  0.5  14.807"
      ]
     },
     "execution_count": 8,
     "metadata": {},
     "output_type": "execute_result"
    }
   ],
   "source": [
    "Fermi_func_new_data.head()"
   ]
  },
  {
   "cell_type": "markdown",
   "metadata": {},
   "source": [
    "Функция для расчета интерполированного значения. В таблице дана зависимость от импульса вылетающего электрона. Переводим ее в зав-ть от энергии электрона"
   ]
  },
  {
   "cell_type": "code",
   "execution_count": 9,
   "metadata": {},
   "outputs": [],
   "source": [
    "e_e3 = np.sqrt( np.square( Fermi_func_new_data['p'].values ) + 1 ) #энергия вылетающего электрона\n",
    "def num_tables_func(x):\n",
    "    #x in units of mc^2\n",
    "    return np.interp(x=x, xp=e_e3, fp=Fermi_func_new_data['F0L0'].values )"
   ]
  },
  {
   "cell_type": "markdown",
   "metadata": {},
   "source": [
    "### BS05_OP flux"
   ]
  },
  {
   "cell_type": "code",
   "execution_count": 10,
   "metadata": {},
   "outputs": [],
   "source": [
    "BS05OP_Be = 4.84e9\n",
    "BS05OP_pp = 5.99e10\n",
    "BS05OP_pep = 1.42e8\n",
    "BS05OP_hep = 7.93e3\n",
    "BS05OP_B = 5.69e6\n",
    "BS05OP_N = 3.07e8\n",
    "BS05OP_0 = 2.33e8\n",
    "BS05OP_F = 5.84e6"
   ]
  },
  {
   "cell_type": "code",
   "execution_count": 11,
   "metadata": {},
   "outputs": [],
   "source": [
    "BP98_Be = 4.80e9\n",
    "BP98_pp = 5.94e10\n",
    "BP98_pep = 1.39e8\n",
    "BP98_hep = 2.10e3\n",
    "BP98_B = 5.15e6 \n",
    "BP98_N = 6.05e8\n",
    "BP98_0 = 5.32e8\n",
    "BP98_F = 6.33e6"
   ]
  },
  {
   "cell_type": "code",
   "execution_count": 12,
   "metadata": {},
   "outputs": [],
   "source": [
    "BP98_OPAL92_Be = 4.94e9\n",
    "BP98_OPAL92_pp = 5.92e10\n",
    "BP98_OPAL92_pep = 1.39e8\n",
    "BP98_OPAL92_hep = 2.08e3\n",
    "BP98_OPAL92_B = 5.44e6 \n",
    "BP98_OPAL92_N = 6.25e8\n",
    "BP98_OPAL92_0 = 5.52e8\n",
    "BP98_OPAL92_F = 6.59e6"
   ]
  },
  {
   "cell_type": "code",
   "execution_count": 13,
   "metadata": {},
   "outputs": [],
   "source": [
    "#B16-GS98 - high metallicity\n",
    "B16_GS98_Be = 4.93e9\n",
    "B16_GS98_pp = 5.98e10\n",
    "B16_GS98_pep = 1.44e8\n",
    "B16_GS98_hep = 7.98e3\n",
    "B16_GS98_B = 5.46e6 \n",
    "B16_GS98_N = 2.78e8\n",
    "B16_GS98_0 = 2.05e8\n",
    "B16_GS98_F = 5.29e6"
   ]
  },
  {
   "cell_type": "code",
   "execution_count": 14,
   "metadata": {},
   "outputs": [],
   "source": [
    "#B16-AGSS09met - low metallicity\n",
    "B16_AGSS09met_Be = 4.50e9\n",
    "B16_AGSS09met_pp = 6.03e10\n",
    "B16_AGSS09met_pep = 1.46e8\n",
    "B16_AGSS09met_hep = 8.25e3\n",
    "B16_AGSS09met_B = 4.50e6 \n",
    "B16_AGSS09met_N = 2.04e8\n",
    "B16_AGSS09met_0 = 1.44e8\n",
    "B16_AGSS09met_F = 3.26e6"
   ]
  },
  {
   "cell_type": "code",
   "execution_count": 15,
   "metadata": {},
   "outputs": [],
   "source": [
    "#fluxes_df = pd.DataFrame()"
   ]
  },
  {
   "cell_type": "code",
   "execution_count": 16,
   "metadata": {},
   "outputs": [],
   "source": [
    "step_all_fluxes = 0.001 #MeV\n",
    "Energy_all_fluxes = np.arange(0,20,step_all_fluxes)"
   ]
  },
  {
   "cell_type": "code",
   "execution_count": 17,
   "metadata": {},
   "outputs": [],
   "source": [
    "def return_flux(pp_ampl, hep_ampl, B_ampl, N_ampl, O_ampl, F_ampl, \n",
    "                energy_list = Energy_all_fluxes):\n",
    "    pp = pd.read_excel('../Solar_neutrino_flux/pp.xls')\n",
    "    b8 = pd.read_excel('../Solar_neutrino_flux/b8.xls')\n",
    "    hep = pd.read_excel('../Solar_neutrino_flux/hep.xls')\n",
    "    n13 = pd.read_excel('../Solar_neutrino_flux/n13.xls')\n",
    "    o15 = pd.read_excel('../Solar_neutrino_flux/o15.xls')\n",
    "    f17 = pd.read_excel('../Solar_neutrino_flux/f17.xls')\n",
    "\n",
    "    flux = {\n",
    "        'pp':np.interp(x=Energy_all_fluxes, xp=pp['Energy'].values, \n",
    "                       fp=pp['Probability'].values * pp_ampl ),\n",
    "        'b8':np.interp(x=Energy_all_fluxes, xp=b8['Energy'].values, \n",
    "                       fp=b8['Probability'].values * B_ampl ),\n",
    "        'hep':np.interp(x=Energy_all_fluxes, xp=hep['Energy'].values, \n",
    "                       fp=hep['Probability'].values * hep_ampl ),\n",
    "        'n13':np.interp(x=Energy_all_fluxes, xp=n13['Energy'].values, \n",
    "                       fp=n13['Probability'].values * N_ampl ),\n",
    "        'o15':np.interp(x=Energy_all_fluxes, xp=o15['Energy'].values, \n",
    "                       fp=o15['Probability'].values * O_ampl ),\n",
    "        'f17':np.interp(x=Energy_all_fluxes, xp=f17['Energy'].values, \n",
    "                       fp=f17['Probability'].values * F_ampl ),\n",
    "    }\n",
    "    return flux"
   ]
  },
  {
   "cell_type": "code",
   "execution_count": 18,
   "metadata": {},
   "outputs": [],
   "source": [
    "BS05OP_flux = return_flux(pp_ampl=BS05OP_pp, \n",
    "                          hep_ampl=BS05OP_hep,\n",
    "                          B_ampl=BS05OP_B,\n",
    "                          N_ampl=BS05OP_N,\n",
    "                          O_ampl=BS05OP_0,\n",
    "                          F_ampl=BS05OP_F)\n",
    "\n",
    "BP98_flux = return_flux(pp_ampl=BP98_pp, \n",
    "                          hep_ampl=BP98_hep,\n",
    "                          B_ampl=BP98_B,\n",
    "                          N_ampl=BP98_N,\n",
    "                          O_ampl=BP98_0,\n",
    "                          F_ampl=BP98_F)\n",
    "\n",
    "BP98_OPAL92_flux = return_flux(pp_ampl=BP98_OPAL92_pp, \n",
    "                          hep_ampl=BP98_OPAL92_hep,\n",
    "                          B_ampl=BP98_OPAL92_B,\n",
    "                          N_ampl=BP98_OPAL92_N,\n",
    "                          O_ampl=BP98_OPAL92_0,\n",
    "                          F_ampl=BP98_OPAL92_F)\n",
    "\n",
    "B16_GS98_flux = return_flux(pp_ampl=B16_GS98_pp, \n",
    "                          hep_ampl=B16_GS98_hep,\n",
    "                          B_ampl=B16_GS98_B,\n",
    "                          N_ampl=B16_GS98_N,\n",
    "                          O_ampl=B16_GS98_0,\n",
    "                          F_ampl=B16_GS98_F)\n",
    "\n",
    "B16_AGSS09met_flux = return_flux(pp_ampl=B16_AGSS09met_pp, \n",
    "                          hep_ampl=B16_AGSS09met_hep,\n",
    "                          B_ampl=B16_AGSS09met_B,\n",
    "                          N_ampl=B16_AGSS09met_N,\n",
    "                          O_ampl=B16_AGSS09met_0,\n",
    "                          F_ampl=B16_AGSS09met_F)"
   ]
  },
  {
   "cell_type": "code",
   "execution_count": 19,
   "metadata": {},
   "outputs": [],
   "source": [
    "#!pip install matplotlib-label-lines"
   ]
  },
  {
   "cell_type": "code",
   "execution_count": 20,
   "metadata": {},
   "outputs": [
    {
     "data": {
      "image/png": "[encoded data removed]",
      "text/plain": [
       "<Figure size 720x432 with 1 Axes>"
      ]
     },
     "metadata": {},
     "output_type": "display_data"
    }
   ],
   "source": [
    "fig, ax = plt.subplots(figsize=(10,6))\n",
    "\n",
    "ax.tick_params(axis=\"y\", labelsize=13)\n",
    "ax.tick_params(axis=\"x\", labelsize=13)\n",
    "\n",
    "ax.plot(Energy_all_fluxes, BS05OP_flux['pp'], label='pp')\n",
    "ax.plot(Energy_all_fluxes, BS05OP_flux['b8'], label='8B')\n",
    "ax.plot(Energy_all_fluxes, BS05OP_flux['hep'], label='hep')\n",
    "ax.plot(Energy_all_fluxes, BS05OP_flux['n13'], label='13N')\n",
    "ax.plot(Energy_all_fluxes, BS05OP_flux['o15'], label='15O')\n",
    "ax.plot(Energy_all_fluxes, BS05OP_flux['f17'], label='17F')\n",
    "\n",
    "ax.axvline(Q_EC_127Xe+0.125, c='k', ls='--')\n",
    "ax.axvline(S_n, c='k', ls='--')\n",
    "#ax.text(Q_EC_127Xe+0.05, 10**11, 'Q=232.6 KeV', rotation=90, fontsize=12)\n",
    "\n",
    "ax.vlines(pep_en, 0, BS05OP_pep, label='pep')\n",
    "ax.vlines(Be384_en, 0, BS05OP_Be*0.103, label='7Be 384 KeV')\n",
    "ax.vlines(Be862_en, 0, BS05OP_Be*(1-0.103), label='7Be 862 KeV')\n",
    "\n",
    "ax.set_xlabel('Neutrino energy (MeV)', fontsize=14)\n",
    "ax.set_ylabel(' Flux ($cm^{-2}\\cdot s^{-1}\\cdot MeV^{-1}$) [for lines $cm^{-2}\\cdot s^{-1}$]', fontsize=14)\n",
    "\n",
    "ax.set_yscale('log')\n",
    "ax.set_xscale('log')\n",
    "my_yticks = [ 10**(1), 10**(2), 10**(3), 10**(4), 10**(5), 10**(6), 10**(7), 10**(8),\n",
    "            10**(9), 10**(10), 10**(11), 10**(12)]\n",
    "#ax.set_yticks(my_yticks)\n",
    "\n",
    "#ax.set_xticks(np.arange(0,21,1))\n",
    "\n",
    "formatter = matplotlib.ticker.ScalarFormatter()\n",
    "formatter.set_scientific(True)\n",
    "\n",
    "ax.get_yaxis().set_major_formatter(formatter)\n",
    "\n",
    "def myticks(x,pos):\n",
    "    if x == 0: return \"$0$\"\n",
    "    exponent = int(np.log10(x))\n",
    "    return r\"$10^{{ {:2d} }}$\".format(exponent)\n",
    "\n",
    "ax.get_yaxis().set_major_formatter(matplotlib.ticker.FuncFormatter(myticks))\n",
    "\n",
    "#labelLines(plt.gca().get_lines(), zorder=2.5)\n",
    "\n",
    "#my_yticks_str = [str(elem) for elem in my_yticks]\n",
    "#ax.set_yticklabels(my_yticks_str)\n",
    "#ax.set_xticks(np.arange(0,21,1))\n",
    "\n",
    "ax.set_ylim(10**(1), 10**(12))\n",
    "ax.set_xlim(10**(-1), 20)\n",
    "#ax.legend(fontsize=13, loc='upper right')\n",
    "fig.tight_layout()\n",
    "#fig.savefig('solar_flux_for_127I.png', format='png', dpi=500)"
   ]
  },
  {
   "cell_type": "code",
   "execution_count": 21,
   "metadata": {},
   "outputs": [
    {
     "data": {
      "image/png": "[encoded data removed]",
      "text/plain": [
       "<Figure size 504x432 with 1 Axes>"
      ]
     },
     "metadata": {},
     "output_type": "display_data"
    }
   ],
   "source": [
    "fig, ax = plt.subplots(figsize=(7,6))\n",
    "\n",
    "ax.tick_params(axis=\"y\", labelsize=13)\n",
    "ax.tick_params(axis=\"x\", labelsize=13)\n",
    "\n",
    "ax.plot(Energy_all_fluxes, BS05OP_flux['pp'], label='pp')\n",
    "ax.plot(Energy_all_fluxes, BS05OP_flux['b8'], label='8B')\n",
    "ax.plot(Energy_all_fluxes, BS05OP_flux['hep'], label='hep')\n",
    "ax.plot(Energy_all_fluxes, BS05OP_flux['n13'], label='13N')\n",
    "ax.plot(Energy_all_fluxes, BS05OP_flux['o15'], label='15O')\n",
    "ax.plot(Energy_all_fluxes, BS05OP_flux['f17'], label='17F')\n",
    "\n",
    "ax.axvline(Q_EC_127Xe, c='k', ls='--')\n",
    "ax.axvline(S_n, c='k', ls='--')\n",
    "ax.text(Q_EC_127Xe+0.05, 10**11, 'Q=0.662MeV', fontsize=12)\n",
    "\n",
    "ax.vlines(pep_en, 0, BS05OP_pep, label='pep', color='blue')\n",
    "ax.vlines(Be384_en, 0, BS05OP_Be*0.103, label='7Be 384 KeV')\n",
    "ax.vlines(Be862_en, 0, BS05OP_Be*(1-0.103), label='7Be 862 KeV')\n",
    "\n",
    "ax.set_xlabel('Neutrino energy (MeV)', fontsize=14)\n",
    "ax.set_ylabel(' Flux ($cm^{-2}\\cdot s^{-1}\\cdot MeV^{-1}$) [for lines $cm^{-2}\\cdot s^{-1}$]', fontsize=14)\n",
    "\n",
    "ax.set_yscale('log')\n",
    "#ax.set_xscale('log')\n",
    "#my_yticks = [ 10**(1), 10**(2), 10**(3), 10**(4), 10**(5), 10**(6), 10**(7), 10**(8),\n",
    "#            10**(9), 10**(10), 10**(11), 10**(12)]\n",
    "#ax.set_yticks(my_yticks)\n",
    "\n",
    "#ax.set_xticks(np.arange(0,21,1))\n",
    "\n",
    "formatter = matplotlib.ticker.ScalarFormatter()\n",
    "formatter.set_scientific(True)\n",
    "\n",
    "ax.get_yaxis().set_major_formatter(formatter)\n",
    "\n",
    "def myticks(x,pos):\n",
    "    if x == 0: return \"$0$\"\n",
    "    exponent = int(np.log10(x))\n",
    "    return r\"$10^{{ {:2d} }}$\".format(exponent)\n",
    "\n",
    "ax.get_yaxis().set_major_formatter(matplotlib.ticker.FuncFormatter(myticks))\n",
    "\n",
    "#labelLines(plt.gca().get_lines(), zorder=2.5)\n",
    "\n",
    "#my_yticks_str = [str(elem) for elem in my_yticks]\n",
    "#ax.set_yticklabels(my_yticks_str)\n",
    "ax.set_xticks(np.arange(0,2.1,0.1))\n",
    "\n",
    "ax.set_ylim(10**(1), 10**(12))\n",
    "ax.set_xlim(0.6, 2)\n",
    "ax.legend(fontsize=13, loc='upper right')\n",
    "fig.tight_layout()\n",
    "#fig.savefig('solar_flux_for_127I.png', format='png', dpi=500)"
   ]
  },
  {
   "cell_type": "code",
   "execution_count": null,
   "metadata": {},
   "outputs": [],
   "source": []
  },
  {
   "cell_type": "code",
   "execution_count": null,
   "metadata": {},
   "outputs": [],
   "source": []
  },
  {
   "cell_type": "markdown",
   "metadata": {},
   "source": [
    "### Cross-section and total rate"
   ]
  },
  {
   "cell_type": "markdown",
   "metadata": {},
   "source": [
    "Сечение по Иджири $\\sigma_k={(10^{-44}\\ cm^2)}\\times 1.597\\cdot \\epsilon_e \\pi_e m_e^2 F(Z,E_e) [B(F)_k + (\\frac{g_a}{g_v})^2 B(GT)_k] $ "
   ]
  },
  {
   "cell_type": "code",
   "execution_count": 22,
   "metadata": {},
   "outputs": [],
   "source": [
    "g_a_g_v_square = math.pow(g_a_g_v,2)\n",
    "m_e_square = math.pow(0.511,2)"
   ]
  },
  {
   "cell_type": "code",
   "execution_count": 23,
   "metadata": {},
   "outputs": [],
   "source": [
    "#расчет сечения до энергии возбуждения 5 МэВ\n",
    "def sigma_k_less5(E_nu, E_k, BGT_k, Z, Q_EC):\n",
    "    #E_k in kev\n",
    "    #сечение k-го возб. состояния по Иджири\n",
    "    e_e=e_e_func(E_nu, E_k, Q_EC) #энергия вылетающего электрона\n",
    "    Pi_e=Pi_e_func(e_e) #его импульс\n",
    "    F_col=num_tables_func(e_e) #значение ферм-функции при такой энергии\n",
    "    return 1.597*m_e_square*e_e*Pi_e*F_col*g_a_g_v_square*BGT_k"
   ]
  },
  {
   "cell_type": "code",
   "execution_count": 24,
   "metadata": {},
   "outputs": [],
   "source": [
    "#функция расчета свертки сечения с потоком\n",
    "def rate_calc(sigma, fluxes_dict, energies_array, step, func_pep_ampl = BS05OP_pep, \n",
    "              func_Be_ampl = BS05OP_Be, name = 'test1'):\n",
    "    \n",
    "    #const = 1.597*math.pow(10,-44)\n",
    "    const = math.pow(10,-44)\n",
    "\n",
    "    sigma_total = np.array(sigma) * const\n",
    "    \n",
    "    rate_total = 0\n",
    "    \n",
    "    output_dict = {'name':name}\n",
    "    \n",
    "    for elem in list(fluxes_dict.keys()):\n",
    "        rate = sum(fluxes_dict[elem]*sigma_total*step) * math.pow(10,36)\n",
    "        #print(elem, ' ', rate)\n",
    "        output_dict[elem] = rate\n",
    "        rate_total+=rate\n",
    "        \n",
    "    sigma_pep = np.interp(pep_en, xp=energies_array, fp=sigma_total)\n",
    "    rate_pep = func_pep_ampl*sigma_pep*math.pow(10,36)\n",
    "    #print('pep', ' ', rate_pep)\n",
    "    output_dict['pep'] = rate_pep\n",
    "    rate_total+=rate_pep\n",
    "    \n",
    "    sigma_Be384 = np.interp(Be384_en, xp=energies_array, fp=sigma_total)\n",
    "    rate_Be384 = 0.103*func_Be_ampl*sigma_Be384*math.pow(10,36) #отношение из книжки бакала \n",
    "    \n",
    "    sigma_Be862 = np.interp(Be862_en, xp=energies_array, fp=sigma_total)\n",
    "    rate_Be862 = 0.897*func_Be_ampl*sigma_Be862*math.pow(10,36)\n",
    "    rate_Be = rate_Be384 + rate_Be862\n",
    "    \n",
    "    #print('Be', ' ', rate_Be)\n",
    "    output_dict['Be'] = rate_Be\n",
    "    rate_total+=rate_Be\n",
    "    \n",
    "    #print('rate_total',' ', rate_total)\n",
    "    output_dict['Total'] = rate_total\n",
    "    return output_dict"
   ]
  },
  {
   "cell_type": "code",
   "execution_count": null,
   "metadata": {},
   "outputs": [],
   "source": []
  },
  {
   "cell_type": "markdown",
   "metadata": {},
   "source": [
    "### Расчет сечения с учетом графика из статьи 1999 года\n"
   ]
  },
  {
   "cell_type": "code",
   "execution_count": 25,
   "metadata": {},
   "outputs": [
    {
     "data": {
      "text/html": [
       "<div>\n",
       "<style>\n",
       "    .dataframe thead tr:only-child th {\n",
       "        text-align: right;\n",
       "    }\n",
       "\n",
       "    .dataframe thead th {\n",
       "        text-align: left;\n",
       "    }\n",
       "\n",
       "    .dataframe tbody tr th {\n",
       "        vertical-align: top;\n",
       "    }\n",
       "</style>\n",
       "<table border=\"1\" class=\"dataframe\">\n",
       "  <thead>\n",
       "    <tr style=\"text-align: right;\">\n",
       "      <th></th>\n",
       "      <th>Ex, MeV</th>\n",
       "      <th>y</th>\n",
       "    </tr>\n",
       "  </thead>\n",
       "  <tbody>\n",
       "    <tr>\n",
       "      <th>0</th>\n",
       "      <td>0.350987</td>\n",
       "      <td>0.000603</td>\n",
       "    </tr>\n",
       "    <tr>\n",
       "      <th>1</th>\n",
       "      <td>0.434621</td>\n",
       "      <td>0.000786</td>\n",
       "    </tr>\n",
       "    <tr>\n",
       "      <th>2</th>\n",
       "      <td>0.482412</td>\n",
       "      <td>0.000911</td>\n",
       "    </tr>\n",
       "    <tr>\n",
       "      <th>3</th>\n",
       "      <td>0.589942</td>\n",
       "      <td>0.001261</td>\n",
       "    </tr>\n",
       "    <tr>\n",
       "      <th>4</th>\n",
       "      <td>0.733315</td>\n",
       "      <td>0.001911</td>\n",
       "    </tr>\n",
       "  </tbody>\n",
       "</table>\n",
       "</div>"
      ],
      "text/plain": [
       "    Ex, MeV         y\n",
       "0  0.350987  0.000603\n",
       "1  0.434621  0.000786\n",
       "2  0.482412  0.000911\n",
       "3  0.589942  0.001261\n",
       "4  0.733315  0.001911"
      ]
     },
     "execution_count": 25,
     "metadata": {},
     "output_type": "execute_result"
    }
   ],
   "source": [
    "best_fit = pd.read_excel('127Xe_gauss.xls')\n",
    "best_fit.head()\n",
    "#best_fit = pd.read_csv('2pigmy_best_fit-SDR-IAS-QFC.csv')"
   ]
  },
  {
   "cell_type": "code",
   "execution_count": 26,
   "metadata": {},
   "outputs": [
    {
     "data": {
      "image/png": "[encoded data removed]",
      "text/plain": [
       "<Figure size 648x432 with 1 Axes>"
      ]
     },
     "metadata": {},
     "output_type": "display_data"
    }
   ],
   "source": [
    "plt.figure(figsize=(9,6))\n",
    "plt.plot(best_fit['Ex, MeV'].values, best_fit['y'].values)\n",
    "plt.xlabel('$E_x$, MeV')\n",
    "plt.ylabel('Counts')\n",
    "plt.ylim(0,1.5)\n",
    "plt.xticks(np.arange(0,26,1))\n",
    "plt.show()"
   ]
  },
  {
   "cell_type": "code",
   "execution_count": 27,
   "metadata": {},
   "outputs": [],
   "source": [
    "#функция для отрезки резонансов выше энергии отрыва\n",
    "def border_func(x_data, y_data, border):\n",
    "    a=np.where(x_data<border)\n",
    "    #print(len(a[0]), len(x_data)-len(a[0]), len(x_data), a[0])\n",
    "    return np.hstack(( y_data[a], np.zeros(len(x_data)-len(a[0])) ))\n",
    "\n",
    "\n",
    "def border_func2(x_data, y_data, border_l, border_r):\n",
    "    a=np.where(x_data<border_r)\n",
    "    b=np.where(x_data>border_l)\n",
    "    temp_y = np.hstack(( y_data[a], np.zeros(len(x_data)-len(a[0])) ))\n",
    "    #print(len(a[0]), len(x_data)-len(a[0]), len(x_data), a[0])\n",
    "    return np.hstack((np.zeros((b[0][0])), temp_y[b]))"
   ]
  },
  {
   "cell_type": "code",
   "execution_count": 28,
   "metadata": {},
   "outputs": [
    {
     "data": {
      "text/plain": [
       "6.057219427825755"
      ]
     },
     "execution_count": 28,
     "metadata": {},
     "output_type": "execute_result"
    }
   ],
   "source": [
    "trapz(best_fit['y'].values, best_fit['Ex, MeV'].values)"
   ]
  },
  {
   "cell_type": "code",
   "execution_count": 29,
   "metadata": {},
   "outputs": [
    {
     "data": {
      "text/plain": [
       "(0, 20)"
      ]
     },
     "execution_count": 29,
     "metadata": {},
     "output_type": "execute_result"
    },
    {
     "data": {
      "image/png": "[encoded data removed]",
      "text/plain": [
       "<Figure size 432x288 with 1 Axes>"
      ]
     },
     "metadata": {},
     "output_type": "display_data"
    }
   ],
   "source": [
    "y = best_fit['y'].values / trapz(best_fit['y'].values, best_fit['Ex, MeV'].values) \\\n",
    "* total_GT\n",
    "\n",
    "#y_best_fit_border = border_func(best_fit['x'].values, y_best_fit, S_n)\n",
    "y_border = border_func(best_fit['Ex, MeV'].values, y, S_n)\n",
    "\n",
    "\n",
    "plt.plot(best_fit['Ex, MeV'].values, y)\n",
    "plt.plot(best_fit['Ex, MeV'].values, y_border, ls='--')\n",
    "plt.xlabel('$E_{x}$, MeV', fontsize=14)\n",
    "plt.ylabel('S(E), 1/MeV', fontsize=14)\n",
    "plt.xlim(0,20)\n",
    "#plt.savefig('S_E_func_76Ge.png', format='png', dpi=400)"
   ]
  },
  {
   "cell_type": "code",
   "execution_count": 30,
   "metadata": {},
   "outputs": [
    {
     "data": {
      "text/plain": [
       "53.54"
      ]
     },
     "execution_count": 30,
     "metadata": {},
     "output_type": "execute_result"
    }
   ],
   "source": [
    "total_GT"
   ]
  },
  {
   "cell_type": "markdown",
   "metadata": {},
   "source": [
    "Сечение для непрерывной части\n",
    "\n",
    "$\\sigma = {(10^{-44}\\ cm^2)} \\times \\int^{z-Q}_{0} {1.597 \\cdot (\\frac{g_a}{g_v})^2 \\cdot \\sqrt{(z-Q-x+0.511)^2-0.511^2} \\cdot (z-Q-x+0.511) \\cdot S_{GTR}(x) \\cdot F(z-Q-x+0.511)} dx $ \n"
   ]
  },
  {
   "cell_type": "code",
   "execution_count": 31,
   "metadata": {},
   "outputs": [],
   "source": [
    "#введем новую переменную p = z - Q\n",
    "def sigma_k_GTR(x, p, x_data, y_data):\n",
    "    e_energy = p - x + 0.511\n",
    "    return 1.597*g_a_g_v_square*np.sqrt(e_energy**2-m_e_square)*e_energy\\\n",
    "    *np.interp(x,xp=x_data,fp=y_data)*num_tables_func(e_energy/0.511) \n"
   ]
  },
  {
   "cell_type": "code",
   "execution_count": 32,
   "metadata": {},
   "outputs": [],
   "source": [
    "#разбиваем интервал интегрирования на субинтервалы\n",
    "def intervals(a,b,n):\n",
    "    c=np.linspace(a,b,num=n)\n",
    "    return [[c[i], c[i+1]] for i in range(len(c)-1)]"
   ]
  },
  {
   "cell_type": "code",
   "execution_count": 33,
   "metadata": {},
   "outputs": [],
   "source": [
    "#считаем сечение\n",
    "def cross_sec(a,b, sigma_func, shape_x, shape_y, int_num=50):\n",
    "    borders_list = intervals(a,b, int_num)\n",
    "    #return sum([quad(sigma_func, i[0],i[1], args=(b,shape_x, shape_y))[0] for i in borders_list])\n",
    "    return sum([sc.integrate.fixed_quad(sigma_func, i[0],i[1], args=(b,shape_x, shape_y))[0] for i in borders_list])\n",
    "    #return sum([sc.integrate.romberg(sigma_func, i[0],i[1], args=(b,shape_x, shape_y)) for i in borders_list])"
   ]
  },
  {
   "cell_type": "markdown",
   "metadata": {},
   "source": [
    "сечение без Sn"
   ]
  },
  {
   "cell_type": "code",
   "execution_count": 34,
   "metadata": {},
   "outputs": [],
   "source": [
    "p_list = np.arange(0,20, 0.01) #p = z - Q\n",
    "\n",
    "sigma_no_border_temp = [cross_sec(0,p, sigma_k_GTR, best_fit['Ex, MeV'].values, y, 200) for p in p_list]\n",
    "\n",
    "sigma_no_border_full = np.interp(Energy_all_fluxes, xp=p_list+Q_EC_127Xe, fp=sigma_no_border_temp)\n",
    "#sigma_more5_1 = np.interp(Energy_all_fluxes, xp=p_list+Q_EC_76As, fp=sigma_more5_temp1)"
   ]
  },
  {
   "cell_type": "markdown",
   "metadata": {},
   "source": [
    "сечение с Sn"
   ]
  },
  {
   "cell_type": "code",
   "execution_count": 35,
   "metadata": {},
   "outputs": [],
   "source": [
    "sigma_border_temp = [cross_sec(0,p, sigma_k_GTR, best_fit['Ex, MeV'].values, y_border, 200) for p in p_list]\n",
    "\n",
    "sigma_border_full = np.interp(Energy_all_fluxes, xp=p_list+Q_EC_127Xe, fp=sigma_border_temp)\n",
    "#sigma_more5_1 = np.interp(Energy_all_fluxes, xp=p_list+Q_EC_76As, fp=sigma_more5_temp1)"
   ]
  },
  {
   "cell_type": "code",
   "execution_count": 36,
   "metadata": {},
   "outputs": [
    {
     "data": {
      "image/png": "[encoded data removed]",
      "text/plain": [
       "<Figure size 720x432 with 1 Axes>"
      ]
     },
     "metadata": {},
     "output_type": "display_data"
    }
   ],
   "source": [
    "plt.figure(figsize=(10,6))\n",
    "#plt.plot(Energy_all_fluxes, sigma_best_fit_full, ls=':', c='r', label='cross-section with only best_fit_full')\n",
    "#plt.plot(Energy_all_fluxes, sigma_best_fit_Sn, ls=':', c='orange', label='cross-section with only best_fit_Sn')\n",
    "plt.plot(Energy_all_fluxes, sigma_no_border_full, ls=':', c='black', \n",
    "         label='no Sn')\n",
    "plt.plot(Energy_all_fluxes, sigma_border_full, ls='-', c='k', \n",
    "         label='with Sn')\n",
    "plt.xlabel('$E_{nu}$ (MeV)', fontsize=14)\n",
    "plt.ylabel('$\\mathbf{\\sigma} \\quad ( 10^{-44} \\quad cm^2)$', fontsize=14)\n",
    "\n",
    "plt.yscale('log')\n",
    "plt.legend(fontsize=13)\n",
    "#plt.grid(True, which=\"both\",ls=\"-\", color='0.8')\n",
    "plt.ylim(10**(-1), 10**(6))\n",
    "plt.xticks(np.arange(0,21))\n",
    "plt.tick_params(labelsize=13)\n",
    "#plt.title('Сечение с учетом только дискретных состояний')\n",
    "\n",
    "#plt.savefig('cross_section_best_fit_5_Sn_norm19.png', format='png', dpi=500)"
   ]
  },
  {
   "cell_type": "markdown",
   "metadata": {},
   "source": [
    "SNU с Sn"
   ]
  },
  {
   "cell_type": "code",
   "execution_count": 37,
   "metadata": {},
   "outputs": [
    {
     "data": {
      "text/plain": [
       "{'Be': 0.30822935728156703,\n",
       " 'Total': 42.11398475672297,\n",
       " 'b8': 41.43178422320444,\n",
       " 'f17': 0.0017612308773412527,\n",
       " 'hep': 0.1771487218685662,\n",
       " 'n13': 0.0165790529772805,\n",
       " 'name': 'test1',\n",
       " 'o15': 0.06919678335842358,\n",
       " 'pep': 0.10928538715535349,\n",
       " 'pp': 0.0}"
      ]
     },
     "execution_count": 37,
     "metadata": {},
     "output_type": "execute_result"
    }
   ],
   "source": [
    "rate_calc(sigma_border_full, BS05OP_flux, Energy_all_fluxes, step_all_fluxes,)"
   ]
  },
  {
   "cell_type": "markdown",
   "metadata": {},
   "source": [
    "SNU без Sn"
   ]
  },
  {
   "cell_type": "code",
   "execution_count": 38,
   "metadata": {},
   "outputs": [
    {
     "data": {
      "text/plain": [
       "{'Be': 0.30822935728156703,\n",
       " 'Total': 49.76482439905446,\n",
       " 'b8': 48.972598109326036,\n",
       " 'f17': 0.0017612308773412527,\n",
       " 'hep': 0.28717447807845925,\n",
       " 'n13': 0.0165790529772805,\n",
       " 'name': 'test1',\n",
       " 'o15': 0.06919678335842358,\n",
       " 'pep': 0.10928538715535349,\n",
       " 'pp': 0.0}"
      ]
     },
     "execution_count": 38,
     "metadata": {},
     "output_type": "execute_result"
    }
   ],
   "source": [
    "rate_calc(sigma_no_border_full, BS05OP_flux, Energy_all_fluxes, step_all_fluxes,)"
   ]
  },
  {
   "cell_type": "code",
   "execution_count": null,
   "metadata": {},
   "outputs": [],
   "source": []
  },
  {
   "cell_type": "markdown",
   "metadata": {},
   "source": [
    "### данные из графика BGT"
   ]
  },
  {
   "cell_type": "code",
   "execution_count": 39,
   "metadata": {},
   "outputs": [],
   "source": [
    "bgt_full = pd.read_csv('../B(GT) peaks processing/recognition/Xe127/1999_bgt_full.csv', \n",
    "                      sep=';', decimal=',', names=['x', 'y'])\n",
    "bgt_0_5 = pd.read_csv('../B(GT) peaks processing/recognition/Xe127/1999_bgt_0_5l.csv', \n",
    "                      sep=';', decimal=',', names=['x', 'y'])"
   ]
  },
  {
   "cell_type": "code",
   "execution_count": 40,
   "metadata": {},
   "outputs": [
    {
     "data": {
      "image/png": "[encoded data removed]",
      "text/plain": [
       "<Figure size 648x432 with 1 Axes>"
      ]
     },
     "metadata": {},
     "output_type": "display_data"
    }
   ],
   "source": [
    "bgt = bgt_0_5.append(bgt_full[bgt_full['x']>5])\n",
    "\n",
    "plt.figure(figsize=(9,6))\n",
    "plt.plot(bgt['x'].values, bgt['y'].values)\n",
    "plt.xlim(0,20)\n",
    "plt.ylim(0,0.7)\n",
    "plt.show()"
   ]
  },
  {
   "cell_type": "code",
   "execution_count": 41,
   "metadata": {},
   "outputs": [
    {
     "data": {
      "text/plain": [
       "5.463277472256921"
      ]
     },
     "execution_count": 41,
     "metadata": {},
     "output_type": "execute_result"
    }
   ],
   "source": [
    "trapz(bgt['y'].values, bgt['x'].values)"
   ]
  },
  {
   "cell_type": "code",
   "execution_count": 42,
   "metadata": {},
   "outputs": [
    {
     "data": {
      "text/plain": [
       "(0, 7)"
      ]
     },
     "execution_count": 42,
     "metadata": {},
     "output_type": "execute_result"
    },
    {
     "data": {
      "image/png": "[encoded data removed]",
      "text/plain": [
       "<Figure size 432x288 with 1 Axes>"
      ]
     },
     "metadata": {},
     "output_type": "display_data"
    }
   ],
   "source": [
    "y_bgt = bgt['y'].values / trapz(bgt['y'].values, bgt['x'].values) \\\n",
    "* total_GT\n",
    "y_bgt_border = border_func(bgt['x'].values, y_bgt, S_n)\n",
    "\n",
    "\n",
    "plt.plot(best_fit['Ex, MeV'].values, y)\n",
    "plt.plot(bgt['x'].values, y_bgt, )\n",
    "plt.xlabel('$E_{x}$, MeV', fontsize=14)\n",
    "plt.ylabel('S(E), 1/MeV', fontsize=14)\n",
    "plt.xlim(0,20)\n",
    "plt.ylim(0,7)\n",
    "#plt.savefig('S_E_func_76Ge.png', format='png', dpi=400)\n"
   ]
  },
  {
   "cell_type": "code",
   "execution_count": 43,
   "metadata": {},
   "outputs": [],
   "source": [
    "sigma_bgt_no_border_temp = [cross_sec(0,p, sigma_k_GTR, bgt['x'].values, y_bgt, 200) for p in p_list]\n",
    "\n",
    "sigma_bgt_no_border_full = np.interp(Energy_all_fluxes, xp=p_list+Q_EC_127Xe, fp=sigma_bgt_no_border_temp)\n",
    "#sigma_more5_1 = np.interp(Energy_all_fluxes, xp=p_list+Q_EC_76As, fp=sigma_more5_temp1)"
   ]
  },
  {
   "cell_type": "code",
   "execution_count": 44,
   "metadata": {},
   "outputs": [],
   "source": [
    "sigma_bgt_border_temp = [cross_sec(0,p, sigma_k_GTR, bgt['x'].values, y_bgt_border, 200) for p in p_list]\n",
    "\n",
    "sigma_bgt_border_full = np.interp(Energy_all_fluxes, xp=p_list+Q_EC_127Xe, fp=sigma_bgt_border_temp)\n",
    "#sigma_more5_1 = np.interp(Energy_all_fluxes, xp=p_list+Q_EC_76As, fp=sigma_more5_temp1)"
   ]
  },
  {
   "cell_type": "code",
   "execution_count": 45,
   "metadata": {},
   "outputs": [
    {
     "data": {
      "image/png": "[encoded data removed]",
      "text/plain": [
       "<Figure size 720x432 with 1 Axes>"
      ]
     },
     "metadata": {},
     "output_type": "display_data"
    }
   ],
   "source": [
    "plt.figure(figsize=(10,6))\n",
    "#plt.plot(Energy_all_fluxes, sigma_best_fit_full, ls=':', c='r', label='cross-section with only best_fit_full')\n",
    "#plt.plot(Energy_all_fluxes, sigma_best_fit_Sn, ls=':', c='orange', label='cross-section with only best_fit_Sn')\n",
    "plt.plot(Energy_all_fluxes, sigma_bgt_no_border_full, ls=':', c='black', \n",
    "         label='no Sn')\n",
    "plt.plot(Energy_all_fluxes, sigma_bgt_border_full, ls='-', c='k', \n",
    "         label='with Sn')\n",
    "plt.xlabel('$E_{nu}$ (MeV)', fontsize=14)\n",
    "plt.ylabel('$\\mathbf{\\sigma} \\quad ( 10^{-44} \\quad cm^2)$', fontsize=14)\n",
    "\n",
    "plt.yscale('log')\n",
    "plt.legend(fontsize=13)\n",
    "#plt.grid(True, which=\"both\",ls=\"-\", color='0.8')\n",
    "plt.ylim(10**(-1), 10**(6))\n",
    "plt.xticks(np.arange(0,21))\n",
    "plt.tick_params(labelsize=13)\n",
    "#plt.title('Сечение с учетом только дискретных состояний')\n",
    "\n",
    "#plt.savefig('cross_section_best_fit_5_Sn_norm19.png', format='png', dpi=500)"
   ]
  },
  {
   "cell_type": "markdown",
   "metadata": {},
   "source": [
    "### BS05OP"
   ]
  },
  {
   "cell_type": "code",
   "execution_count": 46,
   "metadata": {},
   "outputs": [
    {
     "data": {
      "text/plain": [
       "{'Be': 2.9212454461204795,\n",
       " 'Total': 30.293791523928103,\n",
       " 'b8': 25.70602571411771,\n",
       " 'f17': 0.013971570199011194,\n",
       " 'hep': 0.10863860295563527,\n",
       " 'n13': 0.1646452589248257,\n",
       " 'name': 'test1',\n",
       " 'o15': 0.5510984701356166,\n",
       " 'pep': 0.8281664614748232,\n",
       " 'pp': 0.0}"
      ]
     },
     "execution_count": 46,
     "metadata": {},
     "output_type": "execute_result"
    }
   ],
   "source": [
    "rate_calc(sigma_bgt_border_full, BS05OP_flux, Energy_all_fluxes, step_all_fluxes,)"
   ]
  },
  {
   "cell_type": "code",
   "execution_count": 47,
   "metadata": {},
   "outputs": [
    {
     "data": {
      "text/plain": [
       "{'Be': 2.9212454461204795,\n",
       " 'Total': 35.58909655543136,\n",
       " 'b8': 30.917674604333477,\n",
       " 'f17': 0.013971570199011194,\n",
       " 'hep': 0.19229474424312676,\n",
       " 'n13': 0.1646452589248257,\n",
       " 'name': 'test1',\n",
       " 'o15': 0.5510984701356166,\n",
       " 'pep': 0.8281664614748232,\n",
       " 'pp': 0.0}"
      ]
     },
     "execution_count": 47,
     "metadata": {},
     "output_type": "execute_result"
    }
   ],
   "source": [
    "rate_calc(sigma_bgt_no_border_full, BS05OP_flux, Energy_all_fluxes, step_all_fluxes,)"
   ]
  },
  {
   "cell_type": "markdown",
   "metadata": {},
   "source": [
    "### BP98"
   ]
  },
  {
   "cell_type": "code",
   "execution_count": 48,
   "metadata": {},
   "outputs": [
    {
     "data": {
      "text/plain": [
       "{'Be': 2.897102921772376,\n",
       " 'Total': 28.60089002298328,\n",
       " 'b8': 23.26643803650373,\n",
       " 'f17': 0.015143842356120011,\n",
       " 'hep': 0.028769365221542754,\n",
       " 'n13': 0.32446378387465646,\n",
       " 'name': 'test1',\n",
       " 'o15': 1.2583020863182317,\n",
       " 'pep': 0.8106699869366227,\n",
       " 'pp': 0.0}"
      ]
     },
     "execution_count": 48,
     "metadata": {},
     "output_type": "execute_result"
    }
   ],
   "source": [
    "rate_calc(sigma_bgt_border_full, BP98_flux, Energy_all_fluxes, step_all_fluxes, \n",
    "          func_pep_ampl=BP98_pep, func_Be_ampl=BP98_Be,)"
   ]
  },
  {
   "cell_type": "code",
   "execution_count": 49,
   "metadata": {},
   "outputs": [
    {
     "data": {
      "text/plain": [
       "{'Be': 2.897102921772376,\n",
       " 'Total': 33.34008961174459,\n",
       " 'b8': 27.983484044344014,\n",
       " 'f17': 0.015143842356120011,\n",
       " 'hep': 0.050922946142568246,\n",
       " 'n13': 0.32446378387465646,\n",
       " 'name': 'test1',\n",
       " 'o15': 1.2583020863182317,\n",
       " 'pep': 0.8106699869366227,\n",
       " 'pp': 0.0}"
      ]
     },
     "execution_count": 49,
     "metadata": {},
     "output_type": "execute_result"
    }
   ],
   "source": [
    "rate_calc(sigma_bgt_no_border_full, BP98_flux, Energy_all_fluxes, step_all_fluxes, \n",
    "          func_pep_ampl=BP98_pep, func_Be_ampl=BP98_Be,)"
   ]
  },
  {
   "cell_type": "markdown",
   "metadata": {},
   "source": [
    "### BP98 OPAL92"
   ]
  },
  {
   "cell_type": "code",
   "execution_count": 50,
   "metadata": {},
   "outputs": [
    {
     "data": {
      "text/plain": [
       "{'Be': 2.981601756990737,\n",
       " 'Total': 30.053916489397146,\n",
       " 'b8': 24.576586974481607,\n",
       " 'f17': 0.015765864317034892,\n",
       " 'hep': 0.028495371267051872,\n",
       " 'n13': 0.3351898593746451,\n",
       " 'name': 'test1',\n",
       " 'o15': 1.3056066760294436,\n",
       " 'pep': 0.8106699869366227,\n",
       " 'pp': 0.0}"
      ]
     },
     "execution_count": 50,
     "metadata": {},
     "output_type": "execute_result"
    }
   ],
   "source": [
    "rate_calc(sigma_bgt_border_full, BP98_OPAL92_flux, Energy_all_fluxes, step_all_fluxes, \n",
    "          func_pep_ampl=BP98_OPAL92_pep, func_Be_ampl=BP98_OPAL92_Be,)"
   ]
  },
  {
   "cell_type": "code",
   "execution_count": 51,
   "metadata": {},
   "outputs": [
    {
     "data": {
      "text/plain": [
       "{'Be': 2.981601756990737,\n",
       " 'Total': 35.058525158134394,\n",
       " 'b8': 29.5592530487828,\n",
       " 'f17': 0.015765864317034892,\n",
       " 'hep': 0.05043796570311522,\n",
       " 'n13': 0.3351898593746451,\n",
       " 'name': 'test1',\n",
       " 'o15': 1.3056066760294436,\n",
       " 'pep': 0.8106699869366227,\n",
       " 'pp': 0.0}"
      ]
     },
     "execution_count": 51,
     "metadata": {},
     "output_type": "execute_result"
    }
   ],
   "source": [
    "rate_calc(sigma_bgt_no_border_full, BP98_OPAL92_flux, Energy_all_fluxes, step_all_fluxes, \n",
    "          func_pep_ampl=BP98_OPAL92_pep, func_Be_ampl=BP98_OPAL92_Be,)"
   ]
  },
  {
   "cell_type": "markdown",
   "metadata": {},
   "source": [
    "### B16-GS98 (hight metallicity)"
   ]
  },
  {
   "cell_type": "code",
   "execution_count": 52,
   "metadata": {},
   "outputs": [
    {
     "data": {
      "text/plain": [
       "{'Be': 2.975566125903711,\n",
       " 'Total': 29.238282813733914,\n",
       " 'b8': 24.666942073652493,\n",
       " 'f17': 0.012655754512460482,\n",
       " 'hep': 0.10932358784186247,\n",
       " 'n13': 0.14909244944984215,\n",
       " 'name': 'test1',\n",
       " 'o15': 0.4848720445399201,\n",
       " 'pep': 0.8398307778336236,\n",
       " 'pp': 0.0}"
      ]
     },
     "execution_count": 52,
     "metadata": {},
     "output_type": "execute_result"
    }
   ],
   "source": [
    "rate_calc(sigma_bgt_border_full, B16_GS98_flux, Energy_all_fluxes, step_all_fluxes, \n",
    "          func_pep_ampl=B16_GS98_pep, func_Be_ampl=B16_GS98_Be,)"
   ]
  },
  {
   "cell_type": "markdown",
   "metadata": {},
   "source": [
    "###  B16-AGSS09met (low metallicity)"
   ]
  },
  {
   "cell_type": "code",
   "execution_count": 53,
   "metadata": {},
   "outputs": [
    {
     "data": {
      "text/plain": [
       "{'Be': 2.7160339891616028,\n",
       " 'Total': 24.468247117484992,\n",
       " 'b8': 20.32989731344986,\n",
       " 'f17': 0.0077991984330096735,\n",
       " 'hep': 0.11302250622748942,\n",
       " 'n13': 0.10940597009988418,\n",
       " 'name': 'test1',\n",
       " 'o15': 0.3405930459207244,\n",
       " 'pep': 0.851495094192424,\n",
       " 'pp': 0.0}"
      ]
     },
     "execution_count": 53,
     "metadata": {},
     "output_type": "execute_result"
    }
   ],
   "source": [
    "rate_calc(sigma_bgt_border_full, B16_AGSS09met_flux, Energy_all_fluxes, step_all_fluxes, \n",
    "          func_pep_ampl=B16_AGSS09met_pep, func_Be_ampl=B16_AGSS09met_Be,)"
   ]
  },
  {
   "cell_type": "code",
   "execution_count": 54,
   "metadata": {},
   "outputs": [],
   "source": [
    "no11 = rate_calc(sigma_bgt_border_full, BS05OP_flux, Energy_all_fluxes, \n",
    "                step_all_fluxes, name='BS05OP with neutron separation')\n",
    "\n",
    "no22 = rate_calc(sigma_bgt_no_border_full, BS05OP_flux, Energy_all_fluxes, \n",
    "                step_all_fluxes, name='BS05OP without neutron separation')\n",
    "\n",
    "no33 = rate_calc(sigma_bgt_border_full, B16_GS98_flux, Energy_all_fluxes, \n",
    "                step_all_fluxes, name='B16-GS98 (hight metallicity) with neutron separation')\n",
    "\n",
    "no44 = rate_calc(sigma_bgt_border_full, B16_AGSS09met_flux, Energy_all_fluxes, \n",
    "                step_all_fluxes, name='B16-AGSS09met (low metallicity) with neutron separation')\n",
    "\n"
   ]
  },
  {
   "cell_type": "code",
   "execution_count": 55,
   "metadata": {},
   "outputs": [
    {
     "data": {
      "text/html": [
       "<div>\n",
       "<style>\n",
       "    .dataframe thead tr:only-child th {\n",
       "        text-align: right;\n",
       "    }\n",
       "\n",
       "    .dataframe thead th {\n",
       "        text-align: left;\n",
       "    }\n",
       "\n",
       "    .dataframe tbody tr th {\n",
       "        vertical-align: top;\n",
       "    }\n",
       "</style>\n",
       "<table border=\"1\" class=\"dataframe\">\n",
       "  <thead>\n",
       "    <tr style=\"text-align: right;\">\n",
       "      <th></th>\n",
       "      <th>name</th>\n",
       "      <th>Be</th>\n",
       "      <th>f17</th>\n",
       "      <th>b8</th>\n",
       "      <th>n13</th>\n",
       "      <th>pep</th>\n",
       "      <th>o15</th>\n",
       "      <th>hep</th>\n",
       "      <th>pp</th>\n",
       "      <th>Total</th>\n",
       "    </tr>\n",
       "  </thead>\n",
       "  <tbody>\n",
       "    <tr>\n",
       "      <th>0</th>\n",
       "      <td>BS05OP with neutron separation</td>\n",
       "      <td>2.921</td>\n",
       "      <td>0.014</td>\n",
       "      <td>25.706</td>\n",
       "      <td>0.165</td>\n",
       "      <td>0.828</td>\n",
       "      <td>0.551</td>\n",
       "      <td>0.109</td>\n",
       "      <td>0.0</td>\n",
       "      <td>30.294</td>\n",
       "    </tr>\n",
       "    <tr>\n",
       "      <th>1</th>\n",
       "      <td>BS05OP without neutron separation</td>\n",
       "      <td>2.921</td>\n",
       "      <td>0.014</td>\n",
       "      <td>30.918</td>\n",
       "      <td>0.165</td>\n",
       "      <td>0.828</td>\n",
       "      <td>0.551</td>\n",
       "      <td>0.192</td>\n",
       "      <td>0.0</td>\n",
       "      <td>35.589</td>\n",
       "    </tr>\n",
       "    <tr>\n",
       "      <th>2</th>\n",
       "      <td>B16-GS98 (hight metallicity) with neutron sepa...</td>\n",
       "      <td>2.921</td>\n",
       "      <td>0.013</td>\n",
       "      <td>24.667</td>\n",
       "      <td>0.149</td>\n",
       "      <td>0.828</td>\n",
       "      <td>0.485</td>\n",
       "      <td>0.109</td>\n",
       "      <td>0.0</td>\n",
       "      <td>29.172</td>\n",
       "    </tr>\n",
       "    <tr>\n",
       "      <th>3</th>\n",
       "      <td>B16-AGSS09met (low metallicity) with neutron s...</td>\n",
       "      <td>2.921</td>\n",
       "      <td>0.008</td>\n",
       "      <td>20.330</td>\n",
       "      <td>0.109</td>\n",
       "      <td>0.828</td>\n",
       "      <td>0.341</td>\n",
       "      <td>0.113</td>\n",
       "      <td>0.0</td>\n",
       "      <td>24.650</td>\n",
       "    </tr>\n",
       "  </tbody>\n",
       "</table>\n",
       "</div>"
      ],
      "text/plain": [
       "                                                name     Be    f17      b8  \\\n",
       "0                     BS05OP with neutron separation  2.921  0.014  25.706   \n",
       "1                  BS05OP without neutron separation  2.921  0.014  30.918   \n",
       "2  B16-GS98 (hight metallicity) with neutron sepa...  2.921  0.013  24.667   \n",
       "3  B16-AGSS09met (low metallicity) with neutron s...  2.921  0.008  20.330   \n",
       "\n",
       "     n13    pep    o15    hep   pp   Total  \n",
       "0  0.165  0.828  0.551  0.109  0.0  30.294  \n",
       "1  0.165  0.828  0.551  0.192  0.0  35.589  \n",
       "2  0.149  0.828  0.485  0.109  0.0  29.172  \n",
       "3  0.109  0.828  0.341  0.113  0.0  24.650  "
      ]
     },
     "execution_count": 55,
     "metadata": {},
     "output_type": "execute_result"
    }
   ],
   "source": [
    "output_table0 = pd.DataFrame(data=[], columns=['name','Be', 'f17', 'b8', 'n13', 'pep', 'o15', 'hep', \n",
    "                                              'pp',  'Total'])\n",
    "\n",
    "for elem in [no11, no22, no33, no44] : \n",
    "    output_table0 = output_table0.append(elem, ignore_index=True)\n",
    "    \n",
    "for elem in ['Be', 'f17', 'b8', 'n13', 'pep', 'o15', 'hep', 'pp',  'Total']:\n",
    "    output_table0[elem] = output_table0[elem].round(3)\n",
    "output_table0"
   ]
  },
  {
   "cell_type": "code",
   "execution_count": 56,
   "metadata": {},
   "outputs": [],
   "source": [
    "#output_table0.to_excel('models_comparison.xls')"
   ]
  },
  {
   "cell_type": "code",
   "execution_count": null,
   "metadata": {},
   "outputs": [],
   "source": []
  },
  {
   "cell_type": "code",
   "execution_count": null,
   "metadata": {},
   "outputs": [],
   "source": []
  },
  {
   "cell_type": "code",
   "execution_count": null,
   "metadata": {},
   "outputs": [],
   "source": []
  },
  {
   "cell_type": "markdown",
   "metadata": {},
   "source": [
    "## Матричные элементы от ЮС"
   ]
  },
  {
   "cell_type": "code",
   "execution_count": 61,
   "metadata": {},
   "outputs": [
    {
     "data": {
      "text/plain": [
       "41.485"
      ]
     },
     "execution_count": 61,
     "metadata": {},
     "output_type": "execute_result"
    }
   ],
   "source": [
    "En = np.array([0.2, 0.54, 1.58, 1.97, 2.76, 3.08, 3.45, 6.0, 8.34, 14.8, 20.59, 20.94, \\\n",
    "               21.09, 21.22, 29.70])\n",
    "\n",
    "Mn = np.array([0.0025, 0.0025, 0.01, 0.01, 0.02, 0.10, 0.01, 0.2, 1.2, 30.8, 0.5, 0.8, \\\n",
    "               0.5, 1.03, 6.3])\n",
    "\n",
    "np.sum(Mn)"
   ]
  },
  {
   "cell_type": "code",
   "execution_count": 62,
   "metadata": {},
   "outputs": [
    {
     "name": "stdout",
     "output_type": "stream",
     "text": [
      "0.0025\n",
      "0.0025\n",
      "0.01\n",
      "0.01\n",
      "0.02\n",
      "0.1\n",
      "0.01\n",
      "0.2\n",
      "1.2\n",
      "30.8\n",
      "0.5\n",
      "0.8\n",
      "0.5\n",
      "1.03\n",
      "6.3\n"
     ]
    }
   ],
   "source": [
    "for i in Mn: print(i)"
   ]
  },
  {
   "cell_type": "code",
   "execution_count": 63,
   "metadata": {},
   "outputs": [],
   "source": [
    "def breit_vigner3(x, M, w,  G1):\n",
    "    G = G1\n",
    "    y = M * (G**1) * (1-np.exp(-(x/G)**2) ) / ((x - w)**2 + (G**2)/1)\n",
    "    return np.round(y, decimals=5) #округляем чтобы убрать неустойчивость расчета изза хвостов\n",
    "\n",
    "Ex = np.arange(0,40,0.01)\n",
    "w = En\n",
    "M_square = Mn\n",
    "alpha = 0.018\n",
    "\n",
    "\n",
    "norm_factors = []\n",
    "for w_i,M_i in zip(w, M_square):\n",
    "    y_values = breit_vigner3(Ex, 1, w_i, alpha*w_i**2)\n",
    "    norm_factors.append(trapz(y_values, Ex))"
   ]
  },
  {
   "cell_type": "code",
   "execution_count": 64,
   "metadata": {},
   "outputs": [],
   "source": [
    "plots = np.zeros((w.shape[0], Ex.shape[0]))\n",
    "for idx, w_i, M_i, norm_i in zip(range(w.shape[0]), w, M_square, norm_factors):\n",
    "    amplitude = M_i / norm_i\n",
    "    y_values = breit_vigner3(Ex, amplitude, w_i, alpha*w_i**2)\n",
    "    plots[idx] = y_values\n",
    "    \n",
    "summ = np.sum(plots, axis=0)"
   ]
  },
  {
   "cell_type": "code",
   "execution_count": 65,
   "metadata": {},
   "outputs": [
    {
     "data": {
      "image/png": "[encoded data removed]",
      "text/plain": [
       "<Figure size 720x360 with 1 Axes>"
      ]
     },
     "metadata": {},
     "output_type": "display_data"
    }
   ],
   "source": [
    "plt.figure(figsize=(10,5))\n",
    "plt.ylim(0,8)\n",
    "for elem in plots:\n",
    "    plt.plot(Ex, elem, ls=':')\n",
    "plt.plot(Ex, summ)\n",
    "plt.show()"
   ]
  },
  {
   "cell_type": "code",
   "execution_count": 66,
   "metadata": {},
   "outputs": [
    {
     "data": {
      "image/png": "[encoded data removed]",
      "text/plain": [
       "<Figure size 720x360 with 1 Axes>"
      ]
     },
     "metadata": {},
     "output_type": "display_data"
    }
   ],
   "source": [
    "plt.figure(figsize=(10,5))\n",
    "plt.plot(best_fit['Ex, MeV'].values, y, label='best fit')\n",
    "plt.plot(bgt['x'].values, y_bgt, label='bgt values')\n",
    "plt.plot(Ex, summ, label='matrix elements')\n",
    "plt.xlabel('$E_{x}$, MeV', fontsize=14)\n",
    "plt.ylabel('S(E), 1/MeV', fontsize=14)\n",
    "plt.axvline(S_n)\n",
    "plt.xlim(0,20)\n",
    "plt.ylim(0,7)\n",
    "plt.legend()\n",
    "plt.show()"
   ]
  },
  {
   "cell_type": "code",
   "execution_count": null,
   "metadata": {},
   "outputs": [],
   "source": []
  },
  {
   "cell_type": "code",
   "execution_count": 67,
   "metadata": {},
   "outputs": [
    {
     "data": {
      "image/png": "[encoded data removed]",
      "text/plain": [
       "<Figure size 432x288 with 1 Axes>"
      ]
     },
     "metadata": {},
     "output_type": "display_data"
    }
   ],
   "source": [
    "summ_border = border_func(Ex, summ, S_n)\n",
    "summ_noGTR = summ - plots[9]\n",
    "summ_noGTR_border = border_func(Ex, summ_noGTR, S_n)\n",
    "summ_noGTR_PR1 = summ_noGTR - plots[8]\n",
    "summ_noGTR_PR1_border = border_func(Ex, summ_noGTR_PR1, S_n)\n",
    "\n",
    "plt.plot(Ex, summ, label='total')\n",
    "plt.plot(Ex, summ_noGTR, label='no GTR')\n",
    "plt.plot(Ex, summ_noGTR_PR1, label='no GTR, PR1')\n",
    "plt.legend()\n",
    "plt.show()"
   ]
  },
  {
   "cell_type": "markdown",
   "metadata": {},
   "source": [
    "### total"
   ]
  },
  {
   "cell_type": "code",
   "execution_count": 68,
   "metadata": {},
   "outputs": [],
   "source": [
    "sigma_matr_no_border_temp = [cross_sec(0,p, sigma_k_GTR, Ex, summ, 200) for p in p_list]\n",
    "\n",
    "sigma_matr_no_border_full = np.interp(Energy_all_fluxes, xp=p_list+Q_EC_127Xe, fp=sigma_matr_no_border_temp)\n",
    "#sigma_more5_1 = np.interp(Energy_all_fluxes, xp=p_list+Q_EC_76As, fp=sigma_more5_temp1)\n",
    "\n",
    "sigma_matr_border_temp = [cross_sec(0,p, sigma_k_GTR, Ex, summ_border, 200) for p in p_list]\n",
    "\n",
    "sigma_matr_border_full = np.interp(Energy_all_fluxes, xp=p_list+Q_EC_127Xe, fp=sigma_matr_border_temp)\n",
    "#sigma_more5_1 = np.interp(Energy_all_fluxes, xp=p_list+Q_EC_76As, fp=sigma_more5_temp1)"
   ]
  },
  {
   "cell_type": "code",
   "execution_count": 69,
   "metadata": {},
   "outputs": [
    {
     "data": {
      "image/png": "[encoded data removed]",
      "text/plain": [
       "<Figure size 720x432 with 1 Axes>"
      ]
     },
     "metadata": {},
     "output_type": "display_data"
    }
   ],
   "source": [
    "plt.figure(figsize=(10,6))\n",
    "#plt.plot(Energy_all_fluxes, sigma_best_fit_full, ls=':', c='r', label='cross-section with only best_fit_full')\n",
    "#plt.plot(Energy_all_fluxes, sigma_best_fit_Sn, ls=':', c='orange', label='cross-section with only best_fit_Sn')\n",
    "plt.plot(Energy_all_fluxes, sigma_matr_no_border_full, ls=':', c='black', \n",
    "         label='no Sn')\n",
    "plt.plot(Energy_all_fluxes, sigma_matr_border_full, ls='-', c='k', \n",
    "         label='with Sn')\n",
    "plt.xlabel('$E_{nu}$ (MeV)', fontsize=14)\n",
    "plt.ylabel('$\\mathbf{\\sigma} \\quad ( 10^{-44} \\quad cm^2)$', fontsize=14)\n",
    "\n",
    "plt.yscale('log')\n",
    "plt.legend(fontsize=13)\n",
    "#plt.grid(True, which=\"both\",ls=\"-\", color='0.8')\n",
    "plt.ylim(10**(-1), 10**(6))\n",
    "plt.xticks(np.arange(0,21))\n",
    "plt.tick_params(labelsize=13)\n",
    "#plt.title('Сечение с учетом только дискретных состояний')\n",
    "\n",
    "#plt.savefig('cross_section_best_fit_5_Sn_norm19.png', format='png', dpi=500)"
   ]
  },
  {
   "cell_type": "code",
   "execution_count": 70,
   "metadata": {},
   "outputs": [
    {
     "data": {
      "text/plain": [
       "{'Be': 0.27580424830926087,\n",
       " 'Total': 15.441026510393897,\n",
       " 'b8': 14.822680839805377,\n",
       " 'f17': 0.00246520250410724,\n",
       " 'hep': 0.06425636604026722,\n",
       " 'n13': 0.02063288868384103,\n",
       " 'name': 'test1',\n",
       " 'o15': 0.09699327228537127,\n",
       " 'pep': 0.15819369276567413,\n",
       " 'pp': 0.0}"
      ]
     },
     "execution_count": 70,
     "metadata": {},
     "output_type": "execute_result"
    }
   ],
   "source": [
    "### BS05OP\n",
    "rate_calc(sigma_matr_border_full, BS05OP_flux, Energy_all_fluxes, step_all_fluxes,)"
   ]
  },
  {
   "cell_type": "code",
   "execution_count": 71,
   "metadata": {},
   "outputs": [
    {
     "data": {
      "text/plain": [
       "{'Be': 0.27580424830926087,\n",
       " 'Total': 18.20814693800982,\n",
       " 'b8': 17.54464161976183,\n",
       " 'f17': 0.00246520250410724,\n",
       " 'hep': 0.1094160136997335,\n",
       " 'n13': 0.02063288868384103,\n",
       " 'name': 'test1',\n",
       " 'o15': 0.09699327228537127,\n",
       " 'pep': 0.15819369276567413,\n",
       " 'pp': 0.0}"
      ]
     },
     "execution_count": 71,
     "metadata": {},
     "output_type": "execute_result"
    }
   ],
   "source": [
    "rate_calc(sigma_matr_no_border_full, BS05OP_flux, Energy_all_fluxes, step_all_fluxes,)"
   ]
  },
  {
   "cell_type": "markdown",
   "metadata": {},
   "source": [
    "### no GTR"
   ]
  },
  {
   "cell_type": "code",
   "execution_count": 72,
   "metadata": {},
   "outputs": [],
   "source": [
    "sigma_matr_noGTR_no_border_temp = [cross_sec(0,p, sigma_k_GTR, Ex, summ_noGTR, 200) for p in p_list]\n",
    "\n",
    "sigma_matr_noGTR_no_border_full = np.interp(Energy_all_fluxes, xp=p_list+Q_EC_127Xe, \n",
    "                                      fp=sigma_matr_noGTR_no_border_temp)\n",
    "#sigma_more5_1 = np.interp(Energy_all_fluxes, xp=p_list+Q_EC_76As, fp=sigma_more5_temp1)\n",
    "\n",
    "sigma_matr_noGTR_border_temp = [cross_sec(0,p, sigma_k_GTR, Ex, summ_noGTR_border, 200) for p in p_list]\n",
    "\n",
    "sigma_matr_noGTR_border_full = np.interp(Energy_all_fluxes, xp=p_list+Q_EC_127Xe, \n",
    "                                         fp=sigma_matr_noGTR_border_temp)\n",
    "#sigma_more5_1 = np.interp(Energy_all_fluxes, xp=p_list+Q_EC_76As, fp=sigma_more5_temp1)"
   ]
  },
  {
   "cell_type": "code",
   "execution_count": 73,
   "metadata": {},
   "outputs": [
    {
     "data": {
      "text/plain": [
       "{'Be': 0.2672799092727694,\n",
       " 'Total': 5.5976171172725175,\n",
       " 'b8': 5.074507145838451,\n",
       " 'f17': 0.0020851467170695994,\n",
       " 'hep': 0.02074978564906726,\n",
       " 'n13': 0.019415305278160832,\n",
       " 'name': 'test1',\n",
       " 'o15': 0.08215484631369621,\n",
       " 'pep': 0.13142497820330282,\n",
       " 'pp': 0.0}"
      ]
     },
     "execution_count": 73,
     "metadata": {},
     "output_type": "execute_result"
    }
   ],
   "source": [
    "### BS05OP\n",
    "rate_calc(sigma_matr_noGTR_border_full, BS05OP_flux, Energy_all_fluxes, step_all_fluxes,)"
   ]
  },
  {
   "cell_type": "code",
   "execution_count": 74,
   "metadata": {},
   "outputs": [
    {
     "data": {
      "text/plain": [
       "{'Be': 0.2672799092727694,\n",
       " 'Total': 6.363801324454244,\n",
       " 'b8': 5.831070950925827,\n",
       " 'f17': 0.0020851467170695994,\n",
       " 'hep': 0.030370187743417973,\n",
       " 'n13': 0.019415305278160832,\n",
       " 'name': 'test1',\n",
       " 'o15': 0.08215484631369621,\n",
       " 'pep': 0.13142497820330282,\n",
       " 'pp': 0.0}"
      ]
     },
     "execution_count": 74,
     "metadata": {},
     "output_type": "execute_result"
    }
   ],
   "source": [
    "rate_calc(sigma_matr_noGTR_no_border_full, BS05OP_flux, Energy_all_fluxes, step_all_fluxes,)"
   ]
  },
  {
   "cell_type": "markdown",
   "metadata": {},
   "source": [
    "### no GTR no PR1"
   ]
  },
  {
   "cell_type": "code",
   "execution_count": 75,
   "metadata": {},
   "outputs": [],
   "source": [
    "sigma_matr_noGTR_noPR1_no_border_temp = [cross_sec(0,p, sigma_k_GTR, Ex, summ_noGTR_PR1, 200) for p in p_list]\n",
    "\n",
    "sigma_matr_noGTR_noPR1_no_border_full = np.interp(Energy_all_fluxes, xp=p_list+Q_EC_127Xe, \n",
    "                                      fp=sigma_matr_noGTR_noPR1_no_border_temp)\n",
    "#sigma_more5_1 = np.interp(Energy_all_fluxes, xp=p_list+Q_EC_76As, fp=sigma_more5_temp1)\n",
    "\n",
    "sigma_matr_noGTR_noPR1_border_temp = [cross_sec(0,p, sigma_k_GTR, Ex, summ_noGTR_PR1_border, 200) for p in p_list]\n",
    "\n",
    "sigma_matr_noGTR_noPR1_border_full = np.interp(Energy_all_fluxes, xp=p_list+Q_EC_127Xe, \n",
    "                                   fp=sigma_matr_noGTR_noPR1_border_temp)\n",
    "#sigma_more5_1 = np.interp(Energy_all_fluxes, xp=p_list+Q_EC_76As, fp=sigma_more5_temp1)"
   ]
  },
  {
   "cell_type": "code",
   "execution_count": 76,
   "metadata": {},
   "outputs": [
    {
     "data": {
      "text/plain": [
       "{'Be': 0.2641365303645267,\n",
       " 'Total': 4.052430650518406,\n",
       " 'b8': 3.5548227597409485,\n",
       " 'f17': 0.0019504292258294962,\n",
       " 'hep': 0.013763607657538486,\n",
       " 'n13': 0.018968717042210776,\n",
       " 'name': 'test1',\n",
       " 'o15': 0.07689214717545031,\n",
       " 'pep': 0.12189645931190078,\n",
       " 'pp': 0.0}"
      ]
     },
     "execution_count": 76,
     "metadata": {},
     "output_type": "execute_result"
    }
   ],
   "source": [
    "### BS05OP\n",
    "rate_calc(sigma_matr_noGTR_noPR1_border_full, BS05OP_flux, Energy_all_fluxes, step_all_fluxes,)"
   ]
  },
  {
   "cell_type": "code",
   "execution_count": 77,
   "metadata": {},
   "outputs": [
    {
     "data": {
      "text/plain": [
       "{'Be': 0.2641365303645267,\n",
       " 'Total': 4.218231624767188,\n",
       " 'b8': 3.7179382521449775,\n",
       " 'f17': 0.0019504292258294962,\n",
       " 'hep': 0.016449089502291726,\n",
       " 'n13': 0.018968717042210776,\n",
       " 'name': 'test1',\n",
       " 'o15': 0.07689214717545031,\n",
       " 'pep': 0.12189645931190078,\n",
       " 'pp': 0.0}"
      ]
     },
     "execution_count": 77,
     "metadata": {},
     "output_type": "execute_result"
    }
   ],
   "source": [
    "rate_calc(sigma_matr_noGTR_noPR1_no_border_full, BS05OP_flux, Energy_all_fluxes, step_all_fluxes,)"
   ]
  },
  {
   "cell_type": "code",
   "execution_count": null,
   "metadata": {},
   "outputs": [],
   "source": []
  },
  {
   "cell_type": "code",
   "execution_count": null,
   "metadata": {},
   "outputs": [],
   "source": []
  },
  {
   "cell_type": "markdown",
   "metadata": {},
   "source": [
    "### to Lutostansky"
   ]
  },
  {
   "cell_type": "code",
   "execution_count": 78,
   "metadata": {},
   "outputs": [
    {
     "data": {
      "image/png": "[encoded data removed]",
      "text/plain": [
       "<Figure size 432x288 with 1 Axes>"
      ]
     },
     "metadata": {},
     "output_type": "display_data"
    }
   ],
   "source": [
    "Ex2 = np.arange(0,20,0.1)\n",
    "\n",
    "exp_power_func = np.interp(Ex2, best_fit['Ex, MeV'].values, y)\n",
    "bgt_digit = np.interp(Ex2, bgt['x'].values, y_bgt)\n",
    "\n",
    "plt.plot(Ex2, exp_power_func)\n",
    "plt.plot(Ex2, bgt_digit)\n",
    "plt.show()"
   ]
  },
  {
   "cell_type": "code",
   "execution_count": 79,
   "metadata": {},
   "outputs": [],
   "source": [
    "output = pd.DataFrame(data={'Ex, MeV':Ex2,})\n",
    "output['Experimetal_spec'] = exp_power_func\n",
    "output['BGT_graph'] = bgt_digit\n",
    "#output.to_excel('127Xe_data.xls', index=False)"
   ]
  },
  {
   "cell_type": "code",
   "execution_count": 80,
   "metadata": {},
   "outputs": [
    {
     "data": {
      "text/html": [
       "<div>\n",
       "<style>\n",
       "    .dataframe thead tr:only-child th {\n",
       "        text-align: right;\n",
       "    }\n",
       "\n",
       "    .dataframe thead th {\n",
       "        text-align: left;\n",
       "    }\n",
       "\n",
       "    .dataframe tbody tr th {\n",
       "        vertical-align: top;\n",
       "    }\n",
       "</style>\n",
       "<table border=\"1\" class=\"dataframe\">\n",
       "  <thead>\n",
       "    <tr style=\"text-align: right;\">\n",
       "      <th></th>\n",
       "      <th>Ex, MeV</th>\n",
       "      <th>Experimetal_spec</th>\n",
       "      <th>BGT_graph</th>\n",
       "    </tr>\n",
       "  </thead>\n",
       "  <tbody>\n",
       "    <tr>\n",
       "      <th>0</th>\n",
       "      <td>0.0</td>\n",
       "      <td>0.005331</td>\n",
       "      <td>0.013527</td>\n",
       "    </tr>\n",
       "    <tr>\n",
       "      <th>1</th>\n",
       "      <td>0.1</td>\n",
       "      <td>0.005331</td>\n",
       "      <td>0.040147</td>\n",
       "    </tr>\n",
       "    <tr>\n",
       "      <th>2</th>\n",
       "      <td>0.2</td>\n",
       "      <td>0.005331</td>\n",
       "      <td>0.086733</td>\n",
       "    </tr>\n",
       "    <tr>\n",
       "      <th>3</th>\n",
       "      <td>0.3</td>\n",
       "      <td>0.005331</td>\n",
       "      <td>0.056785</td>\n",
       "    </tr>\n",
       "    <tr>\n",
       "      <th>4</th>\n",
       "      <td>0.4</td>\n",
       "      <td>0.006276</td>\n",
       "      <td>0.040192</td>\n",
       "    </tr>\n",
       "  </tbody>\n",
       "</table>\n",
       "</div>"
      ],
      "text/plain": [
       "   Ex, MeV  Experimetal_spec  BGT_graph\n",
       "0      0.0          0.005331   0.013527\n",
       "1      0.1          0.005331   0.040147\n",
       "2      0.2          0.005331   0.086733\n",
       "3      0.3          0.005331   0.056785\n",
       "4      0.4          0.006276   0.040192"
      ]
     },
     "execution_count": 80,
     "metadata": {},
     "output_type": "execute_result"
    }
   ],
   "source": [
    "output.head()"
   ]
  },
  {
   "cell_type": "code",
   "execution_count": 81,
   "metadata": {},
   "outputs": [],
   "source": [
    "output.to_excel('127Xe_data.xls', index=False)"
   ]
  },
  {
   "cell_type": "code",
   "execution_count": null,
   "metadata": {},
   "outputs": [],
   "source": []
  },
  {
   "cell_type": "code",
   "execution_count": null,
   "metadata": {},
   "outputs": [],
   "source": []
  },
  {
   "cell_type": "code",
   "execution_count": 82,
   "metadata": {},
   "outputs": [],
   "source": [
    "Et_53=[5,6,7,8,9,10,12,14,16,18,20,22,24,26,28,30,35,40,45,50,55,60,65,70,75,80,85,90,95,100,\n",
    "110,120,130,140,150,160,170,180,190,200,210,220,230,240,250,260,270,280,290,300,310,320,330,\n",
    "340,350,360,370,380,390,400,450,500,550,600,650,700,750,800,850,900,950,1000,1100,1200,1300,\n",
    "1400,1500,1600,1700,1800,1900,2000,2200,2400,2600,2800,3000,3200,3400,3600,3800,4000,4500,\n",
    "5000,5500,6000,7000,8000,9000,10000]"
   ]
  },
  {
   "cell_type": "code",
   "execution_count": 83,
   "metadata": {},
   "outputs": [],
   "source": [
    "#for i in range(100):\n",
    "#    Et_53[i]=0.511+Et_53[i]/1000\n",
    "Ft_53=[43.66,39.89,36.97,34.61,32.67,31.02,28.37,26.31,24.66,23.29,22.18,21.14,20.27,19.51,\n",
    "18.83,18.22,16.94,15.91,15.06,14.35,13.75,13.22,12.76,12.35,11.99,11.66,11.37,11.10,10.85,\n",
    "10.62,10.22,9.879,9.577,9.310,9.074,8.862,8.671,8.498,8.340,8.196,8.063,7.940,7.827,7.721,\n",
    "7.622,7.530,7.443,7.362,7.385,7.212,7.144,7.079,7.017,6.958,6.902,6.848,6.797,6.748,6.701,\n",
    "6.656,6.456,6.289,6.147,6.024,5.916,5.820,5.734,5.656,5.584,5.518,5.457,5.400,5.296,5.203,\n",
    "5.119,5.043,4.973,4.908,4.848,4.791,4.733,4.687,4.594,4.508,4.428,4.354,4.284,4.218,4.156,\n",
    "4.096,4.040,3.985,3.858,3.741,3.633,3.532,3.346,3.191,3.054,2.926]"
   ]
  },
  {
   "cell_type": "code",
   "execution_count": 84,
   "metadata": {},
   "outputs": [],
   "source": [
    "#Ft_53mod=[0 for i in range(102)]\n",
    "#for i in range(100):\n",
    "#    Ft_53mod[i+1]=Ft_53[i]*(Et_53[i])*((Et_53[i])2-0.511**2)(0.5)\n",
    "#Ft_53mod[0]=(Ft_53mod[1]-Ft_53mod[2])*5+Ft_53mod[1]\n",
    "#Ft_53mod[101]=Ft_53mod[100]-(Ft_53mod[99]-Ft_53mod[100])*10"
   ]
  },
  {
   "cell_type": "code",
   "execution_count": 85,
   "metadata": {},
   "outputs": [],
   "source": [
    "#Et_53mod=[0,5,6,7,8,9,10,12,14,16,18,20,22,24,26,28,30,35,40,45,50,55,60,65,70,75,80,85,90,95,\n",
    "#100,110,120,130,140,150,160,170,180,190,200,210,220,230,240,250,260,270,280,290,300,310,320,\n",
    "#330,340,350,360,370,380,390,400,450,500,550,600,650,700,750,800,850,900,950,1000,1100,1200,\n",
    "#1300,1400,1500,1600,1700,1800,1900,2000,2200,2400,2600,2800,3000,3200,3400,3600,3800,4000,\n",
    "#4500,5000,5500,6000,7000,8000,9000,10000,20000]"
   ]
  },
  {
   "cell_type": "code",
   "execution_count": 86,
   "metadata": {},
   "outputs": [],
   "source": [
    "#for i in range(102):\n",
    "#    Et_53mod[i]=0.511+Et_53mod[i]/1000\n",
    "#def F_53(E):\n",
    "#    return numpy.interp(E, Et_53, Ft_53)\n",
    "#def F_53mod(E):\n",
    "#    return numpy.interp(E, Et_53mod, Ft_53mod)"
   ]
  },
  {
   "cell_type": "code",
   "execution_count": 87,
   "metadata": {},
   "outputs": [],
   "source": [
    "def Suslov_func(e_e):\n",
    "    #input энергия электрона в кэв\n",
    "    f = interp1d(x=Et_53, y=Ft_53, kind='linear', fill_value='extrapolate')\n",
    "#    return np.interp(x = e_e, xp = Et_53, \n",
    "#                     fp = Ft_53)\n",
    "    return f(e_e)\n",
    "\n",
    "def Pi_e_func2(e_e):\n",
    "    #Привиденный импульс электрона, вычисляется через привиденную энергию; ** означает степень  \n",
    "    return np.sqrt(e_e**2 - 1)\n",
    "\n",
    "def Janecki_func(e_e):\n",
    "    #input энергия электрона в кэв\n",
    "    E = 1 + e_e/511 # полная энергия электрона в единицах mc^2\n",
    "    p = Pi_e_func2(E)\n",
    "    return np.interp(x = p, xp = Fermi_func_new_data['p'], \n",
    "                     fp = Fermi_func_new_data['F0L0'])"
   ]
  },
  {
   "cell_type": "code",
   "execution_count": 88,
   "metadata": {},
   "outputs": [
    {
     "data": {
      "image/png": "[encoded data removed]",
      "text/plain": [
       "<Figure size 864x360 with 1 Axes>"
      ]
     },
     "metadata": {},
     "output_type": "display_data"
    }
   ],
   "source": [
    "e_e = np.linspace(0,20, 2000) #MeV\n",
    "\n",
    "plt.figure(figsize=(12,5))\n",
    "plt.plot(e_e, Janecki_func(e_e*1000), label='Janecki fermi function')\n",
    "plt.plot(e_e, Suslov_func(e_e*1000), label='Suslov fermi function')\n",
    "plt.legend()\n",
    "plt.show()"
   ]
  },
  {
   "cell_type": "code",
   "execution_count": 89,
   "metadata": {},
   "outputs": [
    {
     "data": {
      "image/png": "[encoded data removed]",
      "text/plain": [
       "<Figure size 360x360 with 1 Axes>"
      ]
     },
     "metadata": {},
     "output_type": "display_data"
    }
   ],
   "source": [
    "plt.figure(figsize=(5,5))\n",
    "plt.plot(e_e, Janecki_func(e_e*1000)/ Suslov_func(e_e*1000), label='Janecki/Suslov', linewidth=2.1)\n",
    "plt.legend(fontsize=14)\n",
    "#plt.xlim(0,1)\n",
    "plt.ylim(1,1.3)\n",
    "plt.xlim(0,10)\n",
    "plt.xticks(fontsize=14)\n",
    "plt.yticks(fontsize=14)\n",
    "plt.xlabel(\"$E_e, MeV$\", fontsize=14)\n",
    "plt.ylabel(\"A.U.\", fontsize=14)\n",
    "plt.tight_layout()\n",
    "plt.savefig('fermi_func_comparison.png', format='png', dpi=500)\n",
    "plt.show()"
   ]
  },
  {
   "cell_type": "code",
   "execution_count": null,
   "metadata": {},
   "outputs": [],
   "source": []
  },
  {
   "cell_type": "markdown",
   "metadata": {},
   "source": [
    "### расчет c декомпозицией"
   ]
  },
  {
   "cell_type": "code",
   "execution_count": 90,
   "metadata": {},
   "outputs": [
    {
     "data": {
      "text/html": [
       "<div>\n",
       "<style>\n",
       "    .dataframe thead tr:only-child th {\n",
       "        text-align: right;\n",
       "    }\n",
       "\n",
       "    .dataframe thead th {\n",
       "        text-align: left;\n",
       "    }\n",
       "\n",
       "    .dataframe tbody tr th {\n",
       "        vertical-align: top;\n",
       "    }\n",
       "</style>\n",
       "<table border=\"1\" class=\"dataframe\">\n",
       "  <thead>\n",
       "    <tr style=\"text-align: right;\">\n",
       "      <th></th>\n",
       "      <th>Ex, MeV</th>\n",
       "      <th>best_fit</th>\n",
       "      <th>bgt</th>\n",
       "      <th>gtr</th>\n",
       "      <th>pr1</th>\n",
       "      <th>pr2</th>\n",
       "    </tr>\n",
       "  </thead>\n",
       "  <tbody>\n",
       "    <tr>\n",
       "      <th>0</th>\n",
       "      <td>0.00</td>\n",
       "      <td>0.00000</td>\n",
       "      <td>0.014032</td>\n",
       "      <td>0.00000</td>\n",
       "      <td>0.00000</td>\n",
       "      <td>0.00000</td>\n",
       "    </tr>\n",
       "    <tr>\n",
       "      <th>1</th>\n",
       "      <td>0.05</td>\n",
       "      <td>0.00018</td>\n",
       "      <td>0.041647</td>\n",
       "      <td>0.00007</td>\n",
       "      <td>0.00004</td>\n",
       "      <td>0.00007</td>\n",
       "    </tr>\n",
       "    <tr>\n",
       "      <th>2</th>\n",
       "      <td>0.10</td>\n",
       "      <td>0.00071</td>\n",
       "      <td>0.041647</td>\n",
       "      <td>0.00027</td>\n",
       "      <td>0.00014</td>\n",
       "      <td>0.00030</td>\n",
       "    </tr>\n",
       "    <tr>\n",
       "      <th>3</th>\n",
       "      <td>0.15</td>\n",
       "      <td>0.00162</td>\n",
       "      <td>0.089973</td>\n",
       "      <td>0.00061</td>\n",
       "      <td>0.00032</td>\n",
       "      <td>0.00069</td>\n",
       "    </tr>\n",
       "    <tr>\n",
       "      <th>4</th>\n",
       "      <td>0.20</td>\n",
       "      <td>0.00288</td>\n",
       "      <td>0.089973</td>\n",
       "      <td>0.00108</td>\n",
       "      <td>0.00057</td>\n",
       "      <td>0.00123</td>\n",
       "    </tr>\n",
       "    <tr>\n",
       "      <th>5</th>\n",
       "      <td>0.25</td>\n",
       "      <td>0.00451</td>\n",
       "      <td>0.083343</td>\n",
       "      <td>0.00170</td>\n",
       "      <td>0.00089</td>\n",
       "      <td>0.00192</td>\n",
       "    </tr>\n",
       "    <tr>\n",
       "      <th>6</th>\n",
       "      <td>0.30</td>\n",
       "      <td>0.00647</td>\n",
       "      <td>0.058906</td>\n",
       "      <td>0.00246</td>\n",
       "      <td>0.00127</td>\n",
       "      <td>0.00274</td>\n",
       "    </tr>\n",
       "    <tr>\n",
       "      <th>7</th>\n",
       "      <td>0.35</td>\n",
       "      <td>0.00877</td>\n",
       "      <td>0.054557</td>\n",
       "      <td>0.00337</td>\n",
       "      <td>0.00171</td>\n",
       "      <td>0.00369</td>\n",
       "    </tr>\n",
       "    <tr>\n",
       "      <th>8</th>\n",
       "      <td>0.40</td>\n",
       "      <td>0.01135</td>\n",
       "      <td>0.041694</td>\n",
       "      <td>0.00442</td>\n",
       "      <td>0.00220</td>\n",
       "      <td>0.00473</td>\n",
       "    </tr>\n",
       "    <tr>\n",
       "      <th>9</th>\n",
       "      <td>0.45</td>\n",
       "      <td>0.01421</td>\n",
       "      <td>0.035951</td>\n",
       "      <td>0.00563</td>\n",
       "      <td>0.00273</td>\n",
       "      <td>0.00585</td>\n",
       "    </tr>\n",
       "    <tr>\n",
       "      <th>10</th>\n",
       "      <td>0.50</td>\n",
       "      <td>0.01731</td>\n",
       "      <td>0.028589</td>\n",
       "      <td>0.00698</td>\n",
       "      <td>0.00331</td>\n",
       "      <td>0.00702</td>\n",
       "    </tr>\n",
       "    <tr>\n",
       "      <th>11</th>\n",
       "      <td>0.55</td>\n",
       "      <td>0.02063</td>\n",
       "      <td>0.058906</td>\n",
       "      <td>0.00849</td>\n",
       "      <td>0.00392</td>\n",
       "      <td>0.00822</td>\n",
       "    </tr>\n",
       "    <tr>\n",
       "      <th>12</th>\n",
       "      <td>0.60</td>\n",
       "      <td>0.02413</td>\n",
       "      <td>0.058906</td>\n",
       "      <td>0.01014</td>\n",
       "      <td>0.00455</td>\n",
       "      <td>0.00944</td>\n",
       "    </tr>\n",
       "    <tr>\n",
       "      <th>13</th>\n",
       "      <td>0.65</td>\n",
       "      <td>0.02780</td>\n",
       "      <td>0.053448</td>\n",
       "      <td>0.01196</td>\n",
       "      <td>0.00519</td>\n",
       "      <td>0.01065</td>\n",
       "    </tr>\n",
       "    <tr>\n",
       "      <th>14</th>\n",
       "      <td>0.70</td>\n",
       "      <td>0.03163</td>\n",
       "      <td>0.041647</td>\n",
       "      <td>0.01393</td>\n",
       "      <td>0.00584</td>\n",
       "      <td>0.01186</td>\n",
       "    </tr>\n",
       "    <tr>\n",
       "      <th>15</th>\n",
       "      <td>0.75</td>\n",
       "      <td>0.03559</td>\n",
       "      <td>0.041647</td>\n",
       "      <td>0.01605</td>\n",
       "      <td>0.00649</td>\n",
       "      <td>0.01305</td>\n",
       "    </tr>\n",
       "    <tr>\n",
       "      <th>16</th>\n",
       "      <td>0.80</td>\n",
       "      <td>0.03968</td>\n",
       "      <td>0.043731</td>\n",
       "      <td>0.01833</td>\n",
       "      <td>0.00713</td>\n",
       "      <td>0.01422</td>\n",
       "    </tr>\n",
       "    <tr>\n",
       "      <th>17</th>\n",
       "      <td>0.85</td>\n",
       "      <td>0.04390</td>\n",
       "      <td>0.036829</td>\n",
       "      <td>0.02077</td>\n",
       "      <td>0.00776</td>\n",
       "      <td>0.01537</td>\n",
       "    </tr>\n",
       "    <tr>\n",
       "      <th>18</th>\n",
       "      <td>0.90</td>\n",
       "      <td>0.04825</td>\n",
       "      <td>0.028113</td>\n",
       "      <td>0.02337</td>\n",
       "      <td>0.00837</td>\n",
       "      <td>0.01651</td>\n",
       "    </tr>\n",
       "    <tr>\n",
       "      <th>19</th>\n",
       "      <td>0.95</td>\n",
       "      <td>0.05273</td>\n",
       "      <td>0.086521</td>\n",
       "      <td>0.02613</td>\n",
       "      <td>0.00896</td>\n",
       "      <td>0.01764</td>\n",
       "    </tr>\n",
       "  </tbody>\n",
       "</table>\n",
       "</div>"
      ],
      "text/plain": [
       "    Ex, MeV  best_fit       bgt      gtr      pr1      pr2\n",
       "0      0.00   0.00000  0.014032  0.00000  0.00000  0.00000\n",
       "1      0.05   0.00018  0.041647  0.00007  0.00004  0.00007\n",
       "2      0.10   0.00071  0.041647  0.00027  0.00014  0.00030\n",
       "3      0.15   0.00162  0.089973  0.00061  0.00032  0.00069\n",
       "4      0.20   0.00288  0.089973  0.00108  0.00057  0.00123\n",
       "5      0.25   0.00451  0.083343  0.00170  0.00089  0.00192\n",
       "6      0.30   0.00647  0.058906  0.00246  0.00127  0.00274\n",
       "7      0.35   0.00877  0.054557  0.00337  0.00171  0.00369\n",
       "8      0.40   0.01135  0.041694  0.00442  0.00220  0.00473\n",
       "9      0.45   0.01421  0.035951  0.00563  0.00273  0.00585\n",
       "10     0.50   0.01731  0.028589  0.00698  0.00331  0.00702\n",
       "11     0.55   0.02063  0.058906  0.00849  0.00392  0.00822\n",
       "12     0.60   0.02413  0.058906  0.01014  0.00455  0.00944\n",
       "13     0.65   0.02780  0.053448  0.01196  0.00519  0.01065\n",
       "14     0.70   0.03163  0.041647  0.01393  0.00584  0.01186\n",
       "15     0.75   0.03559  0.041647  0.01605  0.00649  0.01305\n",
       "16     0.80   0.03968  0.043731  0.01833  0.00713  0.01422\n",
       "17     0.85   0.04390  0.036829  0.02077  0.00776  0.01537\n",
       "18     0.90   0.04825  0.028113  0.02337  0.00837  0.01651\n",
       "19     0.95   0.05273  0.086521  0.02613  0.00896  0.01764"
      ]
     },
     "execution_count": 90,
     "metadata": {},
     "output_type": "execute_result"
    }
   ],
   "source": [
    "decomp = pd.read_excel('127Xe_bgt_decomp.xls')\n",
    "decomp.head(20)"
   ]
  },
  {
   "cell_type": "code",
   "execution_count": 91,
   "metadata": {},
   "outputs": [
    {
     "data": {
      "text/plain": [
       "(55.58062392490359, 55.568871, 52.711257, 2.4391040000000004, 0.41851)"
      ]
     },
     "execution_count": 91,
     "metadata": {},
     "output_type": "execute_result"
    }
   ],
   "source": [
    "trapz(decomp['bgt'].values, decomp['Ex, MeV'].values),\\\n",
    "trapz(decomp['best_fit'].values, decomp['Ex, MeV'].values),\\\n",
    "trapz(decomp['gtr'].values, decomp['Ex, MeV'].values), \\\n",
    "trapz(decomp['pr1'].values, decomp['Ex, MeV'].values), \\\n",
    "trapz(decomp['pr2'].values, decomp['Ex, MeV'].values), \\"
   ]
  },
  {
   "cell_type": "code",
   "execution_count": 92,
   "metadata": {},
   "outputs": [],
   "source": [
    "y_total_border = border_func(decomp['Ex, MeV'].values, decomp['best_fit'].values, S_n)\n",
    "y_bgt_border = border_func(decomp['Ex, MeV'].values, decomp['bgt'].values, S_n)\n",
    "y_gtr_border = border_func(decomp['Ex, MeV'].values, decomp['gtr'].values, S_n)\n",
    "y_pr1_border = border_func(decomp['Ex, MeV'].values, decomp['pr1'].values, S_n)\n",
    "y_pr2_border = border_func(decomp['Ex, MeV'].values, decomp['pr2'].values, S_n)"
   ]
  },
  {
   "cell_type": "markdown",
   "metadata": {},
   "source": [
    "### bgt"
   ]
  },
  {
   "cell_type": "code",
   "execution_count": 93,
   "metadata": {},
   "outputs": [],
   "source": [
    "sigma_y_bgt_no_border_temp = [cross_sec(0,p, sigma_k_GTR, decomp['Ex, MeV'].values, \n",
    "                                      decomp['bgt'].values, 200) for p in p_list]\n",
    "sigma_y_bgt_no_border_full = np.interp(Energy_all_fluxes, xp=p_list+Q_EC_127Xe, \n",
    "                                     fp=sigma_y_bgt_no_border_temp)\n",
    "\n",
    "sigma_y_bgt_border_temp = [cross_sec(0,p, sigma_k_GTR, decomp['Ex, MeV'].values, \n",
    "                                   y_bgt_border, 200) for p in p_list]\n",
    "sigma_y_bgt_border_full = np.interp(Energy_all_fluxes, xp=p_list+Q_EC_127Xe, \n",
    "                                  fp=sigma_y_bgt_border_temp)"
   ]
  },
  {
   "cell_type": "code",
   "execution_count": 94,
   "metadata": {},
   "outputs": [
    {
     "data": {
      "text/plain": [
       "{'Be': 3.028753207265253,\n",
       " 'Total': 31.355310935660786,\n",
       " 'b8': 26.592277445253995,\n",
       " 'f17': 0.014540688379330318,\n",
       " 'hep': 0.1124154985716051,\n",
       " 'n13': 0.17030037295824904,\n",
       " 'name': 'test1',\n",
       " 'o15': 0.573539491249559,\n",
       " 'pep': 0.8634842319827951,\n",
       " 'pp': 0.0}"
      ]
     },
     "execution_count": 94,
     "metadata": {},
     "output_type": "execute_result"
    }
   ],
   "source": [
    "### BS05OP\n",
    "rate_calc(sigma_y_bgt_border_full, \\\n",
    "          BS05OP_flux, Energy_all_fluxes, step_all_fluxes,)"
   ]
  },
  {
   "cell_type": "code",
   "execution_count": 95,
   "metadata": {},
   "outputs": [
    {
     "data": {
      "text/plain": [
       "{'Be': 3.028753207265253,\n",
       " 'Total': 36.85019849608561,\n",
       " 'b8': 32.00037149177886,\n",
       " 'f17': 0.014540688379330318,\n",
       " 'hep': 0.19920901247156164,\n",
       " 'n13': 0.17030037295824904,\n",
       " 'name': 'test1',\n",
       " 'o15': 0.573539491249559,\n",
       " 'pep': 0.8634842319827951,\n",
       " 'pp': 0.0}"
      ]
     },
     "execution_count": 95,
     "metadata": {},
     "output_type": "execute_result"
    }
   ],
   "source": [
    "rate_calc(sigma_y_bgt_no_border_full, \\\n",
    "          BS05OP_flux, Energy_all_fluxes, step_all_fluxes,)"
   ]
  },
  {
   "cell_type": "code",
   "execution_count": null,
   "metadata": {},
   "outputs": [],
   "source": []
  },
  {
   "cell_type": "markdown",
   "metadata": {},
   "source": [
    "### y_total"
   ]
  },
  {
   "cell_type": "code",
   "execution_count": 96,
   "metadata": {},
   "outputs": [],
   "source": [
    "sigma_y_tot_no_border_temp = [cross_sec(0,p, sigma_k_GTR, decomp['Ex, MeV'].values, \n",
    "                                      decomp['best_fit'].values, 200) for p in p_list]\n",
    "sigma_y_tot_no_border_full = np.interp(Energy_all_fluxes, xp=p_list+Q_EC_127Xe, \n",
    "                                     fp=sigma_y_tot_no_border_temp)\n",
    "\n",
    "sigma_y_tot_border_temp = [cross_sec(0,p, sigma_k_GTR, decomp['Ex, MeV'].values, \n",
    "                                   y_total_border, 200) for p in p_list]\n",
    "sigma_y_tot_border_full = np.interp(Energy_all_fluxes, xp=p_list+Q_EC_127Xe, \n",
    "                                  fp=sigma_y_tot_border_temp)"
   ]
  },
  {
   "cell_type": "code",
   "execution_count": 97,
   "metadata": {},
   "outputs": [
    {
     "data": {
      "text/plain": [
       "{'Be': 0.049343010270475815,\n",
       " 'Total': 27.631640033387253,\n",
       " 'b8': 27.245694372056526,\n",
       " 'f17': 0.0019347048485756832,\n",
       " 'hep': 0.11545294980452966,\n",
       " 'n13': 0.006780134263135427,\n",
       " 'name': 'test1',\n",
       " 'o15': 0.07561943300795258,\n",
       " 'pep': 0.13681542913605554,\n",
       " 'pp': 0.0}"
      ]
     },
     "execution_count": 97,
     "metadata": {},
     "output_type": "execute_result"
    }
   ],
   "source": [
    "### BS05OP\n",
    "rate_calc(sigma_y_tot_border_full, \\\n",
    "          BS05OP_flux, Energy_all_fluxes, step_all_fluxes,)"
   ]
  },
  {
   "cell_type": "code",
   "execution_count": 98,
   "metadata": {},
   "outputs": [
    {
     "data": {
      "text/plain": [
       "{'Be': 0.049343010270475815,\n",
       " 'Total': 33.06199970948043,\n",
       " 'b8': 32.58928755896896,\n",
       " 'f17': 0.0019347048485756832,\n",
       " 'hep': 0.20221943898527522,\n",
       " 'n13': 0.006780134263135427,\n",
       " 'name': 'test1',\n",
       " 'o15': 0.07561943300795258,\n",
       " 'pep': 0.13681542913605554,\n",
       " 'pp': 0.0}"
      ]
     },
     "execution_count": 98,
     "metadata": {},
     "output_type": "execute_result"
    }
   ],
   "source": [
    "rate_calc(sigma_y_tot_no_border_full, \\\n",
    "          BS05OP_flux, Energy_all_fluxes, step_all_fluxes,)"
   ]
  },
  {
   "cell_type": "code",
   "execution_count": null,
   "metadata": {},
   "outputs": [],
   "source": []
  },
  {
   "cell_type": "markdown",
   "metadata": {},
   "source": [
    "### gtr"
   ]
  },
  {
   "cell_type": "code",
   "execution_count": 99,
   "metadata": {},
   "outputs": [],
   "source": [
    "sigma_gtr_no_border_temp = [cross_sec(0,p, sigma_k_GTR, decomp['Ex, MeV'].values, \n",
    "                                      decomp['gtr'].values, 200) for p in p_list]\n",
    "sigma_gtr_no_border_full = np.interp(Energy_all_fluxes, xp=p_list+Q_EC_127Xe, \n",
    "                                     fp=sigma_gtr_no_border_temp)\n",
    "\n",
    "sigma_gtr_border_temp = [cross_sec(0,p, sigma_k_GTR, decomp['Ex, MeV'].values, \n",
    "                                   y_gtr_border, 200) for p in p_list]\n",
    "sigma_gtr_border_full = np.interp(Energy_all_fluxes, xp=p_list+Q_EC_127Xe, \n",
    "                                  fp=sigma_gtr_border_temp)"
   ]
  },
  {
   "cell_type": "code",
   "execution_count": 100,
   "metadata": {},
   "outputs": [
    {
     "data": {
      "text/plain": [
       "{'Be': 0.03071350936310167,\n",
       " 'Total': 7.871145346608545,\n",
       " 'b8': 7.681367014374966,\n",
       " 'f17': 0.0011356979056920682,\n",
       " 'hep': 0.02874950158294634,\n",
       " 'n13': 0.004192076154933009,\n",
       " 'name': 'test1',\n",
       " 'o15': 0.04442248812010721,\n",
       " 'pep': 0.08056505910679923,\n",
       " 'pp': 0.0}"
      ]
     },
     "execution_count": 100,
     "metadata": {},
     "output_type": "execute_result"
    }
   ],
   "source": [
    "### BS05OP\n",
    "rate_calc((sigma_y_tot_border_full-sigma_gtr_border_full), \\\n",
    "          BS05OP_flux, Energy_all_fluxes, step_all_fluxes,)"
   ]
  },
  {
   "cell_type": "code",
   "execution_count": 101,
   "metadata": {},
   "outputs": [
    {
     "data": {
      "text/plain": [
       "{'Be': 0.03071350936310167,\n",
       " 'Total': 9.381482075403774,\n",
       " 'b8': 9.174630348717708,\n",
       " 'f17': 0.0011356979056920682,\n",
       " 'hep': 0.04582289603543354,\n",
       " 'n13': 0.004192076154933009,\n",
       " 'name': 'test1',\n",
       " 'o15': 0.04442248812010721,\n",
       " 'pep': 0.08056505910679923,\n",
       " 'pp': 0.0}"
      ]
     },
     "execution_count": 101,
     "metadata": {},
     "output_type": "execute_result"
    }
   ],
   "source": [
    "rate_calc((sigma_y_tot_no_border_full-sigma_gtr_no_border_full), \\\n",
    "          BS05OP_flux, Energy_all_fluxes, step_all_fluxes,)"
   ]
  },
  {
   "cell_type": "markdown",
   "metadata": {},
   "source": [
    "### pr1"
   ]
  },
  {
   "cell_type": "code",
   "execution_count": 102,
   "metadata": {},
   "outputs": [],
   "source": [
    "sigma_pr1_no_border_temp = [cross_sec(0,p, sigma_k_GTR, decomp['Ex, MeV'].values, \n",
    "                                      decomp['pr1'].values, 200) for p in p_list]\n",
    "sigma_pr1_no_border_full = np.interp(Energy_all_fluxes, xp=p_list+Q_EC_127Xe, \n",
    "                                     fp=sigma_pr1_no_border_temp)\n",
    "\n",
    "sigma_pr1_border_temp = [cross_sec(0,p, sigma_k_GTR, decomp['Ex, MeV'].values, \n",
    "                                   y_pr1_border, 200) for p in p_list]\n",
    "sigma_pr1_border_full = np.interp(Energy_all_fluxes, xp=p_list+Q_EC_127Xe, \n",
    "                                  fp=sigma_pr1_border_temp)"
   ]
  },
  {
   "cell_type": "code",
   "execution_count": 103,
   "metadata": {},
   "outputs": [
    {
     "data": {
      "text/plain": [
       "{'Be': 0.020890776953677026,\n",
       " 'Total': 5.495264334731887,\n",
       " 'b8': 5.368032350692211,\n",
       " 'f17': 0.0007688783040341784,\n",
       " 'hep': 0.01808277041925757,\n",
       " 'n13': 0.0028594294062403215,\n",
       " 'name': 'test1',\n",
       " 'o15': 0.030077692012741315,\n",
       " 'pep': 0.054552436943725836,\n",
       " 'pp': 0.0}"
      ]
     },
     "execution_count": 103,
     "metadata": {},
     "output_type": "execute_result"
    }
   ],
   "source": [
    "### BS05OP\n",
    "rate_calc((sigma_y_tot_border_full-sigma_gtr_border_full-sigma_pr1_border_full), \\\n",
    "          BS05OP_flux, Energy_all_fluxes, step_all_fluxes,)"
   ]
  },
  {
   "cell_type": "code",
   "execution_count": 104,
   "metadata": {},
   "outputs": [
    {
     "data": {
      "text/plain": [
       "{'Be': 0.020890776953677026,\n",
       " 'Total': 5.502744432259089,\n",
       " 'b8': 5.37542741348504,\n",
       " 'f17': 0.0007688783040341784,\n",
       " 'hep': 0.01816780515363028,\n",
       " 'n13': 0.0028594294062403215,\n",
       " 'name': 'test1',\n",
       " 'o15': 0.030077692012741315,\n",
       " 'pep': 0.054552436943725836,\n",
       " 'pp': 0.0}"
      ]
     },
     "execution_count": 104,
     "metadata": {},
     "output_type": "execute_result"
    }
   ],
   "source": [
    "rate_calc((sigma_y_tot_no_border_full-sigma_gtr_no_border_full-sigma_pr1_no_border_full), \\\n",
    "          BS05OP_flux, Energy_all_fluxes, step_all_fluxes,)"
   ]
  },
  {
   "cell_type": "markdown",
   "metadata": {},
   "source": [
    "### pr2"
   ]
  },
  {
   "cell_type": "code",
   "execution_count": 105,
   "metadata": {},
   "outputs": [],
   "source": [
    "sigma_pr2_no_border_temp = [cross_sec(0,p, sigma_k_GTR, decomp['Ex, MeV'].values, \n",
    "                                      decomp['pr2'].values, 200) for p in p_list]\n",
    "sigma_pr2_no_border_full = np.interp(Energy_all_fluxes, xp=p_list+Q_EC_127Xe, \n",
    "                                     fp=sigma_pr2_no_border_temp)\n",
    "\n",
    "sigma_pr2_border_temp = [cross_sec(0,p, sigma_k_GTR, decomp['Ex, MeV'].values, \n",
    "                                   y_pr2_border, 200) for p in p_list]\n",
    "sigma_pr2_border_full = np.interp(Energy_all_fluxes, xp=p_list+Q_EC_127Xe, \n",
    "                                  fp=sigma_pr2_border_temp)"
   ]
  },
  {
   "cell_type": "code",
   "execution_count": 106,
   "metadata": {},
   "outputs": [
    {
     "data": {
      "text/plain": [
       "{'Be': -1.1767605119505919e-17,\n",
       " 'Total': -9.32559633417526e-17,\n",
       " 'b8': -6.837426245418373e-17,\n",
       " 'f17': -8.017027414109984e-20,\n",
       " 'hep': 1.6649239799065823e-19,\n",
       " 'n13': -1.2798017381926387e-19,\n",
       " 'name': 'test1',\n",
       " 'o15': -3.219208374544984e-18,\n",
       " 'pep': -9.853229343548264e-18,\n",
       " 'pp': 0.0}"
      ]
     },
     "execution_count": 106,
     "metadata": {},
     "output_type": "execute_result"
    }
   ],
   "source": [
    "rate_calc((sigma_y_tot_border_full-sigma_gtr_border_full-sigma_pr1_border_full-sigma_pr2_border_full), \\\n",
    "          BS05OP_flux, Energy_all_fluxes, step_all_fluxes,)"
   ]
  },
  {
   "cell_type": "code",
   "execution_count": 107,
   "metadata": {},
   "outputs": [
    {
     "data": {
      "text/plain": [
       "dict_keys(['f17', 'pp', 'b8', 'pep', 'o15', 'Be', 'hep', 'n13', 'Total', 'name'])"
      ]
     },
     "execution_count": 107,
     "metadata": {},
     "output_type": "execute_result"
    }
   ],
   "source": [
    "rate_calc((sigma_y_tot_border_full-sigma_gtr_border_full-sigma_pr1_border_full-sigma_pr2_border_full), \\\n",
    "          BS05OP_flux, Energy_all_fluxes, step_all_fluxes,).keys()"
   ]
  },
  {
   "cell_type": "code",
   "execution_count": 108,
   "metadata": {},
   "outputs": [],
   "source": [
    "output_table = pd.DataFrame(data=[], columns=['name','Be', 'f17', 'b8', 'n13', 'pep', 'o15', 'hep', \n",
    "                                              'pp',  'Total'])"
   ]
  },
  {
   "cell_type": "code",
   "execution_count": 109,
   "metadata": {},
   "outputs": [],
   "source": [
    "no1 = rate_calc(sigma_y_bgt_no_border_full, BS05OP_flux, Energy_all_fluxes, \n",
    "                step_all_fluxes, name='R-total (график bgt)')\n",
    "\n",
    "no2 = rate_calc(sigma_y_tot_no_border_full, BS05OP_flux, Energy_all_fluxes, \n",
    "                step_all_fluxes, name='R-total (best_fit)')\n",
    "no3 = rate_calc(sigma_matr_no_border_full, BS05OP_flux, Energy_all_fluxes, step_all_fluxes,\n",
    "               name='R-total (theory)')\n",
    "\n",
    "no4 = rate_calc((sigma_y_tot_no_border_full-sigma_gtr_no_border_full), BS05OP_flux, \n",
    "                Energy_all_fluxes, step_all_fluxes,name='R-total (best_fit) - GTR')\n",
    "no5 = rate_calc(sigma_matr_noGTR_no_border_full, BS05OP_flux, Energy_all_fluxes, \n",
    "                step_all_fluxes, name='R-total (theory) - GTR')\n",
    "\n",
    "no6 = rate_calc((sigma_y_tot_no_border_full-sigma_gtr_no_border_full-sigma_pr1_no_border_full), \\\n",
    "          BS05OP_flux, Energy_all_fluxes, step_all_fluxes, name='R-total (best_fit) - GTR - PR1')\n",
    "no7 = rate_calc(sigma_matr_noGTR_noPR1_no_border_full, BS05OP_flux, Energy_all_fluxes, \n",
    "                step_all_fluxes, name='R-total (theory) - GTR - PR1')"
   ]
  },
  {
   "cell_type": "code",
   "execution_count": 110,
   "metadata": {},
   "outputs": [
    {
     "data": {
      "text/html": [
       "<div>\n",
       "<style>\n",
       "    .dataframe thead tr:only-child th {\n",
       "        text-align: right;\n",
       "    }\n",
       "\n",
       "    .dataframe thead th {\n",
       "        text-align: left;\n",
       "    }\n",
       "\n",
       "    .dataframe tbody tr th {\n",
       "        vertical-align: top;\n",
       "    }\n",
       "</style>\n",
       "<table border=\"1\" class=\"dataframe\">\n",
       "  <thead>\n",
       "    <tr style=\"text-align: right;\">\n",
       "      <th></th>\n",
       "      <th>name</th>\n",
       "      <th>Be</th>\n",
       "      <th>f17</th>\n",
       "      <th>b8</th>\n",
       "      <th>n13</th>\n",
       "      <th>pep</th>\n",
       "      <th>o15</th>\n",
       "      <th>hep</th>\n",
       "      <th>pp</th>\n",
       "      <th>Total</th>\n",
       "    </tr>\n",
       "  </thead>\n",
       "  <tbody>\n",
       "    <tr>\n",
       "      <th>0</th>\n",
       "      <td>R-total (график bgt)</td>\n",
       "      <td>3.029</td>\n",
       "      <td>0.015</td>\n",
       "      <td>32.000</td>\n",
       "      <td>0.170</td>\n",
       "      <td>0.863</td>\n",
       "      <td>0.574</td>\n",
       "      <td>0.199</td>\n",
       "      <td>0.0</td>\n",
       "      <td>36.850</td>\n",
       "    </tr>\n",
       "    <tr>\n",
       "      <th>1</th>\n",
       "      <td>R-total (best_fit)</td>\n",
       "      <td>0.049</td>\n",
       "      <td>0.002</td>\n",
       "      <td>32.589</td>\n",
       "      <td>0.007</td>\n",
       "      <td>0.137</td>\n",
       "      <td>0.076</td>\n",
       "      <td>0.202</td>\n",
       "      <td>0.0</td>\n",
       "      <td>33.062</td>\n",
       "    </tr>\n",
       "    <tr>\n",
       "      <th>2</th>\n",
       "      <td>R-total (theory)</td>\n",
       "      <td>0.276</td>\n",
       "      <td>0.002</td>\n",
       "      <td>17.545</td>\n",
       "      <td>0.021</td>\n",
       "      <td>0.158</td>\n",
       "      <td>0.097</td>\n",
       "      <td>0.109</td>\n",
       "      <td>0.0</td>\n",
       "      <td>18.208</td>\n",
       "    </tr>\n",
       "    <tr>\n",
       "      <th>3</th>\n",
       "      <td>R-total (best_fit) - GTR</td>\n",
       "      <td>0.031</td>\n",
       "      <td>0.001</td>\n",
       "      <td>9.175</td>\n",
       "      <td>0.004</td>\n",
       "      <td>0.081</td>\n",
       "      <td>0.044</td>\n",
       "      <td>0.046</td>\n",
       "      <td>0.0</td>\n",
       "      <td>9.381</td>\n",
       "    </tr>\n",
       "    <tr>\n",
       "      <th>4</th>\n",
       "      <td>R-total (theory) - GTR</td>\n",
       "      <td>0.267</td>\n",
       "      <td>0.002</td>\n",
       "      <td>5.831</td>\n",
       "      <td>0.019</td>\n",
       "      <td>0.131</td>\n",
       "      <td>0.082</td>\n",
       "      <td>0.030</td>\n",
       "      <td>0.0</td>\n",
       "      <td>6.364</td>\n",
       "    </tr>\n",
       "    <tr>\n",
       "      <th>5</th>\n",
       "      <td>R-total (best_fit) - GTR - PR1</td>\n",
       "      <td>0.021</td>\n",
       "      <td>0.001</td>\n",
       "      <td>5.375</td>\n",
       "      <td>0.003</td>\n",
       "      <td>0.055</td>\n",
       "      <td>0.030</td>\n",
       "      <td>0.018</td>\n",
       "      <td>0.0</td>\n",
       "      <td>5.503</td>\n",
       "    </tr>\n",
       "    <tr>\n",
       "      <th>6</th>\n",
       "      <td>R-total (theory) - GTR - PR1</td>\n",
       "      <td>0.264</td>\n",
       "      <td>0.002</td>\n",
       "      <td>3.718</td>\n",
       "      <td>0.019</td>\n",
       "      <td>0.122</td>\n",
       "      <td>0.077</td>\n",
       "      <td>0.016</td>\n",
       "      <td>0.0</td>\n",
       "      <td>4.218</td>\n",
       "    </tr>\n",
       "  </tbody>\n",
       "</table>\n",
       "</div>"
      ],
      "text/plain": [
       "                             name     Be    f17      b8    n13    pep    o15  \\\n",
       "0            R-total (график bgt)  3.029  0.015  32.000  0.170  0.863  0.574   \n",
       "1              R-total (best_fit)  0.049  0.002  32.589  0.007  0.137  0.076   \n",
       "2                R-total (theory)  0.276  0.002  17.545  0.021  0.158  0.097   \n",
       "3        R-total (best_fit) - GTR  0.031  0.001   9.175  0.004  0.081  0.044   \n",
       "4          R-total (theory) - GTR  0.267  0.002   5.831  0.019  0.131  0.082   \n",
       "5  R-total (best_fit) - GTR - PR1  0.021  0.001   5.375  0.003  0.055  0.030   \n",
       "6    R-total (theory) - GTR - PR1  0.264  0.002   3.718  0.019  0.122  0.077   \n",
       "\n",
       "     hep   pp   Total  \n",
       "0  0.199  0.0  36.850  \n",
       "1  0.202  0.0  33.062  \n",
       "2  0.109  0.0  18.208  \n",
       "3  0.046  0.0   9.381  \n",
       "4  0.030  0.0   6.364  \n",
       "5  0.018  0.0   5.503  \n",
       "6  0.016  0.0   4.218  "
      ]
     },
     "execution_count": 110,
     "metadata": {},
     "output_type": "execute_result"
    }
   ],
   "source": [
    "output_table = pd.DataFrame(data=[], columns=['name','Be', 'f17', 'b8', 'n13', 'pep', 'o15', 'hep', \n",
    "                                              'pp',  'Total'])\n",
    "\n",
    "for elem in [no1, no2, no3, no4, no5, no6, no7] : \n",
    "    output_table = output_table.append(elem, ignore_index=True)\n",
    "    \n",
    "for elem in ['Be', 'f17', 'b8', 'n13', 'pep', 'o15', 'hep', 'pp',  'Total']:\n",
    "    output_table[elem] = output_table[elem].round(3)\n",
    "output_table"
   ]
  },
  {
   "cell_type": "code",
   "execution_count": 111,
   "metadata": {},
   "outputs": [],
   "source": [
    "#output_table.to_excel('no_border_comparison.xls')"
   ]
  },
  {
   "cell_type": "code",
   "execution_count": null,
   "metadata": {},
   "outputs": [],
   "source": []
  },
  {
   "cell_type": "code",
   "execution_count": 112,
   "metadata": {},
   "outputs": [],
   "source": [
    "no11 = rate_calc(sigma_y_bgt_border_full, BS05OP_flux, Energy_all_fluxes, \n",
    "                step_all_fluxes, name='R-total (график bgt)')\n",
    "\n",
    "no22 = rate_calc(sigma_y_tot_border_full, BS05OP_flux, Energy_all_fluxes, \n",
    "                step_all_fluxes, name='R-total (best_fit)')\n",
    "no33 = rate_calc(sigma_matr_border_full, BS05OP_flux, Energy_all_fluxes, step_all_fluxes,\n",
    "               name='R-total (theory)')\n",
    "\n",
    "no44 = rate_calc((sigma_y_tot_border_full-sigma_gtr_border_full), BS05OP_flux, \n",
    "                Energy_all_fluxes, step_all_fluxes,name='R-total (best_fit) - GTR')\n",
    "no55 = rate_calc(sigma_matr_noGTR_border_full, BS05OP_flux, Energy_all_fluxes, \n",
    "                step_all_fluxes, name='R-total (theory) - GTR')\n",
    "\n",
    "no66 = rate_calc((sigma_y_tot_border_full-sigma_gtr_border_full-sigma_pr1_border_full), \\\n",
    "          BS05OP_flux, Energy_all_fluxes, step_all_fluxes, name='R-total (best_fit) - GTR - PR1')\n",
    "no77 = rate_calc(sigma_matr_noGTR_noPR1_border_full, BS05OP_flux, Energy_all_fluxes, \n",
    "                step_all_fluxes, name='R-total (theory) - GTR - PR1')"
   ]
  },
  {
   "cell_type": "code",
   "execution_count": 113,
   "metadata": {},
   "outputs": [
    {
     "data": {
      "text/html": [
       "<div>\n",
       "<style>\n",
       "    .dataframe thead tr:only-child th {\n",
       "        text-align: right;\n",
       "    }\n",
       "\n",
       "    .dataframe thead th {\n",
       "        text-align: left;\n",
       "    }\n",
       "\n",
       "    .dataframe tbody tr th {\n",
       "        vertical-align: top;\n",
       "    }\n",
       "</style>\n",
       "<table border=\"1\" class=\"dataframe\">\n",
       "  <thead>\n",
       "    <tr style=\"text-align: right;\">\n",
       "      <th></th>\n",
       "      <th>name</th>\n",
       "      <th>Be</th>\n",
       "      <th>f17</th>\n",
       "      <th>b8</th>\n",
       "      <th>n13</th>\n",
       "      <th>pep</th>\n",
       "      <th>o15</th>\n",
       "      <th>hep</th>\n",
       "      <th>pp</th>\n",
       "      <th>Total</th>\n",
       "    </tr>\n",
       "  </thead>\n",
       "  <tbody>\n",
       "    <tr>\n",
       "      <th>0</th>\n",
       "      <td>R-total (график bgt)</td>\n",
       "      <td>3.029</td>\n",
       "      <td>0.015</td>\n",
       "      <td>26.592</td>\n",
       "      <td>0.170</td>\n",
       "      <td>0.863</td>\n",
       "      <td>0.574</td>\n",
       "      <td>0.112</td>\n",
       "      <td>0.0</td>\n",
       "      <td>31.355</td>\n",
       "    </tr>\n",
       "    <tr>\n",
       "      <th>1</th>\n",
       "      <td>R-total (best_fit)</td>\n",
       "      <td>0.049</td>\n",
       "      <td>0.002</td>\n",
       "      <td>27.246</td>\n",
       "      <td>0.007</td>\n",
       "      <td>0.137</td>\n",
       "      <td>0.076</td>\n",
       "      <td>0.115</td>\n",
       "      <td>0.0</td>\n",
       "      <td>27.632</td>\n",
       "    </tr>\n",
       "    <tr>\n",
       "      <th>2</th>\n",
       "      <td>R-total (theory)</td>\n",
       "      <td>0.276</td>\n",
       "      <td>0.002</td>\n",
       "      <td>14.823</td>\n",
       "      <td>0.021</td>\n",
       "      <td>0.158</td>\n",
       "      <td>0.097</td>\n",
       "      <td>0.064</td>\n",
       "      <td>0.0</td>\n",
       "      <td>15.441</td>\n",
       "    </tr>\n",
       "    <tr>\n",
       "      <th>3</th>\n",
       "      <td>R-total (best_fit) - GTR</td>\n",
       "      <td>0.031</td>\n",
       "      <td>0.001</td>\n",
       "      <td>7.681</td>\n",
       "      <td>0.004</td>\n",
       "      <td>0.081</td>\n",
       "      <td>0.044</td>\n",
       "      <td>0.029</td>\n",
       "      <td>0.0</td>\n",
       "      <td>7.871</td>\n",
       "    </tr>\n",
       "    <tr>\n",
       "      <th>4</th>\n",
       "      <td>R-total (theory) - GTR</td>\n",
       "      <td>0.267</td>\n",
       "      <td>0.002</td>\n",
       "      <td>5.075</td>\n",
       "      <td>0.019</td>\n",
       "      <td>0.131</td>\n",
       "      <td>0.082</td>\n",
       "      <td>0.021</td>\n",
       "      <td>0.0</td>\n",
       "      <td>5.598</td>\n",
       "    </tr>\n",
       "    <tr>\n",
       "      <th>5</th>\n",
       "      <td>R-total (best_fit) - GTR - PR1</td>\n",
       "      <td>0.021</td>\n",
       "      <td>0.001</td>\n",
       "      <td>5.368</td>\n",
       "      <td>0.003</td>\n",
       "      <td>0.055</td>\n",
       "      <td>0.030</td>\n",
       "      <td>0.018</td>\n",
       "      <td>0.0</td>\n",
       "      <td>5.495</td>\n",
       "    </tr>\n",
       "    <tr>\n",
       "      <th>6</th>\n",
       "      <td>R-total (theory) - GTR - PR1</td>\n",
       "      <td>0.264</td>\n",
       "      <td>0.002</td>\n",
       "      <td>3.555</td>\n",
       "      <td>0.019</td>\n",
       "      <td>0.122</td>\n",
       "      <td>0.077</td>\n",
       "      <td>0.014</td>\n",
       "      <td>0.0</td>\n",
       "      <td>4.052</td>\n",
       "    </tr>\n",
       "  </tbody>\n",
       "</table>\n",
       "</div>"
      ],
      "text/plain": [
       "                             name     Be    f17      b8    n13    pep    o15  \\\n",
       "0            R-total (график bgt)  3.029  0.015  26.592  0.170  0.863  0.574   \n",
       "1              R-total (best_fit)  0.049  0.002  27.246  0.007  0.137  0.076   \n",
       "2                R-total (theory)  0.276  0.002  14.823  0.021  0.158  0.097   \n",
       "3        R-total (best_fit) - GTR  0.031  0.001   7.681  0.004  0.081  0.044   \n",
       "4          R-total (theory) - GTR  0.267  0.002   5.075  0.019  0.131  0.082   \n",
       "5  R-total (best_fit) - GTR - PR1  0.021  0.001   5.368  0.003  0.055  0.030   \n",
       "6    R-total (theory) - GTR - PR1  0.264  0.002   3.555  0.019  0.122  0.077   \n",
       "\n",
       "     hep   pp   Total  \n",
       "0  0.112  0.0  31.355  \n",
       "1  0.115  0.0  27.632  \n",
       "2  0.064  0.0  15.441  \n",
       "3  0.029  0.0   7.871  \n",
       "4  0.021  0.0   5.598  \n",
       "5  0.018  0.0   5.495  \n",
       "6  0.014  0.0   4.052  "
      ]
     },
     "execution_count": 113,
     "metadata": {},
     "output_type": "execute_result"
    }
   ],
   "source": [
    "output_table0 = pd.DataFrame(data=[], columns=['name','Be', 'f17', 'b8', 'n13', 'pep', 'o15', 'hep', \n",
    "                                              'pp',  'Total'])\n",
    "\n",
    "for elem in [no11, no22, no33, no44, no55, no66, no77] : \n",
    "    output_table0 = output_table0.append(elem, ignore_index=True)\n",
    "    \n",
    "for elem in ['Be', 'f17', 'b8', 'n13', 'pep', 'o15', 'hep', 'pp',  'Total']:\n",
    "    output_table0[elem] = output_table0[elem].round(3)\n",
    "output_table0"
   ]
  },
  {
   "cell_type": "code",
   "execution_count": 114,
   "metadata": {},
   "outputs": [],
   "source": [
    "#output_table0.to_excel('border_comparison.xls')"
   ]
  },
  {
   "cell_type": "code",
   "execution_count": null,
   "metadata": {
    "collapsed": true
   },
   "outputs": [],
   "source": []
  },
  {
   "cell_type": "code",
   "execution_count": null,
   "metadata": {
    "collapsed": true
   },
   "outputs": [],
   "source": []
  },
  {
   "cell_type": "markdown",
   "metadata": {},
   "source": [
    "## check models with different $\\alpha$ and $\\beta$"
   ]
  },
  {
   "cell_type": "code",
   "execution_count": 128,
   "metadata": {},
   "outputs": [
    {
     "data": {
      "text/html": [
       "<div>\n",
       "<style>\n",
       "    .dataframe thead tr:only-child th {\n",
       "        text-align: right;\n",
       "    }\n",
       "\n",
       "    .dataframe thead th {\n",
       "        text-align: left;\n",
       "    }\n",
       "\n",
       "    .dataframe tbody tr th {\n",
       "        vertical-align: top;\n",
       "    }\n",
       "</style>\n",
       "<table border=\"1\" class=\"dataframe\">\n",
       "  <thead>\n",
       "    <tr style=\"text-align: right;\">\n",
       "      <th></th>\n",
       "      <th>Ex, MeV</th>\n",
       "      <th>GTR (alpha E^2)</th>\n",
       "      <th>PR1 (alpha E^2)</th>\n",
       "      <th>PR2 (alpha E^2)</th>\n",
       "      <th>alpha E^2</th>\n",
       "      <th>alpha E^2+beta E^3</th>\n",
       "      <th>alpha E^2-beta E^3</th>\n",
       "      <th>bgt</th>\n",
       "    </tr>\n",
       "  </thead>\n",
       "  <tbody>\n",
       "    <tr>\n",
       "      <th>0</th>\n",
       "      <td>0.00</td>\n",
       "      <td>0.00000</td>\n",
       "      <td>0.00000</td>\n",
       "      <td>0.00000</td>\n",
       "      <td>0.00000</td>\n",
       "      <td>0.00000</td>\n",
       "      <td>0.00000</td>\n",
       "      <td>0.014032</td>\n",
       "    </tr>\n",
       "    <tr>\n",
       "      <th>1</th>\n",
       "      <td>0.05</td>\n",
       "      <td>0.00007</td>\n",
       "      <td>0.00003</td>\n",
       "      <td>0.00016</td>\n",
       "      <td>0.00026</td>\n",
       "      <td>0.00028</td>\n",
       "      <td>0.00026</td>\n",
       "      <td>0.041647</td>\n",
       "    </tr>\n",
       "    <tr>\n",
       "      <th>2</th>\n",
       "      <td>0.10</td>\n",
       "      <td>0.00027</td>\n",
       "      <td>0.00013</td>\n",
       "      <td>0.00056</td>\n",
       "      <td>0.00096</td>\n",
       "      <td>0.00102</td>\n",
       "      <td>0.00097</td>\n",
       "      <td>0.041647</td>\n",
       "    </tr>\n",
       "    <tr>\n",
       "      <th>3</th>\n",
       "      <td>0.15</td>\n",
       "      <td>0.00060</td>\n",
       "      <td>0.00030</td>\n",
       "      <td>0.00105</td>\n",
       "      <td>0.00195</td>\n",
       "      <td>0.00198</td>\n",
       "      <td>0.00200</td>\n",
       "      <td>0.089973</td>\n",
       "    </tr>\n",
       "    <tr>\n",
       "      <th>4</th>\n",
       "      <td>0.20</td>\n",
       "      <td>0.00108</td>\n",
       "      <td>0.00053</td>\n",
       "      <td>0.00148</td>\n",
       "      <td>0.00309</td>\n",
       "      <td>0.00300</td>\n",
       "      <td>0.00319</td>\n",
       "      <td>0.089973</td>\n",
       "    </tr>\n",
       "  </tbody>\n",
       "</table>\n",
       "</div>"
      ],
      "text/plain": [
       "   Ex, MeV  GTR (alpha E^2)  PR1 (alpha E^2)  PR2 (alpha E^2)  alpha E^2  \\\n",
       "0     0.00          0.00000          0.00000          0.00000    0.00000   \n",
       "1     0.05          0.00007          0.00003          0.00016    0.00026   \n",
       "2     0.10          0.00027          0.00013          0.00056    0.00096   \n",
       "3     0.15          0.00060          0.00030          0.00105    0.00195   \n",
       "4     0.20          0.00108          0.00053          0.00148    0.00309   \n",
       "\n",
       "   alpha E^2+beta E^3  alpha E^2-beta E^3       bgt  \n",
       "0             0.00000             0.00000  0.014032  \n",
       "1             0.00028             0.00026  0.041647  \n",
       "2             0.00102             0.00097  0.041647  \n",
       "3             0.00198             0.00200  0.089973  \n",
       "4             0.00300             0.00319  0.089973  "
      ]
     },
     "execution_count": 128,
     "metadata": {},
     "output_type": "execute_result"
    }
   ],
   "source": [
    "decomp2 = pd.read_excel('127Xe_decomp_find_coeff.xls')\n",
    "decomp2.head()"
   ]
  },
  {
   "cell_type": "code",
   "execution_count": 116,
   "metadata": {},
   "outputs": [
    {
     "data": {
      "text/plain": [
       "(55.58062392490359, 55.610859999999995, 55.47721875, 55.54809675)"
      ]
     },
     "execution_count": 116,
     "metadata": {},
     "output_type": "execute_result"
    }
   ],
   "source": [
    "trapz(decomp2['bgt'].values, decomp2['Ex, MeV'].values),\\\n",
    "trapz(decomp2['alpha E^2'].values, decomp2['Ex, MeV'].values),\\\n",
    "trapz(decomp2['alpha E^2+beta E^3'].values, decomp2['Ex, MeV'].values), \\\n",
    "trapz(decomp2['alpha E^2-beta E^3'].values, decomp2['Ex, MeV'].values), \\"
   ]
  },
  {
   "cell_type": "code",
   "execution_count": 119,
   "metadata": {},
   "outputs": [],
   "source": [
    "y_bgt_border = border_func(decomp2['Ex, MeV'].values, decomp2['bgt'].values, S_n)\n",
    "y_alph_border = border_func(decomp2['Ex, MeV'].values, decomp2['alpha E^2'].values, S_n)\n",
    "y_alph_plus_b_border = border_func(decomp2['Ex, MeV'].values, decomp2['alpha E^2+beta E^3'].values, S_n)\n",
    "y_alph_min_b_border = border_func(decomp2['Ex, MeV'].values, decomp2['alpha E^2-beta E^3'].values, S_n)"
   ]
  },
  {
   "cell_type": "code",
   "execution_count": 129,
   "metadata": {},
   "outputs": [],
   "source": [
    "y_GTR_border = border_func(decomp2['Ex, MeV'].values, decomp2['GTR (alpha E^2)'].values, S_n)\n",
    "y_PR1_border = border_func(decomp2['Ex, MeV'].values, decomp2['PR1 (alpha E^2)'].values, S_n)\n",
    "y_PR2_border = border_func(decomp2['Ex, MeV'].values, decomp2['PR2 (alpha E^2)'].values, S_n)"
   ]
  },
  {
   "cell_type": "code",
   "execution_count": 121,
   "metadata": {},
   "outputs": [],
   "source": [
    "sigma_bgt_border_temp = [cross_sec(0,p, sigma_k_GTR, decomp2['Ex, MeV'].values, \n",
    "                                   y_bgt_border, 200) for p in p_list]\n",
    "sigma_bgt_border_full = np.interp(Energy_all_fluxes, xp=p_list+Q_EC_127Xe, \n",
    "                                  fp=sigma_bgt_border_temp)\n",
    "\n",
    "sigma_alph_border_temp = [cross_sec(0,p, sigma_k_GTR, decomp2['Ex, MeV'].values, \n",
    "                                   y_alph_border, 200) for p in p_list]\n",
    "sigma_alph_border_full = np.interp(Energy_all_fluxes, xp=p_list+Q_EC_127Xe, \n",
    "                                  fp=sigma_alph_border_temp)"
   ]
  },
  {
   "cell_type": "code",
   "execution_count": 122,
   "metadata": {},
   "outputs": [],
   "source": [
    "sigma_alph_plus_b_border_temp = [cross_sec(0,p, sigma_k_GTR, decomp2['Ex, MeV'].values, \n",
    "                                   y_alph_plus_b_border, 200) for p in p_list]\n",
    "sigma_alph_plus_b_border_full = np.interp(Energy_all_fluxes, xp=p_list+Q_EC_127Xe, \n",
    "                                  fp=sigma_alph_plus_b_border_temp)\n",
    "\n",
    "sigma_alph_min_b_border_temp = [cross_sec(0,p, sigma_k_GTR, decomp2['Ex, MeV'].values, \n",
    "                                   y_alph_min_b_border, 200) for p in p_list]\n",
    "sigma_alph_min_b_border_full = np.interp(Energy_all_fluxes, xp=p_list+Q_EC_127Xe, \n",
    "                                  fp=sigma_alph_min_b_border_temp)"
   ]
  },
  {
   "cell_type": "code",
   "execution_count": 125,
   "metadata": {},
   "outputs": [],
   "source": [
    "no11 = rate_calc(sigma_bgt_border_full, BS05OP_flux, Energy_all_fluxes, \n",
    "                step_all_fluxes, name='R-total (график bgt)')\n",
    "\n",
    "no22 = rate_calc(sigma_alph_border_full, BS05OP_flux, Energy_all_fluxes, \n",
    "                step_all_fluxes, name='R-total (alpha E^2)')\n",
    "no33 = rate_calc(sigma_alph_plus_b_border_full, BS05OP_flux, Energy_all_fluxes, step_all_fluxes,\n",
    "               name='R-total (alpha E^2+beta E^3)')\n",
    "no44 = rate_calc((sigma_alph_min_b_border_full), BS05OP_flux, \n",
    "                Energy_all_fluxes, step_all_fluxes,name='R-total (alpha E^2-beta E^3)')\n"
   ]
  },
  {
   "cell_type": "code",
   "execution_count": 126,
   "metadata": {},
   "outputs": [
    {
     "data": {
      "text/html": [
       "<div>\n",
       "<style>\n",
       "    .dataframe thead tr:only-child th {\n",
       "        text-align: right;\n",
       "    }\n",
       "\n",
       "    .dataframe thead th {\n",
       "        text-align: left;\n",
       "    }\n",
       "\n",
       "    .dataframe tbody tr th {\n",
       "        vertical-align: top;\n",
       "    }\n",
       "</style>\n",
       "<table border=\"1\" class=\"dataframe\">\n",
       "  <thead>\n",
       "    <tr style=\"text-align: right;\">\n",
       "      <th></th>\n",
       "      <th>name</th>\n",
       "      <th>Be</th>\n",
       "      <th>f17</th>\n",
       "      <th>b8</th>\n",
       "      <th>n13</th>\n",
       "      <th>pep</th>\n",
       "      <th>o15</th>\n",
       "      <th>hep</th>\n",
       "      <th>pp</th>\n",
       "      <th>Total</th>\n",
       "    </tr>\n",
       "  </thead>\n",
       "  <tbody>\n",
       "    <tr>\n",
       "      <th>0</th>\n",
       "      <td>R-total (график bgt)</td>\n",
       "      <td>3.029</td>\n",
       "      <td>0.015</td>\n",
       "      <td>26.592</td>\n",
       "      <td>0.170</td>\n",
       "      <td>0.863</td>\n",
       "      <td>0.574</td>\n",
       "      <td>0.112</td>\n",
       "      <td>0.0</td>\n",
       "      <td>31.355</td>\n",
       "    </tr>\n",
       "    <tr>\n",
       "      <th>1</th>\n",
       "      <td>R-total (alpha E^2)</td>\n",
       "      <td>0.060</td>\n",
       "      <td>0.002</td>\n",
       "      <td>26.841</td>\n",
       "      <td>0.006</td>\n",
       "      <td>0.106</td>\n",
       "      <td>0.060</td>\n",
       "      <td>0.116</td>\n",
       "      <td>0.0</td>\n",
       "      <td>27.190</td>\n",
       "    </tr>\n",
       "    <tr>\n",
       "      <th>2</th>\n",
       "      <td>R-total (alpha E^2+beta E^3)</td>\n",
       "      <td>0.061</td>\n",
       "      <td>0.001</td>\n",
       "      <td>26.375</td>\n",
       "      <td>0.006</td>\n",
       "      <td>0.103</td>\n",
       "      <td>0.058</td>\n",
       "      <td>0.114</td>\n",
       "      <td>0.0</td>\n",
       "      <td>26.718</td>\n",
       "    </tr>\n",
       "    <tr>\n",
       "      <th>3</th>\n",
       "      <td>R-total (alpha E^2-beta E^3)</td>\n",
       "      <td>0.061</td>\n",
       "      <td>0.002</td>\n",
       "      <td>27.218</td>\n",
       "      <td>0.007</td>\n",
       "      <td>0.109</td>\n",
       "      <td>0.061</td>\n",
       "      <td>0.117</td>\n",
       "      <td>0.0</td>\n",
       "      <td>27.575</td>\n",
       "    </tr>\n",
       "  </tbody>\n",
       "</table>\n",
       "</div>"
      ],
      "text/plain": [
       "                           name     Be    f17      b8    n13    pep    o15  \\\n",
       "0          R-total (график bgt)  3.029  0.015  26.592  0.170  0.863  0.574   \n",
       "1           R-total (alpha E^2)  0.060  0.002  26.841  0.006  0.106  0.060   \n",
       "2  R-total (alpha E^2+beta E^3)  0.061  0.001  26.375  0.006  0.103  0.058   \n",
       "3  R-total (alpha E^2-beta E^3)  0.061  0.002  27.218  0.007  0.109  0.061   \n",
       "\n",
       "     hep   pp   Total  \n",
       "0  0.112  0.0  31.355  \n",
       "1  0.116  0.0  27.190  \n",
       "2  0.114  0.0  26.718  \n",
       "3  0.117  0.0  27.575  "
      ]
     },
     "execution_count": 126,
     "metadata": {},
     "output_type": "execute_result"
    }
   ],
   "source": [
    "output_table0 = pd.DataFrame(data=[], columns=['name','Be', 'f17', 'b8', 'n13', 'pep', 'o15', 'hep', \n",
    "                                              'pp',  'Total'])\n",
    "\n",
    "for elem in [no11, no22, no33, no44] : \n",
    "    output_table0 = output_table0.append(elem, ignore_index=True)\n",
    "    \n",
    "for elem in ['Be', 'f17', 'b8', 'n13', 'pep', 'o15', 'hep', 'pp',  'Total']:\n",
    "    output_table0[elem] = output_table0[elem].round(3)\n",
    "output_table0"
   ]
  },
  {
   "cell_type": "code",
   "execution_count": 127,
   "metadata": {},
   "outputs": [],
   "source": [
    "output_table0.to_excel('127Xe_result_find_coeff_Janeki.xls')"
   ]
  },
  {
   "cell_type": "code",
   "execution_count": null,
   "metadata": {},
   "outputs": [],
   "source": []
  },
  {
   "cell_type": "code",
   "execution_count": 130,
   "metadata": {},
   "outputs": [],
   "source": [
    "sigma_GTR_border_temp = [cross_sec(0,p, sigma_k_GTR, decomp2['Ex, MeV'].values, \n",
    "                                   y_GTR_border, 200) for p in p_list]\n",
    "sigma_GTR_border_full = np.interp(Energy_all_fluxes, xp=p_list+Q_EC_127Xe, \n",
    "                                  fp=sigma_GTR_border_temp)\n",
    "\n",
    "sigma_PR1_border_temp = [cross_sec(0,p, sigma_k_GTR, decomp2['Ex, MeV'].values, \n",
    "                                   y_PR1_border, 200) for p in p_list]\n",
    "sigma_PR1_border_full = np.interp(Energy_all_fluxes, xp=p_list+Q_EC_127Xe, \n",
    "                                  fp=sigma_PR1_border_temp)\n",
    "\n",
    "sigma_PR2_border_temp = [cross_sec(0,p, sigma_k_GTR, decomp2['Ex, MeV'].values, \n",
    "                                   y_PR2_border, 200) for p in p_list]\n",
    "sigma_PR2_border_full = np.interp(Energy_all_fluxes, xp=p_list+Q_EC_127Xe, \n",
    "                                  fp=sigma_PR2_border_temp)"
   ]
  },
  {
   "cell_type": "code",
   "execution_count": 133,
   "metadata": {},
   "outputs": [],
   "source": [
    "no55 = rate_calc(sigma_bgt_border_full-sigma_GTR_border_full, BS05OP_flux, Energy_all_fluxes, \n",
    "                step_all_fluxes, name='R-total (график bgt) - GTR')\n",
    "\n",
    "no66 = rate_calc(sigma_bgt_border_full-sigma_GTR_border_full-sigma_PR1_border_full, \n",
    "                 BS05OP_flux, Energy_all_fluxes, \n",
    "                step_all_fluxes, name='R-total (график bgt) - GTR - PR1')\n",
    "no77 = rate_calc(sigma_bgt_border_full-sigma_GTR_border_full-sigma_PR1_border_full-sigma_PR2_border_full, \n",
    "                 BS05OP_flux, Energy_all_fluxes, \n",
    "                step_all_fluxes, name='R-total (график bgt) - GTR - PR1 - PR2')\n",
    "#no44 = rate_calc((sigma_alph_min_b_border_full), BS05OP_flux, \n",
    "#                Energy_all_fluxes, step_all_fluxes,name='R-total (alpha E^2-beta E^3)')"
   ]
  },
  {
   "cell_type": "code",
   "execution_count": 134,
   "metadata": {},
   "outputs": [
    {
     "data": {
      "text/html": [
       "<div>\n",
       "<style>\n",
       "    .dataframe thead tr:only-child th {\n",
       "        text-align: right;\n",
       "    }\n",
       "\n",
       "    .dataframe thead th {\n",
       "        text-align: left;\n",
       "    }\n",
       "\n",
       "    .dataframe tbody tr th {\n",
       "        vertical-align: top;\n",
       "    }\n",
       "</style>\n",
       "<table border=\"1\" class=\"dataframe\">\n",
       "  <thead>\n",
       "    <tr style=\"text-align: right;\">\n",
       "      <th></th>\n",
       "      <th>name</th>\n",
       "      <th>Be</th>\n",
       "      <th>f17</th>\n",
       "      <th>b8</th>\n",
       "      <th>n13</th>\n",
       "      <th>pep</th>\n",
       "      <th>o15</th>\n",
       "      <th>hep</th>\n",
       "      <th>pp</th>\n",
       "      <th>Total</th>\n",
       "    </tr>\n",
       "  </thead>\n",
       "  <tbody>\n",
       "    <tr>\n",
       "      <th>0</th>\n",
       "      <td>R-total (график bgt) - GTR</td>\n",
       "      <td>3.010</td>\n",
       "      <td>0.014</td>\n",
       "      <td>7.274</td>\n",
       "      <td>0.168</td>\n",
       "      <td>0.807</td>\n",
       "      <td>0.542</td>\n",
       "      <td>0.027</td>\n",
       "      <td>0.0</td>\n",
       "      <td>11.843</td>\n",
       "    </tr>\n",
       "    <tr>\n",
       "      <th>1</th>\n",
       "      <td>R-total (график bgt) - GTR - PR1</td>\n",
       "      <td>3.001</td>\n",
       "      <td>0.013</td>\n",
       "      <td>3.611</td>\n",
       "      <td>0.166</td>\n",
       "      <td>0.781</td>\n",
       "      <td>0.528</td>\n",
       "      <td>0.010</td>\n",
       "      <td>0.0</td>\n",
       "      <td>8.111</td>\n",
       "    </tr>\n",
       "    <tr>\n",
       "      <th>2</th>\n",
       "      <td>R-total (график bgt) - GTR - PR1 - PR2</td>\n",
       "      <td>2.969</td>\n",
       "      <td>0.013</td>\n",
       "      <td>-0.249</td>\n",
       "      <td>0.164</td>\n",
       "      <td>0.757</td>\n",
       "      <td>0.514</td>\n",
       "      <td>-0.003</td>\n",
       "      <td>0.0</td>\n",
       "      <td>4.165</td>\n",
       "    </tr>\n",
       "  </tbody>\n",
       "</table>\n",
       "</div>"
      ],
      "text/plain": [
       "                                     name     Be    f17     b8    n13    pep  \\\n",
       "0              R-total (график bgt) - GTR  3.010  0.014  7.274  0.168  0.807   \n",
       "1        R-total (график bgt) - GTR - PR1  3.001  0.013  3.611  0.166  0.781   \n",
       "2  R-total (график bgt) - GTR - PR1 - PR2  2.969  0.013 -0.249  0.164  0.757   \n",
       "\n",
       "     o15    hep   pp   Total  \n",
       "0  0.542  0.027  0.0  11.843  \n",
       "1  0.528  0.010  0.0   8.111  \n",
       "2  0.514 -0.003  0.0   4.165  "
      ]
     },
     "execution_count": 134,
     "metadata": {},
     "output_type": "execute_result"
    }
   ],
   "source": [
    "output_table1 = pd.DataFrame(data=[], columns=['name','Be', 'f17', 'b8', 'n13', 'pep', 'o15', 'hep', \n",
    "                                              'pp',  'Total'])\n",
    "\n",
    "for elem in [no55, no66, no77] : \n",
    "    output_table1 = output_table1.append(elem, ignore_index=True)\n",
    "    \n",
    "for elem in ['Be', 'f17', 'b8', 'n13', 'pep', 'o15', 'hep', 'pp',  'Total']:\n",
    "    output_table1[elem] = output_table1[elem].round(3)\n",
    "output_table1"
   ]
  },
  {
   "cell_type": "code",
   "execution_count": 136,
   "metadata": {},
   "outputs": [],
   "source": [
    "output_table1.to_excel('127Xe_result_find_coeff_Janeki-GTR-PR.xls')"
   ]
  },
  {
   "cell_type": "code",
   "execution_count": null,
   "metadata": {},
   "outputs": [],
   "source": []
  },
  {
   "cell_type": "code",
   "execution_count": 138,
   "metadata": {},
   "outputs": [],
   "source": [
    "sigma_bgt_no_border_temp = [cross_sec(0,p, sigma_k_GTR, decomp2['Ex, MeV'].values, \n",
    "                                   decomp2['bgt'].values, 200) for p in p_list]\n",
    "sigma_bgt_no_border_full = np.interp(Energy_all_fluxes, xp=p_list+Q_EC_127Xe, \n",
    "                                  fp=sigma_bgt_no_border_temp)\n",
    "\n",
    "sigma_GTR_no_border_temp = [cross_sec(0,p, sigma_k_GTR, decomp2['Ex, MeV'].values, \n",
    "                                   decomp2['GTR (alpha E^2)'].values, 200) for p in p_list]\n",
    "sigma_GTR_no_border_full = np.interp(Energy_all_fluxes, xp=p_list+Q_EC_127Xe, \n",
    "                                  fp=sigma_GTR_no_border_temp)\n",
    "\n",
    "sigma_PR1_no_border_temp = [cross_sec(0,p, sigma_k_GTR, decomp2['Ex, MeV'].values, \n",
    "                                   decomp2['PR1 (alpha E^2)'].values, 200) for p in p_list]\n",
    "sigma_PR1_no_border_full = np.interp(Energy_all_fluxes, xp=p_list+Q_EC_127Xe, \n",
    "                                  fp=sigma_PR1_no_border_temp)\n"
   ]
  },
  {
   "cell_type": "code",
   "execution_count": 139,
   "metadata": {},
   "outputs": [],
   "source": [
    "no88 = rate_calc(sigma_bgt_no_border_full, BS05OP_flux, Energy_all_fluxes, \n",
    "                step_all_fluxes, name='R-total (график bgt)')\n",
    "\n",
    "no99 = rate_calc(sigma_bgt_no_border_full-sigma_GTR_no_border_full, BS05OP_flux, Energy_all_fluxes, \n",
    "                step_all_fluxes, name='R-total (график bgt) - GTR')\n",
    "\n",
    "no1010 = rate_calc(sigma_bgt_no_border_full-sigma_GTR_no_border_full-sigma_PR1_no_border_full, \n",
    "                 BS05OP_flux, Energy_all_fluxes, \n",
    "                step_all_fluxes, name='R-total (график bgt) - GTR - PR1')"
   ]
  },
  {
   "cell_type": "code",
   "execution_count": 140,
   "metadata": {},
   "outputs": [
    {
     "data": {
      "text/html": [
       "<div>\n",
       "<style>\n",
       "    .dataframe thead tr:only-child th {\n",
       "        text-align: right;\n",
       "    }\n",
       "\n",
       "    .dataframe thead th {\n",
       "        text-align: left;\n",
       "    }\n",
       "\n",
       "    .dataframe tbody tr th {\n",
       "        vertical-align: top;\n",
       "    }\n",
       "</style>\n",
       "<table border=\"1\" class=\"dataframe\">\n",
       "  <thead>\n",
       "    <tr style=\"text-align: right;\">\n",
       "      <th></th>\n",
       "      <th>name</th>\n",
       "      <th>Be</th>\n",
       "      <th>f17</th>\n",
       "      <th>b8</th>\n",
       "      <th>n13</th>\n",
       "      <th>pep</th>\n",
       "      <th>o15</th>\n",
       "      <th>hep</th>\n",
       "      <th>pp</th>\n",
       "      <th>Total</th>\n",
       "    </tr>\n",
       "  </thead>\n",
       "  <tbody>\n",
       "    <tr>\n",
       "      <th>0</th>\n",
       "      <td>R-total (график bgt)</td>\n",
       "      <td>3.029</td>\n",
       "      <td>0.015</td>\n",
       "      <td>32.000</td>\n",
       "      <td>0.170</td>\n",
       "      <td>0.863</td>\n",
       "      <td>0.574</td>\n",
       "      <td>0.199</td>\n",
       "      <td>0.0</td>\n",
       "      <td>36.850</td>\n",
       "    </tr>\n",
       "    <tr>\n",
       "      <th>1</th>\n",
       "      <td>R-total (график bgt) - GTR</td>\n",
       "      <td>3.010</td>\n",
       "      <td>0.014</td>\n",
       "      <td>8.909</td>\n",
       "      <td>0.168</td>\n",
       "      <td>0.807</td>\n",
       "      <td>0.542</td>\n",
       "      <td>0.045</td>\n",
       "      <td>0.0</td>\n",
       "      <td>13.496</td>\n",
       "    </tr>\n",
       "    <tr>\n",
       "      <th>2</th>\n",
       "      <td>R-total (график bgt) - GTR - PR1</td>\n",
       "      <td>3.001</td>\n",
       "      <td>0.013</td>\n",
       "      <td>3.640</td>\n",
       "      <td>0.166</td>\n",
       "      <td>0.781</td>\n",
       "      <td>0.528</td>\n",
       "      <td>0.010</td>\n",
       "      <td>0.0</td>\n",
       "      <td>8.140</td>\n",
       "    </tr>\n",
       "  </tbody>\n",
       "</table>\n",
       "</div>"
      ],
      "text/plain": [
       "                               name     Be    f17      b8    n13    pep  \\\n",
       "0              R-total (график bgt)  3.029  0.015  32.000  0.170  0.863   \n",
       "1        R-total (график bgt) - GTR  3.010  0.014   8.909  0.168  0.807   \n",
       "2  R-total (график bgt) - GTR - PR1  3.001  0.013   3.640  0.166  0.781   \n",
       "\n",
       "     o15    hep   pp   Total  \n",
       "0  0.574  0.199  0.0  36.850  \n",
       "1  0.542  0.045  0.0  13.496  \n",
       "2  0.528  0.010  0.0   8.140  "
      ]
     },
     "execution_count": 140,
     "metadata": {},
     "output_type": "execute_result"
    }
   ],
   "source": [
    "output_table2 = pd.DataFrame(data=[], columns=['name','Be', 'f17', 'b8', 'n13', 'pep', 'o15', 'hep', \n",
    "                                              'pp',  'Total'])\n",
    "\n",
    "for elem in [no88, no99, no1010] : \n",
    "    output_table2 = output_table2.append(elem, ignore_index=True)\n",
    "    \n",
    "for elem in ['Be', 'f17', 'b8', 'n13', 'pep', 'o15', 'hep', 'pp',  'Total']:\n",
    "    output_table2[elem] = output_table2[elem].round(3)\n",
    "output_table2"
   ]
  },
  {
   "cell_type": "code",
   "execution_count": 141,
   "metadata": {},
   "outputs": [],
   "source": [
    "output_table2.to_excel('127Xe_result_find_coeff_Janeki_no_border-GTR-PR.xls')"
   ]
  },
  {
   "cell_type": "code",
   "execution_count": null,
   "metadata": {},
   "outputs": [],
   "source": []
  },
  {
   "cell_type": "code",
   "execution_count": 166,
   "metadata": {},
   "outputs": [
    {
     "data": {
      "text/plain": [
       "(0, 7)"
      ]
     },
     "execution_count": 166,
     "metadata": {},
     "output_type": "execute_result"
    },
    {
     "data": {
      "image/png": "[encoded data removed]",
      "text/plain": [
       "<Figure size 720x360 with 1 Axes>"
      ]
     },
     "metadata": {},
     "output_type": "display_data"
    }
   ],
   "source": [
    "bgt_overSn = border_func2(decomp2['Ex, MeV'].values, decomp2['bgt'].values, S_n, decomp2['Ex, MeV'].values[-1])\n",
    "bgt_over388Sn = border_func2(decomp2['Ex, MeV'].values, decomp2['bgt'].values, S_n+0.3886, decomp2['Ex, MeV'].values[-1])\n",
    "\n",
    "plt.figure(figsize=(10,5))\n",
    "plt.plot(decomp2['Ex, MeV'].values, bgt_overSn, label='S(E) выше $S_n$')\n",
    "plt.plot(decomp2['Ex, MeV'].values, bgt_over388Sn, ls= '-.', label='S(E) выше $S_n+0.3886$ MeV')\n",
    "plt.xlabel('$E_{x}$, MeV', fontsize=14)\n",
    "plt.ylabel('S(E), 1/MeV', fontsize=14)\n",
    "plt.legend( fontsize=14)\n",
    "plt.xlim(0,20)\n",
    "plt.ylim(0,7)"
   ]
  },
  {
   "cell_type": "code",
   "execution_count": 162,
   "metadata": {},
   "outputs": [],
   "source": [
    "sigma_bgt_overSn_temp = [cross_sec(0,p, sigma_k_GTR, decomp2['Ex, MeV'].values, \n",
    "                                   bgt_overSn, 200) for p in p_list]\n",
    "sigma_bgt_overSn_full = np.interp(Energy_all_fluxes, xp=p_list+Q_EC_127Xe, \n",
    "                                  fp=sigma_bgt_overSn_temp)\n",
    "\n",
    "sigma_bgt_over388Sn_temp = [cross_sec(0,p, sigma_k_GTR, decomp2['Ex, MeV'].values, \n",
    "                                   bgt_over388Sn, 200) for p in p_list]\n",
    "sigma_bgt_over388Sn_full = np.interp(Energy_all_fluxes, xp=p_list+Q_EC_127Xe, \n",
    "                                  fp=sigma_bgt_over388Sn_temp)"
   ]
  },
  {
   "cell_type": "code",
   "execution_count": 163,
   "metadata": {},
   "outputs": [
    {
     "data": {
      "text/plain": [
       "(5.494887560424817, 4.333664280127627)"
      ]
     },
     "execution_count": 163,
     "metadata": {},
     "output_type": "execute_result"
    }
   ],
   "source": [
    "overSn = rate_calc(sigma_bgt_overSn_full, BS05OP_flux, Energy_all_fluxes, \n",
    "                step_all_fluxes, name='R-total (график bgt)')\n",
    "over388Sn = rate_calc(sigma_bgt_over388Sn_full, BS05OP_flux, Energy_all_fluxes, \n",
    "                step_all_fluxes, name='R-total (график bgt)')\n",
    "overSn['Total'], over388Sn['Total'] "
   ]
  },
  {
   "cell_type": "code",
   "execution_count": 164,
   "metadata": {},
   "outputs": [
    {
     "data": {
      "text/plain": [
       "(0.7886720578851272, 0.21132794211487282)"
      ]
     },
     "execution_count": 164,
     "metadata": {},
     "output_type": "execute_result"
    }
   ],
   "source": [
    "over388Sn['Total'] / overSn['Total'], 1 - over388Sn['Total'] / overSn['Total']"
   ]
  },
  {
   "cell_type": "code",
   "execution_count": 167,
   "metadata": {},
   "outputs": [
    {
     "data": {
      "text/html": [
       "<div>\n",
       "<style>\n",
       "    .dataframe thead tr:only-child th {\n",
       "        text-align: right;\n",
       "    }\n",
       "\n",
       "    .dataframe thead th {\n",
       "        text-align: left;\n",
       "    }\n",
       "\n",
       "    .dataframe tbody tr th {\n",
       "        vertical-align: top;\n",
       "    }\n",
       "</style>\n",
       "<table border=\"1\" class=\"dataframe\">\n",
       "  <thead>\n",
       "    <tr style=\"text-align: right;\">\n",
       "      <th></th>\n",
       "      <th>name</th>\n",
       "      <th>Be</th>\n",
       "      <th>f17</th>\n",
       "      <th>b8</th>\n",
       "      <th>n13</th>\n",
       "      <th>pep</th>\n",
       "      <th>o15</th>\n",
       "      <th>hep</th>\n",
       "      <th>pp</th>\n",
       "      <th>Total</th>\n",
       "    </tr>\n",
       "  </thead>\n",
       "  <tbody>\n",
       "    <tr>\n",
       "      <th>0</th>\n",
       "      <td>R-total (график bgt)</td>\n",
       "      <td>0.0</td>\n",
       "      <td>0.0</td>\n",
       "      <td>4.256</td>\n",
       "      <td>0.0</td>\n",
       "      <td>0.0</td>\n",
       "      <td>0.0</td>\n",
       "      <td>0.077</td>\n",
       "      <td>0.0</td>\n",
       "      <td>4.334</td>\n",
       "    </tr>\n",
       "  </tbody>\n",
       "</table>\n",
       "</div>"
      ],
      "text/plain": [
       "                   name   Be  f17     b8  n13  pep  o15    hep   pp  Total\n",
       "0  R-total (график bgt)  0.0  0.0  4.256  0.0  0.0  0.0  0.077  0.0  4.334"
      ]
     },
     "execution_count": 167,
     "metadata": {},
     "output_type": "execute_result"
    }
   ],
   "source": [
    "output_table3 = pd.DataFrame(data=[], columns=['name','Be', 'f17', 'b8', 'n13', 'pep', 'o15', 'hep', \n",
    "                                              'pp',  'Total'])\n",
    "output_table3 = output_table3.append(over388Sn, ignore_index=True)\n",
    "    \n",
    "for elem in ['Be', 'f17', 'b8', 'n13', 'pep', 'o15', 'hep', 'pp',  'Total']:\n",
    "    output_table3[elem] = output_table3[elem].round(3)\n",
    "output_table3"
   ]
  },
  {
   "cell_type": "code",
   "execution_count": null,
   "metadata": {},
   "outputs": [],
   "source": []
  }
 ],
 "metadata": {
  "kernelspec": {
   "display_name": "Python 3",
   "language": "python",
   "name": "python3"
  },
  "language_info": {
   "codemirror_mode": {
    "name": "ipython",
    "version": 3
   },
   "file_extension": ".py",
   "mimetype": "text/x-python",
   "name": "python",
   "nbconvert_exporter": "python",
   "pygments_lexer": "ipython3",
   "version": "3.5.2"
  }
 },
 "nbformat": 4,
 "nbformat_minor": 2
}

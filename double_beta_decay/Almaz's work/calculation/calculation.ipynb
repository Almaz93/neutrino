{
 "cells": [
  {
   "cell_type": "code",
   "execution_count": 1,
   "metadata": {},
   "outputs": [
    {
     "name": "stdout",
     "output_type": "stream",
     "text": [
      "Populating the interactive namespace from numpy and matplotlib\n"
     ]
    }
   ],
   "source": [
    "import math\n",
    "import numpy as np\n",
    "import pandas as pd\n",
    "import scipy as sc\n",
    "import matplotlib.pyplot as plt\n",
    "%pylab inline"
   ]
  },
  {
   "cell_type": "markdown",
   "metadata": {},
   "source": [
    "Определяем константы для 76As и 37Ar"
   ]
  },
  {
   "cell_type": "code",
   "execution_count": 77,
   "metadata": {},
   "outputs": [],
   "source": [
    "Q_EC_76As=0.9233 #in MeV\n",
    "Z_76As=33\n",
    "log_ft_76As=4.6\n",
    "\n",
    "Q_EC_37Ar=0.81387 #in MeV\n",
    "Z_37Ar=18\n",
    "log_ft_37Ar=5.1\n",
    "\n",
    "g_a_g_v=1.297 #ratio of vector and axial coupling constants"
   ]
  },
  {
   "cell_type": "code",
   "execution_count": 54,
   "metadata": {},
   "outputs": [],
   "source": [
    "def Q_k_func(E_k, Q_EC):\n",
    "    #Считаем порог реакции, E_k - энергия возбужденного состояния\n",
    "    #E_k in KeV\n",
    "    return Q_EC+E_k/1000"
   ]
  },
  {
   "cell_type": "markdown",
   "metadata": {},
   "source": [
    "Привиденная энергия вылетающего электрона: $\\epsilon_e = \\frac{E_{\\nu}-Q_k}{m_e} + 1$"
   ]
  },
  {
   "cell_type": "code",
   "execution_count": 55,
   "metadata": {},
   "outputs": [],
   "source": [
    "def e_e_func(E_nu, E_k, Q_EC):\n",
    "    #Считаем привиденную энергию вылетающего электрона. Если энергия налетающего нейтрино E_nu\n",
    "    #меньше порога, возвращаем 0 для обнуления итогового сечения\n",
    "    #E_nu in MeV\n",
    "    q=Q_k_func(E_k, Q_EC) #порог реакции\n",
    "    if E_nu>q: return 1+(E_nu-q)/0.511\n",
    "    else: return 0 "
   ]
  },
  {
   "cell_type": "markdown",
   "metadata": {},
   "source": [
    "Привиденный импульс электрона: $\\pi_e=\\sqrt{\\epsilon_e^2 -1}$"
   ]
  },
  {
   "cell_type": "code",
   "execution_count": 56,
   "metadata": {},
   "outputs": [],
   "source": [
    "def Pi_e_func(e_e):\n",
    "    #Привиденный импульс электрона, вычисляется через привиденную энергию; ** означает степень  \n",
    "    if e_e>1: return math.sqrt(e_e**2 - 1)\n",
    "    else: return 0"
   ]
  },
  {
   "cell_type": "markdown",
   "metadata": {},
   "source": [
    "Ферми функция по Инжечику: $F(Z, {\\epsilon}_e)= \\frac{y}{1-e^{-y}}$, где $ {y} = \\frac{2{\\pi}Z\\alpha}{\\pi_e} $"
   ]
  },
  {
   "cell_type": "code",
   "execution_count": 57,
   "metadata": {},
   "outputs": [],
   "source": [
    "def Columb_func(Pi_e, Z):\n",
    "    #ферми функция по Инжечику\n",
    "    if Pi_e>0:\n",
    "        y_k=(2*math.pi*Z)/(Pi_e*137)\n",
    "        return y_k/(1-math.exp(-y_k))\n",
    "    else: return 0"
   ]
  },
  {
   "cell_type": "markdown",
   "metadata": {},
   "source": [
    "Ферми функция по Бакалу: $F(Z, {\\epsilon}_e)= \\frac{y}{1-e^{-y}}$, где $ {y} = \\frac{2{\\pi}Z\\alpha \\epsilon_e}{\\pi_e} $"
   ]
  },
  {
   "cell_type": "code",
   "execution_count": 58,
   "metadata": {},
   "outputs": [],
   "source": [
    "def Columb_func_Bahcall(Pi_e, Z, e_e):\n",
    "    #ферми функция по Бакалу\n",
    "    if Pi_e>0:\n",
    "        y_k=(2*math.pi*Z*e_e)/(Pi_e*137)\n",
    "        return y_k/(1-math.exp(-y_k))\n",
    "    else: return 0"
   ]
  },
  {
   "cell_type": "markdown",
   "metadata": {},
   "source": [
    "Сечение по Инжечику $\\sigma_k=\\frac{0.2625}{10^{log ft}}\\frac{2J_k+1}{2J_i+1} \\epsilon_e \\pi_e F(Z, \\epsilon_e)10^{-40}$ $cm^2$ "
   ]
  },
  {
   "cell_type": "code",
   "execution_count": 59,
   "metadata": {},
   "outputs": [],
   "source": [
    "def sigma_k_Inzh(J_k, J_i, E_nu, E_k, log_ft, Z, Q_EC):\n",
    "    #сечение k-го возб. состояния по Инжечику. J_k - угл. момент k-го возб. состояния\n",
    "    #промежуточного ядра, J_i - угл. мом. первичного ядра. E_k - энергия возб. k-го состояния\n",
    "    e_e=e_e_func(E_nu, E_k, Q_EC) #привиденная энергия\n",
    "    Pi_e=Pi_e_func(e_e)#привиденный импульс\n",
    "    F_col=Columb_func(Pi_e, Z)#ферми функция\n",
    "    return 0.2625*( (2*J_k+1)/(2*J_i+1) )*e_e*Pi_e*F_col/(math.pow(10, log_ft))*math.pow(10, -40)"
   ]
  },
  {
   "cell_type": "code",
   "execution_count": 60,
   "metadata": {},
   "outputs": [],
   "source": [
    "def sigma_k_Inzh_new(J_k, J_i, E_nu, E_k, log_ft, Z, Q_EC):\n",
    "    #сечение k-го возб. состояния по Инжечику с бакаловской ферми функцией\n",
    "    e_e=e_e_func(E_nu, E_k, Q_EC)\n",
    "    Pi_e=Pi_e_func(e_e)\n",
    "    F_col=Columb_func_Bahcall(Pi_e, Z, e_e)\n",
    "    #print(e_e,Pi_e,F_col)\n",
    "#    return 0.2625*(2*J_k+1)*e_e*Pi_e*F_col/(math.pow(10, log_ft))*math.pow(10, -40)\n",
    "    return 0.2625*( (2*J_k+1)/(2*J_i+1) )*e_e*Pi_e*F_col/(math.pow(10, log_ft))*10**(-40)"
   ]
  },
  {
   "cell_type": "markdown",
   "metadata": {},
   "source": [
    "Сечение по Иджири $\\sigma_k={(1.597\\times10^{-44}\\ cm^2)}\\epsilon_e \\pi_e m_e^2 F(Z,E_e) [B(F)_k + (\\frac{g_a}{g_v})^2 B(GT)_k] $ "
   ]
  },
  {
   "cell_type": "code",
   "execution_count": 61,
   "metadata": {},
   "outputs": [],
   "source": [
    "def sigma_k_Ejiri(E_nu, E_k, BGT_k, Z, Q_EC):\n",
    "    #сечение k-го возб. состояния по Иджири\n",
    "    e_e=e_e_func(E_nu, E_k, Q_EC)\n",
    "    Pi_e=Pi_e_func(e_e)\n",
    "    F_col=Columb_func(Pi_e, Z)\n",
    "    return e_e*Pi_e*F_col*math.pow(0.551,2)*math.pow(g_a_g_v,2)*BGT_k*1.597*math.pow(10,-44)"
   ]
  },
  {
   "cell_type": "code",
   "execution_count": 62,
   "metadata": {},
   "outputs": [],
   "source": [
    "def sigma_k_Ejiri_new(E_nu, E_k, BGT_k, Z, Q_EC):\n",
    "    #сечение k-го возб. состояния по Иджири с бакаловской ферми функцией\n",
    "    e_e=e_e_func(E_nu, E_k, Q_EC)\n",
    "    Pi_e=Pi_e_func(e_e)\n",
    "    F_col=Columb_func_Bahcall(Pi_e, Z, e_e)\n",
    "    return e_e*Pi_e*F_col*math.pow(0.551,2)*math.pow(g_a_g_v,2)*BGT_k*1.597*math.pow(10,-44)"
   ]
  },
  {
   "cell_type": "markdown",
   "metadata": {},
   "source": [
    "## Проверка метода Инжечика на 37Ar\n",
    "Считываем данные по энергии возбуждения $E_x$ и $J_\\pi$"
   ]
  },
  {
   "cell_type": "code",
   "execution_count": 63,
   "metadata": {},
   "outputs": [
    {
     "name": "stdout",
     "output_type": "stream",
     "text": [
      "<class 'pandas.core.frame.DataFrame'>\n",
      "RangeIndex: 60 entries, 0 to 59\n",
      "Data columns (total 2 columns):\n",
      "Elevel_keV    60 non-null float64\n",
      "Jπ            60 non-null float64\n",
      "dtypes: float64(2)\n",
      "memory usage: 1.0 KB\n"
     ]
    }
   ],
   "source": [
    "J_k_Ar = pd.read_csv('j_data_37Ar_minimal_values.csv')\n",
    "J_k_Ar.info()"
   ]
  },
  {
   "cell_type": "code",
   "execution_count": 64,
   "metadata": {},
   "outputs": [],
   "source": [
    "E_nu_list=np.arange(0,30,0.1) #массив с энергиями нейтрино\n",
    "\n",
    "#сечение для основного состояния\n",
    "sigma_37Ar=[sigma_k_Inzh(J_k_Ar['Jπ'][0], 3/2, E_nu, J_k_Ar['Elevel_keV'][0], \n",
    "                    log_ft_37Ar, Z_37Ar, Q_EC_37Ar) for E_nu in E_nu_list] \n",
    "#сечение для всех возбужденных состояний\n",
    "sigma_37Ar_full=[sum([sigma_k_Inzh(J_k, 3/2, E_nu, E_k, log_ft_37Ar, Z_37Ar, Q_EC_37Ar)\n",
    "                     for (J_k, E_k) in zip(J_k_Ar['Jπ'].values, J_k_Ar['Elevel_keV'].values)]) \n",
    "                for E_nu in E_nu_list]"
   ]
  },
  {
   "cell_type": "markdown",
   "metadata": {},
   "source": [
    "Считываем бакаловские данные по сечению. Далее будем сравнивать с ними"
   ]
  },
  {
   "cell_type": "code",
   "execution_count": 65,
   "metadata": {},
   "outputs": [
    {
     "name": "stdout",
     "output_type": "stream",
     "text": [
      "<class 'pandas.core.frame.DataFrame'>\n",
      "RangeIndex: 19 entries, 0 to 18\n",
      "Data columns (total 2 columns):\n",
      "E_nu_Mev        19 non-null int64\n",
      "Sigma_*10^42    19 non-null float64\n",
      "dtypes: float64(1), int64(1)\n",
      "memory usage: 384.0 bytes\n"
     ]
    }
   ],
   "source": [
    "Bachall=pd.read_csv('37Ar_Bahcall_sigma.csv')\n",
    "Bachall.info()"
   ]
  },
  {
   "cell_type": "code",
   "execution_count": 66,
   "metadata": {},
   "outputs": [
    {
     "data": {
      "image/png": "[encoded data removed]",
      "text/plain": [
       "<matplotlib.figure.Figure at 0x7f8a925175f8>"
      ]
     },
     "metadata": {},
     "output_type": "display_data"
    }
   ],
   "source": [
    "plt.figure(figsize=(12,5))\n",
    "plt.plot(E_nu_list, sigma_37Ar, label='37Ar ground level')\n",
    "plt.plot(E_nu_list, sigma_37Ar_full, c='green', label='37Ar all excited levels')\n",
    "plt.scatter(Bachall['E_nu_Mev'], Bachall['Sigma_*10^42']*math.pow(10,-46), c='red',\n",
    "            marker='x', label='37Ar Bahcall')\n",
    "plt.legend()\n",
    "plt.grid()\n",
    "plt.xlabel('$E_{nu}$ (MeV)')\n",
    "plt.ylabel('$\\sigma$ $(cm^2)$')\n",
    "plt.yscale('log')"
   ]
  },
  {
   "cell_type": "markdown",
   "metadata": {},
   "source": [
    "## Подсчет для 76As\n",
    "\n",
    "Считываем данные по энергии возбуждения $E_x$ и $J_\\pi$"
   ]
  },
  {
   "cell_type": "code",
   "execution_count": 67,
   "metadata": {},
   "outputs": [
    {
     "name": "stdout",
     "output_type": "stream",
     "text": [
      "<class 'pandas.core.frame.DataFrame'>\n",
      "RangeIndex: 126 entries, 0 to 125\n",
      "Data columns (total 2 columns):\n",
      "Elevel_(keV)    126 non-null float64\n",
      "Jπ_korrect      126 non-null int64\n",
      "dtypes: float64(1), int64(1)\n",
      "memory usage: 2.0 KB\n"
     ]
    }
   ],
   "source": [
    "J_k_As = pd.read_csv('j_data_76As_minimal_values.csv') #для состояний с неизвестным J \n",
    "#считалось что J=0 \n",
    "J_k_As.info()"
   ]
  },
  {
   "cell_type": "code",
   "execution_count": 68,
   "metadata": {},
   "outputs": [
    {
     "name": "stdout",
     "output_type": "stream",
     "text": [
      "<class 'pandas.core.frame.DataFrame'>\n",
      "RangeIndex: 126 entries, 0 to 125\n",
      "Data columns (total 2 columns):\n",
      "Elevel_(keV)    126 non-null float64\n",
      "Jπ_korrect      126 non-null int64\n",
      "dtypes: float64(1), int64(1)\n",
      "memory usage: 2.0 KB\n"
     ]
    }
   ],
   "source": [
    "J_k_As_max = pd.read_csv('j_data_76As_maximal_values.csv')  #для состояний с неизвестным J \n",
    "#считалось что J=1\n",
    "J_k_As_max.info()"
   ]
  },
  {
   "cell_type": "code",
   "execution_count": 69,
   "metadata": {},
   "outputs": [
    {
     "name": "stdout",
     "output_type": "stream",
     "text": [
      "<class 'pandas.core.frame.DataFrame'>\n",
      "RangeIndex: 73 entries, 0 to 72\n",
      "Data columns (total 5 columns):\n",
      "Unnamed: 0        73 non-null int64\n",
      "Ex                73 non-null float64\n",
      "Jpi               73 non-null object\n",
      "diff cross-sec    73 non-null float64\n",
      "B(GT)             73 non-null float64\n",
      "dtypes: float64(3), int64(1), object(1)\n",
      "memory usage: 2.9+ KB\n"
     ]
    }
   ],
   "source": [
    "BGT=pd.read_csv('../B(GT) peaks processing/clear_B(GT).csv') #таблица со значениями B(GT)\n",
    "BGT.info()"
   ]
  },
  {
   "cell_type": "code",
   "execution_count": 70,
   "metadata": {},
   "outputs": [
    {
     "name": "stdout",
     "output_type": "stream",
     "text": [
      "<class 'pandas.core.frame.DataFrame'>\n",
      "RangeIndex: 2000 entries, 0 to 1999\n",
      "Data columns (total 2 columns):\n",
      "energy          2000 non-null float64\n",
      "sum_spectrum    2000 non-null float64\n",
      "dtypes: float64(2)\n",
      "memory usage: 31.3 KB\n"
     ]
    }
   ],
   "source": [
    "fluxes=pd.read_csv('../Vyborov_results/Fluxes/SumFluxes.csv', sep=';')\n",
    "fluxes.info()"
   ]
  },
  {
   "cell_type": "code",
   "execution_count": 71,
   "metadata": {},
   "outputs": [],
   "source": [
    "E_nu_list=fluxes['energy'].values\n",
    "sum_spectrum=fluxes['sum_spectrum'].values\n",
    "step_size=0.01 #MeV"
   ]
  },
  {
   "cell_type": "code",
   "execution_count": 78,
   "metadata": {},
   "outputs": [],
   "source": [
    "#Зависимости сечения от энергии нейтрино для:\n",
    "#метод Инжечика, первое возб. состояние, для состояний с неизвестным J считалось что J=0\n",
    "Inzh_sigma_76As_1st=[sigma_k_Inzh(J_k_As['Jπ_korrect'][0], 0, E_nu, J_k_As['Elevel_(keV)'][0],\n",
    "                         log_ft_76As, Z_76As, Q_EC_76As) for E_nu in E_nu_list]\n",
    "#метод Инжечика, все возб. состояния, для состояний с неизвестным J считалось что J=0\n",
    "Inzh_sigma_76As_all=[sum([sigma_k_Inzh(J_k, 0, E_nu, E_k, log_ft_76As, Z_76As, Q_EC_76As) for (J_k, E_k)\n",
    "                      in zip(J_k_As['Jπ_korrect'].values, J_k_As['Elevel_(keV)'].values)])\n",
    "                 for E_nu in E_nu_list]\n",
    "#метод Иджири, все возб. состояния\n",
    "Ej_sigma_76As_all=[sum([sigma_k_Ejiri(E_nu, E_k, BGT_k, Z_76As, Q_EC_76As) \n",
    "                            for (BGT_k, E_k) in zip(BGT['B(GT)'].values, BGT['Ex'].values)])\n",
    "                 for E_nu in E_nu_list]\n",
    "#метод Иджири, все возб. состояния, ферми-функция Бакала\n",
    "Ej_sigma_76As_all_new=[sum([sigma_k_Ejiri_new(E_nu, E_k, BGT_k, Z_76As, Q_EC_76As) \n",
    "                            for (BGT_k, E_k) in zip(BGT['B(GT)'].values, BGT['Ex'].values)])\n",
    "                 for E_nu in E_nu_list]\n",
    "#метод Инжечика, все возб. состояния, ферми-функция Бакала, для состояний с неизвестным J \n",
    "#считалось что J=0\n",
    "Inzh_sigma_76As_all_new=[sum([sigma_k_Inzh_new(J_k, 0, E_nu, E_k, log_ft_76As, Z_76As, Q_EC_76As) for (J_k, E_k)\n",
    "                      in zip(J_k_As['Jπ_korrect'].values, J_k_As['Elevel_(keV)'].values)])\n",
    "                 for E_nu in E_nu_list]\n",
    "#метод Инжечика, все возб. состояния, для состояний с неизвестным J считалось что J=1\n",
    "Inzh_sigma_76As_all_max=[sum([sigma_k_Inzh(J_k, 0, E_nu, E_k, log_ft_76As, Z_76As, Q_EC_76As) for (J_k, E_k)\n",
    "                      in zip(J_k_As_max['Jπ_korrect'].values, J_k_As_max['Elevel_(keV)'].values)])\n",
    "                 for E_nu in E_nu_list]"
   ]
  },
  {
   "cell_type": "code",
   "execution_count": 79,
   "metadata": {},
   "outputs": [
    {
     "data": {
      "image/png": "[encoded data removed]",
      "text/plain": [
       "<matplotlib.figure.Figure at 0x7f8a90b90b38>"
      ]
     },
     "metadata": {},
     "output_type": "display_data"
    }
   ],
   "source": [
    "plt.figure(figsize=(12,5))\n",
    "plt.plot(E_nu_list, Inzh_sigma_76As_1st, label='76As 1st excited level')\n",
    "plt.plot(E_nu_list, Inzh_sigma_76As_all, c='red', label='76As all excited levels')\n",
    "#plt.plot(E_nu_list, Inzh_sigma_76As_all_new, c='violet', label='76As all excited levels F_bahcall')\n",
    "plt.plot(E_nu_list, Ej_sigma_76As_all, c='green', label='76As approach of Ejiri')\n",
    "plt.plot(E_nu_list, Ej_sigma_76As_all_new, c='black', label='76As approach of Ejiri F_bahcall')\n",
    "#plt.plot(E_nu_list, Ej_sigma_76As_all_new2, c='black', label='76As approach of Ejiri 2 F_bahcall')\n",
    "plt.grid()\n",
    "plt.legend()\n",
    "plt.xlabel('$E_{nu}$ (MeV)')\n",
    "plt.ylabel('$\\sigma$ $(cm^2)$')\n",
    "plt.yscale('log')\n",
    "#plt.xscale('log')"
   ]
  },
  {
   "cell_type": "markdown",
   "metadata": {},
   "source": [
    "## Подсчет $R=\\sum_k\\int{\\rho_{solar}\\sigma_kdE_\\nu}$ в еденицах SNU\n",
    "Делим на 3 для учета осцилляций; домножаем на math.pow(10,36) для получения значения в SNU"
   ]
  },
  {
   "cell_type": "code",
   "execution_count": 23,
   "metadata": {},
   "outputs": [
    {
     "name": "stdout",
     "output_type": "stream",
     "text": [
      "108.122668634\n"
     ]
    }
   ],
   "source": [
    "#метод Инжечика, все возб. состояния, для состояний с неизвестным J считалось что J=0\n",
    "Inzh = ( sum(sum_spectrum*Inzh_sigma_76As_all*step_size) / 3 ) * math.pow(10,36)\n",
    "print(Inzh)"
   ]
  },
  {
   "cell_type": "code",
   "execution_count": 24,
   "metadata": {},
   "outputs": [
    {
     "name": "stdout",
     "output_type": "stream",
     "text": [
      "196.106073157\n"
     ]
    }
   ],
   "source": [
    "#метод Инжечика, все возб. состояния, ферми-функция Бакала, для состояний с неизвестным J \n",
    "#считалось что J=0\n",
    "Inzh_new = sum(sum_spectrum*Inzh_sigma_76As_all_new*step_size) / 3 * math.pow(10,36)\n",
    "print(Inzh_new)"
   ]
  },
  {
   "cell_type": "code",
   "execution_count": 25,
   "metadata": {},
   "outputs": [
    {
     "name": "stdout",
     "output_type": "stream",
     "text": [
      "201.472126672\n"
     ]
    }
   ],
   "source": [
    "#метод Инжечика, все возб. состояния, для состояний с неизвестным J считалось что J=1\n",
    "Inzh_max = sum(sum_spectrum*Inzh_sigma_76As_all_max*step_size) / 3 * math.pow(10,36)\n",
    "print(Inzh_max)"
   ]
  },
  {
   "cell_type": "code",
   "execution_count": 26,
   "metadata": {},
   "outputs": [
    {
     "name": "stdout",
     "output_type": "stream",
     "text": [
      "22.7450733519\n"
     ]
    }
   ],
   "source": [
    "#метод Иджири, все возб. состояния\n",
    "Ejiri = sum(sum_spectrum*Ej_sigma_76As_all*step_size) / 3 * math.pow(10,36)\n",
    "print(Ejiri)"
   ]
  },
  {
   "cell_type": "code",
   "execution_count": 27,
   "metadata": {},
   "outputs": [
    {
     "name": "stdout",
     "output_type": "stream",
     "text": [
      "40.8170863392\n"
     ]
    }
   ],
   "source": [
    "#метод Иджири, все возб. состояния, ферми-функция Бакала\n",
    "Ejiri_new = sum(sum_spectrum*Ej_sigma_76As_all_new*step_size) / 3 * math.pow(10,36)\n",
    "print(Ejiri_new)"
   ]
  },
  {
   "cell_type": "code",
   "execution_count": 28,
   "metadata": {},
   "outputs": [
    {
     "name": "stdout",
     "output_type": "stream",
     "text": [
      "10.8041217624\n"
     ]
    }
   ],
   "source": [
    "#учет pep\n",
    "pep_ampl=1.453e8\n",
    "pep_en=1.442 #MeV\n",
    "\n",
    "Inzh_sigma_76As_all_pep=sum([sigma_k_Inzh(J_k, 0, pep_en, E_k, log_ft_76As, Z_76As, Q_EC_76As) for (J_k, E_k)\n",
    "                      in zip(J_k_As['Jπ_korrect'].values, J_k_As['Elevel_(keV)'].values)])\n",
    "\n",
    "print(pep_ampl*Inzh_sigma_76As_all_pep/3*math.pow(10,36))"
   ]
  },
  {
   "cell_type": "code",
   "execution_count": 29,
   "metadata": {},
   "outputs": [],
   "source": [
    "def oscillation(E_nu):\n",
    "    return 0.336+0.117*np.exp((-E_nu-0.1)/4.82)+0.119*np.exp((-E_nu-0.1)/4.88)"
   ]
  },
  {
   "cell_type": "code",
   "execution_count": 41,
   "metadata": {},
   "outputs": [],
   "source": [
    "def logft_calc(BGT):\n",
    "    return np.log( 6127/(np.square(1.262*BGT)) )"
   ]
  },
  {
   "cell_type": "code",
   "execution_count": 32,
   "metadata": {},
   "outputs": [
    {
     "data": {
      "text/plain": [
       "26.141217072891333"
      ]
     },
     "execution_count": 32,
     "metadata": {},
     "output_type": "execute_result"
    }
   ],
   "source": [
    "sum(sum_spectrum*Ej_sigma_76As_all*step_size * oscillation(E_nu_list)) * math.pow(10,36)\n"
   ]
  },
  {
   "cell_type": "code",
   "execution_count": 52,
   "metadata": {},
   "outputs": [
    {
     "name": "stdout",
     "output_type": "stream",
     "text": [
      "Ex \t BGT_value \t logft\n",
      "86.0 \t 1.2 \t 7.8904218709\n",
      "120.0 \t 0.33 \t 10.4723902335\n",
      "265.0 \t 0.1 \t 12.8602351705\n",
      "500.0 \t 0.45 \t 9.85208037692\n",
      "513.8 \t 0.71 \t 8.94004560238\n",
      "628.0 \t 0.01 \t 17.4654053565\n",
      "744.0 \t 0.02 \t 16.0791109953\n",
      "774.0 \t 0.02 \t 16.0791109953\n",
      "864.0 \t 0.25 \t 11.0276537067\n",
      "936.0 \t 0.18 \t 11.6846618407\n",
      "1022.0 \t 0.18 \t 11.6846618407\n",
      "1063.0 \t 1.36 \t 7.64009558499\n",
      "1098.0 \t 0.15 \t 12.0493049543\n",
      "1157.0 \t 0.56 \t 9.41470197499\n",
      "1235.0 \t 0.28 \t 10.8009963361\n",
      "1353.0 \t 0.62 \t 9.21113658637\n",
      "1475.0 \t 0.21 \t 11.376360481\n",
      "1540.0 \t 0.03 \t 15.2681807791\n",
      "1573.0 \t 0.09 \t 13.0709562018\n",
      "1637.0 \t 0.03 \t 15.2681807791\n",
      "1693.0 \t 0.49 \t 9.68176476024\n",
      "1718.0 \t 0.13 \t 12.3355066415\n",
      "1792.0 \t 0.13 \t 12.3355066415\n",
      "1852.0 \t 0.33 \t 10.4723902335\n",
      "1902.0 \t 0.45 \t 9.85208037692\n",
      "1929.0 \t 0.04 \t 14.6928166342\n",
      "1987.0 \t 0.1 \t 12.8602351705\n",
      "2041.0 \t 0.06 \t 13.881886418\n",
      "2154.0 \t 0.12 \t 12.4955920569\n",
      "2338.0 \t 0.19 \t 11.5765273981\n",
      "2449.0 \t 0.09 \t 13.0709562018\n",
      "2537.0 \t 0.41 \t 10.0382612231\n",
      "2604.0 \t 0.33 \t 10.4723902335\n",
      "2657.0 \t 0.08 \t 13.3065222731\n",
      "2688.0 \t 0.13 \t 12.3355066415\n",
      "2716.0 \t 0.09 \t 13.0709562018\n",
      "2763.0 \t 0.08 \t 13.3065222731\n",
      "2791.0 \t 0.14 \t 12.1872906972\n",
      "2819.0 \t 0.04 \t 14.6928166342\n",
      "2882.0 \t 0.2 \t 11.4739408094\n",
      "2918.0 \t 0.11 \t 12.6696148109\n",
      "2940.0 \t 0.37 \t 10.2435695312\n",
      "3024.0 \t 0.26 \t 10.9492122804\n",
      "3134.0 \t 0.12 \t 12.4955920569\n",
      "3190.0 \t 0.27 \t 10.8737316245\n",
      "3257.0 \t 0.09 \t 13.0709562018\n",
      "3364.0 \t 0.06 \t 13.881886418\n",
      "3482.0 \t 0.11 \t 12.6696148109\n",
      "3504.0 \t 0.07 \t 13.5735850584\n",
      "3540.0 \t 0.25 \t 11.0276537067\n",
      "3589.0 \t 0.48 \t 9.72300333465\n",
      "3634.0 \t 0.11 \t 12.6696148109\n",
      "3695.0 \t 0.24 \t 11.1092976958\n",
      "3798.0 \t 0.21 \t 11.376360481\n",
      "3848.0 \t 0.53 \t 9.52482152936\n",
      "3932.0 \t 0.22 \t 11.2833204497\n",
      "4034.0 \t 0.13 \t 12.3355066415\n",
      "4071.0 \t 0.27 \t 10.8737316245\n",
      "4109.0 \t 0.04 \t 14.6928166342\n",
      "4179.0 \t 0.12 \t 12.4955920569\n",
      "4218.0 \t 0.14 \t 12.1872906972\n",
      "4268.0 \t 0.34 \t 10.4126843072\n",
      "4306.0 \t 0.21 \t 11.376360481\n",
      "4466.0 \t 0.1 \t 12.8602351705\n",
      "4499.0 \t 0.19 \t 11.5765273981\n",
      "4536.0 \t 0.06 \t 13.881886418\n",
      "4668.0 \t 0.04 \t 14.6928166342\n",
      "4699.0 \t 0.19 \t 11.5765273981\n",
      "4738.0 \t 0.16 \t 11.920227912\n",
      "4801.0 \t 0.3 \t 10.6630105931\n",
      "4841.0 \t 0.28 \t 10.8009963361\n",
      "4941.0 \t 0.12 \t 12.4955920569\n",
      "4978.0 \t 0.16 \t 11.920227912\n"
     ]
    }
   ],
   "source": [
    "logft=logft_calc(BGT['B(GT)'].values)\n",
    "print('Ex', '\\t', 'BGT_value', '\\t', 'logft')\n",
    "for (Ex, BGT_value, logft) in zip(BGT['Ex'].values, BGT['B(GT)'].values, logft):\n",
    "    print(Ex, '\\t', BGT_value, '\\t', logft)"
   ]
  },
  {
   "cell_type": "code",
   "execution_count": null,
   "metadata": {},
   "outputs": [],
   "source": []
  }
 ],
 "metadata": {
  "kernelspec": {
   "display_name": "Python 3",
   "language": "python",
   "name": "python3"
  },
  "language_info": {
   "codemirror_mode": {
    "name": "ipython",
    "version": 3
   },
   "file_extension": ".py",
   "mimetype": "text/x-python",
   "name": "python",
   "nbconvert_exporter": "python",
   "pygments_lexer": "ipython3",
   "version": "3.5.2"
  }
 },
 "nbformat": 4,
 "nbformat_minor": 2
}

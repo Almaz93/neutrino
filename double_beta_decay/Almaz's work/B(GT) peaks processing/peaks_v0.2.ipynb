{
 "cells": [
  {
   "cell_type": "code",
   "execution_count": 1,
   "metadata": {},
   "outputs": [
    {
     "name": "stdout",
     "output_type": "stream",
     "text": [
      "Populating the interactive namespace from numpy and matplotlib\n"
     ]
    }
   ],
   "source": [
    "import numpy as np\n",
    "import pandas as pd \n",
    "import matplotlib.pyplot as plt\n",
    "import os\n",
    "%pylab inline"
   ]
  },
  {
   "cell_type": "code",
   "execution_count": 2,
   "metadata": {},
   "outputs": [],
   "source": [
    "def FWHM(X,Y):\n",
    "    half_max = max(Y) / 2.\n",
    "    #find when function crosses line half_max (when sign of diff flips)\n",
    "    #take the 'derivative' of signum(half_max - Y[])\n",
    "    d = sign(half_max - array(Y[0:-1])) - sign(half_max - array(Y[1:]))\n",
    "    #plt.plot(X,d) #if you are interested\n",
    "    #find the left and right most indexes\n",
    "    left_idx = find(d > 0)[0]\n",
    "    right_idx = find(d < 0)[-1]\n",
    "    return X[right_idx] - X[left_idx] #return the difference (full width)"
   ]
  },
  {
   "cell_type": "code",
   "execution_count": 3,
   "metadata": {},
   "outputs": [],
   "source": [
    "def gaussian(x, amp, cen, wid):\n",
    "    \"1-d gaussian: gaussian(x, amp, cen, wid)\"\n",
    "    return (amp/(np.sqrt(2*np.pi)*wid)) * np.exp(-(x-cen)**2 /(2*wid**2))"
   ]
  },
  {
   "cell_type": "code",
   "execution_count": 4,
   "metadata": {},
   "outputs": [],
   "source": [
    "from lmfit import  Model\n",
    "\n",
    "def FWHM_gauss(x,y):\n",
    "    gmodel = Model(gaussian)\n",
    "    result = gmodel.fit(y, x=x, cen=1, amp=1, wid=1)\n",
    "    return 2*np.sqrt(2*np.log(2))*result.values['wid']"
   ]
  },
  {
   "cell_type": "code",
   "execution_count": 5,
   "metadata": {},
   "outputs": [],
   "source": [
    "def peak_area(data):\n",
    "    #fwhm=FWHM_gauss(data['x'], data['Curve1'])\n",
    "    fwhm=FWHM(data['x'], data['Curve1'])\n",
    "    print(fwhm)\n",
    "    max_height=max(data['Curve1'])\n",
    "    plt.plot(data['x'], data['Curve1'])\n",
    "    return max_height*fwhm"
   ]
  },
  {
   "cell_type": "code",
   "execution_count": 6,
   "metadata": {},
   "outputs": [
    {
     "name": "stdout",
     "output_type": "stream",
     "text": [
      "['1.063', '3.848', '0.086', '1.693', '2.537', '3.589']\n",
      "0.03871\n",
      "0.09121\n",
      "0.0376614\n",
      "0.04355\n",
      "0.04778\n",
      "0.12959\n"
     ]
    },
    {
     "data": {
      "image/png": "[encoded data removed]",
      "text/plain": [
       "<matplotlib.figure.Figure at 0x7fb8a5017cc0>"
      ]
     },
     "metadata": {},
     "output_type": "display_data"
    }
   ],
   "source": [
    "red_names=[name for name in os.listdir('peaks/red') if name.startswith('.') == False]\n",
    "red=[[],[]]\n",
    "print(red_names)\n",
    "for i in red_names:\n",
    "    #print(i)\n",
    "    data=pd.read_csv('peaks/red/'+i, sep=',')\n",
    "    red[0].append(float(i))\n",
    "    red[1].append( peak_area(data) )"
   ]
  },
  {
   "cell_type": "code",
   "execution_count": 7,
   "metadata": {},
   "outputs": [
    {
     "data": {
      "text/plain": [
       "[[1.063, 3.848, 0.086, 1.693, 2.537, 3.589],\n",
       " [0.22287669600000012,\n",
       "  0.19051397540000051,\n",
       "  0.18447043318200007,\n",
       "  0.091321301499999952,\n",
       "  0.084732096399999873,\n",
       "  0.27386384290000065]]"
      ]
     },
     "execution_count": 7,
     "metadata": {},
     "output_type": "execute_result"
    }
   ],
   "source": [
    "red"
   ]
  },
  {
   "cell_type": "code",
   "execution_count": 8,
   "metadata": {},
   "outputs": [
    {
     "name": "stdout",
     "output_type": "stream",
     "text": [
      "0.03444\n",
      "0.11195\n",
      "0.0397027\n",
      "0.06028\n",
      "0.0732\n",
      "0.12917\n"
     ]
    },
    {
     "data": {
      "image/png": "[encoded data removed]",
      "text/plain": [
       "<matplotlib.figure.Figure at 0x7fb8701b98d0>"
      ]
     },
     "metadata": {},
     "output_type": "display_data"
    }
   ],
   "source": [
    "yellow_names=[name for name in os.listdir('peaks/yellow') if name.startswith('.') == False]\n",
    "yellow=[[],[]]\n",
    "for i in yellow_names:\n",
    "    #print(i)\n",
    "    data=pd.read_csv('peaks/yellow/'+i, sep=',')\n",
    "    yellow[0].append(float(i))\n",
    "    yellow[1].append( peak_area(data) )"
   ]
  },
  {
   "cell_type": "code",
   "execution_count": 9,
   "metadata": {},
   "outputs": [
    {
     "data": {
      "text/plain": [
       "[[1.063, 3.848, 0.086, 1.693, 2.537, 3.589],\n",
       " [0.1432965744000001,\n",
       "  0.16938482799999965,\n",
       "  0.12878325096300003,\n",
       "  0.094153140400000168,\n",
       "  0.092843952000000465,\n",
       "  0.1905993768999997]]"
      ]
     },
     "execution_count": 9,
     "metadata": {},
     "output_type": "execute_result"
    }
   ],
   "source": [
    "yellow"
   ]
  },
  {
   "cell_type": "code",
   "execution_count": 10,
   "metadata": {},
   "outputs": [
    {
     "name": "stdout",
     "output_type": "stream",
     "text": [
      "0.04736\n",
      "0.09904\n",
      "0.0387517\n",
      "0.05598\n",
      "0.06458\n",
      "0.16362\n"
     ]
    },
    {
     "data": {
      "image/png": "[encoded data removed]",
      "text/plain": [
       "<matplotlib.figure.Figure at 0x7fb870140278>"
      ]
     },
     "metadata": {},
     "output_type": "display_data"
    }
   ],
   "source": [
    "purple_names=[name for name in os.listdir('peaks/purple') if name.startswith('.') == False]\n",
    "purple=[[],[]]\n",
    "for i in purple_names:\n",
    "    #print(i)\n",
    "    data=pd.read_csv('peaks/purple/'+i, sep=',')\n",
    "    purple[0].append(float(i))\n",
    "    purple[1].append( peak_area(data) )"
   ]
  },
  {
   "cell_type": "code",
   "execution_count": 11,
   "metadata": {},
   "outputs": [
    {
     "data": {
      "text/plain": [
       "[[1.063, 3.848, 0.086, 1.693, 2.537, 3.589],\n",
       " [0.11139782400000016,\n",
       "  0.10435844800000002,\n",
       "  0.076927937254999995,\n",
       "  0.051392271060000126,\n",
       "  0.053836148300000254,\n",
       "  0.16627882499999988]]"
      ]
     },
     "execution_count": 11,
     "metadata": {},
     "output_type": "execute_result"
    }
   ],
   "source": [
    "purple"
   ]
  },
  {
   "cell_type": "code",
   "execution_count": 12,
   "metadata": {},
   "outputs": [],
   "source": [
    "B_GT=pd.read_csv('clear_B(GT).csv', sep=',')\n",
    "B_GT_list = B_GT['B(GT)'].loc[B_GT['Ex'].isin(np.array(red[0])*1000)].values"
   ]
  },
  {
   "cell_type": "code",
   "execution_count": 13,
   "metadata": {},
   "outputs": [
    {
     "data": {
      "image/png": "[encoded data removed]",
      "text/plain": [
       "<matplotlib.figure.Figure at 0x7fb87013f5f8>"
      ]
     },
     "metadata": {},
     "output_type": "display_data"
    }
   ],
   "source": [
    "plt.scatter(red[0], np.array(red[1]), c='red', label='red peaks') \n",
    "#plt.scatter(yellow[0], np.array(yellow[1])*9, c='yellow', label='yellow peaks') \n",
    "#plt.scatter(purple[0], np.array(purple[1]), c='purple', label='purple peaks')\n",
    "plt.scatter(sorted(red[0]), B_GT_list, label='B(GT)')\n",
    "plt.xlabel('$E_x$, meV')\n",
    "plt.ylabel('B(GT) and peak area value')\n",
    "plt.legend()\n",
    "plt.savefig('1.png', dpi=500)"
   ]
  },
  {
   "cell_type": "markdown",
   "metadata": {},
   "source": [
    "### diff cross sec"
   ]
  },
  {
   "cell_type": "code",
   "execution_count": 15,
   "metadata": {},
   "outputs": [
    {
     "data": {
      "text/html": [
       "<div>\n",
       "<style>\n",
       "    .dataframe thead tr:only-child th {\n",
       "        text-align: right;\n",
       "    }\n",
       "\n",
       "    .dataframe thead th {\n",
       "        text-align: left;\n",
       "    }\n",
       "\n",
       "    .dataframe tbody tr th {\n",
       "        vertical-align: top;\n",
       "    }\n",
       "</style>\n",
       "<table border=\"1\" class=\"dataframe\">\n",
       "  <thead>\n",
       "    <tr style=\"text-align: right;\">\n",
       "      <th></th>\n",
       "      <th>Unnamed: 0</th>\n",
       "      <th>Ex</th>\n",
       "      <th>Jpi</th>\n",
       "      <th>diff cross-sec</th>\n",
       "      <th>B(GT)</th>\n",
       "    </tr>\n",
       "  </thead>\n",
       "  <tbody>\n",
       "    <tr>\n",
       "      <th>0</th>\n",
       "      <td>1</td>\n",
       "      <td>86.0</td>\n",
       "      <td>1</td>\n",
       "      <td>1.173</td>\n",
       "      <td>1.20</td>\n",
       "    </tr>\n",
       "    <tr>\n",
       "      <th>1</th>\n",
       "      <td>2</td>\n",
       "      <td>120.0</td>\n",
       "      <td>1</td>\n",
       "      <td>0.318</td>\n",
       "      <td>0.33</td>\n",
       "    </tr>\n",
       "    <tr>\n",
       "      <th>2</th>\n",
       "      <td>3</td>\n",
       "      <td>265.0</td>\n",
       "      <td>1</td>\n",
       "      <td>0.113</td>\n",
       "      <td>0.10</td>\n",
       "    </tr>\n",
       "    <tr>\n",
       "      <th>3</th>\n",
       "      <td>5</td>\n",
       "      <td>500.0</td>\n",
       "      <td>[1+, 2−]</td>\n",
       "      <td>0.621</td>\n",
       "      <td>0.45</td>\n",
       "    </tr>\n",
       "    <tr>\n",
       "      <th>4</th>\n",
       "      <td>31</td>\n",
       "      <td>513.8</td>\n",
       "      <td>1</td>\n",
       "      <td>0.725</td>\n",
       "      <td>0.71</td>\n",
       "    </tr>\n",
       "  </tbody>\n",
       "</table>\n",
       "</div>"
      ],
      "text/plain": [
       "   Unnamed: 0     Ex        Jpi  diff cross-sec  B(GT)\n",
       "0           1   86.0          1           1.173   1.20\n",
       "1           2  120.0          1           0.318   0.33\n",
       "2           3  265.0          1           0.113   0.10\n",
       "3           5  500.0   [1+, 2−]           0.621   0.45\n",
       "4          31  513.8          1           0.725   0.71"
      ]
     },
     "execution_count": 15,
     "metadata": {},
     "output_type": "execute_result"
    }
   ],
   "source": [
    "B_GT.head()"
   ]
  },
  {
   "cell_type": "code",
   "execution_count": 16,
   "metadata": {},
   "outputs": [],
   "source": [
    "cross_sec_list = B_GT['diff cross-sec'].loc[B_GT['Ex'].isin(np.array(red[0])*1000)].values"
   ]
  },
  {
   "cell_type": "code",
   "execution_count": 17,
   "metadata": {},
   "outputs": [
    {
     "data": {
      "image/png": "[encoded data removed]",
      "text/plain": [
       "<matplotlib.figure.Figure at 0x7fb87002c550>"
      ]
     },
     "metadata": {},
     "output_type": "display_data"
    }
   ],
   "source": [
    "plt.scatter(red[0], np.array(red[1]), c='red', label='red peaks') \n",
    "#plt.scatter(yellow[0], np.array(yellow[1])*9, c='yellow', label='yellow peaks') \n",
    "#plt.scatter(purple[0], np.array(purple[1]), c='purple', label='purple peaks')\n",
    "plt.scatter(sorted(red[0]), cross_sec_list, label='cross sec')\n",
    "plt.xlabel('$E_x$, meV')\n",
    "plt.ylabel('B(GT) and peak area value')\n",
    "plt.legend()\n",
    "plt.savefig('1.png', dpi=500)"
   ]
  },
  {
   "cell_type": "code",
   "execution_count": null,
   "metadata": {},
   "outputs": [],
   "source": []
  }
 ],
 "metadata": {
  "kernelspec": {
   "display_name": "Python 3",
   "language": "python",
   "name": "python3"
  },
  "language_info": {
   "codemirror_mode": {
    "name": "ipython",
    "version": 3
   },
   "file_extension": ".py",
   "mimetype": "text/x-python",
   "name": "python",
   "nbconvert_exporter": "python",
   "pygments_lexer": "ipython3",
   "version": "3.5.2"
  }
 },
 "nbformat": 4,
 "nbformat_minor": 2
}

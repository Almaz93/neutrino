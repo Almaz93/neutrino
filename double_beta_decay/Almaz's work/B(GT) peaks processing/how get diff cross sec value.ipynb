{
 "cells": [
  {
   "cell_type": "code",
   "execution_count": 1,
   "metadata": {},
   "outputs": [
    {
     "name": "stdout",
     "output_type": "stream",
     "text": [
      "Populating the interactive namespace from numpy and matplotlib\n"
     ]
    }
   ],
   "source": [
    "import numpy as np\n",
    "import pandas as pd \n",
    "import matplotlib.pyplot as plt\n",
    "import os\n",
    "%pylab inline\n",
    "\n",
    "from scipy.integrate import simps"
   ]
  },
  {
   "cell_type": "markdown",
   "metadata": {},
   "source": [
    "### data from timofey"
   ]
  },
  {
   "cell_type": "code",
   "execution_count": 2,
   "metadata": {},
   "outputs": [],
   "source": [
    "data = pd.read_excel('data from Timofey/S-beta_bb_Ge-76_Red.xlsx')"
   ]
  },
  {
   "cell_type": "code",
   "execution_count": 3,
   "metadata": {},
   "outputs": [
    {
     "name": "stdout",
     "output_type": "stream",
     "text": [
      "<class 'pandas.core.frame.DataFrame'>\n",
      "RangeIndex: 1715 entries, 0 to 1714\n",
      "Data columns (total 8 columns):\n",
      "False Energy      1000 non-null float64\n",
      "S                 1000 non-null float64\n",
      "False Energy.1    539 non-null float64\n",
      "Unnamed: 3        461 non-null float64\n",
      "True Energy       1000 non-null float64\n",
      "Square            1715 non-null float64\n",
      "0                 1715 non-null float64\n",
      "Unnamed: 7        4 non-null object\n",
      "dtypes: float64(7), object(1)\n",
      "memory usage: 107.3+ KB\n"
     ]
    }
   ],
   "source": [
    "data.info()"
   ]
  },
  {
   "cell_type": "code",
   "execution_count": 4,
   "metadata": {},
   "outputs": [
    {
     "data": {
      "text/plain": [
       "[<matplotlib.lines.Line2D at 0x7f211ce2c390>]"
      ]
     },
     "execution_count": 4,
     "metadata": {},
     "output_type": "execute_result"
    },
    {
     "data": {
      "image/png": "[encoded data removed]",
      "text/plain": [
       "<matplotlib.figure.Figure at 0x7f20e1701390>"
      ]
     },
     "metadata": {},
     "output_type": "display_data"
    }
   ],
   "source": [
    "plt.plot(data['True Energy'], data['S'])"
   ]
  },
  {
   "cell_type": "code",
   "execution_count": 7,
   "metadata": {},
   "outputs": [
    {
     "data": {
      "text/plain": [
       "[<matplotlib.lines.Line2D at 0x7f20df36c080>]"
      ]
     },
     "execution_count": 7,
     "metadata": {},
     "output_type": "execute_result"
    },
    {
     "data": {
      "image/png": "[encoded data removed]",
      "text/plain": [
       "<matplotlib.figure.Figure at 0x7f20e168f240>"
      ]
     },
     "metadata": {},
     "output_type": "display_data"
    }
   ],
   "source": [
    "data_less = data[ data['True Energy'] <= 1 ]\n",
    "plt.plot(data_less['True Energy'], data_less['S'])"
   ]
  },
  {
   "cell_type": "markdown",
   "metadata": {},
   "source": [
    "не очень хорошо т.к. в оригинальном спектре между 0 и 1 есть 9 пиков"
   ]
  },
  {
   "cell_type": "markdown",
   "metadata": {},
   "source": [
    "### my data"
   ]
  },
  {
   "cell_type": "markdown",
   "metadata": {},
   "source": [
    "my_data - вручную оцифрованные данные пиков"
   ]
  },
  {
   "cell_type": "code",
   "execution_count": 110,
   "metadata": {},
   "outputs": [
    {
     "name": "stdout",
     "output_type": "stream",
     "text": [
      "<class 'pandas.core.frame.DataFrame'>\n",
      "RangeIndex: 256 entries, 0 to 255\n",
      "Data columns (total 2 columns):\n",
      "x         256 non-null float64\n",
      "Curve1    256 non-null float64\n",
      "dtypes: float64(2)\n",
      "memory usage: 4.1 KB\n"
     ]
    }
   ],
   "source": [
    "my_data = pd.read_csv('spectre_modified_2.csv')\n",
    "my_data.info()"
   ]
  },
  {
   "cell_type": "markdown",
   "metadata": {},
   "source": [
    "считаем значения из таблицы bgt"
   ]
  },
  {
   "cell_type": "code",
   "execution_count": 111,
   "metadata": {},
   "outputs": [
    {
     "name": "stdout",
     "output_type": "stream",
     "text": [
      "<class 'pandas.core.frame.DataFrame'>\n",
      "RangeIndex: 73 entries, 0 to 72\n",
      "Data columns (total 5 columns):\n",
      "Unnamed: 0        73 non-null int64\n",
      "Ex                73 non-null float64\n",
      "Jpi               73 non-null object\n",
      "diff cross-sec    73 non-null float64\n",
      "B(GT)             73 non-null float64\n",
      "dtypes: float64(3), int64(1), object(1)\n",
      "memory usage: 2.9+ KB\n"
     ]
    }
   ],
   "source": [
    "bgt = pd.read_csv('clear_B(GT).csv', sep=',')\n",
    "bgt.info()\n",
    "\n",
    "bgt_less = bgt[ bgt['Ex'] < 2000 ]"
   ]
  },
  {
   "cell_type": "code",
   "execution_count": 112,
   "metadata": {},
   "outputs": [
    {
     "name": "stderr",
     "output_type": "stream",
     "text": [
      "/usr/local/lib/python3.5/dist-packages/ipykernel_launcher.py:1: SettingWithCopyWarning: \n",
      "A value is trying to be set on a copy of a slice from a DataFrame.\n",
      "Try using .loc[row_indexer,col_indexer] = value instead\n",
      "\n",
      "See the caveats in the documentation: http://pandas.pydata.org/pandas-docs/stable/indexing.html#indexing-view-versus-copy\n",
      "  \"\"\"Entry point for launching an IPython kernel.\n"
     ]
    }
   ],
   "source": [
    "bgt_less['Ex'] = bgt_less['Ex']/1000"
   ]
  },
  {
   "cell_type": "code",
   "execution_count": 115,
   "metadata": {},
   "outputs": [
    {
     "data": {
      "text/plain": [
       "<matplotlib.text.Text at 0x7fc11c521358>"
      ]
     },
     "execution_count": 115,
     "metadata": {},
     "output_type": "execute_result"
    },
    {
     "data": {
      "image/png": "[encoded data removed]",
      "text/plain": [
       "<matplotlib.figure.Figure at 0x7fc11c4525c0>"
      ]
     },
     "metadata": {},
     "output_type": "display_data"
    }
   ],
   "source": [
    "plt.figure(figsize=(5,7))\n",
    "plt.plot(my_data['x'], my_data['Curve1'])\n",
    "plt.scatter(bgt_less['Ex'], bgt_less['diff cross-sec'], marker='x')\n",
    "plt.xlabel('$E_x$ in MeV')"
   ]
  },
  {
   "cell_type": "markdown",
   "metadata": {},
   "source": [
    "из bgt_less уберем значения с Jpi != 1"
   ]
  },
  {
   "cell_type": "code",
   "execution_count": 117,
   "metadata": {},
   "outputs": [
    {
     "data": {
      "text/html": [
       "<div>\n",
       "<style>\n",
       "    .dataframe thead tr:only-child th {\n",
       "        text-align: right;\n",
       "    }\n",
       "\n",
       "    .dataframe thead th {\n",
       "        text-align: left;\n",
       "    }\n",
       "\n",
       "    .dataframe tbody tr th {\n",
       "        vertical-align: top;\n",
       "    }\n",
       "</style>\n",
       "<table border=\"1\" class=\"dataframe\">\n",
       "  <thead>\n",
       "    <tr style=\"text-align: right;\">\n",
       "      <th></th>\n",
       "      <th>Unnamed: 0</th>\n",
       "      <th>Ex</th>\n",
       "      <th>Jpi</th>\n",
       "      <th>diff cross-sec</th>\n",
       "      <th>B(GT)</th>\n",
       "    </tr>\n",
       "  </thead>\n",
       "  <tbody>\n",
       "    <tr>\n",
       "      <th>0</th>\n",
       "      <td>1</td>\n",
       "      <td>0.0860</td>\n",
       "      <td>1</td>\n",
       "      <td>1.173</td>\n",
       "      <td>1.20</td>\n",
       "    </tr>\n",
       "    <tr>\n",
       "      <th>1</th>\n",
       "      <td>2</td>\n",
       "      <td>0.1200</td>\n",
       "      <td>1</td>\n",
       "      <td>0.318</td>\n",
       "      <td>0.33</td>\n",
       "    </tr>\n",
       "    <tr>\n",
       "      <th>2</th>\n",
       "      <td>3</td>\n",
       "      <td>0.2650</td>\n",
       "      <td>1</td>\n",
       "      <td>0.113</td>\n",
       "      <td>0.10</td>\n",
       "    </tr>\n",
       "    <tr>\n",
       "      <th>4</th>\n",
       "      <td>31</td>\n",
       "      <td>0.5138</td>\n",
       "      <td>1</td>\n",
       "      <td>0.725</td>\n",
       "      <td>0.71</td>\n",
       "    </tr>\n",
       "    <tr>\n",
       "      <th>8</th>\n",
       "      <td>9</td>\n",
       "      <td>0.8640</td>\n",
       "      <td>1</td>\n",
       "      <td>0.284</td>\n",
       "      <td>0.25</td>\n",
       "    </tr>\n",
       "    <tr>\n",
       "      <th>9</th>\n",
       "      <td>10</td>\n",
       "      <td>0.9360</td>\n",
       "      <td>1</td>\n",
       "      <td>0.209</td>\n",
       "      <td>0.18</td>\n",
       "    </tr>\n",
       "    <tr>\n",
       "      <th>11</th>\n",
       "      <td>12</td>\n",
       "      <td>1.0630</td>\n",
       "      <td>1</td>\n",
       "      <td>1.230</td>\n",
       "      <td>1.36</td>\n",
       "    </tr>\n",
       "    <tr>\n",
       "      <th>12</th>\n",
       "      <td>13</td>\n",
       "      <td>1.0980</td>\n",
       "      <td>1</td>\n",
       "      <td>0.157</td>\n",
       "      <td>0.15</td>\n",
       "    </tr>\n",
       "    <tr>\n",
       "      <th>13</th>\n",
       "      <td>14</td>\n",
       "      <td>1.1570</td>\n",
       "      <td>1</td>\n",
       "      <td>0.495</td>\n",
       "      <td>0.56</td>\n",
       "    </tr>\n",
       "    <tr>\n",
       "      <th>14</th>\n",
       "      <td>15</td>\n",
       "      <td>1.2350</td>\n",
       "      <td>1</td>\n",
       "      <td>0.298</td>\n",
       "      <td>0.28</td>\n",
       "    </tr>\n",
       "    <tr>\n",
       "      <th>15</th>\n",
       "      <td>16</td>\n",
       "      <td>1.3530</td>\n",
       "      <td>1</td>\n",
       "      <td>0.615</td>\n",
       "      <td>0.62</td>\n",
       "    </tr>\n",
       "    <tr>\n",
       "      <th>16</th>\n",
       "      <td>17</td>\n",
       "      <td>1.4750</td>\n",
       "      <td>1</td>\n",
       "      <td>0.260</td>\n",
       "      <td>0.21</td>\n",
       "    </tr>\n",
       "    <tr>\n",
       "      <th>20</th>\n",
       "      <td>22</td>\n",
       "      <td>1.6930</td>\n",
       "      <td>1</td>\n",
       "      <td>0.451</td>\n",
       "      <td>0.49</td>\n",
       "    </tr>\n",
       "    <tr>\n",
       "      <th>21</th>\n",
       "      <td>23</td>\n",
       "      <td>1.7180</td>\n",
       "      <td>1</td>\n",
       "      <td>0.125</td>\n",
       "      <td>0.13</td>\n",
       "    </tr>\n",
       "    <tr>\n",
       "      <th>22</th>\n",
       "      <td>24</td>\n",
       "      <td>1.7920</td>\n",
       "      <td>1</td>\n",
       "      <td>0.159</td>\n",
       "      <td>0.13</td>\n",
       "    </tr>\n",
       "    <tr>\n",
       "      <th>23</th>\n",
       "      <td>25</td>\n",
       "      <td>1.8520</td>\n",
       "      <td>1</td>\n",
       "      <td>0.326</td>\n",
       "      <td>0.33</td>\n",
       "    </tr>\n",
       "    <tr>\n",
       "      <th>24</th>\n",
       "      <td>26</td>\n",
       "      <td>1.9020</td>\n",
       "      <td>1</td>\n",
       "      <td>0.379</td>\n",
       "      <td>0.45</td>\n",
       "    </tr>\n",
       "    <tr>\n",
       "      <th>26</th>\n",
       "      <td>28</td>\n",
       "      <td>1.9870</td>\n",
       "      <td>1</td>\n",
       "      <td>0.094</td>\n",
       "      <td>0.10</td>\n",
       "    </tr>\n",
       "  </tbody>\n",
       "</table>\n",
       "</div>"
      ],
      "text/plain": [
       "    Unnamed: 0      Ex Jpi  diff cross-sec  B(GT)\n",
       "0            1  0.0860   1           1.173   1.20\n",
       "1            2  0.1200   1           0.318   0.33\n",
       "2            3  0.2650   1           0.113   0.10\n",
       "4           31  0.5138   1           0.725   0.71\n",
       "8            9  0.8640   1           0.284   0.25\n",
       "9           10  0.9360   1           0.209   0.18\n",
       "11          12  1.0630   1           1.230   1.36\n",
       "12          13  1.0980   1           0.157   0.15\n",
       "13          14  1.1570   1           0.495   0.56\n",
       "14          15  1.2350   1           0.298   0.28\n",
       "15          16  1.3530   1           0.615   0.62\n",
       "16          17  1.4750   1           0.260   0.21\n",
       "20          22  1.6930   1           0.451   0.49\n",
       "21          23  1.7180   1           0.125   0.13\n",
       "22          24  1.7920   1           0.159   0.13\n",
       "23          25  1.8520   1           0.326   0.33\n",
       "24          26  1.9020   1           0.379   0.45\n",
       "26          28  1.9870   1           0.094   0.10"
      ]
     },
     "execution_count": 117,
     "metadata": {},
     "output_type": "execute_result"
    }
   ],
   "source": [
    "bgt_less = bgt_less[ bgt_less['Jpi'] == '1' ]\n",
    "bgt_less"
   ]
  },
  {
   "cell_type": "code",
   "execution_count": 119,
   "metadata": {},
   "outputs": [
    {
     "data": {
      "text/plain": [
       "<matplotlib.text.Text at 0x7fc11c3054a8>"
      ]
     },
     "execution_count": 119,
     "metadata": {},
     "output_type": "execute_result"
    },
    {
     "data": {
      "image/png": "[encoded data removed]",
      "text/plain": [
       "<matplotlib.figure.Figure at 0x7fc11c1d9eb8>"
      ]
     },
     "metadata": {},
     "output_type": "display_data"
    }
   ],
   "source": [
    "plt.figure(figsize=(6,7))\n",
    "plt.plot(my_data['x'], my_data['Curve1'])\n",
    "plt.scatter(bgt_less['Ex'], bgt_less['diff cross-sec'], marker='x')\n",
    "plt.xlabel('$E_x$ in MeV')"
   ]
  },
  {
   "cell_type": "markdown",
   "metadata": {},
   "source": [
    "### Гипотеза №1\n",
    "d_sigma/d_omega пропорциональна площади под пиком"
   ]
  },
  {
   "cell_type": "markdown",
   "metadata": {},
   "source": [
    "функция для вычисления площади пика"
   ]
  },
  {
   "cell_type": "code",
   "execution_count": 120,
   "metadata": {},
   "outputs": [],
   "source": [
    "def peak_area(df, a, b):\n",
    "    data = df[ df['x'].between(a, b) ] #selecting data in given (a,b) interval\n",
    "    return simps(data['Curve1'].values, data['x'].values) #integrate"
   ]
  },
  {
   "cell_type": "markdown",
   "metadata": {},
   "source": [
    "выберем несколько пиков и посчитаем площадь под ними"
   ]
  },
  {
   "cell_type": "code",
   "execution_count": 121,
   "metadata": {},
   "outputs": [],
   "source": [
    "selected_peaks = [ 265, 864, 936, 1157, 1235, 1353, 1475, 1792, 1852, 1987 ] "
   ]
  },
  {
   "cell_type": "code",
   "execution_count": 122,
   "metadata": {},
   "outputs": [],
   "source": [
    "a_265 = peak_area(my_data, 0.22, 0.32)\n",
    "a_864 = peak_area(my_data, 0.82, 0.895)\n",
    "a_936 = peak_area(my_data, 0.9, 0.98)\n",
    "a_1157 = peak_area(my_data, 1.12, 1.2)\n",
    "a_1235 = peak_area(my_data, 1.21, 1.27)\n",
    "a_1353 = peak_area(my_data, 1.3, 1.41)\n",
    "a_1475 = peak_area(my_data, 1.42, 1.5)\n",
    "a_1792 = peak_area(my_data, 1.76, 1.83)\n",
    "a_1852 = peak_area(my_data, 1.832, 1.88)\n",
    "a_1987 = peak_area(my_data, 1.97, 2.02)\n",
    "\n",
    "selected_areas = [ a_265, a_864, a_936, a_1157, a_1235, a_1353, a_1475, a_1792, a_1852, a_1987 ]"
   ]
  },
  {
   "cell_type": "markdown",
   "metadata": {},
   "source": [
    "получим значения d_sigma/d_omega для отобранных пиков "
   ]
  },
  {
   "cell_type": "code",
   "execution_count": 123,
   "metadata": {},
   "outputs": [],
   "source": [
    "cross_sec = bgt[ bgt['Ex'].isin(selected_peaks) ]['diff cross-sec'].values"
   ]
  },
  {
   "cell_type": "markdown",
   "metadata": {},
   "source": [
    "отрисуем отношение площади под пиком на d_sigma/d_omega"
   ]
  },
  {
   "cell_type": "code",
   "execution_count": 124,
   "metadata": {},
   "outputs": [
    {
     "data": {
      "text/plain": [
       "<matplotlib.text.Text at 0x7fc11c466e10>"
      ]
     },
     "execution_count": 124,
     "metadata": {},
     "output_type": "execute_result"
    },
    {
     "data": {
      "image/png": "[encoded data removed]",
      "text/plain": [
       "<matplotlib.figure.Figure at 0x7fc11c202cf8>"
      ]
     },
     "metadata": {},
     "output_type": "display_data"
    }
   ],
   "source": [
    "a = np.array(selected_areas) / cross_sec\n",
    "plt.scatter(selected_peaks, a)\n",
    "plt.xlabel('$E_x$ in MeV')"
   ]
  },
  {
   "cell_type": "markdown",
   "metadata": {},
   "source": [
    "посчитаем коэф. для мнк прямой"
   ]
  },
  {
   "cell_type": "code",
   "execution_count": 125,
   "metadata": {},
   "outputs": [
    {
     "name": "stdout",
     "output_type": "stream",
     "text": [
      "2.82807223402e-05 0.149378696472\n"
     ]
    }
   ],
   "source": [
    "line_fit_coef = np.polyfit(selected_peaks, a, deg = 1)\n",
    "print(line_fit_coef[0], line_fit_coef[1])"
   ]
  },
  {
   "cell_type": "code",
   "execution_count": 127,
   "metadata": {},
   "outputs": [
    {
     "data": {
      "text/plain": [
       "<matplotlib.text.Text at 0x7fc11c152fd0>"
      ]
     },
     "execution_count": 127,
     "metadata": {},
     "output_type": "execute_result"
    },
    {
     "data": {
      "image/png": "[encoded data removed]",
      "text/plain": [
       "<matplotlib.figure.Figure at 0x7fc11c0aca20>"
      ]
     },
     "metadata": {},
     "output_type": "display_data"
    }
   ],
   "source": [
    "x = np.arange(0, 2000, 100)\n",
    "y = line_fit_coef[0]*x + line_fit_coef[1]\n",
    "\n",
    "plt.scatter(selected_peaks, a)\n",
    "plt.plot(x, y)        \n",
    "plt.xlabel('$E_x$ in MeV')"
   ]
  },
  {
   "cell_type": "markdown",
   "metadata": {},
   "source": [
    "без последних трех точек"
   ]
  },
  {
   "cell_type": "code",
   "execution_count": 129,
   "metadata": {},
   "outputs": [
    {
     "name": "stdout",
     "output_type": "stream",
     "text": [
      "-1.76184681551e-06 0.176684536754\n"
     ]
    }
   ],
   "source": [
    "line_fit_coef = np.polyfit(selected_peaks[:-3], a[:-3], deg = 1)\n",
    "print(line_fit_coef[0], line_fit_coef[1])"
   ]
  },
  {
   "cell_type": "code",
   "execution_count": 130,
   "metadata": {},
   "outputs": [
    {
     "data": {
      "text/plain": [
       "<matplotlib.text.Text at 0x7fc11bfd1f98>"
      ]
     },
     "execution_count": 130,
     "metadata": {},
     "output_type": "execute_result"
    },
    {
     "data": {
      "image/png": "[encoded data removed]",
      "text/plain": [
       "<matplotlib.figure.Figure at 0x7fc11bfa3978>"
      ]
     },
     "metadata": {},
     "output_type": "display_data"
    }
   ],
   "source": [
    "x = np.arange(0, 2000, 100)\n",
    "y = line_fit_coef[0]*x + line_fit_coef[1]\n",
    "\n",
    "plt.scatter(selected_peaks, a)\n",
    "plt.plot(x, y) \n",
    "plt.xlabel('$E_x$ in MeV')"
   ]
  },
  {
   "cell_type": "markdown",
   "metadata": {},
   "source": [
    "### Гипотеза №2\n",
    "d_sigma/d_omega пропорциональна высоте пика"
   ]
  },
  {
   "cell_type": "markdown",
   "metadata": {},
   "source": [
    "функция для вычисления высоты пика"
   ]
  },
  {
   "cell_type": "code",
   "execution_count": 97,
   "metadata": {},
   "outputs": [],
   "source": [
    "def peak_height(df, a, b):\n",
    "    data = df[ df['x'].between(a, b) ] #selecting data in given (a,b) interval\n",
    "    return np.max(data['Curve1'].values) "
   ]
  },
  {
   "cell_type": "markdown",
   "metadata": {},
   "source": [
    "выберем несколько пиков и посчитаем их высоту"
   ]
  },
  {
   "cell_type": "code",
   "execution_count": 98,
   "metadata": {},
   "outputs": [],
   "source": [
    "b_265 = peak_height(my_data, 0.22, 0.32)\n",
    "b_864 = peak_height(my_data, 0.82, 0.895)\n",
    "b_936 = peak_height(my_data, 0.9, 0.98)\n",
    "b_1157 = peak_height(my_data, 1.12, 1.2)\n",
    "b_1235 = peak_height(my_data, 1.21, 1.27)\n",
    "b_1353 = peak_height(my_data, 1.3, 1.41)\n",
    "b_1475 = peak_height(my_data, 1.42, 1.5)\n",
    "b_1792 = peak_height(my_data, 1.76, 1.83)\n",
    "b_1852 = peak_height(my_data, 1.832, 1.88)\n",
    "b_1987 = peak_height(my_data, 1.97, 2.02)\n",
    "\n",
    "selected_heights = [ b_265, b_864, b_936, b_1157, b_1235, b_1353, b_1475, b_1792, b_1852, b_1987 ]"
   ]
  },
  {
   "cell_type": "code",
   "execution_count": 131,
   "metadata": {},
   "outputs": [
    {
     "data": {
      "text/plain": [
       "<matplotlib.text.Text at 0x7fc11bf19048>"
      ]
     },
     "execution_count": 131,
     "metadata": {},
     "output_type": "execute_result"
    },
    {
     "data": {
      "image/png": "[encoded data removed]",
      "text/plain": [
       "<matplotlib.figure.Figure at 0x7fc11bf35630>"
      ]
     },
     "metadata": {},
     "output_type": "display_data"
    }
   ],
   "source": [
    "b = np.array(selected_heights) / cross_sec\n",
    "plt.scatter(selected_peaks, b)\n",
    "plt.xlabel('$E_x$ in MeV')"
   ]
  },
  {
   "cell_type": "code",
   "execution_count": 103,
   "metadata": {},
   "outputs": [
    {
     "name": "stdout",
     "output_type": "stream",
     "text": [
      "(0.57449099999999997, 265)\n",
      "(1.1380399999999999, 864)\n",
      "(0.80661400000000005, 936)\n",
      "(2.2081599999999999, 1157)\n",
      "(1.2583299999999999, 1235)\n",
      "(2.4915500000000002, 1353)\n",
      "(0.80052400000000001, 1475)\n",
      "(0.87556800000000001, 1792)\n",
      "(1.1871700000000001, 1852)\n",
      "(0.72078399999999998, 1987)\n"
     ]
    }
   ],
   "source": [
    "for elem in zip(selected_heights, selected_peaks): print(elem)"
   ]
  },
  {
   "cell_type": "code",
   "execution_count": null,
   "metadata": {},
   "outputs": [],
   "source": []
  },
  {
   "cell_type": "code",
   "execution_count": null,
   "metadata": {},
   "outputs": [],
   "source": []
  },
  {
   "cell_type": "code",
   "execution_count": 106,
   "metadata": {},
   "outputs": [
    {
     "data": {
      "text/plain": [
       "0.043052100142367898"
      ]
     },
     "execution_count": 106,
     "metadata": {},
     "output_type": "execute_result"
    }
   ],
   "source": [
    "red = pd.read_csv('1063_red.csv')\n",
    "red_area = peak_area(red, 0, 5)\n",
    "red_area"
   ]
  },
  {
   "cell_type": "code",
   "execution_count": 108,
   "metadata": {},
   "outputs": [
    {
     "data": {
      "text/plain": [
       "0.0093348901825025966"
      ]
     },
     "execution_count": 108,
     "metadata": {},
     "output_type": "execute_result"
    }
   ],
   "source": [
    "blue = pd.read_csv('1063_blue.csv')\n",
    "blue_area = peak_area(blue, 0, 5)\n",
    "blue_area"
   ]
  },
  {
   "cell_type": "code",
   "execution_count": null,
   "metadata": {},
   "outputs": [],
   "source": []
  }
 ],
 "metadata": {
  "kernelspec": {
   "display_name": "Python 3",
   "language": "python",
   "name": "python3"
  },
  "language_info": {
   "codemirror_mode": {
    "name": "ipython",
    "version": 3
   },
   "file_extension": ".py",
   "mimetype": "text/x-python",
   "name": "python",
   "nbconvert_exporter": "python",
   "pygments_lexer": "ipython3",
   "version": "3.5.2"
  }
 },
 "nbformat": 4,
 "nbformat_minor": 2
}
